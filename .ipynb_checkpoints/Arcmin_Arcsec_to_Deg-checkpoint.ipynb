{
 "cells": [
  {
   "cell_type": "code",
   "execution_count": 56,
   "metadata": {
    "collapsed": false
   },
   "outputs": [
    {
     "name": "stdout",
     "output_type": "stream",
     "text": [
      "Asteast -- Dec(degrees): 11.2828888889 | Deg(arcsec): 40618.4\n",
      "Astwest -- Dec(degrees): 11.2904166667 | Deg(arcsec): 40645.5\n",
      "Delta RA(arcsec): 0.00197485623252\n",
      "Delta Dec(arcsec): 27.1\n",
      "Theta: 27.100000072\n",
      "D: 24142899.5669\n"
     ]
    }
   ],
   "source": [
    "import numpy as np\n",
    "\n",
    "def Dec(deg):\n",
    "    return deg[0] + deg[1]/60. + deg[2]/3600.\n",
    "\n",
    "def Dec_arcsec(deg):\n",
    "    return deg*3600\n",
    "\n",
    "def RA_arcsec(delta_RA, deg):\n",
    "    return 15.*delta_RA*np.cos(np.radians(deg))\n",
    "\n",
    "def RA_sec(RA):\n",
    "    return RA[0]*3600 + RA[1]*60 + RA[2]\n",
    "\n",
    "def Theta(deltaRA, deltaDecAS):\n",
    "    return np.sqrt(deltaRA**2 + deltaDecAS**2)\n",
    "\n",
    "def D(theta):\n",
    "    return 206265.*3172./theta\n",
    "\n",
    "deg_e = [11, 16, 58.4]\n",
    "deg_w = [11, 17, 25.5]\n",
    "RA_e = [15, 30, 43.54]\n",
    "RA_w = [15, 30, 38.42]\n",
    "\n",
    "deg_asteast = Dec(deg_e)\n",
    "deg_astwest = Dec(deg_w)\n",
    "DecAS_e = Dec_arcsec(deg_asteast)\n",
    "DecAS_w = Dec_arcsec(deg_astwest)\n",
    "RAs_e = RA_sec(RA_e)\n",
    "RAs_w = RA_sec(RA_w)\n",
    "deltaDecAS = abs(DecAS_e - DecAS_w)\n",
    "delta_RA = abs(RAs_e - RAs_w)\n",
    "RAAS_e = RA_arcsec(delta_RA, deg_asteast)\n",
    "RAAS_w = RA_arcsec(delta_RA, deg_astwest)\n",
    "deltaRA = abs(RAAS_e - RAAS_w)\n",
    "theta = Theta(deltaRA, deltaDecAS)\n",
    "d = D(theta)\n",
    "\n",
    "print(\"Asteast -- Dec(degrees): {} | Deg(arcsec): {}\".format(deg_asteast, DecAS_e))\n",
    "print(\"Astwest -- Dec(degrees): {} | Deg(arcsec): {}\".format(deg_astwest, DecAS_w))\n",
    "print(\"Delta RA(arcsec): {}\".format(deltaRA))\n",
    "print(\"Delta Dec(arcsec): {}\".format(deltaDecAS))\n",
    "print(\"Theta: {}\".format(theta))\n",
    "print(\"D: {}\".format(d))"
   ]
  },
  {
   "cell_type": "code",
   "execution_count": 40,
   "metadata": {
    "collapsed": false
   },
   "outputs": [
    {
     "name": "stdout",
     "output_type": "stream",
     "text": [
      "(55839.18, 55838.61)\n",
      "0.57\n"
     ]
    }
   ],
   "source": [
    "print(RAs_e, RAs_w)\n",
    "print(RAs_e - RAs_w)"
   ]
  },
  {
   "cell_type": "code",
   "execution_count": 58,
   "metadata": {
    "collapsed": false
   },
   "outputs": [
    {
     "data": {
      "text/plain": [
       "0.18333333333333332"
      ]
     },
     "execution_count": 58,
     "metadata": {},
     "output_type": "execute_result"
    }
   ],
   "source": [
    "11/60."
   ]
  },
  {
   "cell_type": "code",
   "execution_count": null,
   "metadata": {
    "collapsed": true
   },
   "outputs": [],
   "source": []
  }
 ],
 "metadata": {
  "kernelspec": {
   "display_name": "Python 2",
   "language": "python",
   "name": "python2"
  },
  "language_info": {
   "codemirror_mode": {
    "name": "ipython",
    "version": 2
   },
   "file_extension": ".py",
   "mimetype": "text/x-python",
   "name": "python",
   "nbconvert_exporter": "python",
   "pygments_lexer": "ipython2",
   "version": "2.7.10"
  }
 },
 "nbformat": 4,
 "nbformat_minor": 0
}

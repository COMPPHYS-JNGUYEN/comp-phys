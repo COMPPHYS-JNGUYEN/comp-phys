{
 "cells": [
  {
   "cell_type": "markdown",
   "metadata": {},
   "source": [
    "##Matrix Manipulation"
   ]
  },
  {
   "cell_type": "markdown",
   "metadata": {},
   "source": [
    "## A Matrix is Essentially a 2-D Numpy Array"
   ]
  },
  {
   "cell_type": "code",
   "execution_count": 2,
   "metadata": {
    "collapsed": true
   },
   "outputs": [],
   "source": [
    "%matplotlib inline\n",
    "# All imports and formatting\n",
    "from __future__ import print_function\n",
    "import numpy as np\n",
    "import matplotlib.pyplot as plt\n",
    "\n",
    "np.set_printoptions(formatter={'float': '{:.3f}'.format})\n"
   ]
  },
  {
   "cell_type": "code",
   "execution_count": 3,
   "metadata": {
    "collapsed": false
   },
   "outputs": [
    {
     "name": "stdout",
     "output_type": "stream",
     "text": [
      "[[1.000 1.000 1.000]\n",
      " [1.000 1.000 1.000]\n",
      " [1.000 1.000 1.000]]\n"
     ]
    }
   ],
   "source": [
    "M1 = np.ones((3, 3))\n",
    "print(M1)"
   ]
  },
  {
   "cell_type": "code",
   "execution_count": 4,
   "metadata": {
    "collapsed": false
   },
   "outputs": [
    {
     "name": "stdout",
     "output_type": "stream",
     "text": [
      "[[0.658 0.875 0.569]\n",
      " [0.424 0.713 -2.207]\n",
      " [-0.460 2.176 0.071]]\n"
     ]
    }
   ],
   "source": [
    "M2 = np.random.randn(3, 3)\n",
    "print(M2)"
   ]
  },
  {
   "cell_type": "code",
   "execution_count": 5,
   "metadata": {
    "collapsed": false
   },
   "outputs": [
    {
     "name": "stdout",
     "output_type": "stream",
     "text": [
      "[[1.658 1.875 1.569]\n",
      " [1.424 1.713 -1.207]\n",
      " [0.540 3.176 1.071]]\n"
     ]
    }
   ],
   "source": [
    "# Matrix Addition\n",
    "Msum = M1 + M2\n",
    "print(Msum)"
   ]
  },
  {
   "cell_type": "code",
   "execution_count": 6,
   "metadata": {
    "collapsed": false
   },
   "outputs": [
    {
     "data": {
      "text/plain": [
       "'Matrix Multiplication\\n\\nMprod = M1*M2\\n\\nWhat do you expect it to be?\\n\\n'"
      ]
     },
     "execution_count": 6,
     "metadata": {},
     "output_type": "execute_result"
    }
   ],
   "source": [
    "'''Matrix Multiplication\n",
    "\n",
    "Mprod = M1*M2\n",
    "\n",
    "What do you expect it to be?\n",
    "\n",
    "'''\n"
   ]
  },
  {
   "cell_type": "code",
   "execution_count": 7,
   "metadata": {
    "collapsed": false
   },
   "outputs": [
    {
     "name": "stdout",
     "output_type": "stream",
     "text": [
      "[[0.658 0.875 0.569]\n",
      " [0.424 0.713 -2.207]\n",
      " [-0.460 2.176 0.071]]\n"
     ]
    }
   ],
   "source": [
    "Mprod = M1*M2\n",
    "print(Mprod)"
   ]
  },
  {
   "cell_type": "code",
   "execution_count": 8,
   "metadata": {
    "collapsed": false
   },
   "outputs": [
    {
     "name": "stdout",
     "output_type": "stream",
     "text": [
      "[1.000 2.000 3.000] [0.500 1.000 1.500]\n"
     ]
    }
   ],
   "source": [
    "# dot product\n",
    "\n",
    "a = np.linspace(1, 3, 3)\n",
    "b = np.arange(0.5, 2., 0.5)\n",
    "print(a, b)"
   ]
  },
  {
   "cell_type": "code",
   "execution_count": 9,
   "metadata": {
    "collapsed": false
   },
   "outputs": [
    {
     "name": "stdout",
     "output_type": "stream",
     "text": [
      "7.0\n"
     ]
    }
   ],
   "source": [
    "a_dot_b = np.dot(a, b)\n",
    "print(a_dot_b)"
   ]
  },
  {
   "cell_type": "code",
   "execution_count": 10,
   "metadata": {
    "collapsed": false
   },
   "outputs": [
    {
     "name": "stdout",
     "output_type": "stream",
     "text": [
      "[[1.000 1.000 1.000]\n",
      " [1.000 1.000 1.000]\n",
      " [1.000 1.000 1.000]]\n",
      "[[0.658 0.875 0.569]\n",
      " [0.424 0.713 -2.207]\n",
      " [-0.460 2.176 0.071]]\n",
      "[[0.658 0.875 0.569]\n",
      " [0.424 0.713 -2.207]\n",
      " [-0.460 2.176 0.071]]\n"
     ]
    }
   ],
   "source": [
    "'''\n",
    "What's the dot product of two matrices?\n",
    "\n",
    "This is what we actually call matrix mulitplication \n",
    "in Linear Algebra.\n",
    "\n",
    "I will henceforth use M1 x M2 to indicate this kind of multiplication\n",
    "(and use M1*M2 to indicate element-by-element mulitiplication)\n",
    "\n",
    "'''\n",
    "\n",
    "print(M1)\n",
    "print(M2)\n",
    "\n",
    "print(M1*M2)\n",
    "\n",
    "# Mmultip = np.dot(M1, M2)\n",
    "# print(Mmultip)"
   ]
  },
  {
   "cell_type": "code",
   "execution_count": 11,
   "metadata": {
    "collapsed": false
   },
   "outputs": [
    {
     "name": "stdout",
     "output_type": "stream",
     "text": [
      "[[2 1]\n",
      " [1 1]]\n",
      "[[4 1]\n",
      " [2 2]]\n",
      "[[10  4]\n",
      " [ 6  3]]\n"
     ]
    }
   ],
   "source": [
    "'''\n",
    "Try M1 x M2\n",
    "\n",
    "'''\n",
    "M1 = np.array([[2, 1], [1, 1]])\n",
    "M2 = np.array([[4, 1], [2, 2]])\n",
    "print(M1)\n",
    "print(M2)\n",
    "M1_M2 = np.dot(M1, M2)\n",
    "print(M1_M2)"
   ]
  },
  {
   "cell_type": "code",
   "execution_count": 12,
   "metadata": {
    "collapsed": false
   },
   "outputs": [
    {
     "name": "stdout",
     "output_type": "stream",
     "text": [
      "[[4 1]\n",
      " [2 2]]\n",
      "[[2 1]\n",
      " [1 1]]\n",
      "[[9 5]\n",
      " [6 4]]\n"
     ]
    }
   ],
   "source": [
    "'''\n",
    "How about M2 x M1?\n",
    "\n",
    "'''\n",
    "print(M2)\n",
    "print(M1)\n",
    "M2_M1 = np.dot(M2, M1)\n",
    "print(M2_M1)"
   ]
  },
  {
   "cell_type": "markdown",
   "metadata": {},
   "source": [
    "## Matrix Multiplication is NOT commutative!\n",
    "\n",
    "## M1 x M2  and M2 x M1 are NOT always the same!"
   ]
  },
  {
   "cell_type": "markdown",
   "metadata": {},
   "source": [
    "## Matrix Multiplication *is* associative:\n",
    "\n",
    "## (M1 x M2) x M3 = M1 x (M2 x M3) \n",
    "\n",
    "## Create a third matrix however you want, e.g.\n",
    "\n",
    "     M3 = M1_M2 - M2_M1\n",
    "\n",
    "## And verify this for yourself (mini-breakout)"
   ]
  },
  {
   "cell_type": "code",
   "execution_count": 24,
   "metadata": {
    "collapsed": false
   },
   "outputs": [
    {
     "name": "stdout",
     "output_type": "stream",
     "text": [
      "[[ True  True]\n",
      " [ True  True]]\n",
      "[[False False]\n",
      " [False False]]\n"
     ]
    }
   ],
   "source": [
    "M3 = M1_M2 - M2_M1\n",
    "print(np.dot(np.dot(M1,M2), M3) == np.dot(M1, np.dot(M2,M3)))\n",
    "print(np.dot(np.dot(M1,M2), M3) == np.dot(np.dot(M2,M3), M1))"
   ]
  },
  {
   "cell_type": "markdown",
   "metadata": {},
   "source": [
    "## Mini Breakout Exercise\n",
    "\n",
    "## Create a 2x3 matrix by using numpy.linspace and the reshape method, and call it M4.\n",
    "\n",
    "## Here, 2 refers to the number of rows and 3 refers to the number of columns"
   ]
  },
  {
   "cell_type": "code",
   "execution_count": 28,
   "metadata": {
    "collapsed": false
   },
   "outputs": [],
   "source": [
    "M4 = np.arange(0., 6., 1)\n",
    "M4 = M4.reshape((2,-1))\n"
   ]
  },
  {
   "cell_type": "code",
   "execution_count": 31,
   "metadata": {
    "collapsed": false
   },
   "outputs": [
    {
     "name": "stdout",
     "output_type": "stream",
     "text": [
      "[[3.000 6.000 9.000]\n",
      " [3.000 5.000 7.000]]\n"
     ]
    },
    {
     "ename": "ValueError",
     "evalue": "shapes (2,3) and (2,2) not aligned: 3 (dim 1) != 2 (dim 0)",
     "output_type": "error",
     "traceback": [
      "\u001b[0;31m---------------------------------------------------------------------------\u001b[0m",
      "\u001b[0;31mValueError\u001b[0m                                Traceback (most recent call last)",
      "\u001b[0;32m<ipython-input-31-f835fcf816af>\u001b[0m in \u001b[0;36m<module>\u001b[0;34m()\u001b[0m\n\u001b[1;32m      6\u001b[0m \u001b[0;34m\u001b[0m\u001b[0m\n\u001b[1;32m      7\u001b[0m \u001b[0;32mprint\u001b[0m\u001b[0;34m(\u001b[0m\u001b[0mnp\u001b[0m\u001b[0;34m.\u001b[0m\u001b[0mdot\u001b[0m\u001b[0;34m(\u001b[0m\u001b[0mM1\u001b[0m\u001b[0;34m,\u001b[0m \u001b[0mM4\u001b[0m\u001b[0;34m)\u001b[0m\u001b[0;34m)\u001b[0m\u001b[0;34m\u001b[0m\u001b[0m\n\u001b[0;32m----> 8\u001b[0;31m \u001b[0;32mprint\u001b[0m\u001b[0;34m(\u001b[0m\u001b[0mnp\u001b[0m\u001b[0;34m.\u001b[0m\u001b[0mdot\u001b[0m\u001b[0;34m(\u001b[0m\u001b[0mM4\u001b[0m\u001b[0;34m,\u001b[0m \u001b[0mM1\u001b[0m\u001b[0;34m)\u001b[0m\u001b[0;34m)\u001b[0m\u001b[0;34m\u001b[0m\u001b[0m\n\u001b[0m",
      "\u001b[0;31mValueError\u001b[0m: shapes (2,3) and (2,2) not aligned: 3 (dim 1) != 2 (dim 0)"
     ]
    }
   ],
   "source": [
    "'''\n",
    "Is it OK to do np.dot(M1, M3)?\n",
    "\n",
    "Try to do it by hand first\n",
    "'''\n",
    "\n",
    "print(np.dot(M1, M4))\n",
    "print(np.dot(M4, M1))"
   ]
  },
  {
   "cell_type": "code",
   "execution_count": 32,
   "metadata": {
    "collapsed": false
   },
   "outputs": [
    {
     "name": "stdout",
     "output_type": "stream",
     "text": [
      "[[ 1  0]\n",
      " [-1 -1]]\n"
     ]
    }
   ],
   "source": [
    "'''\n",
    "How about np.dot(M3, M1)?\n",
    "\n",
    "Try to do it by hand first\n",
    "'''\n",
    "\n",
    "print(np.dot(M3, M1))"
   ]
  },
  {
   "cell_type": "code",
   "execution_count": 33,
   "metadata": {
    "collapsed": false
   },
   "outputs": [
    {
     "name": "stdout",
     "output_type": "stream",
     "text": [
      "[[ 1  0]\n",
      " [-1 -1]]\n"
     ]
    }
   ],
   "source": [
    "'''\n",
    "catching error by using try...except\n",
    "\n",
    "'''\n",
    "# Try first_M = M1 and second_M = M3\n",
    "first_M = M3\n",
    "second_M = M1\n",
    "\n",
    "try:\n",
    "    M_mult = np.dot(first_M, second_M)\n",
    "except:\n",
    "    print('Shape of first matrix:', first_M.shape)\n",
    "    print('Shape of second matrix:', second_M.shape)\n",
    "    raise Exception(\"The column number of first matrix doesn't \\\n",
    "                    match row number of second matrix\")\n",
    "    \n",
    "print(M_mult)"
   ]
  },
  {
   "cell_type": "markdown",
   "metadata": {},
   "source": [
    "## Breakout Excercise:\n",
    "\n",
    "## Turn the above into a function dot_safe(M1, M2)\n",
    "\n",
    "- ## If M1 and M2 can be multiplied, it return their dot product\n",
    "\n",
    "- ## If they cannot, it catches the error and prints out their dimensions and returns a string that reads:\n",
    "\n",
    "\"The column number of first matrix doesn't \n",
    "match row number of second matrix\""
   ]
  },
  {
   "cell_type": "code",
   "execution_count": 40,
   "metadata": {
    "collapsed": true
   },
   "outputs": [],
   "source": [
    "def dot_safe(M1, M2):\n",
    "    try:\n",
    "        M_mult = np.dot(M1, M2)\n",
    "    except:\n",
    "        print('Shape of first matrix:', M1.shape)\n",
    "        print('Shape of second matrix:', M2.shape)\n",
    "        raise Exception(\"The column number of first matrix doesn't match row number of second matrix\")\n",
    "    return M_mult\n",
    "    "
   ]
  },
  {
   "cell_type": "code",
   "execution_count": 41,
   "metadata": {
    "collapsed": false
   },
   "outputs": [
    {
     "name": "stdout",
     "output_type": "stream",
     "text": [
      "Shape of first matrix: (2, 3)\n",
      "Shape of second matrix: (2, 2)\n"
     ]
    },
    {
     "ename": "Exception",
     "evalue": "The column number of first matrix doesn't match row number of second matrix",
     "output_type": "error",
     "traceback": [
      "\u001b[0;31m---------------------------------------------------------------------------\u001b[0m",
      "\u001b[0;31mException\u001b[0m                                 Traceback (most recent call last)",
      "\u001b[0;32m<ipython-input-41-3d3e44f120a3>\u001b[0m in \u001b[0;36m<module>\u001b[0;34m()\u001b[0m\n\u001b[0;32m----> 1\u001b[0;31m \u001b[0mdot_safe\u001b[0m\u001b[0;34m(\u001b[0m\u001b[0mM4\u001b[0m\u001b[0;34m,\u001b[0m \u001b[0mM1\u001b[0m\u001b[0;34m)\u001b[0m\u001b[0;34m\u001b[0m\u001b[0m\n\u001b[0m",
      "\u001b[0;32m<ipython-input-40-dea5b50dd961>\u001b[0m in \u001b[0;36mdot_safe\u001b[0;34m(M1, M2)\u001b[0m\n\u001b[1;32m      5\u001b[0m         \u001b[0;32mprint\u001b[0m\u001b[0;34m(\u001b[0m\u001b[0;34m'Shape of first matrix:'\u001b[0m\u001b[0;34m,\u001b[0m \u001b[0mM1\u001b[0m\u001b[0;34m.\u001b[0m\u001b[0mshape\u001b[0m\u001b[0;34m)\u001b[0m\u001b[0;34m\u001b[0m\u001b[0m\n\u001b[1;32m      6\u001b[0m         \u001b[0;32mprint\u001b[0m\u001b[0;34m(\u001b[0m\u001b[0;34m'Shape of second matrix:'\u001b[0m\u001b[0;34m,\u001b[0m \u001b[0mM2\u001b[0m\u001b[0;34m.\u001b[0m\u001b[0mshape\u001b[0m\u001b[0;34m)\u001b[0m\u001b[0;34m\u001b[0m\u001b[0m\n\u001b[0;32m----> 7\u001b[0;31m         \u001b[0;32mraise\u001b[0m \u001b[0mException\u001b[0m\u001b[0;34m(\u001b[0m\u001b[0;34m\"The column number of first matrix doesn't match row number of second matrix\"\u001b[0m\u001b[0;34m)\u001b[0m\u001b[0;34m\u001b[0m\u001b[0m\n\u001b[0m\u001b[1;32m      8\u001b[0m     \u001b[0;32mreturn\u001b[0m \u001b[0mM_mult\u001b[0m\u001b[0;34m\u001b[0m\u001b[0m\n\u001b[1;32m      9\u001b[0m \u001b[0;34m\u001b[0m\u001b[0m\n",
      "\u001b[0;31mException\u001b[0m: The column number of first matrix doesn't match row number of second matrix"
     ]
    }
   ],
   "source": [
    "dot_safe(M4, M1)"
   ]
  },
  {
   "cell_type": "code",
   "execution_count": 96,
   "metadata": {
    "collapsed": true
   },
   "outputs": [],
   "source": [
    "def dot_safe(M1, M2):\n",
    "\n",
    "    '''\n",
    "    catching error by using try...except\n",
    "\n",
    "    '''\n",
    "\n",
    "    try:\n",
    "        M_mult = np.dot(M1, M2)\n",
    "    except:\n",
    "        print('Shape of first matrix:', M1.shape)\n",
    "        print('Shape of second matrix:', M2.shape)\n",
    "        return \"The column number of first matrix doesn't \\\n",
    "match row number of second matrix\"\n",
    "    else:\n",
    "        return M_mult"
   ]
  },
  {
   "cell_type": "code",
   "execution_count": 97,
   "metadata": {
    "collapsed": false
   },
   "outputs": [
    {
     "name": "stdout",
     "output_type": "stream",
     "text": [
      "[14.000 32.000]\n",
      "Shape of first matrix: (2, 2)\n",
      "Shape of second matrix: (3,)\n",
      "The column number of first matrix doesn't match row number of second matrix\n"
     ]
    }
   ],
   "source": [
    "'''\n",
    "Matrix Multiplcation between a matrix and a vector (a 1-D array)\n",
    "\n",
    "Referring the vector v below: is np.dot(M3, b) allowed?\n",
    "\n",
    "If so, what is it?  If not, why not?\n",
    "\n",
    "How about np.dot(M1, b)\n",
    "\n",
    "'''\n",
    "\n",
    "b = np.linspace(1, 3, 3) \n",
    "print(dot_safe(M3, b))\n",
    "print(dot_safe(M1, b))"
   ]
  },
  {
   "cell_type": "code",
   "execution_count": 98,
   "metadata": {
    "collapsed": false
   },
   "outputs": [
    {
     "name": "stdout",
     "output_type": "stream",
     "text": [
      "Shape of first matrix: (2, 3)\n",
      "Shape of second matrix: (2, 3)\n"
     ]
    },
    {
     "data": {
      "text/plain": [
       "\"The column number of first matrix doesn't match row number of second matrix\""
      ]
     },
     "execution_count": 98,
     "metadata": {},
     "output_type": "execute_result"
    }
   ],
   "source": [
    "'''\n",
    "Introduce: The Transpose\n",
    "'''\n",
    "dot_safe(M3, M3)"
   ]
  },
  {
   "cell_type": "code",
   "execution_count": 99,
   "metadata": {
    "collapsed": false
   },
   "outputs": [
    {
     "data": {
      "text/plain": [
       "array([[14.000, 32.000],\n",
       "       [32.000, 77.000]])"
      ]
     },
     "execution_count": 99,
     "metadata": {},
     "output_type": "execute_result"
    }
   ],
   "source": [
    "'''\n",
    "Introduce: The Transpose.\n",
    "\n",
    "Work out by hand M3 x M3.T\n",
    "\n",
    "'''\n",
    "dot_safe(M3, M3.T)"
   ]
  },
  {
   "cell_type": "code",
   "execution_count": 100,
   "metadata": {
    "collapsed": false
   },
   "outputs": [
    {
     "data": {
      "text/plain": [
       "array([[17.000, 22.000, 27.000],\n",
       "       [22.000, 29.000, 36.000],\n",
       "       [27.000, 36.000, 45.000]])"
      ]
     },
     "execution_count": 100,
     "metadata": {},
     "output_type": "execute_result"
    }
   ],
   "source": [
    "'''\n",
    "What's your guess for the dimensionality of M3.T x M3?\n",
    "\n",
    "Work it out by hand first.\n",
    "\n",
    "'''\n",
    "dot_safe(M3.T, M3)"
   ]
  },
  {
   "cell_type": "code",
   "execution_count": 103,
   "metadata": {
    "collapsed": false
   },
   "outputs": [
    {
     "name": "stdout",
     "output_type": "stream",
     "text": [
      "14.0\n",
      "14.0\n"
     ]
    }
   ],
   "source": [
    "print(dot_safe(b.T, b))\n",
    "print(dot_safe(b, b.T))"
   ]
  },
  {
   "cell_type": "code",
   "execution_count": 104,
   "metadata": {
    "collapsed": false
   },
   "outputs": [
    {
     "name": "stdout",
     "output_type": "stream",
     "text": [
      "(3, 1)\n"
     ]
    }
   ],
   "source": [
    "c = b.reshape(len(b), -1)\n",
    "print(c.shape)"
   ]
  },
  {
   "cell_type": "code",
   "execution_count": 105,
   "metadata": {
    "collapsed": false
   },
   "outputs": [
    {
     "name": "stdout",
     "output_type": "stream",
     "text": [
      "Shape of first matrix: (3, 1)\n",
      "Shape of second matrix: (3, 1)\n"
     ]
    },
    {
     "data": {
      "text/plain": [
       "\"The column number of first matrix doesn't match row number of second matrix\""
      ]
     },
     "execution_count": 105,
     "metadata": {},
     "output_type": "execute_result"
    }
   ],
   "source": [
    "dot_safe(c, c)"
   ]
  },
  {
   "cell_type": "code",
   "execution_count": 107,
   "metadata": {
    "collapsed": false
   },
   "outputs": [
    {
     "data": {
      "text/plain": [
       "array([[14.000]])"
      ]
     },
     "execution_count": 107,
     "metadata": {},
     "output_type": "execute_result"
    }
   ],
   "source": [
    "'''What do you anticipate the dimensionality of\n",
    "\n",
    "    c.T x c\n",
    "\n",
    "'''\n",
    "\n",
    "dot_safe(c.T, c)"
   ]
  },
  {
   "cell_type": "code",
   "execution_count": 108,
   "metadata": {
    "collapsed": false
   },
   "outputs": [
    {
     "data": {
      "text/plain": [
       "array([[1.000, 2.000, 3.000],\n",
       "       [2.000, 4.000, 6.000],\n",
       "       [3.000, 6.000, 9.000]])"
      ]
     },
     "execution_count": 108,
     "metadata": {},
     "output_type": "execute_result"
    }
   ],
   "source": [
    "'''What do you anticipate the dimensionality of\n",
    "\n",
    "    c x c.T\n",
    "\n",
    "'''\n",
    "\n",
    "dot_safe(c, c.T) # this is sometimes known as the \"outer product\""
   ]
  },
  {
   "cell_type": "code",
   "execution_count": 111,
   "metadata": {
    "collapsed": false
   },
   "outputs": [
    {
     "name": "stdout",
     "output_type": "stream",
     "text": [
      "[[1.000 2.000 3.000]\n",
      " [2.000 4.000 6.000]\n",
      " [3.000 6.000 9.000]]\n",
      "[[1.000 2.000 3.000]\n",
      " [2.000 4.000 6.000]\n",
      " [3.000 6.000 9.000]]\n"
     ]
    }
   ],
   "source": [
    "'''The identity matrix'''\n",
    "\n",
    "Imatrix = np.eye(3)\n",
    "M4 = dot_safe(c, c.T)\n",
    "\n",
    "print(dot_safe(Imatrix, M4))\n",
    "print(dot_safe(M4, Imatrix))"
   ]
  },
  {
   "cell_type": "code",
   "execution_count": 128,
   "metadata": {
    "collapsed": false
   },
   "outputs": [
    {
     "name": "stdout",
     "output_type": "stream",
     "text": [
      "[[2.000 1.000 1.000]\n",
      " [1.000 2.000 1.000]\n",
      " [1.000 1.000 2.000]]\n",
      "[[1.000 0.000 0.000]\n",
      " [0.000 1.000 0.000]\n",
      " [-0.000 0.000 1.000]]\n",
      "[[1.000 0.000 0.000]\n",
      " [-0.000 1.000 0.000]\n",
      " [-0.000 0.000 1.000]]\n"
     ]
    }
   ],
   "source": [
    "'''The inverse'''\n",
    "M5 = np.eye(3) + 1\n",
    "print(M5)\n",
    "M5_inv = np.linalg.inv(M5)\n",
    "print(np.dot(M5_inv, M5))\n",
    "print(np.dot(M5, M5_inv))\n",
    "\n",
    "\n"
   ]
  },
  {
   "cell_type": "markdown",
   "metadata": {},
   "source": [
    "## Solving Linear Set of Equation with Matrices\n",
    "\n",
    "\\begin{alignat}{7}\n",
    "3x &&\\; + \\;&& 2y             &&\\; - \\;&& z  &&\\; = \\;&& 1 & \\\\\n",
    "2x &&\\; - \\;&& 2y             &&\\; + \\;&& 4z &&\\; = \\;&& -2 & \\\\\n",
    "-x &&\\; + \\;&& \\tfrac{1}{2} y &&\\; - \\;&& z  &&\\; = \\;&& 0 &\n",
    "\\end{alignat}"
   ]
  },
  {
   "cell_type": "markdown",
   "metadata": {},
   "source": [
    "## Solving this set of equations by linear algebra method:\n",
    "\n",
    "If we let\n",
    "\n",
    "M = np.array([[3, 2, 1], [2, -2, 4], [-1, 1/2., -1]])\n",
    "\n",
    "Then we can write the equation above as \n",
    "\n",
    "M x v = b\n",
    "\n",
    "where \n",
    "\n",
    "v is a column vector of (x, y, z)\n",
    "\n",
    "b is a column vector of (1, -2, 0)\n",
    "\n",
    "\n",
    "If we can find the inverse of M: M_inv\n",
    "\n",
    "Then\n",
    "\n",
    "M_inv x M x v = M_inv x b\n",
    "\n",
    "(M_inv x M) x v = M_inv x b\n",
    "\n",
    "I x v = M_inv x b\n",
    "\n",
    "v = M_inv x b\n",
    "\n",
    "\n"
   ]
  },
  {
   "cell_type": "code",
   "execution_count": 134,
   "metadata": {
    "collapsed": false
   },
   "outputs": [
    {
     "name": "stdout",
     "output_type": "stream",
     "text": [
      "[1.000 -0.400 -1.200]\n"
     ]
    }
   ],
   "source": [
    "M = np.array([[3, 2, 1], [2, -2, 4], [-1, 1/2., -1]])\n",
    "b = np.array((1, -2, 0))\n",
    "v = np.dot(np.linalg.inv(M), b)\n",
    "print(v)\n",
    "\n",
    "# Please verify!"
   ]
  },
  {
   "cell_type": "markdown",
   "metadata": {},
   "source": [
    "## Eigenvectors, Eigenvalue, and Diagonalization "
   ]
  },
  {
   "cell_type": "code",
   "execution_count": 148,
   "metadata": {
    "collapsed": false
   },
   "outputs": [
    {
     "name": "stdout",
     "output_type": "stream",
     "text": [
      "[ 1.+1.j  1.-1.j]\n",
      "[[ 0.70710678+0.j          0.70710678-0.j        ]\n",
      " [ 0.00000000-0.70710678j  0.00000000+0.70710678j]]\n"
     ]
    }
   ],
   "source": [
    "from numpy import linalg as LA\n",
    "M = np.array([[1, -1], [1, 1]])\n",
    "w, v = LA.eig(M)\n",
    "print(w) \n",
    "print(v)\n",
    "v = np.matrix(v)"
   ]
  },
  {
   "cell_type": "code",
   "execution_count": 136,
   "metadata": {
    "collapsed": false
   },
   "outputs": [
    {
     "name": "stdout",
     "output_type": "stream",
     "text": [
      "(-1+0j)\n"
     ]
    }
   ],
   "source": [
    "# complex numbers: i^2 = -1.  In python i is represented as 1j.\n",
    "a = 1j\n",
    "print(a**2)"
   ]
  },
  {
   "cell_type": "code",
   "execution_count": 137,
   "metadata": {
    "collapsed": false
   },
   "outputs": [
    {
     "name": "stdout",
     "output_type": "stream",
     "text": [
      "(3+1j)\n"
     ]
    }
   ],
   "source": [
    "# practice: calculate b * c, with b = 1 + 1j and c = 2 - 1j\n",
    "b = 1 + 1j \n",
    "c = 2 - 1j\n",
    "print(b*c)"
   ]
  },
  {
   "cell_type": "code",
   "execution_count": 139,
   "metadata": {
    "collapsed": false
   },
   "outputs": [
    {
     "name": "stdout",
     "output_type": "stream",
     "text": [
      "(1-1j)\n"
     ]
    }
   ],
   "source": [
    "# complex conjugate\n",
    "print(b.conjugate())"
   ]
  },
  {
   "cell_type": "code",
   "execution_count": 140,
   "metadata": {
    "collapsed": false
   },
   "outputs": [
    {
     "name": "stdout",
     "output_type": "stream",
     "text": [
      "b_norm_sq, b_sq (2+0j) 2j\n",
      "b_norm, np.abs(b) (1.41421356237+0j) 1.41421356237\n"
     ]
    }
   ],
   "source": [
    "# norm (length) of a complex number\n",
    "b_norm_sq = b*b.conjugate()\n",
    "b_sq = b**2\n",
    "\n",
    "b_norm = np.sqrt(b_norm_sq)\n",
    "print('b_norm_sq, b_sq', b_norm_sq, b_sq)\n",
    "print('b_norm, np.abs(b)', b_norm, np.abs(b))"
   ]
  },
  {
   "cell_type": "code",
   "execution_count": 144,
   "metadata": {
    "collapsed": false
   },
   "outputs": [
    {
     "name": "stdout",
     "output_type": "stream",
     "text": [
      "[[ 1.-0.j  1.-0.j]\n",
      " [ 0.+1.j  1.-0.j]]\n"
     ]
    }
   ],
   "source": [
    "# hermitian conjugate of a complex matrix\n",
    "complex_M = np.matrix([[1, -1j], [1, 1]])\n",
    "Hermitian_conj = complex_M.H\n",
    "print(Hermitian_conj)"
   ]
  },
  {
   "cell_type": "code",
   "execution_count": 150,
   "metadata": {
    "collapsed": false
   },
   "outputs": [
    {
     "name": "stdout",
     "output_type": "stream",
     "text": [
      "[[ 1.+1.j  0.+0.j]\n",
      " [ 0.+0.j  1.-1.j]]\n"
     ]
    }
   ],
   "source": [
    "# matrix formed out of eigenvectors can diagonalize a matrix\n",
    "# the diagonal values of the diagonal matrix are the eigenvalues.\n",
    "print(np.dot(np.dot(v.H, M), v))"
   ]
  },
  {
   "cell_type": "markdown",
   "metadata": {},
   "source": [
    "## diagonalization of invertibility: no zero eigenvalues."
   ]
  }
 ],
 "metadata": {
  "kernelspec": {
   "display_name": "Python 2",
   "language": "python",
   "name": "python2"
  },
  "language_info": {
   "codemirror_mode": {
    "name": "ipython",
    "version": 2
   },
   "file_extension": ".py",
   "mimetype": "text/x-python",
   "name": "python",
   "nbconvert_exporter": "python",
   "pygments_lexer": "ipython2",
   "version": "2.7.9"
  }
 },
 "nbformat": 4,
 "nbformat_minor": 0
}

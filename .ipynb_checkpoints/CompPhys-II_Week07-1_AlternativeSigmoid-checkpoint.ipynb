{
 "cells": [
  {
   "cell_type": "code",
   "execution_count": 12,
   "metadata": {
    "collapsed": true
   },
   "outputs": [],
   "source": [
    "%matplotlib inline\n",
    "# All imports\n",
    "\n",
    "# ----------> Note: new import: division! \n",
    "from __future__ import print_function, division\n",
    "from random import choice\n",
    "import numpy as np\n",
    "import matplotlib.pyplot as plt\n",
    "\n",
    "np.set_printoptions(formatter={'float': '{:.3f}'.format})\n"
   ]
  },
  {
   "cell_type": "markdown",
   "metadata": {},
   "source": [
    "## Breakout Exercise: Alternative Sigmoid.\n",
    "\n",
    "## *For this exercise, do NOT look up anything on the internet*\n",
    "\n",
    "## $$ z = tanh(y)$$\n",
    "\n",
    "## Intro:\n",
    "\n",
    "## $$sinh(y) = \\frac {e^y - e^{-y}} {2}$$\n",
    "## $$cosh(y) = \\frac {e^y + e^{-y}} {2}$$\n",
    "## $$tanh(y) = sinh(y)/cosh(y)$$\n",
    "\n",
    "- ## A) Choose a reasonable range of $y$ and plot sinh, cosh in one figure, and tanh in another.  Do they look like what you would expect?\n",
    "- ## B) Find the derivative of $tanh(y)$.  First express it as a function of $y$. \n",
    "- ## C) Then express it as a function of $z$.\n",
    "- ## D) Compute the numerical derivative of $tanh(y)$ between y = -5 and +5.\n",
    "- ## E) Plot the numerical derivative you got in Part D), and on the same figure, plot the analytical derivative you found in Part C) -- do they agree?"
   ]
  },
  {
   "cell_type": "markdown",
   "metadata": {},
   "source": [
    "# End of Week7-1"
   ]
  },
  {
   "cell_type": "code",
   "execution_count": null,
   "metadata": {
    "collapsed": true
   },
   "outputs": [],
   "source": []
  }
 ],
 "metadata": {
  "kernelspec": {
   "display_name": "Python 2",
   "language": "python",
   "name": "python2"
  },
  "language_info": {
   "codemirror_mode": {
    "name": "ipython",
    "version": 2
   },
   "file_extension": ".py",
   "mimetype": "text/x-python",
   "name": "python",
   "nbconvert_exporter": "python",
   "pygments_lexer": "ipython2",
   "version": "2.7.9"
  }
 },
 "nbformat": 4,
 "nbformat_minor": 0
}

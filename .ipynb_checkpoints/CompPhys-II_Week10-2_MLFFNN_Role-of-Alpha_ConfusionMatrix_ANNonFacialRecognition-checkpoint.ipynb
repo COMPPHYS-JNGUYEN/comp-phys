{
 "cells": [
  {
   "cell_type": "markdown",
   "metadata": {},
   "source": [
    "# Multi-layer Forward-feed NN \n",
    "\n",
    "## 1. The role of alpha (regularization)\n",
    "## 2. The confusion matrix\n",
    "## 3. ANN on Facial Recognition"
   ]
  },
  {
   "cell_type": "code",
   "execution_count": 1,
   "metadata": {
    "collapsed": false
   },
   "outputs": [
    {
     "name": "stderr",
     "output_type": "stream",
     "text": [
      "/Users/labuser/scikit-learn/sklearn/cross_validation.py:43: DeprecationWarning: This module has been deprecated in favor of the model_selection module into which all the refactored classes and functions are moved. Also note that the interface of the new CV iterators are different from that of this module. This module will be removed in 0.20.\n",
      "  \"This module will be removed in 0.20.\", DeprecationWarning)\n"
     ]
    }
   ],
   "source": [
    "%matplotlib inline\n",
    "# All imports\n",
    "\n",
    "from __future__ import print_function, division\n",
    "from random import choice\n",
    "import numpy as np\n",
    "import matplotlib.pyplot as plt\n",
    "from copy import copy\n",
    "import time\n",
    "from IPython import display\n",
    "\n",
    "import sklearn\n",
    "from sklearn.neural_network import MLPRegressor, MLPClassifier\n",
    "from sklearn.cross_validation import train_test_split\n",
    "\n",
    "# -------------> The following three are new imports <------------------\n",
    "from time import time\n",
    "from sklearn.metrics import classification_report, confusion_matrix\n",
    "\n",
    "np.set_printoptions(formatter={'float': '{:.5f}'.format})\n"
   ]
  },
  {
   "cell_type": "markdown",
   "metadata": {},
   "source": [
    "## Regularization\n",
    "\n",
    "## A bit of math\n",
    "\n",
    "## $$ \\alpha \\sum_w {w^2}$$\n",
    "\n",
    "## Example: fitting the parabola with 100 neurons."
   ]
  },
  {
   "cell_type": "code",
   "execution_count": 2,
   "metadata": {
    "collapsed": false
   },
   "outputs": [],
   "source": [
    "# simulating data\n",
    "N = 40\n",
    "xmin = 0.\n",
    "xmax = 2.\n",
    "x = np.linspace(xmin, xmax, N)\n",
    "# expects a 2d array.\n",
    "X = np.atleast_2d(x).T\n",
    "\n",
    "a0 = 1.5\n",
    "a1 = 2.\n",
    "a2 = 2.5\n",
    "\n",
    "y = a0 + a1*x + a2*x**2  # - a3*x**3 + a4*x**4\n",
    "# add noise\n",
    "y += np.random.randn(y.shape[0])*1. \n",
    "\n",
    "\n",
    "reg = MLPRegressor(algorithm='l-bfgs', hidden_layer_sizes=(100,), activation='tanh',\\\n",
    "                    random_state=1, max_iter=1000000, learning_rate_init = 0.01)\n",
    "\n"
   ]
  },
  {
   "cell_type": "code",
   "execution_count": 3,
   "metadata": {
    "collapsed": false
   },
   "outputs": [
    {
     "name": "stdout",
     "output_type": "stream",
     "text": [
      "(30, 1) (30,)\n",
      "(10, 1) (10,)\n",
      "Default alpha (regularization): 0.0001\n",
      "Total number of points: 30\n",
      "Total number of weights: [(1, 100), (100, 1)]\n",
      "score 0.961483476001\n",
      "Loss function 0.526667944902\n"
     ]
    },
    {
     "data": {
      "image/png": "[encoded data removed]",
      "text/plain": [
       "<matplotlib.figure.Figure at 0x10ee58c10>"
      ]
     },
     "metadata": {},
     "output_type": "display_data"
    }
   ],
   "source": [
    "'''Splitting data into training and validation (testing) sets'''\n",
    "\n",
    "X_train, X_test, y_train, y_test = train_test_split(\n",
    "    X, y, test_size=0.25, random_state=0)\n",
    "print(X_train.shape, y_train.shape)\n",
    "print(X_test.shape, y_test.shape)\n",
    "\n",
    "\n",
    "print('Default alpha (regularization): {:g}'.format(reg.alpha))\n",
    "# Try cranking up alpha (regularization):\n",
    "reg.alpha = 0.3\n",
    "\n",
    "\n",
    "reg.fit(X_train, y_train)\n",
    "print(\"Total number of points:\", y_train.shape[0])\n",
    "print(\"Total number of weights:\", [coef.shape for coef in reg.coefs_])\n",
    "print(\"score\", reg.score(X_train, y_train))\n",
    "print(\"Loss function\", reg.loss_)\n",
    "\n",
    "x_train = X_train.ravel()\n",
    "sort_i = np.argsort(x_train)\n",
    "x_train = x_train[sort_i]\n",
    "y_train = y_train[sort_i]\n",
    "plt.plot(x_train, y_train, '.')\n",
    "\n",
    "X_plot = np.atleast_2d(np.linspace(0., 2., 1000)).T\n",
    "x_plot = X_plot.ravel()\n",
    "\n",
    "y_predict = reg.predict(X_plot)\n",
    "plt.plot(x_train, y_train, '.')\n",
    "plt.plot(x_plot, y_predict)\n",
    "plt.show()"
   ]
  },
  {
   "cell_type": "code",
   "execution_count": 4,
   "metadata": {
    "collapsed": false
   },
   "outputs": [
    {
     "name": "stdout",
     "output_type": "stream",
     "text": [
      "score -0.616307808721\n"
     ]
    },
    {
     "data": {
      "image/png": "[encoded data removed]",
      "text/plain": [
       "<matplotlib.figure.Figure at 0x102f8a590>"
      ]
     },
     "metadata": {},
     "output_type": "display_data"
    }
   ],
   "source": [
    "x_test = X_test.ravel()\n",
    "sort_i = np.argsort(x_test)\n",
    "x_test = x_test[sort_i]\n",
    "y_test = y_test[sort_i]\n",
    "plt.plot(x_test, y_test, '.')\n",
    "print(\"score\", reg.score(X_test, y_test))\n",
    "\n",
    "plt.plot(x_test, y_test, '.')\n",
    "plt.plot(x_plot, y_predict)\n",
    "plt.show()\n"
   ]
  },
  {
   "cell_type": "code",
   "execution_count": 5,
   "metadata": {
    "collapsed": false
   },
   "outputs": [
    {
     "data": {
      "text/plain": [
       "array([[2, 0, 0],\n",
       "       [0, 0, 1],\n",
       "       [1, 0, 2]])"
      ]
     },
     "execution_count": 5,
     "metadata": {},
     "output_type": "execute_result"
    }
   ],
   "source": [
    "from sklearn.metrics import confusion_matrix\n",
    "\n",
    "y_true = [5, 1, 5, 5, 1, 3]\n",
    "y_pred = [1, 1, 5, 5, 1, 5]\n",
    "\n",
    "confusion_matrix(y_true, y_pred)\n"
   ]
  },
  {
   "cell_type": "markdown",
   "metadata": {},
   "source": [
    "## The Confusion Matrix:  Evaluate the accuracy of a classification.\n",
    "\n",
    "## Definition: a confusion matrix C is such that C\\_{i, j} is equal to the number of observations known to be in group i but predicted to be in group j.\n",
    "\n",
    "From: http://scikit-learn.org/stable/modules/generated/sklearn.metrics.confusion_matrix.html"
   ]
  },
  {
   "cell_type": "code",
   "execution_count": 6,
   "metadata": {
    "collapsed": false
   },
   "outputs": [
    {
     "data": {
      "text/plain": [
       "array([[2, 0, 0],\n",
       "       [0, 0, 1],\n",
       "       [1, 0, 2]])"
      ]
     },
     "execution_count": 6,
     "metadata": {},
     "output_type": "execute_result"
    }
   ],
   "source": [
    "y_true = [\"cat\", \"ant\", \"cat\", \"cat\", \"ant\", \"bird\"]\n",
    "y_pred = [\"ant\", \"ant\", \"cat\", \"cat\", \"ant\", \"cat\"]\n",
    "confusion_matrix(y_true, y_pred, labels=[\"ant\", \"bird\", \"cat\"])"
   ]
  },
  {
   "cell_type": "markdown",
   "metadata": {},
   "source": [
    "## The metric.classification_report\n",
    "\n",
    "       metrics.classification_report\n",
    "       \n",
    "## \"Build a text report showing the main classification metrics\"\n",
    "\n",
    "       sklearn.metrics.classification_report(y_true, y_pred)\n",
    "       \n",
    "       \n",
    "## It returns a string.\n",
    "\n",
    "## More details:\n",
    "\n",
    "http://scikit-learn.org/stable/modules/generated/sklearn.metrics.classification_report.html"
   ]
  },
  {
   "cell_type": "markdown",
   "metadata": {},
   "source": [
    "## Breakout\n",
    "\n",
    "## To your digit recognition code last time, add:\n",
    "\n",
    "- ## printing the classification_report\n",
    "\n",
    "- ## printing confusion matrix "
   ]
  },
  {
   "cell_type": "code",
   "execution_count": 7,
   "metadata": {
    "collapsed": false
   },
   "outputs": [
    {
     "name": "stdout",
     "output_type": "stream",
     "text": [
      "[[45  0  0  0  0  0  0  0  0  3]\n",
      " [ 0 28 11  0  0  0  0  0 11  0]\n",
      " [ 0  0 41  4  0  1  0  1  3  0]\n",
      " [ 0  0  4 33  0  0  0  1  9  4]\n",
      " [ 0  2  0  0 38  0  8  0  0  1]\n",
      " [ 1  0  0  1  0 25  2  0  0 21]\n",
      " [ 1  0  0  0  0  0 49  0  0  0]\n",
      " [ 0  2  0  0  0  1  0  1  3 42]\n",
      " [ 0  2  0  0  0  0  0  0 46  4]\n",
      " [ 0 10  1  0  0  0  0  2  3 35]]\n",
      "             precision    recall  f1-score   support\n",
      "\n",
      "          0       0.96      0.94      0.95        48\n",
      "          1       0.64      0.56      0.60        50\n",
      "          2       0.72      0.82      0.77        50\n",
      "          3       0.87      0.65      0.74        51\n",
      "          4       1.00      0.78      0.87        49\n",
      "          5       0.93      0.50      0.65        50\n",
      "          6       0.83      0.98      0.90        50\n",
      "          7       0.20      0.02      0.04        49\n",
      "          8       0.61      0.88      0.72        52\n",
      "          9       0.32      0.69      0.43        51\n",
      "\n",
      "avg / total       0.71      0.68      0.67       500\n",
      "\n"
     ]
    },
    {
     "data": {
      "image/png": "[encoded data removed]",
      "text/plain": [
       "<matplotlib.figure.Figure at 0x111cfeb10>"
      ]
     },
     "metadata": {},
     "output_type": "display_data"
    }
   ],
   "source": [
    "from sklearn import datasets\n",
    "\n",
    "digits = datasets.load_digits()\n",
    "\n",
    "# clf = MLPClassifier(algorithm='l-bfgs', alpha=1e-5, hidden_layer_sizes=(4, 2), random_state=1)\n",
    "clf2 = MLPClassifier(algorithm='l-bfgs', alpha=1e-10, hidden_layer_sizes=(10, 4), activation = 'tanh', \\\n",
    "                    random_state=5, max_iter=1000000, learning_rate_init = 0.1)\n",
    "\n",
    "N = 500\n",
    "\n",
    "\n",
    "y_train = digits.data[:N]\n",
    "y_test = digits.data[N:N+N]\n",
    "\n",
    "y_test_target = digits.target[N:N+N]\n",
    "\n",
    "clf2.fit(y_train, digits.target[:N])\n",
    "\n",
    "\n",
    "y_pred = clf2.predict(np.atleast_2d(y_test))\n",
    "# print('Train Score: {}'.format(y_train))\n",
    "# print('Test Score: {}'.format(y_test))\n",
    "# print(np.shape(y_train), np.shape(y_test))\n",
    "\n",
    "\n",
    "\n",
    "print(confusion_matrix(y_test_target, y_pred))\n",
    "print(classification_report(y_test_target, y_pred))\n",
    "\n",
    "plt.figure(figsize=(16, 4))\n",
    "for i in range(10):\n",
    "    plt.subplot(1, 10, i+1)\n",
    "    plt.imshow(digits.images[N+i], cmap =plt.cm.gray_r)\n",
    "    plt.title('target: {},\\n Prediction: {}'.format(digits.target[N+i], clf2.predict(np.atleast_2d(digits.data[N+i]))[0]))\n",
    "    plt.axis('off')\n",
    "plt.show()"
   ]
  },
  {
   "cell_type": "markdown",
   "metadata": {},
   "source": [
    "## Applying ANN to Facial Recogition"
   ]
  },
  {
   "cell_type": "code",
   "execution_count": 19,
   "metadata": {
    "collapsed": false
   },
   "outputs": [
    {
     "ename": "IOError",
     "evalue": "cannot identify image file '/Users/labuser/scikit_learn_data/lfw_home/lfw_funneled/Gerhard_Schroeder/Gerhard_Schroeder_0085.jpg'",
     "output_type": "error",
     "traceback": [
      "\u001b[0;31m---------------------------------------------------------------------------\u001b[0m",
      "\u001b[0;31mIOError\u001b[0m                                   Traceback (most recent call last)",
      "\u001b[0;32m<ipython-input-19-ba37c2e57c06>\u001b[0m in \u001b[0;36m<module>\u001b[0;34m()\u001b[0m\n\u001b[1;32m      1\u001b[0m \u001b[0;32mfrom\u001b[0m \u001b[0msklearn\u001b[0m\u001b[0;34m.\u001b[0m\u001b[0mdatasets\u001b[0m \u001b[0;32mimport\u001b[0m \u001b[0mfetch_lfw_people\u001b[0m\u001b[0;34m\u001b[0m\u001b[0m\n\u001b[1;32m      2\u001b[0m \u001b[0;34m\u001b[0m\u001b[0m\n\u001b[0;32m----> 3\u001b[0;31m \u001b[0mlfw_people\u001b[0m \u001b[0;34m=\u001b[0m \u001b[0mfetch_lfw_people\u001b[0m\u001b[0;34m(\u001b[0m\u001b[0mmin_faces_per_person\u001b[0m\u001b[0;34m=\u001b[0m\u001b[0;36m70\u001b[0m\u001b[0;34m,\u001b[0m \u001b[0mresize\u001b[0m\u001b[0;34m=\u001b[0m\u001b[0;36m0.4\u001b[0m\u001b[0;34m)\u001b[0m\u001b[0;34m\u001b[0m\u001b[0m\n\u001b[0m",
      "\u001b[0;32m/Users/labuser/scikit-learn/sklearn/datasets/lfw.pyc\u001b[0m in \u001b[0;36mfetch_lfw_people\u001b[0;34m(data_home, funneled, resize, min_faces_per_person, color, slice_, download_if_missing)\u001b[0m\n\u001b[1;32m    311\u001b[0m     faces, target, target_names = load_func(\n\u001b[1;32m    312\u001b[0m         \u001b[0mdata_folder_path\u001b[0m\u001b[0;34m,\u001b[0m \u001b[0mresize\u001b[0m\u001b[0;34m=\u001b[0m\u001b[0mresize\u001b[0m\u001b[0;34m,\u001b[0m\u001b[0;34m\u001b[0m\u001b[0m\n\u001b[0;32m--> 313\u001b[0;31m         min_faces_per_person=min_faces_per_person, color=color, slice_=slice_)\n\u001b[0m\u001b[1;32m    314\u001b[0m \u001b[0;34m\u001b[0m\u001b[0m\n\u001b[1;32m    315\u001b[0m     \u001b[0;31m# pack the results as a Bunch instance\u001b[0m\u001b[0;34m\u001b[0m\u001b[0;34m\u001b[0m\u001b[0m\n",
      "\u001b[0;32m/Users/labuser/scikit-learn/sklearn/externals/joblib/memory.pyc\u001b[0m in \u001b[0;36m__call__\u001b[0;34m(self, *args, **kwargs)\u001b[0m\n\u001b[1;32m    481\u001b[0m \u001b[0;34m\u001b[0m\u001b[0m\n\u001b[1;32m    482\u001b[0m     \u001b[0;32mdef\u001b[0m \u001b[0m__call__\u001b[0m\u001b[0;34m(\u001b[0m\u001b[0mself\u001b[0m\u001b[0;34m,\u001b[0m \u001b[0;34m*\u001b[0m\u001b[0margs\u001b[0m\u001b[0;34m,\u001b[0m \u001b[0;34m**\u001b[0m\u001b[0mkwargs\u001b[0m\u001b[0;34m)\u001b[0m\u001b[0;34m:\u001b[0m\u001b[0;34m\u001b[0m\u001b[0m\n\u001b[0;32m--> 483\u001b[0;31m         \u001b[0;32mreturn\u001b[0m \u001b[0mself\u001b[0m\u001b[0;34m.\u001b[0m\u001b[0m_cached_call\u001b[0m\u001b[0;34m(\u001b[0m\u001b[0margs\u001b[0m\u001b[0;34m,\u001b[0m \u001b[0mkwargs\u001b[0m\u001b[0;34m)\u001b[0m\u001b[0;34m[\u001b[0m\u001b[0;36m0\u001b[0m\u001b[0;34m]\u001b[0m\u001b[0;34m\u001b[0m\u001b[0m\n\u001b[0m\u001b[1;32m    484\u001b[0m \u001b[0;34m\u001b[0m\u001b[0m\n\u001b[1;32m    485\u001b[0m     \u001b[0;32mdef\u001b[0m \u001b[0m__reduce__\u001b[0m\u001b[0;34m(\u001b[0m\u001b[0mself\u001b[0m\u001b[0;34m)\u001b[0m\u001b[0;34m:\u001b[0m\u001b[0;34m\u001b[0m\u001b[0m\n",
      "\u001b[0;32m/Users/labuser/scikit-learn/sklearn/externals/joblib/memory.pyc\u001b[0m in \u001b[0;36m_cached_call\u001b[0;34m(self, args, kwargs)\u001b[0m\n\u001b[1;32m    428\u001b[0m                           \u001b[0;34m'directory %s'\u001b[0m\u001b[0;34m\u001b[0m\u001b[0m\n\u001b[1;32m    429\u001b[0m                         % (name, argument_hash, output_dir))\n\u001b[0;32m--> 430\u001b[0;31m             \u001b[0mout\u001b[0m\u001b[0;34m,\u001b[0m \u001b[0mmetadata\u001b[0m \u001b[0;34m=\u001b[0m \u001b[0mself\u001b[0m\u001b[0;34m.\u001b[0m\u001b[0mcall\u001b[0m\u001b[0;34m(\u001b[0m\u001b[0;34m*\u001b[0m\u001b[0margs\u001b[0m\u001b[0;34m,\u001b[0m \u001b[0;34m**\u001b[0m\u001b[0mkwargs\u001b[0m\u001b[0;34m)\u001b[0m\u001b[0;34m\u001b[0m\u001b[0m\n\u001b[0m\u001b[1;32m    431\u001b[0m             \u001b[0;32mif\u001b[0m \u001b[0mself\u001b[0m\u001b[0;34m.\u001b[0m\u001b[0mmmap_mode\u001b[0m \u001b[0;32mis\u001b[0m \u001b[0;32mnot\u001b[0m \u001b[0mNone\u001b[0m\u001b[0;34m:\u001b[0m\u001b[0;34m\u001b[0m\u001b[0m\n\u001b[1;32m    432\u001b[0m                 \u001b[0;31m# Memmap the output at the first call to be consistent with\u001b[0m\u001b[0;34m\u001b[0m\u001b[0;34m\u001b[0m\u001b[0m\n",
      "\u001b[0;32m/Users/labuser/scikit-learn/sklearn/externals/joblib/memory.pyc\u001b[0m in \u001b[0;36mcall\u001b[0;34m(self, *args, **kwargs)\u001b[0m\n\u001b[1;32m    673\u001b[0m         \u001b[0;32mif\u001b[0m \u001b[0mself\u001b[0m\u001b[0;34m.\u001b[0m\u001b[0m_verbose\u001b[0m \u001b[0;34m>\u001b[0m \u001b[0;36m0\u001b[0m\u001b[0;34m:\u001b[0m\u001b[0;34m\u001b[0m\u001b[0m\n\u001b[1;32m    674\u001b[0m             \u001b[0;32mprint\u001b[0m\u001b[0;34m(\u001b[0m\u001b[0mformat_call\u001b[0m\u001b[0;34m(\u001b[0m\u001b[0mself\u001b[0m\u001b[0;34m.\u001b[0m\u001b[0mfunc\u001b[0m\u001b[0;34m,\u001b[0m \u001b[0margs\u001b[0m\u001b[0;34m,\u001b[0m \u001b[0mkwargs\u001b[0m\u001b[0;34m)\u001b[0m\u001b[0;34m)\u001b[0m\u001b[0;34m\u001b[0m\u001b[0m\n\u001b[0;32m--> 675\u001b[0;31m         \u001b[0moutput\u001b[0m \u001b[0;34m=\u001b[0m \u001b[0mself\u001b[0m\u001b[0;34m.\u001b[0m\u001b[0mfunc\u001b[0m\u001b[0;34m(\u001b[0m\u001b[0;34m*\u001b[0m\u001b[0margs\u001b[0m\u001b[0;34m,\u001b[0m \u001b[0;34m**\u001b[0m\u001b[0mkwargs\u001b[0m\u001b[0;34m)\u001b[0m\u001b[0;34m\u001b[0m\u001b[0m\n\u001b[0m\u001b[1;32m    676\u001b[0m         \u001b[0mself\u001b[0m\u001b[0;34m.\u001b[0m\u001b[0m_persist_output\u001b[0m\u001b[0;34m(\u001b[0m\u001b[0moutput\u001b[0m\u001b[0;34m,\u001b[0m \u001b[0moutput_dir\u001b[0m\u001b[0;34m)\u001b[0m\u001b[0;34m\u001b[0m\u001b[0m\n\u001b[1;32m    677\u001b[0m         \u001b[0mduration\u001b[0m \u001b[0;34m=\u001b[0m \u001b[0mtime\u001b[0m\u001b[0;34m.\u001b[0m\u001b[0mtime\u001b[0m\u001b[0;34m(\u001b[0m\u001b[0;34m)\u001b[0m \u001b[0;34m-\u001b[0m \u001b[0mstart_time\u001b[0m\u001b[0;34m\u001b[0m\u001b[0m\n",
      "\u001b[0;32m/Users/labuser/scikit-learn/sklearn/datasets/lfw.pyc\u001b[0m in \u001b[0;36m_fetch_lfw_people\u001b[0;34m(data_folder_path, slice_, color, resize, min_faces_per_person)\u001b[0m\n\u001b[1;32m    212\u001b[0m     \u001b[0mtarget\u001b[0m \u001b[0;34m=\u001b[0m \u001b[0mnp\u001b[0m\u001b[0;34m.\u001b[0m\u001b[0msearchsorted\u001b[0m\u001b[0;34m(\u001b[0m\u001b[0mtarget_names\u001b[0m\u001b[0;34m,\u001b[0m \u001b[0mperson_names\u001b[0m\u001b[0;34m)\u001b[0m\u001b[0;34m\u001b[0m\u001b[0m\n\u001b[1;32m    213\u001b[0m \u001b[0;34m\u001b[0m\u001b[0m\n\u001b[0;32m--> 214\u001b[0;31m     \u001b[0mfaces\u001b[0m \u001b[0;34m=\u001b[0m \u001b[0m_load_imgs\u001b[0m\u001b[0;34m(\u001b[0m\u001b[0mfile_paths\u001b[0m\u001b[0;34m,\u001b[0m \u001b[0mslice_\u001b[0m\u001b[0;34m,\u001b[0m \u001b[0mcolor\u001b[0m\u001b[0;34m,\u001b[0m \u001b[0mresize\u001b[0m\u001b[0;34m)\u001b[0m\u001b[0;34m\u001b[0m\u001b[0m\n\u001b[0m\u001b[1;32m    215\u001b[0m \u001b[0;34m\u001b[0m\u001b[0m\n\u001b[1;32m    216\u001b[0m     \u001b[0;31m# shuffle the faces with a deterministic RNG scheme to avoid having\u001b[0m\u001b[0;34m\u001b[0m\u001b[0;34m\u001b[0m\u001b[0m\n",
      "\u001b[0;32m/Users/labuser/scikit-learn/sklearn/datasets/lfw.pyc\u001b[0m in \u001b[0;36m_load_imgs\u001b[0;34m(file_paths, slice_, color, resize)\u001b[0m\n\u001b[1;32m    160\u001b[0m         \u001b[0;31m# Checks if jpeg reading worked. Refer to issue #3594 for more\u001b[0m\u001b[0;34m\u001b[0m\u001b[0;34m\u001b[0m\u001b[0m\n\u001b[1;32m    161\u001b[0m         \u001b[0;31m# details.\u001b[0m\u001b[0;34m\u001b[0m\u001b[0;34m\u001b[0m\u001b[0m\n\u001b[0;32m--> 162\u001b[0;31m         \u001b[0mimg\u001b[0m \u001b[0;34m=\u001b[0m \u001b[0mimread\u001b[0m\u001b[0;34m(\u001b[0m\u001b[0mfile_path\u001b[0m\u001b[0;34m)\u001b[0m\u001b[0;34m\u001b[0m\u001b[0m\n\u001b[0m\u001b[1;32m    163\u001b[0m         \u001b[0;32mif\u001b[0m \u001b[0mimg\u001b[0m\u001b[0;34m.\u001b[0m\u001b[0mndim\u001b[0m \u001b[0;32mis\u001b[0m \u001b[0;36m0\u001b[0m\u001b[0;34m:\u001b[0m\u001b[0;34m\u001b[0m\u001b[0m\n\u001b[1;32m    164\u001b[0m             raise RuntimeError(\"Failed to read the image file %s, \"\n",
      "\u001b[0;32m/Users/labuser/Library/Enthought/Canopy_64bit/User/lib/python2.7/site-packages/scipy/misc/pilutil.pyc\u001b[0m in \u001b[0;36mimread\u001b[0;34m(name, flatten)\u001b[0m\n\u001b[1;32m    123\u001b[0m     \"\"\"\n\u001b[1;32m    124\u001b[0m \u001b[0;34m\u001b[0m\u001b[0m\n\u001b[0;32m--> 125\u001b[0;31m     \u001b[0mim\u001b[0m \u001b[0;34m=\u001b[0m \u001b[0mImage\u001b[0m\u001b[0;34m.\u001b[0m\u001b[0mopen\u001b[0m\u001b[0;34m(\u001b[0m\u001b[0mname\u001b[0m\u001b[0;34m)\u001b[0m\u001b[0;34m\u001b[0m\u001b[0m\n\u001b[0m\u001b[1;32m    126\u001b[0m     \u001b[0;32mreturn\u001b[0m \u001b[0mfromimage\u001b[0m\u001b[0;34m(\u001b[0m\u001b[0mim\u001b[0m\u001b[0;34m,\u001b[0m \u001b[0mflatten\u001b[0m\u001b[0;34m=\u001b[0m\u001b[0mflatten\u001b[0m\u001b[0;34m)\u001b[0m\u001b[0;34m\u001b[0m\u001b[0m\n\u001b[1;32m    127\u001b[0m \u001b[0;34m\u001b[0m\u001b[0m\n",
      "\u001b[0;32m/Users/labuser/Library/Enthought/Canopy_64bit/User/lib/python2.7/site-packages/PIL/Image.pyc\u001b[0m in \u001b[0;36mopen\u001b[0;34m(fp, mode)\u001b[0m\n\u001b[1;32m   2288\u001b[0m \u001b[0;34m\u001b[0m\u001b[0m\n\u001b[1;32m   2289\u001b[0m     raise IOError(\"cannot identify image file %r\"\n\u001b[0;32m-> 2290\u001b[0;31m                   % (filename if filename else fp))\n\u001b[0m\u001b[1;32m   2291\u001b[0m \u001b[0;34m\u001b[0m\u001b[0m\n\u001b[1;32m   2292\u001b[0m \u001b[0;34m\u001b[0m\u001b[0m\n",
      "\u001b[0;31mIOError\u001b[0m: cannot identify image file '/Users/labuser/scikit_learn_data/lfw_home/lfw_funneled/Gerhard_Schroeder/Gerhard_Schroeder_0085.jpg'"
     ]
    }
   ],
   "source": [
    "from sklearn.datasets import fetch_lfw_people\n",
    "\n",
    "lfw_people = fetch_lfw_people(min_faces_per_person=70, resize=0.4)"
   ]
  },
  {
   "cell_type": "markdown",
   "metadata": {},
   "source": [
    "## Mini-breakout\n",
    "## Determine how to extract information from the object:\n",
    "\n",
    "      lfw_people"
   ]
  },
  {
   "cell_type": "markdown",
   "metadata": {},
   "source": [
    "## Breakout:\n",
    "\n",
    "## Apply ANN to Facial Recogition\n",
    "\n",
    "## Part I: Apply it to one person -- say the first in the data set\n",
    "\n",
    "## Part II: Apply it to all individuals with 70 pictures or more.\n",
    "\n",
    "1. Split into a training and testing set (test_size = .25)\n",
    "2. Train a NN classification model using the training set.\n",
    "3. Report the score of the trainied NN applied to the training data.\n",
    "4. Apply the trained NN to the testing data, and report the score.\n",
    "5. Also print the sklearn classification report and confusion_matrix \n",
    "7. Time the training and testing stages.\n",
    "8. Use one intermediate layer.  You may vary the number of neurons.  But it shouldn't be greater than 1000.\n",
    "9. Show the first 12 images in the testing set in a 3 by 4 arrangement for human inspection.  The title should show the predicted name and the true name of the person.\n",
    "\n"
   ]
  },
  {
   "cell_type": "markdown",
   "metadata": {},
   "source": [
    "# End of Week10-2"
   ]
  }
 ],
 "metadata": {
  "kernelspec": {
   "display_name": "Python 2",
   "language": "python",
   "name": "python2"
  },
  "language_info": {
   "codemirror_mode": {
    "name": "ipython",
    "version": 2
   },
   "file_extension": ".py",
   "mimetype": "text/x-python",
   "name": "python",
   "nbconvert_exporter": "python",
   "pygments_lexer": "ipython2",
   "version": "2.7.9"
  }
 },
 "nbformat": 4,
 "nbformat_minor": 0
}

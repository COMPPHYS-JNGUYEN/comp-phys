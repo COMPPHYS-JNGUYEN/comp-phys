{
 "cells": [
  {
   "cell_type": "markdown",
   "metadata": {},
   "source": [
    "# Multi-layer Forward-feed NN \n",
    "\n",
    "## 0. Finish Facial Recognition from last time\n",
    "\n",
    "## 1. Learn to pickle a dictionary\n",
    "\n",
    "## 2. Alak -- Checker and Chess Meet with Go (棋)\n",
    "- ### Explain the rules\n",
    "- ### Simulate a game"
   ]
  },
  {
   "cell_type": "code",
   "execution_count": 1,
   "metadata": {
    "collapsed": false
   },
   "outputs": [
    {
     "name": "stderr",
     "output_type": "stream",
     "text": [
      "/Users/labuser/scikit-learn/sklearn/cross_validation.py:43: DeprecationWarning: This module has been deprecated in favor of the model_selection module into which all the refactored classes and functions are moved. Also note that the interface of the new CV iterators are different from that of this module. This module will be removed in 0.20.\n",
      "  \"This module will be removed in 0.20.\", DeprecationWarning)\n"
     ]
    }
   ],
   "source": [
    "%matplotlib inline\n",
    "# All imports\n",
    "\n",
    "from __future__ import print_function, division\n",
    "from random import choice\n",
    "import numpy as np\n",
    "import matplotlib.pyplot as plt\n",
    "from copy import copy\n",
    "import time\n",
    "from IPython import display\n",
    "\n",
    "import sklearn\n",
    "from sklearn.neural_network import MLPRegressor, MLPClassifier\n",
    "from sklearn.cross_validation import train_test_split\n",
    "\n",
    "from time import time\n",
    "from sklearn.metrics import classification_report, confusion_matrix\n",
    "\n",
    "# -------------> New import <------------------\n",
    "\n",
    "import pickle\n",
    "\n",
    "np.set_printoptions(formatter={'float': '{:.5f}'.format})\n"
   ]
  },
  {
   "cell_type": "code",
   "execution_count": 2,
   "metadata": {
    "collapsed": false
   },
   "outputs": [
    {
     "name": "stdout",
     "output_type": "stream",
     "text": [
      "{'blue whale': 30, 'polar bear': 2.5, 'african elephant': 3}\n"
     ]
    }
   ],
   "source": [
    "test_dict = {'african elephant': 3, 'blue whale': 30}\n",
    "test_dict['polar bear'] = 2.5\n",
    "print(test_dict)\n",
    "\n",
    "pickle.dump(test_dict, open('test_pickle.p', 'w'))"
   ]
  },
  {
   "cell_type": "code",
   "execution_count": 3,
   "metadata": {
    "collapsed": false
   },
   "outputs": [],
   "source": [
    "# Best way\n",
    "\n",
    "with open('test_pickle.p', 'w') as f:\n",
    "    pickle.dump(test_dict, f)"
   ]
  },
  {
   "cell_type": "code",
   "execution_count": 4,
   "metadata": {
    "collapsed": false
   },
   "outputs": [
    {
     "name": "stdout",
     "output_type": "stream",
     "text": [
      "{'blue whale': 30, 'polar bear': 2.5, 'african elephant': 3}\n"
     ]
    }
   ],
   "source": [
    "# To open\n",
    "read_dict = pickle.load(open('test_pickle.p', 'r'))\n",
    "print(read_dict)"
   ]
  },
  {
   "cell_type": "markdown",
   "metadata": {},
   "source": [
    "## Minibreakout: Write the above example using the \n",
    "\n",
    "      with...\n",
    "      \n",
    "## syntax.  Call the dictionary object read from pickle, read_dict2."
   ]
  },
  {
   "cell_type": "code",
   "execution_count": 5,
   "metadata": {
    "collapsed": false
   },
   "outputs": [
    {
     "name": "stdout",
     "output_type": "stream",
     "text": [
      "{'blue whale': 30, 'polar bear': 2.5, 'african elephant': 3}\n"
     ]
    }
   ],
   "source": [
    "with open('test_pickle.p', 'r') as f:\n",
    "    read_dict2 = pickle.load(f)\n",
    "print (read_dict2)"
   ]
  },
  {
   "cell_type": "markdown",
   "metadata": {},
   "source": [
    "## Simulate Alak:\n",
    "   ### a) Randomly generate the next legal move\n",
    "   ### b) Decide if any pieces need to be removed from the board\n",
    "   ### c) The opposite side do step a), then b), etc.\n",
    "   ### d) Repeat until one side wins (the other side should have zero piece on the board)\n",
    "   ### Save all the steps of the simulated game in a pickle file (save one side as 'x', the other side as 'o', and unoccupied as '\\_' -- thus each step will be saved as a string.  The key should be the step number)\n"
   ]
  },
  {
   "cell_type": "code",
   "execution_count": 7,
   "metadata": {
    "collapsed": false
   },
   "outputs": [
    {
     "name": "stdout",
     "output_type": "stream",
     "text": [
      "x x x x _ _ o o o o\n",
      "\n",
      "Round: 1\n",
      "\n",
      "x: 0 --> 5\n",
      "_ x x x _ x o o o o\n",
      "_ x x x _ x o o o o\n",
      "\n",
      "o: 6 --> 4\n",
      "_ x x x o x _ o o o\n",
      "_ x x x _ x _ o o o\n",
      "\n",
      "Round: 2\n",
      "\n",
      "x: 2 --> 6\n",
      "_ x _ x _ x x o o o\n",
      "_ x _ x _ x x o o o\n",
      "\n",
      "o: 9 --> 4\n",
      "_ x _ x o x x o o _\n",
      "_ x _ x o _ _ o o _\n",
      "\n",
      "Round: 3\n",
      "\n",
      "x: 3 --> 6\n",
      "_ x _ _ o _ x o o _\n",
      "_ x _ _ o _ x o o _\n",
      "\n",
      "o: 8 --> 9\n",
      "_ x _ _ o _ x o _ o\n",
      "_ x _ _ o _ x o _ o\n",
      "\n",
      "Round: 4\n",
      "\n",
      "x: 1 --> 3\n",
      "_ _ _ x o _ x o _ o\n",
      "_ _ _ x o _ x o _ o\n",
      "\n",
      "o: 7 --> 8\n",
      "_ _ _ x o _ x _ o o\n",
      "_ _ _ x o _ x _ o o\n",
      "\n",
      "Round: 5\n",
      "\n",
      "x: 6 --> 2\n",
      "_ _ x x o _ _ _ o o\n",
      "_ _ x x o _ _ _ o o\n",
      "\n",
      "o: 8 --> 7\n",
      "_ _ x x o _ _ o _ o\n",
      "_ _ x x o _ _ o _ o\n",
      "\n",
      "Round: 6\n",
      "\n",
      "x: 2 --> 6\n",
      "_ _ _ x o _ x o _ o\n",
      "_ _ _ x o _ x o _ o\n",
      "\n",
      "o: 4 --> 2\n",
      "_ _ o x _ _ x o _ o\n",
      "_ _ o x _ _ x o _ o\n",
      "\n",
      "Round: 7\n",
      "\n",
      "x: 6 --> 8\n",
      "_ _ o x _ _ _ o x o\n",
      "_ _ o x _ _ _ o _ o\n",
      "\n",
      "o: 7 --> 8\n",
      "_ _ o x _ _ _ _ o o\n",
      "_ _ o x _ _ _ _ o o\n",
      "\n",
      "Round: 8\n",
      "\n",
      "x: 3 --> 1\n",
      "_ x o _ _ _ _ _ o o\n",
      "_ x o _ _ _ _ _ o o\n",
      "\n",
      "o: 2 --> 3\n",
      "_ x _ o _ _ _ _ o o\n",
      "_ x _ o _ _ _ _ o o\n",
      "\n",
      "Round: 9\n",
      "\n",
      "x: 1 --> 6\n",
      "_ _ _ o _ _ x _ o o\n",
      "_ _ _ o _ _ x _ o o\n",
      "\n",
      "o: 3 --> 0\n",
      "o _ _ _ _ _ x _ o o\n",
      "o _ _ _ _ _ x _ o o\n",
      "\n",
      "Round: 10\n",
      "\n",
      "x: 6 --> 4\n",
      "o _ _ _ x _ _ _ o o\n",
      "o _ _ _ x _ _ _ o o\n",
      "\n",
      "o: 0 --> 3\n",
      "_ _ _ o x _ _ _ o o\n",
      "_ _ _ o x _ _ _ o o\n",
      "\n",
      "Round: 11\n",
      "\n",
      "x: 4 --> 2\n",
      "_ _ x o _ _ _ _ o o\n",
      "_ _ x o _ _ _ _ o o\n",
      "\n",
      "o: 3 --> 5\n",
      "_ _ x _ _ o _ _ o o\n",
      "_ _ x _ _ o _ _ o o\n",
      "\n",
      "Round: 12\n",
      "\n",
      "x: 2 --> 0\n",
      "x _ _ _ _ o _ _ o o\n",
      "x _ _ _ _ o _ _ o o\n",
      "\n",
      "o: 5 --> 3\n",
      "x _ _ o _ _ _ _ o o\n",
      "x _ _ o _ _ _ _ o o\n",
      "\n",
      "Round: 13\n",
      "\n",
      "x: 0 --> 6\n",
      "_ _ _ o _ _ x _ o o\n",
      "_ _ _ o _ _ x _ o o\n",
      "\n",
      "o: 8 --> 4\n",
      "_ _ _ o o _ x _ _ o\n",
      "_ _ _ o o _ x _ _ o\n",
      "\n",
      "Round: 14\n",
      "\n",
      "x: 6 --> 1\n",
      "_ x _ o o _ _ _ _ o\n",
      "_ x _ o o _ _ _ _ o\n",
      "\n",
      "o: 4 --> 8\n",
      "_ x _ o _ _ _ _ o o\n",
      "_ x _ o _ _ _ _ o o\n",
      "\n",
      "Round: 15\n",
      "\n",
      "x: 1 --> 6\n",
      "_ _ _ o _ _ x _ o o\n",
      "_ _ _ o _ _ x _ o o\n",
      "\n",
      "o: 8 --> 4\n",
      "_ _ _ o o _ x _ _ o\n",
      "_ _ _ o o _ x _ _ o\n",
      "\n",
      "Round: 16\n",
      "\n",
      "x: 6 --> 1\n",
      "_ x _ o o _ _ _ _ o\n",
      "_ x _ o o _ _ _ _ o\n",
      "\n",
      "o: 9 --> 0\n",
      "o x _ o o _ _ _ _ _\n",
      "o x _ o o _ _ _ _ _\n",
      "\n",
      "Round: 17\n",
      "\n",
      "x: 1 --> 9\n",
      "o _ _ o o _ _ _ _ x\n",
      "o _ _ o o _ _ _ _ x\n",
      "\n",
      "o: 0 --> 1\n",
      "_ o _ o o _ _ _ _ x\n",
      "_ o _ o o _ _ _ _ x\n",
      "\n",
      "Round: 18\n",
      "\n",
      "x: 9 --> 2\n",
      "_ o x o o _ _ _ _ _\n",
      "_ o _ o o _ _ _ _ _\n",
      "\n"
     ]
    },
    {
     "name": "stderr",
     "output_type": "stream",
     "text": [
      "/Users/labuser/Library/Enthought/Canopy_64bit/User/lib/python2.7/site-packages/ipykernel/__main__.py:75: FutureWarning: comparison to `None` will result in an elementwise object comparison in the future.\n",
      "/Users/labuser/Library/Enthought/Canopy_64bit/User/lib/python2.7/site-packages/ipykernel/__main__.py:86: FutureWarning: comparison to `None` will result in an elementwise object comparison in the future.\n"
     ]
    }
   ],
   "source": [
    "from pdb import set_trace\n",
    "import regex as re\n",
    "\n",
    "# class Alak:\n",
    "#     def __init__(self):\n",
    "#         self.board = np.array(['x', 'x', 'x', 'x', '_', '_', 'o', 'o', 'o', 'o'])\n",
    "#         self.x_pos = np.where(self.board == 'x')[0]\n",
    "#         self.o_pos = np.where(self.board == 'o')[0]\n",
    "#         self.random_move = np.random.choice(np.where(self.board == '_')[0])\n",
    "#         self.step = []\n",
    "        \n",
    "#     def next_move(self):\n",
    "#         self.random_move = np.random.choice(np.where(self.board == '_')[0])\n",
    "        \n",
    "    \n",
    "def next_move(board, piece):\n",
    "    move = np.random.choice(np.where(board == '_')[0])\n",
    "    \n",
    "    piece_pos = np.where(board == str(piece))[0]    #Indices of x/o pieces\n",
    "    rand_piece = np.random.choice(piece_pos)     #Among pieces, choose random piece to move to new position, move\n",
    "    \n",
    "    board[move], board[rand_piece] = board[rand_piece], board[move]     #Assign piece to move\n",
    "    \n",
    "    step = \"{}: {} --> {}\".format(piece, rand_piece, move)     #Assigns step of piece to new position\n",
    "    return board, step\n",
    "\n",
    "def check_dead(board, piece):\n",
    "    if piece == 'x':\n",
    "        dead_pat = re.search('xo+x', ''.join(board))\n",
    "        if dead_pat != None:\n",
    "            dead_se = [(m.start(0), m.end(0)) for m in re.finditer(dead_pat.group(), ''.join(board), overlapped=True)]\n",
    "            for elem in dead_se:\n",
    "                np.put(board, range(elem[0]+1, elem[1]-1), '_')\n",
    "        dead_pat = re.search('ox+o', ''.join(board))\n",
    "        if dead_pat != None:\n",
    "            dead_se = [(m.start(0), m.end(0)) for m in re.finditer(dead_pat.group(), ''.join(board), overlapped=True)]\n",
    "            for elem in dead_se:\n",
    "                np.put(board, range(elem[0]+1, elem[1]-1), '_')\n",
    "            return board\n",
    "        else:\n",
    "            return board\n",
    "    else:\n",
    "        dead_pat = re.search('ox+o', ''.join(board))\n",
    "        if dead_pat != None:\n",
    "            dead_se = [(m.start(0), m.end(0)) for m in re.finditer(dead_pat.group(), ''.join(board), overlapped=True)]\n",
    "            for elem in dead_se:\n",
    "                np.put(board, range(elem[0]+1, elem[1]-1), '_')\n",
    "        dead_pat = re.search('xo+x', ''.join(board))\n",
    "        if dead_pat != None:\n",
    "            dead_se = [(m.start(0), m.end(0)) for m in re.finditer(dead_pat.group(), ''.join(board), overlapped=True)]\n",
    "            for elem in dead_se:\n",
    "                np.put(board, range(elem[0]+1, elem[1]-1), '_')\n",
    "            return board\n",
    "        else:\n",
    "            return board\n",
    "\n",
    "steps = []\n",
    "board = np.array(['x', 'x', 'x', 'x', '_', '_', 'o', 'o', 'o', 'o'])\n",
    "print(*board)\n",
    "print()\n",
    "# board = np.array(['x', '_', 'o', 'x', 'o', 'x', 'o', 'o', '_', '_'])\n",
    "i = 1\n",
    "\n",
    "\n",
    "# while 'x' in board and 'o' in board:\n",
    "while len(np.unique(board)) > 2:\n",
    "    print(\"Round: {}\\n\".format(i))\n",
    "############################################\n",
    "    if len(np.unique(board)) > 2:\n",
    "        board, step = next_move(board, 'x')     #Determines which piece to move\n",
    "        steps.append(step)\n",
    "        print(step)\n",
    "        print(*board)\n",
    "        board_up = check_dead(board, 'x')\n",
    "        if board_up != None:\n",
    "            board = board_up\n",
    "        print(*board)\n",
    "        print()\n",
    "############################################\n",
    "    if len(np.unique(board)) > 2:\n",
    "        board, step = next_move(board, 'o')\n",
    "        steps.append(step)\n",
    "        print(step)\n",
    "        print(*board)\n",
    "        board_up = check_dead(board, 'o')\n",
    "        if board_up != None:\n",
    "            board = board_up\n",
    "        print(*board)\n",
    "        print()\n",
    "    \n",
    "    i += 1"
   ]
  },
  {
   "cell_type": "markdown",
   "metadata": {},
   "source": [
    "# End of Week11-1"
   ]
  },
  {
   "cell_type": "code",
   "execution_count": 25,
   "metadata": {
    "collapsed": false
   },
   "outputs": [
    {
     "name": "stdout",
     "output_type": "stream",
     "text": [
      "oxoxoo__\n",
      "oxo\n"
     ]
    }
   ],
   "source": [
    "test_board = np.array(['o', 'x', 'o', 'x', 'o', 'o', '_', '_'])\n",
    "stuff = re.search('ox+o', ''.join(test_board))\n",
    "new_test_board = ''.join(test_board)\n",
    "# print(np.where(new_test_board == stuff.group().rsplit()))\n",
    "print(new_test_board)\n",
    "print(stuff.group())"
   ]
  },
  {
   "cell_type": "code",
   "execution_count": 189,
   "metadata": {
    "collapsed": false,
    "scrolled": true
   },
   "outputs": [
    {
     "ename": "TypeError",
     "evalue": "first argument must be string or compiled pattern",
     "output_type": "error",
     "traceback": [
      "\u001b[0;31m---------------------------------------------------------------------------\u001b[0m",
      "\u001b[0;31mTypeError\u001b[0m                                 Traceback (most recent call last)",
      "\u001b[0;32m<ipython-input-189-33ec06a9ded8>\u001b[0m in \u001b[0;36m<module>\u001b[0;34m()\u001b[0m\n\u001b[1;32m      4\u001b[0m \u001b[0;32mif\u001b[0m \u001b[0mstuff\u001b[0m \u001b[0;34m!=\u001b[0m \u001b[0mNone\u001b[0m\u001b[0;34m:\u001b[0m\u001b[0;34m\u001b[0m\u001b[0m\n\u001b[1;32m      5\u001b[0m     \u001b[0mstuff\u001b[0m \u001b[0;34m=\u001b[0m \u001b[0mstuff\u001b[0m\u001b[0;34m.\u001b[0m\u001b[0mgroup\u001b[0m\u001b[0;34m(\u001b[0m\u001b[0;34m)\u001b[0m\u001b[0;34m\u001b[0m\u001b[0m\n\u001b[0;32m----> 6\u001b[0;31m \u001b[0mse\u001b[0m \u001b[0;34m=\u001b[0m \u001b[0;34m[\u001b[0m\u001b[0;34m(\u001b[0m\u001b[0mm\u001b[0m\u001b[0;34m.\u001b[0m\u001b[0mstart\u001b[0m\u001b[0;34m(\u001b[0m\u001b[0;36m0\u001b[0m\u001b[0;34m)\u001b[0m\u001b[0;34m,\u001b[0m \u001b[0mm\u001b[0m\u001b[0;34m.\u001b[0m\u001b[0mend\u001b[0m\u001b[0;34m(\u001b[0m\u001b[0;36m0\u001b[0m\u001b[0;34m)\u001b[0m\u001b[0;34m)\u001b[0m \u001b[0;32mfor\u001b[0m \u001b[0mm\u001b[0m \u001b[0;32min\u001b[0m \u001b[0mre\u001b[0m\u001b[0;34m.\u001b[0m\u001b[0mfinditer\u001b[0m\u001b[0;34m(\u001b[0m\u001b[0mstuff\u001b[0m\u001b[0;34m,\u001b[0m \u001b[0mtest_board_j\u001b[0m\u001b[0;34m)\u001b[0m\u001b[0;34m]\u001b[0m\u001b[0;34m\u001b[0m\u001b[0m\n\u001b[0m\u001b[1;32m      7\u001b[0m \u001b[0;32mfor\u001b[0m \u001b[0melem\u001b[0m \u001b[0;32min\u001b[0m \u001b[0mse\u001b[0m\u001b[0;34m:\u001b[0m\u001b[0;34m\u001b[0m\u001b[0m\n\u001b[1;32m      8\u001b[0m     \u001b[0;32mprint\u001b[0m\u001b[0;34m(\u001b[0m\u001b[0mtest_board\u001b[0m\u001b[0;34m)\u001b[0m\u001b[0;34m\u001b[0m\u001b[0m\n",
      "\u001b[0;32m/Applications/Canopy.app/appdata/canopy-1.5.5.3123.macosx-x86_64/Canopy.app/Contents/lib/python2.7/re.pyc\u001b[0m in \u001b[0;36mfinditer\u001b[0;34m(pattern, string, flags)\u001b[0m\n\u001b[1;32m    188\u001b[0m \u001b[0;34m\u001b[0m\u001b[0m\n\u001b[1;32m    189\u001b[0m         Empty matches are included in the result.\"\"\"\n\u001b[0;32m--> 190\u001b[0;31m         \u001b[0;32mreturn\u001b[0m \u001b[0m_compile\u001b[0m\u001b[0;34m(\u001b[0m\u001b[0mpattern\u001b[0m\u001b[0;34m,\u001b[0m \u001b[0mflags\u001b[0m\u001b[0;34m)\u001b[0m\u001b[0;34m.\u001b[0m\u001b[0mfinditer\u001b[0m\u001b[0;34m(\u001b[0m\u001b[0mstring\u001b[0m\u001b[0;34m)\u001b[0m\u001b[0;34m\u001b[0m\u001b[0m\n\u001b[0m\u001b[1;32m    191\u001b[0m \u001b[0;34m\u001b[0m\u001b[0m\n\u001b[1;32m    192\u001b[0m \u001b[0;32mdef\u001b[0m \u001b[0mcompile\u001b[0m\u001b[0;34m(\u001b[0m\u001b[0mpattern\u001b[0m\u001b[0;34m,\u001b[0m \u001b[0mflags\u001b[0m\u001b[0;34m=\u001b[0m\u001b[0;36m0\u001b[0m\u001b[0;34m)\u001b[0m\u001b[0;34m:\u001b[0m\u001b[0;34m\u001b[0m\u001b[0m\n",
      "\u001b[0;32m/Applications/Canopy.app/appdata/canopy-1.5.5.3123.macosx-x86_64/Canopy.app/Contents/lib/python2.7/re.pyc\u001b[0m in \u001b[0;36m_compile\u001b[0;34m(*key)\u001b[0m\n\u001b[1;32m    245\u001b[0m         \u001b[0;32mreturn\u001b[0m \u001b[0mpattern\u001b[0m\u001b[0;34m\u001b[0m\u001b[0m\n\u001b[1;32m    246\u001b[0m     \u001b[0;32mif\u001b[0m \u001b[0;32mnot\u001b[0m \u001b[0msre_compile\u001b[0m\u001b[0;34m.\u001b[0m\u001b[0misstring\u001b[0m\u001b[0;34m(\u001b[0m\u001b[0mpattern\u001b[0m\u001b[0;34m)\u001b[0m\u001b[0;34m:\u001b[0m\u001b[0;34m\u001b[0m\u001b[0m\n\u001b[0;32m--> 247\u001b[0;31m         \u001b[0;32mraise\u001b[0m \u001b[0mTypeError\u001b[0m\u001b[0;34m,\u001b[0m \u001b[0;34m\"first argument must be string or compiled pattern\"\u001b[0m\u001b[0;34m\u001b[0m\u001b[0m\n\u001b[0m\u001b[1;32m    248\u001b[0m     \u001b[0;32mtry\u001b[0m\u001b[0;34m:\u001b[0m\u001b[0;34m\u001b[0m\u001b[0m\n\u001b[1;32m    249\u001b[0m         \u001b[0mp\u001b[0m \u001b[0;34m=\u001b[0m \u001b[0msre_compile\u001b[0m\u001b[0;34m.\u001b[0m\u001b[0mcompile\u001b[0m\u001b[0;34m(\u001b[0m\u001b[0mpattern\u001b[0m\u001b[0;34m,\u001b[0m \u001b[0mflags\u001b[0m\u001b[0;34m)\u001b[0m\u001b[0;34m\u001b[0m\u001b[0m\n",
      "\u001b[0;31mTypeError\u001b[0m: first argument must be string or compiled pattern"
     ]
    }
   ],
   "source": [
    "test_board = np.array(['x', 'x', '_', 'x', 'o', 'o', 'x', '_', '_', 'o'])\n",
    "test_board_j = ''.join(test_board)\n",
    "stuff = re.search('xox', ''.join(test_board))\n",
    "if stuff != None:\n",
    "    stuff = stuff.group()\n",
    "    se = [(m.start(0), m.end(0)) for m in re.finditer(stuff, test_board_j)]\n",
    "    for elem in se:\n",
    "        print(test_board)\n",
    "        np.put(test_board, range(elem[0]+1, elem[1]-1), '_')\n",
    "        print(test_board)\n",
    "        \n",
    "    \n",
    "# stuff_new = np.array(list(stuff.group()))\n",
    "# print(np.where(test_board == stuff_new))"
   ]
  },
  {
   "cell_type": "code",
   "execution_count": 13,
   "metadata": {
    "collapsed": false
   },
   "outputs": [
    {
     "name": "stdout",
     "output_type": "stream",
     "text": [
      "[(0, 3)]\n"
     ]
    }
   ],
   "source": [
    "import regex as re\n",
    "\n",
    "pattern = 'oxo'\n",
    "string = 'oxoxxo'\n",
    "se = [(m.start(0), m.end(0)) for m in re.finditer(pattern, string, overlapped=True)]\n",
    "print(se)\n",
    "# for elem in se:\n",
    "    "
   ]
  },
  {
   "cell_type": "code",
   "execution_count": 79,
   "metadata": {
    "collapsed": false
   },
   "outputs": [
    {
     "name": "stdout",
     "output_type": "stream",
     "text": [
      "['_' 'o' 'x']\n",
      "[ True  True  True]\n"
     ]
    }
   ],
   "source": [
    "stuff = np.array(['x', 'o', 'x', '_'])\n",
    "print(np.unique(stuff))\n",
    "cool = np.array(['_', 'o', 'x'])\n",
    "print(np.unique(stuff) == cool)"
   ]
  },
  {
   "cell_type": "code",
   "execution_count": 7,
   "metadata": {
    "collapsed": false
   },
   "outputs": [
    {
     "name": "stdout",
     "output_type": "stream",
     "text": [
      "['x' '_' 'o' '_' 'o' 'x' 'o' 'o' '_' '_']\n"
     ]
    }
   ],
   "source": [
    "new_board = np.array(['x', '_', 'o', 'x', 'o', 'x', 'o', 'o', '_', '_'])\n",
    "print(check_dead(new_board, 'o'))"
   ]
  },
  {
   "cell_type": "code",
   "execution_count": 8,
   "metadata": {
    "collapsed": false
   },
   "outputs": [
    {
     "name": "stdout",
     "output_type": "stream",
     "text": [
      "['o' '_' 'o' 'x' 'x' 'o' '_' '_']\n"
     ]
    }
   ],
   "source": [
    "stuff_board = np.array(['o', 'x', 'o', 'x', 'x', 'o', '_', '_'])\n",
    "print(check_dead(stuff_board, 'o'))"
   ]
  },
  {
   "cell_type": "code",
   "execution_count": null,
   "metadata": {
    "collapsed": true
   },
   "outputs": [],
   "source": []
  }
 ],
 "metadata": {
  "kernelspec": {
   "display_name": "Python 2",
   "language": "python",
   "name": "python2"
  },
  "language_info": {
   "codemirror_mode": {
    "name": "ipython",
    "version": 2
   },
   "file_extension": ".py",
   "mimetype": "text/x-python",
   "name": "python",
   "nbconvert_exporter": "python",
   "pygments_lexer": "ipython2",
   "version": "2.7.9"
  }
 },
 "nbformat": 4,
 "nbformat_minor": 0
}

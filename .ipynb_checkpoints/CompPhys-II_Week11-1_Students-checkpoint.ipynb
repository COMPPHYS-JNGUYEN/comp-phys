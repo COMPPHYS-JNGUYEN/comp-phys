{
 "cells": [
  {
   "cell_type": "markdown",
   "metadata": {},
   "source": [
    "# Multi-layer Forward-feed NN \n",
    "\n",
    "## 0. Finish Facial Recognition from last time\n",
    "\n",
    "## 1. Learn to pickle a dictionary\n",
    "\n",
    "## 2. Alak -- Checker and Chess Meet with Go (棋)\n",
    "- ### Explain the rules\n",
    "- ### Simulate a game"
   ]
  },
  {
   "cell_type": "code",
   "execution_count": 83,
   "metadata": {
    "collapsed": false
   },
   "outputs": [],
   "source": [
    "%matplotlib inline\n",
    "# All imports\n",
    "\n",
    "from __future__ import print_function, division\n",
    "from random import choice\n",
    "import numpy as np\n",
    "import matplotlib.pyplot as plt\n",
    "from copy import copy\n",
    "import time\n",
    "from IPython import display\n",
    "\n",
    "import sklearn\n",
    "from sklearn.neural_network import MLPRegressor, MLPClassifier\n",
    "from sklearn.cross_validation import train_test_split\n",
    "\n",
    "from time import time\n",
    "from sklearn.metrics import classification_report, confusion_matrix\n",
    "\n",
    "# -------------> New import <------------------\n",
    "\n",
    "import pickle\n",
    "\n",
    "np.set_printoptions(formatter={'float': '{:.5f}'.format})\n"
   ]
  },
  {
   "cell_type": "code",
   "execution_count": 89,
   "metadata": {
    "collapsed": false
   },
   "outputs": [
    {
     "name": "stdout",
     "output_type": "stream",
     "text": [
      "{'blue whale': 30, 'polar bear': 2.5, 'african elephant': 3}\n"
     ]
    }
   ],
   "source": [
    "test_dict = {'african elephant': 3, 'blue whale': 30}\n",
    "test_dict['polar bear'] = 2.5\n",
    "print(test_dict)\n",
    "\n",
    "pickle.dump(test_dict, open('test_pickle.p', 'w'))"
   ]
  },
  {
   "cell_type": "code",
   "execution_count": 91,
   "metadata": {
    "collapsed": false
   },
   "outputs": [],
   "source": [
    "# Best way\n",
    "\n",
    "with open('test_pickle.p', 'w') as f:\n",
    "    pickle.dump(test_dict, f)"
   ]
  },
  {
   "cell_type": "code",
   "execution_count": 94,
   "metadata": {
    "collapsed": false
   },
   "outputs": [
    {
     "name": "stdout",
     "output_type": "stream",
     "text": [
      "{'blue whale': 30, 'polar bear': 2.5, 'african elephant': 3}\n"
     ]
    }
   ],
   "source": [
    "# To open\n",
    "read_dict = pickle.load(open('test_pickle.p', 'r'))\n",
    "print(read_dict)"
   ]
  },
  {
   "cell_type": "markdown",
   "metadata": {},
   "source": [
    "## Minibreakout: Write the above example using the \n",
    "\n",
    "      with...\n",
    "      \n",
    "## syntax.  Call the dictionary object read from pickle, read_dict2."
   ]
  },
  {
   "cell_type": "markdown",
   "metadata": {},
   "source": [
    "## Simulate Alak:\n",
    "   ### a) Randomly generate the next legal move\n",
    "   ### b) Decide if any pieces need to be removed from the board\n",
    "   ### c) The opposite side do step a), then b), etc.\n",
    "   ### d) Repeat until one side wins (the other side should have zero piece on the board)\n",
    "   ### Save all the steps of the simulated game in a pickle file (save one side as 'x', the other side as 'o', and unoccupied as '\\_' -- thus each step will be saved as a string.  The key should be the step number)\n"
   ]
  },
  {
   "cell_type": "markdown",
   "metadata": {},
   "source": [
    "# End of Week11-1"
   ]
  }
 ],
 "metadata": {
  "kernelspec": {
   "display_name": "Python 2",
   "language": "python",
   "name": "python2"
  },
  "language_info": {
   "codemirror_mode": {
    "name": "ipython",
    "version": 2
   },
   "file_extension": ".py",
   "mimetype": "text/x-python",
   "name": "python",
   "nbconvert_exporter": "python",
   "pygments_lexer": "ipython2",
   "version": "2.7.9"
  }
 },
 "nbformat": 4,
 "nbformat_minor": 0
}

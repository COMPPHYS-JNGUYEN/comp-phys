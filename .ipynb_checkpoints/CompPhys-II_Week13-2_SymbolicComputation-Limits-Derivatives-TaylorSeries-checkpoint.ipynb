{
 "cells": [
  {
   "cell_type": "markdown",
   "metadata": {},
   "source": [
    "# Symbolic Computation\n",
    "\n",
    "## 1. Limits\n",
    "\n",
    "## 2. Derivatives\n",
    "\n",
    "## 3. Taylor Series\n",
    "\n",
    "\n"
   ]
  },
  {
   "cell_type": "code",
   "execution_count": 7,
   "metadata": {
    "collapsed": false
   },
   "outputs": [],
   "source": [
    "import numpy as np\n",
    "from __future__ import print_function\n",
    "\n",
    "# ------------> new import!! <-----------------\n",
    "import sympy as sp\n",
    "# to make printing look good\n",
    "from sympy import init_printing\n",
    "init_printing() \n"
   ]
  },
  {
   "cell_type": "code",
   "execution_count": 8,
   "metadata": {
    "collapsed": false
   },
   "outputs": [
    {
     "name": "stdout",
     "output_type": "stream",
     "text": [
      "0.841470984807897\n"
     ]
    }
   ],
   "source": [
    "x = sp.symbols('x')\n",
    "f = sp.sin(x)\n",
    "# note: angle expressed in radians\n",
    "print(f.subs(x, 1.00))\n",
    "\n",
    "# Below is not OK\n",
    "#print(f.subs(y, 1.00))"
   ]
  },
  {
   "cell_type": "code",
   "execution_count": 9,
   "metadata": {
    "collapsed": false
   },
   "outputs": [
    {
     "ename": "TypeError",
     "evalue": "'sin' object is not callable",
     "output_type": "error",
     "traceback": [
      "\u001b[0;31m---------------------------------------------------------------------------\u001b[0m",
      "\u001b[0;31mTypeError\u001b[0m                                 Traceback (most recent call last)",
      "\u001b[0;32m<ipython-input-9-fec6b6b7f3e2>\u001b[0m in \u001b[0;36m<module>\u001b[0;34m()\u001b[0m\n\u001b[0;32m----> 1\u001b[0;31m \u001b[0;32mprint\u001b[0m\u001b[0;34m(\u001b[0m\u001b[0mf\u001b[0m\u001b[0;34m(\u001b[0m\u001b[0;36m1.0\u001b[0m\u001b[0;34m)\u001b[0m\u001b[0;34m)\u001b[0m\u001b[0;34m\u001b[0m\u001b[0m\n\u001b[0m",
      "\u001b[0;31mTypeError\u001b[0m: 'sin' object is not callable"
     ]
    }
   ],
   "source": [
    "print(f(1.0))"
   ]
  },
  {
   "cell_type": "code",
   "execution_count": 10,
   "metadata": {
    "collapsed": false
   },
   "outputs": [
    {
     "name": "stdout",
     "output_type": "stream",
     "text": [
      "0.841470984807897\n"
     ]
    }
   ],
   "source": [
    "print(sp.sin(1.0))"
   ]
  },
  {
   "cell_type": "markdown",
   "metadata": {},
   "source": [
    "## 1. Limits"
   ]
  },
  {
   "cell_type": "code",
   "execution_count": 11,
   "metadata": {
    "collapsed": false
   },
   "outputs": [
    {
     "name": "stdout",
     "output_type": "stream",
     "text": [
      "0\n"
     ]
    }
   ],
   "source": [
    "print(sp.limit(f, x, 0))"
   ]
  },
  {
   "cell_type": "code",
   "execution_count": 12,
   "metadata": {
    "collapsed": false
   },
   "outputs": [
    {
     "name": "stdout",
     "output_type": "stream",
     "text": [
      "(sin(h - x) + sin(h + x))/(2*h)\n",
      "cos(x)\n"
     ]
    }
   ],
   "source": [
    "'''\n",
    "A more interesting example...\n",
    "\n",
    "Before running the last line, what do you expect to get?\n",
    "\n",
    "'''\n",
    "h = sp.symbols('h')\n",
    "func = (sp.sin(x + h) - sp.sin(x - h))/(2*h)\n",
    "print(func)\n",
    "\n",
    "fun = sp.limit(func, h, 0)\n",
    "print(fun)"
   ]
  },
  {
   "cell_type": "markdown",
   "metadata": {},
   "source": [
    "### L'Hopital's Rule"
   ]
  },
  {
   "cell_type": "code",
   "execution_count": 14,
   "metadata": {
    "collapsed": false
   },
   "outputs": [
    {
     "name": "stdout",
     "output_type": "stream",
     "text": [
      "nan\n",
      "oo\n"
     ]
    }
   ],
   "source": [
    "f = sp.sin(x)/x**2  # x appearing twice means taking second derivative.\n",
    "print(f.subs(x, 0))\n",
    "print(sp.limit(f, x, 0))"
   ]
  },
  {
   "cell_type": "markdown",
   "metadata": {},
   "source": [
    "## 2. Derivatives"
   ]
  },
  {
   "cell_type": "code",
   "execution_count": 15,
   "metadata": {
    "collapsed": false
   },
   "outputs": [
    {
     "name": "stdout",
     "output_type": "stream",
     "text": [
      "Function: sin(x)/x**2 evaluated at 30.0 deg = 1.824\n",
      "First derivative: cos(x)/x**2 - 2*sin(x)/x**3 evaluated at 30.0 deg = -3.807\n"
     ]
    }
   ],
   "source": [
    "f1 = sp.diff(f, x)\n",
    "# f2 = diff(f, x, x)\n",
    "theta = 30.\n",
    "th_rad = np.radians(30.)\n",
    "print(\"Function: {} evaluated at \\\n",
    "{} deg = {:.3f}\".format(f, theta, f.subs(x, th_rad)))\n",
    "print(\"First derivative: {} evaluated at \\\n",
    "{} deg = {:.3f}\".format(f1, theta, f1.subs(x, th_rad)))\n"
   ]
  },
  {
   "cell_type": "code",
   "execution_count": 147,
   "metadata": {
    "collapsed": false
   },
   "outputs": [
    {
     "name": "stdout",
     "output_type": "stream",
     "text": [
      "Function: sin(x) evaluated at 30.0 deg = 0.500\n",
      "Second derivative: -sin(x) evaluated at 30.0 deg = -0.500\n"
     ]
    }
   ],
   "source": [
    "'''Second derivative'''\n",
    "\n",
    "f2 = sp.diff(f, x, x)\n",
    "print(\"Function: {} evaluated at \\\n",
    "{} deg = {:.3f}\".format(f, theta, f.subs(x, th_rad)))\n",
    "print(\"Second derivative: {} evaluated at \\\n",
    "{} deg = {:.3f}\".format(f2, theta, f2.subs(x, th_rad)))\n"
   ]
  },
  {
   "cell_type": "markdown",
   "metadata": {},
   "source": [
    "## Breakout Excercise:\n",
    "\n",
    "- ## Write a function derive\\_n(f, x, n) that takes a function and computes it's derivative up to the nth order \n",
    "\n",
    "- ## Define a function $$g(x) = \\frac {1} {1 - x^2}$$\n",
    "\n",
    "- ## Use derive\\_n(f, x, n) to print out the value of $g(x)$ and its first, second, and third order derivative at x = x0, where x0 = 0.5.\n",
    "\n"
   ]
  },
  {
   "cell_type": "markdown",
   "metadata": {},
   "source": [
    "## Breakout Exercise: Application 1 -- Partial Derivatives\n",
    "## For $$z = x^2 + y^2$$ find\n",
    "## $\\frac {\\partial z} {\\partial x}$ and $\\frac {\\partial z} {\\partial y}$.\n"
   ]
  },
  {
   "cell_type": "code",
   "execution_count": 21,
   "metadata": {
    "collapsed": false
   },
   "outputs": [
    {
     "name": "stdout",
     "output_type": "stream",
     "text": [
      "2.0*x/(-x**2 + 1.0)**2 (-8.0*x**2/(x**2 - 1.0) + 2.0)/(x**2 - 1.0)**2 x*(48.0*x**2/(x**2 - 1.0) - 24.0)/(x**2 - 1.0)**3\n",
      "2.0*x/(-x**2 + 1.0)**2 (-8.0*x**2/(x**2 - 1.0) + 2.0)/(x**2 - 1.0)**2 x*(48.0*x**2/(x**2 - 1.0) - 24.0)/(x**2 - 1.0)**3\n",
      "0.0937500000000000 -0.109375000000000 0.175781250000000\n",
      "0.0937500000000000 -0.109375000000000 0.175781250000000\n",
      "2*x 2*y\n"
     ]
    }
   ],
   "source": [
    "def derive_n(f, x, n):\n",
    "    return sp.diff(f, x, n)\n",
    "\n",
    "x = sp.symbols('x')\n",
    "y = sp.symbols('y')\n",
    "\n",
    "g = 1./(1.-x**2)\n",
    "z = x**2 + y**2\n",
    "\n",
    "g_diff = derive_n(g, x, 1)\n",
    "g_diff2 = derive_n(g, x, 2)\n",
    "g_diff3 = derive_n(g, x, 3)\n",
    "\n",
    "print(g_diff, g_diff2, g_diff3)\n",
    "print(sp.diff(g, x, 1), sp.diff(g, x, 2), sp.diff(g, x, 3))\n",
    "print(g_diff.subs(x, 3), g_diff2.subs(x, 3), g_diff3.subs(x, 3))\n",
    "print(sp.diff(g, x, 1).subs(x, 3), sp.diff(g, x, 2).subs(x, 3), sp.diff(g, x, 3).subs(x, 3))\n",
    "\n",
    "print(derive_n(z, x, 1), derive_n(z, y, 1))"
   ]
  },
  {
   "cell_type": "markdown",
   "metadata": {},
   "source": [
    "## The sympy people are a bit ahead of us -- they have already implemented that.  \n",
    "\n",
    "## ...you could have contributed to sympy two years ago!!"
   ]
  },
  {
   "cell_type": "code",
   "execution_count": 150,
   "metadata": {
    "collapsed": false
   },
   "outputs": [
    {
     "name": "stdout",
     "output_type": "stream",
     "text": [
      "sin(x) cos(x) -sin(x) -cos(x) sin(x)\n"
     ]
    }
   ],
   "source": [
    "# note sp.diff defaults to first derivative\n",
    "print(f, sp.diff(f), sp.diff(f, x, 2), sp.diff(f, x, 3), sp.diff(f, x, 4))"
   ]
  },
  {
   "cell_type": "code",
   "execution_count": 22,
   "metadata": {
    "collapsed": false
   },
   "outputs": [
    {
     "data": {
      "text/plain": [
       "sin(x)/x**2"
      ]
     },
     "execution_count": 22,
     "metadata": {},
     "output_type": "execute_result"
    }
   ],
   "source": [
    "'''What if I made the order to be 0?'''\n",
    "sp.diff(f, x, 0)"
   ]
  },
  {
   "cell_type": "code",
   "execution_count": 23,
   "metadata": {
    "collapsed": false
   },
   "outputs": [
    {
     "name": "stdout",
     "output_type": "stream",
     "text": [
      "720.0\n"
     ]
    }
   ],
   "source": [
    "'''\n",
    "factorial\n",
    "\n",
    "'''\n",
    "# ---------> new import <---------\n",
    "#mpmath is a free (BSD licensed) Python library for real and complex floating-point \n",
    "#arithmetic with arbitrary \n",
    "import sympy.mpmath as mp\n",
    "\n",
    "# from mpmath import fac\n",
    "mp.dps = 15; mp.pretty = True\n",
    "print(mp.fac(6))"
   ]
  },
  {
   "cell_type": "markdown",
   "metadata": {},
   "source": [
    "## Mini-breakout: Stirling Formula\n",
    "\n",
    "## Baos, 3rd Ed., p. 552:\n",
    "\n",
    "## $$n! \\approx \\sqrt{2 \\pi n} \\left( \\frac{n}{e}  \\right)^n $$\n"
   ]
  },
  {
   "cell_type": "code",
   "execution_count": 45,
   "metadata": {
    "collapsed": false
   },
   "outputs": [
    {
     "name": "stdout",
     "output_type": "stream",
     "text": [
      "inf\n",
      "9.33262154439442e+157\n"
     ]
    },
    {
     "name": "stderr",
     "output_type": "stream",
     "text": [
      "/Users/labuser/Library/Enthought/Canopy_64bit/User/lib/python2.7/site-packages/ipykernel/__main__.py:2: RuntimeWarning: overflow encountered in double_scalars\n",
      "  from ipykernel import kernelapp as app\n"
     ]
    }
   ],
   "source": [
    "def stirling(n):\n",
    "    return np.sqrt(2*np.pi*n)*(n/np.e)**n"
   ]
  },
  {
   "cell_type": "markdown",
   "metadata": {},
   "source": [
    "## Breakout Exercise: Applicatoin 2 -- Find the Taylor series\n",
    "\n",
    "## For $$y = sin(x)$$\n",
    "\n",
    "- ## find its Taylor series up to the 5th order; call it y_taylor.\n",
    "- ## Evaluate $y$ at $x = 31 ^{\\circ}$\n",
    "- ## Evaluate y_taylor at $x = 31 ^{\\circ}$.  This value should be very close to the true value above, expanding around x0 = 30 deg.\n",
    "\n",
    "## Of course this is only a demonstration.  You would really only use Taylor series for a very complicated function, to speed up the calculation -- esp. if the calculation has to be repeatedly carried out many times.\n",
    "\n",
    "## Your code should produce this output:\n",
    "\n",
    "        Original function: sin(x)\n",
    "        Taylor expansion of sin(x) to 4th order:\n",
    "         0.866025403784439*x + 0.0208333333333333*(x - 0.523598775598299)**4 - 0.144337567297406*(x - 0.523598775598299)**3 - 0.25*(x - 0.523598775598299)**2 + 0.0465501589414455\n",
    "\n",
    "        Exact value of sin(x) at 31.000 deg: 0.515038074910054\n",
    "        Taylor series approximation of sin(x) at 31.000 deg to the 4th order: 0.515038074898386\n",
    "        \n",
    "## Note that the 0th order term is NOT 0.5 -- sympy decides to combine the constant from the first order term with the 0th order term."
   ]
  },
  {
   "cell_type": "code",
   "execution_count": 192,
   "metadata": {
    "collapsed": false
   },
   "outputs": [
    {
     "data": {
      "image/png": "[encoded data removed]",
      "text/latex": [
       "$$x - \\frac{x^{3}}{6} + \\frac{x^{5}}{120} - \\frac{x^{7}}{5040} + \\frac{x^{9}}{362880} + \\mathcal{O}\\left(x^{10}\\right)$$"
      ],
      "text/plain": [
       "     3     5     7       9           \n",
       "    x     x     x       x       ⎛ 10⎞\n",
       "x - ── + ─── - ──── + ────── + O⎝x  ⎠\n",
       "    6    120   5040   362880         "
      ]
     },
     "execution_count": 192,
     "metadata": {},
     "output_type": "execute_result"
    }
   ],
   "source": [
    "'''\n",
    "Two Way to do Taylor Series\n",
    "\n",
    "Method 1\n",
    "http://www.sympygamma.com/input/?i=expand%28%285x+%2B+3%29*%281-x%29*%281%2B6x%29%29\n",
    "'''\n",
    "sp.series(sp.sin(x), x, 0, 10)"
   ]
  },
  {
   "cell_type": "code",
   "execution_count": 198,
   "metadata": {
    "collapsed": false
   },
   "outputs": [
    {
     "name": "stdout",
     "output_type": "stream",
     "text": [
      "[0.0, 1.0, 0.0, -0.166667, 0.0, 0.00833333]\n",
      "[7.38906, 7.38906, 3.69453, 2.93767e+39, -1.35476e+58, 9.29945e+76]\n",
      "[0.0, 1.0, 0.0, -0.166667, 0.0, 0.00833333]\n",
      "[7.38906, 7.38906, 3.69453, 2.93767e+39, -1.35476e+58, 9.29945e+76]\n",
      "coeffs:\n",
      " [2.03622577682172e-6, 2.03622577682172e-5, 0.000183260319913955, 0.00146608255931164, 0.0102625779151815, 0.0615754674910888, 0.307877337455444, 1.23150934982178, 3.69452804946533, 7.38905609893065, 7.38905609893065]\n",
      "Taylor series approx: 12.1824939606092\n",
      "Actual value: 12.1824939607035\n"
     ]
    }
   ],
   "source": [
    "'''Two Way to do Taylor Series\n",
    "\n",
    "Method 2\n",
    "http://mpmath.googlecode.com/svn/trunk/doc/build/calculus/approximation.html\n",
    "'''\n",
    "\n",
    "# This includes all the derivatives and factorials!!\n",
    "\n",
    "\n",
    "mp.nprint(mp.taylor(sin, 0, 5))\n",
    "mp.nprint(mp.taylor(sp.exp, 2.0, 5))\n",
    "\n",
    "\n",
    "p = mp.taylor(exp, 2.0, 10)\n",
    "\n",
    "print('coeffs:\\n', p[::-1])\n",
    "print('Taylor series approx:', mp.polyval(p[::-1], 2.5 - 2.0))\n",
    "\n",
    "print('Actual value:', sp.exp(2.5))\n"
   ]
  },
  {
   "cell_type": "markdown",
   "metadata": {},
   "source": [
    "## End of Week13-2"
   ]
  }
 ],
 "metadata": {
  "kernelspec": {
   "display_name": "Python 2",
   "language": "python",
   "name": "python2"
  },
  "language_info": {
   "codemirror_mode": {
    "name": "ipython",
    "version": 2
   },
   "file_extension": ".py",
   "mimetype": "text/x-python",
   "name": "python",
   "nbconvert_exporter": "python",
   "pygments_lexer": "ipython2",
   "version": "2.7.9"
  }
 },
 "nbformat": 4,
 "nbformat_minor": 0
}

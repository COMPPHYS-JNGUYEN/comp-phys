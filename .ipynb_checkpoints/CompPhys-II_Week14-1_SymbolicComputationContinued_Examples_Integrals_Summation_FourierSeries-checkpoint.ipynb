{
 "cells": [
  {
   "cell_type": "markdown",
   "metadata": {},
   "source": [
    "# Symbolic Computation -- Continued\n",
    "\n",
    "## 1. Simple Exercises\n",
    "\n",
    "## 2. Integrals -- Indefinite and Definite\n",
    "\n",
    "## 3. Summation\n",
    "\n",
    "## 4. Fourier Series\n",
    "\n",
    "\n"
   ]
  },
  {
   "cell_type": "code",
   "execution_count": 1,
   "metadata": {
    "collapsed": false
   },
   "outputs": [],
   "source": [
    "%matplotlib inline\n",
    "import numpy as np\n",
    "import matplotlib.pyplot as plt\n",
    "from __future__ import print_function\n",
    "\n",
    "# ------------> new import!! <-----------------\n",
    "import sympy as sp\n",
    "# to make printing look good\n",
    "from sympy import init_printing\n",
    "init_printing() \n"
   ]
  },
  {
   "cell_type": "markdown",
   "metadata": {},
   "source": [
    "## Mini Quiz:\n",
    "\n",
    "## A few symbolic computation problems\n",
    "\n",
    "##$$ \\lim_{x->0} \\sqrt{x}/ln(x)$$\n",
    "\n",
    "##$$ \\lim_{x->0} x^x$$\n",
    "\n",
    "\n",
    "## Find the derivative of \n",
    "\n",
    "##$$ e^{ln(x^2)}$$\n"
   ]
  },
  {
   "cell_type": "code",
   "execution_count": 13,
   "metadata": {
    "collapsed": false
   },
   "outputs": [
    {
     "name": "stdout",
     "output_type": "stream",
     "text": [
      "lim y1: 0\n",
      "x->0 \n",
      "\n",
      "lim y2: 1\n",
      "x->0\n",
      "\n",
      "Derivative of y3: 2*x\n"
     ]
    }
   ],
   "source": [
    "x = sp.symbols('x')\n",
    "\n",
    "y1 = sp.sqrt(x)/sp.log(x)\n",
    "y1_lim = sp.limit(y1, x, 0)\n",
    "\n",
    "y2 = x**x\n",
    "y2_lim = sp.limit(y2, x, 0)\n",
    "\n",
    "y3 = sp.exp(sp.log(x**2))\n",
    "y3_der = sp.diff(y3, x)\n",
    "\n",
    "print(\"lim y1: {}\\nx->0 \\n\\nlim y2: {}\\nx->0\\n\\nDerivative of y3: {}\".format(y1_lim, y2_lim, y3_der))"
   ]
  },
  {
   "cell_type": "markdown",
   "metadata": {},
   "source": [
    "## Integrals"
   ]
  },
  {
   "cell_type": "code",
   "execution_count": null,
   "metadata": {
    "collapsed": false
   },
   "outputs": [],
   "source": [
    "'''Indefinite Integral'''\n",
    "\n",
    "x = sp.symbols('x')\n",
    "f = sp.sin(x)\n",
    "\n",
    "f_int = sp.integrate(f, x)\n",
    "print(f_int)"
   ]
  },
  {
   "cell_type": "markdown",
   "metadata": {},
   "source": [
    "## Minibreakout:\n",
    "\n",
    "## Find the integral of the following functions\n",
    "\n",
    "## g = x^2\n",
    "\n",
    "## u = sin(x)^2\n",
    "\n",
    "## v = exp(x^2)\n",
    "\n",
    "## w = tan(x)\n",
    "\n",
    "## z = sec(x)"
   ]
  },
  {
   "cell_type": "code",
   "execution_count": null,
   "metadata": {
    "collapsed": false
   },
   "outputs": [],
   "source": [
    "'''Let's check the integral of sec(x)'''\n",
    "\n",
    "known_ans = sp.ln(np.abs(sp.sec(x) + sp.tan(x)))\n",
    "print(known_ans.subs(x, 0.25), z_int.subs(x, 0.25))"
   ]
  },
  {
   "cell_type": "code",
   "execution_count": null,
   "metadata": {
    "collapsed": false
   },
   "outputs": [],
   "source": [
    "'''The lazy person's method of checking whether two results are equivalent '''\n",
    "x1 = 0.25\n",
    "x2 = 0.5\n",
    "x3 = 0.75\n",
    "print(known_ans.subs(x, x1) - z_int.subs(x, x1))\n",
    "print(known_ans.subs(x, x2) - z_int.subs(x, x2))\n",
    "print(known_ans.subs(x, x3) - z_int.subs(x, x3))"
   ]
  },
  {
   "cell_type": "code",
   "execution_count": null,
   "metadata": {
    "collapsed": false
   },
   "outputs": [],
   "source": [
    "'''Actually the logrithm of negative numbers are defined... in terms of imaginary numbers!'''\n",
    "sp.ln(-0.25)"
   ]
  },
  {
   "cell_type": "markdown",
   "metadata": {},
   "source": [
    "## Apply a sympy function to an array\n",
    "\n",
    "## Introducing lambdify"
   ]
  },
  {
   "cell_type": "code",
   "execution_count": null,
   "metadata": {
    "collapsed": false
   },
   "outputs": [],
   "source": [
    "'''Introduce lambdify'''\n",
    "# basis_fn = sin(n*pi*x/L)\n",
    "from sympy.utilities.lambdify import lambdify  # This is considered by some as the ugly way of doing things\n",
    "                                               # They advocate for evalf() -- but I think one has to implement a loop.\n",
    "                                               # in any case, this works.  I haven't looked into the precision too much.\n",
    "\n",
    "\n",
    "\n",
    "        \n",
    "test_fn = sp.sin(x**2)\n",
    "\n",
    "test_func = lambdify(x, test_fn, 'numpy')  # Without 'numpy', more complicated functions (such as sin) \n",
    "xval = np.linspace(0, 2*np.pi, 100)\n",
    "\n",
    "print(test_fn)\n",
    "print(test_func(xval))"
   ]
  },
  {
   "cell_type": "code",
   "execution_count": null,
   "metadata": {
    "collapsed": false
   },
   "outputs": [],
   "source": [
    "plt.plot(xval, test_func(xval))\n",
    "plt.show()"
   ]
  },
  {
   "cell_type": "markdown",
   "metadata": {},
   "source": [
    "### The issue of other parameters\n",
    "### (Also, from now on, \n",
    "\n",
    "from sympy import *\n",
    "\n",
    "### is permitted)"
   ]
  },
  {
   "cell_type": "code",
   "execution_count": null,
   "metadata": {
    "collapsed": true
   },
   "outputs": [],
   "source": [
    "from sympy import *"
   ]
  },
  {
   "cell_type": "code",
   "execution_count": null,
   "metadata": {
    "collapsed": false
   },
   "outputs": [],
   "source": [
    "print(E)\n",
    "print(pi)\n",
    "print(E.evalf())\n",
    "print(pi.evalf())\n"
   ]
  },
  {
   "cell_type": "code",
   "execution_count": null,
   "metadata": {
    "collapsed": false
   },
   "outputs": [],
   "source": [
    "'''infinity'''\n",
    "print(oo > 1e100)\n"
   ]
  },
  {
   "cell_type": "code",
   "execution_count": null,
   "metadata": {
    "collapsed": false
   },
   "outputs": [],
   "source": [
    "print(oo + 2e10)"
   ]
  },
  {
   "cell_type": "code",
   "execution_count": null,
   "metadata": {
    "collapsed": false
   },
   "outputs": [],
   "source": [
    "from sympy import *\n",
    "# note you can specify variable type\n",
    "x, a = symbols('x a', real = True)\n",
    "b = symbols('b', integer=True, positive=True)\n",
    "\n",
    "y = a*exp(-b*x**2)\n",
    "\n",
    "y_ab = y.subs(a, 1/np.sqrt(np.pi)).subs(b, 2)\n",
    "y_fun = lambdify(x, y_ab, 'numpy')  # Without 'numpy', more complicated functions (such as sin) \n",
    "xval = np.linspace(-5, 5, 100)\n",
    "\n",
    "print(y)\n",
    "print(y_ab)\n",
    "\n",
    "yval = y_fun(xval)\n",
    "plt.plot(xval, yval)\n",
    "plt.show()"
   ]
  },
  {
   "cell_type": "markdown",
   "metadata": {},
   "source": [
    "## Summation"
   ]
  },
  {
   "cell_type": "code",
   "execution_count": null,
   "metadata": {
    "collapsed": false
   },
   "outputs": [],
   "source": [
    "'''Summation'''\n",
    "\n",
    "n = symbols('n', integer=True, positive=True)\n",
    "N = 10\n",
    "sum_fin = summation(1/(n**2), (n, 1, N))\n",
    "print(sum_fin)"
   ]
  },
  {
   "cell_type": "code",
   "execution_count": null,
   "metadata": {
    "collapsed": false
   },
   "outputs": [],
   "source": [
    "'''What happens if the upper limit is infinity?'''\n",
    "n = symbols('n', integer=True, positive=True)\n",
    "N = 10\n",
    "sum_fin = summation(1/(n**2), (n, 1, oo))\n",
    "print(sum_fin)"
   ]
  },
  {
   "cell_type": "markdown",
   "metadata": {},
   "source": [
    "## Fourier Series\n",
    "\n",
    "## For any function defined on the interval (0, L), it can be written as a Fourier sine series (think the infinite square well problem)\n",
    "\n",
    "\n",
    "## $$f(x) = A_n\\sqrt{\\frac{2}{L}} \\sum_{n=1}^{\\infty} sin \\left( \\frac {n\\pi x}{L}  \\right) $$\n"
   ]
  },
  {
   "cell_type": "markdown",
   "metadata": {},
   "source": [
    "## Breakout Exercise\n",
    "\n",
    "## Using symbolic integration to find the Fourier Sine Series for\n",
    "\n",
    "## f(x) = x/2 for 0 < x < 2."
   ]
  },
  {
   "cell_type": "markdown",
   "metadata": {},
   "source": [
    "## End of Week14-1"
   ]
  }
 ],
 "metadata": {
  "kernelspec": {
   "display_name": "Python 2",
   "language": "python",
   "name": "python2"
  },
  "language_info": {
   "codemirror_mode": {
    "name": "ipython",
    "version": 2
   },
   "file_extension": ".py",
   "mimetype": "text/x-python",
   "name": "python",
   "nbconvert_exporter": "python",
   "pygments_lexer": "ipython2",
   "version": "2.7.9"
  }
 },
 "nbformat": 4,
 "nbformat_minor": 0
}

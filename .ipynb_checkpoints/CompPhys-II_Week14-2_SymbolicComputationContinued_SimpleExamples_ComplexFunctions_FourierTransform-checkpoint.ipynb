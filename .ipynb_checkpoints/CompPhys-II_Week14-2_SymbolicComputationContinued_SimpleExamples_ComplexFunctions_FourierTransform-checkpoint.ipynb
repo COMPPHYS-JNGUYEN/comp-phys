{
 "cells": [
  {
   "cell_type": "markdown",
   "metadata": {},
   "source": [
    "# Symbolic Computation -- Continued\n",
    "\n",
    "## 1. Simple Exercises\n",
    "\n",
    "## 2. Complex Functions in Sympy\n",
    "\n",
    "## 3. Fourier Transform\n",
    "\n",
    "\n",
    "\n"
   ]
  },
  {
   "cell_type": "code",
   "execution_count": 14,
   "metadata": {
    "collapsed": false
   },
   "outputs": [],
   "source": [
    "%matplotlib inline\n",
    "import numpy as np\n",
    "import matplotlib.pyplot as plt\n",
    "from __future__ import print_function\n",
    "\n",
    "from sympy import *\n",
    "from sympy.utilities.lambdify import lambdify  \n",
    "\n",
    "from sympy import init_printing\n",
    "# init_printing()\n",
    "init_printing(use_latex='mathjax')"
   ]
  },
  {
   "cell_type": "markdown",
   "metadata": {},
   "source": [
    "## Mini Quiz:\n",
    "\n",
    "##1. Integrate a Gaussian from $-\\infty$ to $+\\infty$:\n",
    "\n",
    "## $$y = ae^{-bx^2}$$\n",
    "\n",
    "## Be sure specify that $b > 0$.  Otherwise the integral blows up.\n",
    "\n",
    "## 2. Sum over the geometric series\n",
    "\n",
    "## $$\\sum_{0}^{\\infty} \\frac{1} {2^n}$$\n",
    "\n",
    "## Be sure to specify that $n$ is an integer.\n",
    "\n",
    "## 3. Find the normalization factor A of the following function \n",
    "\n",
    "## $$f(x) = Asin\\left(\\frac{2n \\pi x} {L}\\right)$$\n",
    "\n",
    "## such that $f(x)$ has a norm of 1 over the interval of $x \\in (-L/2, L/2)$.\n",
    "\n",
    "## Be sure to specify $L > 0$ ($L = 0$ would make an unviable function).\n",
    "\n"
   ]
  },
  {
   "cell_type": "code",
   "execution_count": 15,
   "metadata": {
    "collapsed": false
   },
   "outputs": [
    {
     "name": "stdout",
     "output_type": "stream",
     "text": [
      "sqrt(pi)*a/sqrt(b)\n",
      "2\n"
     ]
    },
    {
     "data": {
      "text/plain": [
       "sqrt(2)/sqrt(L)"
      ]
     },
     "execution_count": 15,
     "metadata": {},
     "output_type": "execute_result"
    }
   ],
   "source": [
    "x = symbols('x')\n",
    "a = symbols('a')\n",
    "b = symbols('b', positive=True)\n",
    "y1 = a*exp(-b*x**2)\n",
    "\n",
    "y1_integrated = integrate(y1, (x, -oo, oo))\n",
    "print(y1_integrated)\n",
    "\n",
    "##########\n",
    "\n",
    "n = symbols('n', integer=True, positive=True)\n",
    "y2 = 1/2**n\n",
    "y2_summation = summation(y2, (n, 0, oo))\n",
    "print(y2_summation)\n",
    "\n",
    "##########\n",
    "\n",
    "L = symbols('L', positive=True)\n",
    "# A = symbols('A')\n",
    "y3 = sin((2*n*pi*x)/L)\n",
    "\n",
    "y3_sq = y3**2\n",
    "y3_norm_sq = integrate(y3_sq, (x, -L/2, L/2))\n",
    "A = sqrt(y3_norm_sq)**-1\n",
    "A"
   ]
  },
  {
   "cell_type": "code",
   "execution_count": 4,
   "metadata": {
    "collapsed": false
   },
   "outputs": [
    {
     "name": "stdout",
     "output_type": "stream",
     "text": [
      "1j\n",
      "1j\n",
      "1.0*I\n"
     ]
    }
   ],
   "source": [
    "'''Useful for complex Fourier Series and for Fourier Transform'''\n",
    "print(complex(1j))\n",
    "print(1j)\n",
    "print(I.evalf())"
   ]
  },
  {
   "cell_type": "code",
   "execution_count": 5,
   "metadata": {
    "collapsed": false
   },
   "outputs": [
    {
     "data": {
      "text/plain": [
       "-1"
      ]
     },
     "execution_count": 5,
     "metadata": {},
     "output_type": "execute_result"
    }
   ],
   "source": [
    "# Purely sympy expression\n",
    "E**(I*pi)"
   ]
  },
  {
   "cell_type": "code",
   "execution_count": 6,
   "metadata": {
    "collapsed": false
   },
   "outputs": [
    {
     "data": {
      "text/plain": [
       "exp(1.0*I*pi)"
      ]
     },
     "execution_count": 6,
     "metadata": {},
     "output_type": "execute_result"
    }
   ],
   "source": [
    "## mixture of sympy and numpy expressions \n",
    "E**(1j*pi)"
   ]
  },
  {
   "cell_type": "code",
   "execution_count": 7,
   "metadata": {
    "collapsed": false
   },
   "outputs": [
    {
     "data": {
      "text/plain": [
       "-1.0 + 0.e-21*I"
      ]
     },
     "execution_count": 7,
     "metadata": {},
     "output_type": "execute_result"
    }
   ],
   "source": [
    "## mixture of sympy and numpy expressions with evalf()\n",
    "(E**(1j*pi)).evalf()"
   ]
  },
  {
   "cell_type": "code",
   "execution_count": 8,
   "metadata": {
    "collapsed": false
   },
   "outputs": [
    {
     "data": {
      "text/plain": [
       "2.71828182845905**(1.0*I*pi)"
      ]
     },
     "execution_count": 8,
     "metadata": {},
     "output_type": "execute_result"
    }
   ],
   "source": [
    "## mixture of sympy and numpy expressions\n",
    "np.e**(1j*pi)"
   ]
  },
  {
   "cell_type": "code",
   "execution_count": 9,
   "metadata": {
    "collapsed": false
   },
   "outputs": [
    {
     "data": {
      "text/plain": [
       "-1.0 + 2.0e-16*I"
      ]
     },
     "execution_count": 9,
     "metadata": {},
     "output_type": "execute_result"
    }
   ],
   "source": [
    "## mixture of sympy and numpy expressions with evalf()\n",
    "(np.e**(1j*pi)).evalf()"
   ]
  },
  {
   "cell_type": "code",
   "execution_count": 10,
   "metadata": {
    "collapsed": false
   },
   "outputs": [
    {
     "data": {
      "text/plain": [
       "-1.0 + 2.0e-16*I"
      ]
     },
     "execution_count": 10,
     "metadata": {},
     "output_type": "execute_result"
    }
   ],
   "source": [
    "(np.e**(1j*pi)).evalf()"
   ]
  },
  {
   "cell_type": "code",
   "execution_count": 11,
   "metadata": {
    "collapsed": false
   },
   "outputs": [
    {
     "data": {
      "text/plain": [
       "(-1+1.2246467991473532e-16j)"
      ]
     },
     "execution_count": 11,
     "metadata": {},
     "output_type": "execute_result"
    }
   ],
   "source": [
    "## purely numpy expressions\n",
    "np.e**(1j*np.pi)"
   ]
  },
  {
   "cell_type": "markdown",
   "metadata": {},
   "source": [
    "## Conclusion: Generally, DON'T mix numpy and sympy expressions."
   ]
  },
  {
   "cell_type": "markdown",
   "metadata": {},
   "source": [
    "## Sympy's plotting function"
   ]
  },
  {
   "cell_type": "code",
   "execution_count": 13,
   "metadata": {
    "collapsed": false
   },
   "outputs": [
    {
     "data": {
      "image/png": "[encoded data removed]",
      "text/plain": [
       "<matplotlib.figure.Figure at 0x10e2365d0>"
      ]
     },
     "metadata": {},
     "output_type": "display_data"
    }
   ],
   "source": [
    "from sympy.abc import x\n",
    "f = x**2\n",
    "# note the difference between the tuple that specify the range in which to evalute the function\n",
    "# and the keyword variable that specifies the range of plotting\n",
    "plot(f, (x, -10, 10), xlim = (-10, 10))\n",
    "\n",
    "# This tells you underneath it's still matplotlib\n",
    "plt.show()"
   ]
  },
  {
   "cell_type": "code",
   "execution_count": 16,
   "metadata": {
    "collapsed": false
   },
   "outputs": [
    {
     "data": {
      "image/png": "[encoded data removed]",
      "text/plain": [
       "<matplotlib.figure.Figure at 0x10e236710>"
      ]
     },
     "metadata": {},
     "output_type": "display_data"
    }
   ],
   "source": [
    "# The Heaviside step function\n",
    "f = Heaviside(x)\n",
    "plot(f, (x, -2, 2))\n",
    "plt.show()"
   ]
  },
  {
   "cell_type": "markdown",
   "metadata": {},
   "source": [
    "## Mini-breakout: \n",
    "\n",
    "- ## Creat a tophat function:\n",
    "\n",
    "$$f(x) = \\begin{cases} \n",
    "      0 & x\\leq -w/2 \\\\\n",
    "      1 & -w/2 < x < w/2 \\\\\n",
    "      0 & x \\geq w/2\n",
    "\\end{cases}$$\n",
    "\n",
    "- ## Specify w = 2.\n",
    "\n",
    "- ## Evaluate and plot the function between $x = -5$ and $5$."
   ]
  },
  {
   "cell_type": "code",
   "execution_count": 34,
   "metadata": {
    "collapsed": false
   },
   "outputs": [
    {
     "data": {
      "image/png": "[encoded data removed]",
      "text/plain": [
       "<matplotlib.figure.Figure at 0x1119d71d0>"
      ]
     },
     "metadata": {},
     "output_type": "display_data"
    }
   ],
   "source": [
    "x = symbols('x')\n",
    "w = symbols('w', positive=True)\n",
    "# w = 2\n",
    "f = Heaviside(x+w/2.) - Heaviside(x-w/2.)\n",
    "plot(f.subs(w, 2), xlim = (-5, 5))\n",
    "plt.show()"
   ]
  },
  {
   "cell_type": "markdown",
   "metadata": {},
   "source": [
    "## Fourier Tranform "
   ]
  },
  {
   "cell_type": "code",
   "execution_count": null,
   "metadata": {
    "collapsed": false
   },
   "outputs": [],
   "source": [
    "'''\n",
    "\n",
    "Note: We specify the width after FT!\n",
    "\n",
    "Qustion: what do you think is going to happen to the width of the FT if \n",
    "I make the width of the tophat wider?\n",
    "\n",
    "Try it -- do you get what you expected?\n",
    "\n",
    "Why??\n",
    "\n",
    "There are two explanations -- first I will offer one from classical physics:\n",
    "\n",
    "https://en.wikipedia.org/wiki/Fraunhofer_diffraction_(mathematics)#Slit_of_infinite_depth\n",
    "\n",
    "\n",
    "'''\n",
    "\n",
    "ft = fourier_transform(tophat, x, k)\n",
    "\n",
    "wid = 3\n",
    "\n",
    "xlo = -4\n",
    "xhi = 4\n",
    "klo = -1\n",
    "khi = 1\n",
    "\n",
    "plot(tophat.subs(w, wid), (x, xlo, xhi))   \n",
    "# by default the real part is plotted\n",
    "\n",
    "ft_w = ft.subs(w, wid)\n",
    "plot(ft_w, (k, klo, khi))   \n",
    "# if you want to take a look at the real and imaginary parts \n",
    "# -- takes a while\n",
    "# plot(re(ft.subs(w, wid)), (k, klo, khi))   \n",
    "# plot(im(ft.subs(w, wid)), (k, klo, khi))   \n",
    "# So, there is no imaginary part, because the the answer is \n",
    "# a purely real function.  If it's Methods, I will ask you to show that\n",
    "# it's basically the sinc function (closely to the Bessell function):\n",
    "# http://mathworld.wolfram.com/SincFunction.html\n",
    "\n",
    "# This is what you really want to plot\n",
    "# -- because as a physicist, this is what you measure.\n",
    "norm2 = ft_w*conjugate(ft_w)\n",
    "plot(norm2, (k, klo, khi))   \n",
    "\n",
    "tophat_w, ft, norm2"
   ]
  },
  {
   "cell_type": "markdown",
   "metadata": {},
   "source": [
    "## ft_w is an analytical function that you can lambdify and apply it to numpy arrays -- this is another way to generate plots."
   ]
  },
  {
   "cell_type": "code",
   "execution_count": null,
   "metadata": {
    "collapsed": false
   },
   "outputs": [],
   "source": [
    "'''\n",
    "Unfortunately lambdify can't be applied to continuous function.  So to get the numpy version of \n",
    "the tophat function itself, we have to try something else.\n",
    "\n",
    "You know I don't like for loops...well, there is another way\n",
    "\n",
    "'''\n",
    "def tophat_single(x_single, a = 2):\n",
    "    if x_single < -a:\n",
    "        return 0\n",
    "    elif x_single > a:\n",
    "        return 0\n",
    "    else:\n",
    "        return 1\n",
    "    \n",
    "tophat = np.vectorize(tophat_single)\n",
    "\n",
    "xval = np.linspace(-5, 5, 100)\n",
    "# yval = tophat(xval)\n",
    "# Or \n",
    "yval = tophat(xval, a = 1)\n",
    "plt.plot(xval, yval)\n",
    "plt.ylim(-0.5, 1.5)"
   ]
  },
  {
   "cell_type": "markdown",
   "metadata": {},
   "source": [
    "## Breakout Exercise:\n",
    "\n",
    "- ## Create a normalized Gaussian function with a mean of 0, in sympy.  Leave $\\sigma$ as a parameter (without specifying its value).\n",
    "\n",
    "- ## Find out its Fourier Transform\n",
    "\n",
    "- ## Specify the value of $\\sigma$\n",
    "\n",
    "- ## Plot the Gaussian and its Fourier Transform"
   ]
  },
  {
   "cell_type": "markdown",
   "metadata": {},
   "source": [
    "## End of Week14-2"
   ]
  }
 ],
 "metadata": {
  "kernelspec": {
   "display_name": "Python 2",
   "language": "python",
   "name": "python2"
  },
  "language_info": {
   "codemirror_mode": {
    "name": "ipython",
    "version": 2
   },
   "file_extension": ".py",
   "mimetype": "text/x-python",
   "name": "python",
   "nbconvert_exporter": "python",
   "pygments_lexer": "ipython2",
   "version": "2.7.9"
  }
 },
 "nbformat": 4,
 "nbformat_minor": 0
}

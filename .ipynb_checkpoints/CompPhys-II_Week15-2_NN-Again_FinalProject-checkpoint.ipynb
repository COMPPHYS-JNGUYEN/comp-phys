{
 "cells": [
  {
   "cell_type": "markdown",
   "metadata": {},
   "source": [
    "## Teaching Survey "
   ]
  },
  {
   "cell_type": "markdown",
   "metadata": {},
   "source": [
    "## Back to NN\n",
    "\n",
    "## Things to do and consider about training:\n",
    "\n",
    "### 1. Save games and results in a pickle file\n",
    "### 2. Compute winning rate\n",
    "### 3. Simple training scheme, with training and validation -- no calculations allowed: a better player has to be achieved through the NN learning process (adjusting weights).  \n",
    "### 4. Come up with your own scheme -- again, no calculations allowed\n",
    "### 5. Choose one side to train\n",
    "### 6. Examine closely whether the game is played more intelligently after training (e.g. suicide moves no longer commited -- not through hardcoding but through learning).\n",
    "### 7. If 6. is true, then look at whether the winning rate is improved (first played against the \"random\" (but still rule-obeying) player.\n",
    "### 8. Iterate (train on more and more intelligent games)\n",
    "\n",
    "\n",
    "## Also at least one (maybe two) of you has not completed all requirements from last time (e.g. the testing and the interactive methods not completed).\n",
    "\n",
    "## Due Thursday, May 19, at 12:30 -- submitted on your Google Site.\n",
    "\n",
    "## We meet on Thursday, May 19 12:30 - 2:30 for the tournament.\n",
    "\n",
    "## ---> You have to have a testing method in your class definition: on May 19, I will give a set of tests that your program has to pass.\n",
    "\n",
    "## ---> You also have to have an interactive method.  The tournament will be played interactively: You have to enter your opponent's move interactively and then your NN-trained player will \n",
    "\n",
    "## Extra Office Hour on Monday"
   ]
  },
  {
   "cell_type": "markdown",
   "metadata": {},
   "source": [
    "## End of Week15-2"
   ]
  }
 ],
 "metadata": {
  "kernelspec": {
   "display_name": "Python 2",
   "language": "python",
   "name": "python2"
  },
  "language_info": {
   "codemirror_mode": {
    "name": "ipython",
    "version": 2
   },
   "file_extension": ".py",
   "mimetype": "text/x-python",
   "name": "python",
   "nbconvert_exporter": "python",
   "pygments_lexer": "ipython2",
   "version": "2.7.9"
  }
 },
 "nbformat": 4,
 "nbformat_minor": 0
}

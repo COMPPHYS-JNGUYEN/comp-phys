{
 "cells": [
  {
   "cell_type": "markdown",
   "metadata": {},
   "source": [
    "# Lecture Week 2-2"
   ]
  },
  {
   "cell_type": "markdown",
   "metadata": {},
   "source": [
    "## Topics\n",
    "\n",
    "## I. Probabilities for the Gaussian Distribution\n",
    "\n",
    "## II. The Simplest Regression Problem (Fitting for One Parameter) and the Weighted Mean\n",
    "\n",
    "## III. Regression -- Fitting for Two Parameters\n",
    "\n",
    "\n",
    "## Lab Exercises"
   ]
  },
  {
   "cell_type": "markdown",
   "metadata": {},
   "source": [
    "## I. Probabilities for the Gaussian Distribution\n",
    "\n",
    "## The Gaussian function tells us the probability ($P$) for a certain quantity ($x$) to have a certain value:\n",
    "\n",
    "\n",
    "##$$\n",
    "P(x) = ae^{ - {(x - \\mu)^2 \\over {2 \\sigma^2}}}  \\text{,}\n",
    "$$\n",
    "\n",
    "\n",
    "## where, $a = {1 \\over {\\sigma \\sqrt{2 \\pi}}}$, for a normalized Gaussian.  "
   ]
  },
  {
   "cell_type": "code",
   "execution_count": 1,
   "metadata": {
    "collapsed": false
   },
   "outputs": [],
   "source": [
    "'''\n",
    "The class Gaussian -- can calculate the probability.\n",
    "'''\n",
    "\n",
    "%matplotlib inline\n",
    "import numpy as np\n",
    "import matplotlib.pyplot as plt\n",
    "\n",
    "class Gaussian:    \n",
    "    def __init__(self, mean = 0, sigma = 1):\n",
    "        self.mean = mean\n",
    "        self.sigma = sigma\n",
    "        \n",
    "    def Calc_P(self, x):\n",
    "        a = 1/(np.sqrt(2.*np.pi)*self.sigma)\n",
    "        P = a*np.exp(-(x - self.mean)**2/(2.*self.sigma**2))\n",
    "        return P\n",
    "    \n",
    "\n",
    "\n"
   ]
  },
  {
   "cell_type": "markdown",
   "metadata": {},
   "source": [
    "## Breakout Exercise: \n",
    "\n",
    "## Cumulative probability of a Gaussian distribution by calculating the area underneath the Gaussian curve.  You may use the Gaussian class defined above.\n",
    "\n",
    "## Coder: Students who took CP-I\n",
    "\n",
    "## At the end, you should have these statements printed:\n",
    "\n",
    "Total Probability for the standard Gaussian (should be 1): 1.0000.\n",
    "\n",
    "Cumulative Probability between -sigma and sigma: 0.xxxx.\n",
    "\n",
    "Cumulative Probability between -2\\*sigma and 2\\*sigma: 0.xxxx.\n",
    "\n",
    "Cumulative Probability between -3\\*sigma and 3\\*sigma: 0.xxxx."
   ]
  },
  {
   "cell_type": "code",
   "execution_count": 14,
   "metadata": {
    "collapsed": false
   },
   "outputs": [
    {
     "name": "stdout",
     "output_type": "stream",
     "text": [
      "Total Probability for the standard Gaussian (should be 1): 0.999999\n",
      "Cumulative Probability between -sigma and sigma: 0.683176\n",
      "Cumulative Probability between -sigma and sigma: 0.954716\n",
      "Cumulative Probability between -sigma and sigma: 0.997327\n"
     ]
    }
   ],
   "source": [
    "'''\n",
    "The class Gaussian -- can calculate the probability.\n",
    "'''\n",
    "\n",
    "%matplotlib inline\n",
    "import numpy as np\n",
    "import matplotlib.pyplot as plt\n",
    "\n",
    "class Gaussian:    \n",
    "    def __init__(self, mean = 0, sigma = 1):\n",
    "        self.mean = mean\n",
    "        self.sigma = sigma\n",
    "        \n",
    "    def Calc_P(self, x):\n",
    "        a = 1/(np.sqrt(2.*np.pi)*self.sigma)\n",
    "        P = a*np.exp(-(x - self.mean)**2/(2.*self.sigma**2))\n",
    "        plt.figure()\n",
    "        plt.plot(x, P)\n",
    "        plt.show()\n",
    "        return P\n",
    "\n",
    "    \n",
    "sig = 1.\n",
    "step = 1000.\n",
    "gauss = Gaussian()\n",
    "x = np.linspace(-sig*5, sig*5, step)\n",
    "dx = ((sig*5)*2)/(step-1)\n",
    "f = gauss.Calc_P(x)\n",
    "p = np.sum(f*dx)\n",
    "\n",
    "print(\"Total Probability for the standard Gaussian (should be 1): {:f}\".format(p))\n",
    "\n",
    "i = 1\n",
    "f_dict = {}\n",
    "p_dict = {}\n",
    "while i <= sig*3:\n",
    "    p1 = np.sum(gauss.Calc_P(x[(x<=i)*(x>=-i)])*dx)\n",
    "    print(\"Cumulative Probability between -sigma and sigma: {:f}\".format(p1))\n",
    "    i += 1\n",
    "\n",
    "\n",
    "# x1 = x[(x<=1)*(x>=-1)]\n",
    "# # x_sig1 = x[x_ind1]\n",
    "# f1 = gauss.Calc_P(x1)\n",
    "# p1 = np.sum(f1*dx)\n",
    "# print(\"Cumulative Probability between -sigma and sigma: {:f}\".format(p1))\n",
    "\n",
    "# x2 = x[(x<=2)*(x>=-2)]\n",
    "# # x_sig1 = x[x_ind1]\n",
    "# f2 = gauss.Calc_P(x2)\n",
    "# p2 = np.sum(f2*dx)\n",
    "# print(\"Cumulative Probability between -sigma and sigma: {:f}\".format(p2))\n",
    "\n",
    "# x3 = x[(x<=3)*(x>=-3)]\n",
    "# # x_sig1 = x[x_ind1]\n",
    "# f3 = gauss.Calc_P(x3)\n",
    "# p3 = np.sum(f3*dx)\n",
    "# print(\"Cumulative Probability between -sigma and sigma: {:f}\".format(p3))"
   ]
  },
  {
   "cell_type": "code",
   "execution_count": 8,
   "metadata": {
    "collapsed": false
   },
   "outputs": [
    {
     "name": "stdout",
     "output_type": "stream",
     "text": [
      "[  0.   1.   2.   3.   4.   5.   6.   7.   8.   9.  10.]\n",
      "[ True  True  True  True  True False False False False False False]\n",
      "[ 0.  1.  2.  3.  4.]\n"
     ]
    }
   ],
   "source": [
    "x = np.linspace(0, 10, 11)\n",
    "print(x)\n",
    "ind = x<5\n",
    "print(ind)\n",
    "print(x[ind])"
   ]
  },
  {
   "cell_type": "markdown",
   "metadata": {},
   "source": [
    "## II. The Simplest Linear Regression -- Fitting for One Parameter \n",
    "\n",
    "### (Recall it’s a regression problem if we are trying to determine the value of a continuous quantity the best we can.)\n",
    "\n",
    "### In the discussion below the assumptions (there are two) we make are sandwiched between long, opposite-facing arrows:\n",
    "\n",
    "### --->                     <---"
   ]
  },
  {
   "cell_type": "markdown",
   "metadata": {},
   "source": [
    "### A) The goal of experimental science: You make measurements to gain knowledge about reality.  We will make a more practical statement of this at the end of this sub-section.\n",
    "\n",
    "For example, let’s say, you make several temperature measurements to find out the true temperature of a room.\n",
    "\n",
    "Let’s call the results of these measurements data, $D$.  $D$ of course consist of all the measured temperature values.  If you have measured the temperature $N$ times, and the temperature value you get for the $i$th measurement is $t_i$,  then $D$ = {$t_1$, $t_2$, $t_3$, …, $t_N$} = {$t_i$}.\n",
    "\n",
    "In what follows below:\n",
    "\n",
    "$T_{true}$: The true temperature\n",
    "\n",
    "$T$: The value of a guess we have for $T_{true}$\n",
    "\n",
    "$T_{best}$: Our best guess for $T_{true}$ according to some criterion.\n",
    "\n",
    "$t$: Experimental result of a temperature measurement.\n",
    "\n",
    "Each of your temperature measurements will have uncertainty.  Intuitively you know that: \n",
    "\n",
    "-  It’s more likely to have a measured value that is close to the true temperature than to have one that is far away.   \n",
    "-  The more accurate your measurements (e.g., you have high quality equipment), the less likely it is to have a measured value that is very far away from the true temperature.\n",
    "\n",
    "\n",
    "Mathematically we assume:\n",
    "\n",
    "--->  We can model the probability of getting a certain measurement result using a Gaussian, with the true value of the quantity as $\\mu$ and the measurement uncertainty as the width, $\\sigma$, of the Gaussian <---\n",
    "\n",
    "If the difference between the measured value ($t$) and the the true temperature ($T_{true}$) is ($t - T_{true}$), the probability of such a measurement occurring is \n",
    "\n",
    "$P(t; T) = \\frac{1}{\\sqrt{2\\pi\\sigma}} e^{ \\frac{ (t - T_{true})^2 } { 2\\sigma^2 }}$\t(1)\n",
    "\n",
    "Given the uncertainty, which will always be there, you can never know the temperature for sure based on your data.  But based on your data, you try to make the best estimate for the true temperature.\n",
    "\n",
    "### This is the goal of any experimental science. "
   ]
  },
  {
   "cell_type": "markdown",
   "metadata": {},
   "source": [
    "### B) To state the goal at the end of A) more formally:\n",
    "\n",
    "Question 1 — _Given a set of data, what is the probability that the true temperature, $T_{true}$, has a value $T$?_  \n",
    "\n",
    "If we can answer Question 1 then it’d be easy to obtain our best estimate for the true temperature:\n",
    "\n",
    "_The temperature value that has the highest probability (as defined in Question 1) is our best estimate for the true temperature._  \n",
    "\n",
    "For example, suppose you have made three measurements, and you get\n",
    "\n",
    "$$t_1 = 68.5 \\pm 0.5$$\n",
    "$$t_2 = 68.3 \\pm 0.5$$\n",
    "$$t_3 = 68.9 \\pm 0.5$$\n",
    "\n",
    "The quantity that follows $\\pm$ is the uncertainty, or sigma (see eqn (1) above).\n",
    "\n",
    "Based on the data and the uncertainty, if someone asks you:\n",
    "\n",
    "-  How likely is it that the true temperature, $T_{true}$, is 30?  You say, “No way!”  (Very low probability)\n",
    "\n",
    "-  How likely is it that $T_{true}$ is 69?  You say, “I guess it’s possible.” (Intermediate probability)\n",
    "\n",
    "-  How likely is it that $T_{true}$ is 68.5?  You say, “Quite possible.” (High probability)\n",
    "\n",
    "If there is a way to calculate the probability for the different possible temperature values, $T$, as being $T_{true}$, then as I said, we can simply maximize that probability, and the temperature value that corresponds to the maximum probability is our best guess for the true temperature.\n"
   ]
  },
  {
   "cell_type": "markdown",
   "metadata": {},
   "source": [
    "### C) To re-state B) Mathematically:\n",
    "\n",
    "-  We first find the probability that the true temperature has the value $T$ given the data set $D$,\n",
    "\n",
    "   $$P(T|D)$$ \n",
    "   \n",
    "   \n",
    "\n",
    "-  Then we maximize $P(T|D)$: The $T$ value that maximizes this probability will give us the best guess for the true temperature.\n",
    "\n",
    "While we have an intuitive sense of that probability (see B) above), it turns out\n",
    "\n",
    "### we *CANNOT* derive an expression for this probability. "
   ]
  },
  {
   "cell_type": "markdown",
   "metadata": {},
   "source": [
    "### D) So we try another Route:\n",
    "\n",
    "The probability for which we *CAN* derive an expression for is this:\n",
    "\n",
    "Question 2: _Given the true temperature having a value ${T}$, what is the probability that the observed data set should have occurred?”_ \n",
    "\n",
    "Mathematically you can write this as \n",
    "\n",
    "$$P(D|T)$$\n",
    "\n",
    "again, it's the probability that the observed data turns out to be $D$, if the true temperature has a value of $T$.\n",
    "\n",
    "Note that Question 2 is different from Question 1!\n",
    "\n",
    "Let’s focus on Question 2 for a moment.  The reason that Question 2 is answerable mathematically is that if the true temperature has value $T$, then the probability you will have a measured value of $t_1$ is (see eqn (1) above): \n",
    "\n",
    "$P(t_1; T) = \\frac{1}{\\sqrt{2\\pi\\sigma}} e^{ \\frac{ (t_1 - T)^2 } { 2\\sigma^2 }}$ \n",
    "\n",
    "Likewise, the probabilities you would have measured values $t_2$ and $t_3$, are  \n",
    "\n",
    "$P(t_2; T) = \\frac{1}{\\sqrt{2\\pi\\sigma}} e^{ \\frac{ (t_2 - T)^2 } { 2\\sigma^2 }}$ \n",
    "\n",
    "$P(t_3; T) = \\frac{1}{\\sqrt{2\\pi\\sigma}} e^{ \\frac{ (t_3 - T)^2 } { 2\\sigma^2 }}$ \n",
    "\n",
    "\n",
    "The probability that you have all three measured values is\n",
    "\n",
    "$P(D|T) = P(t_1, t_2, t_3; T) = P(t_1; T)P(t_2; T)P(t_3; T)$\n",
    "\n",
    "#### We have just answered Question 2!\n",
    "\n",
    "Let’s continue…\n",
    "\n",
    "Given this expression, you can try using different $T$ values and see which one gives you the highest probability.  But the best way to do this is to do \n",
    "\n",
    "\n",
    "$$\\frac{dP(D|T)}{dT}  = \\frac{dP(t_1, t_2, t_3; T)}{dT} = 0$$\n",
    "\n",
    "Since you now have an explicit mathematical expression for $P(D|T) = P(t_1, t_2, t_3; T)$, you can easily calculate the derivative, set it to zero, and find the $T$ value that maximizes $P(D|T)$.\n",
    "\n",
    "So here comes the second assumption:\n",
    "\n",
    "---> We assume that the $T$ value that maximizes the probability defined in Question 2 will maximize the probability defined in Question 1, i.e., it’s our best guess for the true temperature. <---\n",
    "\n",
    "It is an assumption because we cannot show the same $T$ will maximize both the probabilities in Question 1 and Question 2 (because we don't have an expression for the probability in Question 1!).\n",
    "\n",
    "\n",
    "Quick Re-cap:\n",
    "\n",
    "$P(T|D)$: The probability that, given the observed data, $D$, the true temperature has a value of $T$.\n",
    "\n",
    "$P(D|T)$: The probability that, given the true temperature has a value of $T$, the observed data $D$ would occur. \n",
    "\n",
    "\n",
    "Yes, it's a subtle difference...we will come back to this difference in Week 6."
   ]
  },
  {
   "cell_type": "markdown",
   "metadata": {},
   "source": [
    "### E) Practically (continuing the approach outlined in D)), \n",
    "\n",
    "if you maximize $P(D|T)$ in D) with respect to $T$, you get \n",
    "\n",
    "$$T_{best} = \\frac{1}{N} {\\sum_{i = 1}^{N} {t_i} } = \\langle t \\rangle \\qquad \\text{(2)}$$        \t\t\t\t\t \n",
    "\n",
    "That is, the mean value of the data set gives the best guess we have for the true temperature $T_{true}$.\n",
    "\n",
    "Now we can further ask, since $T_{best}$ must have an uncertainty (or standard deviation) as well, what would the uncertainty be?\n",
    "\n",
    "With a little math, you can show the standard deviation of $T_{best}$ is \n",
    "\n",
    "$$s_{T_{best}} = \\frac{\\sigma} {\\sqrt{N}} \\qquad \\text{(3)}$$\t\t\t\t\t\t\t\t\n",
    "\n",
    "In this case $N$ = 3, so \n",
    "\n",
    "$$s_{T_{best}} = \\frac{\\sigma} {1.7} \\qquad \\text{(4)}$$\t\t\t\t\t\t\t\t\n",
    "\n",
    "\n",
    "That is, if we take into account the results of all three measurements, we now have a tighter estimate for the true temperature.\n",
    "\n",
    "[If this is a statistics course, I would have you go through the calculations, and verify for yourself that it’s all true.]\n",
    "\n",
    "\n",
    "#### Let’s now take a step back:\n",
    "\n",
    "That the mean of the data points gives us a tighter estimate of the true temperature seems rather obvious -- why did we go through so much trouble to get here in this long-winded way.  \n",
    "\n",
    "Because there are circumstances where it’s not nearly as obvious how to arrive at the best guess.  Then this prescription will show us how to get $T_{best}$.\n",
    "\n",
    "For example, what if the uncertainty is different for each of the 3 temperature measurements?\n",
    "\n",
    "It’s clear enough that in order to take into account all three measurements properly, you would want to give more weight to the points that have less uncertainty.  But what’s the exact prescription?\n",
    "\n",
    "It turns out if you maximize the probability in Question 2 you will find the best guess is\n",
    "\n",
    "$$T_{best} = \\frac{ \\sum_{i = 1}^{N} { t_i/\\sigma_i^2 } } {\\sum_{i = 1}^{N} {1/\\sigma_i^2} } \\qquad \\text{(4)}$$      \t\n",
    "\n",
    "You can check that it works for the case of all three $\\sigma_i$’s being the same:\n",
    "\n",
    "\n",
    "$$T_{best} = \\frac{1}{N} {\\sum_{i = 1}^{N} {t_i} }$$\n",
    "\n",
    "or just the mean.\n",
    "\n",
    "#### Eqn (4) is called the weighted mean.\n",
    "\n",
    "Again with a  little math, the uncertainty (standard deviation) *squared* of the weighted mean can also be calculated, and it is\n",
    "\n",
    "$$s_{T_{best}}^2 = \\frac{1} {\\sum_{i = 1}^{N} {1/\\sigma_i^2} } \\qquad \\text{(5)}$$\t\t\t\t\n",
    "\n",
    "You can verify that if, \n",
    "\n",
    "$$\\sigma_i = \\sigma$$\n",
    "\n",
    "eqn (5) becomes the same as eqn (3). "
   ]
  },
  {
   "cell_type": "markdown",
   "metadata": {},
   "source": [
    "## Important Takeaway:\n",
    "\n",
    "### If the only experimental uncertainty you have to contend with is Gaussian (a good assumption in many cases):\n",
    "\n",
    "(Continuing to use temperature measurement as an example)\n",
    "\n",
    "-    The weighted mean is a better estimate of the true temperature\n",
    "\n",
    "     $T_{best} = \\frac{ \\sum_{i = 1}^{N} { t_i/\\sigma_i^2 } } {\\sum_{i = 1}^{N} {1/\\sigma_i^2} }$      \t\n",
    "     \n",
    "\n",
    "-    The uncertainty (the standard devisation) of the mean is \n",
    "\n",
    "     $s_{T_{best}} = \\sqrt { \\frac{1} {\\sum_{i = 1}^{N} {1/\\sigma_i^2}}  }$\t\t\t\t\n",
    "\n",
    "\n",
    "### Further, if the experimental uncertainty is the same for all $N$ measurements:\n",
    "\n",
    "\n",
    "-    $T_{best} = \\frac{1}{N} {\\sum_{i = 1}^{N} {t_i} } = \\langle t \\rangle $        \t\t\t\t\t\n",
    "     \n",
    "\n",
    "-    $s_{T_{best}} = \\frac{\\sigma} {\\sqrt{N}}$\n",
    "\n"
   ]
  },
  {
   "cell_type": "markdown",
   "metadata": {},
   "source": [
    "## Going back to the very top: The Simplest Linear Regression -- Fitting for One Parameter.\n",
    "\n",
    "## In this example, we're using the data to \"fit for\" -- that is, to find the best guess for -- the true temperature."
   ]
  },
  {
   "cell_type": "markdown",
   "metadata": {},
   "source": [
    "## Example:\n",
    "\n",
    "- ### Generate a set of 50 Gaussian random numbers that represent 50 temperture measurements.  The true temperature is 70 and the measurement uncertainty is 0.5.  That is, the Gaussian model should have T_true (= mu) = 70 and sigma = 0.5.\n",
    "\n",
    "    ### Note: In reality, of course, you don't know the true temperature (otherwise, what's the point of measuring it?).  But in the simulated world, you know everything!\n",
    "\n",
    "-  ### Find the mean and standard deviation of the set of measurement results and report them as \n",
    "\n",
    "    - ### t_mean \n",
    "\n",
    "    - ### sig_t.  \n",
    "\n",
    "   ### Are the values of t_mean and sig_t what you would expect?\n",
    "    \n",
    "- ### Plot the histogram of the measurements using 7 bins (normed = True in plt.hist recommended);\n",
    "    \n"
   ]
  },
  {
   "cell_type": "code",
   "execution_count": 59,
   "metadata": {
    "collapsed": false
   },
   "outputs": [
    {
     "name": "stdout",
     "output_type": "stream",
     "text": [
      "The mean temperature value is 70.051 deg (expected: 70.000).\n",
      "The standard deviation of the simulated temperature measurement results are 0.520 deg (expected: 0.500).\n"
     ]
    },
    {
     "data": {
      "image/png": "[encoded data removed]",
      "text/plain": [
       "<matplotlib.figure.Figure at 0x10c653250>"
      ]
     },
     "metadata": {},
     "output_type": "display_data"
    }
   ],
   "source": [
    "# simluate temperature measurements\n",
    "import numpy as np\n",
    "from __future__ import print_function\n",
    "\n",
    "T_true = 70\n",
    "sigma = 0.5\n",
    "N = 50\n",
    "\n",
    "t = np.random.randn(N)*sigma + T_true\n",
    "t_mean = t.mean()\n",
    "sig_t = np.std(t)\n",
    "\n",
    "print(\"The mean temperature value is {:.3f} deg (expected: {:.3f}).\".format(t_mean, T_true))\n",
    "print(\"The standard deviation of the simulated temperature measurement \\\n",
    "results are {:.3f} deg (expected: {:.3f}).\".format(sig_t, sigma))\n",
    "\n",
    "# ---> # Note the _ notation: the underscore represents a returned value that we don't care about.\n",
    "bin_heights, xbins, _ = plt.hist(t, bins = 7, normed = 1, alpha = 0.5)\n",
    "plt.show()"
   ]
  },
  {
   "cell_type": "code",
   "execution_count": 60,
   "metadata": {
    "collapsed": false
   },
   "outputs": [
    {
     "name": "stdout",
     "output_type": "stream",
     "text": [
      "<type 'numpy.ndarray'>\n"
     ]
    }
   ],
   "source": [
    "print(type(t))"
   ]
  },
  {
   "cell_type": "markdown",
   "metadata": {},
   "source": [
    "# 5-min Break"
   ]
  },
  {
   "cell_type": "markdown",
   "metadata": {},
   "source": [
    "## III. Regression -- Fitting for Two Parameters:\n",
    "\n",
    "### Let's use a simple example: $x$ is time and $y$ is the temperature.  Our goal is to model how the temperature increases in the morning.  The simplest model for this phenomenon is a straight line.\n",
    "\n",
    "### We say the data now has \"Two Degrees of Freedom (DOF)\".\n",
    "\n",
    "### In the one-parameter problem, the data points (room temperature as measured by $N$ thermometers).  Depending on the actual temperature, all $N$ measurement results can shift up and down together.  That's one degree of freedom.\n",
    "\n",
    "### Now, imagine plotting the the temperature measurements made at different times vs. time.  The points can certainly still shift up and down together, depending on whether it's a hot day or a cold day.  But they can also tilt, depending on how fast the temperature is rising with time.  Hence, two degrees of freedom.\n"
   ]
  },
  {
   "cell_type": "markdown",
   "metadata": {},
   "source": [
    "## Modeling the data as a straight line\n",
    "\n",
    "That means we think the true relationship between a set of random numbrs (the temperature measurement results) and time is described by a straight line. \n",
    "\n",
    "The goal is then to find the slope ($m$) and intercept ($b$) that best fit the data.\n",
    "\n",
    "Our starting point last time was Question 2 above: First calculate \n",
    "\n",
    "$$P(D|T)$$\n",
    "\n",
    "and then maximize $P(D|T)$ against $T$.  The temperature value that maximizes this probability is our best guess for the true temperature.\n",
    "\n",
    "This time we will also start from Question 2, except now there are two parameters, so we calcuate\n",
    "\n",
    "$$P(D|[m, b])$$\n",
    "\n",
    "and of course the data will consist of pairs of random numbers:\n",
    "\n",
    "$D = \\{(x_1, y_1), (x_2, y_2), ..., (x_N, y_N)\\} = \\{(x_i, y_i)\\}$ \n",
    "\n",
    "Then, we vary $[m, b]$ until the probability of having the measured data be $D$ ($= \\{(x_i, y_i)\\}$) is maximized.\n",
    "\n",
    "###*The pair $[m, b]$ that maximizes this probability is our best guess for the true slope and intercept.*"
   ]
  },
  {
   "cell_type": "markdown",
   "metadata": {},
   "source": [
    "## To find the best-fit [$m$, $b$]\n",
    "\n",
    "If you go through the math, you wil see that maximizing the probability $P(D|[m, b])$ is the same as *minimizing*\n",
    "\n",
    "\n",
    "$$ \\sum_{i=1}^N {[y_i - f(x_i)]^2}  = \\sum_{i=1}^N {[y_i - (mx_i + b)]^2}  \\qquad \\text{(7)}$$\n",
    "\n",
    "where $f(x) = mx + b$, is the linear model.\n",
    "\n",
    "(Let's think about this result.  It's NOT\n",
    "\n",
    "$$ \\sum_{i=1}^N {[y_i - (mx_i + b)]}  \\qquad \\text{(8)}$$\n",
    "\n",
    "This condition is easy to meet: Plot the $(x_i, y_i)$ in a Cartesian coordinate system and find the \"center of mass\" (CM) of the points -- any line that goes through the CM will satisfy eqn (8).  Because half of the points will be above, and the other half below, such a line.  So we can't find the best-fit line this way.)\n",
    "\n",
    "The expression in (7) is called the residual sum of squares (RSS), and the problem to minimize RSS is called:\n",
    "### *Least-squares minimization* "
   ]
  },
  {
   "cell_type": "markdown",
   "metadata": {},
   "source": [
    "## Let's begin!"
   ]
  },
  {
   "cell_type": "code",
   "execution_count": 12,
   "metadata": {
    "collapsed": false
   },
   "outputs": [
    {
     "data": {
      "image/png": "[encoded data removed]",
      "text/plain": [
       "<matplotlib.figure.Figure at 0x105e27c10>"
      ]
     },
     "metadata": {},
     "output_type": "display_data"
    }
   ],
   "source": [
    "%matplotlib inline\n",
    "# First simulate data, N pairs of {x_i, y_i} using numpy arrays.\n",
    "import numpy as np\n",
    "import matplotlib.pyplot as plt\n",
    "x = np.linspace(8, 12, 20)\n",
    "m_true = 4.2\n",
    "b_true = 35\n",
    "\n",
    "sig = 1.2\n",
    "\n",
    "# ---> This line is the key: it simulates the temperature measurements\n",
    "y = m_true * x + b_true + np.random.randn(x.shape[0]) * sig\n",
    "\n",
    "plt.plot(x, y, 'x')\n",
    "plt.show()"
   ]
  },
  {
   "cell_type": "markdown",
   "metadata": {},
   "source": [
    "## Breakout Exercise: \n",
    "\n",
    "## Given (m, b) = (2, 50), calculate the RSS.\n",
    "\n",
    "## Start by writing a function f(m, b, x) that returns the model values for y (this is basically the f(x) two cells above), given m, b, and an array, x."
   ]
  },
  {
   "cell_type": "markdown",
   "metadata": {},
   "source": [
    "## Breakout Exercise: \n",
    "\n",
    "## Search through a range of m and b values and find the pair that minimizes RSS.  You can make use of the function f you wrote above.\n",
    "\n",
    "## You can start by searching for m in the range of (0, 10) and for b in the range of (0, 100) -- 10 steps in each direction. "
   ]
  },
  {
   "cell_type": "code",
   "execution_count": 15,
   "metadata": {
    "collapsed": false
   },
   "outputs": [
    {
     "name": "stdout",
     "output_type": "stream",
     "text": [
      "17.0933963333 4.3 33\n"
     ]
    }
   ],
   "source": [
    "'''\n",
    "Least square minimization: Grid search.\n",
    "\n",
    "Note: for some simulation, I don't exactly get the input values of m and b.\n",
    "'''\n",
    "\n",
    "m_start, m_end = 0, 10\n",
    "b_start, b_end = 0, 100\n",
    "\n",
    "rss_min = 1e6\n",
    "for m in np.arange(m_start, m_end, 0.1):\n",
    "    for b in np.arange(0, 100, 1):\n",
    "        rss = ((y - f(m, b, x))**2).sum()\n",
    "        if rss < rss_min:\n",
    "            rss_min = rss\n",
    "            m_best = m\n",
    "            b_best = b\n",
    "print(rss_min, m_best, b_best)"
   ]
  },
  {
   "cell_type": "markdown",
   "metadata": {},
   "source": [
    "## Breakout Exercise: \n",
    "\n",
    "## Plot the simulated data and the best-fit line in the same plot."
   ]
  },
  {
   "cell_type": "markdown",
   "metadata": {},
   "source": [
    "## To include \"error bars\" in your plot:\n",
    "\n",
    "-  ## Change plt.plot to plt.errorbar; \n",
    "\n",
    "-  ## include yerr =  sig;\n",
    "\n",
    "-  ## also pay attention to how to format the plotting symbols."
   ]
  },
  {
   "cell_type": "code",
   "execution_count": 19,
   "metadata": {
    "collapsed": false
   },
   "outputs": [
    {
     "data": {
      "image/png": "[encoded data removed]",
      "text/plain": [
       "<matplotlib.figure.Figure at 0x105808510>"
      ]
     },
     "metadata": {},
     "output_type": "display_data"
    }
   ],
   "source": [
    "# A better way to tlotting best fit result\n",
    "plt.errorbar(x, y, yerr = sig, fmt = 'x')\n",
    "plt.plot(x, f(m_best, b_best, x), 'k-')\n",
    "plt.show()"
   ]
  },
  {
   "cell_type": "markdown",
   "metadata": {},
   "source": [
    "## Lab Breakout Exercise:\n",
    "\n",
    "## 1. Repeat the simulation in the example above 100 times, each time store t_mean.  Then find the average and standard deviation of the 100 t_mean's, and report them, respectively, as \n",
    "\n",
    "-  ## t_MEAN\n",
    "\n",
    "\n",
    "-  ## sig_t_mean.  \n",
    "\n",
    "## Find the expected standard deviation of t_mean, and report it as \n",
    "\n",
    "-  ## sig_t_mean_expt\n",
    "\n",
    "## Are the values of t_MEAN and sig_t_mean (compared with sig_t_mean_expt) what you would expect?\n",
    "\n",
    "## 2. Plotting\n",
    "\n",
    "-  ## plot the histogram for the last of the 100 times the simulated experiment was carried out (recall N = 50), again using 7 bins, and then plot a smooth Gaussian over the histogram.\n",
    "\n",
    "-  ## plot the historgram for the 100 t_mean's -- choose the number of bins wisely -- and then plot a smooth Gaussian over it.\n",
    "\n",
    "-  ## put the two historgrams on the same plot.\n",
    "\n",
    "\n",
    "## 3. Generate a set of 50 Gaussian random numbers that represent 50 temperture measurements.  The true temperature is 70 and the measurement uncertainty is different for each of the measurements (let's say you used 50 different thermometers to make the 50 measurements).  Suppose the uncertainties are: \n",
    "\n",
    "(0.3, 0.4, 0.15, 0.2, 0.5, 0.6, 0.1, 0.2, 0.15, 0.25,  \n",
    "0.2, 0.14, 0.35, 0.32, 0.23, 0.7, 1., 0.32, 0.51, 0.5,  \n",
    "0.3, 0.24, 0.5, 0.33, 0.51, 0.26, 0.31, 0.42, 0.15, 0.25,  \n",
    "0.13, 0.42, 0.15, 0.2, 0.5, 0.6, 0.1, 0.2, 0.15, 0.25,  \n",
    "0.32, 0.3, 0.2, 0.4, 0.3, 0.65, 1., 0.2, 0.35, 0.15).  \n",
    "\n",
    "\n",
    "## Find the weighted mean of the data, and report it as t_mean.\n",
    "\n",
    "## 4. Repeat 3. above 100 times and report \n",
    "\n",
    "## t_MEAN, sig_t_mean, and sig_t_mean_expt.\n",
    "\n",
    "## Are the values of t_MEAN and sig_t_mean what you would expect?\n"
   ]
  }
 ],
 "metadata": {
  "kernelspec": {
   "display_name": "Python 2",
   "language": "python",
   "name": "python2"
  },
  "language_info": {
   "codemirror_mode": {
    "name": "ipython",
    "version": 2
   },
   "file_extension": ".py",
   "mimetype": "text/x-python",
   "name": "python",
   "nbconvert_exporter": "python",
   "pygments_lexer": "ipython2",
   "version": "2.7.9"
  }
 },
 "nbformat": 4,
 "nbformat_minor": 0
}

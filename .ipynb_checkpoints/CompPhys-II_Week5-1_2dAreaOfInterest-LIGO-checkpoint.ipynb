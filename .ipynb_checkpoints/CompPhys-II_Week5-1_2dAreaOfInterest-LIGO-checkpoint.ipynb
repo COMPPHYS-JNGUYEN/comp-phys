{
 "cells": [
  {
   "cell_type": "markdown",
   "metadata": {},
   "source": [
    "## Topics\n",
    "\n",
    "## 0. pyplot.imshow(): aspect ratio and colorbar (from Week 4-2)\n",
    "\n",
    "## I. Selecting a 2d area of interest\n",
    "\n",
    "## II.  LIGO Data Release: Two challenges in data analysis\n",
    "  \n",
    "       A) If you are told where the signal is, can you see it?\n",
    "       B) Detection - Frequency-time space\n",
    "    \n",
    "\n",
    "## Lab: Starting on HW01\n",
    "\n"
   ]
  },
  {
   "cell_type": "markdown",
   "metadata": {},
   "source": [
    "## I. Selecting a 2d area of interest"
   ]
  },
  {
   "cell_type": "code",
   "execution_count": 1,
   "metadata": {
    "collapsed": false
   },
   "outputs": [
    {
     "name": "stdout",
     "output_type": "stream",
     "text": [
      "('xx type, shape:', <type 'numpy.ndarray'>, (5, 5))\n",
      "('xx', array([[ 1.,  2.,  3.,  4.,  5.],\n",
      "       [ 1.,  2.,  3.,  4.,  5.],\n",
      "       [ 1.,  2.,  3.,  4.,  5.],\n",
      "       [ 1.,  2.,  3.,  4.,  5.],\n",
      "       [ 1.,  2.,  3.,  4.,  5.]]))\n",
      "('yy', array([[ 11.,  11.,  11.,  11.,  11.],\n",
      "       [ 12.,  12.,  12.,  12.,  12.],\n",
      "       [ 13.,  13.,  13.,  13.,  13.],\n",
      "       [ 14.,  14.,  14.,  14.,  14.],\n",
      "       [ 15.,  15.,  15.,  15.,  15.]]))\n",
      "()\n",
      "('xx2.T type, shape:', <type 'numpy.ndarray'>, (5, 5))\n",
      "('xx2.T', array([[ 1.,  2.,  3.,  4.,  5.],\n",
      "       [ 1.,  2.,  3.,  4.,  5.],\n",
      "       [ 1.,  2.,  3.,  4.,  5.],\n",
      "       [ 1.,  2.,  3.,  4.,  5.],\n",
      "       [ 1.,  2.,  3.,  4.,  5.]]))\n",
      "('yy2.T', array([[ 11.,  11.,  11.,  11.,  11.],\n",
      "       [ 12.,  12.,  12.,  12.,  12.],\n",
      "       [ 13.,  13.,  13.,  13.,  13.],\n",
      "       [ 14.,  14.,  14.,  14.,  14.],\n",
      "       [ 15.,  15.,  15.,  15.,  15.]]))\n",
      "()\n",
      "Comparing xx and xx2:\n",
      "('xx == xx2.T:', array([[ True,  True,  True,  True,  True],\n",
      "       [ True,  True,  True,  True,  True],\n",
      "       [ True,  True,  True,  True,  True],\n",
      "       [ True,  True,  True,  True,  True],\n",
      "       [ True,  True,  True,  True,  True]], dtype=bool))\n"
     ]
    }
   ],
   "source": [
    "'''\n",
    "First of all:\n",
    "numpy.mgrid vs. numpy.meshgrid\n",
    "'''\n",
    "import numpy as np\n",
    "x = np.linspace(1, 5, 5)\n",
    "y = np.linspace(11, 15, 5)\n",
    "\n",
    "xx, yy = np.meshgrid(x, y)\n",
    "xx2, yy2 = np.mgrid[1.:6.:1, 11.:16.:1]\n",
    "\n",
    "print('xx type, shape:', type(xx), xx.shape)\n",
    "print('xx', xx)\n",
    "print('yy', yy)\n",
    "print()\n",
    "print('xx2.T type, shape:', type(xx.T), (xx.T).shape)\n",
    "print('xx2.T', xx2.T)\n",
    "print('yy2.T', yy2.T)\n",
    "print()\n",
    "print('Comparing xx and xx2:')\n",
    "print('xx == xx2.T:', xx == xx2.T)"
   ]
  },
  {
   "cell_type": "code",
   "execution_count": null,
   "metadata": {
    "collapsed": true
   },
   "outputs": [],
   "source": [
    "# make up a 2d array -- 10 rows and 9 columns\n",
    "img = np.random.randn(10, 9)"
   ]
  },
  {
   "cell_type": "code",
   "execution_count": null,
   "metadata": {
    "collapsed": false
   },
   "outputs": [],
   "source": [
    "'''\n",
    "Selecting a 2d area of interest\n",
    "\n",
    "'''\n",
    "import numpy as np\n",
    "print('img.shape', img.shape)\n",
    "np.set_printoptions(formatter={'float': '{:.3f}'.format})\n",
    "\n",
    "m_rows = img.shape[0]\n",
    "n_cols = img.shape[1]\n",
    "\n",
    "rows = np.linspace(0, m_rows-1, m_rows)\n",
    "cols = np.linspace(0, n_cols-1, n_cols)\n",
    "\n",
    "print('img:\\n', img)\n",
    "\n",
    "# selecing rows 2, 3\n",
    "row_idx = np.where( (rows < 4) * (rows > 1))[0]\n",
    "# selecing columns 6, 7, 8, 9\n",
    "col_idx = np.where(cols > 5)[0]\n",
    "\n",
    "print('row_idx:\\n', row_idx)\n",
    "print('col_idx:\\n', col_idx)\n",
    "\n",
    "# note idx2d is a list that consists of two 2d numpy arrays\n",
    "idx2d = np.meshgrid(row_idx, col_idx)\n",
    "\n",
    "print('type(idx2d):', type(idx2d))\n",
    "\n",
    "print('idx2d[0] (row numbers):\\n', idx2d[0].T)\n",
    "print('idx2d[1] (column numbers):\\n', idx2d[1].T)\n",
    "\n",
    "\n",
    "img_cut = img[idx2d[0].T, idx2d[1].T]\n",
    "print(\"img_cut.shape:\", img_cut.shape)\n",
    "print(\"img_cut:\\n\", img_cut)"
   ]
  },
  {
   "cell_type": "markdown",
   "metadata": {},
   "source": [
    "## II. LIGO Data Release: Two challenges in data analysis"
   ]
  },
  {
   "cell_type": "markdown",
   "metadata": {},
   "source": [
    "# SIGNAL PROCESSING WITH GW150914 OPEN DATA \n",
    "\n",
    "Welcome! This ipython notebook (or associated python script GW150914_tutorial.py ) will go through some typical signal processing tasks on strain time-series data associated with the LIGO GW150914 data release from the LIGO Open Science Center (LOSC):\n",
    "\n",
    "* https://losc.ligo.org/events/GW150914/\n",
    "\n",
    "* View the tutorial as a web page - https://losc.ligo.org/s/events/GW150914/GW150914_tutorial.html/\n",
    "* Download the tutorial as a python script - https://losc.ligo.org/s/events/GW150914/GW150914_tutorial.py/\n",
    "* Download the tutorial as iPython Notebook - https://losc.ligo.org/s/events/GW150914/GW150914_tutorial.ipynb/\n",
    "\n",
    "To begin, download the ipython notebook, readligo.py, and the data files listed below, into a directory / folder, then run it. Or you can run the python script GW150914_tutorial.py. You will need the python packages: numpy, scipy, matplotlib, h5py.\n",
    "\n",
    "On Windows, or if you prefer, you can use a python development environment such as Anaconda (https://www.continuum.io/why-anaconda) or Enthought Canopy (https://www.enthought.com/products/canopy/). \n",
    "\n",
    "Questions, comments, suggestions, corrections, etc: email losc@ligo.caltech.edu\n",
    "\n",
    "v20160208b"
   ]
  },
  {
   "cell_type": "markdown",
   "metadata": {},
   "source": [
    "## Intro to signal processing\n",
    "\n",
    "This tutorial assumes that you know python well enough. \n",
    "\n",
    "If you know how to use \"ipython notebook\", use the GW150914_tutorial.ipynb file. Else, you can use the GW150914_tutorial.py script.\n",
    "\n",
    "This tutorial assumes that you know a bit about signal processing of digital time series data (or want to learn!). This includes power spectral densities, spectrograms, digital filtering, whitening, audio manipulation. This is a vast and complex set of topics, but we will cover many of the basics in this tutorial.\n",
    "\n",
    "If you are a beginner, here are some resources from the web:\n",
    "* http://101science.com/dsp.htm\n",
    "* https://georgemdallas.wordpress.com/2014/05/14/wavelets-4-dummies-signal-processing-fourier-transforms-and-heisenberg/\n",
    "* https://en.wikipedia.org/wiki/Signal_processing\n",
    "* https://en.wikipedia.org/wiki/Spectral_density\n",
    "* https://en.wikipedia.org/wiki/Spectrogram\n",
    "* http://greenteapress.com/thinkdsp/\n",
    "* https://en.wikipedia.org/wiki/Digital_filter\n",
    "\n",
    "And, well, lots more - google it!"
   ]
  },
  {
   "cell_type": "markdown",
   "metadata": {},
   "source": [
    "## Download the data\n",
    "\n",
    "* Download the data files from LOSC:\n",
    "* We will use the hdf5 files, both H1 and L1, with durations of 32 and 4096 seconds around GW150914, sampled at 16384 and 4096 Hz :\n",
    "  * https://losc.ligo.org/s/events/GW150914/H-H1_LOSC_4_V1-1126259446-32.hdf5\n",
    "  * https://losc.ligo.org/s/events/GW150914/L-L1_LOSC_4_V1-1126259446-32.hdf5\n",
    "  * https://losc.ligo.org/s/events/GW150914/H-H1_LOSC_16_V1-1126259446-32.hdf5\n",
    "  * https://losc.ligo.org/s/events/GW150914/L-L1_LOSC_16_V1-1126259446-32.hdf5\n",
    "  * https://losc.ligo.org/s/events/GW150914/GW150914_4_NR_waveform.txt\n",
    "* Download the python functions to read the data: https://losc.ligo.org/s/sample_code/readligo.py\n",
    "* From a unix/mac-osx command line, you can use wget; for example, \n",
    "  * wget https://losc.ligo.org/s/events/GW150914/H-H1_LOSC_4_V1-1126257414-4096.hdf5\n",
    "* Put these files in your current directory / folder. Don't mix any other LOSC data files in this directory, or readligo.py may get confused.\n",
    "\n",
    "Here, \n",
    "* \"H-H1\" means that the data come from the LIGO Hanford Observatory site and the LIGO \"H1\" datector; \n",
    "* the \"_4_\" means the strain time-series data are (down-)sampled from 16384 Hz to 4096 Hz;\n",
    "* the \"V1\" means version 1 of this data release;\n",
    "* \"1126257414-4096\" means the data starts at GPS time 1126257414 (Mon Sep 14 09:16:37 GMT 2015), duration 4096 seconds;\n",
    "  * NOTE: GPS time is number of seconds since Jan 6, 1980 GMT. See http://www.oc.nps.edu/oc2902w/gps/timsys.html or https://losc.ligo.org/gps/ \n",
    "* the filetype \"hdf5\" means the data are in hdf5 format:\n",
    "https://www.hdfgroup.org/HDF5/\n",
    "\n",
    "Note that the the 4096 second long files at 16384 Hz sampling rate are fairly big files (125 MB). \n",
    "You won't need them for this tutorial:\n",
    "* https://losc.ligo.org/s/events/GW150914/H-H1_LOSC_4_V1-1126257414-4096.hdf5\n",
    "* https://losc.ligo.org/s/events/GW150914/L-L1_LOSC_4_V1-1126257414-4096.hdf5\n",
    "* https://losc.ligo.org/s/events/GW150914/H-H1_LOSC_16_V1-1126257414-4096.hdf5\n",
    "* https://losc.ligo.org/s/events/GW150914/L-L1_LOSC_16_V1-1126257414-4096.hdf5\n"
   ]
  },
  {
   "cell_type": "markdown",
   "metadata": {},
   "source": [
    "## Below my comments come after **  \n",
    "## -XH"
   ]
  },
  {
   "cell_type": "markdown",
   "metadata": {},
   "source": [
    "## Before we start..."
   ]
  },
  {
   "cell_type": "markdown",
   "metadata": {},
   "source": [
    "## Setting Up Your Computational Course Folder, something along the line of \n",
    "\n",
    "     ~/COMPPHYS-II/JNGUYEN\n",
    "\n",
    "## Then create a directory \n",
    "\n",
    "     LIGO"
   ]
  },
  {
   "cell_type": "markdown",
   "metadata": {},
   "source": [
    "## Now from the terminal:\n",
    "\n",
    "    enpkg matplotlib\n",
    "    enpkg hdf5\n",
    "    \n",
    "    # useful python functions\n",
    "    wget https://losc.ligo.org/s/sample_code/readligo.py  # if this doesn't work, download using a web brower\n",
    "    # download data\n",
    "    wget https://losc.ligo.org/s/events/GW150914/H-H1_LOSC_4_V1-1126259446-32.hdf5\n",
    "    wget https://losc.ligo.org/s/events/GW150914/H-H1_LOSC_16_V1-1126259446-32.hdf5\n",
    "    wget https://losc.ligo.org/s/events/GW150914/L-L1_LOSC_16_V1-1126259446-32.hdf5\n",
    "    wget https://losc.ligo.org/s/events/GW150914/L-L1_LOSC_4_V1-1126259446-32.hdf5\n",
    "    wget https://losc.ligo.org/s/events/GW150914/GW150914_4_NR_waveform.txt\n",
    "    \n",
    "### move (mv) all data files and the .py files to the directory\n",
    "\n",
    "    LIGO"
   ]
  },
  {
   "cell_type": "code",
   "execution_count": null,
   "metadata": {
    "collapsed": true
   },
   "outputs": [],
   "source": [
    "'''\n",
    "\n",
    "making sure you have pickle\n",
    "\n",
    "'''\n",
    "import pickle"
   ]
  },
  {
   "cell_type": "code",
   "execution_count": null,
   "metadata": {
    "collapsed": false
   },
   "outputs": [],
   "source": [
    "# ** The paper\n",
    "from IPython.core.display import HTML\n",
    "HTML('<iframe src=https://dcc.ligo.org/public/0122/P150914/014/LIGO-P150914_Detection_of_GW150914.pdf width=1000 height=700></iframe>')\n",
    "\n",
    "# Or you can go to Physical Review Letters directly:\n",
    "# https://journals.aps.org/prl/pdf/10.1103/PhysRevLett.116.061102"
   ]
  },
  {
   "cell_type": "markdown",
   "metadata": {},
   "source": [
    "## 1. What did GR predict about the effects of a gravitational wave (GW) passing?\n",
    "\n",
    "## 2. What Did LIGO Try to Measure?\n",
    "\n",
    "## 3. Kip Thorne's Contribution: Numerical Relativity\n",
    "\n",
    "- ## Precise, quantitative prediction of the effects of GW for strain measurements.\n",
    "- ## High computation requirement for NR: Strain signatures for different sources of GW saved for comparison with experimental results. \n",
    "\n",
    "## *It's the advancement in 2. and 3. in the last two decades that made possible a detailed comparison between theory and experiement, which led to the discovery.*"
   ]
  },
  {
   "cell_type": "code",
   "execution_count": null,
   "metadata": {
    "collapsed": false
   },
   "outputs": [],
   "source": [
    "# Standard python numerical analysis imports:\n",
    "from __future__ import print_function\n",
    "import numpy as np\n",
    "from scipy import signal\n",
    "from scipy.interpolate import interp1d\n",
    "from scipy.signal import butter, filtfilt, iirdesign, zpk2tf, freqz\n",
    "\n",
    "%matplotlib inline\n",
    "# ** This should make figures look sharper\n",
    "%config InlineBackend.figure_format = 'retina'\n",
    "import matplotlib.pyplot as plt\n",
    "import matplotlib.mlab as mlab\n",
    "import h5py\n",
    "\n",
    "# LIGO-specific readligo.py \n",
    "import sys\n",
    "from os.path import expanduser\n",
    "# this may work on a PC -- if it doesn't please let me know.\n",
    "HOME = expanduser(\"~\")\n",
    "# the following line would be different for everyone.\n",
    "# e.g. for James it may be '/COMPPHYS-II/JNGUYEN/LIGO'\n",
    "my_ligo_subdir = '/CompPhys-II/LIGO/'\n",
    "ligo_dir = HOME + my_ligo_subdir\n",
    "sys.path.append(ligo_dir)\n",
    "import readligo as rl"
   ]
  },
  {
   "cell_type": "code",
   "execution_count": null,
   "metadata": {
    "collapsed": false
   },
   "outputs": [],
   "source": [
    "#----------------------------------------------------------------\n",
    "# Load LIGO data from a single file\n",
    "#\n",
    "# ** For CP-II, I will only load data from H1\n",
    "#----------------------------------------------------------------\n",
    "# First from H1\n",
    "fn_H1 = ligo_dir + 'H-H1_LOSC_4_V1-1126259446-32.hdf5'\n",
    "strain_H1, time_H1, chan_dict_H1 = rl.loaddata(fn_H1, 'H1')\n",
    "\n",
    "# sampling rate:  (**We've seen something similar in CP-I)\n",
    "fs = 4096\n",
    "# both H1 and L1 will have the same time vector, so:\n",
    "time = time_H1\n",
    "# the time sample interval (uniformly sampled!)  (**We've seen this this semester!)\n",
    "dt = time[1] - time[0]"
   ]
  },
  {
   "cell_type": "markdown",
   "metadata": {},
   "source": [
    "## Adding a numerical relativity template\n",
    "\n",
    "Now let's also read in a theoretical (numerical relativity) template, \n",
    "generated with parameters favored by the output from the GW150914 parameter estimation (see the GW150914 detection paper, https://dcc.ligo.org/P150914/public ).\n",
    "\n",
    "This NR template corresponds to the signal expected from a pair of black holes with masses of around 36 and 29 solar masses, merging into a single black hole of 62 solar masses, at a distance of around 410 Mpc. \n",
    "\n",
    "You can fetch the template time series from the following URL, and put it in your working directory / folder:\n",
    "* https://losc.ligo.org/s/events/GW150914/GW150914_4_NR_waveform.txt\n"
   ]
  },
  {
   "cell_type": "code",
   "execution_count": null,
   "metadata": {
    "collapsed": false
   },
   "outputs": [],
   "source": [
    "# read in the NR template\n",
    "NRtime, NR_H1 = np.genfromtxt(ligo_dir + 'GW150914_4_NR_waveform.txt').transpose()"
   ]
  },
  {
   "cell_type": "markdown",
   "metadata": {},
   "source": [
    "## We will only look at the data from one of the two detectors, H1 (Hanford) \n",
    "## (For the L1 data, you can follow the LIGO ipython notebook yourself.)"
   ]
  },
  {
   "cell_type": "code",
   "execution_count": null,
   "metadata": {
    "collapsed": false
   },
   "outputs": [],
   "source": [
    "# First, let's look at the data and print out some stuff:\n",
    "\n",
    "print('time_H1: len, min, mean, max = {}, {:.9e}, {:.9e}, {:.9e}'.format( \\\n",
    "   len(time_H1), time_H1.min(), time_H1.mean(), time_H1.max()))\n",
    "# Pay attention to how small the strain signal is!\n",
    "print('strain_H1: len, min, mean, max = {}, {:.4e}, {:.4e}, {:.4e}'.format(\\\n",
    "   len(strain_H1), strain_H1.min(),strain_H1.mean(),strain_H1.max()))\n",
    "    "
   ]
  },
  {
   "cell_type": "code",
   "execution_count": null,
   "metadata": {
    "collapsed": false
   },
   "outputs": [],
   "source": [
    "# plot +/- 5 seconds around the event:\n",
    "tevent = 1126259462.422         # Mon Sep 14 09:50:45 GMT 2015 \n",
    "deltat = 5.                     # seconds around the event\n",
    "\n",
    "# index into the strain time series for this time interval:\n",
    "# indxt = np.where((time_H1 >= tevent-deltat) & (time_H1 < tevent+deltat))\n",
    "\n",
    "# ** Note they used np.where -- but you know that you don't have to!\n",
    "# ** Try the following!\n",
    "indxt = (time_H1 >= tevent-deltat) * (time_H1 < tevent+deltat)\n",
    "\n",
    "plt.figure()\n",
    "plt.plot(time_H1[indxt]-tevent,strain_H1[indxt],'r',label='H1 strain')\n",
    "plt.xlabel('time (s) since '+str(tevent))\n",
    "plt.ylabel('strain')\n",
    "plt.legend(loc='lower right')\n",
    "\n",
    "# If I narrow it down to -0.1 to 0.1 sec you still can't see the signal!\n",
    "# (Yes, it's in that narrow time window!)\n",
    "# Though in this smaller [-0.1, 0.1] window, you can see there is clearly \n",
    "# low frequency noise.\n",
    "#plt.xlim(-0.1, 0.1)\n",
    "plt.title('Advanced LIGO strain data near GW150914')\n",
    "plt.savefig('GW150914_strain.png')"
   ]
  },
  {
   "cell_type": "markdown",
   "metadata": {},
   "source": [
    "## **\n",
    "\n",
    "## So even if someone tells you the data is within these 10 seconds (or 0.2 sec!), you still can't see it!\n",
    "\n",
    "##...Not without with some sophisticated signal processing.\n",
    "\n",
    "## First Step: \"Whitening\" \n",
    "### (CP-I students encountered this notion in face recognition)"
   ]
  },
  {
   "cell_type": "markdown",
   "metadata": {},
   "source": [
    "## Data in the Fourier domain - ASDs\n",
    "\n",
    "## ** Think: for light in the optical wavelength range, frequency is associated with what kind of sensory information?  (Color)\n",
    "\n",
    "## ** The strain intensity also depends on frequency (or \"color\").\n",
    "\n",
    "## ** You should think of noises this way: they are signals that come from a source other than the one you are interested in.\n",
    "\n",
    "## ** (Imagine you are trying to listen to your friend in a crowded room with many people talking at the same time -- everybody else's voice is a noise.  But of course each of the other voices is really a signal, just not to you!)\n",
    "\n",
    "## ** They are noises because they interfere with the measurement of the signal you are interested in.  \n",
    "\n",
    "\n",
    "## ** The degree to which they can interfere with your signal is given as the uncertainty.  A signal from another source that can seriously interfere with your signal will represent a significant uncertainty (because there is a high level of uncertainty whether it's the actual signal you're looking for or something else).  \n",
    "\n",
    "## ** What you will see below:\n",
    "\n",
    "Strain intensity is represented in the plot below as amplitude spectral density, ASD.\n",
    "\n",
    "The ASDs are the square root of the power spectral densities (PSDs -- CP-I students: PSD is the same as the power spectrum, or the modulus of the fourier components squared).\n",
    "\n",
    "They are an estimate of the \"strain-equivalent noise\" (that is, strain caused by sources other than GW) of the detectors versus frequency, which limits the ability of the detectors to identify GW signals.\n",
    "\n",
    "You will also see spikes: They simply represent an extreme form of the frequency dependence of noises -- no different from the gentler trends.\n",
    "\n",
    "Dividing the total strain signal in frequency space (or \"the Fourier Transform of the strain time series\") by ASD amounts to removing the gentle frequency (or color) dependence as well the spikes.  This is why this process is called \n",
    "\"whitening\".\n",
    "\n",
    "\n",
    "## ** Bottom line: Given a strain time series, you may think you want to deal with the noise at each time when the measurement is made.  That's one way to do it -- but in this case, the best thing to do is to understand how the noise depends on frequency.  \n",
    "\n",
    "## ** The advantage of dealing with the signal in the \"frequency domain\" is easy to see.  For example: In this domain, you would expect a strong signal at 60 Hz from the AC power supply (and as you will see, it is indeed there!) --  since this is not the signal you're interested in, it represents a potential (strong) source of noise!!  "
   ]
  },
  {
   "cell_type": "markdown",
   "metadata": {},
   "source": [
    "## ** The way to turn a signal as a function of time to the same signal as a function of frequency is by performing the Fourier Tranform -- which some of you are learning in Math Methods, and which we will talk about how to do numerically in CP-I."
   ]
  },
  {
   "cell_type": "code",
   "execution_count": null,
   "metadata": {
    "collapsed": false
   },
   "outputs": [],
   "source": [
    "'''\n",
    "\n",
    "Here they show what the noise looks like in \"frequency\" space.\n",
    "\n",
    "Point out the spikes at 60 Hz, 120 Hz, 180 Hz, 240 Hz, etc.\n",
    "\n",
    "\n",
    "'''\n",
    "\n",
    "# number of sample for the fast fourier transform:\n",
    "# ** We worked extensively with FFT in CP-I.\n",
    "NFFT = 1*fs\n",
    "print('fs', fs)\n",
    "fmin = 10\n",
    "# ** Given that the samplin rate is 4096, the maximum detectable frequency \n",
    "# (Nyuqist frequency) is 2048.  Thus fmax = 2000.\n",
    "fmax = 2000\n",
    "# ** We have calculated FFT and then the power spectrum in CP-I\n",
    "# ** another way of saying power spectrum is PSD (power spectral density).\n",
    "# ** And this is what Pxx_H1 is -- it's simply the power spectrum.\n",
    "Pxx_H1, freqs = mlab.psd(strain_H1, Fs = fs, NFFT = NFFT)\n",
    "\n",
    "print('freq: len, min, max', len(freqs), freqs.min(), freqs.max())\n",
    "\n",
    "# We will use interpolations of the ASDs computed above for whitening:\n",
    "# ** I mentioned whitening in an email related to facial recognition\n",
    "psd_H1 = interp1d(freqs, Pxx_H1)\n",
    "\n",
    "# plot the ASDs:\n",
    "plt.figure()\n",
    "# ** Note: it's a log-log plot\n",
    "plt.loglog(freqs, np.sqrt(Pxx_H1),'r',label='H1 strain')\n",
    "plt.axis([fmin, fmax, 1e-24, 1e-19])\n",
    "plt.grid('on')\n",
    "plt.ylabel('ASD (strain/rtHz)')\n",
    "plt.xlabel('Freq (Hz)')\n",
    "plt.legend(loc='upper center')\n",
    "plt.title('Advanced LIGO strain data near GW150914')\n",
    "plt.savefig('GW150914_ASDs.png')\n",
    "plt.show()\n",
    "# Thus this thing squared is the variance/Hz."
   ]
  },
  {
   "cell_type": "markdown",
   "metadata": {},
   "source": [
    "## ** The highest frequency detectable:\n",
    "\n",
    "## ** we spent quite a bit of time on Nyquist frequency = fs/2 in CP-II!\n",
    "The sample rate is fs = 4096 Hz (2^12 Hz), so the data cannot capture frequency content above the Nyquist frequency = fs/2 = 2048 Hz. That's OK, because GW150914 only has detectable frequency content in the range 20 Hz - 300 Hz.\n",
    "\n",
    "You can see strong spectral lines in the data; they are all of instrumental origin. Some are engineered into the detectors (mirror suspension resonances at ~500 Hz and harmonics, calibration lines, control dither lines, etc) and some (60 Hz and harmonics) are unwanted. We'll return to these, later.\n",
    "\n",
    "You can't see the signal in this plot, since it is relatively weak and less than a second long, while this plot averages over 32 seconds of data. So this plot is entirely dominated by instrumental noise (i.e., signals we don't care about)."
   ]
  },
  {
   "cell_type": "code",
   "execution_count": null,
   "metadata": {
    "collapsed": false
   },
   "outputs": [],
   "source": [
    "'''\n",
    "Whitening gets rid of low frequency noise\n",
    "\n",
    "Why is it that dividing the FT of the time series by ASD does NOT get rid of the signal?  \n",
    "\n",
    "Because ASD = |FT|.  The division preserves the phase information,\n",
    "but gets rid of wavelength undulations in the amplitude.  This is what we want: \n",
    "\"whitening\" the time series\n",
    "\n",
    "[For interested students (esp. those who took Methods with me): \n",
    "\n",
    "a) We know that the value of signal at any time is the sum of all the Fourier (freq) \n",
    "components, each with its coefficient (the absolute value of which we call amplitude).\n",
    "\n",
    "b) Conversely, the value of the Fourier spectrum of a signal (in freq space) \n",
    "at any frequency is proportional to the sum the Fourier coeff corresponding \n",
    "to this frequency for the length of time during which this signal has been \n",
    "sampled).    \n",
    "\n",
    "So really the absolutely value of that, which is ASD, tells you \n",
    "the standard deviation of fluctuations at this frequency.  Because if you square \n",
    "ASD, it's equal to all the Fourier coeff's squared and added up and divided by N.  \n",
    "(You can visualize this by using the convention that there is a 1/sqrt(N) factor \n",
    "in front of the sum that is DFT -- and of course another factor of 1/sqrt(N) in front \n",
    "of the inverse FT.  Remember in Methods, my convention for FT and inverse FT was that \n",
    "each had a factor of 1/sqrt(L) in front of it.)\n",
    "\n",
    "Consider the following two signals, (i) and (ii): \n",
    "\n",
    "(i) y1(t) = 4*sin(f*t)\n",
    "(ii) y2(t) = (4*t)*sin(f*t)\n",
    "\n",
    "If both have been measured for a reasonably long period of time, the ASD of (i) will\n",
    "twice as large as (ii)\n",
    "\n",
    "]\n",
    "\n",
    "'''\n",
    "\n",
    "# function to whiten data\n",
    "def whiten(strain, interp_psd, dt):\n",
    "    Nt = len(strain)\n",
    "    # ** remember: we used np.fft in CP-I.\n",
    "    freqs = np.fft.rfftfreq(Nt, dt)\n",
    "    print('freqs len, max, min, mean:', len(freqs), freqs.max(), freqs.min(), freqs.mean())\n",
    "    print('dt, 1/dt', dt, 1/dt)\n",
    "    # whitening: transform to freq domain, divide by asd, then transform back, \n",
    "    # taking care to get normalization right.\n",
    "    hf = np.fft.rfft(strain)\n",
    "    white_hf = hf / (np.sqrt(interp_psd(freqs) /dt/2.))\n",
    "    \n",
    "    white_ht = np.fft.irfft(white_hf, n=Nt)\n",
    "    return white_ht\n",
    "\n",
    "# now whiten the data from H1, and also the NR template:\n",
    "strain_H1_whiten = whiten(strain_H1,psd_H1,dt)\n",
    "NR_H1_whiten = whiten(NR_H1,psd_H1,dt)"
   ]
  },
  {
   "cell_type": "markdown",
   "metadata": {},
   "source": [
    "## ** Now to get rid of high frequency noise\n",
    "\n",
    "Now plot the whitened strain data, along with the best-fit numerical relativity (NR) template.\n",
    "\n",
    "To get rid of remaining high frequency noise, we will also bandpass the data (see bandpassing, below).\n",
    "\n",
    "** For CP-I students, again this is done by Fourier Transform."
   ]
  },
  {
   "cell_type": "code",
   "execution_count": null,
   "metadata": {
    "collapsed": false
   },
   "outputs": [],
   "source": [
    "# We need to suppress the high frequencies with some bandpassing:\n",
    "# ** We have done filtering (cutting out certain frequencies) in CP-I.\n",
    "bb, ab = butter(4, [20.*2./fs, 300.*2./fs], btype='band')\n",
    "strain_H1_whitenbp = filtfilt(bb, ab, strain_H1_whiten)\n",
    "NR_H1_whitenbp = filtfilt(bb, ab, NR_H1_whiten)\n",
    "\n",
    "# plot the data after whitening:\n",
    "\n",
    "# ** even in the time domain you can see the frequency and amplitude increase\n",
    "# ** near t = 0.0.\n",
    "plt.figure()\n",
    "plt.plot(time-tevent,strain_H1_whitenbp,'r',label='H1 strain')\n",
    "plt.plot(NRtime+0.002,NR_H1_whitenbp,'k',label='matched NR waveform')\n",
    "plt.xlim([-0.1,0.05])\n",
    "plt.ylim([-4,4])\n",
    "plt.xlabel('time (s) since '+str(tevent))\n",
    "plt.ylabel('whitented strain')\n",
    "plt.legend(loc='lower left')\n",
    "plt.title('Advanced LIGO WHITENED strain data near GW150914')\n",
    "# ** we have used plt.savefig in CP-I \n",
    "plt.savefig('GW150914_strain_whitened.png')"
   ]
  },
  {
   "cell_type": "markdown",
   "metadata": {},
   "source": [
    "## ** Isn't this amazing!!\n",
    "## ** But how did they know where to look first??"
   ]
  },
  {
   "cell_type": "markdown",
   "metadata": {},
   "source": [
    "## Spectrograms\n",
    "\n",
    "Now let's plot a short time-frequency spectrogram around GW150914:"
   ]
  },
  {
   "cell_type": "code",
   "execution_count": null,
   "metadata": {
    "collapsed": false
   },
   "outputs": [],
   "source": [
    "tevent = 1126259462.422         # Mon Sep 14 09:50:45 GMT 2015 \n",
    "deltat = 10.                    # seconds around the event\n",
    "# index into the strain time series for this time interval:\n",
    "indxt = np.where((time_H1 >= tevent-deltat) & (time_H1 < tevent+deltat))\n",
    "\n",
    "# pick a shorter FTT time interval, like 1/8 of a second:\n",
    "NFFT = fs/8\n",
    "# and with a lot of overlap, to resolve short-time features:\n",
    "NOVL = NFFT*15/16\n",
    "# and choose a window that minimizes \"spectral leakage\" \n",
    "# (https://en.wikipedia.org/wiki/Spectral_leakage)\n",
    "window = np.blackman(NFFT)\n",
    "\n",
    "# ** We have also played a little bit with different colormaps in CP-I\n",
    "# the right colormap is can be quite important! See:\n",
    "# http://matplotlib.org/examples/color/colormaps_reference.html\n",
    "# viridis seems to be the best for our purposes, but it's new; if you don't have it, \n",
    "# you can settle for ocean.\n",
    "spec_cmap='viridis'\n",
    "#spec_cmap='ocean'\n",
    "\n",
    "# Plot the H1 spectrogram:\n",
    "plt.figure(figsize = (10, 10))\n",
    "spec_H1, freqs, bins, im = plt.specgram(strain_H1[indxt], NFFT=NFFT, Fs=fs, window=window, \n",
    "                                        noverlap=NOVL, cmap=spec_cmap, xextent=[-deltat,deltat])\n",
    "plt.xlabel('time (s) since '+str(tevent))\n",
    "plt.ylabel('Frequency (Hz)')\n",
    "plt.colorbar()\n",
    "plt.axis([-deltat, deltat, 0, 2000])\n",
    "plt.title('aLIGO H1 strain data near GW150914')\n",
    "plt.savefig('GW150914_H1_spectrogram.png')\n",
    "\n"
   ]
  },
  {
   "cell_type": "markdown",
   "metadata": {},
   "source": [
    "In the above spectrograms, you can see lots of excess power below ~20 Hz, as well as strong spectral lines at 500, 1000, 1500 Hz (also evident in the ASDs above). The lines at multiples of 500 Hz are the harmonics of the \"violin modes\" of the fibers holding up the mirrors of the LIGO interferometers.\n",
    "\n",
    "The signal is just barely visible here, at time=0 and below 500 Hz. We need to zoom in around the event time, and to the frequency range from [20, 400] Hz, and use the whitened data generated above."
   ]
  },
  {
   "cell_type": "markdown",
   "metadata": {},
   "source": [
    "See the smudge between -0.2 and 0 seconds? That's our signal!\n",
    "You can see it 'chirping' from lower to higher frequency over a small fraction of a second."
   ]
  },
  {
   "cell_type": "code",
   "execution_count": null,
   "metadata": {
    "collapsed": false
   },
   "outputs": [],
   "source": [
    "#  plot the whitened data, zooming in on the signal region:\n",
    "tevent = 1126259462.422          # Mon Sep 14 09:50:45 GMT 2015 \n",
    "deltat = 10.                      # seconds around the event\n",
    "# index into the strain time series for this time interval:\n",
    "indxt = np.where((time_H1 >= tevent-deltat) & (time_H1 < tevent+deltat))\n",
    "\n",
    "# ** I added the following line\n",
    "t = time_H1[indxt]\n",
    "print('t: max, min, len', t.max() - tevent, t.min() - tevent, len(t))\n",
    "\n",
    "# pick a shorter FTT time interval, like 1/16 of a second:\n",
    "# ** I changed 1/16 to 1/n.\n",
    "# ** now the frequency is sampled at 16 Hz intervals instead of 1 Hz\n",
    "# ** this is why we will end up with 129 frequency values, 4096/16,\n",
    "# ** plus 0 Hz. \n",
    "# ** previous cell: n = 8; here n = 16: on small time scales, this is better.\n",
    "n = 16\n",
    "NFFT = fs/n\n",
    "\n",
    "# with a lot of overlap, to resolve short-time features:\n",
    "NOVL = NFFT*15/16\n",
    "# NOVL = NFFT*7/8\n",
    "\n",
    "# and choose a window that minimizes \"spectral leakage\" \n",
    "# (https://en.wikipedia.org/wiki/Spectral_leakage)\n",
    "window = np.blackman(NFFT)\n",
    "\n",
    "# Plot the H1 whitened spectrogram around the signal\n",
    "plt.figure()\n",
    "spec_H1, freqs, bins, im = plt.specgram(strain_H1_whiten[indxt], NFFT=NFFT, Fs=fs, window=window, \n",
    "                                        noverlap=NOVL, cmap=spec_cmap, xextent=[-deltat,deltat])\n",
    "plt.xlabel('time (s) since '+str(tevent))\n",
    "plt.ylabel('Frequency (Hz)')\n",
    "plt.colorbar()\n",
    "plt.axis([-0.5, 0.5, 0, 500])\n",
    "plt.title('aLIGO H1 strain data near GW150914')\n",
    "plt.savefig('GW150914_H1_spectrogram_whitened.png')\n",
    "\n",
    "print('spect_H1.shape', spec_H1.shape)\n",
    "print('freq:', freqs.max(), freqs.min(), np.gradient(freqs)[0])\n",
    "# ** bins max and min are set by 20*(1-/2n) and 1/2n.\n",
    "# ** whereas del_bins = bins[1] - bins[0] is set by bins.max() - bins.min())/(len(bins)-1)\n",
    "# ** The reason len(bins) is high because the original sampling rate is very high: 16384 Hz.\n",
    "# ** del_bins = 0.00390625 = 1/256, why??\n",
    "print('bins:', bins.max(), bins.mean(), bins.min(), bins[1] - bins[0], len(bins), (bins.max() - bins.min())/(len(bins)-1))\n",
    "\n",
    "\n",
    "with open('ligo_freq_t.p', 'w') as f:\n",
    "    pickle.dump({'spec_H1': spec_H1, 'freqs': freqs, 't': bins}, f )\n"
   ]
  },
  {
   "cell_type": "code",
   "execution_count": null,
   "metadata": {
    "collapsed": false
   },
   "outputs": [],
   "source": [
    "'''For HW01, all you have to do is the following'''\n",
    "\n",
    "\n",
    "with open('ligo_freq_t.p', 'r') as f:\n",
    "    spec_data = pickle.load(f)\n",
    "\n",
    "bins = spec_data['t']\n",
    "freqs = spec_data['freqs']\n",
    "spec_H1 = spec_data['spec_H1']"
   ]
  },
  {
   "cell_type": "markdown",
   "metadata": {},
   "source": [
    "## Make sound files\n",
    "\n",
    "Make wav (sound) files from the filtered, downsampled data, +-2s around the event."
   ]
  },
  {
   "cell_type": "code",
   "execution_count": null,
   "metadata": {
    "collapsed": false
   },
   "outputs": [],
   "source": [
    "# make wav (sound) files from the whitened data, +-2s around the event.\n",
    "\n",
    "from scipy.io import wavfile\n",
    "\n",
    "# function to keep the data within integer limits, and write to wavfile:\n",
    "# ** we have dealt with sound files in CP-I (did we make wav files?)\n",
    "def write_wavfile(filename,fs,data):\n",
    "    d = np.int16(data/np.max(np.abs(data)) * 32767 * 0.9)\n",
    "    wavfile.write(filename,int(fs), d)\n",
    "\n",
    "tevent = 1126259462.422         # Mon Sep 14 09:50:45 GMT 2015 \n",
    "deltat = 2.                     # seconds around the event\n",
    "\n",
    "# index into the strain time series for this time interval:\n",
    "indxt = np.where((time >= tevent-deltat) & (time < tevent+deltat))\n",
    "\n",
    "# write the files:\n",
    "write_wavfile(\"GW150914_H1_whitenbp.wav\",int(fs), strain_H1_whitenbp[indxt])\n",
    "write_wavfile(\"GW150914_NR_whitenbp.wav\",int(fs), NR_H1_whitenbp)\n"
   ]
  },
  {
   "cell_type": "code",
   "execution_count": null,
   "metadata": {
    "collapsed": false
   },
   "outputs": [],
   "source": [
    "#To play the sound, with what we learned in CP-I, we do\n",
    "\n",
    "import os\n",
    "os.system(\"afplay GW150914_H1_whitenbp.wav\")\n",
    "# It's easier to hear it in the theoretic prediction -- less noisy\n",
    "# os.system(\"afplay GW150914_NR_whitenbp.wav\")\n"
   ]
  },
  {
   "cell_type": "markdown",
   "metadata": {},
   "source": [
    "With good headphones, you'll hear a faint thump in the middle.\n",
    "\n",
    "We can enhance this by increasing the frequency; \n",
    "this is the \"audio\" equivalent of the enhanced visuals that NASA employs on telescope images with \"false color\".\n",
    "\n",
    "## ** Note how they shifted the data to a different frequency by using fft!\n",
    "The code below will shift the data up by 400 Hz (by taking an FFT, shifting/rolling the frequency series, then inverse fft-ing). The resulting sound file will be noticibly more high-pitched, and the signal will be easier to hear."
   ]
  },
  {
   "cell_type": "markdown",
   "metadata": {},
   "source": [
    "## Shifting the data to a different frequency range"
   ]
  },
  {
   "cell_type": "code",
   "execution_count": null,
   "metadata": {
    "collapsed": false
   },
   "outputs": [],
   "source": [
    "from IPython.display import HTML\n",
    "HTML('<iframe src = http://www.wired.com/wp-content/uploads/2014/08/i_photo6.jpg width=670 height=410 iframe>')"
   ]
  },
  {
   "cell_type": "markdown",
   "metadata": {},
   "source": [
    "## Can we see infrared light?\n",
    "\n",
    "Of course not.  The signal of the thermal image is translated from the infrared range into visible light range.\n",
    "\n",
    "You can do this by Fourier Transform:\n",
    "\n",
    " *   First perform FT on the IR image\n",
    " *   Shift the FT from the IR range to the visible range\n",
    " *   Inverse FT the shifted FR, you get the above image"
   ]
  },
  {
   "cell_type": "markdown",
   "metadata": {},
   "source": [
    "## We can do the same for sound:\n",
    "\n",
    "## Our ears are a little more sensitive to vibrations at a higher frequency so \n",
    "\n",
    "## we shift the signal, which is in a low frequence range, to a higher frequency range"
   ]
  },
  {
   "cell_type": "code",
   "execution_count": null,
   "metadata": {
    "collapsed": false
   },
   "outputs": [],
   "source": [
    "# function that shifts frequency of a band-passed signal\n",
    "def reqshift(data,fshift=100,sample_rate=4096):\n",
    "    \"\"\"Frequency shift the signal by constant\n",
    "    \"\"\"\n",
    "    # ** FT the signal\n",
    "    x = np.fft.rfft(data)\n",
    "    \n",
    "    T = len(data)/float(sample_rate)\n",
    "    df = 1.0/T\n",
    "    nbins = int(fshift/df)\n",
    "    \n",
    "    # ** shift the result of the FT in freq space by nbins, \n",
    "    # ** which shifts everything by fshift (see line above)  \n",
    "    y = np.roll(x.real,nbins) + 1j*np.roll(x.imag,nbins)\n",
    "    \n",
    "    # ** inverse FT\n",
    "    z = np.fft.irfft(y)\n",
    "    \n",
    "    return z\n",
    "\n",
    "# parameters for frequency shift\n",
    "fs = 4096\n",
    "fshift = 400.\n",
    "speedup = 1.\n",
    "fss = int(float(fs)*float(speedup))\n",
    "\n",
    "# shift frequency of the data\n",
    "strain_H1_shifted = reqshift(strain_H1_whitenbp,fshift=fshift,sample_rate=fs)\n",
    "NR_H1_shifted = reqshift(NR_H1_whitenbp,fshift=fshift,sample_rate=fs)\n",
    "\n",
    "# write the files:\n",
    "write_wavfile(\"GW150914_H1_shifted.wav\",int(fs), strain_H1_shifted[indxt])\n",
    "write_wavfile(\"GW150914_NR_shifted.wav\",int(fs), NR_H1_shifted)"
   ]
  },
  {
   "cell_type": "code",
   "execution_count": null,
   "metadata": {
    "collapsed": false
   },
   "outputs": [],
   "source": [
    "'''\n",
    "Let's try something else here to play the sound.\n",
    "\n",
    "This way of playing sound is platform-independent,\n",
    "though restricted to the notebook for now).\n",
    "\n",
    "'''\n",
    "import IPython\n",
    "IPython.display.Audio(\"GW150914_H1_shifted.wav\")\n",
    "# This is the theoretical prediction -- it should be a little cleaner:\n",
    "# IPython.display.Audio(\"GW150914_NR_shifted.wav\")"
   ]
  },
  {
   "cell_type": "markdown",
   "metadata": {},
   "source": [
    "# End of Week 5-1"
   ]
  }
 ],
 "metadata": {
  "kernelspec": {
   "display_name": "Python 2",
   "language": "python",
   "name": "python2"
  },
  "language_info": {
   "codemirror_mode": {
    "name": "ipython",
    "version": 2
   },
   "file_extension": ".py",
   "mimetype": "text/x-python",
   "name": "python",
   "nbconvert_exporter": "python",
   "pygments_lexer": "ipython2",
   "version": "2.7.9"
  }
 },
 "nbformat": 4,
 "nbformat_minor": 0
}

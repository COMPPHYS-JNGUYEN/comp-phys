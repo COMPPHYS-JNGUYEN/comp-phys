{
 "cells": [
  {
   "cell_type": "markdown",
   "metadata": {},
   "source": [
    "##The Perceptron -- A summary\n",
    "\n",
    "\n",
    "$$y=\\sum_{i = 0}^{n} {w_i x_i} = \\vec{w} \\cdot \\vec{x} \\tag {1}$$\n",
    "\n",
    "$$z(y) = \\begin{cases} \n",
    "      0 & y\\leq 0 \\\\\n",
    "      1 & y\\gt 0\n",
    "\\end{cases} \\tag {2}$$\n",
    "\n",
    "where the $(x_0, x_1, ..., x_{n-1})$ are the inputs, with different weights $(w_0, w_1, ..., w_{n-1})$ for each of them, respectively.  $x_n$ is the bias, with a constant value of 1, and with weight $w_n$.  $z$ is the output of the perceptron.\n",
    "\n",
    "Then compare $z$ with a desired output: $d(\\vec{x})$.  Depending on how $z$ is different from $d$, we will adjust the $\\vec{w}$ to move $z$ closer and closer to $d$.  This is the training process to determine the weights.\n",
    "\n",
    "Once a perceptron is trained, it can then produce an output given a set of previously unseen inputs."
   ]
  },
  {
   "cell_type": "markdown",
   "metadata": {},
   "source": [
    "## Simple Example:\n",
    "\n",
    "## A perceptron that performs the NOR operation on two inputs:\n",
    "\n",
    "| $x_0$ | $x_1$ | $z$   |\n",
    "|:-:    |:-:    |:-:    |   \n",
    "|   0   |   0   |   1   |\n",
    "|   0   |   1   |   0   |\n",
    "|   1   |   0   |   0   |\n",
    "|   1   |   1   |   0   |\n",
    "\n",
    " \n",
    "\n"
   ]
  },
  {
   "cell_type": "markdown",
   "metadata": {},
   "source": [
    "## As we talked about last time, to the two real inputs, $x_0$ and $x_1$, we add one more input $x_2$ with a constant value of 1, and an associated weight $w_2$ -- this is the bias.  \n",
    "\n"
   ]
  },
  {
   "cell_type": "code",
   "execution_count": 1,
   "metadata": {
    "collapsed": true
   },
   "outputs": [],
   "source": [
    "%matplotlib inline\n",
    "# All imports\n",
    "from __future__ import print_function\n",
    "from random import choice\n",
    "import numpy as np\n",
    "import matplotlib.pyplot as plt\n"
   ]
  },
  {
   "cell_type": "code",
   "execution_count": 2,
   "metadata": {
    "collapsed": false
   },
   "outputs": [
    {
     "data": {
      "image/png": "[encoded data removed]",
      "text/plain": [
       "<matplotlib.figure.Figure at 0x10d4dd410>"
      ]
     },
     "metadata": {},
     "output_type": "display_data"
    }
   ],
   "source": [
    "'''\n",
    "step function\n",
    "\n",
    "We anticipate its generalized utility in a classifier; \n",
    "\n",
    "hence, in the lambda function, 1.*(x > 0)\n",
    "''' \n",
    "step_fun = lambda x: x > 0 \n",
    "x = np.linspace(-10, 10, 100)\n",
    "z = step_fun(x)\n",
    "plt.plot(x, z)\n",
    "plt.ylim(-.1, 1.1)\n",
    "plt.show()"
   ]
  },
  {
   "cell_type": "code",
   "execution_count": 3,
   "metadata": {
    "collapsed": false
   },
   "outputs": [
    {
     "name": "stdout",
     "output_type": "stream",
     "text": [
      "weights: [-0.23159391 -0.26003336  0.19740578]\n",
      "[0 0]: 0.197405783594 -> True\n",
      "[0 1]: -0.0626275806823 -> False\n",
      "[1 0]: -0.0341881313492 -> False\n",
      "[1 1]: -0.294221495626 -> False\n"
     ]
    }
   ],
   "source": [
    "'''\n",
    "Perceptron to implement the NOR operation\n",
    "\n",
    "\n",
    "'''\n",
    "\n",
    "training_data = [\n",
    "    (np.array([0,0,1]), 1),\n",
    "    (np.array([0,1,1]), 0),\n",
    "    (np.array([1,0,1]), 0),\n",
    "    (np.array([1,1,1]), 0),\n",
    "]\n",
    "\n",
    "# usu. random numbers for weights is not a bad starting point\n",
    "w = np.random.rand(3)\n",
    "errors = []\n",
    "\n",
    "# \"learning rate\"\n",
    "alfa = 0.2\n",
    "\n",
    "# use 100 training steps\n",
    "n = 100\n",
    "# w.history = []\n",
    "for i in xrange(n):\n",
    "    x, target = choice(training_data)\n",
    "    y = np.dot(w, x)\n",
    "    z = step_fun(y)\n",
    "    error = target - z\n",
    "    errors.append(error)\n",
    "    w += alfa * error * x\n",
    "\n",
    "print('weights:', w)\n",
    "    \n",
    "for x, _ in training_data:\n",
    "    y = np.dot(x, w)\n",
    "    # not including the bias, x[3]\n",
    "    print(\"{}: {} -> {}\".format(x[:2], y, step_fun(y)))"
   ]
  },
  {
   "cell_type": "markdown",
   "metadata": {},
   "source": [
    "## Now, the key step: \n",
    "\n",
    "     w += alfa * error * x\n",
    "     \n",
    "## It's really quite simple:\n",
    "\n",
    "If the target is higher than the output of the perceptron ($z$), then the weights need to be increased -- see eq (1) and (2); remember the $x_i$'s are non-negative.\n",
    "\n",
    "Conversely, if the target is lower than the output of the perceptron ($z$), then the weights need to be decreased."
   ]
  },
  {
   "cell_type": "code",
   "execution_count": 4,
   "metadata": {
    "collapsed": false
   },
   "outputs": [
    {
     "data": {
      "image/png": "[encoded data removed]",
      "text/plain": [
       "<matplotlib.figure.Figure at 0x10d529290>"
      ]
     },
     "metadata": {},
     "output_type": "display_data"
    }
   ],
   "source": [
    "'''\n",
    "Note that since both target and z are always either 0 or 1,\n",
    "the error values (= target - z) will only have values 1, -1, or 0.\n",
    "\n",
    "As we talked about above, if an error is 1, weight need to be increased\n",
    "to make y higher and therefore z higher (from 0 to 1), and vice versa.\n",
    "\n",
    "'''\n",
    "\n",
    "plt.plot(np.arange(n), errors, '.')\n",
    "plt.ylim(-1.1, 1.1)\n",
    "plt.xlim(0, 100)\n",
    "plt.show()"
   ]
  },
  {
   "cell_type": "markdown",
   "metadata": {},
   "source": [
    "## Let's turn this into a classifier!!"
   ]
  },
  {
   "cell_type": "code",
   "execution_count": 5,
   "metadata": {
    "collapsed": true
   },
   "outputs": [],
   "source": [
    "'''\n",
    "Perceptron to implement the NOR operation\n",
    "\n",
    "There are lots of subtlties here.\n",
    "\n",
    "\n",
    "'''\n",
    "def NOR_perceptron_classifier(x, show_train = False):    \n",
    "    training_data = [\n",
    "        (np.array([0,0,1]), 1),\n",
    "        (np.array([0,1,1]), 0),\n",
    "        (np.array([1,0,1]), 0),\n",
    "        (np.array([1,1,1]), 0),\n",
    "    ]\n",
    "\n",
    "    # usu. random numbers for weights is not a bad starting point\n",
    "    w = np.random.rand(3)\n",
    "    errors = []\n",
    "\n",
    "    # \"learning rate\"\n",
    "    alfa = 0.2\n",
    "\n",
    "    # use 100 training steps\n",
    "    n = 100\n",
    "    # w.history = []\n",
    "    for i in xrange(n):\n",
    "        x_train, target = choice(training_data)\n",
    "        y = np.dot(w, x_train)\n",
    "        error = target - step_fun(y)\n",
    "        errors.append(error)\n",
    "        w += alfa * error * x_train\n",
    "    \n",
    "    if show_train:\n",
    "        print('weights:', w)\n",
    "        print('Training results:')\n",
    "        for x_train, _ in training_data:\n",
    "            y = np.dot(x_train, w)\n",
    "            print(\"{}: {} -> {}\".format(x_train[:2], y, step_fun(y)))\n",
    "    \n",
    "    x = np.append(x, 1)\n",
    "    return step_fun(np.dot(x, w)), w"
   ]
  },
  {
   "cell_type": "markdown",
   "metadata": {},
   "source": [
    "## Breakout Exercise: \n",
    "\n",
    "- ## Add a function training(training_data, show_train = False) that returns the trained w.\n",
    "\n",
    "- ## Call the function training from inside NOR_perceptron_classifier(x, w_trained = None, show_train = False)\n",
    "\n",
    "     - If w_trained = None, call the function training.  What training returns should be stored in a variable called w_trained inside NOR_perceptron_classifier.\n",
    "       \n",
    "     - Or, w_trained can be supplied when NOR_perceptron_classifier is called.  Then training will not be called."
   ]
  },
  {
   "cell_type": "code",
   "execution_count": 6,
   "metadata": {
    "collapsed": true
   },
   "outputs": [],
   "source": [
    "'''\n",
    "Perceptron to implement the NOR operation\n",
    "\n",
    "There are lots of subtlties here.\n",
    "\n",
    "\n",
    "'''\n",
    "def training(training_data, show_train = False):\n",
    "    # usu. random numbers for weights is not a bad starting point\n",
    "    w = np.random.rand(3)\n",
    "    errors = []\n",
    "\n",
    "    # \"learning rate\"\n",
    "    alfa = 0.2\n",
    "\n",
    "    # use 100 training steps\n",
    "    n = 100\n",
    "    # w.history = []\n",
    "    for i in xrange(n):\n",
    "        x_train, target = choice(training_data)\n",
    "        y = np.dot(w, x_train)\n",
    "        error = target - step_fun(y)\n",
    "        errors.append(error)\n",
    "        w += alfa * error * x_train\n",
    "\n",
    "    if show_train:\n",
    "        print('weights:', w)\n",
    "        print('Training results:')\n",
    "        for x_train, _ in training_data:\n",
    "            y = np.dot(x_train, w)\n",
    "            print(\"{}: {} -> {}\".format(x_train[:2], y, step_fun(y)))\n",
    "\n",
    "    return w\n",
    "\n",
    "def NOR_perceptron_classifier(x, w_trained = None, show_train = False):    \n",
    "    training_data = [\n",
    "        (np.array([0,0,1]), 1),\n",
    "        (np.array([0,1,1]), 0),\n",
    "        (np.array([1,0,1]), 0),\n",
    "        (np.array([1,1,1]), 0),\n",
    "    ]\n",
    "\n",
    "    if w_trained == None:\n",
    "        w_trained = training(training_data, show_train = show_train)\n",
    "    \n",
    "    x = np.append(x, 1)\n",
    "    return step_fun(np.dot(x, w_trained)), w_trained"
   ]
  },
  {
   "cell_type": "code",
   "execution_count": 7,
   "metadata": {
    "collapsed": false
   },
   "outputs": [
    {
     "name": "stdout",
     "output_type": "stream",
     "text": [
      "False\n"
     ]
    }
   ],
   "source": [
    "z, _ = NOR_perceptron_classifier(np.array([0.2, 0.2]))\n",
    "print(z)"
   ]
  },
  {
   "cell_type": "markdown",
   "metadata": {},
   "source": [
    "## ## Breakout from last time: Try 20 pairs of random numbers between [0, 1]\n",
    "\n",
    "- ## Classify them according their \"z\" value.\n",
    "\n",
    "- ## Plot them, with color coding according their \"z\" value.\n"
   ]
  },
  {
   "cell_type": "code",
   "execution_count": 13,
   "metadata": {
    "collapsed": false
   },
   "outputs": [
    {
     "name": "stderr",
     "output_type": "stream",
     "text": [
      "/Users/labuser/Library/Enthought/Canopy_64bit/User/lib/python2.7/site-packages/ipykernel/__main__.py:43: FutureWarning: comparison to `None` will result in an elementwise object comparison in the future.\n"
     ]
    },
    {
     "data": {
      "image/png": "[encoded data removed]",
      "text/plain": [
       "<matplotlib.figure.Figure at 0x10fd060d0>"
      ]
     },
     "metadata": {},
     "output_type": "display_data"
    }
   ],
   "source": [
    "'''\n",
    "Breakout Solution -- give it to the students\n",
    "\n",
    "'''\n",
    "x_arr = np.random.rand(2000, 2)\n",
    "\n",
    "z_arr = np.array([])\n",
    "for i, x in enumerate(x_arr):\n",
    "    if i == 0:\n",
    "        z, w_trained = NOR_perceptron_classifier(x)\n",
    "    else:\n",
    "        z, _ = NOR_perceptron_classifier(x, w_trained = w_trained)\n",
    "    z_arr = np.append(z_arr, z)\n",
    "\n",
    "for i, x in enumerate(x_arr):\n",
    "    if z_arr[i]:\n",
    "        plt.plot(x[0], x[1], 'r.')\n",
    "    else:\n",
    "        plt.plot(x[0], x[1], 'b.')\n",
    "        \n",
    "bound = (-w_trained[0]*x_arr - w_trained[2])/w_trained[1]\n",
    "\n",
    "plt.plot(x_arr, bound)\n",
    "plt.plot(0, 0, 'r.', ms = 50.)\n",
    "plt.plot(0, 1, 'b.', ms = 50.)\n",
    "plt.plot(1, 0, 'b.', ms = 50.)\n",
    "plt.plot(1, 1, 'b.', ms = 50.)\n",
    "plt.xlim(-.1, 1.1)\n",
    "plt.ylim(-.1,1.1)\n",
    "plt.show()\n",
    "plt.show()"
   ]
  },
  {
   "cell_type": "markdown",
   "metadata": {},
   "source": [
    "## Breakout: Try 200 pairs of random numbers between [0, 1]\n",
    "\n",
    "- ## Classify them according their \"z\" value.\n",
    "\n",
    "- ## Plot them, with color coding according their \"z\" value.\n",
    "\n",
    "- ## Plot the four training points using large symbols, also color coded according their \"z\" values.  For inspiration:\n",
    "\n",
    "       http://matplotlib.org/api/pyplot_api.html\n",
    "\n",
    "- ## Plot the decision boundary (a line) using w."
   ]
  },
  {
   "cell_type": "code",
   "execution_count": 146,
   "metadata": {
    "collapsed": false
   },
   "outputs": [
    {
     "name": "stdout",
     "output_type": "stream",
     "text": [
      "False\n"
     ]
    }
   ],
   "source": [
    "'''How about a number outside the box?'''\n",
    "z, _ = NOR_perceptron_classifier(np.array([3, 4]))\n",
    "print(z)"
   ]
  },
  {
   "cell_type": "markdown",
   "metadata": {},
   "source": [
    "## In the simple example above, we figured out how to adjust the weights pretty easily.\n",
    "\n",
    "## For a more complicated problem, it's not obvious how the weights should be adjusted.\n",
    "\n",
    "## Let's now take a systematic approach.  Starting with the simplest possible perceptron...\n",
    "\n",
    "## Suppose there is only one input x, and therefore one weight, $w$.\n",
    "\n",
    "## Then \n",
    "\n",
    "##$$y = wx$$\n",
    "\n",
    "## And \n",
    "\n",
    "##$$z = \\text{step_fun} (y)$$\n",
    "\n",
    "## Suppose the desired output is $d$.\n",
    "\n",
    "## Then we can define a performance function\n",
    "\n",
    "##$$P = \\frac{1}{2} (d - z)^2$$\n",
    "\n",
    "## Obviously we would like to minimize $P$.\n",
    "\n",
    "## Clearly $P$ is a function of $w$, $P(w)$.\n",
    "\n",
    "## So we can phrase the question in the following way: find the value of $w$ that will minimize $P$.\n",
    "\n",
    "## If you are given a problem like that in Calculus I, how would you approach it?\n",
    "\n",
    "## $$ \\frac{dP} {dw} = 0$$\n",
    "\n",
    "## Except, $P$ doesn't directly depend on $w$.  Instead it depends on $z$, and $z$ depends on $y$, and finally $y$ depends directly on $w$.  So\n",
    "\n",
    "##$$ \\frac{dP} {dw} = \\frac{dP} {dz} \\frac{dz} {dy} \\frac{dy} {dw}$$\n",
    "\n",
    "## OK, let's compute the derivatives one at a time:\n",
    "\n",
    "##$$ \\frac{dP} {dz} = d - z$$\n",
    "\n",
    "## and \n",
    "\n",
    "##$$ \\frac{dy} {dw} = x$$\n",
    "\n",
    "## But what about \n",
    "\n",
    "##$$ \\frac{dz} {dy} = ?$$\n",
    "\n",
    "## The step function has a discontinuity at $y = 0$!!  You can't take derivative across a discontinuity!!\n",
    "\n",
    "## Introduce the sigmoid function:\n",
    "\n",
    "##$$ f(y) = \\frac{1}{1 + e^{-\\alpha y}}$$"
   ]
  },
  {
   "cell_type": "markdown",
   "metadata": {},
   "source": [
    "## Breakout Exercise: \n",
    "- ## Write a function, sigmoid(y, alpha = 1).\n",
    "- ## Plot the sigmoid function, with alpha equal to its default value of 1.  Ask yourself, does this function behave according to your expectation?\n",
    "- ## Plot the simoid function with 5 different alpha's, [1, 3, 5, 7, 9]"
   ]
  },
  {
   "cell_type": "code",
   "execution_count": 23,
   "metadata": {
    "collapsed": false
   },
   "outputs": [
    {
     "data": {
      "image/png": "[encoded data removed]",
      "text/plain": [
       "<matplotlib.figure.Figure at 0x11370b790>"
      ]
     },
     "metadata": {},
     "output_type": "display_data"
    }
   ],
   "source": [
    "def sigmoid(y, alpha=1):\n",
    "    return 1./(1+np.exp(-alpha*y))\n",
    "\n",
    "y = np.linspace(-10, 10, 100)\n",
    "lst = [1, 3, 5, 7, 9]\n",
    "for i in lst:\n",
    "    plt.plot(y, sigmoid(y, i))\n",
    "plt.ylim(0, 1.1)\n",
    "plt.show()"
   ]
  },
  {
   "cell_type": "markdown",
   "metadata": {},
   "source": [
    "## The sigmoid function is perfectly differentiable.\n",
    "\n",
    "## Breakout Exercise: Find the derivative of the sigmoid function by hand.  You may set $\\alpha$ to be 1."
   ]
  },
  {
   "cell_type": "markdown",
   "metadata": {},
   "source": [
    "## Remember, $z$ is just $S$ with $\\alpha = 1$.  So now we have an analytical expression for $\\frac{dP} {dw}$!"
   ]
  },
  {
   "cell_type": "markdown",
   "metadata": {},
   "source": [
    "## Lab Breakout Exercise: A general perceptron classifier:\n",
    "\n",
    "- ## It should take as an argument, training_data, and also the test data, x_test:\n",
    "\n",
    "     perceptron_classifier(x_test, training_data = None, w_trained = None, show_train = False)\n",
    "     \n",
    "     \n",
    "- ## It return the z value and w_trained for x_test.\n",
    "\n",
    "- ## Apply this general perceptron to the following three training data sets: the AND, the \"Down the middle\", the XOR.  The truth tables are provided below.\n"
   ]
  },
  {
   "cell_type": "markdown",
   "metadata": {},
   "source": [
    "## Truth Table for AND:\n",
    "| $x_0$ | $x_1$ | $z$   |\n",
    "|:-:    |:-:    |:-:    |   \n",
    "|   0   |   0   |   0   |\n",
    "|   0   |   1   |   0   |\n",
    "|   1   |   0   |   0   |\n",
    "|   1   |   1   |   1   |"
   ]
  },
  {
   "cell_type": "markdown",
   "metadata": {},
   "source": [
    "## Truth Table for \"Down the middle\":\n",
    "| $x_1$ | $x_2$ | $z$   |\n",
    "|:-:    |:-:    |:-:    |   \n",
    "|   0   |   0   |   0   |\n",
    "|   0   |   1   |   0   |\n",
    "|   1   |   0   |   1   |\n",
    "|   1   |   1   |   1   |"
   ]
  },
  {
   "cell_type": "markdown",
   "metadata": {},
   "source": [
    "## XOR: \n",
    "\n",
    "## Exclusive OR is a logical operation that outputs true only when inputs differ (one is true, the other is false).\n",
    "\n",
    "## Truth Table for XOR\n",
    "| $x_0$ | $x_1$ | $z$   |\n",
    "|:-:    |:-:    |:-:    |   \n",
    "|   0   |   0   |   0   |\n",
    "|   0   |   1   |   1   |\n",
    "|   1   |   0   |   1   |\n",
    "|   1   |   1   |   0   |"
   ]
  },
  {
   "cell_type": "markdown",
   "metadata": {
    "collapsed": true
   },
   "source": [
    "## End of Week 6-2"
   ]
  }
 ],
 "metadata": {
  "kernelspec": {
   "display_name": "Python 2",
   "language": "python",
   "name": "python2"
  },
  "language_info": {
   "codemirror_mode": {
    "name": "ipython",
    "version": 2
   },
   "file_extension": ".py",
   "mimetype": "text/x-python",
   "name": "python",
   "nbconvert_exporter": "python",
   "pygments_lexer": "ipython2",
   "version": "2.7.9"
  }
 },
 "nbformat": 4,
 "nbformat_minor": 0
}

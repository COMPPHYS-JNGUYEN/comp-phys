{
 "cells": [
  {
   "cell_type": "code",
   "execution_count": 8,
   "metadata": {
    "collapsed": false
   },
   "outputs": [
    {
     "data": {
      "image/png": "[encoded data removed]",
      "text/plain": [
       "<matplotlib.figure.Figure at 0x111bd5910>"
      ]
     },
     "metadata": {},
     "output_type": "display_data"
    },
    {
     "data": {
      "image/png": "[encoded data removed]",
      "text/latex": [
       "$$\\left ( 0.00223214285714, \\quad 0.00215398621182265\\right )$$"
      ],
      "text/plain": [
       "(0.00223214285714, 0.00215398621182265)"
      ]
     },
     "execution_count": 8,
     "metadata": {},
     "output_type": "execute_result"
    }
   ],
   "source": [
    "## Golden Child\n",
    "\n",
    "%matplotlib inline\n",
    "import numpy as np\n",
    "import matplotlib.pyplot as plt\n",
    "\n",
    "from pdb import set_trace\n",
    "\n",
    "from __future__ import print_function\n",
    "from __future__ import division\n",
    "from sympy import *\n",
    "from sympy.utilities.lambdify import lambdify\n",
    "from sympy.abc import x\n",
    "from sympy import init_printing\n",
    "init_printing()\n",
    "\n",
    "\n",
    "def Complex_Fourier(func, N, interval=(-1, 1)):\n",
    "    x = symbols('x', real=True)\n",
    "    n = symbols('n', integer=True)\n",
    "    L = interval[1]-interval[0]\n",
    "    basis = sqrt(1/L)*exp((I)*(2*n*pi*x/L))\n",
    "    Cn = integrate(func*conjugate(basis), (x, -L/2, L/2))\n",
    "    fs = summation(Cn*basis, (n, -N, N))\n",
    "    return Cn, fs\n",
    "\n",
    "def Parseval_Theorem(func, N, Cn, interval=(-1, 1)):\n",
    "    x = symbols('x', real=True)\n",
    "    n = symbols('n', integer=True)\n",
    "    L = interval[1]-interval[0]\n",
    "    par_left = (1/L)*integrate(func**2, (x, -L/2, L/2))\n",
    "    par_right = summation(simplify(Cn*conjugate(Cn)), (n, -N, N))\n",
    "    return float(par_left), par_right.evalf(), (par_left/par_right).evalf().simplify()\n",
    "\n",
    "N = 40\n",
    "interval = (-1/2, 1/2)\n",
    "x = symbols('x', real=True)\n",
    "x_vals = np.linspace(interval[0], interval[1], 100)\n",
    "\n",
    "# func = x**2\n",
    "# func = exp(x)\n",
    "func = x**3\n",
    "func_lam = lambdify(x, func, 'numpy')\n",
    "func_vals = func_lam(x_vals)\n",
    "\n",
    "Cn, fs = Complex_Fourier(func, N, interval=interval)\n",
    "fs_lam = lambdify(x, fs, 'numpy')\n",
    "fs_vals = fs_lam(x_vals)\n",
    "\n",
    "par_left, par_right, par_ratio = Parseval_Theorem(func, N, Cn, interval=interval)\n",
    "\n",
    "\n",
    "plt.plot(x_vals, func_vals, 'r')\n",
    "plt.plot(x_vals, fs_vals, 'g')\n",
    "plt.show()\n",
    "\n",
    "par_left, par_right"
   ]
  },
  {
   "cell_type": "code",
   "execution_count": null,
   "metadata": {
    "collapsed": true
   },
   "outputs": [],
   "source": []
  }
 ],
 "metadata": {
  "kernelspec": {
   "display_name": "Python 2",
   "language": "python",
   "name": "python2"
  },
  "language_info": {
   "codemirror_mode": {
    "name": "ipython",
    "version": 2
   },
   "file_extension": ".py",
   "mimetype": "text/x-python",
   "name": "python",
   "nbconvert_exporter": "python",
   "pygments_lexer": "ipython2",
   "version": "2.7.9"
  }
 },
 "nbformat": 4,
 "nbformat_minor": 0
}

{
 "cells": [
  {
   "cell_type": "code",
   "execution_count": 1,
   "metadata": {
    "collapsed": true
   },
   "outputs": [],
   "source": [
    "import matplotlib.pyplot as plt\n",
    "import numpy as np\n",
    "from numpy import sqrt\n",
    "from scipy.optimize import curve_fit\n",
    "from scipy.stats import multivariate_normal\n",
    "from scipy.constants import pi"
   ]
  },
  {
   "cell_type": "code",
   "execution_count": 2,
   "metadata": {
    "collapsed": false
   },
   "outputs": [
    {
     "data": {
      "image/png": "[encoded data removed]",
      "text/plain": [
       "<matplotlib.figure.Figure at 0xa588438>"
      ]
     },
     "metadata": {},
     "output_type": "display_data"
    }
   ],
   "source": [
    "%matplotlib inline\n",
    "\n",
    "####################################################################################################\n",
    "\n",
    "def g(x, k, phi):                  #Signal\n",
    "    return (np.sin(k*x + phi))\n",
    "\n",
    "####################################################################################################\n",
    "\n",
    "x = np.linspace(0, 2*pi, 101)\n",
    "k = 2.     #Fitting parameter\n",
    "phi = pi/6.     #Fitting Paramter\n",
    "err_floor = 0.1\n",
    "meas_err = np.cos(x)*0.2\n",
    "var = err_floor**2 + meas_err**2\n",
    "unc = sqrt(var)\n",
    "y = 5*g(x, k, phi) + np.random.randn(x.shape[0])*unc     #Signal with noise added with a 5:1 Signal-to-Noise ratio\n",
    "\n",
    "# print(meas_err, err_floor, var, unc)\n",
    "\n",
    "coeffs, cov = curve_fit(g, x, y, p0 = [k, phi])\n",
    "k_best = coeffs[0]\n",
    "phi_best = coeffs[1]\n",
    "\n",
    "plt.figure()\n",
    "plt.plot(x, y)\n",
    "plt.show()\n",
    "\n",
    "####################################################################################################\n",
    "\n"
   ]
  },
  {
   "cell_type": "code",
   "execution_count": 10,
   "metadata": {
    "collapsed": false,
    "scrolled": true
   },
   "outputs": [
    {
     "name": "stdout",
     "output_type": "stream",
     "text": [
      "Best-fit polynomial coefficients: [3.030 -0.826 30.026 -56.833 38.008 -12.153 2.014 -0.166 0.005]\n",
      "The covariance matrix: \n",
      " [[0.039 -0.243 0.493 -0.467 0.240 -0.071 0.012 -0.001 0.000]\n",
      " [-0.243 2.285 -5.401 5.565 -3.013 0.922 -0.161 0.015 -0.001]\n",
      " [0.493 -5.401 13.767 -14.854 8.299 -2.599 0.460 -0.043 0.002]\n",
      " [-0.467 5.565 -14.854 16.528 -9.441 3.006 -0.539 0.051 -0.002]\n",
      " [0.240 -3.013 8.299 -9.441 5.483 -1.769 0.321 -0.031 0.001]\n",
      " [-0.071 0.922 -2.599 3.006 -1.769 0.577 -0.105 0.010 -0.000]\n",
      " [0.012 -0.161 0.460 -0.539 0.321 -0.105 0.019 -0.002 0.000]\n",
      " [-0.001 0.015 -0.043 0.051 -0.031 0.010 -0.002 0.000 -0.000]\n",
      " [0.000 -0.001 0.002 -0.002 0.001 -0.000 0.000 -0.000 0.000]]\n",
      "(16.527770332611805, -14.854290439206713)\n"
     ]
    }
   ],
   "source": [
    "%matplotlib inline\n",
    "\n",
    "# def y_poly(x, *args):\n",
    "#     y_model = ''\n",
    "#     i = 0\n",
    "#     for arg in args:\n",
    "#         y_model.append(str(arg*x**i))\n",
    "#         i += 1\n",
    "#     return eval(y_model)\n",
    "def y_poly(x, c0, c1, c2, c3, c4, c5, c6, c7, c8):\n",
    "    y_model = c0 + c1*x + c2*x**2 + c3*x**3 + c4*x**4 + c5*x**5 + c6*x**6 + c7*x**7 + c8*x**8\n",
    "    return y_model\n",
    "\n",
    "# x1 = np.linspace(0, 2*pi, len(y))     #Should I be using a new x assuming I was given unknown data, or old x from above?\n",
    "coeffs1, cov1 = curve_fit(y_poly, x, y)\n",
    "best_fit = np.array([i for i in coeffs1])\n",
    "\n",
    "np.set_printoptions(formatter={'float': lambda x: \"{0:0.3f}\".format(x)})     #Formats print statement correctly using lambda function\n",
    "print(\"Best-fit polynomial coefficients: {}\".format(best_fit))\n",
    "print(\"The covariance matrix: \\n {}\".format(cov1))\n",
    "\n",
    "print(np.max(cov1), np.min(cov1))"
   ]
  },
  {
   "cell_type": "code",
   "execution_count": 1,
   "metadata": {
    "collapsed": false
   },
   "outputs": [
    {
     "ename": "SyntaxError",
     "evalue": "non-keyword arg after keyword arg (<ipython-input-1-14b5bd33bb16>, line 45)",
     "output_type": "error",
     "traceback": [
      "\u001b[0;36m  File \u001b[0;32m\"<ipython-input-1-14b5bd33bb16>\"\u001b[0;36m, line \u001b[0;32m45\u001b[0m\n\u001b[0;31m    plt.contour(CDF_cf.T, extent = extent, levels = contour_levels, linestyles=['--', '--', '--'], exten)\u001b[0m\n\u001b[0;31mSyntaxError\u001b[0m\u001b[0;31m:\u001b[0m non-keyword arg after keyword arg\n"
     ]
    }
   ],
   "source": [
    "from scipy.optimize import curve_fit\n",
    "\n",
    "def g(x, k, phi):\n",
    "    return np.sin(k*x + phi)\n",
    "\n",
    "coeffs, cov = curve_fit(g, x, y, p0 = [2, pi/6])\n",
    "\n",
    "# coeffs gives the best-fit m and b.\n",
    "k_best = coeffs[0]\n",
    "phi_best = coeffs[1]\n",
    "print('Best-fit k and phi, respectively: {:.3f} {:.3f}'.format(k_best, phi_best))\n",
    "\n",
    "# The diagonal elements of the covariance matrix are the variances of the two fitting parameters.\n",
    "k_sig = np.sqrt(cov[0, 0])\n",
    "phi_sig = np.sqrt(cov[1, 1])\n",
    "print('1 sigma error on best-fit k and phi, respectively: {:.3f} {:.3f}'.format(k_sig,phi_sig))\n",
    "\n",
    "print('The coeffs array:\\n', coeffs)\n",
    "print('And the covariance matrix:\\n', cov)\n",
    "plt.errorbar(x, y, yerr = err, fmt = 'x')\n",
    "plt.plot(x, g(x, k_best, phi_best ))\n",
    "plt.plot(x, y, '.')\n",
    "\n",
    "\n",
    "import matplotlib.pyplot as plt\n",
    "\n",
    "from scipy.stats import multivariate_normal\n",
    "\n",
    "k_start, k_end = k_best-5*k_sig, k_best+5*k_sig\n",
    "phi_start, phi_end = phi_best-5*phi_sig, phi_best+5*phi_sig\n",
    "xx, yy = np.mgrid[k_start:k_end:0.001, phi_start:phi_end:0.001]\n",
    "print(xx.min(),xx.max(), yy.min(), yy.max())\n",
    "# Create a grid of 2d coordinates \n",
    "xy = np.dstack((xx, yy))\n",
    "\n",
    "# create a 2d Gaussian according to the best-fit (m, b) and the covariance matrix.\n",
    "gauss2d = multivariate_normal(coeffs, cov)\n",
    "# find probability\n",
    "P = gauss2d.pdf(xy)\n",
    "# calculate CDF\n",
    "CDF_cf = compute_cdf(P)\n",
    "extent = [k_start, k_end, phi_start, phi_end ]\n",
    "# plotting\n",
    "plt.figure()\n",
    "plt.contour(CDF_cf.T, extent = extent, levels = contour_levels, linestyles=['--', '--', '--'], exten)\n",
    "plt.scatter(coeffs[0], coeffs[1], marker = 'x', facecolor = 'r', s = 100)\n",
    "plt.show()"
   ]
  },
  {
   "cell_type": "code",
   "execution_count": null,
   "metadata": {
    "collapsed": true
   },
   "outputs": [],
   "source": []
  }
 ],
 "metadata": {
  "kernelspec": {
   "display_name": "Python 2",
   "language": "python",
   "name": "python2"
  },
  "language_info": {
   "codemirror_mode": {
    "name": "ipython",
    "version": 2
   },
   "file_extension": ".py",
   "mimetype": "text/x-python",
   "name": "python",
   "nbconvert_exporter": "python",
   "pygments_lexer": "ipython2",
   "version": "2.7.6"
  }
 },
 "nbformat": 4,
 "nbformat_minor": 0
}

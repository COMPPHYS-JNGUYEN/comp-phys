{
 "cells": [
  {
   "cell_type": "code",
   "execution_count": 1,
   "metadata": {
    "collapsed": true
   },
   "outputs": [],
   "source": [
    "import matplotlib.pyplot as plt\n",
    "import numpy as np\n",
    "from scipy.optimize import curve_fit\n",
    "from scipy.stats import multivariate_normal\n",
    "\n",
    "def g(x, k, phi):\n",
    "    return 5*(np.sin(k*x + phi))\n",
    "\n"
   ]
  },
  {
   "cell_type": "code",
   "execution_count": null,
   "metadata": {
    "collapsed": true
   },
   "outputs": [],
   "source": [
    "from scipy.optimize import curve_fit\n",
    "\n",
    "def g(x, k, phi):\n",
    "    return np.sin(k*x + phi)\n",
    "\n",
    "coeffs, cov = curve_fit(g, x, y, p0 = [2, pi/6])\n",
    "\n",
    "# coeffs gives the best-fit m and b.\n",
    "k_best = coeffs[0]\n",
    "phi_best = coeffs[1]\n",
    "print('Best-fit k and phi, respectively: {:.3f} {:.3f}'.format(k_best, phi_best))\n",
    "\n",
    "# The diagonal elements of the covariance matrix are the variances of the two fitting parameters.\n",
    "k_sig = np.sqrt(cov[0, 0])\n",
    "phi_sig = np.sqrt(cov[1, 1])\n",
    "print('1 sigma error on best-fit k and phi, respectively: {:.3f} {:.3f}'.format(k_sig,phi_sig))\n",
    "\n",
    "print('The coeffs array:\\n', coeffs)\n",
    "print('And the covariance matrix:\\n', cov)\n",
    "plt.errorbar(x, y, yerr = err, fmt = 'x')\n",
    "plt.plot(x, g(x, k_best, phi_best ))\n",
    "plt.plot(x, y, '.')\n",
    "\n",
    "\n",
    "import matplotlib.pyplot as plt\n",
    "\n",
    "from scipy.stats import multivariate_normal\n",
    "\n",
    "k_start, k_end = k_best-5*k_sig, k_best+5*k_sig\n",
    "phi_start, phi_end = phi_best-5*phi_sig, phi_best+5*phi_sig\n",
    "xx, yy = np.mgrid[k_start:k_end:0.001, phi_start:phi_end:0.001]\n",
    "print(xx.min(),xx.max(), yy.min(), yy.max())\n",
    "# Create a grid of 2d coordinates \n",
    "xy = np.dstack((xx, yy))\n",
    "\n",
    "# create a 2d Gaussian according to the best-fit (m, b) and the covariance matrix.\n",
    "gauss2d = multivariate_normal(coeffs, cov)\n",
    "# find probability\n",
    "P = gauss2d.pdf(xy)\n",
    "# calculate CDF\n",
    "CDF_cf = compute_cdf(P)\n",
    "extent = [k_start, k_end, phi_start, phi_end ]\n",
    "# plotting\n",
    "plt.figure()\n",
    "plt.contour(CDF_cf.T, extent = extent, levels = contour_levels, linestyles=['--', '--', '--'], exten)\n",
    "plt.scatter(coeffs[0], coeffs[1], marker = 'x', facecolor = 'r', s = 100)\n",
    "plt.show()"
   ]
  }
 ],
 "metadata": {
  "kernelspec": {
   "display_name": "Python 2",
   "language": "python",
   "name": "python2"
  },
  "language_info": {
   "codemirror_mode": {
    "name": "ipython",
    "version": 2
   },
   "file_extension": ".py",
   "mimetype": "text/x-python",
   "name": "python",
   "nbconvert_exporter": "python",
   "pygments_lexer": "ipython2",
   "version": "2.7.9"
  }
 },
 "nbformat": 4,
 "nbformat_minor": 0
}

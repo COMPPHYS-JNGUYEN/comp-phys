{
 "cells": [
  {
   "cell_type": "code",
   "execution_count": 2,
   "metadata": {
    "collapsed": true
   },
   "outputs": [],
   "source": [
    "import matplotlib.pyplot as plt\n",
    "import numpy as np\n",
    "from numpy import sqrt\n",
    "from scipy.optimize import curve_fit\n",
    "from scipy.stats import multivariate_normal\n",
    "from scipy.constants import pi"
   ]
  },
  {
   "cell_type": "code",
   "execution_count": 21,
   "metadata": {
    "collapsed": false
   },
   "outputs": [
    {
     "data": {
      "image/png": "[encoded data removed]",
      "text/plain": [
       "<matplotlib.figure.Figure at 0x10eaae2d0>"
      ]
     },
     "metadata": {},
     "output_type": "display_data"
    }
   ],
   "source": [
    "%matplotlib inline\n",
    "\n",
    "####################################################################################################\n",
    "\n",
    "def g(x, k, phi):                  #Signal\n",
    "    return (np.sin(k*x + phi))\n",
    "\n",
    "####################################################################################################\n",
    "\n",
    "x = np.linspace(0, 2*pi, 101)\n",
    "k = 2.     #Fitting parameter\n",
    "phi = pi/6.     #Fitting Paramter\n",
    "err_floor = 0.1\n",
    "meas_err = np.cos(x)*0.2\n",
    "var = err_floor**2 + meas_err**2\n",
    "unc = sqrt(var)\n",
    "y = 5*g(x, k, phi) + np.random.randn(x.shape[0])*unc     #Signal with noise added with a 5:1 Signal-to-Noise ratio\n",
    "\n",
    "# print(meas_err, err_floor, var, unc)\n",
    "\n",
    "coeffs, cov = curve_fit(g, x, y, p0 = [k, phi])\n",
    "k_best = coeffs[0]\n",
    "phi_best = coeffs[1]\n",
    "\n",
    "plt.figure()\n",
    "plt.plot(x, y)\n",
    "plt.show()\n",
    "\n",
    "####################################################################################################\n",
    "\n"
   ]
  },
  {
   "cell_type": "code",
   "execution_count": 41,
   "metadata": {
    "collapsed": false,
    "scrolled": true
   },
   "outputs": [
    {
     "name": "stdout",
     "output_type": "stream",
     "text": [
      "Best-fit polynomial coefficients: [2.966 -0.186 27.548 -53.297 35.636 -11.312 1.851 -0.150 0.005]\n",
      "The covariance matrix: \n",
      " [[0.032 -0.198 0.401 -0.380 0.195 -0.058 0.010 -0.001 0.000]\n",
      " [-0.198 1.860 -4.394 4.526 -2.450 0.750 -0.130 0.012 -0.000]\n",
      " [0.401 -4.394 11.200 -12.083 6.750 -2.114 0.374 -0.035 0.001]\n",
      " [-0.380 4.526 -12.083 13.446 -7.680 2.446 -0.439 0.041 -0.002]\n",
      " [0.195 -2.450 6.750 -7.680 4.461 -1.439 0.261 -0.025 0.001]\n",
      " [-0.058 0.750 -2.114 2.446 -1.439 0.469 -0.086 0.008 -0.000]\n",
      " [0.010 -0.130 0.374 -0.439 0.261 -0.086 0.016 -0.002 0.000]\n",
      " [-0.001 0.012 -0.035 0.041 -0.025 0.008 -0.002 0.000 -0.000]\n",
      " [0.000 -0.000 0.001 -0.002 0.001 -0.000 0.000 -0.000 0.000]]\n",
      "chi2, chi2_nu, DOF are 212.968, 2.315, 92, respectively.\n"
     ]
    }
   ],
   "source": [
    "%matplotlib inline\n",
    "\n",
    "# def y_poly(x, *args):\n",
    "#     y_model = ''\n",
    "#     i = 0\n",
    "#     for arg in args:\n",
    "#         y_model.append(str(arg*x**i))\n",
    "#         i += 1\n",
    "#     return eval(y_model)\n",
    "def y_poly(x, c0, c1, c2, c3, c4, c5, c6, c7, c8):\n",
    "    y_model = c0 + c1*x + c2*x**2 + c3*x**3 + c4*x**4 + c5*x**5 + c6*x**6 + c7*x**7 + c8*x**8\n",
    "    return y_model\n",
    "\n",
    "coeffs1, cov1 = curve_fit(y_poly, x, y)\n",
    "best_fit = np.array([i for i in coeffs1])\n",
    "\n",
    "DOF = len(y) - len(coeffs1)\n",
    "chi2 = (((y - y_poly(x, *best_fit))/unc)**2).sum()\n",
    "chi2_nu = chi2/DOF\n",
    "\n",
    "unc_c0 = cov1[0,0]**.5\n",
    "unc_c1 = cov1[1,1]**.5\n",
    "\n",
    "np.set_printoptions(formatter={'float': lambda x: \"{0:0.3f}\".format(x)})     #Formats print statement correctly using lambda function\n",
    "print(\"Best-fit polynomial coefficients: {}\".format(best_fit))\n",
    "print(\"The covariance matrix: \\n {}\".format(cov1))\n",
    "\n",
    "print(\"chi2, chi2_nu, DOF are {:.3f}, {:.3f}, {:2d}, respectively.\".format(chi2, chi2_nu, DOF))"
   ]
  },
  {
   "cell_type": "code",
   "execution_count": 1,
   "metadata": {
    "collapsed": false
   },
   "outputs": [
    {
     "ename": "SyntaxError",
     "evalue": "non-keyword arg after keyword arg (<ipython-input-1-14b5bd33bb16>, line 45)",
     "output_type": "error",
     "traceback": [
      "\u001b[0;36m  File \u001b[0;32m\"<ipython-input-1-14b5bd33bb16>\"\u001b[0;36m, line \u001b[0;32m45\u001b[0m\n\u001b[0;31m    plt.contour(CDF_cf.T, extent = extent, levels = contour_levels, linestyles=['--', '--', '--'], exten)\u001b[0m\n\u001b[0;31mSyntaxError\u001b[0m\u001b[0;31m:\u001b[0m non-keyword arg after keyword arg\n"
     ]
    }
   ],
   "source": [
    "from scipy.optimize import curve_fit\n",
    "\n",
    "def g(x, k, phi):\n",
    "    return np.sin(k*x + phi)\n",
    "\n",
    "coeffs, cov = curve_fit(g, x, y, p0 = [2, pi/6])\n",
    "\n",
    "# coeffs gives the best-fit m and b.\n",
    "k_best = coeffs[0]\n",
    "phi_best = coeffs[1]\n",
    "print('Best-fit k and phi, respectively: {:.3f} {:.3f}'.format(k_best, phi_best))\n",
    "\n",
    "# The diagonal elements of the covariance matrix are the variances of the two fitting parameters.\n",
    "k_sig = np.sqrt(cov[0, 0])\n",
    "phi_sig = np.sqrt(cov[1, 1])\n",
    "print('1 sigma error on best-fit k and phi, respectively: {:.3f} {:.3f}'.format(k_sig,phi_sig))\n",
    "\n",
    "print('The coeffs array:\\n', coeffs)\n",
    "print('And the covariance matrix:\\n', cov)\n",
    "plt.errorbar(x, y, yerr = err, fmt = 'x')\n",
    "plt.plot(x, g(x, k_best, phi_best ))\n",
    "plt.plot(x, y, '.')\n",
    "\n",
    "\n",
    "import matplotlib.pyplot as plt\n",
    "\n",
    "from scipy.stats import multivariate_normal\n",
    "\n",
    "k_start, k_end = k_best-5*k_sig, k_best+5*k_sig\n",
    "phi_start, phi_end = phi_best-5*phi_sig, phi_best+5*phi_sig\n",
    "xx, yy = np.mgrid[k_start:k_end:0.001, phi_start:phi_end:0.001]\n",
    "print(xx.min(),xx.max(), yy.min(), yy.max())\n",
    "# Create a grid of 2d coordinates \n",
    "xy = np.dstack((xx, yy))\n",
    "\n",
    "# create a 2d Gaussian according to the best-fit (m, b) and the covariance matrix.\n",
    "gauss2d = multivariate_normal(coeffs, cov)\n",
    "# find probability\n",
    "P = gauss2d.pdf(xy)\n",
    "# calculate CDF\n",
    "CDF_cf = compute_cdf(P)\n",
    "extent = [k_start, k_end, phi_start, phi_end ]\n",
    "# plotting\n",
    "plt.figure()\n",
    "plt.contour(CDF_cf.T, extent = extent, levels = contour_levels, linestyles=['--', '--', '--'], exten)\n",
    "plt.scatter(coeffs[0], coeffs[1], marker = 'x', facecolor = 'r', s = 100)\n",
    "plt.show()"
   ]
  },
  {
   "cell_type": "code",
   "execution_count": null,
   "metadata": {
    "collapsed": true
   },
   "outputs": [],
   "source": []
  }
 ],
 "metadata": {
  "kernelspec": {
   "display_name": "Python 2",
   "language": "python",
   "name": "python2"
  },
  "language_info": {
   "codemirror_mode": {
    "name": "ipython",
    "version": 2
   },
   "file_extension": ".py",
   "mimetype": "text/x-python",
   "name": "python",
   "nbconvert_exporter": "python",
   "pygments_lexer": "ipython2",
   "version": "2.7.9"
  }
 },
 "nbformat": 4,
 "nbformat_minor": 0
}

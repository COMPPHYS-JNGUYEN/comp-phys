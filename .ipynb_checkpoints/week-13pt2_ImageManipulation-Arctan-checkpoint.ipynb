{
 "cells": [
  {
   "cell_type": "markdown",
   "metadata": {},
   "source": [
    "# _Note: This is essentially the same as PhysPy-wk13_2015, but with more explanatory cells added_"
   ]
  },
  {
   "cell_type": "markdown",
   "metadata": {},
   "source": [
    "# Topics\n",
    "\n",
    "\n",
    "## 1. Image Manipulation -- back to some unresolved issues \n",
    "###     i)   arctan2 vs. arctan\n",
    "###     ii)  Explain numpy.column_stack()\n",
    "###     iii)  What xy is in the function for warp()\n"
   ]
  },
  {
   "cell_type": "markdown",
   "metadata": {},
   "source": [
    "## i) np.arctan() vs np.arctan2()"
   ]
  },
  {
   "cell_type": "code",
   "execution_count": 2,
   "metadata": {
    "collapsed": false
   },
   "outputs": [
    {
     "name": "stdout",
     "output_type": "stream",
     "text": [
      "[ 45. -45.  45. -45.]\n"
     ]
    }
   ],
   "source": [
    "'''np.arctan(y/x) only gives angles beween -90 and +90.\n",
    "\n",
    "depending on the sign of (y/x).  If (y/x) < 0, it doesn't make the distinction  \n",
    "\n",
    "between whether x < 0 or y < 0.  Put it another way, it doesn't know \n",
    "\n",
    "about 2nd and 3rd quandrants.\n",
    "'''\n",
    "\n",
    "import numpy as np\n",
    "\n",
    "x = np.array([-1, +1, +1, -1])\n",
    "y = np.array([-1, -1, +1, +1])\n",
    "ang = np.arctan(y/x) * 180. / np.pi\n",
    "print ang"
   ]
  },
  {
   "cell_type": "code",
   "execution_count": 3,
   "metadata": {
    "collapsed": false
   },
   "outputs": [
    {
     "name": "stdout",
     "output_type": "stream",
     "text": [
      "[-135.  -45.   45.  135.]\n"
     ]
    }
   ],
   "source": [
    "'''\n",
    "np.arctan2(y, x) is much more intelligent...\n",
    "\n",
    "But note the syntactical difference between np.arctan and np.arctan2.\n",
    "\n",
    "I would recommend to exclusively use np.arctan2() to avoid possible \n",
    "mis-identification of quadrants.\n",
    "\n",
    "'''\n",
    "\n",
    "import numpy as np\n",
    "\n",
    "x = np.array([-1, +1, +1, -1])\n",
    "y = np.array([-1, -1, +1, +1])\n",
    "ang2 = np.arctan2(y, x) * 180 / np.pi\n",
    "print ang2"
   ]
  },
  {
   "cell_type": "markdown",
   "metadata": {},
   "source": [
    "## ii) Difference between np.concatenate(), np.column_stack(), np.row_stack()"
   ]
  },
  {
   "cell_type": "code",
   "execution_count": 4,
   "metadata": {
    "collapsed": false
   },
   "outputs": [
    {
     "name": "stdout",
     "output_type": "stream",
     "text": [
      "a: [0 1 2 3 4 5 6 7 8 9]\n",
      "b: [ 0  2  4  6  8 10 12 14 16 18]\n",
      "concat shape (20,)\n",
      "concat: [ 0  1  2  3  4  5  6  7  8  9  0  2  4  6  8 10 12 14 16 18]\n",
      "col_stack shape: (10, 2)\n",
      "col_stack:\n",
      "[[ 0  0]\n",
      " [ 1  2]\n",
      " [ 2  4]\n",
      " [ 3  6]\n",
      " [ 4  8]\n",
      " [ 5 10]\n",
      " [ 6 12]\n",
      " [ 7 14]\n",
      " [ 8 16]\n",
      " [ 9 18]]\n"
     ]
    }
   ],
   "source": [
    "a = np.arange(10)\n",
    "b = np.arange(10)*2\n",
    "print 'a:', a\n",
    "print 'b:', b\n",
    "\n",
    "# note the argument should be a tuple\n",
    "concat = np.concatenate( (a, b) )\n",
    "print 'concat shape', concat.shape\n",
    "print 'concat:', concat\n",
    "\n",
    "# the argument also should be a tuple\n",
    "col_stak = np.column_stack( (a, b) )\n",
    "print 'col_stack shape:', col_stak.shape\n",
    "print 'col_stack:\\n', col_stak\n"
   ]
  },
  {
   "cell_type": "markdown",
   "metadata": {},
   "source": [
    "## Tiny Breakout: Is there a np.row_stack?  \n",
    "\n",
    "## And if so, what's the relationship between the results of column_stack() and row_stack() performed on the same two arrays?\n",
    "\n",
    "\n",
    "## Try it out!"
   ]
  },
  {
   "cell_type": "code",
   "execution_count": 5,
   "metadata": {
    "collapsed": false
   },
   "outputs": [
    {
     "name": "stdout",
     "output_type": "stream",
     "text": [
      "row_stack shape: (2, 10)\n",
      "row_stak:\n",
      "[[ 0  1  2  3  4  5  6  7  8  9]\n",
      " [ 0  2  4  6  8 10 12 14 16 18]]\n",
      "column_stack and row_stack are transposes of each other: True\n"
     ]
    }
   ],
   "source": [
    "'''Breakout Solution'''\n",
    "# the argument also should be a tuple\n",
    "row_stak = np.row_stack( (a, b) )\n",
    "print 'row_stack shape:', row_stak.shape\n",
    "print 'row_stak:\\n', row_stak\n",
    "\n",
    "#print \"column_stack and row_stack are transposes of each other:\", (row_stak == col_stak.T)\n",
    "# A better way: use the .all() method -- it evaluates to false if any of the elements is false\n",
    "print \"column_stack and row_stack are transposes of each other:\", (row_stak == col_stak.T).all()"
   ]
  },
  {
   "cell_type": "code",
   "execution_count": 6,
   "metadata": {
    "collapsed": false
   },
   "outputs": [
    {
     "name": "stdout",
     "output_type": "stream",
     "text": [
      "[ True False]\n",
      "False\n"
     ]
    }
   ],
   "source": [
    "# Try out .all()\n",
    "a = np.array([0, 0])\n",
    "b = np.array([0, 1])\n",
    "print a == b\n",
    "print (a == b).all()"
   ]
  },
  {
   "cell_type": "markdown",
   "metadata": {},
   "source": [
    "##     iii)  What xy is in the function for warp()\n",
    "\n",
    "\n",
    "\n",
    "## In the cell below xy contains all possible pairs of coordinates (x, y).  \n",
    "## So for a 64x64 image, xy is\n",
    "    \n",
    "###    (0, 0)\n",
    "###    (0, 1)\n",
    "###    (0, 2)\n",
    "###    .\n",
    "###    .\n",
    "###    .\n",
    "###    (0, 63)\n",
    "\n",
    "###    Then \n",
    "###    (1, 0)\n",
    "###    (1, 1)\n",
    "###    (1, 2)\n",
    "###    .\n",
    "###    .\n",
    "###    .\n",
    "###    (1, 63)\n",
    "\n",
    "###    And finally \n",
    "###    (63, 0)\n",
    "###    (63, 1)\n",
    "###    (63, 2)\n",
    "###    .\n",
    "###    .\n",
    "###    .\n",
    "###    (63, 63)\n",
    "    \n",
    "## Thus xy is a 64^2 x 2, or 4096x2 array.\n"
   ]
  },
  {
   "cell_type": "markdown",
   "metadata": {},
   "source": [
    "## Mini-breakout: Given two arrays\n",
    "\n",
    "a = np.arange(5)\n",
    "\n",
    "b = np.arange(5)\n",
    "\n",
    "## Build an array that is 25x2 and contains all possible combinations of the elements in a and b.\n"
   ]
  },
  {
   "cell_type": "code",
   "execution_count": 7,
   "metadata": {
    "collapsed": false
   },
   "outputs": [
    {
     "name": "stdout",
     "output_type": "stream",
     "text": [
      "[[ 0.  0.]\n",
      " [ 0.  1.]\n",
      " [ 0.  2.]\n",
      " [ 0.  3.]\n",
      " [ 0.  4.]\n",
      " [ 1.  0.]\n",
      " [ 1.  1.]\n",
      " [ 1.  2.]\n",
      " [ 1.  3.]\n",
      " [ 1.  4.]\n",
      " [ 2.  0.]\n",
      " [ 2.  1.]\n",
      " [ 2.  2.]\n",
      " [ 2.  3.]\n",
      " [ 2.  4.]\n",
      " [ 3.  0.]\n",
      " [ 3.  1.]\n",
      " [ 3.  2.]\n",
      " [ 3.  3.]\n",
      " [ 3.  4.]\n",
      " [ 4.  0.]\n",
      " [ 4.  1.]\n",
      " [ 4.  2.]\n",
      " [ 4.  3.]\n",
      " [ 4.  4.]]\n",
      "(25, 2) <type 'numpy.ndarray'> float64\n"
     ]
    }
   ],
   "source": [
    "a = np.arange(5)\n",
    "b = np.arange(5)\n",
    "ab = np.zeros((25,2))\n",
    "n = 0\n",
    "for i in a:\n",
    "    for j in b:\n",
    "        ab[n] = (i, j)\n",
    "        n += 1\n",
    "\n",
    "print ab\n",
    "print ab.shape, type(ab), ab.dtype"
   ]
  },
  {
   "cell_type": "markdown",
   "metadata": {},
   "source": [
    "## Breakout 1: Understanding what numpy.meshgrid() does.\n",
    "\n",
    "## Given\n",
    "\n",
    "x = np.arange(10)\n",
    "\n",
    "y = np.arange(10)\n",
    "\n",
    "\n",
    "## Use meshgrid() to create X and Y, and then take the transpose of each.  Now X and Y are 2D coordinates in the form of a 2D array (or a 10x10 grid).\n",
    "\n",
    "## Print out the element of X and Y at the following indices: first index is i = 2 and second index is j = 7.  What do you expect?"
   ]
  },
  {
   "cell_type": "code",
   "execution_count": 32,
   "metadata": {
    "collapsed": false
   },
   "outputs": [
    {
     "name": "stdout",
     "output_type": "stream",
     "text": [
      "[[0 1 2 3 4 5 6 7 8 9]\n",
      " [0 1 2 3 4 5 6 7 8 9]\n",
      " [0 1 2 3 4 5 6 7 8 9]\n",
      " [0 1 2 3 4 5 6 7 8 9]\n",
      " [0 1 2 3 4 5 6 7 8 9]\n",
      " [0 1 2 3 4 5 6 7 8 9]\n",
      " [0 1 2 3 4 5 6 7 8 9]\n",
      " [0 1 2 3 4 5 6 7 8 9]\n",
      " [0 1 2 3 4 5 6 7 8 9]\n",
      " [0 1 2 3 4 5 6 7 8 9]] [[0 0 0 0 0 0 0 0 0 0]\n",
      " [1 1 1 1 1 1 1 1 1 1]\n",
      " [2 2 2 2 2 2 2 2 2 2]\n",
      " [3 3 3 3 3 3 3 3 3 3]\n",
      " [4 4 4 4 4 4 4 4 4 4]\n",
      " [5 5 5 5 5 5 5 5 5 5]\n",
      " [6 6 6 6 6 6 6 6 6 6]\n",
      " [7 7 7 7 7 7 7 7 7 7]\n",
      " [8 8 8 8 8 8 8 8 8 8]\n",
      " [9 9 9 9 9 9 9 9 9 9]]\n",
      "2 7\n"
     ]
    }
   ],
   "source": [
    "x = np.arange(10)\n",
    "y = np.arange(10)\n",
    "\n",
    "X, Y = np.meshgrid(x, y)\n",
    "print X, Y\n",
    "X = X.T\n",
    "Y = Y.T\n",
    "print X[2, 7], Y[2, 7]"
   ]
  },
  {
   "cell_type": "markdown",
   "metadata": {},
   "source": [
    "## Mini Breakout:\n",
    "## Build the functionality of meshgrid() out of column_stack() and row_stack(): That is, given \n",
    "\n",
    "x = np.arange(10)\n",
    "\n",
    "y = np.arange(10)\n",
    "\n",
    "## build X and Y as in above."
   ]
  },
  {
   "cell_type": "code",
   "execution_count": 40,
   "metadata": {
    "collapsed": false
   },
   "outputs": [
    {
     "name": "stdout",
     "output_type": "stream",
     "text": [
      "[[0 1 2 3 4 5 6 7 8 9]\n",
      " [0 1 2 3 4 5 6 7 8 9]\n",
      " [0 1 2 3 4 5 6 7 8 9]\n",
      " [0 1 2 3 4 5 6 7 8 9]\n",
      " [0 1 2 3 4 5 6 7 8 9]\n",
      " [0 1 2 3 4 5 6 7 8 9]\n",
      " [0 1 2 3 4 5 6 7 8 9]\n",
      " [0 1 2 3 4 5 6 7 8 9]\n",
      " [0 1 2 3 4 5 6 7 8 9]\n",
      " [0 1 2 3 4 5 6 7 8 9]] \n",
      "[[0 0 0 0 0 0 0 0 0 0]\n",
      " [1 1 1 1 1 1 1 1 1 1]\n",
      " [2 2 2 2 2 2 2 2 2 2]\n",
      " [3 3 3 3 3 3 3 3 3 3]\n",
      " [4 4 4 4 4 4 4 4 4 4]\n",
      " [5 5 5 5 5 5 5 5 5 5]\n",
      " [6 6 6 6 6 6 6 6 6 6]\n",
      " [7 7 7 7 7 7 7 7 7 7]\n",
      " [8 8 8 8 8 8 8 8 8 8]\n",
      " [9 9 9 9 9 9 9 9 9 9]] \n",
      "(10, 10) (10, 10)\n"
     ]
    }
   ],
   "source": [
    "x = np.arange(10)\n",
    "y = np.arange(10)\n",
    "\n",
    "X, Y = x, y\n",
    "for i in range(len(x) - 1):\n",
    "    X = np.row_stack((X,x))\n",
    "    Y = np.column_stack((Y, y))\n",
    "    \n",
    "print X, '\\n', Y, '\\n', X.shape, Y.shape"
   ]
  },
  {
   "cell_type": "markdown",
   "metadata": {},
   "source": [
    "## Summary: We have talked about \n",
    "\n",
    "## - numpy.concatenate()\n",
    "\n",
    "## - numpy.column\\_stack()\n",
    "\n",
    "## - numpy.row\\_stack()\n",
    "\n",
    "## - how to make a N^2 x 2 array that contains all possible coordinate pairs in a NxN space.\n",
    "\n",
    "## - numpy.meshgrid()\n",
    "\n",
    "## ...and the relationships among them."
   ]
  },
  {
   "cell_type": "markdown",
   "metadata": {},
   "source": [
    "## Now, let's at the fisheye example again.\n",
    "\n",
    "## First let's make a smaller image."
   ]
  },
  {
   "cell_type": "code",
   "execution_count": 48,
   "metadata": {
    "collapsed": false
   },
   "outputs": [
    {
     "name": "stdout",
     "output_type": "stream",
     "text": [
      "[256, 256]\n"
     ]
    },
    {
     "data": {
      "image/png": "[encoded data removed]",
      "text/plain": [
       "<matplotlib.figure.Figure at 0x10eb4dfd0>"
      ]
     },
     "metadata": {},
     "output_type": "display_data"
    }
   ],
   "source": [
    "%matplotlib inline\n",
    "\n",
    "'''\n",
    "Cut out the central part of the lena image\n",
    "'''\n",
    "\n",
    "import matplotlib.pyplot as plt\n",
    "import matplotlib.image as mpimg\n",
    "import numpy as np\n",
    "\n",
    "from skimage import transform, data, io\n",
    "\n",
    "\n",
    "\n",
    "lena = mpimg.imread('lena512.jpg')\n",
    "ctr = [lena.shape[0]/2, lena.shape[1]/2] \n",
    "\n",
    "\n",
    "# following block: select the central 64x64 pixels\n",
    "pix_num = 32\n",
    "print ctr\n",
    "lena_eye = lena[ctr[0] - pix_num : ctr[0] + pix_num, ctr[1] - pix_num : ctr[1] + pix_num]\n",
    "plt.figure()\n",
    "plt.imshow(lena_eye, cmap = plt.cm.gray)\n",
    "plt.show()\n"
   ]
  },
  {
   "cell_type": "code",
   "execution_count": 47,
   "metadata": {
    "collapsed": false
   },
   "outputs": [
    {
     "data": {
      "image/png": "[encoded data removed]",
      "text/plain": [
       "<matplotlib.figure.Figure at 0x10eafbe90>"
      ]
     },
     "metadata": {},
     "output_type": "display_data"
    }
   ],
   "source": [
    "'''\n",
    "\n",
    "Note: I have added two keyword arguments to fisheye(): a and b\n",
    "\n",
    "'''\n",
    "def fisheye(xy, a = 2.1, b = 1.8):\n",
    "    \n",
    "    '''\n",
    "    xy are the coordinates distilled from the image.  \n",
    "    \n",
    "    If the image is n x n, then xy is n^2 x 2.\n",
    "    \n",
    "    Reference:\n",
    "    \n",
    "    http://scikit-image.org/docs/dev/api/skimage.transform.html\n",
    "    \n",
    "    Source code:\n",
    "    \n",
    "    https://github.com/scikit-image/scikit-image/blob/master/skimage/transform/_geometric.py#L1171\n",
    "    \n",
    "    '''\n",
    "    \n",
    "    # The of meaning of mean: If the xy is (4096, 2) then take average along the direction \n",
    "    # of 4096.\n",
    "    # Thus center is a 2-element array -- not the most efficient way: \n",
    "    # one only needs to go through 64 elements to find the average of x or y.\n",
    "    # But it works.\n",
    "    center = np.mean(xy, axis=0)\n",
    "    xc, yc = (xy - center).T\n",
    "\n",
    "    # advantage of ipdb over pdb: remembers history.\n",
    "    #import ipdb; ipdb.set_trace()\n",
    "    # In ipdb, do\n",
    "    # p xy.shape\n",
    "    # p xy\n",
    "    # p center\n",
    "    # p xc.shape\n",
    "    # p xc\n",
    "\n",
    "    # Polar coordinates\n",
    "    r = np.sqrt(xc**2 + yc**2)\n",
    "    theta = np.arctan2(yc, xc)\n",
    "\n",
    "    r = 0.8 * np.exp(r**(1/a) / b)\n",
    "\n",
    "    # returns an array with the same dimension as the input xy: 4096x2.\n",
    "    # which then gets associated with the image array.\n",
    "    return np.column_stack((r * np.cos(theta), r * np.sin(theta))) + center\n",
    "\n",
    "# Note how the arguments to fisheye() were specified.\n",
    "# out = transform.warp(lena_eye, inverse_map = fisheye, map_args = {'a': 2.1, 'b': 1.8})\n",
    "# Now try this \n",
    "out = transform.warp(lena_eye, inverse_map = fisheye, map_args = {'a': 2., 'b': 1.5})\n",
    "\n",
    "# The statement, f, (ax, ax1) = ... creates a figure and two subplots, \n",
    "# or in matplotlib parlance, \"axes\".\n",
    "# xticks = [] makes the xticks go away.\n",
    "f, (ax0, ax1) = plt.subplots(1, 2, subplot_kw=dict(xticks=[], yticks=[]))\n",
    "ax0.imshow(lena_eye, cmap = plt.cm.Greys_r)\n",
    "ax1.imshow(out, cmap = plt.cm.Greys_r)\n",
    "\n",
    "plt.show()"
   ]
  },
  {
   "cell_type": "markdown",
   "metadata": {},
   "source": [
    "## Breakout 3\n",
    "\n",
    "## Write a function that rotates an image by a given angle, theta: \n",
    "\n",
    "## rotate(xy, theta = np.pi/2, blowup = 1.)\n",
    "\n",
    "\n",
    "### Using\n",
    "\n",
    "##  x_rot = x\\*cos(theta) - y\\*sin(theta)\n",
    "##  y_rot = y\\*cos(theta) + x\\*sin(theta)\n",
    "\n",
    "## Remember just as in fisheye(), x and y are measured from the center of the image.\n",
    "\n",
    "## Two keyword arguments:\n",
    "\n",
    "## - theta\n",
    "## - blowup: can be used to enlarge or shrink the image\n",
    "\n"
   ]
  },
  {
   "cell_type": "code",
   "execution_count": 100,
   "metadata": {
    "collapsed": false
   },
   "outputs": [],
   "source": [
    "def rotate(xy, theta=np.pi/2, blowup=1.):\n",
    "    center = np.mean(xy, axis=0)\n",
    "    xc, yc = ((xy - center).T)/blowup\n",
    "    \n",
    "    x_rot = xc*np.cos(theta) - yc*np.sin(theta)\n",
    "    y_rot = yc*np.cos(theta) + xc*np.sin(theta)\n",
    "    \n",
    "    return np.column_stack((x_rot, y_rot)) + center\n",
    "\n",
    "out = transform.warp(lena_eye, rotate, map_args = {'theta': np.pi/4, 'blowup': .5})\n",
    "# f, (ax0, ax1) = plt.subplots(1, 2, subplot_kw=dict(xticks=[], yticks=[]))\n",
    "# ax0.imshow(lena_eye, cmap = plt.cm.Greys_r)\n",
    "# ax1.imshow(out, cmap = plt.cm.Greys_r)\n",
    "\n",
    "# plt.show()"
   ]
  },
  {
   "cell_type": "code",
   "execution_count": 69,
   "metadata": {
    "collapsed": false
   },
   "outputs": [
    {
     "data": {
      "text/plain": [
       "<matplotlib.figure.Figure at 0x10ed8ddd0>"
      ]
     },
     "metadata": {},
     "output_type": "display_data"
    }
   ],
   "source": [
    "'''\n",
    "plt.clf() clears the plot\n",
    "\n",
    "'''\n",
    "\n",
    "import matplotlib.pyplot as plt\n",
    "plt.figure()\n",
    "plt.plot(np.arange(10))\n",
    "## gets rid of the figure created by plt.plot\n",
    "plt.clf()"
   ]
  },
  {
   "cell_type": "code",
   "execution_count": 72,
   "metadata": {
    "collapsed": false
   },
   "outputs": [
    {
     "data": {
      "text/plain": [
       "<matplotlib.figure.Figure at 0x10ed27b50>"
      ]
     },
     "metadata": {},
     "output_type": "display_data"
    }
   ],
   "source": [
    "%matplotlib inline\n",
    "'''\n",
    "\n",
    "Unfortunately, plt.plot() appears only after the end of the cell...\n",
    "which means you can't dynamically change your plot.\n",
    "\n",
    "'''\n",
    "import matplotlib.pyplot as plt\n",
    "from IPython import display\n",
    "import time\n",
    "for i in range(4):\n",
    "    plt.plot(np.random.randn(100))\n",
    "\n",
    "    time.sleep(1)\n",
    "    plt.clf()\n",
    "\n",
    "    "
   ]
  },
  {
   "cell_type": "code",
   "execution_count": 74,
   "metadata": {
    "collapsed": false
   },
   "outputs": [],
   "source": [
    "'''\n",
    "\n",
    "Introducing IPython.display module:\n",
    "\n",
    "The display() function is a general purpose tool for displaying different representations of objects. \n",
    "Think of it as print for these rich representations.\n",
    "\n",
    "display.clear_output() clears a figure made by display().\n",
    "\n",
    "'''\n",
    "import IPython.display as display\n",
    "from IPython.display import Image\n",
    "mickey = Image(filename = 'whatsthis.png')\n",
    "display.display(mickey)\n",
    "display.clear_output()"
   ]
  },
  {
   "cell_type": "code",
   "execution_count": 86,
   "metadata": {
    "collapsed": false
   },
   "outputs": [
    {
     "data": {
      "image/png": "[encoded data removed]",
      "text/plain": [
       "<matplotlib.figure.Figure at 0x10ef7f7d0>"
      ]
     },
     "metadata": {},
     "output_type": "display_data"
    },
    {
     "data": {
      "text/plain": [
       "<matplotlib.figure.Figure at 0x10ef7f7d0>"
      ]
     },
     "metadata": {},
     "output_type": "display_data"
    }
   ],
   "source": [
    "'''\n",
    "\n",
    "In this cell, plt.plot() is used to make the figure, and display.display() is\n",
    "used to show the figure at the time we want.\n",
    "\n",
    "'''\n",
    "\n",
    "import matplotlib.pyplot as plt\n",
    "from IPython import display\n",
    "import time\n",
    "\n",
    "#makes figure1\n",
    "plt.plot(np.random.randn(100))\n",
    "\n",
    "#makes figure1 again\n",
    "fig = plt.gcf()\n",
    "display.display(fig)\n",
    "\n",
    "# gets rid of the figure1 created by plt.plot\n",
    "# but the figure1 created by display is still there.\n",
    "plt.clf()\n",
    "\n",
    "# makes figure2    \n",
    "plt.plot(np.arange(100), 'g-')\n",
    "\n",
    "# # gets rid of the figure1 created by display\n",
    "# # wait = True means don't get rid of the old figure unless there is a new figure\n",
    "display.clear_output(wait=True)\n",
    "\n",
    "# #makes figure2 again\n",
    "fig = plt.gcf()\n",
    "display.display(fig)\n",
    "\n",
    "# #gets rid of figure2 created by plt.plot\n",
    "plt.clf()\n"
   ]
  },
  {
   "cell_type": "code",
   "execution_count": 94,
   "metadata": {
    "collapsed": false
   },
   "outputs": [
    {
     "data": {
      "image/png": "[encoded data removed]",
      "text/plain": [
       "<matplotlib.figure.Figure at 0x10efe8290>"
      ]
     },
     "metadata": {},
     "output_type": "display_data"
    },
    {
     "data": {
      "text/plain": [
       "<matplotlib.figure.Figure at 0x10efe8290>"
      ]
     },
     "metadata": {},
     "output_type": "display_data"
    }
   ],
   "source": [
    "%matplotlib inline\n",
    "'''\n",
    "\n",
    "Put everything in a for loop...\n",
    "\n",
    "'''\n",
    "import matplotlib.pyplot as plt\n",
    "from IPython import display\n",
    "import time\n",
    "for i in range(4):\n",
    "    plt.plot(np.random.randn(100))\n",
    "    display.clear_output(wait=True)    \n",
    "    fig = plt.gcf()\n",
    "    \n",
    "    display.display(fig)\n",
    "    # note: the last figure created by display hasn't been removed\n",
    "    # the last figure created by plt.plot is removed by plt.clf()\n",
    "    plt.clf()\n",
    "\n"
   ]
  },
  {
   "cell_type": "code",
   "execution_count": 102,
   "metadata": {
    "collapsed": false
   },
   "outputs": [
    {
     "data": {
      "image/png": "[encoded data removed]",
      "text/plain": [
       "<matplotlib.figure.Figure at 0x10e3b2e10>"
      ]
     },
     "metadata": {},
     "output_type": "display_data"
    },
    {
     "data": {
      "text/plain": [
       "<matplotlib.figure.Figure at 0x10e3b2e10>"
      ]
     },
     "metadata": {},
     "output_type": "display_data"
    }
   ],
   "source": [
    "%matplotlib inline\n",
    "'''\n",
    "Making it look nicer\n",
    "\n",
    "'''\n",
    "import matplotlib.pyplot as plt\n",
    "from IPython import display\n",
    "import time\n",
    "for i in range(10):\n",
    "    plt.plot(np.random.randn(100))\n",
    "    plt.ylim([-3, 3])\n",
    "    ax = plt.gca()   \n",
    "    ax.axes.get_xaxis().set_ticks([])\n",
    "    ax.axes.get_yaxis().set_ticks([])\n",
    "    # clear_output() removes the figure altogether -- \n",
    "    # try running with this line blocked.\n",
    "    # wait = True: keep the figure until the next figure shows up.\n",
    "    display.clear_output(wait=True)\n",
    "        \n",
    "    fig = plt.gcf()\n",
    "    display.display(fig)\n",
    "    plt.clf()\n",
    "    \n"
   ]
  },
  {
   "cell_type": "markdown",
   "metadata": {},
   "source": [
    "## Breakout 4\n",
    "\n",
    "## Write a function, rot_movie(im, nframes = 24)\n",
    "\n",
    "## that can take an image to do this:\n",
    "\n",
    "## - First just do the rotation part.\n",
    "\n",
    "## - Then add the size change part.\n"
   ]
  },
  {
   "cell_type": "markdown",
   "metadata": {
    "collapsed": true
   },
   "source": [
    "## There is a better way to do a movie \n",
    "## -- we will talk about that in Computational Physics II\n",
    "### (One hint: you make the images and then save them first, and THEN make a movie out of them.)"
   ]
  },
  {
   "cell_type": "code",
   "execution_count": null,
   "metadata": {
    "collapsed": false
   },
   "outputs": [
    {
     "data": {
      "image/png": "[encoded data removed]",
      "text/plain": [
       "<matplotlib.figure.Figure at 0x10e3ffa10>"
      ]
     },
     "metadata": {},
     "output_type": "display_data"
    }
   ],
   "source": [
    "import matplotlib.pyplot as plt\n",
    "from IPython import display\n",
    "import time\n",
    "\n",
    "def rotate(xy, theta=np.pi/2, blowup=1.):\n",
    "    center = np.mean(xy, axis=0)\n",
    "    xc, yc = ((xy - center).T)/blowup\n",
    "    \n",
    "    x_rot = xc*np.cos(theta) - yc*np.sin(theta)\n",
    "    y_rot = yc*np.cos(theta) + xc*np.sin(theta)\n",
    "    \n",
    "    return np.column_stack((x_rot, y_rot)) + center\n",
    "\n",
    "def rot_movie(im, nframes=24):\n",
    "    for i in range(nframes):\n",
    "        im = transform.warp(im, rotate, map_args = {'theta': np.pi/nframes, 'blowup':1.})\n",
    "        \n",
    "        plt.imshow(im, cmap=plt.cm.Greys_r)\n",
    "        display.clear_output(wait=True)\n",
    "        fig = plt.gcf()\n",
    "        \n",
    "        display.display(fig)\n",
    "        \n",
    "        plt.clf()\n",
    "        \n",
    "rot_movie(lena_eye)"
   ]
  },
  {
   "cell_type": "markdown",
   "metadata": {},
   "source": [
    "## End of Week 13, Lecture 2"
   ]
  }
 ],
 "metadata": {
  "kernelspec": {
   "display_name": "Python 2",
   "language": "python",
   "name": "python2"
  },
  "language_info": {
   "codemirror_mode": {
    "name": "ipython",
    "version": 2
   },
   "file_extension": ".py",
   "mimetype": "text/x-python",
   "name": "python",
   "nbconvert_exporter": "python",
   "pygments_lexer": "ipython2",
   "version": "2.7.9"
  }
 },
 "nbformat": 4,
 "nbformat_minor": 0
}

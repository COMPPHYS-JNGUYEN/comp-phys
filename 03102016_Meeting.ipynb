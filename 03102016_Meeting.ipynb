{
 "cells": [
  {
   "cell_type": "code",
   "execution_count": 16,
   "metadata": {
    "collapsed": false
   },
   "outputs": [
    {
     "name": "stdout",
     "output_type": "stream",
     "text": [
      "[[-2. -1.  0.  1.  2.]\n",
      " [-2. -1.  0.  1.  2.]\n",
      " [-2. -1.  0.  1.  2.]\n",
      " [-2. -1.  0.  1.  2.]\n",
      " [-2. -1.  0.  1.  2.]]\n",
      "[[-2. -2. -2. -2. -2.]\n",
      " [-1. -1. -1. -1. -1.]\n",
      " [ 0.  0.  0.  0.  0.]\n",
      " [ 1.  1.  1.  1.  1.]\n",
      " [ 2.  2.  2.  2.  2.]]\n"
     ]
    }
   ],
   "source": [
    "%matplotlib inline\n",
    "\n",
    "# from scipy.signal import gaussian\n",
    "import numpy as np\n",
    "import matplotlib.pyplot as plt\n",
    "\n",
    "def sin_exp(x):\n",
    "    return np.sin(x)*np.exp(x)\n",
    "\n",
    "def gaussian(x, x0, A, sig):\n",
    "    return A*np.exp(-(x-x0)**2/(2.*sig**2))\n",
    "\n",
    "x = np.linspace(-2, 2, 5)\n",
    "y = np.linspace(-2, 2, 5)\n",
    "# y = np.exp(x)\n",
    "# y1 = sin_exp(x)\n",
    "# y2 = gaussian(x, 0, 2, 1)\n",
    "xx, yy = np.meshgrid(x, y)\n",
    "print(xx)\n",
    "print(yy)\n",
    "\n",
    "\n",
    "# plt.plot(x, y)\n",
    "# plt.plot(x, y1)\n",
    "# plt.plot(x, y2)\n",
    "plt.show()"
   ]
  },
  {
   "cell_type": "code",
   "execution_count": null,
   "metadata": {
    "collapsed": true
   },
   "outputs": [],
   "source": []
  }
 ],
 "metadata": {
  "kernelspec": {
   "display_name": "Python 2",
   "language": "python",
   "name": "python2"
  },
  "language_info": {
   "codemirror_mode": {
    "name": "ipython",
    "version": 2
   },
   "file_extension": ".py",
   "mimetype": "text/x-python",
   "name": "python",
   "nbconvert_exporter": "python",
   "pygments_lexer": "ipython2",
   "version": "2.7.10"
  }
 },
 "nbformat": 4,
 "nbformat_minor": 0
}

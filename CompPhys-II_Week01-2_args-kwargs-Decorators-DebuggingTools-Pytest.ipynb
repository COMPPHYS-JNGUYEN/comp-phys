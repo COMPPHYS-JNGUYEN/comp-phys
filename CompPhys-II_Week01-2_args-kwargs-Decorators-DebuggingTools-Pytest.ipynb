{
 "cells": [
  {
   "cell_type": "markdown",
   "metadata": {
    "collapsed": true
   },
   "source": [
    "# imports\n",
    "from __future__ import print_function"
   ]
  },
  {
   "cell_type": "markdown",
   "metadata": {},
   "source": [
    "#Week 1\n",
    "\n",
    "## Lecture 2: Decorators in Python (continued), Debugging Tools, Pytest\n",
    "## Breakouts: Adding a Timer to a Function Using a Decorator, Using ipdb.set_trace()\n",
    "## Lab: Pytest example; for new students: Brief introduction to Python scientific computation suite, gedit, basic command line commands."
   ]
  },
  {
   "cell_type": "markdown",
   "metadata": {},
   "source": [
    "## I. \\*args and \\*\\*kwargs."
   ]
  },
  {
   "cell_type": "code",
   "execution_count": 1,
   "metadata": {
    "collapsed": false
   },
   "outputs": [
    {
     "name": "stdout",
     "output_type": "stream",
     "text": [
      "Arguments received in new_fun: (4, 2)\n",
      "sum = 6\n",
      "Arguments received in new_fun: (4, 2, 5, 6, 2, 5)\n",
      "sum = 24\n"
     ]
    }
   ],
   "source": [
    "# First *args...\n",
    "# *args allows you to use an arbitrary number of positional arguments when calling a function\n",
    "def new_fun(*args):\n",
    "    if len(args) > 0:\n",
    "        print('Arguments received in new_fun: {}'.format(args))\n",
    "        sum = 0\n",
    "        for i in range(len(args)):\n",
    "            sum += args[i] \n",
    "        return sum\n",
    "    else:\n",
    "        raise Exception('No numbers to sum.')\n",
    "\n",
    "print('sum = {}'.format(new_fun(4, 2)))\n",
    "print('sum = {}'.format(new_fun(4, 2, 5, 6, 2, 5))) \n",
    "# print('sum = {}'.format(new_fun()))\n"
   ]
  },
  {
   "cell_type": "code",
   "execution_count": 2,
   "metadata": {
    "collapsed": false
   },
   "outputs": [
    {
     "name": "stdout",
     "output_type": "stream",
     "text": [
      "key and value of kwargs: name, David\n",
      "key and value of kwargs: weight, 200\n",
      "Adding another kwarg:\n",
      "key and value of kwargs: name, David\n",
      "key and value of kwargs: weight, 200\n",
      "key and value of kwargs: home_town, San Francisco\n"
     ]
    }
   ],
   "source": [
    "# Next **kwargs...\n",
    "# **kwargs allows you to use an arbitrary number of keyword arguments when calling a function\n",
    "def new_fun2(**kwargs):\n",
    "    if len(kwargs)>0:\n",
    "        for key, value in kwargs.iteritems():\n",
    "            print('key and value of kwargs: {}, {}'.format(key, value))\n",
    "        return \n",
    "\n",
    "new_fun2(name = 'David', weight = 200)\n",
    "print('Adding another kwarg:')\n",
    "new_fun2(name = 'David', weight = 200, home_town = 'San Francisco')\n",
    "\n",
    "# Note: the keyword arguments are treated by python as a dictionary."
   ]
  },
  {
   "cell_type": "markdown",
   "metadata": {},
   "source": [
    "## Why is this useful?\n",
    "## Sometimes you don't know how many arguments an inner function takes.  Using \\*args and \\*\\*kwargs gives you that flexibility...As you will see shortly.\n",
    "    "
   ]
  },
  {
   "cell_type": "markdown",
   "metadata": {},
   "source": [
    "## II. Decorators"
   ]
  },
  {
   "cell_type": "markdown",
   "metadata": {},
   "source": [
    "## Consider the following problem:"
   ]
  },
  {
   "cell_type": "code",
   "execution_count": 3,
   "metadata": {
    "collapsed": false
   },
   "outputs": [
    {
     "name": "stdout",
     "output_type": "stream",
     "text": [
      "hello world\n"
     ]
    }
   ],
   "source": [
    "# first define a simple function\n",
    "def hello_func():\n",
    "    return \"hello world\"\n",
    "print(hello_func())"
   ]
  },
  {
   "cell_type": "code",
   "execution_count": 4,
   "metadata": {
    "collapsed": false
   },
   "outputs": [],
   "source": [
    "# now consider this\n",
    "def outer(fun):\n",
    "    def inner():\n",
    "        return fun\n",
    "    return inner\n",
    "    \n",
    "foo = outer(hello_func)"
   ]
  },
  {
   "cell_type": "code",
   "execution_count": 7,
   "metadata": {
    "collapsed": false
   },
   "outputs": [
    {
     "name": "stdout",
     "output_type": "stream",
     "text": [
      "hello world\n",
      "<function hello_func at 0x102e46b90>\n"
     ]
    }
   ],
   "source": [
    "print(foo()())"
   ]
  },
  {
   "cell_type": "markdown",
   "metadata": {},
   "source": [
    "## Question: Using foo, how would you get the python shell to print \"hello world\"?"
   ]
  },
  {
   "cell_type": "code",
   "execution_count": 8,
   "metadata": {
    "collapsed": false
   },
   "outputs": [
    {
     "name": "stdout",
     "output_type": "stream",
     "text": [
      "hello San Francisco\n",
      "hello Oakland\n",
      "hello World\n"
     ]
    }
   ],
   "source": [
    "'''\n",
    "    Making hello_func a little more useful:\n",
    "'''\n",
    "def outer(func):\n",
    "    def inner(city_name):\n",
    "        return func(city_name)\n",
    "    return inner\n",
    "\n",
    "def hello_func(strg):\n",
    "    print('hello ' + strg)\n",
    "\n",
    "    \n",
    "foo = outer(hello_func)\n",
    "foo('San Francisco')\n",
    "foo('Oakland')\n",
    "foo('World')\n",
    "# To the object hello_func, which is the result of another function passing through the function count only once\n",
    "#  Thus to this oject inner.counter will always be 0\n"
   ]
  },
  {
   "cell_type": "code",
   "execution_count": 9,
   "metadata": {
    "collapsed": false
   },
   "outputs": [
    {
     "name": "stdout",
     "output_type": "stream",
     "text": [
      "hello San Francisco\n",
      "hello Oakland\n",
      "hello World\n"
     ]
    }
   ],
   "source": [
    "'''\n",
    "    Making things a little more abstract by using *args.\n",
    "    At this point, there is no advantage gained, just another way of doing things.\n",
    "    I also called foo to hello_fun.\n",
    "\n",
    "'''\n",
    "def outer(func):\n",
    "    def inner(*args):\n",
    "        return func(*args)\n",
    "    return inner\n",
    "\n",
    "def hello_func(strg):\n",
    "    print('hello ' + strg)\n",
    "\n",
    "    \n",
    "hello_fun = outer(hello_func)\n",
    "hello_fun('San Francisco')\n",
    "hello_fun('Oakland')\n",
    "hello_fun('World')\n"
   ]
  },
  {
   "cell_type": "code",
   "execution_count": 11,
   "metadata": {
    "collapsed": false
   },
   "outputs": [
    {
     "name": "stdout",
     "output_type": "stream",
     "text": [
      "hello San Francisco\n",
      "hello Oakland\n",
      "hello World\n"
     ]
    },
    {
     "data": {
      "text/plain": [
       "3"
      ]
     },
     "execution_count": 11,
     "metadata": {},
     "output_type": "execute_result"
    }
   ],
   "source": [
    "'''\n",
    "    Let's add an attribute: count.\n",
    "    I have changed the name outer to count.\n",
    "'''\n",
    "def count(func):\n",
    "    def inner(*args):\n",
    "        inner.counter += 1\n",
    "        return func(*args)\n",
    "\n",
    "    # w/o this, you can't do inner.counter += 1 in inner.\n",
    "    inner.counter = 0\n",
    "    \n",
    "    return inner\n",
    "\n",
    "def hello_func(strg):\n",
    "    print('hello ' + strg)\n",
    "    \n",
    "# inner.counter = 0 is executed here, by the call to count().\n",
    "hello_fun = count(hello_func)\n",
    "    \n",
    "# once the object hello_fun is created, and since it's the same as inner, \n",
    "# every time it's called count increases by 1.  \n",
    "hello_fun('San Francisco')\n",
    "hello_fun('Oakland')\n",
    "hello_fun('World')\n",
    "hello_fun.counter"
   ]
  },
  {
   "cell_type": "code",
   "execution_count": null,
   "metadata": {
    "collapsed": false
   },
   "outputs": [],
   "source": [
    "# try a couple more times.\n",
    "hello_fun('Orlando')\n",
    "hello_fun('Atlanta')\n",
    "hello_fun.counter"
   ]
  },
  {
   "cell_type": "code",
   "execution_count": 12,
   "metadata": {
    "collapsed": false
   },
   "outputs": [
    {
     "name": "stdout",
     "output_type": "stream",
     "text": [
      "hello San Francisco\n",
      "hello Oakland\n",
      "hello World\n"
     ]
    },
    {
     "data": {
      "text/plain": [
       "3"
      ]
     },
     "execution_count": 12,
     "metadata": {},
     "output_type": "execute_result"
    }
   ],
   "source": [
    "'''\n",
    "    Would it really bother you if I changed hello_fun to hello_func?\n",
    "    Hint: It shouldn't!!\n",
    "'''\n",
    "def count(func):\n",
    "    def inner(*args):\n",
    "        inner.counter += 1\n",
    "        return func(*args)\n",
    "\n",
    "    # w/o this, you can't do inner.counter += 1 in inner.\n",
    "    inner.counter = 0\n",
    "    \n",
    "    return inner\n",
    "\n",
    "def hello_func(strg):\n",
    "    print('hello ' + strg)\n",
    "    \n",
    "hello_func = count(hello_func)\n",
    "    \n",
    "hello_func('San Francisco')\n",
    "hello_func('Oakland')\n",
    "hello_func('World')\n",
    "hello_func.counter"
   ]
  },
  {
   "cell_type": "markdown",
   "metadata": {},
   "source": [
    "## What's really nice about this syntactic gymnastics is that\n",
    "## - hello_func can do exactly what it used to do before it's passed through the function count.\n",
    "## - But now it's been given an additional attribute, counter, which allows the number of function calls to be recorded!\n",
    "## - In case you think this is easy, it's not!  I saw a Python guru got it (subtly) wrong."
   ]
  },
  {
   "cell_type": "markdown",
   "metadata": {},
   "source": [
    "## The Decorator as \"Syntactic Suger\""
   ]
  },
  {
   "cell_type": "code",
   "execution_count": 13,
   "metadata": {
    "collapsed": false
   },
   "outputs": [
    {
     "name": "stdout",
     "output_type": "stream",
     "text": [
      "hello San Francisco\n",
      "hello Oakland\n",
      "hello World\n",
      "hello Brazil\n"
     ]
    },
    {
     "data": {
      "text/plain": [
       "4"
      ]
     },
     "execution_count": 13,
     "metadata": {},
     "output_type": "execute_result"
    }
   ],
   "source": [
    "@count\n",
    "def hello_func(strg):\n",
    "    print('hello ' + strg)\n",
    "    \n",
    "hello_func('San Francisco')\n",
    "hello_func('Oakland')\n",
    "hello_func('World')\n",
    "hello_func('Brazil')\n",
    "hello_func.counter"
   ]
  },
  {
   "cell_type": "markdown",
   "metadata": {},
   "source": [
    "## Why we bothered to use \\*args"
   ]
  },
  {
   "cell_type": "code",
   "execution_count": 14,
   "metadata": {
    "collapsed": false
   },
   "outputs": [
    {
     "name": "stdout",
     "output_type": "stream",
     "text": [
      "Arguments received in new_fun: (4, 2)\n",
      "sum = 6\n",
      "Arguments received in new_fun: (4, 2, 5, 6, 2, 5)\n",
      "sum = 24\n",
      "2\n"
     ]
    }
   ],
   "source": [
    "@count\n",
    "def new_fun(*args):\n",
    "    if len(args) > 0:\n",
    "        print('Arguments received in new_fun: {}'.format(args))\n",
    "        sum = 0\n",
    "        for i in range(len(args)):\n",
    "            sum += args[i] \n",
    "        return sum\n",
    "    else:\n",
    "        raise Exception('No numbers to sum.')\n",
    "\n",
    "print('sum = {}'.format(new_fun(4, 2)))\n",
    "print('sum = {}'.format(new_fun(4, 2, 5, 6, 2, 5))) \n",
    "print(new_fun.counter)"
   ]
  },
  {
   "cell_type": "markdown",
   "metadata": {},
   "source": [
    "## Breakout Exercise:\n",
    "## 1. Write an \"outer function\" (sometimes called a wrapper) that times how long it takes to run a function.  It should add an attribute delta_time to the function that is passed to it.\n",
    "## 2. Pass a function you would like to be timed through this outer function, and show that by printing the attribute delta_time, you can print how much time it takes to run this function.\n",
    "## 3. Do the same with the decorator."
   ]
  },
  {
   "cell_type": "code",
   "execution_count": 16,
   "metadata": {
    "collapsed": false
   },
   "outputs": [
    {
     "name": "stdout",
     "output_type": "stream",
     "text": [
      "hello San Francisco\n",
      "hello Oakland\n",
      "hello World\n"
     ]
    },
    {
     "data": {
      "text/plain": [
       "2.288818359375e-05"
      ]
     },
     "execution_count": 16,
     "metadata": {},
     "output_type": "execute_result"
    }
   ],
   "source": [
    "from time import time\n",
    "def timing(func):\n",
    "    def inner(*args):\n",
    "        start = time()\n",
    "        stuff = func(*args)\n",
    "        inner.delta_time = time() - start\n",
    "        return stuff\n",
    "\n",
    "    # w/o this, you can't do inner.counter += 1 in inner.\n",
    "    \n",
    "    return inner\n",
    "\n"
   ]
  },
  {
   "cell_type": "code",
   "execution_count": 17,
   "metadata": {
    "collapsed": false
   },
   "outputs": [
    {
     "name": "stdout",
     "output_type": "stream",
     "text": [
      "hello San Francisco\n",
      "hello Oakland\n",
      "hello World\n"
     ]
    },
    {
     "data": {
      "text/plain": [
       "2.288818359375e-05"
      ]
     },
     "execution_count": 17,
     "metadata": {},
     "output_type": "execute_result"
    }
   ],
   "source": [
    "@timing\n",
    "def hello_func(strg):\n",
    "    print('hello ' + strg)\n",
    "    \n",
    "hello_func = timing(hello_func)\n",
    "    \n",
    "hello_func('San Francisco')\n",
    "hello_func('Oakland')\n",
    "hello_func('World')\n",
    "hello_func.delta_time"
   ]
  },
  {
   "cell_type": "markdown",
   "metadata": {},
   "source": [
    "## Decorators in Class -- an example: property"
   ]
  },
  {
   "cell_type": "markdown",
   "metadata": {},
   "source": [
    "## Breakout Exercise\n",
    "\n",
    "-  ## Write a class Bears that needs to be given the argument age at the time of instantiation\n",
    "-  ## This class should have one method: \n",
    "    -  ### current_age: increases the age by 1 each time it's invoked. \n",
    "-  ## Create an instance, yogi, of the class Bears with a reasonable age."
   ]
  },
  {
   "cell_type": "code",
   "execution_count": 34,
   "metadata": {
    "collapsed": false
   },
   "outputs": [
    {
     "name": "stdout",
     "output_type": "stream",
     "text": [
      "13\n",
      "14\n",
      "15\n"
     ]
    }
   ],
   "source": [
    "class Bears:\n",
    "    def __init__(self, age):\n",
    "        self.age = age\n",
    "        \n",
    "    def current_age(self):\n",
    "        self.age += 1\n",
    "        \n",
    "yogi = Bears(13)\n",
    "print(yogi.age)\n",
    "yogi.current_age()\n",
    "print(yogi.age)\n",
    "yogi.current_age()\n",
    "print(yogi.age)"
   ]
  },
  {
   "cell_type": "markdown",
   "metadata": {},
   "source": [
    "## Introduce a Python internal function: property;\n",
    "## just as print, range, len are internal functions"
   ]
  },
  {
   "cell_type": "code",
   "execution_count": null,
   "metadata": {
    "collapsed": false
   },
   "outputs": [],
   "source": [
    "print(yogi.current_age)"
   ]
  },
  {
   "cell_type": "code",
   "execution_count": null,
   "metadata": {
    "collapsed": false
   },
   "outputs": [],
   "source": [
    "print(yogi.current_age())"
   ]
  },
  {
   "cell_type": "code",
   "execution_count": 35,
   "metadata": {
    "collapsed": false
   },
   "outputs": [
    {
     "name": "stdout",
     "output_type": "stream",
     "text": [
      "0\n"
     ]
    }
   ],
   "source": [
    "class Bears:\n",
    "    def __init__(self, age):\n",
    "        self.age = age\n",
    "        \n",
    "    def current_age(self):\n",
    "        self.age += 1\n",
    "        return self.age\n",
    "    \n",
    "    # Turn current_age into a \"property\" (like an attribute)\n",
    "    current_age = property(current_age)\n",
    "        \n",
    "yogi = Bears(0)\n",
    "print(yogi.age)    "
   ]
  },
  {
   "cell_type": "code",
   "execution_count": 43,
   "metadata": {
    "collapsed": false
   },
   "outputs": [
    {
     "name": "stdout",
     "output_type": "stream",
     "text": [
      "8\n"
     ]
    }
   ],
   "source": [
    "print(yogi.current_age)"
   ]
  },
  {
   "cell_type": "code",
   "execution_count": null,
   "metadata": {
    "collapsed": false
   },
   "outputs": [],
   "source": [
    "# This is no longer OK.\n",
    "print(yogi.current_age())"
   ]
  },
  {
   "cell_type": "markdown",
   "metadata": {},
   "source": [
    "## A more succinct way, the decorator: @property"
   ]
  },
  {
   "cell_type": "code",
   "execution_count": 845,
   "metadata": {
    "collapsed": false
   },
   "outputs": [
    {
     "name": "stdout",
     "output_type": "stream",
     "text": [
      "0\n"
     ]
    }
   ],
   "source": [
    "class Bears:\n",
    "    def __init__(self, age):\n",
    "        self.age = age\n",
    "        \n",
    "    @property \n",
    "    def current_age(self):\n",
    "        self.age += 1\n",
    "        return self.age\n",
    "            \n",
    "yogi = Bears(0)\n",
    "print(yogi.age)    "
   ]
  },
  {
   "cell_type": "code",
   "execution_count": 945,
   "metadata": {
    "collapsed": false
   },
   "outputs": [
    {
     "name": "stdout",
     "output_type": "stream",
     "text": [
      "100\n"
     ]
    }
   ],
   "source": [
    "print(yogi.current_age)"
   ]
  },
  {
   "cell_type": "markdown",
   "metadata": {},
   "source": [
    "# 5 min break"
   ]
  },
  {
   "cell_type": "markdown",
   "metadata": {},
   "source": [
    "## III. Debugging Tools (pdb and ipdb)\n",
    "\n",
    "### - pdb: Python DeBugger\n",
    "### - ipdb: the IPython counterpart -- behaves just like pdb in the notebook environment, but much more interactive at the command line.  Reommended!!\n",
    "\n",
    "### (A friendly tutorial: https://pythonconquerstheuniverse.wordpress.com/2009/09/10/debugging-in-python/)"
   ]
  },
  {
   "cell_type": "markdown",
   "metadata": {},
   "source": [
    "## pdb or ipdb\n",
    "\n",
    "- ###   set_trace() -- place it where you would want the execution to stop.\n",
    "-  ###   When the program stops execution when it encounters, you will see the pdb prompt:\n",
    "\n",
    "    pdb>\n",
    "    \n",
    "   ###     or\n",
    "\n",
    "    ipdb>\n",
    "\n",
    "\n",
    "- ###   At the pdb or ipdb prompt, use the following commands to find the problem (the \"bug\")  \n",
    "   ###     1.    n -- next step.\n",
    "   ###     2.   Hitting the enter/return key -- repeats the last command at the pdb prompt.\n",
    "   ###     3.   p -- to print anything you want.\n",
    "   ###     4.   s -- to step into a subroutine (typically, a function or a class definition).\n",
    "   ###     5.   r -- if you are inside a long subroutine and you realize the problem is not in this subroutine and would like to get out immediately, use r, for return.\n",
    "   ###     6.   unt (until) -- if you are stuck in a for loop that repeats, say, 1000 times, you can step all the way to the last statement of the loop and then use \n",
    "\n",
    "    ipdb>unt\n",
    "    \n",
    "    ###     you will be taken out of the for-loop.  Because unt will take you to the next statement that has a *larger* line number.  \n",
    "\n",
    "    ###     To clarify: Unless you are at the last statement of a for/while loop, unt does exactly the same thing as n -- it takes you to the next statement.\n",
    "    \n",
    "   ###  7. If you lost track of where you are in the program, use l (list), the 10 lines around the one that python is about to execute will be shown.\n",
    "   \n",
    "   ###  8.  If you forgot \"how you got here\" (let's say you are in a 3-level deep function call), use w -- this shows which function is called by which function, and that function is in turn called by which function, etc. (or, \"stack trace\").\n",
    "   \n",
    "   ###  9. In the debugger, you can change the value of a variable.\n",
    "   \n",
    "   ###  10. If you believe you have corrected the problem (see 9. above) and would like to let the program run on its own course to the end, enter c, for continue:\n",
    "   \n",
    "    ipdb> c\n",
    "     \n",
    "   ###  11.  If you think you have found the problem and would like to quit the bebugger (in order to correct your program, and then re-run it), use q:\n",
    "   \n",
    "    ipdb> q\n",
    "    \n",
    "   ###  12. If you use pdb/ipdb in ipython notebook:\n",
    "     * ###    Use it inside a function, but not at the \"main\" level. \n",
    "     * ###    Always terminate the pdb/ipdb (by using c or q) first before you execute another cell.  Otherwise, the notebook may be stuck in an infinite loop.\n",
    "    \n",
    "    \n",
    "   ### In my experience, pdb/ipdb is much better than printing statements -- as it allows you to investigate multiple sources for the bug with one stop, and allows you to see clearly the logical flow of the program, and therefore makes it easier to find where the problem is. "
   ]
  },
  {
   "cell_type": "markdown",
   "metadata": {},
   "source": [
    "## A debugging example:"
   ]
  },
  {
   "cell_type": "code",
   "execution_count": null,
   "metadata": {
    "collapsed": false
   },
   "outputs": [
    {
     "name": "stdout",
     "output_type": "stream",
     "text": [
      "> \u001b[0;32m<ipython-input-4-2d2057b6f91d>\u001b[0m(14)\u001b[0;36msome_calc\u001b[0;34m()\u001b[0m\n",
      "\u001b[0;32m     13 \u001b[0;31m\u001b[0;34m\u001b[0m\u001b[0m\n",
      "\u001b[0m\u001b[0;32m---> 14 \u001b[0;31m    \u001b[0mN\u001b[0m \u001b[0;34m=\u001b[0m \u001b[0mlen\u001b[0m\u001b[0;34m(\u001b[0m\u001b[0mnums\u001b[0m\u001b[0;34m)\u001b[0m\u001b[0;34m\u001b[0m\u001b[0m\n",
      "\u001b[0m\u001b[0;32m     15 \u001b[0;31m\u001b[0;34m\u001b[0m\u001b[0m\n",
      "\u001b[0m\n",
      "ipdb> n\n",
      "> \u001b[0;32m<ipython-input-4-2d2057b6f91d>\u001b[0m(16)\u001b[0;36msome_calc\u001b[0;34m()\u001b[0m\n",
      "\u001b[0;32m     15 \u001b[0;31m\u001b[0;34m\u001b[0m\u001b[0m\n",
      "\u001b[0m\u001b[0;32m---> 16 \u001b[0;31m    \u001b[0mi\u001b[0m \u001b[0;34m=\u001b[0m \u001b[0;36m0\u001b[0m\u001b[0;34m\u001b[0m\u001b[0m\n",
      "\u001b[0m\u001b[0;32m     17 \u001b[0;31m    \u001b[0mtotal\u001b[0m \u001b[0;34m=\u001b[0m \u001b[0;36m0\u001b[0m\u001b[0;34m\u001b[0m\u001b[0m\n",
      "\u001b[0m\n",
      "ipdb> \n",
      "> \u001b[0;32m<ipython-input-4-2d2057b6f91d>\u001b[0m(17)\u001b[0;36msome_calc\u001b[0;34m()\u001b[0m\n",
      "\u001b[0;32m     16 \u001b[0;31m    \u001b[0mi\u001b[0m \u001b[0;34m=\u001b[0m \u001b[0;36m0\u001b[0m\u001b[0;34m\u001b[0m\u001b[0m\n",
      "\u001b[0m\u001b[0;32m---> 17 \u001b[0;31m    \u001b[0mtotal\u001b[0m \u001b[0;34m=\u001b[0m \u001b[0;36m0\u001b[0m\u001b[0;34m\u001b[0m\u001b[0m\n",
      "\u001b[0m\u001b[0;32m     18 \u001b[0;31m    \u001b[0mb\u001b[0m \u001b[0;34m=\u001b[0m \u001b[0msome_analysis\u001b[0m\u001b[0;34m(\u001b[0m\u001b[0mnums\u001b[0m\u001b[0;34m)\u001b[0m\u001b[0;34m\u001b[0m\u001b[0m\n",
      "\u001b[0m\n",
      "ipdb> \n",
      "> \u001b[0;32m<ipython-input-4-2d2057b6f91d>\u001b[0m(18)\u001b[0;36msome_calc\u001b[0;34m()\u001b[0m\n",
      "\u001b[0;32m     17 \u001b[0;31m    \u001b[0mtotal\u001b[0m \u001b[0;34m=\u001b[0m \u001b[0;36m0\u001b[0m\u001b[0;34m\u001b[0m\u001b[0m\n",
      "\u001b[0m\u001b[0;32m---> 18 \u001b[0;31m    \u001b[0mb\u001b[0m \u001b[0;34m=\u001b[0m \u001b[0msome_analysis\u001b[0m\u001b[0;34m(\u001b[0m\u001b[0mnums\u001b[0m\u001b[0;34m)\u001b[0m\u001b[0;34m\u001b[0m\u001b[0m\n",
      "\u001b[0m\u001b[0;32m     19 \u001b[0;31m    \u001b[0;32mwhile\u001b[0m \u001b[0mi\u001b[0m \u001b[0;34m<\u001b[0m \u001b[0mN\u001b[0m\u001b[0;34m:\u001b[0m\u001b[0;34m\u001b[0m\u001b[0m\n",
      "\u001b[0m\n",
      "ipdb> s\n",
      "--Call--\n",
      "> \u001b[0;32m<ipython-input-4-2d2057b6f91d>\u001b[0m(3)\u001b[0;36msome_analysis\u001b[0;34m()\u001b[0m\n",
      "\u001b[0;32m      2 \u001b[0;31m\u001b[0;34m\u001b[0m\u001b[0m\n",
      "\u001b[0m\u001b[0;32m----> 3 \u001b[0;31m\u001b[0;32mdef\u001b[0m \u001b[0msome_analysis\u001b[0m\u001b[0;34m(\u001b[0m\u001b[0mnums\u001b[0m\u001b[0;34m)\u001b[0m\u001b[0;34m:\u001b[0m\u001b[0;34m\u001b[0m\u001b[0m\n",
      "\u001b[0m\u001b[0;32m      4 \u001b[0;31m    \u001b[0mb\u001b[0m \u001b[0;34m=\u001b[0m \u001b[0;34m[\u001b[0m\u001b[0;34m]\u001b[0m\u001b[0;34m\u001b[0m\u001b[0m\n",
      "\u001b[0m\n",
      "ipdb> \n",
      "> \u001b[0;32m<ipython-input-4-2d2057b6f91d>\u001b[0m(4)\u001b[0;36msome_analysis\u001b[0;34m()\u001b[0m\n",
      "\u001b[0;32m      3 \u001b[0;31m\u001b[0;32mdef\u001b[0m \u001b[0msome_analysis\u001b[0m\u001b[0;34m(\u001b[0m\u001b[0mnums\u001b[0m\u001b[0;34m)\u001b[0m\u001b[0;34m:\u001b[0m\u001b[0;34m\u001b[0m\u001b[0m\n",
      "\u001b[0m\u001b[0;32m----> 4 \u001b[0;31m    \u001b[0mb\u001b[0m \u001b[0;34m=\u001b[0m \u001b[0;34m[\u001b[0m\u001b[0;34m]\u001b[0m\u001b[0;34m\u001b[0m\u001b[0m\n",
      "\u001b[0m\u001b[0;32m      5 \u001b[0;31m    \u001b[0;32mfor\u001b[0m \u001b[0mnum\u001b[0m \u001b[0;32min\u001b[0m \u001b[0mnums\u001b[0m\u001b[0;34m:\u001b[0m\u001b[0;34m\u001b[0m\u001b[0m\n",
      "\u001b[0m\n",
      "ipdb> \n",
      "> \u001b[0;32m<ipython-input-4-2d2057b6f91d>\u001b[0m(5)\u001b[0;36msome_analysis\u001b[0;34m()\u001b[0m\n",
      "\u001b[0;32m      4 \u001b[0;31m    \u001b[0mb\u001b[0m \u001b[0;34m=\u001b[0m \u001b[0;34m[\u001b[0m\u001b[0;34m]\u001b[0m\u001b[0;34m\u001b[0m\u001b[0m\n",
      "\u001b[0m\u001b[0;32m----> 5 \u001b[0;31m    \u001b[0;32mfor\u001b[0m \u001b[0mnum\u001b[0m \u001b[0;32min\u001b[0m \u001b[0mnums\u001b[0m\u001b[0;34m:\u001b[0m\u001b[0;34m\u001b[0m\u001b[0m\n",
      "\u001b[0m\u001b[0;32m      6 \u001b[0;31m        \u001b[0mb\u001b[0m\u001b[0;34m.\u001b[0m\u001b[0mappend\u001b[0m\u001b[0;34m(\u001b[0m\u001b[0;36m1\u001b[0m\u001b[0;34m/\u001b[0m\u001b[0;34m(\u001b[0m\u001b[0mnum\u001b[0m \u001b[0;34m-\u001b[0m \u001b[0;36m5.\u001b[0m\u001b[0;34m)\u001b[0m\u001b[0;34m)\u001b[0m\u001b[0;34m\u001b[0m\u001b[0m\n",
      "\u001b[0m\n",
      "ipdb> p b\n",
      "[]\n",
      "ipdb> \n",
      "[]\n",
      "ipdb> \n",
      "[]\n",
      "ipdb> n\n",
      "> \u001b[0;32m<ipython-input-4-2d2057b6f91d>\u001b[0m(6)\u001b[0;36msome_analysis\u001b[0;34m()\u001b[0m\n",
      "\u001b[0;32m      5 \u001b[0;31m    \u001b[0;32mfor\u001b[0m \u001b[0mnum\u001b[0m \u001b[0;32min\u001b[0m \u001b[0mnums\u001b[0m\u001b[0;34m:\u001b[0m\u001b[0;34m\u001b[0m\u001b[0m\n",
      "\u001b[0m\u001b[0;32m----> 6 \u001b[0;31m        \u001b[0mb\u001b[0m\u001b[0;34m.\u001b[0m\u001b[0mappend\u001b[0m\u001b[0;34m(\u001b[0m\u001b[0;36m1\u001b[0m\u001b[0;34m/\u001b[0m\u001b[0;34m(\u001b[0m\u001b[0mnum\u001b[0m \u001b[0;34m-\u001b[0m \u001b[0;36m5.\u001b[0m\u001b[0;34m)\u001b[0m\u001b[0;34m)\u001b[0m\u001b[0;34m\u001b[0m\u001b[0m\n",
      "\u001b[0m\u001b[0;32m      7 \u001b[0;31m    \u001b[0;32mreturn\u001b[0m \u001b[0mb\u001b[0m\u001b[0;34m\u001b[0m\u001b[0m\n",
      "\u001b[0m\n",
      "ipdb> p b\n",
      "[]\n",
      "ipdb> \n",
      "[]\n",
      "ipdb> \n",
      "[]\n",
      "ipdb> \n",
      "[]\n",
      "ipdb> \n",
      "[]\n",
      "ipdb> \n",
      "[]\n",
      "ipdb> \n",
      "[]\n",
      "ipdb> \n",
      "[]\n",
      "ipdb> \n",
      "[]\n",
      "ipdb> \n",
      "[]\n",
      "ipdb> n\n",
      "> \u001b[0;32m<ipython-input-4-2d2057b6f91d>\u001b[0m(5)\u001b[0;36msome_analysis\u001b[0;34m()\u001b[0m\n",
      "\u001b[0;32m      4 \u001b[0;31m    \u001b[0mb\u001b[0m \u001b[0;34m=\u001b[0m \u001b[0;34m[\u001b[0m\u001b[0;34m]\u001b[0m\u001b[0;34m\u001b[0m\u001b[0m\n",
      "\u001b[0m\u001b[0;32m----> 5 \u001b[0;31m    \u001b[0;32mfor\u001b[0m \u001b[0mnum\u001b[0m \u001b[0;32min\u001b[0m \u001b[0mnums\u001b[0m\u001b[0;34m:\u001b[0m\u001b[0;34m\u001b[0m\u001b[0m\n",
      "\u001b[0m\u001b[0;32m      6 \u001b[0;31m        \u001b[0mb\u001b[0m\u001b[0;34m.\u001b[0m\u001b[0mappend\u001b[0m\u001b[0;34m(\u001b[0m\u001b[0;36m1\u001b[0m\u001b[0;34m/\u001b[0m\u001b[0;34m(\u001b[0m\u001b[0mnum\u001b[0m \u001b[0;34m-\u001b[0m \u001b[0;36m5.\u001b[0m\u001b[0;34m)\u001b[0m\u001b[0;34m)\u001b[0m\u001b[0;34m\u001b[0m\u001b[0m\n",
      "\u001b[0m\n",
      "ipdb> p b\n",
      "[-0.25]\n",
      "ipdb> \n",
      "[-0.25]\n",
      "ipdb> \n",
      "[-0.25]\n",
      "ipdb> \n",
      "[-0.25]\n",
      "ipdb> \n",
      "[-0.25]\n",
      "ipdb> \n",
      "[-0.25]\n",
      "ipdb> \n",
      "[-0.25]\n",
      "ipdb> \n",
      "[-0.25]\n",
      "ipdb> n\n",
      "> \u001b[0;32m<ipython-input-4-2d2057b6f91d>\u001b[0m(6)\u001b[0;36msome_analysis\u001b[0;34m()\u001b[0m\n",
      "\u001b[0;32m      5 \u001b[0;31m    \u001b[0;32mfor\u001b[0m \u001b[0mnum\u001b[0m \u001b[0;32min\u001b[0m \u001b[0mnums\u001b[0m\u001b[0;34m:\u001b[0m\u001b[0;34m\u001b[0m\u001b[0m\n",
      "\u001b[0m\u001b[0;32m----> 6 \u001b[0;31m        \u001b[0mb\u001b[0m\u001b[0;34m.\u001b[0m\u001b[0mappend\u001b[0m\u001b[0;34m(\u001b[0m\u001b[0;36m1\u001b[0m\u001b[0;34m/\u001b[0m\u001b[0;34m(\u001b[0m\u001b[0mnum\u001b[0m \u001b[0;34m-\u001b[0m \u001b[0;36m5.\u001b[0m\u001b[0;34m)\u001b[0m\u001b[0;34m)\u001b[0m\u001b[0;34m\u001b[0m\u001b[0m\n",
      "\u001b[0m\u001b[0;32m      7 \u001b[0;31m    \u001b[0;32mreturn\u001b[0m \u001b[0mb\u001b[0m\u001b[0;34m\u001b[0m\u001b[0m\n",
      "\u001b[0m\n",
      "ipdb> p b\n",
      "[-0.25]\n",
      "ipdb> \n",
      "[-0.25]\n",
      "ipdb> \n",
      "[-0.25]\n",
      "ipdb> \n",
      "[-0.25]\n",
      "ipdb> n\n",
      "> \u001b[0;32m<ipython-input-4-2d2057b6f91d>\u001b[0m(5)\u001b[0;36msome_analysis\u001b[0;34m()\u001b[0m\n",
      "\u001b[0;32m      4 \u001b[0;31m    \u001b[0mb\u001b[0m \u001b[0;34m=\u001b[0m \u001b[0;34m[\u001b[0m\u001b[0;34m]\u001b[0m\u001b[0;34m\u001b[0m\u001b[0m\n",
      "\u001b[0m\u001b[0;32m----> 5 \u001b[0;31m    \u001b[0;32mfor\u001b[0m \u001b[0mnum\u001b[0m \u001b[0;32min\u001b[0m \u001b[0mnums\u001b[0m\u001b[0;34m:\u001b[0m\u001b[0;34m\u001b[0m\u001b[0m\n",
      "\u001b[0m\u001b[0;32m      6 \u001b[0;31m        \u001b[0mb\u001b[0m\u001b[0;34m.\u001b[0m\u001b[0mappend\u001b[0m\u001b[0;34m(\u001b[0m\u001b[0;36m1\u001b[0m\u001b[0;34m/\u001b[0m\u001b[0;34m(\u001b[0m\u001b[0mnum\u001b[0m \u001b[0;34m-\u001b[0m \u001b[0;36m5.\u001b[0m\u001b[0;34m)\u001b[0m\u001b[0;34m)\u001b[0m\u001b[0;34m\u001b[0m\u001b[0m\n",
      "\u001b[0m\n",
      "ipdb> p b\n",
      "[-0.25, -0.3333333333333333]\n",
      "ipdb> \n",
      "[-0.25, -0.3333333333333333]\n",
      "ipdb> \n",
      "[-0.25, -0.3333333333333333]\n",
      "ipdb> n\n",
      "> \u001b[0;32m<ipython-input-4-2d2057b6f91d>\u001b[0m(6)\u001b[0;36msome_analysis\u001b[0;34m()\u001b[0m\n",
      "\u001b[0;32m      5 \u001b[0;31m    \u001b[0;32mfor\u001b[0m \u001b[0mnum\u001b[0m \u001b[0;32min\u001b[0m \u001b[0mnums\u001b[0m\u001b[0;34m:\u001b[0m\u001b[0;34m\u001b[0m\u001b[0m\n",
      "\u001b[0m\u001b[0;32m----> 6 \u001b[0;31m        \u001b[0mb\u001b[0m\u001b[0;34m.\u001b[0m\u001b[0mappend\u001b[0m\u001b[0;34m(\u001b[0m\u001b[0;36m1\u001b[0m\u001b[0;34m/\u001b[0m\u001b[0;34m(\u001b[0m\u001b[0mnum\u001b[0m \u001b[0;34m-\u001b[0m \u001b[0;36m5.\u001b[0m\u001b[0;34m)\u001b[0m\u001b[0;34m)\u001b[0m\u001b[0;34m\u001b[0m\u001b[0m\n",
      "\u001b[0m\u001b[0;32m      7 \u001b[0;31m    \u001b[0;32mreturn\u001b[0m \u001b[0mb\u001b[0m\u001b[0;34m\u001b[0m\u001b[0m\n",
      "\u001b[0m\n",
      "ipdb> \n",
      "> \u001b[0;32m<ipython-input-4-2d2057b6f91d>\u001b[0m(5)\u001b[0;36msome_analysis\u001b[0;34m()\u001b[0m\n",
      "\u001b[0;32m      4 \u001b[0;31m    \u001b[0mb\u001b[0m \u001b[0;34m=\u001b[0m \u001b[0;34m[\u001b[0m\u001b[0;34m]\u001b[0m\u001b[0;34m\u001b[0m\u001b[0m\n",
      "\u001b[0m\u001b[0;32m----> 5 \u001b[0;31m    \u001b[0;32mfor\u001b[0m \u001b[0mnum\u001b[0m \u001b[0;32min\u001b[0m \u001b[0mnums\u001b[0m\u001b[0;34m:\u001b[0m\u001b[0;34m\u001b[0m\u001b[0m\n",
      "\u001b[0m\u001b[0;32m      6 \u001b[0;31m        \u001b[0mb\u001b[0m\u001b[0;34m.\u001b[0m\u001b[0mappend\u001b[0m\u001b[0;34m(\u001b[0m\u001b[0;36m1\u001b[0m\u001b[0;34m/\u001b[0m\u001b[0;34m(\u001b[0m\u001b[0mnum\u001b[0m \u001b[0;34m-\u001b[0m \u001b[0;36m5.\u001b[0m\u001b[0;34m)\u001b[0m\u001b[0;34m)\u001b[0m\u001b[0;34m\u001b[0m\u001b[0m\n",
      "\u001b[0m\n",
      "ipdb> p b\n",
      "[-0.25, -0.3333333333333333, -0.5]\n",
      "ipdb> \n",
      "[-0.25, -0.3333333333333333, -0.5]\n",
      "ipdb> \n",
      "[-0.25, -0.3333333333333333, -0.5]\n",
      "ipdb> \n",
      "[-0.25, -0.3333333333333333, -0.5]\n",
      "ipdb> \n",
      "[-0.25, -0.3333333333333333, -0.5]\n",
      "ipdb> n\n",
      "> \u001b[0;32m<ipython-input-4-2d2057b6f91d>\u001b[0m(6)\u001b[0;36msome_analysis\u001b[0;34m()\u001b[0m\n",
      "\u001b[0;32m      5 \u001b[0;31m    \u001b[0;32mfor\u001b[0m \u001b[0mnum\u001b[0m \u001b[0;32min\u001b[0m \u001b[0mnums\u001b[0m\u001b[0;34m:\u001b[0m\u001b[0;34m\u001b[0m\u001b[0m\n",
      "\u001b[0m\u001b[0;32m----> 6 \u001b[0;31m        \u001b[0mb\u001b[0m\u001b[0;34m.\u001b[0m\u001b[0mappend\u001b[0m\u001b[0;34m(\u001b[0m\u001b[0;36m1\u001b[0m\u001b[0;34m/\u001b[0m\u001b[0;34m(\u001b[0m\u001b[0mnum\u001b[0m \u001b[0;34m-\u001b[0m \u001b[0;36m5.\u001b[0m\u001b[0;34m)\u001b[0m\u001b[0;34m)\u001b[0m\u001b[0;34m\u001b[0m\u001b[0m\n",
      "\u001b[0m\u001b[0;32m      7 \u001b[0;31m    \u001b[0;32mreturn\u001b[0m \u001b[0mb\u001b[0m\u001b[0;34m\u001b[0m\u001b[0m\n",
      "\u001b[0m\n",
      "ipdb> p b\n",
      "[-0.25, -0.3333333333333333, -0.5]\n",
      "ipdb> \n",
      "[-0.25, -0.3333333333333333, -0.5]\n",
      "ipdb> \n",
      "[-0.25, -0.3333333333333333, -0.5]\n",
      "ipdb> n\n",
      "> \u001b[0;32m<ipython-input-4-2d2057b6f91d>\u001b[0m(5)\u001b[0;36msome_analysis\u001b[0;34m()\u001b[0m\n",
      "\u001b[0;32m      4 \u001b[0;31m    \u001b[0mb\u001b[0m \u001b[0;34m=\u001b[0m \u001b[0;34m[\u001b[0m\u001b[0;34m]\u001b[0m\u001b[0;34m\u001b[0m\u001b[0m\n",
      "\u001b[0m\u001b[0;32m----> 5 \u001b[0;31m    \u001b[0;32mfor\u001b[0m \u001b[0mnum\u001b[0m \u001b[0;32min\u001b[0m \u001b[0mnums\u001b[0m\u001b[0;34m:\u001b[0m\u001b[0;34m\u001b[0m\u001b[0m\n",
      "\u001b[0m\u001b[0;32m      6 \u001b[0;31m        \u001b[0mb\u001b[0m\u001b[0;34m.\u001b[0m\u001b[0mappend\u001b[0m\u001b[0;34m(\u001b[0m\u001b[0;36m1\u001b[0m\u001b[0;34m/\u001b[0m\u001b[0;34m(\u001b[0m\u001b[0mnum\u001b[0m \u001b[0;34m-\u001b[0m \u001b[0;36m5.\u001b[0m\u001b[0;34m)\u001b[0m\u001b[0;34m)\u001b[0m\u001b[0;34m\u001b[0m\u001b[0m\n",
      "\u001b[0m\n",
      "ipdb> p b\n",
      "[-0.25, -0.3333333333333333, -0.5, -1.0]\n",
      "ipdb> \n",
      "[-0.25, -0.3333333333333333, -0.5, -1.0]\n",
      "ipdb> \n",
      "[-0.25, -0.3333333333333333, -0.5, -1.0]\n",
      "ipdb> \n",
      "[-0.25, -0.3333333333333333, -0.5, -1.0]\n",
      "ipdb> \n",
      "[-0.25, -0.3333333333333333, -0.5, -1.0]\n",
      "ipdb> \n",
      "[-0.25, -0.3333333333333333, -0.5, -1.0]\n",
      "ipdb> n\n",
      "> \u001b[0;32m<ipython-input-4-2d2057b6f91d>\u001b[0m(6)\u001b[0;36msome_analysis\u001b[0;34m()\u001b[0m\n",
      "\u001b[0;32m      5 \u001b[0;31m    \u001b[0;32mfor\u001b[0m \u001b[0mnum\u001b[0m \u001b[0;32min\u001b[0m \u001b[0mnums\u001b[0m\u001b[0;34m:\u001b[0m\u001b[0;34m\u001b[0m\u001b[0m\n",
      "\u001b[0m\u001b[0;32m----> 6 \u001b[0;31m        \u001b[0mb\u001b[0m\u001b[0;34m.\u001b[0m\u001b[0mappend\u001b[0m\u001b[0;34m(\u001b[0m\u001b[0;36m1\u001b[0m\u001b[0;34m/\u001b[0m\u001b[0;34m(\u001b[0m\u001b[0mnum\u001b[0m \u001b[0;34m-\u001b[0m \u001b[0;36m5.\u001b[0m\u001b[0;34m)\u001b[0m\u001b[0;34m)\u001b[0m\u001b[0;34m\u001b[0m\u001b[0m\n",
      "\u001b[0m\u001b[0;32m      7 \u001b[0;31m    \u001b[0;32mreturn\u001b[0m \u001b[0mb\u001b[0m\u001b[0;34m\u001b[0m\u001b[0m\n",
      "\u001b[0m\n",
      "ipdb> \n",
      "ZeroDivisionError: 'float division by zero'\n",
      "> \u001b[0;32m<ipython-input-4-2d2057b6f91d>\u001b[0m(6)\u001b[0;36msome_analysis\u001b[0;34m()\u001b[0m\n",
      "\u001b[0;32m      5 \u001b[0;31m    \u001b[0;32mfor\u001b[0m \u001b[0mnum\u001b[0m \u001b[0;32min\u001b[0m \u001b[0mnums\u001b[0m\u001b[0;34m:\u001b[0m\u001b[0;34m\u001b[0m\u001b[0m\n",
      "\u001b[0m\u001b[0;32m----> 6 \u001b[0;31m        \u001b[0mb\u001b[0m\u001b[0;34m.\u001b[0m\u001b[0mappend\u001b[0m\u001b[0;34m(\u001b[0m\u001b[0;36m1\u001b[0m\u001b[0;34m/\u001b[0m\u001b[0;34m(\u001b[0m\u001b[0mnum\u001b[0m \u001b[0;34m-\u001b[0m \u001b[0;36m5.\u001b[0m\u001b[0;34m)\u001b[0m\u001b[0;34m)\u001b[0m\u001b[0;34m\u001b[0m\u001b[0m\n",
      "\u001b[0m\u001b[0;32m      7 \u001b[0;31m    \u001b[0;32mreturn\u001b[0m \u001b[0mb\u001b[0m\u001b[0;34m\u001b[0m\u001b[0m\n",
      "\u001b[0m\n",
      "ipdb> p b\n",
      "[-0.25, -0.3333333333333333, -0.5, -1.0]\n",
      "ipdb> \n",
      "[-0.25, -0.3333333333333333, -0.5, -1.0]\n",
      "ipdb> \n",
      "[-0.25, -0.3333333333333333, -0.5, -1.0]\n",
      "ipdb> \n",
      "[-0.25, -0.3333333333333333, -0.5, -1.0]\n",
      "ipdb> \n",
      "[-0.25, -0.3333333333333333, -0.5, -1.0]\n",
      "ipdb> \n",
      "[-0.25, -0.3333333333333333, -0.5, -1.0]\n",
      "ipdb> \n",
      "[-0.25, -0.3333333333333333, -0.5, -1.0]\n",
      "ipdb> \n",
      "[-0.25, -0.3333333333333333, -0.5, -1.0]\n",
      "ipdb> \n",
      "[-0.25, -0.3333333333333333, -0.5, -1.0]\n",
      "ipdb> \n",
      "[-0.25, -0.3333333333333333, -0.5, -1.0]\n",
      "ipdb> \n",
      "[-0.25, -0.3333333333333333, -0.5, -1.0]\n",
      "ipdb> \n",
      "[-0.25, -0.3333333333333333, -0.5, -1.0]\n",
      "ipdb> \n",
      "[-0.25, -0.3333333333333333, -0.5, -1.0]\n",
      "ipdb> \n",
      "[-0.25, -0.3333333333333333, -0.5, -1.0]\n",
      "ipdb> \n",
      "[-0.25, -0.3333333333333333, -0.5, -1.0]\n",
      "ipdb> \n",
      "[-0.25, -0.3333333333333333, -0.5, -1.0]\n",
      "ipdb> \n",
      "[-0.25, -0.3333333333333333, -0.5, -1.0]\n",
      "ipdb> \n",
      "[-0.25, -0.3333333333333333, -0.5, -1.0]\n",
      "ipdb> \n",
      "[-0.25, -0.3333333333333333, -0.5, -1.0]\n",
      "ipdb> \n",
      "[-0.25, -0.3333333333333333, -0.5, -1.0]\n",
      "ipdb> \n",
      "[-0.25, -0.3333333333333333, -0.5, -1.0]\n",
      "ipdb> \n",
      "[-0.25, -0.3333333333333333, -0.5, -1.0]\n",
      "ipdb> \n",
      "[-0.25, -0.3333333333333333, -0.5, -1.0]\n",
      "ipdb> \n",
      "[-0.25, -0.3333333333333333, -0.5, -1.0]\n",
      "ipdb> \n",
      "[-0.25, -0.3333333333333333, -0.5, -1.0]\n",
      "ipdb> \n",
      "[-0.25, -0.3333333333333333, -0.5, -1.0]\n",
      "ipdb> \n",
      "[-0.25, -0.3333333333333333, -0.5, -1.0]\n",
      "ipdb> \n",
      "[-0.25, -0.3333333333333333, -0.5, -1.0]\n",
      "ipdb> \n",
      "[-0.25, -0.3333333333333333, -0.5, -1.0]\n",
      "ipdb> \n",
      "[-0.25, -0.3333333333333333, -0.5, -1.0]\n",
      "ipdb> \n",
      "[-0.25, -0.3333333333333333, -0.5, -1.0]\n",
      "ipdb> \n",
      "[-0.25, -0.3333333333333333, -0.5, -1.0]\n",
      "ipdb> \n",
      "[-0.25, -0.3333333333333333, -0.5, -1.0]\n",
      "ipdb> \n",
      "[-0.25, -0.3333333333333333, -0.5, -1.0]\n",
      "ipdb> \n",
      "[-0.25, -0.3333333333333333, -0.5, -1.0]\n",
      "ipdb> \n",
      "[-0.25, -0.3333333333333333, -0.5, -1.0]\n",
      "ipdb> \n",
      "[-0.25, -0.3333333333333333, -0.5, -1.0]\n",
      "ipdb> \n",
      "[-0.25, -0.3333333333333333, -0.5, -1.0]\n",
      "ipdb> \n",
      "[-0.25, -0.3333333333333333, -0.5, -1.0]\n",
      "ipdb> \n",
      "[-0.25, -0.3333333333333333, -0.5, -1.0]\n",
      "ipdb> \n",
      "[-0.25, -0.3333333333333333, -0.5, -1.0]\n",
      "ipdb> \n",
      "[-0.25, -0.3333333333333333, -0.5, -1.0]\n",
      "ipdb> \n",
      "[-0.25, -0.3333333333333333, -0.5, -1.0]\n",
      "ipdb> \n",
      "[-0.25, -0.3333333333333333, -0.5, -1.0]\n",
      "ipdb> \n",
      "[-0.25, -0.3333333333333333, -0.5, -1.0]\n",
      "ipdb> \n",
      "[-0.25, -0.3333333333333333, -0.5, -1.0]\n",
      "ipdb> \n",
      "[-0.25, -0.3333333333333333, -0.5, -1.0]\n",
      "ipdb> \n",
      "[-0.25, -0.3333333333333333, -0.5, -1.0]\n",
      "ipdb> \n",
      "[-0.25, -0.3333333333333333, -0.5, -1.0]\n",
      "ipdb> \n",
      "[-0.25, -0.3333333333333333, -0.5, -1.0]\n",
      "ipdb> \n",
      "[-0.25, -0.3333333333333333, -0.5, -1.0]\n",
      "ipdb> \n",
      "[-0.25, -0.3333333333333333, -0.5, -1.0]\n",
      "ipdb> \n",
      "[-0.25, -0.3333333333333333, -0.5, -1.0]\n",
      "ipdb> \n",
      "[-0.25, -0.3333333333333333, -0.5, -1.0]\n",
      "ipdb> \n",
      "[-0.25, -0.3333333333333333, -0.5, -1.0]\n",
      "ipdb> \n",
      "[-0.25, -0.3333333333333333, -0.5, -1.0]\n",
      "ipdb> \n",
      "[-0.25, -0.3333333333333333, -0.5, -1.0]\n",
      "ipdb> \n",
      "[-0.25, -0.3333333333333333, -0.5, -1.0]\n",
      "ipdb> \n",
      "[-0.25, -0.3333333333333333, -0.5, -1.0]\n",
      "ipdb> \n",
      "[-0.25, -0.3333333333333333, -0.5, -1.0]\n",
      "ipdb> \n",
      "[-0.25, -0.3333333333333333, -0.5, -1.0]\n",
      "ipdb> \n",
      "[-0.25, -0.3333333333333333, -0.5, -1.0]\n",
      "ipdb> \n",
      "[-0.25, -0.3333333333333333, -0.5, -1.0]\n",
      "ipdb> \n",
      "[-0.25, -0.3333333333333333, -0.5, -1.0]\n",
      "ipdb> \n",
      "[-0.25, -0.3333333333333333, -0.5, -1.0]\n",
      "ipdb> \n",
      "[-0.25, -0.3333333333333333, -0.5, -1.0]\n",
      "ipdb> \n",
      "[-0.25, -0.3333333333333333, -0.5, -1.0]\n",
      "ipdb> \n",
      "[-0.25, -0.3333333333333333, -0.5, -1.0]\n",
      "ipdb> \n",
      "[-0.25, -0.3333333333333333, -0.5, -1.0]\n",
      "ipdb> \n",
      "[-0.25, -0.3333333333333333, -0.5, -1.0]\n",
      "ipdb> \n",
      "[-0.25, -0.3333333333333333, -0.5, -1.0]\n",
      "ipdb> \n",
      "[-0.25, -0.3333333333333333, -0.5, -1.0]\n",
      "ipdb> \n",
      "[-0.25, -0.3333333333333333, -0.5, -1.0]\n",
      "ipdb> \n",
      "[-0.25, -0.3333333333333333, -0.5, -1.0]\n",
      "ipdb> \n",
      "[-0.25, -0.3333333333333333, -0.5, -1.0]\n",
      "ipdb> \n",
      "[-0.25, -0.3333333333333333, -0.5, -1.0]\n",
      "ipdb> \n",
      "[-0.25, -0.3333333333333333, -0.5, -1.0]\n",
      "ipdb> \n",
      "[-0.25, -0.3333333333333333, -0.5, -1.0]\n",
      "ipdb> \n",
      "[-0.25, -0.3333333333333333, -0.5, -1.0]\n",
      "ipdb> \n",
      "[-0.25, -0.3333333333333333, -0.5, -1.0]\n",
      "ipdb> \n",
      "[-0.25, -0.3333333333333333, -0.5, -1.0]\n",
      "ipdb> \n",
      "[-0.25, -0.3333333333333333, -0.5, -1.0]\n",
      "ipdb> \n",
      "[-0.25, -0.3333333333333333, -0.5, -1.0]\n",
      "ipdb> \n",
      "[-0.25, -0.3333333333333333, -0.5, -1.0]\n",
      "ipdb> \n",
      "[-0.25, -0.3333333333333333, -0.5, -1.0]\n",
      "ipdb> \n",
      "[-0.25, -0.3333333333333333, -0.5, -1.0]\n",
      "ipdb> \n",
      "[-0.25, -0.3333333333333333, -0.5, -1.0]\n",
      "ipdb> \n",
      "[-0.25, -0.3333333333333333, -0.5, -1.0]\n",
      "ipdb> \n",
      "[-0.25, -0.3333333333333333, -0.5, -1.0]\n",
      "ipdb> \n",
      "[-0.25, -0.3333333333333333, -0.5, -1.0]\n",
      "ipdb> \n",
      "[-0.25, -0.3333333333333333, -0.5, -1.0]\n",
      "ipdb> \n",
      "[-0.25, -0.3333333333333333, -0.5, -1.0]\n",
      "ipdb> \n",
      "[-0.25, -0.3333333333333333, -0.5, -1.0]\n",
      "ipdb> \n",
      "[-0.25, -0.3333333333333333, -0.5, -1.0]\n",
      "\n",
      "KeyboardInterrupt\n",
      "--Return--\n",
      "None\n",
      "> \u001b[0;32m<ipython-input-4-2d2057b6f91d>\u001b[0m(6)\u001b[0;36msome_analysis\u001b[0;34m()\u001b[0m\n",
      "\u001b[0;32m      5 \u001b[0;31m    \u001b[0;32mfor\u001b[0m \u001b[0mnum\u001b[0m \u001b[0;32min\u001b[0m \u001b[0mnums\u001b[0m\u001b[0;34m:\u001b[0m\u001b[0;34m\u001b[0m\u001b[0m\n",
      "\u001b[0m\u001b[0;32m----> 6 \u001b[0;31m        \u001b[0mb\u001b[0m\u001b[0;34m.\u001b[0m\u001b[0mappend\u001b[0m\u001b[0;34m(\u001b[0m\u001b[0;36m1\u001b[0m\u001b[0;34m/\u001b[0m\u001b[0;34m(\u001b[0m\u001b[0mnum\u001b[0m \u001b[0;34m-\u001b[0m \u001b[0;36m5.\u001b[0m\u001b[0;34m)\u001b[0m\u001b[0;34m)\u001b[0m\u001b[0;34m\u001b[0m\u001b[0m\n",
      "\u001b[0m\u001b[0;32m      7 \u001b[0;31m    \u001b[0;32mreturn\u001b[0m \u001b[0mb\u001b[0m\u001b[0;34m\u001b[0m\u001b[0m\n",
      "\u001b[0m\n",
      "\n",
      "KeyboardInterrupt\n",
      "ZeroDivisionError: 'float division by zero'\n",
      "> \u001b[0;32m<ipython-input-4-2d2057b6f91d>\u001b[0m(18)\u001b[0;36msome_calc\u001b[0;34m()\u001b[0m\n",
      "\u001b[0;32m     17 \u001b[0;31m    \u001b[0mtotal\u001b[0m \u001b[0;34m=\u001b[0m \u001b[0;36m0\u001b[0m\u001b[0;34m\u001b[0m\u001b[0m\n",
      "\u001b[0m\u001b[0;32m---> 18 \u001b[0;31m    \u001b[0mb\u001b[0m \u001b[0;34m=\u001b[0m \u001b[0msome_analysis\u001b[0m\u001b[0;34m(\u001b[0m\u001b[0mnums\u001b[0m\u001b[0;34m)\u001b[0m\u001b[0;34m\u001b[0m\u001b[0m\n",
      "\u001b[0m\u001b[0;32m     19 \u001b[0;31m    \u001b[0;32mwhile\u001b[0m \u001b[0mi\u001b[0m \u001b[0;34m<\u001b[0m \u001b[0mN\u001b[0m\u001b[0;34m:\u001b[0m\u001b[0;34m\u001b[0m\u001b[0m\n",
      "\u001b[0m\n",
      "\n",
      "KeyboardInterrupt\n",
      "--Return--\n",
      "None\n",
      "> \u001b[0;32m<ipython-input-4-2d2057b6f91d>\u001b[0m(18)\u001b[0;36msome_calc\u001b[0;34m()\u001b[0m\n",
      "\u001b[0;32m     17 \u001b[0;31m    \u001b[0mtotal\u001b[0m \u001b[0;34m=\u001b[0m \u001b[0;36m0\u001b[0m\u001b[0;34m\u001b[0m\u001b[0m\n",
      "\u001b[0m\u001b[0;32m---> 18 \u001b[0;31m    \u001b[0mb\u001b[0m \u001b[0;34m=\u001b[0m \u001b[0msome_analysis\u001b[0m\u001b[0;34m(\u001b[0m\u001b[0mnums\u001b[0m\u001b[0;34m)\u001b[0m\u001b[0;34m\u001b[0m\u001b[0m\n",
      "\u001b[0m\u001b[0;32m     19 \u001b[0;31m    \u001b[0;32mwhile\u001b[0m \u001b[0mi\u001b[0m \u001b[0;34m<\u001b[0m \u001b[0mN\u001b[0m\u001b[0;34m:\u001b[0m\u001b[0;34m\u001b[0m\u001b[0m\n",
      "\u001b[0m\n",
      "\n",
      "KeyboardInterrupt\n",
      "ZeroDivisionError: 'float division by zero'\n",
      "> \u001b[0;32m<ipython-input-4-2d2057b6f91d>\u001b[0m(27)\u001b[0;36m<module>\u001b[0;34m()\u001b[0m\n",
      "\u001b[0;32m     26 \u001b[0;31m\u001b[0;34m\u001b[0m\u001b[0m\n",
      "\u001b[0m\u001b[0;32m---> 27 \u001b[0;31m\u001b[0;32mprint\u001b[0m\u001b[0;34m(\u001b[0m\u001b[0msome_calc\u001b[0m\u001b[0;34m(\u001b[0m\u001b[0ma_list\u001b[0m\u001b[0;34m)\u001b[0m\u001b[0;34m)\u001b[0m\u001b[0;34m\u001b[0m\u001b[0m\n",
      "\u001b[0m\u001b[0;32m     28 \u001b[0;31m\u001b[0;32mprint\u001b[0m\u001b[0;34m(\u001b[0m\u001b[0;34m'DONE!'\u001b[0m\u001b[0;34m)\u001b[0m\u001b[0;34m\u001b[0m\u001b[0m\n",
      "\u001b[0m\n",
      "\n",
      "KeyboardInterrupt\n",
      "--Return--\n",
      "None\n",
      "> \u001b[0;32m<ipython-input-4-2d2057b6f91d>\u001b[0m(27)\u001b[0;36m<module>\u001b[0;34m()\u001b[0m\n",
      "\u001b[0;32m     26 \u001b[0;31m\u001b[0;34m\u001b[0m\u001b[0m\n",
      "\u001b[0m\u001b[0;32m---> 27 \u001b[0;31m\u001b[0;32mprint\u001b[0m\u001b[0;34m(\u001b[0m\u001b[0msome_calc\u001b[0m\u001b[0;34m(\u001b[0m\u001b[0ma_list\u001b[0m\u001b[0;34m)\u001b[0m\u001b[0;34m)\u001b[0m\u001b[0;34m\u001b[0m\u001b[0m\n",
      "\u001b[0m\u001b[0;32m     28 \u001b[0;31m\u001b[0;32mprint\u001b[0m\u001b[0;34m(\u001b[0m\u001b[0;34m'DONE!'\u001b[0m\u001b[0;34m)\u001b[0m\u001b[0;34m\u001b[0m\u001b[0m\n",
      "\u001b[0m\n",
      "\n",
      "KeyboardInterrupt\n",
      "ZeroDivisionError: 'float division by zero'\n",
      "> \u001b[0;32m/Users/labuser/Library/Enthought/Canopy_64bit/User/lib/python2.7/site-packages/IPython/core/interactiveshell.py\u001b[0m(3035)\u001b[0;36mrun_code\u001b[0;34m()\u001b[0m\n",
      "\u001b[0;32m   3034 \u001b[0;31m                \u001b[0;31m#rprint('Running code', repr(code_obj)) # dbg\u001b[0m\u001b[0;34m\u001b[0m\u001b[0;34m\u001b[0m\u001b[0m\n",
      "\u001b[0m\u001b[0;32m-> 3035 \u001b[0;31m                \u001b[0;32mexec\u001b[0m\u001b[0;34m(\u001b[0m\u001b[0mcode_obj\u001b[0m\u001b[0;34m,\u001b[0m \u001b[0mself\u001b[0m\u001b[0;34m.\u001b[0m\u001b[0muser_global_ns\u001b[0m\u001b[0;34m,\u001b[0m \u001b[0mself\u001b[0m\u001b[0;34m.\u001b[0m\u001b[0muser_ns\u001b[0m\u001b[0;34m)\u001b[0m\u001b[0;34m\u001b[0m\u001b[0m\n",
      "\u001b[0m\u001b[0;32m   3036 \u001b[0;31m            \u001b[0;32mfinally\u001b[0m\u001b[0;34m:\u001b[0m\u001b[0;34m\u001b[0m\u001b[0m\n",
      "\u001b[0m\n",
      "\n",
      "KeyboardInterrupt\n",
      "> \u001b[0;32m/Users/labuser/Library/Enthought/Canopy_64bit/User/lib/python2.7/site-packages/IPython/core/interactiveshell.py\u001b[0m(3038)\u001b[0;36mrun_code\u001b[0;34m()\u001b[0m\n",
      "\u001b[0;32m   3037 \u001b[0;31m                \u001b[0;31m# Reset our crash handler in place\u001b[0m\u001b[0;34m\u001b[0m\u001b[0;34m\u001b[0m\u001b[0m\n",
      "\u001b[0m\u001b[0;32m-> 3038 \u001b[0;31m                \u001b[0msys\u001b[0m\u001b[0;34m.\u001b[0m\u001b[0mexcepthook\u001b[0m \u001b[0;34m=\u001b[0m \u001b[0mold_excepthook\u001b[0m\u001b[0;34m\u001b[0m\u001b[0m\n",
      "\u001b[0m\u001b[0;32m   3039 \u001b[0;31m        \u001b[0;32mexcept\u001b[0m \u001b[0mSystemExit\u001b[0m \u001b[0;32mas\u001b[0m \u001b[0me\u001b[0m\u001b[0;34m:\u001b[0m\u001b[0;34m\u001b[0m\u001b[0m\n",
      "\u001b[0m\n",
      "\n",
      "KeyboardInterrupt\n",
      "> \u001b[0;32m/Users/labuser/Library/Enthought/Canopy_64bit/User/lib/python2.7/site-packages/IPython/core/interactiveshell.py\u001b[0m(3039)\u001b[0;36mrun_code\u001b[0;34m()\u001b[0m\n",
      "\u001b[0;32m   3038 \u001b[0;31m                \u001b[0msys\u001b[0m\u001b[0;34m.\u001b[0m\u001b[0mexcepthook\u001b[0m \u001b[0;34m=\u001b[0m \u001b[0mold_excepthook\u001b[0m\u001b[0;34m\u001b[0m\u001b[0m\n",
      "\u001b[0m\u001b[0;32m-> 3039 \u001b[0;31m        \u001b[0;32mexcept\u001b[0m \u001b[0mSystemExit\u001b[0m \u001b[0;32mas\u001b[0m \u001b[0me\u001b[0m\u001b[0;34m:\u001b[0m\u001b[0;34m\u001b[0m\u001b[0m\n",
      "\u001b[0m\u001b[0;32m   3040 \u001b[0;31m            \u001b[0;32mif\u001b[0m \u001b[0mresult\u001b[0m \u001b[0;32mis\u001b[0m \u001b[0;32mnot\u001b[0m \u001b[0mNone\u001b[0m\u001b[0;34m:\u001b[0m\u001b[0;34m\u001b[0m\u001b[0m\n",
      "\u001b[0m\n",
      "\n",
      "KeyboardInterrupt\n",
      "> \u001b[0;32m/Users/labuser/Library/Enthought/Canopy_64bit/User/lib/python2.7/site-packages/IPython/core/interactiveshell.py\u001b[0m(3044)\u001b[0;36mrun_code\u001b[0;34m()\u001b[0m\n",
      "\u001b[0;32m   3043 \u001b[0;31m            \u001b[0mwarn\u001b[0m\u001b[0;34m(\u001b[0m\u001b[0;34m\"To exit: use 'exit', 'quit', or Ctrl-D.\"\u001b[0m\u001b[0;34m,\u001b[0m \u001b[0mlevel\u001b[0m\u001b[0;34m=\u001b[0m\u001b[0;36m1\u001b[0m\u001b[0;34m)\u001b[0m\u001b[0;34m\u001b[0m\u001b[0m\n",
      "\u001b[0m\u001b[0;32m-> 3044 \u001b[0;31m        \u001b[0;32mexcept\u001b[0m \u001b[0mself\u001b[0m\u001b[0;34m.\u001b[0m\u001b[0mcustom_exceptions\u001b[0m\u001b[0;34m:\u001b[0m\u001b[0;34m\u001b[0m\u001b[0m\n",
      "\u001b[0m\u001b[0;32m   3045 \u001b[0;31m            \u001b[0metype\u001b[0m\u001b[0;34m,\u001b[0m \u001b[0mvalue\u001b[0m\u001b[0;34m,\u001b[0m \u001b[0mtb\u001b[0m \u001b[0;34m=\u001b[0m \u001b[0msys\u001b[0m\u001b[0;34m.\u001b[0m\u001b[0mexc_info\u001b[0m\u001b[0;34m(\u001b[0m\u001b[0;34m)\u001b[0m\u001b[0;34m\u001b[0m\u001b[0m\n",
      "\u001b[0m\n",
      "\n",
      "KeyboardInterrupt\n",
      "> \u001b[0;32m/Users/labuser/Library/Enthought/Canopy_64bit/User/lib/python2.7/site-packages/IPython/core/interactiveshell.py\u001b[0m(3049)\u001b[0;36mrun_code\u001b[0;34m()\u001b[0m\n",
      "\u001b[0;32m   3048 \u001b[0;31m            \u001b[0mself\u001b[0m\u001b[0;34m.\u001b[0m\u001b[0mCustomTB\u001b[0m\u001b[0;34m(\u001b[0m\u001b[0metype\u001b[0m\u001b[0;34m,\u001b[0m \u001b[0mvalue\u001b[0m\u001b[0;34m,\u001b[0m \u001b[0mtb\u001b[0m\u001b[0;34m)\u001b[0m\u001b[0;34m\u001b[0m\u001b[0m\n",
      "\u001b[0m\u001b[0;32m-> 3049 \u001b[0;31m        \u001b[0;32mexcept\u001b[0m\u001b[0;34m:\u001b[0m\u001b[0;34m\u001b[0m\u001b[0m\n",
      "\u001b[0m\u001b[0;32m   3050 \u001b[0;31m            \u001b[0;32mif\u001b[0m \u001b[0mresult\u001b[0m \u001b[0;32mis\u001b[0m \u001b[0;32mnot\u001b[0m \u001b[0mNone\u001b[0m\u001b[0;34m:\u001b[0m\u001b[0;34m\u001b[0m\u001b[0m\n",
      "\u001b[0m\n",
      "\n",
      "KeyboardInterrupt\n",
      "> \u001b[0;32m/Users/labuser/Library/Enthought/Canopy_64bit/User/lib/python2.7/site-packages/IPython/core/interactiveshell.py\u001b[0m(3050)\u001b[0;36mrun_code\u001b[0;34m()\u001b[0m\n",
      "\u001b[0;32m   3049 \u001b[0;31m        \u001b[0;32mexcept\u001b[0m\u001b[0;34m:\u001b[0m\u001b[0;34m\u001b[0m\u001b[0m\n",
      "\u001b[0m\u001b[0;32m-> 3050 \u001b[0;31m            \u001b[0;32mif\u001b[0m \u001b[0mresult\u001b[0m \u001b[0;32mis\u001b[0m \u001b[0;32mnot\u001b[0m \u001b[0mNone\u001b[0m\u001b[0;34m:\u001b[0m\u001b[0;34m\u001b[0m\u001b[0m\n",
      "\u001b[0m\u001b[0;32m   3051 \u001b[0;31m                \u001b[0mresult\u001b[0m\u001b[0;34m.\u001b[0m\u001b[0merror_in_exec\u001b[0m \u001b[0;34m=\u001b[0m \u001b[0msys\u001b[0m\u001b[0;34m.\u001b[0m\u001b[0mexc_info\u001b[0m\u001b[0;34m(\u001b[0m\u001b[0;34m)\u001b[0m\u001b[0;34m[\u001b[0m\u001b[0;36m1\u001b[0m\u001b[0;34m]\u001b[0m\u001b[0;34m\u001b[0m\u001b[0m\n",
      "\u001b[0m\n",
      "\n",
      "KeyboardInterrupt\n",
      "> \u001b[0;32m/Users/labuser/Library/Enthought/Canopy_64bit/User/lib/python2.7/site-packages/IPython/core/interactiveshell.py\u001b[0m(3051)\u001b[0;36mrun_code\u001b[0;34m()\u001b[0m\n",
      "\u001b[0;32m   3050 \u001b[0;31m            \u001b[0;32mif\u001b[0m \u001b[0mresult\u001b[0m \u001b[0;32mis\u001b[0m \u001b[0;32mnot\u001b[0m \u001b[0mNone\u001b[0m\u001b[0;34m:\u001b[0m\u001b[0;34m\u001b[0m\u001b[0m\n",
      "\u001b[0m\u001b[0;32m-> 3051 \u001b[0;31m                \u001b[0mresult\u001b[0m\u001b[0;34m.\u001b[0m\u001b[0merror_in_exec\u001b[0m \u001b[0;34m=\u001b[0m \u001b[0msys\u001b[0m\u001b[0;34m.\u001b[0m\u001b[0mexc_info\u001b[0m\u001b[0;34m(\u001b[0m\u001b[0;34m)\u001b[0m\u001b[0;34m[\u001b[0m\u001b[0;36m1\u001b[0m\u001b[0;34m]\u001b[0m\u001b[0;34m\u001b[0m\u001b[0m\n",
      "\u001b[0m\u001b[0;32m   3052 \u001b[0;31m            \u001b[0mself\u001b[0m\u001b[0;34m.\u001b[0m\u001b[0mshowtraceback\u001b[0m\u001b[0;34m(\u001b[0m\u001b[0;34m)\u001b[0m\u001b[0;34m\u001b[0m\u001b[0m\n",
      "\u001b[0m\n",
      "\n",
      "KeyboardInterrupt\n",
      "> \u001b[0;32m/Users/labuser/Library/Enthought/Canopy_64bit/User/lib/python2.7/site-packages/IPython/core/interactiveshell.py\u001b[0m(3052)\u001b[0;36mrun_code\u001b[0;34m()\u001b[0m\n",
      "\u001b[0;32m   3051 \u001b[0;31m                \u001b[0mresult\u001b[0m\u001b[0;34m.\u001b[0m\u001b[0merror_in_exec\u001b[0m \u001b[0;34m=\u001b[0m \u001b[0msys\u001b[0m\u001b[0;34m.\u001b[0m\u001b[0mexc_info\u001b[0m\u001b[0;34m(\u001b[0m\u001b[0;34m)\u001b[0m\u001b[0;34m[\u001b[0m\u001b[0;36m1\u001b[0m\u001b[0;34m]\u001b[0m\u001b[0;34m\u001b[0m\u001b[0m\n",
      "\u001b[0m\u001b[0;32m-> 3052 \u001b[0;31m            \u001b[0mself\u001b[0m\u001b[0;34m.\u001b[0m\u001b[0mshowtraceback\u001b[0m\u001b[0;34m(\u001b[0m\u001b[0;34m)\u001b[0m\u001b[0;34m\u001b[0m\u001b[0m\n",
      "\u001b[0m\u001b[0;32m   3053 \u001b[0;31m        \u001b[0;32melse\u001b[0m\u001b[0;34m:\u001b[0m\u001b[0;34m\u001b[0m\u001b[0m\n",
      "\u001b[0m\n"
     ]
    }
   ],
   "source": [
    "from ipdb import set_trace\n",
    "\n",
    "def some_analysis(nums):\n",
    "    b = []\n",
    "    for num in nums:\n",
    "        b.append(1/(num - 5.))\n",
    "    return b\n",
    "                 \n",
    "def some_calc(nums):\n",
    "    \n",
    "    # This sets a break point.\n",
    "    set_trace()\n",
    "    \n",
    "    N = len(nums)\n",
    "    \n",
    "    i = 0\n",
    "    total = 0    \n",
    "    b = some_analysis(nums)\n",
    "    while i < N:\n",
    "        total += nums[i]\n",
    "        i += 1 \n",
    "    return float(total) / float(len(N))\n",
    "\n",
    "\n",
    "a_list = [1, 2, 3, 4, 5, 6, 10]  \n",
    "\n",
    "print(some_calc(a_list))\n",
    "print('DONE!')"
   ]
  },
  {
   "cell_type": "markdown",
   "metadata": {},
   "source": [
    "## Breakout Exercise: Let's fix it!\n",
    "## ... or did we??\n",
    "## Your turn to use set_trace to find the problem.\n",
    "- ## Turn on line number with Escape-(lower case)L.\n",
    "- ## Put set_trace at the same line as before.  \n",
    "- ## Even if you have spotted the problem (*shhh...*), practice stepping through all the lines of the program at least once, by using ipdb commands.\n",
    "- ## Demonstrate to me, using ipdb, exactly where the problem is."
   ]
  },
  {
   "cell_type": "code",
   "execution_count": 5,
   "metadata": {
    "collapsed": false
   },
   "outputs": [
    {
     "name": "stdout",
     "output_type": "stream",
     "text": [
      "> \u001b[0;32m<ipython-input-5-e08b7d5d8b07>\u001b[0m(14)\u001b[0;36msome_calc\u001b[0;34m()\u001b[0m\n",
      "\u001b[0;32m     13 \u001b[0;31m\u001b[0;34m\u001b[0m\u001b[0m\n",
      "\u001b[0m\u001b[0;32m---> 14 \u001b[0;31m    \u001b[0mN\u001b[0m \u001b[0;34m=\u001b[0m \u001b[0mlen\u001b[0m\u001b[0;34m(\u001b[0m\u001b[0mnums\u001b[0m\u001b[0;34m)\u001b[0m\u001b[0;34m\u001b[0m\u001b[0m\n",
      "\u001b[0m\u001b[0;32m     15 \u001b[0;31m\u001b[0;34m\u001b[0m\u001b[0m\n",
      "\u001b[0m\n",
      "ipdb> n\n",
      "> \u001b[0;32m<ipython-input-5-e08b7d5d8b07>\u001b[0m(16)\u001b[0;36msome_calc\u001b[0;34m()\u001b[0m\n",
      "\u001b[0;32m     15 \u001b[0;31m\u001b[0;34m\u001b[0m\u001b[0m\n",
      "\u001b[0m\u001b[0;32m---> 16 \u001b[0;31m    \u001b[0mi\u001b[0m \u001b[0;34m=\u001b[0m \u001b[0;36m0\u001b[0m\u001b[0;34m\u001b[0m\u001b[0m\n",
      "\u001b[0m\u001b[0;32m     17 \u001b[0;31m    \u001b[0mtotal\u001b[0m \u001b[0;34m=\u001b[0m \u001b[0;36m0\u001b[0m\u001b[0;34m\u001b[0m\u001b[0m\n",
      "\u001b[0m\n",
      "ipdb> n\n",
      "> \u001b[0;32m<ipython-input-5-e08b7d5d8b07>\u001b[0m(17)\u001b[0;36msome_calc\u001b[0;34m()\u001b[0m\n",
      "\u001b[0;32m     16 \u001b[0;31m    \u001b[0mi\u001b[0m \u001b[0;34m=\u001b[0m \u001b[0;36m0\u001b[0m\u001b[0;34m\u001b[0m\u001b[0m\n",
      "\u001b[0m\u001b[0;32m---> 17 \u001b[0;31m    \u001b[0mtotal\u001b[0m \u001b[0;34m=\u001b[0m \u001b[0;36m0\u001b[0m\u001b[0;34m\u001b[0m\u001b[0m\n",
      "\u001b[0m\u001b[0;32m     18 \u001b[0;31m    \u001b[0mb\u001b[0m \u001b[0;34m=\u001b[0m \u001b[0msome_analysis\u001b[0m\u001b[0;34m(\u001b[0m\u001b[0mnums\u001b[0m\u001b[0;34m)\u001b[0m\u001b[0;34m\u001b[0m\u001b[0m\n",
      "\u001b[0m\n",
      "ipdb> n\n",
      "> \u001b[0;32m<ipython-input-5-e08b7d5d8b07>\u001b[0m(18)\u001b[0;36msome_calc\u001b[0;34m()\u001b[0m\n",
      "\u001b[0;32m     17 \u001b[0;31m    \u001b[0mtotal\u001b[0m \u001b[0;34m=\u001b[0m \u001b[0;36m0\u001b[0m\u001b[0;34m\u001b[0m\u001b[0m\n",
      "\u001b[0m\u001b[0;32m---> 18 \u001b[0;31m    \u001b[0mb\u001b[0m \u001b[0;34m=\u001b[0m \u001b[0msome_analysis\u001b[0m\u001b[0;34m(\u001b[0m\u001b[0mnums\u001b[0m\u001b[0;34m)\u001b[0m\u001b[0;34m\u001b[0m\u001b[0m\n",
      "\u001b[0m\u001b[0;32m     19 \u001b[0;31m    \u001b[0;32mwhile\u001b[0m \u001b[0mi\u001b[0m \u001b[0;34m<\u001b[0m \u001b[0mN\u001b[0m\u001b[0;34m:\u001b[0m\u001b[0;34m\u001b[0m\u001b[0m\n",
      "\u001b[0m\n",
      "ipdb> n\n",
      "> \u001b[0;32m<ipython-input-5-e08b7d5d8b07>\u001b[0m(19)\u001b[0;36msome_calc\u001b[0;34m()\u001b[0m\n",
      "\u001b[0;32m     18 \u001b[0;31m    \u001b[0mb\u001b[0m \u001b[0;34m=\u001b[0m \u001b[0msome_analysis\u001b[0m\u001b[0;34m(\u001b[0m\u001b[0mnums\u001b[0m\u001b[0;34m)\u001b[0m\u001b[0;34m\u001b[0m\u001b[0m\n",
      "\u001b[0m\u001b[0;32m---> 19 \u001b[0;31m    \u001b[0;32mwhile\u001b[0m \u001b[0mi\u001b[0m \u001b[0;34m<\u001b[0m \u001b[0mN\u001b[0m\u001b[0;34m:\u001b[0m\u001b[0;34m\u001b[0m\u001b[0m\n",
      "\u001b[0m\u001b[0;32m     20 \u001b[0;31m        \u001b[0mtotal\u001b[0m \u001b[0;34m+=\u001b[0m \u001b[0mnums\u001b[0m\u001b[0;34m[\u001b[0m\u001b[0mi\u001b[0m\u001b[0;34m]\u001b[0m\u001b[0;34m\u001b[0m\u001b[0m\n",
      "\u001b[0m\n",
      "ipdb> n\n",
      "> \u001b[0;32m<ipython-input-5-e08b7d5d8b07>\u001b[0m(20)\u001b[0;36msome_calc\u001b[0;34m()\u001b[0m\n",
      "\u001b[0;32m     19 \u001b[0;31m    \u001b[0;32mwhile\u001b[0m \u001b[0mi\u001b[0m \u001b[0;34m<\u001b[0m \u001b[0mN\u001b[0m\u001b[0;34m:\u001b[0m\u001b[0;34m\u001b[0m\u001b[0m\n",
      "\u001b[0m\u001b[0;32m---> 20 \u001b[0;31m        \u001b[0mtotal\u001b[0m \u001b[0;34m+=\u001b[0m \u001b[0mnums\u001b[0m\u001b[0;34m[\u001b[0m\u001b[0mi\u001b[0m\u001b[0;34m]\u001b[0m\u001b[0;34m\u001b[0m\u001b[0m\n",
      "\u001b[0m\u001b[0;32m     21 \u001b[0;31m        \u001b[0mi\u001b[0m \u001b[0;34m+=\u001b[0m \u001b[0;36m1\u001b[0m\u001b[0;34m\u001b[0m\u001b[0m\n",
      "\u001b[0m\n",
      "ipdb> l\n",
      "\u001b[1;32m     15 \u001b[0m\u001b[0;34m\u001b[0m\u001b[0m\n",
      "\u001b[1;32m     16 \u001b[0m    \u001b[0mi\u001b[0m \u001b[0;34m=\u001b[0m \u001b[0;36m0\u001b[0m\u001b[0;34m\u001b[0m\u001b[0m\n",
      "\u001b[1;32m     17 \u001b[0m    \u001b[0mtotal\u001b[0m \u001b[0;34m=\u001b[0m \u001b[0;36m0\u001b[0m\u001b[0;34m\u001b[0m\u001b[0m\n",
      "\u001b[1;32m     18 \u001b[0m    \u001b[0mb\u001b[0m \u001b[0;34m=\u001b[0m \u001b[0msome_analysis\u001b[0m\u001b[0;34m(\u001b[0m\u001b[0mnums\u001b[0m\u001b[0;34m)\u001b[0m\u001b[0;34m\u001b[0m\u001b[0m\n",
      "\u001b[1;32m     19 \u001b[0m    \u001b[0;32mwhile\u001b[0m \u001b[0mi\u001b[0m \u001b[0;34m<\u001b[0m \u001b[0mN\u001b[0m\u001b[0;34m:\u001b[0m\u001b[0;34m\u001b[0m\u001b[0m\n",
      "\u001b[0;32m---> 20 \u001b[0;31m        \u001b[0mtotal\u001b[0m \u001b[0;34m+=\u001b[0m \u001b[0mnums\u001b[0m\u001b[0;34m[\u001b[0m\u001b[0mi\u001b[0m\u001b[0;34m]\u001b[0m\u001b[0;34m\u001b[0m\u001b[0m\n",
      "\u001b[0m\u001b[1;32m     21 \u001b[0m        \u001b[0mi\u001b[0m \u001b[0;34m+=\u001b[0m \u001b[0;36m1\u001b[0m\u001b[0;34m\u001b[0m\u001b[0m\n",
      "\u001b[1;32m     22 \u001b[0m    \u001b[0;32mreturn\u001b[0m \u001b[0mfloat\u001b[0m\u001b[0;34m(\u001b[0m\u001b[0mtotal\u001b[0m\u001b[0;34m)\u001b[0m \u001b[0;34m/\u001b[0m \u001b[0mfloat\u001b[0m\u001b[0;34m(\u001b[0m\u001b[0mN\u001b[0m\u001b[0;34m)\u001b[0m\u001b[0;34m\u001b[0m\u001b[0m\n",
      "\u001b[1;32m     23 \u001b[0m\u001b[0;34m\u001b[0m\u001b[0m\n",
      "\u001b[1;32m     24 \u001b[0m\u001b[0;34m\u001b[0m\u001b[0m\n",
      "\u001b[1;32m     25 \u001b[0m\u001b[0;31m#a_list = [1, 2, 3, 4, 5, 6, 10]\u001b[0m\u001b[0;34m\u001b[0m\u001b[0;34m\u001b[0m\u001b[0m\n",
      "\n",
      "ipdb> c\n",
      "4.42857157143\n",
      "DONE!\n"
     ]
    }
   ],
   "source": [
    "from ipdb import set_trace\n",
    "\n",
    "def some_analysis(nums):\n",
    "    b = []\n",
    "    for num in nums:\n",
    "        b.append(1/(num - 5.))\n",
    "    return b\n",
    "                 \n",
    "def some_calc(nums):\n",
    "    \n",
    "    # This sets a break point.\n",
    "    set_trace()\n",
    "    \n",
    "    N = len(nums)\n",
    "    \n",
    "    i = 0\n",
    "    total = 0    \n",
    "    b = some_analysis(nums)\n",
    "    while i < N:\n",
    "        total += nums[i]\n",
    "        i += 1 \n",
    "    return float(total) / float(len(N))\n",
    "\n",
    "\n",
    "#a_list = [1, 2, 3, 4, 5, 6, 10]  \n",
    "\n",
    "epsilon = 1e-6\n",
    "a_list = [1, 2, 3, 4, 5+epsilon, 6, 10]  \n",
    "\n",
    "print(some_calc(a_list))\n",
    "print('DONE!')\n"
   ]
  },
  {
   "cell_type": "markdown",
   "metadata": {},
   "source": [
    "## VI. Testing"
   ]
  },
  {
   "cell_type": "code",
   "execution_count": 1,
   "metadata": {
    "collapsed": true
   },
   "outputs": [],
   "source": [
    "# The assert statement\n",
    "a = 2\n",
    "assert a == 2 "
   ]
  },
  {
   "cell_type": "code",
   "execution_count": 2,
   "metadata": {
    "collapsed": false
   },
   "outputs": [
    {
     "ename": "AssertionError",
     "evalue": "",
     "output_type": "error",
     "traceback": [
      "\u001b[0;31m---------------------------------------------------------------------------\u001b[0m",
      "\u001b[0;31mAssertionError\u001b[0m                            Traceback (most recent call last)",
      "\u001b[0;32m<ipython-input-2-099f1d413c19>\u001b[0m in \u001b[0;36m<module>\u001b[0;34m()\u001b[0m\n\u001b[1;32m      1\u001b[0m \u001b[0ma\u001b[0m \u001b[0;34m=\u001b[0m \u001b[0;36m2\u001b[0m\u001b[0;34m\u001b[0m\u001b[0m\n\u001b[0;32m----> 2\u001b[0;31m \u001b[0;32massert\u001b[0m \u001b[0ma\u001b[0m \u001b[0;34m==\u001b[0m \u001b[0;36m3\u001b[0m\u001b[0;34m\u001b[0m\u001b[0m\n\u001b[0m",
      "\u001b[0;31mAssertionError\u001b[0m: "
     ]
    }
   ],
   "source": [
    "a = 2\n",
    "assert a == 3 "
   ]
  },
  {
   "cell_type": "markdown",
   "metadata": {},
   "source": [
    "## Pytest -- A Very Brief Introduction\n",
    "\n",
    "## http://pytest.org/latest/getting-started.html"
   ]
  },
  {
   "cell_type": "markdown",
   "metadata": {},
   "source": [
    "## Installation:\n",
    "\n",
    "    > pip install -U pytest\n",
    "    \n",
    "## The \"switch\" -U: update pytest if you already have it."
   ]
  },
  {
   "cell_type": "markdown",
   "metadata": {},
   "source": [
    "## To use pytest:\n",
    "\n",
    "- ## Write the tests in a function that starts with test\\_\n",
    "- ## You can then use pytest on your program like this\n",
    "\n",
    "        > py.test your_awesome_program.py\n",
    "        \n",
    "   ## pytest will collect all functions that start with test\\_ and run them\n",
    "    \n",
    "## See example: intro_pytest.py"
   ]
  },
  {
   "cell_type": "markdown",
   "metadata": {},
   "source": [
    "## Breakout Exercise:\n",
    "\n",
    "- ## Write a program called falling_obj.py\n",
    "- ## Use g = 9.8\n",
    "- ## It should have two functions:\n",
    "    - ## height(h0, v0, t), which takes three arguments, the initial height h0, the initial velocity v0, and time, t, and returns the height of a falling object at time t.  If the result is negative, return 0.\n",
    "    - ## vel(h0, v0, t), which takes the same three arguments, and returns the velocity at time t.  It should check the height of the object at t by calling the function height.  If the returned value of height is negative, then return 0 as the velocity.\n",
    "- ## It should have two test functions:\n",
    "    - ## test_height\n",
    "    - ## test_vel\n",
    "##   They should, respectively, check whether the functions height and vel return the correct values for a set of specific values of (h0, v0, t), say, (10, 2, 1).  Obviously, *you* should calculate the answers for each function by hand yourself.  Check also for very large t, say 100000 sec, both functions should return 0.  If everything works as you expect, then intentionally change the functions height and vel, one at a time, so that the formula is a little wrong -- and see if pytest catches the error.\n"
   ]
  },
  {
   "cell_type": "code",
   "execution_count": null,
   "metadata": {
    "collapsed": true
   },
   "outputs": [],
   "source": []
  },
  {
   "cell_type": "markdown",
   "metadata": {},
   "source": [
    "## End of Week1-2"
   ]
  }
 ],
 "metadata": {
  "kernelspec": {
   "display_name": "Python 2",
   "language": "python",
   "name": "python2"
  },
  "language_info": {
   "codemirror_mode": {
    "name": "ipython",
    "version": 2
   },
   "file_extension": ".py",
   "mimetype": "text/x-python",
   "name": "python",
   "nbconvert_exporter": "python",
   "pygments_lexer": "ipython2",
   "version": "2.7.9"
  }
 },
 "nbformat": 4,
 "nbformat_minor": 0
}

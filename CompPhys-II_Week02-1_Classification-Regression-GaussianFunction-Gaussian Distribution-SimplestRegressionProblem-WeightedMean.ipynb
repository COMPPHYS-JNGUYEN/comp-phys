{
 "cells": [
  {
   "cell_type": "markdown",
   "metadata": {},
   "source": [
    "# Lecture Week 2-1"
   ]
  },
  {
   "cell_type": "markdown",
   "metadata": {},
   "source": [
    "## Topics\n",
    "\n",
    "## I. Classification vs. Regression\n",
    "\n",
    "## II. The Gaussian Function\n",
    "\n",
    "## III. The Gaussian Distribution: The Mean, Standard Deviation ($\\sigma$), and Variance ($\\sigma^2$)\n",
    "\n",
    "## IV. The Simplest Regression Problem (Fitting for One Parameter) and the Weighted Mean.\n",
    "\n",
    "## Lab Exercises"
   ]
  },
  {
   "cell_type": "markdown",
   "metadata": {},
   "source": [
    "## I.  Classification vs. Regression\n",
    "\n",
    "-  ## Classification: Find how to place a face/number/letter etc. into a discrete set of groups (Einstein/Bohr, [0, 1, ..., 9], [A, B, ..., Z], etc.).\n",
    "\n",
    "-  ## Regression: Find the best estimate for one or more continuous quantities, given experimental observations.  It's not as different from classification as you may think.  Eventually we will use regression to make predictions -- in that context, you will see similarities between the two.  In fact some machine learning tecniques can be applied to both."
   ]
  },
  {
   "cell_type": "markdown",
   "metadata": {},
   "source": [
    "## II. The Gaussian Function"
   ]
  },
  {
   "cell_type": "code",
   "execution_count": 1,
   "metadata": {
    "collapsed": false,
    "scrolled": true
   },
   "outputs": [
    {
     "data": {
      "text/html": [
       "<iframe src=http://www.usablestats.com/lessons/normal width=700 height=350></iframe>"
      ],
      "text/plain": [
       "<IPython.core.display.HTML object>"
      ]
     },
     "execution_count": 1,
     "metadata": {},
     "output_type": "execute_result"
    }
   ],
   "source": [
    "# Note: different mean and different width.\n",
    "from IPython.core.display import HTML\n",
    "HTML('<iframe src=http://www.usablestats.com/lessons/normal width=700 height=350></iframe>')\n"
   ]
  },
  {
   "cell_type": "markdown",
   "metadata": {},
   "source": [
    "## The profile of the probability distribution is approximately described by a function called the Gaussian."
   ]
  },
  {
   "cell_type": "markdown",
   "metadata": {},
   "source": [
    "## The Gaussian function tells us how likely (the probability is represented by $P$ below) it is for a certain quantity (in the above example, height, represented by $x$) to have a certain value.\n",
    "\n",
    "\n",
    "##$$\n",
    "P(x) = ae^{ - {(x - \\mu)^2 \\over {2 \\sigma^2}}}\n",
    "$$\n",
    "\n",
    "\n",
    "\n",
    "-  ## The location for peak of the distribution is usually refered to as $\\mu$, and it is also the average value of the distribution (or the mean; in our case, it's the average height of men or women).\n",
    "\n",
    "- ## The \"width\" of the distribtuion is captured by \"sigma\" ($\\sigma$).  It's also called the standard deviation, as you will see later.\n",
    "\n",
    "\n",
    "\n",
    "## For the standard Gaussian, $a = {1 \\over {\\sigma \\sqrt{2 \\pi}}}$.  This way, the area underneath the Gaussian is 1 -- as the total probability of a woman (or a man) to have *some* height is 1."
   ]
  },
  {
   "cell_type": "code",
   "execution_count": 2,
   "metadata": {
    "collapsed": false
   },
   "outputs": [
    {
     "data": {
      "text/html": [
       "<iframe src=http://images-01.delcampe-static.net/img_large/auction/000/328/188/006_001.jpg?v=2 width=1000 height=350></iframe>)"
      ],
      "text/plain": [
       "<IPython.core.display.HTML object>"
      ]
     },
     "execution_count": 2,
     "metadata": {},
     "output_type": "execute_result"
    }
   ],
   "source": [
    "from IPython.core.display import HTML\n",
    "HTML('<iframe src=http://images-01.delcampe-static.net/img_large/auction/000/328/188/006_001.jpg?v=2 width=1000 height=350></iframe>)')"
   ]
  },
  {
   "cell_type": "markdown",
   "metadata": {},
   "source": [
    "## Breakout Exercises:\n",
    "\n",
    "## Write a class, Gaussian.  It should have \n",
    "\n",
    "- ###  two attributes, mean and sigma, initialized to 0 and 1.\n",
    "- ###  a method, called Calc_P, which takes an argument x, and calculates the probability for x.\n",
    "\n",
    "## At the time of instantiation, you may using the default mean and sigma.\n",
    "\n",
    "## Create an object of class Gaussian; call it standard_gauss.\n",
    "\n",
    "## Use standard_gauss to calculate the probability of a single value of x, say x = 3.\n",
    "\n",
    "## Use standard_gauss to calculate the probabilities of all the numbers in an array x, which has 1000 equally spaced values between -10 and 10.  Call the probabilities, y.  Then make an inline plot of y vs. x.\n",
    "\n",
    "## Create another object of class Gaussian, with mean = 3 and sigma =2.5; call it gauss.\n",
    "\n",
    "## Use guass to calculate the probabilities for the same array x.  Call the probabilities, y2.  On the same inline figure above, plot y2 vs. x.\n",
    "\n",
    "## Students who have taken CP-I should code."
   ]
  },
  {
   "cell_type": "code",
   "execution_count": 23,
   "metadata": {
    "collapsed": false
   },
   "outputs": [
    {
     "data": {
      "image/png": "[encoded data removed]",
      "text/plain": [
       "<matplotlib.figure.Figure at 0x110802190>"
      ]
     },
     "metadata": {},
     "output_type": "display_data"
    }
   ],
   "source": [
    "%matplotlib inline\n",
    "\n",
    "import numpy as np\n",
    "import matplotlib.pyplot as plt\n",
    "\n",
    "class Gaussian:\n",
    "    def __init__(self, mean=0., sigma=1.):\n",
    "        self.mean = mean\n",
    "        self.sigma = sigma\n",
    "        \n",
    "    def Calc_P(self, x):\n",
    "        a = 1./(self.sigma*(np.sqrt(2*np.pi)))\n",
    "        P = a*np.exp(-((x - self.mean)**2)/(2.*(self.sigma**2)))\n",
    "        return P\n",
    "    \n",
    "standard_gauss = Gaussian()\n",
    "prob = standard_gauss.Calc_P(3)\n",
    "# print(prob)\n",
    "x = np.linspace(-10., 10., 1000)\n",
    "y = standard_gauss.Calc_P(arr)\n",
    "\n",
    "plt.figure()\n",
    "plt.plot(x, y)\n",
    "# plt.xlim(-5, 5)\n",
    "\n",
    "gauss = Gaussian(mean=3, sigma=2.5)\n",
    "y2 = gauss.Calc_P(x)\n",
    "\n",
    "plt.plot(x, y2)\n",
    "\n",
    "plt.show()"
   ]
  },
  {
   "cell_type": "markdown",
   "metadata": {},
   "source": [
    "## II. The Gaussian Distribution\n",
    "\n",
    "### Before you meet someone, that person's height is a random variable to you.  But that doesn't mean you have zero predictive power over the height of that person.  For example, if you know that person is a woman, it's likely that the height is within a few inches of 5'5.\n",
    "\n",
    "### \\*\\*\\*\n",
    "\n",
    "### This is a VERY important insight: \n",
    "\n",
    "### _Just because a quantity is random, it does NOT necessarliy mean that you have zero knowledge over it!!!_\n",
    "\n",
    "### In fact, you often have _statistical knowledge_ over it.  \n",
    "\n",
    "### You may even argue all of modern science (social or physical) make use of this realization.\n",
    "\n",
    "### \\*\\*\\*\n",
    "\n",
    "\n",
    "### As you saw in the example of the heights of men and women above, if you know the *distribution* of that random variable, you can make some kind of prediction -- a statistical prediction: a woman will likely have a height of 5'5 plus minus a couple of inches, more likely than having a height around 5'10. "
   ]
  },
  {
   "cell_type": "markdown",
   "metadata": {},
   "source": [
    "## A distribution built from data, say the data of heights, is basically a histogram: You divide weights into different bins, and then count how many people are in each bin. "
   ]
  },
  {
   "cell_type": "markdown",
   "metadata": {},
   "source": [
    "## We now know how to simulate random variables that follow many different kinds of distribution."
   ]
  },
  {
   "cell_type": "markdown",
   "metadata": {},
   "source": [
    "## The module you want to use is: numpy.random, for example:\n",
    "\n",
    "- numpy.random.rand()\n",
    "- numpy.random.randn()\n",
    "\n",
    "(For more distributions, go to http://docs.scipy.org/doc/numpy/reference/routines.random.html)"
   ]
  },
  {
   "cell_type": "code",
   "execution_count": 75,
   "metadata": {
    "collapsed": false
   },
   "outputs": [
    {
     "name": "stdout",
     "output_type": "stream",
     "text": [
      "0.783856486452\n"
     ]
    }
   ],
   "source": [
    "# repeat running this cell a few times\n",
    "from numpy.random import rand\n",
    "x = rand()\n",
    "print(x)"
   ]
  },
  {
   "cell_type": "code",
   "execution_count": 280,
   "metadata": {
    "collapsed": false
   },
   "outputs": [
    {
     "name": "stdout",
     "output_type": "stream",
     "text": [
      "0.224294258374\n"
     ]
    }
   ],
   "source": [
    "# repeat running this cell a few times\n",
    "from numpy.random import randn\n",
    "x = randn()\n",
    "print(x)"
   ]
  },
  {
   "cell_type": "code",
   "execution_count": 330,
   "metadata": {
    "collapsed": false
   },
   "outputs": [
    {
     "name": "stdout",
     "output_type": "stream",
     "text": [
      "Uniform Random Variable:\n",
      " [ 0.72674995  0.13838385  0.00129362  0.635223    0.11859033  0.69548045\n",
      "  0.13242757  0.14531121  0.41583868  0.56443307]\n"
     ]
    }
   ],
   "source": [
    "x_u = rand(10)\n",
    "print('Uniform Random Variable:\\n {}'.format(x_u))"
   ]
  },
  {
   "cell_type": "code",
   "execution_count": 417,
   "metadata": {
    "collapsed": false
   },
   "outputs": [
    {
     "name": "stdout",
     "output_type": "stream",
     "text": [
      "Gaussian (Normal) Random Variable:\n",
      " [-0.20752564  0.34654691 -0.44468358 -1.50551787  0.41757748  0.49610983\n",
      " -1.09235905  0.65675961 -0.56661432 -1.11672074]\n"
     ]
    }
   ],
   "source": [
    "x_n = randn(10)\n",
    "print('Gaussian (Normal) Random Variable:\\n {}'.format(x_n))"
   ]
  },
  {
   "cell_type": "code",
   "execution_count": 418,
   "metadata": {
    "collapsed": false
   },
   "outputs": [
    {
     "name": "stdout",
     "output_type": "stream",
     "text": [
      "The min, max, and mean of a normally distributedly random variable:\n",
      "       0.000483472786471, 0.995971966375, 0.509866031353\n"
     ]
    }
   ],
   "source": [
    "# A \"standard\" uniform random variable, or a uniformly distributed random variable \n",
    "# has a mean of 0.5, and can take on values between 0 and +1.  \n",
    "# Any real number between 0 and 1 is *equally* probable.\n",
    "x_u = rand(1000)\n",
    "print('The min, max, and mean of a normally distributedly random variable:\\n \\\n",
    "      {}, {}, {}'.format(x_u.min(),  x_u.max(), x_u.mean()))"
   ]
  },
  {
   "cell_type": "code",
   "execution_count": 668,
   "metadata": {
    "collapsed": false
   },
   "outputs": [
    {
     "name": "stdout",
     "output_type": "stream",
     "text": [
      "The min, max, and mean of a normally distributedly random variable:\n",
      "       -2.86327615839, 3.52233489987, 0.0179134209622\n"
     ]
    }
   ],
   "source": [
    "# As mentioned before, a \"standard\" Gaussian random variable, or a normally distributed \n",
    "# random variable has zero mean, and can take on values between -inf and +inf.\n",
    "# Numbers with large absolute values are less probable. \n",
    "x_n = randn(1000)\n",
    "print('The min, max, and mean of a normally distributedly random variable:\\n \\\n",
    "      {}, {}, {}'.format(x_n.min(),  x_n.max(), x_n.mean()))"
   ]
  },
  {
   "cell_type": "code",
   "execution_count": 774,
   "metadata": {
    "collapsed": false
   },
   "outputs": [
    {
     "name": "stdout",
     "output_type": "stream",
     "text": [
      "Yay\n",
      "Yay\n",
      "Yay\n",
      "Yay\n",
      "Yay\n",
      "Yay\n",
      "Yay\n",
      "The min, max, and mean of a normally distributedly random variable:\n",
      "       -4.17245607905, 4.22159890253, -0.00325510627059\n"
     ]
    }
   ],
   "source": [
    "i = 0\n",
    "while i<100:\n",
    "    x_n = randn(100000)\n",
    "    if x_n.min()<-5.:\n",
    "        print(\"Yay\")\n",
    "    if x_n.max()>5.:\n",
    "        print('Yay')\n",
    "    i += 1\n",
    "print('The min, max, and mean of a normally distributedly random variable:\\n \\\n",
    "      {}, {}, {}'.format(x_n.min(),  x_n.max(), x_n.mean()))"
   ]
  },
  {
   "cell_type": "markdown",
   "metadata": {},
   "source": [
    "## Let's now focus on the Gaussian distribution"
   ]
  },
  {
   "cell_type": "code",
   "execution_count": 671,
   "metadata": {
    "collapsed": true
   },
   "outputs": [],
   "source": [
    "# shifting the mean\n",
    "x_n_pr = x_n + 3."
   ]
  },
  {
   "cell_type": "markdown",
   "metadata": {},
   "source": [
    "## What's the mean of x_n_pr?"
   ]
  },
  {
   "cell_type": "code",
   "execution_count": 672,
   "metadata": {
    "collapsed": false
   },
   "outputs": [
    {
     "name": "stdout",
     "output_type": "stream",
     "text": [
      "3.02863341059\n"
     ]
    }
   ],
   "source": [
    "print(x_n_pr.mean())"
   ]
  },
  {
   "cell_type": "code",
   "execution_count": 673,
   "metadata": {
    "collapsed": true
   },
   "outputs": [],
   "source": [
    "# Changing the sigma.\n",
    "x_n_pr = x_n*2"
   ]
  },
  {
   "cell_type": "markdown",
   "metadata": {},
   "source": [
    "## As you know, $\\sigma$ tells you how wide the distribution is.\n",
    "\n",
    "## Given a set of random numbers, $x_i$, drawn from a certain kind of distribution, there is a way to estimate how spread out the distribution is -- you can find out the variance of these numbers:\n",
    "\n",
    "\n",
    "## $$\n",
    "Var = \\sum_{i}{(x_i - \\mu)^2}\n",
    "$$\n",
    "\n",
    "## and the standard deviation, S:\n",
    "\n",
    "## $$\n",
    "S = \\sqrt{Var}\n",
    "$$\n",
    " \n",
    "## For the Gaussian distribution, the standard deviation is the same as $\\sigma$!\n",
    "\n",
    "## This is one of many reasons that the Gaussian is so useful.\n",
    "\n",
    "\n",
    "## For some other distributions, there may not even be a $\\sigma$ in its definition (e.g. the uniform distribution), or there may be a $\\sigma$ in its definition that is related to its width (e.g., the Rayleigh distribution), but $S$ is not the same as that quantity.\n",
    "\n",
    "## Often, we assume a distribution is Gaussian; in that case,\n",
    "\n",
    "## $$Var = S^2 = \\sigma^2$$\n",
    "\n",
    "## But keep in mind that if your assumption is wrong, then this is no longer true!\n"
   ]
  },
  {
   "cell_type": "markdown",
   "metadata": {},
   "source": [
    "## Let's change both the mean and the sigma of a Gaussian distribution"
   ]
  },
  {
   "cell_type": "code",
   "execution_count": 776,
   "metadata": {
    "collapsed": false
   },
   "outputs": [
    {
     "name": "stdout",
     "output_type": "stream",
     "text": [
      "3.00077967848\n",
      "1.99809140363\n"
     ]
    }
   ],
   "source": [
    "# Generate Gaussian random variables with non-standard mean and sigma \n",
    "# and then verify through calculating the mean and the standard deviation.\n",
    "import numpy as np\n",
    "from numpy.random import randn\n",
    "avg = 3.\n",
    "sig = 2.\n",
    "\n",
    "x = randn(100000)*sig + avg\n",
    "# print(x)\n",
    "print(np.mean(x))\n",
    "print(np.std(x))"
   ]
  },
  {
   "cell_type": "markdown",
   "metadata": {},
   "source": [
    "## Breakout Exercise:\n",
    "\n",
    "## Generate 10000 random numbers that follow the Gaussian distribution, with a mean of 100, and sigma of 15.\n",
    "\n",
    "## Calculate its mean and standard deviation to verify that the random numbers you have generated follow the right kind of distribution.\n",
    "\n",
    "## Plot the histogram using matplotlib.pyplot.hist (feel free to look it up online if you forget how to use it).  Try using 25 bins.\n",
    "\n",
    "## Students who haven't taken CP-I should code with assistance from those who have (you can even help them set axis limits)."
   ]
  },
  {
   "cell_type": "code",
   "execution_count": 783,
   "metadata": {
    "collapsed": false
   },
   "outputs": [
    {
     "name": "stdout",
     "output_type": "stream",
     "text": [
      "100.203333453\n",
      "14.9877000591\n"
     ]
    },
    {
     "data": {
      "image/png": "[encoded data removed]",
      "text/plain": [
       "<matplotlib.figure.Figure at 0x110665710>"
      ]
     },
     "metadata": {},
     "output_type": "display_data"
    }
   ],
   "source": [
    "%matplotlib inline\n",
    "import numpy as np\n",
    "import matplotlib.pyplot as plt\n",
    "\n",
    "avg = 100.\n",
    "sigma = 15.\n",
    "x = randn(10000)*sigma+avg\n",
    "print(np.mean(x))\n",
    "print(np.std(x))\n",
    "plt.figure()\n",
    "bin_heights, xbins, patches = plt.hist(x, bins=25)\n",
    "plt.show()"
   ]
  },
  {
   "cell_type": "code",
   "execution_count": 784,
   "metadata": {
    "collapsed": false
   },
   "outputs": [
    {
     "name": "stdout",
     "output_type": "stream",
     "text": [
      "bin_heights (normalized):\n",
      "[    2.     0.     8.    12.    41.    88.   170.   278.   448.   701.\n",
      "   862.  1110.  1154.  1184.  1132.   954.   711.   509.   300.   161.\n",
      "    97.    47.    21.     6.     4.]\n",
      "bins (locations of bin edges):\n",
      "[  40.07907352   44.67375244   49.26843135   53.86311027   58.45778918\n",
      "   63.0524681    67.64714701   72.24182593   76.83650484   81.43118376\n",
      "   86.02586267   90.62054159   95.2152205    99.80989941  104.40457833\n",
      "  108.99925724  113.59393616  118.18861507  122.78329399  127.3779729\n",
      "  131.97265182  136.56733073  141.16200965  145.75668856  150.35136748\n",
      "  154.94604639]\n"
     ]
    }
   ],
   "source": [
    "# To help you understand what's going on:\n",
    "print('bin_heights (normalized):\\n{:s}'.format(bin_heights)) \n",
    "print('bins (locations of bin edges):\\n{:s}'.format(xbins))\n",
    "# patches is a list that has information on the height of each bin \n",
    "# and the shape it's plotted as (rectangle, in our case)."
   ]
  },
  {
   "cell_type": "code",
   "execution_count": 785,
   "metadata": {
    "collapsed": false
   },
   "outputs": [
    {
     "ename": "ValueError",
     "evalue": "x and y must have same first dimension",
     "output_type": "error",
     "traceback": [
      "\u001b[0;31m---------------------------------------------------------------------------\u001b[0m",
      "\u001b[0;31mValueError\u001b[0m                                Traceback (most recent call last)",
      "\u001b[0;32m<ipython-input-785-158f8bdc29f8>\u001b[0m in \u001b[0;36m<module>\u001b[0;34m()\u001b[0m\n\u001b[1;32m      1\u001b[0m \u001b[0mplt\u001b[0m\u001b[0;34m.\u001b[0m\u001b[0mfigure\u001b[0m\u001b[0;34m(\u001b[0m\u001b[0;34m)\u001b[0m\u001b[0;34m\u001b[0m\u001b[0m\n\u001b[0;32m----> 2\u001b[0;31m \u001b[0mplt\u001b[0m\u001b[0;34m.\u001b[0m\u001b[0mplot\u001b[0m\u001b[0;34m(\u001b[0m\u001b[0mxbins\u001b[0m \u001b[0;34m,\u001b[0m\u001b[0mbin_heights\u001b[0m\u001b[0;34m)\u001b[0m\u001b[0;34m\u001b[0m\u001b[0m\n\u001b[0m\u001b[1;32m      3\u001b[0m \u001b[0mplt\u001b[0m\u001b[0;34m.\u001b[0m\u001b[0mshow\u001b[0m\u001b[0;34m(\u001b[0m\u001b[0;34m)\u001b[0m\u001b[0;34m\u001b[0m\u001b[0m\n",
      "\u001b[0;32m/Users/labuser/Library/Enthought/Canopy_64bit/User/lib/python2.7/site-packages/matplotlib/pyplot.pyc\u001b[0m in \u001b[0;36mplot\u001b[0;34m(*args, **kwargs)\u001b[0m\n\u001b[1;32m   3097\u001b[0m         \u001b[0max\u001b[0m\u001b[0;34m.\u001b[0m\u001b[0mhold\u001b[0m\u001b[0;34m(\u001b[0m\u001b[0mhold\u001b[0m\u001b[0;34m)\u001b[0m\u001b[0;34m\u001b[0m\u001b[0m\n\u001b[1;32m   3098\u001b[0m     \u001b[0;32mtry\u001b[0m\u001b[0;34m:\u001b[0m\u001b[0;34m\u001b[0m\u001b[0m\n\u001b[0;32m-> 3099\u001b[0;31m         \u001b[0mret\u001b[0m \u001b[0;34m=\u001b[0m \u001b[0max\u001b[0m\u001b[0;34m.\u001b[0m\u001b[0mplot\u001b[0m\u001b[0;34m(\u001b[0m\u001b[0;34m*\u001b[0m\u001b[0margs\u001b[0m\u001b[0;34m,\u001b[0m \u001b[0;34m**\u001b[0m\u001b[0mkwargs\u001b[0m\u001b[0;34m)\u001b[0m\u001b[0;34m\u001b[0m\u001b[0m\n\u001b[0m\u001b[1;32m   3100\u001b[0m         \u001b[0mdraw_if_interactive\u001b[0m\u001b[0;34m(\u001b[0m\u001b[0;34m)\u001b[0m\u001b[0;34m\u001b[0m\u001b[0m\n\u001b[1;32m   3101\u001b[0m     \u001b[0;32mfinally\u001b[0m\u001b[0;34m:\u001b[0m\u001b[0;34m\u001b[0m\u001b[0m\n",
      "\u001b[0;32m/Users/labuser/Library/Enthought/Canopy_64bit/User/lib/python2.7/site-packages/matplotlib/axes/_axes.pyc\u001b[0m in \u001b[0;36mplot\u001b[0;34m(self, *args, **kwargs)\u001b[0m\n\u001b[1;32m   1371\u001b[0m         \u001b[0mlines\u001b[0m \u001b[0;34m=\u001b[0m \u001b[0;34m[\u001b[0m\u001b[0;34m]\u001b[0m\u001b[0;34m\u001b[0m\u001b[0m\n\u001b[1;32m   1372\u001b[0m \u001b[0;34m\u001b[0m\u001b[0m\n\u001b[0;32m-> 1373\u001b[0;31m         \u001b[0;32mfor\u001b[0m \u001b[0mline\u001b[0m \u001b[0;32min\u001b[0m \u001b[0mself\u001b[0m\u001b[0;34m.\u001b[0m\u001b[0m_get_lines\u001b[0m\u001b[0;34m(\u001b[0m\u001b[0;34m*\u001b[0m\u001b[0margs\u001b[0m\u001b[0;34m,\u001b[0m \u001b[0;34m**\u001b[0m\u001b[0mkwargs\u001b[0m\u001b[0;34m)\u001b[0m\u001b[0;34m:\u001b[0m\u001b[0;34m\u001b[0m\u001b[0m\n\u001b[0m\u001b[1;32m   1374\u001b[0m             \u001b[0mself\u001b[0m\u001b[0;34m.\u001b[0m\u001b[0madd_line\u001b[0m\u001b[0;34m(\u001b[0m\u001b[0mline\u001b[0m\u001b[0;34m)\u001b[0m\u001b[0;34m\u001b[0m\u001b[0m\n\u001b[1;32m   1375\u001b[0m             \u001b[0mlines\u001b[0m\u001b[0;34m.\u001b[0m\u001b[0mappend\u001b[0m\u001b[0;34m(\u001b[0m\u001b[0mline\u001b[0m\u001b[0;34m)\u001b[0m\u001b[0;34m\u001b[0m\u001b[0m\n",
      "\u001b[0;32m/Users/labuser/Library/Enthought/Canopy_64bit/User/lib/python2.7/site-packages/matplotlib/axes/_base.pyc\u001b[0m in \u001b[0;36m_grab_next_args\u001b[0;34m(self, *args, **kwargs)\u001b[0m\n\u001b[1;32m    302\u001b[0m                 \u001b[0;32mreturn\u001b[0m\u001b[0;34m\u001b[0m\u001b[0m\n\u001b[1;32m    303\u001b[0m             \u001b[0;32mif\u001b[0m \u001b[0mlen\u001b[0m\u001b[0;34m(\u001b[0m\u001b[0mremaining\u001b[0m\u001b[0;34m)\u001b[0m \u001b[0;34m<=\u001b[0m \u001b[0;36m3\u001b[0m\u001b[0;34m:\u001b[0m\u001b[0;34m\u001b[0m\u001b[0m\n\u001b[0;32m--> 304\u001b[0;31m                 \u001b[0;32mfor\u001b[0m \u001b[0mseg\u001b[0m \u001b[0;32min\u001b[0m \u001b[0mself\u001b[0m\u001b[0;34m.\u001b[0m\u001b[0m_plot_args\u001b[0m\u001b[0;34m(\u001b[0m\u001b[0mremaining\u001b[0m\u001b[0;34m,\u001b[0m \u001b[0mkwargs\u001b[0m\u001b[0;34m)\u001b[0m\u001b[0;34m:\u001b[0m\u001b[0;34m\u001b[0m\u001b[0m\n\u001b[0m\u001b[1;32m    305\u001b[0m                     \u001b[0;32myield\u001b[0m \u001b[0mseg\u001b[0m\u001b[0;34m\u001b[0m\u001b[0m\n\u001b[1;32m    306\u001b[0m                 \u001b[0;32mreturn\u001b[0m\u001b[0;34m\u001b[0m\u001b[0m\n",
      "\u001b[0;32m/Users/labuser/Library/Enthought/Canopy_64bit/User/lib/python2.7/site-packages/matplotlib/axes/_base.pyc\u001b[0m in \u001b[0;36m_plot_args\u001b[0;34m(self, tup, kwargs)\u001b[0m\n\u001b[1;32m    280\u001b[0m             \u001b[0mx\u001b[0m \u001b[0;34m=\u001b[0m \u001b[0mnp\u001b[0m\u001b[0;34m.\u001b[0m\u001b[0marange\u001b[0m\u001b[0;34m(\u001b[0m\u001b[0my\u001b[0m\u001b[0;34m.\u001b[0m\u001b[0mshape\u001b[0m\u001b[0;34m[\u001b[0m\u001b[0;36m0\u001b[0m\u001b[0;34m]\u001b[0m\u001b[0;34m,\u001b[0m \u001b[0mdtype\u001b[0m\u001b[0;34m=\u001b[0m\u001b[0mfloat\u001b[0m\u001b[0;34m)\u001b[0m\u001b[0;34m\u001b[0m\u001b[0m\n\u001b[1;32m    281\u001b[0m \u001b[0;34m\u001b[0m\u001b[0m\n\u001b[0;32m--> 282\u001b[0;31m         \u001b[0mx\u001b[0m\u001b[0;34m,\u001b[0m \u001b[0my\u001b[0m \u001b[0;34m=\u001b[0m \u001b[0mself\u001b[0m\u001b[0;34m.\u001b[0m\u001b[0m_xy_from_xy\u001b[0m\u001b[0;34m(\u001b[0m\u001b[0mx\u001b[0m\u001b[0;34m,\u001b[0m \u001b[0my\u001b[0m\u001b[0;34m)\u001b[0m\u001b[0;34m\u001b[0m\u001b[0m\n\u001b[0m\u001b[1;32m    283\u001b[0m \u001b[0;34m\u001b[0m\u001b[0m\n\u001b[1;32m    284\u001b[0m         \u001b[0;32mif\u001b[0m \u001b[0mself\u001b[0m\u001b[0;34m.\u001b[0m\u001b[0mcommand\u001b[0m \u001b[0;34m==\u001b[0m \u001b[0;34m'plot'\u001b[0m\u001b[0;34m:\u001b[0m\u001b[0;34m\u001b[0m\u001b[0m\n",
      "\u001b[0;32m/Users/labuser/Library/Enthought/Canopy_64bit/User/lib/python2.7/site-packages/matplotlib/axes/_base.pyc\u001b[0m in \u001b[0;36m_xy_from_xy\u001b[0;34m(self, x, y)\u001b[0m\n\u001b[1;32m    221\u001b[0m         \u001b[0my\u001b[0m \u001b[0;34m=\u001b[0m \u001b[0mnp\u001b[0m\u001b[0;34m.\u001b[0m\u001b[0matleast_1d\u001b[0m\u001b[0;34m(\u001b[0m\u001b[0my\u001b[0m\u001b[0;34m)\u001b[0m\u001b[0;34m\u001b[0m\u001b[0m\n\u001b[1;32m    222\u001b[0m         \u001b[0;32mif\u001b[0m \u001b[0mx\u001b[0m\u001b[0;34m.\u001b[0m\u001b[0mshape\u001b[0m\u001b[0;34m[\u001b[0m\u001b[0;36m0\u001b[0m\u001b[0;34m]\u001b[0m \u001b[0;34m!=\u001b[0m \u001b[0my\u001b[0m\u001b[0;34m.\u001b[0m\u001b[0mshape\u001b[0m\u001b[0;34m[\u001b[0m\u001b[0;36m0\u001b[0m\u001b[0;34m]\u001b[0m\u001b[0;34m:\u001b[0m\u001b[0;34m\u001b[0m\u001b[0m\n\u001b[0;32m--> 223\u001b[0;31m             \u001b[0;32mraise\u001b[0m \u001b[0mValueError\u001b[0m\u001b[0;34m(\u001b[0m\u001b[0;34m\"x and y must have same first dimension\"\u001b[0m\u001b[0;34m)\u001b[0m\u001b[0;34m\u001b[0m\u001b[0m\n\u001b[0m\u001b[1;32m    224\u001b[0m         \u001b[0;32mif\u001b[0m \u001b[0mx\u001b[0m\u001b[0;34m.\u001b[0m\u001b[0mndim\u001b[0m \u001b[0;34m>\u001b[0m \u001b[0;36m2\u001b[0m \u001b[0;32mor\u001b[0m \u001b[0my\u001b[0m\u001b[0;34m.\u001b[0m\u001b[0mndim\u001b[0m \u001b[0;34m>\u001b[0m \u001b[0;36m2\u001b[0m\u001b[0;34m:\u001b[0m\u001b[0;34m\u001b[0m\u001b[0m\n\u001b[1;32m    225\u001b[0m             \u001b[0;32mraise\u001b[0m \u001b[0mValueError\u001b[0m\u001b[0;34m(\u001b[0m\u001b[0;34m\"x and y can be no greater than 2-D\"\u001b[0m\u001b[0;34m)\u001b[0m\u001b[0;34m\u001b[0m\u001b[0m\n",
      "\u001b[0;31mValueError\u001b[0m: x and y must have same first dimension"
     ]
    },
    {
     "data": {
      "image/png": "[encoded data removed]",
      "text/plain": [
       "<matplotlib.figure.Figure at 0x10bfbaf10>"
      ]
     },
     "metadata": {},
     "output_type": "display_data"
    }
   ],
   "source": [
    "plt.figure()\n",
    "plt.plot(xbins ,bin_heights)\n",
    "plt.show()"
   ]
  },
  {
   "cell_type": "markdown",
   "metadata": {},
   "source": [
    "## Breakout Excercise: Use bin_heights and xbins to plot the outline of the histograms"
   ]
  },
  {
   "cell_type": "markdown",
   "metadata": {},
   "source": [
    "# 5 Min Break"
   ]
  },
  {
   "cell_type": "markdown",
   "metadata": {},
   "source": [
    "## IV. The Simplest Linear Regression -- Fitting for One Parameter \n",
    "\n",
    "### (Recall it’s a regression problem if we are trying to determine the value of a continuous quantity the best we can.)\n",
    "\n",
    "### In the discussion below the assumptions (there are two) we make are sandwiched between long, opposite-facing arrows:\n",
    "\n",
    "### --->                     <---"
   ]
  },
  {
   "cell_type": "markdown",
   "metadata": {},
   "source": [
    "### A) The goal of experimental science: You make measurements to gain knowledge about reality.  We will make a more practical statement of this at the end of this sub-section.\n",
    "\n",
    "For example, let’s say, you make several temperature measurements to find out the true temperature of a room.\n",
    "\n",
    "Let’s call the results of these measurements data, $D$.  $D$ of course consist of all the measured temperature values.  If you have measured the temperature $N$ times, and the temperature value you get for the $i$th measurement is $t_i$,  then $D$ = {$t_1$, $t_2$, $t_3$, …, $t_N$} = {$t_i$}.\n",
    "\n",
    "In what follows below:\n",
    "\n",
    "$T_{true}$: The true temperature\n",
    "\n",
    "$T$: The value of a guess we have for $T_{true}$\n",
    "\n",
    "$T_{best}$: Our best guess for $T_{true}$ according to some criterion.\n",
    "\n",
    "$t$: Experimental result of a temperature measurement.\n",
    "\n",
    "Each of your temperature measurements will have uncertainty.  Intuitively you know that: \n",
    "\n",
    "-  It’s more likely to have a measured value that is close to the true temperature than to have one that is far away.   \n",
    "-  The more accurate your measurements (e.g., you have high quality equipment), the less likely it is to have a measured value that is very far away from the true temperature.\n",
    "\n",
    "\n",
    "Mathematically we assume:\n",
    "\n",
    "--->  We can model the probability of getting a certain measurement result using a Gaussian, with the true value of the quantity as $\\mu$ and the measurement uncertainty as the width ($\\sigma$) of the Gaussian <---\n",
    "\n",
    "If the difference between the measured value ($t$) and the the true temperature ($T_{true}$) is ($t - T_{true}$), the probability of such a measurement occurring is \n",
    "\n",
    "$P(t; T) = \\frac{1}{\\sqrt{2\\pi\\sigma}} e^{ \\frac{ (t - T_{true})^2 } { 2\\sigma^2 }}$\t(1)\n",
    "\n",
    "Given the uncertainty, which will always be there, you can never know the temperature for sure based on your data.  But based on your data, you try to make the best estimate for the true temperature.\n",
    "\n",
    "### This is the goal of any experimental science. "
   ]
  },
  {
   "cell_type": "markdown",
   "metadata": {},
   "source": [
    "### B) To state the goal at the end of A) more formally:\n",
    "\n",
    "Question 1 — _Given a set of data, what is the probability that the true temperature, $T_{true}$, has a value $T$?_  \n",
    "\n",
    "If we can answer Question 1 then it’d be easy to obtain our best estimate for the true temperature:\n",
    "\n",
    "_The temperature value that has the highest probability (as defined in Question 1) is our best estimate for the true temperature._  \n",
    "\n",
    "For example, suppose you have made three measurements, and you get\n",
    "\n",
    "$$t_1 = 68.5 \\pm 0.5$$\n",
    "$$t_2 = 68.3 \\pm 0.5$$\n",
    "$$t_3 = 68.9 \\pm 0.5$$\n",
    "\n",
    "The quantity that follows $\\pm$ is the uncertainty, or sigma (see eqn (1) above).\n",
    "\n",
    "Based on the data and the uncertainty, if someone asks you:\n",
    "\n",
    "-  How likely is it that the true temperature, $T_{true}$, is 30?  You say, “No way!”  (Very low probability)\n",
    "\n",
    "-  How likely is it that $T_{true}$ is 69?  You say, “I guess it’s possible.” (Intermediate probability)\n",
    "\n",
    "-  How likely is it that $T_{true}$ is 68.5?  You say, “Quite possible.” (High probability)\n",
    "\n",
    "If there is a way to calculate the probability for the different possible temperature values, $T$, as being $T_{true}$, then as I said, we can simply maximize that probability, and the temperature value that corresponds to the maximum probability is our best guess for the true temperature.\n"
   ]
  },
  {
   "cell_type": "markdown",
   "metadata": {},
   "source": [
    "### C) To re-state B) Mathematically:\n",
    "\n",
    "-  We first find the probability that the true temperature has the value $T$ given the data set $D$,\n",
    "\n",
    "   $$P(T|D)$$ \n",
    "   \n",
    "   \n",
    "\n",
    "-  Then we maximize $P(T|D)$: The $T$ value that maximizes this probability will give us the best guess for the true temperature.\n",
    "\n",
    "### It turns out you *CANNOT* derive an expression for this probability. "
   ]
  },
  {
   "cell_type": "markdown",
   "metadata": {},
   "source": [
    "### D) So we try another Route:\n",
    "\n",
    "The probability for which we *CAN* derive an expression for is this:\n",
    "\n",
    "Question 2: _Given the true temperature having a value ${T}$, what is the probability that the observed data set should have occurred?”_ \n",
    "\n",
    "Mathematically you can write this as \n",
    "\n",
    "$$P(D|T)$$\n",
    "\n",
    "again, the probability that the observed data turns out to be $D$, given the true temperature has a value of $T$.\n",
    "\n",
    "Note that Question 2 is different from Question 1!\n",
    "\n",
    "Let’s focus on Question 2 for a moment.  The reason that Question 2 is answerable mathematically is that if the true temperature has value $T$, then the probability you will have a measured value of $t_1$ is (see eqn (1) above): \n",
    "\n",
    "$P(t_1; T) = \\frac{1}{\\sqrt{2\\pi\\sigma}} e^{ \\frac{ (t_1 - T)^2 } { 2\\sigma^2 }}$ \n",
    "\n",
    "Likewise, the probabilities you would have measured values $t_2$ and $t_3$, are  \n",
    "\n",
    "$P(t_2; T) = \\frac{1}{\\sqrt{2\\pi\\sigma}} e^{ \\frac{ (t_2 - T)^2 } { 2\\sigma^2 }}$ \n",
    "\n",
    "$P(t_3; T) = \\frac{1}{\\sqrt{2\\pi\\sigma}} e^{ \\frac{ (t_3 - T)^2 } { 2\\sigma^2 }}$ \n",
    "\n",
    "\n",
    "The probability that you have all three measured values is\n",
    "\n",
    "$P(D|T) = P(t_1, t_2, t_3; T) = P(t_1; T)P(t_2; T)P(t_3; T)$\n",
    "\n",
    "#### We have just answered Question 2!\n",
    "\n",
    "Let’s continue…\n",
    "\n",
    "Given this expression, you can try using different $T$ values and see which one gives you the highest probability.  But the best way to do this is to do \n",
    "\n",
    "\n",
    "$$dP(D|T)/dT  = dP(t_1, t_2, t_3; T)/dT = 0$$\n",
    "\n",
    "Since you now have an explicit mathematical expression for $P(D|T) = P(t_1, t_2, t_3; T)$, you can easily calculate the derivative, set it to zero, and find the $T$ value that maximizes $P(D|T)$.\n",
    "\n",
    "So here comes the second assumption:\n",
    "\n",
    "---> We assume that the $T$ value that maximizes the probability defined in Question 2 will maximize the probability defined in Question 1, i.e., it’s our best guess for the true temperature. <---\n",
    "\n",
    "It is an assumption because we cannot show the same $T$ will maximize both the probabilities in Question 1 and Question 2 (because we don't have an expression for the probability in Question 1!).\n",
    "\n",
    "\n",
    "Quick Re-cap:\n",
    "\n",
    "$P(T|D)$: The probability that, given the observed data, $D$, the true temperature has a value of $T$.\n",
    "\n",
    "$P(D|T)$: The probability that, given the true temperature has a value of $T$, the observed data $D$ would occur. \n",
    "\n",
    "\n",
    "Yes, it's a subtle difference...we will come back to this difference in Week 6."
   ]
  },
  {
   "cell_type": "markdown",
   "metadata": {},
   "source": [
    "### E) Practically (continuing the approach outlined in D)), \n",
    "\n",
    "if you maximize $P(D|T)$ in D) with respect to $T$, you get \n",
    "\n",
    "$T_{best} = \\frac{1}{N} {\\sum_{i = 1}^{N} {t_i} } = \\langle D \\rangle $        \t\t\t\t\t(2) \n",
    "\n",
    "That is, the mean value of the data set gives the best guess we have for the true temperature $T_{true}$.\n",
    "\n",
    "Now we can further ask this question, since $T_{best}$ must have an uncertainty (or standard deviation) as well, what would the uncertainty be?\n",
    "\n",
    "With a little math, you can show the standard deviation of $T_{best}$ is \n",
    "\n",
    "$s_{T_{best}} = \\frac{\\sigma} {\\sqrt{N}}$\t\t\t\t\t\t\t\t(3)\n",
    "\n",
    "In this case $N$ = 3, and so \n",
    "\n",
    "$s_{T_{best}} = \\frac{\\sigma} {1.7}$\t\t\t\t\t\t\t\t(3)\n",
    "\n",
    "\n",
    "That is, if we take into account the results of all three measurements, we now have a tighter estimate for the true temperature.\n",
    "\n",
    "[If this is a statistics course, I would have you go through the calculations, and verify for yourself that it’s all true.]\n",
    "\n",
    "\n",
    "#### Let’s now take a step back:\n",
    "\n",
    "That the mean of the data points gives us a tighter estimate of the true temperature seems rather obvious -- why did we go through so much trouble to get here in this long-winded way.  \n",
    "\n",
    "Because there are circumstances where it’s not nearly as obvious how to arrive at the best guess.  Then this prescription will show us how to get $T_{best}$.\n",
    "\n",
    "For example, what if the uncertainty is different for each of the 3 temperature measurements?\n",
    "\n",
    "It’s clear enough that in order to take into account all three measurements, you would want to give more weight to the points that have less uncertainty.  But what’s the exact prescription?\n",
    "\n",
    "It turns out if you maximize the probability in Question 2 you will find the best guess is\n",
    "\n",
    "$T_{best} = \\frac{ \\sum_{i = 1}^{N} { t_i/\\sigma_i^2 } } {\\sum_{i = 1}^{N} {1/\\sigma_i^2} }$      \t(4)\n",
    "\n",
    "You can check that it works for the case of all three $\\sigma_i$’s being the same:\n",
    "\n",
    "\n",
    "$T_{best} = \\frac{1}{N} {\\sum_{i = 1}^{N} {t_i} }$,\n",
    "\n",
    "or just the mean.\n",
    "\n",
    "Eqn (3) is called the weighted mean.\n",
    "\n",
    "Again with a  little math, the uncertainty (standard deviation) *squared* of the weighted mean can also be calculated, and it is\n",
    "\n",
    "$s_{T_{best}}^2 = \\frac{1} {\\sum_{i = 1}^{N} {1/\\sigma_i^2} }$\t\t\t\t(5)\n",
    "\n",
    "You can verify that if, \n",
    "\n",
    "$\\sigma_i = \\sigma$\n",
    "\n",
    "eqn (5) becomes the same as eqn (3). "
   ]
  },
  {
   "cell_type": "markdown",
   "metadata": {},
   "source": [
    "## Going back to the very top: The Simplest Linear Regression -- Fitting for One Parameter.\n",
    "\n",
    "## In this example, we're using the data to \"fit for\" -- that is, to find the best guess for -- the true temperature."
   ]
  },
  {
   "cell_type": "markdown",
   "metadata": {},
   "source": [
    "## Example:\n",
    "\n",
    "- ## Generate a set of 10 Gaussian random numbers that represent 10 temperture measurements.  The true temperature is 70 and the measurement uncertainty is 0.5.  That is, the Gaussian model should have T_true (= mu) = 70 and sigma = 0.5.\n",
    "\n",
    "    ## Note: In reality, of course, you don't know the true temperature (otherwise, what's the point of measuring it?).  But in the simulated world, you know everything!\n",
    "\n",
    "-  ## Find the mean and standard deviation of the set of measurement results and report them as \n",
    "\n",
    "    ## t_mean \n",
    "\n",
    "    ##and \n",
    "\n",
    "    ##sig_t.  \n",
    "\n",
    "    ## Are the values of t_mean and sig_t what you would expect?\n"
   ]
  },
  {
   "cell_type": "code",
   "execution_count": 39,
   "metadata": {
    "collapsed": false
   },
   "outputs": [
    {
     "name": "stdout",
     "output_type": "stream",
     "text": [
      "The mean temperature value is 69.811 deg (expected: 70.000).\n",
      "The standard deviation of the simulated temperature measurement results are 0.449 deg (expected: 0.500).\n"
     ]
    }
   ],
   "source": [
    "# simluate temperature measurements\n",
    "import numpy as np\n",
    "from __future__ import print_function\n",
    "\n",
    "T_true = 70\n",
    "sigma = 0.5\n",
    "N = 10\n",
    "\n",
    "t = np.random.randn(N)*sigma + T_true\n",
    "t_mean = t.mean()\n",
    "sig_t = np.std(t)\n",
    "\n",
    "print(\"The mean temperature value is {:.3f} deg (expected: {:.3f}).\".format(t_mean, T_true))\n",
    "print(\"The standard deviation of the simulated temperature measurement \\\n",
    "results are {:.3f} deg (expected: {:.3f}).\".format(sig_t, sigma))"
   ]
  },
  {
   "cell_type": "markdown",
   "metadata": {},
   "source": [
    "## Lab Breakout Exercise:\n",
    "\n",
    "## 1. Repeat the simulation in the example above 100 times, each time store the t_mean.  Then find the average and standard deviation of t_mean, and report these as \n",
    "\n",
    "## t_MEAN\n",
    "\n",
    "## and\n",
    "\n",
    "## sig_t_mean.  \n",
    "\n",
    "## Find the expected standard deviation of t_mean, and report it as \n",
    "\n",
    "## sig_t_mean_expt\n",
    "\n",
    "## Are the values of t_MEAN and sig_t_mean what you would expect?\n",
    "\n",
    "## 2. Generate a set of 10 Gaussian random numbers that represent 10 temperture measurements.  The true temperature is 70 and the measurement uncertainty is different for each of the 10 measurements (let's say you used 10 different thermometers to make the 10 measurements).  Suppose the uncertainties are: (0.3, 0.4, 0.15, 0.2, 0.5, 0.6, 0.1, 0.2, 0.15, 0.25).  Find the weighted mean of the data, and report it as t_mean.\n",
    "\n",
    "## 3. Repeat 2. above 100 times and report \n",
    "\n",
    "## t_MEAN, sig_t_mean, and sig_t_mean_expt.\n",
    "\n",
    "## Are the values of t_MEAN and sig_t_mean what you would expect?\n"
   ]
  }
 ],
 "metadata": {
  "kernelspec": {
   "display_name": "Python 2",
   "language": "python",
   "name": "python2"
  },
  "language_info": {
   "codemirror_mode": {
    "name": "ipython",
    "version": 2
   },
   "file_extension": ".py",
   "mimetype": "text/x-python",
   "name": "python",
   "nbconvert_exporter": "python",
   "pygments_lexer": "ipython2",
   "version": "2.7.9"
  }
 },
 "nbformat": 4,
 "nbformat_minor": 0
}

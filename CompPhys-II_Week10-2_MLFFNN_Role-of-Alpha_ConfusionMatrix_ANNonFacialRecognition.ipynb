{
 "cells": [
  {
   "cell_type": "markdown",
   "metadata": {},
   "source": [
    "# Multi-layer Forward-feed NN \n",
    "\n",
    "## 1. The role of alpha (regularization)\n",
    "## 2. The confusion matrix\n",
    "## 3. ANN on Facial Recognition"
   ]
  },
  {
   "cell_type": "code",
   "execution_count": 2,
   "metadata": {
    "collapsed": false
   },
   "outputs": [
    {
     "name": "stderr",
     "output_type": "stream",
     "text": [
      "/Users/labuser/scikit-learn/sklearn/cross_validation.py:43: DeprecationWarning: This module has been deprecated in favor of the model_selection module into which all the refactored classes and functions are moved. Also note that the interface of the new CV iterators are different from that of this module. This module will be removed in 0.20.\n",
      "  \"This module will be removed in 0.20.\", DeprecationWarning)\n"
     ]
    }
   ],
   "source": [
    "%matplotlib inline\n",
    "# All imports\n",
    "\n",
    "from __future__ import print_function, division\n",
    "from random import choice\n",
    "import numpy as np\n",
    "import matplotlib.pyplot as plt\n",
    "from copy import copy\n",
    "import time\n",
    "from IPython import display\n",
    "\n",
    "import sklearn\n",
    "from sklearn.neural_network import MLPRegressor, MLPClassifier\n",
    "from sklearn.cross_validation import train_test_split\n",
    "\n",
    "# -------------> The following three are new imports <------------------\n",
    "from time import time\n",
    "from sklearn.metrics import classification_report, confusion_matrix\n",
    "\n",
    "np.set_printoptions(formatter={'float': '{:.5f}'.format})\n"
   ]
  },
  {
   "cell_type": "markdown",
   "metadata": {},
   "source": [
    "## Regularization\n",
    "\n",
    "## A bit of math\n",
    "\n",
    "## $$ \\alpha \\sum_w {w^2}$$\n",
    "\n",
    "## Example: fitting the parabola with 100 neurons."
   ]
  },
  {
   "cell_type": "code",
   "execution_count": 3,
   "metadata": {
    "collapsed": false
   },
   "outputs": [],
   "source": [
    "# simulating data\n",
    "N = 40\n",
    "xmin = 0.\n",
    "xmax = 2.\n",
    "x = np.linspace(xmin, xmax, N)\n",
    "# expects a 2d array.\n",
    "X = np.atleast_2d(x).T\n",
    "\n",
    "a0 = 1.5\n",
    "a1 = 2.\n",
    "a2 = 2.5\n",
    "\n",
    "y = a0 + a1*x + a2*x**2  # - a3*x**3 + a4*x**4\n",
    "# add noise\n",
    "y += np.random.randn(y.shape[0])*1. \n",
    "\n",
    "\n",
    "reg = MLPRegressor(algorithm='l-bfgs', hidden_layer_sizes=(100,), activation='tanh',\\\n",
    "                    random_state=1, max_iter=1000000, learning_rate_init = 0.01)\n",
    "\n"
   ]
  },
  {
   "cell_type": "code",
   "execution_count": 4,
   "metadata": {
    "collapsed": false
   },
   "outputs": [
    {
     "name": "stdout",
     "output_type": "stream",
     "text": [
      "(30, 1) (30,)\n",
      "(10, 1) (10,)\n",
      "Default alpha (regularization): 0.0001\n",
      "Total number of points: 30\n",
      "Total number of weights: [(1, 100), (100, 1)]\n",
      "score 0.962888350302\n",
      "Loss function 0.521357396525\n"
     ]
    },
    {
     "data": {
      "image/png": "[encoded data removed]",
      "text/plain": [
       "<matplotlib.figure.Figure at 0x10ee89090>"
      ]
     },
     "metadata": {},
     "output_type": "display_data"
    }
   ],
   "source": [
    "'''Splitting data into training and validation (testing) sets'''\n",
    "\n",
    "X_train, X_test, y_train, y_test = train_test_split(\n",
    "    X, y, test_size=0.25, random_state=0)\n",
    "print(X_train.shape, y_train.shape)\n",
    "print(X_test.shape, y_test.shape)\n",
    "\n",
    "\n",
    "print('Default alpha (regularization): {:g}'.format(reg.alpha))\n",
    "# Try cranking up alpha (regularization):\n",
    "reg.alpha = 0.3\n",
    "\n",
    "\n",
    "reg.fit(X_train, y_train)\n",
    "print(\"Total number of points:\", y_train.shape[0])\n",
    "print(\"Total number of weights:\", [coef.shape for coef in reg.coefs_])\n",
    "print(\"score\", reg.score(X_train, y_train))\n",
    "print(\"Loss function\", reg.loss_)\n",
    "\n",
    "x_train = X_train.ravel()\n",
    "sort_i = np.argsort(x_train)\n",
    "x_train = x_train[sort_i]\n",
    "y_train = y_train[sort_i]\n",
    "plt.plot(x_train, y_train, '.')\n",
    "\n",
    "X_plot = np.atleast_2d(np.linspace(0., 2., 1000)).T\n",
    "x_plot = X_plot.ravel()\n",
    "\n",
    "y_predict = reg.predict(X_plot)\n",
    "plt.plot(x_train, y_train, '.')\n",
    "plt.plot(x_plot, y_predict)\n",
    "plt.show()"
   ]
  },
  {
   "cell_type": "code",
   "execution_count": 5,
   "metadata": {
    "collapsed": false
   },
   "outputs": [
    {
     "name": "stdout",
     "output_type": "stream",
     "text": [
      "score -0.689179640292\n"
     ]
    },
    {
     "data": {
      "image/png": "[encoded data removed]",
      "text/plain": [
       "<matplotlib.figure.Figure at 0x10ee890d0>"
      ]
     },
     "metadata": {},
     "output_type": "display_data"
    }
   ],
   "source": [
    "x_test = X_test.ravel()\n",
    "sort_i = np.argsort(x_test)\n",
    "x_test = x_test[sort_i]\n",
    "y_test = y_test[sort_i]\n",
    "plt.plot(x_test, y_test, '.')\n",
    "print(\"score\", reg.score(X_test, y_test))\n",
    "\n",
    "plt.plot(x_test, y_test, '.')\n",
    "plt.plot(x_plot, y_predict)\n",
    "plt.show()\n"
   ]
  },
  {
   "cell_type": "code",
   "execution_count": 6,
   "metadata": {
    "collapsed": false
   },
   "outputs": [
    {
     "data": {
      "text/plain": [
       "array([[2, 0, 0],\n",
       "       [0, 0, 1],\n",
       "       [1, 0, 2]])"
      ]
     },
     "execution_count": 6,
     "metadata": {},
     "output_type": "execute_result"
    }
   ],
   "source": [
    "from sklearn.metrics import confusion_matrix\n",
    "\n",
    "y_true = [5, 1, 5, 5, 1, 3]\n",
    "y_pred = [1, 1, 5, 5, 1, 5]\n",
    "\n",
    "confusion_matrix(y_true, y_pred)\n"
   ]
  },
  {
   "cell_type": "markdown",
   "metadata": {},
   "source": [
    "## The Confusion Matrix:  Evaluate the accuracy of a classification.\n",
    "\n",
    "## Definition: a confusion matrix C is such that C\\_{i, j} is equal to the number of observations known to be in group i but predicted to be in group j.\n",
    "\n",
    "From: http://scikit-learn.org/stable/modules/generated/sklearn.metrics.confusion_matrix.html"
   ]
  },
  {
   "cell_type": "code",
   "execution_count": 7,
   "metadata": {
    "collapsed": false
   },
   "outputs": [
    {
     "data": {
      "text/plain": [
       "array([[2, 0, 0],\n",
       "       [0, 0, 1],\n",
       "       [1, 0, 2]])"
      ]
     },
     "execution_count": 7,
     "metadata": {},
     "output_type": "execute_result"
    }
   ],
   "source": [
    "y_true = [\"cat\", \"ant\", \"cat\", \"cat\", \"ant\", \"bird\"]\n",
    "y_pred = [\"ant\", \"ant\", \"cat\", \"cat\", \"ant\", \"cat\"]\n",
    "confusion_matrix(y_true, y_pred, labels=[\"ant\", \"bird\", \"cat\"])"
   ]
  },
  {
   "cell_type": "markdown",
   "metadata": {},
   "source": [
    "## The metric.classification_report\n",
    "\n",
    "       metrics.classification_report\n",
    "       \n",
    "## \"Build a text report showing the main classification metrics\"\n",
    "\n",
    "       sklearn.metrics.classification_report(y_true, y_pred)\n",
    "       \n",
    "       \n",
    "## It returns a string.\n",
    "\n",
    "## More details:\n",
    "\n",
    "http://scikit-learn.org/stable/modules/generated/sklearn.metrics.classification_report.html"
   ]
  },
  {
   "cell_type": "markdown",
   "metadata": {},
   "source": [
    "## Breakout\n",
    "\n",
    "## To your digit recognition code last time, add:\n",
    "\n",
    "- ## printing the classification_report\n",
    "\n",
    "- ## printing confusion matrix "
   ]
  },
  {
   "cell_type": "code",
   "execution_count": 8,
   "metadata": {
    "collapsed": false
   },
   "outputs": [
    {
     "name": "stdout",
     "output_type": "stream",
     "text": [
      "[[45  0  0  0  0  0  0  0  0  3]\n",
      " [ 0 28 11  0  0  0  0  0 11  0]\n",
      " [ 0  0 41  4  0  1  0  1  3  0]\n",
      " [ 0  0  4 33  0  0  0  1  9  4]\n",
      " [ 0  2  0  0 38  0  8  0  0  1]\n",
      " [ 1  0  0  1  0 25  2  0  0 21]\n",
      " [ 1  0  0  0  0  0 49  0  0  0]\n",
      " [ 0  2  0  0  0  1  0  1  3 42]\n",
      " [ 0  2  0  0  0  0  0  0 46  4]\n",
      " [ 0 10  1  0  0  0  0  2  3 35]]\n",
      "             precision    recall  f1-score   support\n",
      "\n",
      "          0       0.96      0.94      0.95        48\n",
      "          1       0.64      0.56      0.60        50\n",
      "          2       0.72      0.82      0.77        50\n",
      "          3       0.87      0.65      0.74        51\n",
      "          4       1.00      0.78      0.87        49\n",
      "          5       0.93      0.50      0.65        50\n",
      "          6       0.83      0.98      0.90        50\n",
      "          7       0.20      0.02      0.04        49\n",
      "          8       0.61      0.88      0.72        52\n",
      "          9       0.32      0.69      0.43        51\n",
      "\n",
      "avg / total       0.71      0.68      0.67       500\n",
      "\n"
     ]
    },
    {
     "data": {
      "image/png": "[encoded data removed]",
      "text/plain": [
       "<matplotlib.figure.Figure at 0x111d29850>"
      ]
     },
     "metadata": {},
     "output_type": "display_data"
    }
   ],
   "source": [
    "from sklearn import datasets\n",
    "\n",
    "digits = datasets.load_digits()\n",
    "\n",
    "# clf = MLPClassifier(algorithm='l-bfgs', alpha=1e-5, hidden_layer_sizes=(4, 2), random_state=1)\n",
    "clf2 = MLPClassifier(algorithm='l-bfgs', alpha=1e-10, hidden_layer_sizes=(10, 4), activation = 'tanh', \\\n",
    "                    random_state=5, max_iter=1000000, learning_rate_init = 0.1)\n",
    "\n",
    "N = 500\n",
    "\n",
    "y_train = digits.data[:N]\n",
    "y_test = digits.data[N:N+N]\n",
    "\n",
    "y_test_target = digits.target[N:N+N]\n",
    "\n",
    "clf2.fit(y_train, digits.target[:N])\n",
    "\n",
    "\n",
    "y_pred = clf2.predict(np.atleast_2d(y_test))\n",
    "# print('Train Score: {}'.format(y_train))\n",
    "# print('Test Score: {}'.format(y_test))\n",
    "# print(np.shape(y_train), np.shape(y_test))\n",
    "\n",
    "\n",
    "\n",
    "print(confusion_matrix(y_test_target, y_pred))\n",
    "print(classification_report(y_test_target, y_pred))\n",
    "\n",
    "plt.figure(figsize=(16, 4))\n",
    "for i in range(10):\n",
    "    plt.subplot(1, 10, i+1)\n",
    "    plt.imshow(digits.images[N+i], cmap =plt.cm.gray_r)\n",
    "    plt.title('target: {},\\n Prediction: {}'.format(digits.target[N+i], clf2.predict(np.atleast_2d(digits.data[N+i]))[0]))\n",
    "    plt.axis('off')\n",
    "plt.show()"
   ]
  },
  {
   "cell_type": "markdown",
   "metadata": {},
   "source": [
    "## Applying ANN to Facial Recogition"
   ]
  },
  {
   "cell_type": "code",
   "execution_count": 9,
   "metadata": {
    "collapsed": false
   },
   "outputs": [],
   "source": [
    "from sklearn.datasets import fetch_lfw_people\n",
    "\n",
    "lfw_people = fetch_lfw_people(min_faces_per_person=70, resize=0.4)"
   ]
  },
  {
   "cell_type": "code",
   "execution_count": 12,
   "metadata": {
    "collapsed": false
   },
   "outputs": [
    {
     "name": "stdout",
     "output_type": "stream",
     "text": [
      "(1288, 50, 37)\n"
     ]
    }
   ],
   "source": [
    "data = lfw_people['images']\n",
    "print(data.shape)"
   ]
  },
  {
   "cell_type": "markdown",
   "metadata": {},
   "source": [
    "## Mini-breakout\n",
    "## Determine how to extract information from the object:\n",
    "\n",
    "      lfw_people"
   ]
  },
  {
   "cell_type": "markdown",
   "metadata": {},
   "source": [
    "## Breakout:\n",
    "\n",
    "## Apply ANN to Facial Recogition\n",
    "\n",
    "## Part I: Apply it to one person -- say the first in the data set\n",
    "\n",
    "## Part II: Apply it to all individuals with 70 pictures or more.\n",
    "\n",
    "1. Split into a training and testing set (test_size = .25)\n",
    "2. Train a NN classification model using the training set.\n",
    "3. Report the score of the trainied NN applied to the training data.\n",
    "4. Apply the trained NN to the testing data, and report the score.\n",
    "5. Also print the sklearn classification report and confusion_matrix \n",
    "7. Time the training and testing stages.\n",
    "8. Use one intermediate layer.  You may vary the number of neurons.  But it shouldn't be greater than 1000.\n",
    "9. Show the first 12 images in the testing set in a 3 by 4 arrangement for human inspection.  The title should show the predicted name and the true name of the person.\n",
    "\n"
   ]
  },
  {
   "cell_type": "markdown",
   "metadata": {},
   "source": [
    "# End of Week10-2"
   ]
  }
 ],
 "metadata": {
  "kernelspec": {
   "display_name": "Python 2",
   "language": "python",
   "name": "python2"
  },
  "language_info": {
   "codemirror_mode": {
    "name": "ipython",
    "version": 2
   },
   "file_extension": ".py",
   "mimetype": "text/x-python",
   "name": "python",
   "nbconvert_exporter": "python",
   "pygments_lexer": "ipython2",
   "version": "2.7.9"
  }
 },
 "nbformat": 4,
 "nbformat_minor": 0
}

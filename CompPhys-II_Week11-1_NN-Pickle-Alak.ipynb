{
 "cells": [
  {
   "cell_type": "markdown",
   "metadata": {},
   "source": [
    "# Multi-layer Forward-feed NN \n",
    "\n",
    "## 0. Finish Facial Recognition from last time\n",
    "\n",
    "## 1. Learn to pickle a dictionary\n",
    "\n",
    "## 2. Alak -- Checker and Chess Meet with Go (棋)\n",
    "- ### Explain the rules\n",
    "- ### Simulate a game"
   ]
  },
  {
   "cell_type": "code",
   "execution_count": 11,
   "metadata": {
    "collapsed": false
   },
   "outputs": [],
   "source": [
    "%matplotlib inline\n",
    "# All imports\n",
    "\n",
    "from __future__ import print_function, division\n",
    "from random import choice\n",
    "import numpy as np\n",
    "import matplotlib.pyplot as plt\n",
    "from copy import copy\n",
    "import time\n",
    "from IPython import display\n",
    "\n",
    "import sklearn\n",
    "from sklearn.neural_network import MLPRegressor, MLPClassifier\n",
    "from sklearn.cross_validation import train_test_split\n",
    "\n",
    "from time import time\n",
    "from sklearn.metrics import classification_report, confusion_matrix\n",
    "\n",
    "# -------------> New import <------------------\n",
    "\n",
    "import pickle\n",
    "\n",
    "np.set_printoptions(formatter={'float': '{:.5f}'.format})\n"
   ]
  },
  {
   "cell_type": "code",
   "execution_count": 12,
   "metadata": {
    "collapsed": false
   },
   "outputs": [
    {
     "name": "stdout",
     "output_type": "stream",
     "text": [
      "{'blue whale': 30, 'polar bear': 2.5, 'african elephant': 3}\n"
     ]
    }
   ],
   "source": [
    "test_dict = {'african elephant': 3, 'blue whale': 30}\n",
    "test_dict['polar bear'] = 2.5\n",
    "print(test_dict)\n",
    "\n",
    "pickle.dump(test_dict, open('test_pickle.p', 'w'))"
   ]
  },
  {
   "cell_type": "code",
   "execution_count": 13,
   "metadata": {
    "collapsed": false
   },
   "outputs": [],
   "source": [
    "# Best way\n",
    "\n",
    "with open('test_pickle.p', 'w') as f:\n",
    "    pickle.dump(test_dict, f)"
   ]
  },
  {
   "cell_type": "code",
   "execution_count": 14,
   "metadata": {
    "collapsed": false
   },
   "outputs": [
    {
     "name": "stdout",
     "output_type": "stream",
     "text": [
      "{'blue whale': 30, 'polar bear': 2.5, 'african elephant': 3}\n"
     ]
    }
   ],
   "source": [
    "# To open\n",
    "read_dict = pickle.load(open('test_pickle.p', 'r'))\n",
    "print(read_dict)"
   ]
  },
  {
   "cell_type": "markdown",
   "metadata": {},
   "source": [
    "## Minibreakout: Write the above example using the \n",
    "\n",
    "      with...\n",
    "      \n",
    "## syntax.  Call the dictionary object read from pickle, read_dict2."
   ]
  },
  {
   "cell_type": "code",
   "execution_count": 15,
   "metadata": {
    "collapsed": false
   },
   "outputs": [
    {
     "name": "stdout",
     "output_type": "stream",
     "text": [
      "{'blue whale': 30, 'polar bear': 2.5, 'african elephant': 3}\n"
     ]
    }
   ],
   "source": [
    "with open('test_pickle.p', 'r') as f:\n",
    "    read_dict2 = pickle.load(f)\n",
    "print (read_dict2)"
   ]
  },
  {
   "cell_type": "markdown",
   "metadata": {},
   "source": [
    "## Simulate Alak:\n",
    "   ### a) Randomly generate the next legal move\n",
    "   ### b) Decide if any pieces need to be removed from the board\n",
    "   ### c) The opposite side do step a), then b), etc.\n",
    "   ### d) Repeat until one side wins (the other side should have zero piece on the board)\n",
    "   ### Save all the steps of the simulated game in a pickle file (save one side as 'x', the other side as 'o', and unoccupied as '\\_' -- thus each step will be saved as a string.  The key should be the step number)\n"
   ]
  },
  {
   "cell_type": "code",
   "execution_count": 207,
   "metadata": {
    "collapsed": false
   },
   "outputs": [
    {
     "name": "stdout",
     "output_type": "stream",
     "text": [
      "Round: 1\n",
      "\n",
      "x x x x _ _ o o o o\n",
      "\n",
      "x: 0 --> 5\n",
      "_ x x x _ x o o o o\n",
      "_ x x x _ x o o o o\n",
      "\n",
      "o: 8 --> 4\n",
      "_ x x x o x o o _ o\n",
      "_ x x x o _ o o _ o\n",
      "\n",
      "Round: 2\n",
      "\n",
      "_ x x x o _ o o _ o\n",
      "\n",
      "x: 1 --> 8\n",
      "_ _ x x o _ o o x o\n",
      "_ _ x x o _ o o _ o\n",
      "\n",
      "o: 4 --> 1\n",
      "_ o x x _ _ o o _ o\n",
      "_ o x x _ _ o o _ o\n",
      "\n",
      "Round: 3\n",
      "\n",
      "_ o x x _ _ o o _ o\n",
      "\n",
      "x: 2 --> 0\n",
      "x o _ x _ _ o o _ o\n",
      "x o _ x _ _ o o _ o\n",
      "\n",
      "o: 9 --> 5\n",
      "x o _ x _ o o o _ _\n",
      "x o _ x _ o o o _ _\n",
      "\n",
      "Round: 4\n",
      "\n",
      "x o _ x _ o o o _ _\n",
      "\n",
      "x: 0 --> 8\n",
      "_ o _ x _ o o o x _\n",
      "_ o _ x _ o o o x _\n",
      "\n",
      "o: 6 --> 4\n",
      "_ o _ x o o _ o x _\n",
      "_ o _ x o o _ o x _\n",
      "\n",
      "Round: 5\n",
      "\n",
      "_ o _ x o o _ o x _\n",
      "\n",
      "x: 3 --> 2\n",
      "_ o x _ o o _ o x _\n",
      "_ o x _ o o _ o x _\n",
      "\n",
      "o: 4 --> 6\n",
      "_ o x _ _ o o o x _\n",
      "_ o x _ _ o o o x _\n",
      "\n",
      "Round: 6\n",
      "\n",
      "_ o x _ _ o o o x _\n",
      "\n",
      "x: 8 --> 0\n",
      "x o x _ _ o o o _ _\n",
      "x _ x _ _ o o o _ _\n",
      "\n",
      "o: 5 --> 9\n",
      "x _ x _ _ _ o o _ o\n",
      "x _ x _ _ _ o o _ o\n",
      "\n",
      "Round: 7\n",
      "\n",
      "x _ x _ _ _ o o _ o\n",
      "\n",
      "x: 0 --> 5\n",
      "_ _ x _ _ x o o _ o\n",
      "_ _ x _ _ x o o _ o\n",
      "\n",
      "o: 6 --> 0\n",
      "o _ x _ _ x _ o _ o\n",
      "o _ x _ _ x _ o _ o\n",
      "\n",
      "Round: 8\n",
      "\n",
      "o _ x _ _ x _ o _ o\n",
      "\n",
      "x: 5 --> 6\n",
      "o _ x _ _ _ x o _ o\n",
      "o _ x _ _ _ x o _ o\n",
      "\n",
      "o: 9 --> 8\n",
      "o _ x _ _ _ x o o _\n",
      "o _ x _ _ _ x o o _\n",
      "\n",
      "Round: 9\n",
      "\n",
      "o _ x _ _ _ x o o _\n",
      "\n",
      "x: 2 --> 1\n",
      "o x _ _ _ _ x o o _\n",
      "o x _ _ _ _ x o o _\n",
      "\n",
      "o: 0 --> 5\n",
      "_ x _ _ _ o x o o _\n",
      "_ x _ _ _ o _ o o _\n",
      "\n",
      "Round: 10\n",
      "\n",
      "_ x _ _ _ o _ o o _\n",
      "\n",
      "x: 1 --> 4\n",
      "_ _ _ _ x o _ o o _\n",
      "_ _ _ _ x o _ o o _\n",
      "\n",
      "o: 8 --> 9\n",
      "_ _ _ _ x o _ o _ o\n",
      "_ _ _ _ x o _ o _ o\n",
      "\n",
      "Round: 11\n",
      "\n",
      "_ _ _ _ x o _ o _ o\n",
      "\n",
      "x: 4 --> 2\n",
      "_ _ x _ _ o _ o _ o\n",
      "_ _ x _ _ o _ o _ o\n",
      "\n",
      "o: 7 --> 0\n",
      "o _ x _ _ o _ _ _ o\n",
      "o _ x _ _ o _ _ _ o\n",
      "\n",
      "Round: 12\n",
      "\n",
      "o _ x _ _ o _ _ _ o\n",
      "\n",
      "x: 2 --> 3\n",
      "o _ _ x _ o _ _ _ o\n",
      "o _ _ x _ o _ _ _ o\n",
      "\n",
      "o: 9 --> 4\n",
      "o _ _ x o o _ _ _ _\n",
      "o _ _ x o o _ _ _ _\n",
      "\n",
      "Round: 13\n",
      "\n",
      "o _ _ x o o _ _ _ _\n",
      "\n",
      "x: 3 --> 6\n",
      "o _ _ _ o o x _ _ _\n",
      "o _ _ _ o o x _ _ _\n",
      "\n",
      "o: 4 --> 9\n",
      "o _ _ _ _ o x _ _ o\n",
      "o _ _ _ _ o x _ _ o\n",
      "\n",
      "Round: 14\n",
      "\n",
      "o _ _ _ _ o x _ _ o\n",
      "\n",
      "x: 6 --> 2\n",
      "o _ x _ _ o _ _ _ o\n",
      "o _ x _ _ o _ _ _ o\n",
      "\n",
      "o: 9 --> 3\n",
      "o _ x o _ o _ _ _ _\n",
      "o _ x o _ o _ _ _ _\n",
      "\n",
      "Round: 15\n",
      "\n",
      "o _ x o _ o _ _ _ _\n",
      "\n",
      "x: 2 --> 4\n",
      "o _ _ o x o _ _ _ _\n",
      "o _ _ o _ o _ _ _ _\n",
      "\n"
     ]
    },
    {
     "name": "stderr",
     "output_type": "stream",
     "text": [
      "/Users/labuser/Library/Enthought/Canopy_64bit/User/lib/python2.7/site-packages/ipykernel/__main__.py:74: FutureWarning: comparison to `None` will result in an elementwise object comparison in the future.\n",
      "/Users/labuser/Library/Enthought/Canopy_64bit/User/lib/python2.7/site-packages/ipykernel/__main__.py:85: FutureWarning: comparison to `None` will result in an elementwise object comparison in the future.\n"
     ]
    }
   ],
   "source": [
    "from pdb import set_trace\n",
    "import re\n",
    "\n",
    "# class Alak:\n",
    "#     def __init__(self):\n",
    "#         self.board = np.array(['x', 'x', 'x', 'x', '_', '_', 'o', 'o', 'o', 'o'])\n",
    "#         self.x_pos = np.where(self.board == 'x')[0]\n",
    "#         self.o_pos = np.where(self.board == 'o')[0]\n",
    "#         self.random_move = np.random.choice(np.where(self.board == '_')[0])\n",
    "#         self.step = []\n",
    "        \n",
    "#     def next_move(self):\n",
    "#         self.random_move = np.random.choice(np.where(self.board == '_')[0])\n",
    "        \n",
    "    \n",
    "def next_move(board, piece):\n",
    "    move = np.random.choice(np.where(board == '_')[0])\n",
    "    \n",
    "    piece_pos = np.where(board == str(piece))[0]    #Indices of x/o pieces\n",
    "    rand_piece = np.random.choice(piece_pos)     #Among pieces, choose random piece to move to new position, move\n",
    "    \n",
    "    board[move], board[rand_piece] = board[rand_piece], board[move]     #Assign piece to move\n",
    "    \n",
    "    step = \"{}: {} --> {}\".format(piece, rand_piece, move)     #Assigns step of piece to new position\n",
    "    return board, step\n",
    "\n",
    "def check_dead(board, piece):\n",
    "    if piece == 'x':\n",
    "        dead_pat = re.search('xo+x', ''.join(board))\n",
    "        if dead_pat != None:\n",
    "            dead_se = [(m.start(0), m.end(0)) for m in re.finditer(dead_pat.group(), ''.join(board))]\n",
    "            for elem in dead_se:\n",
    "                np.put(board, range(elem[0]+1, elem[1]-1), '_')\n",
    "        dead_pat = re.search('ox+o', ''.join(board))\n",
    "        if dead_pat != None:\n",
    "            dead_se = [(m.start(0), m.end(0)) for m in re.finditer(dead_pat.group(), ''.join(board))]\n",
    "            for elem in dead_se:\n",
    "                np.put(board, range(elem[0]+1, elem[1]-1), '_')\n",
    "            return board\n",
    "        else:\n",
    "            return board\n",
    "    else:\n",
    "        dead_pat = re.search('ox+o', ''.join(board))\n",
    "        if dead_pat != None:\n",
    "            dead_se = [(m.start(0), m.end(0)) for m in re.finditer(dead_pat.group(), ''.join(board))]\n",
    "            for elem in dead_se:\n",
    "                np.put(board, range(elem[0]+1, elem[1]-1), '_')\n",
    "        dead_pat = re.search('xo+x', ''.join(board))\n",
    "        if dead_pat != None:\n",
    "            dead_se = [(m.start(0), m.end(0)) for m in re.finditer(dead_pat.group(), ''.join(board))]\n",
    "            for elem in dead_se:\n",
    "                np.put(board, range(elem[0]+1, elem[1]-1), '_')\n",
    "            return board\n",
    "        else:\n",
    "            return board\n",
    "\n",
    "steps = []\n",
    "board = np.array(['x', 'x', 'x', 'x', '_', '_', 'o', 'o', 'o', 'o'])\n",
    "i = 1\n",
    "\n",
    "\n",
    "while 'x' in board and 'o' in board:\n",
    "    print(\"Round: {}\\n\".format(i))\n",
    "\n",
    "    print(*board)\n",
    "    print()\n",
    "############################################\n",
    "    if 'x' in board and 'o' in board:\n",
    "        board, step = next_move(board, 'x')     #Determines which piece to move\n",
    "        steps.append(step)\n",
    "        print(step)\n",
    "        print(*board)\n",
    "        board_up = check_dead(board, 'x')\n",
    "        if board_up != None:\n",
    "            board = board_up\n",
    "        print(*board)\n",
    "        print()\n",
    "############################################\n",
    "    if 'x' in board and 'o' in board:\n",
    "        board, step = next_move(board, 'o')\n",
    "        steps.append(step)\n",
    "        print(step)\n",
    "        print(*board)\n",
    "        board_up = check_dead(board, 'o')\n",
    "        if board_up != None:\n",
    "            board = board_up\n",
    "        print(*board)\n",
    "        print()\n",
    "    \n",
    "    i += 1"
   ]
  },
  {
   "cell_type": "markdown",
   "metadata": {},
   "source": [
    "# End of Week11-1"
   ]
  },
  {
   "cell_type": "code",
   "execution_count": 187,
   "metadata": {
    "collapsed": false
   },
   "outputs": [
    {
     "name": "stdout",
     "output_type": "stream",
     "text": [
      "xx_xoox__o\n",
      "None\n"
     ]
    }
   ],
   "source": [
    "test_board = np.array(['x', 'x', '_', 'x', 'o', 'o', 'x', '_', '_', 'o'])\n",
    "stuff = re.search('xox', ''.join(test_board))\n",
    "new_test_board = ''.join(test_board)\n",
    "# print(np.where(new_test_board == stuff.group().rsplit()))\n",
    "print(new_test_board)\n",
    "print(stuff)"
   ]
  },
  {
   "cell_type": "code",
   "execution_count": 189,
   "metadata": {
    "collapsed": false,
    "scrolled": true
   },
   "outputs": [
    {
     "ename": "TypeError",
     "evalue": "first argument must be string or compiled pattern",
     "output_type": "error",
     "traceback": [
      "\u001b[0;31m---------------------------------------------------------------------------\u001b[0m",
      "\u001b[0;31mTypeError\u001b[0m                                 Traceback (most recent call last)",
      "\u001b[0;32m<ipython-input-189-33ec06a9ded8>\u001b[0m in \u001b[0;36m<module>\u001b[0;34m()\u001b[0m\n\u001b[1;32m      4\u001b[0m \u001b[0;32mif\u001b[0m \u001b[0mstuff\u001b[0m \u001b[0;34m!=\u001b[0m \u001b[0mNone\u001b[0m\u001b[0;34m:\u001b[0m\u001b[0;34m\u001b[0m\u001b[0m\n\u001b[1;32m      5\u001b[0m     \u001b[0mstuff\u001b[0m \u001b[0;34m=\u001b[0m \u001b[0mstuff\u001b[0m\u001b[0;34m.\u001b[0m\u001b[0mgroup\u001b[0m\u001b[0;34m(\u001b[0m\u001b[0;34m)\u001b[0m\u001b[0;34m\u001b[0m\u001b[0m\n\u001b[0;32m----> 6\u001b[0;31m \u001b[0mse\u001b[0m \u001b[0;34m=\u001b[0m \u001b[0;34m[\u001b[0m\u001b[0;34m(\u001b[0m\u001b[0mm\u001b[0m\u001b[0;34m.\u001b[0m\u001b[0mstart\u001b[0m\u001b[0;34m(\u001b[0m\u001b[0;36m0\u001b[0m\u001b[0;34m)\u001b[0m\u001b[0;34m,\u001b[0m \u001b[0mm\u001b[0m\u001b[0;34m.\u001b[0m\u001b[0mend\u001b[0m\u001b[0;34m(\u001b[0m\u001b[0;36m0\u001b[0m\u001b[0;34m)\u001b[0m\u001b[0;34m)\u001b[0m \u001b[0;32mfor\u001b[0m \u001b[0mm\u001b[0m \u001b[0;32min\u001b[0m \u001b[0mre\u001b[0m\u001b[0;34m.\u001b[0m\u001b[0mfinditer\u001b[0m\u001b[0;34m(\u001b[0m\u001b[0mstuff\u001b[0m\u001b[0;34m,\u001b[0m \u001b[0mtest_board_j\u001b[0m\u001b[0;34m)\u001b[0m\u001b[0;34m]\u001b[0m\u001b[0;34m\u001b[0m\u001b[0m\n\u001b[0m\u001b[1;32m      7\u001b[0m \u001b[0;32mfor\u001b[0m \u001b[0melem\u001b[0m \u001b[0;32min\u001b[0m \u001b[0mse\u001b[0m\u001b[0;34m:\u001b[0m\u001b[0;34m\u001b[0m\u001b[0m\n\u001b[1;32m      8\u001b[0m     \u001b[0;32mprint\u001b[0m\u001b[0;34m(\u001b[0m\u001b[0mtest_board\u001b[0m\u001b[0;34m)\u001b[0m\u001b[0;34m\u001b[0m\u001b[0m\n",
      "\u001b[0;32m/Applications/Canopy.app/appdata/canopy-1.5.5.3123.macosx-x86_64/Canopy.app/Contents/lib/python2.7/re.pyc\u001b[0m in \u001b[0;36mfinditer\u001b[0;34m(pattern, string, flags)\u001b[0m\n\u001b[1;32m    188\u001b[0m \u001b[0;34m\u001b[0m\u001b[0m\n\u001b[1;32m    189\u001b[0m         Empty matches are included in the result.\"\"\"\n\u001b[0;32m--> 190\u001b[0;31m         \u001b[0;32mreturn\u001b[0m \u001b[0m_compile\u001b[0m\u001b[0;34m(\u001b[0m\u001b[0mpattern\u001b[0m\u001b[0;34m,\u001b[0m \u001b[0mflags\u001b[0m\u001b[0;34m)\u001b[0m\u001b[0;34m.\u001b[0m\u001b[0mfinditer\u001b[0m\u001b[0;34m(\u001b[0m\u001b[0mstring\u001b[0m\u001b[0;34m)\u001b[0m\u001b[0;34m\u001b[0m\u001b[0m\n\u001b[0m\u001b[1;32m    191\u001b[0m \u001b[0;34m\u001b[0m\u001b[0m\n\u001b[1;32m    192\u001b[0m \u001b[0;32mdef\u001b[0m \u001b[0mcompile\u001b[0m\u001b[0;34m(\u001b[0m\u001b[0mpattern\u001b[0m\u001b[0;34m,\u001b[0m \u001b[0mflags\u001b[0m\u001b[0;34m=\u001b[0m\u001b[0;36m0\u001b[0m\u001b[0;34m)\u001b[0m\u001b[0;34m:\u001b[0m\u001b[0;34m\u001b[0m\u001b[0m\n",
      "\u001b[0;32m/Applications/Canopy.app/appdata/canopy-1.5.5.3123.macosx-x86_64/Canopy.app/Contents/lib/python2.7/re.pyc\u001b[0m in \u001b[0;36m_compile\u001b[0;34m(*key)\u001b[0m\n\u001b[1;32m    245\u001b[0m         \u001b[0;32mreturn\u001b[0m \u001b[0mpattern\u001b[0m\u001b[0;34m\u001b[0m\u001b[0m\n\u001b[1;32m    246\u001b[0m     \u001b[0;32mif\u001b[0m \u001b[0;32mnot\u001b[0m \u001b[0msre_compile\u001b[0m\u001b[0;34m.\u001b[0m\u001b[0misstring\u001b[0m\u001b[0;34m(\u001b[0m\u001b[0mpattern\u001b[0m\u001b[0;34m)\u001b[0m\u001b[0;34m:\u001b[0m\u001b[0;34m\u001b[0m\u001b[0m\n\u001b[0;32m--> 247\u001b[0;31m         \u001b[0;32mraise\u001b[0m \u001b[0mTypeError\u001b[0m\u001b[0;34m,\u001b[0m \u001b[0;34m\"first argument must be string or compiled pattern\"\u001b[0m\u001b[0;34m\u001b[0m\u001b[0m\n\u001b[0m\u001b[1;32m    248\u001b[0m     \u001b[0;32mtry\u001b[0m\u001b[0;34m:\u001b[0m\u001b[0;34m\u001b[0m\u001b[0m\n\u001b[1;32m    249\u001b[0m         \u001b[0mp\u001b[0m \u001b[0;34m=\u001b[0m \u001b[0msre_compile\u001b[0m\u001b[0;34m.\u001b[0m\u001b[0mcompile\u001b[0m\u001b[0;34m(\u001b[0m\u001b[0mpattern\u001b[0m\u001b[0;34m,\u001b[0m \u001b[0mflags\u001b[0m\u001b[0;34m)\u001b[0m\u001b[0;34m\u001b[0m\u001b[0m\n",
      "\u001b[0;31mTypeError\u001b[0m: first argument must be string or compiled pattern"
     ]
    }
   ],
   "source": [
    "test_board = np.array(['x', 'x', '_', 'x', 'o', 'o', 'x', '_', '_', 'o'])\n",
    "test_board_j = ''.join(test_board)\n",
    "stuff = re.search('xox', ''.join(test_board))\n",
    "if stuff != None:\n",
    "    stuff = stuff.group()\n",
    "    se = [(m.start(0), m.end(0)) for m in re.finditer(stuff, test_board_j)]\n",
    "    for elem in se:\n",
    "        print(test_board)\n",
    "        np.put(test_board, range(elem[0]+1, elem[1]-1), '_')\n",
    "        print(test_board)\n",
    "        \n",
    "    \n",
    "# stuff_new = np.array(list(stuff.group()))\n",
    "# print(np.where(test_board == stuff_new))"
   ]
  },
  {
   "cell_type": "code",
   "execution_count": 151,
   "metadata": {
    "collapsed": false
   },
   "outputs": [
    {
     "data": {
      "text/plain": [
       "[(5, 9)]"
      ]
     },
     "execution_count": 151,
     "metadata": {},
     "output_type": "execute_result"
    }
   ],
   "source": [
    "pattern = 'xoox'\n",
    "string = 'xxox_xooxx'\n",
    "se = [(m.start(0), m.end(0)) for m in re.finditer(pattern, string)]\n",
    "# for elem in se:\n",
    "    "
   ]
  },
  {
   "cell_type": "code",
   "execution_count": 203,
   "metadata": {
    "collapsed": false
   },
   "outputs": [
    {
     "name": "stdout",
     "output_type": "stream",
     "text": [
      "(array([], dtype=int64),)\n"
     ]
    }
   ],
   "source": [
    "sh = np.arange(5)\n",
    "print(np.where(sh == 6))"
   ]
  },
  {
   "cell_type": "code",
   "execution_count": null,
   "metadata": {
    "collapsed": true
   },
   "outputs": [],
   "source": []
  }
 ],
 "metadata": {
  "kernelspec": {
   "display_name": "Python 2",
   "language": "python",
   "name": "python2"
  },
  "language_info": {
   "codemirror_mode": {
    "name": "ipython",
    "version": 2
   },
   "file_extension": ".py",
   "mimetype": "text/x-python",
   "name": "python",
   "nbconvert_exporter": "python",
   "pygments_lexer": "ipython2",
   "version": "2.7.9"
  }
 },
 "nbformat": 4,
 "nbformat_minor": 0
}

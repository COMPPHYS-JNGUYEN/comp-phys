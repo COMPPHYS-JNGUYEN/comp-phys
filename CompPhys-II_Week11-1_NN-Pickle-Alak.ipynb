{
 "cells": [
  {
   "cell_type": "markdown",
   "metadata": {},
   "source": [
    "# Multi-layer Forward-feed NN \n",
    "\n",
    "## 0. Finish Facial Recognition from last time\n",
    "\n",
    "## 1. Learn to pickle a dictionary\n",
    "\n",
    "## 2. Alak -- Checker and Chess Meet with Go (棋)\n",
    "- ### Explain the rules\n",
    "- ### Simulate a game"
   ]
  },
  {
   "cell_type": "code",
   "execution_count": 4,
   "metadata": {
    "collapsed": false
   },
   "outputs": [],
   "source": [
    "%matplotlib inline\n",
    "# All imports\n",
    "\n",
    "from __future__ import print_function, division\n",
    "from random import choice\n",
    "import numpy as np\n",
    "import matplotlib.pyplot as plt\n",
    "from copy import copy\n",
    "import time\n",
    "from IPython import display\n",
    "\n",
    "import sklearn\n",
    "from sklearn.neural_network import MLPRegressor, MLPClassifier\n",
    "from sklearn.cross_validation import train_test_split\n",
    "\n",
    "from time import time\n",
    "from sklearn.metrics import classification_report, confusion_matrix\n",
    "\n",
    "# -------------> New import <------------------\n",
    "\n",
    "import pickle\n",
    "from colorama import Fore, Back, Style\n",
    "from pdb import set_trace\n",
    "import re\n",
    "\n",
    "np.set_printoptions(formatter={'float': '{:.5f}'.format})\n"
   ]
  },
  {
   "cell_type": "markdown",
   "metadata": {},
   "source": [
    "## Simulate Alak:\n",
    "   ### a) Randomly generate the next legal move\n",
    "   ### b) Decide if any pieces need to be removed from the board\n",
    "   ### c) The opposite side do step a), then b), etc.\n",
    "   ### d) Repeat until one side wins (the other side should have zero piece on the board)\n",
    "   ### Save all the steps of the simulated game in a pickle file (save one side as 'x', the other side as 'o', and unoccupied as '\\_' -- thus each step will be saved as a string.  The key should be the step number)\n"
   ]
  },
  {
   "cell_type": "code",
   "execution_count": 59,
   "metadata": {
    "collapsed": false
   },
   "outputs": [
    {
     "name": "stdout",
     "output_type": "stream",
     "text": [
      "x x x x _ _ o o o o\n",
      "\n",
      "Round: 1\n",
      "\n",
      "\n",
      "x: 2 --> 4\n",
      "x x _ x x _ o o o o\n",
      "x x _ x x _ o o o o\n",
      "o: 9 --> 5\n",
      "x x _ x x o o o o _\n",
      "x x _ x x o o o o _\n",
      "Round: 2\n",
      "\n",
      "\n",
      "x: 4 --> 2\n",
      "x x x x _ o o o o _\n",
      "x x x x _ o o o o _\n",
      "o: 6 --> 9\n",
      "x x x x _ o _ o o o\n",
      "x x x x _ o _ o o o\n",
      "Round: 3\n",
      "\n",
      "\n",
      "x: 1 --> 6\n",
      "x _ x x _ o x o o o\n",
      "x _ x x _ o _ o o o\n",
      "o: 9 --> 6\n",
      "x _ x x _ o o o o _\n",
      "x _ x x _ o o o o _\n",
      "Round: 4\n",
      "\n",
      "\n",
      "x: 2 --> 1\n",
      "x x _ x _ o o o o _\n",
      "x x _ x _ o o o o _\n",
      "o: 7 --> 9\n",
      "x x _ x _ o o _ o o\n",
      "x x _ x _ o o _ o o\n",
      "Round: 5\n",
      "\n",
      "\n",
      "x: 3 --> 4\n",
      "x x _ _ x o o _ o o\n",
      "x x _ _ x o o _ o o\n",
      "o: 6 --> 2\n",
      "x x o _ x o _ _ o o\n",
      "x x o _ x o _ _ o o\n",
      "Round: 6\n",
      "\n",
      "\n",
      "x: 0 --> 7\n",
      "_ x o _ x o _ x o o\n",
      "_ x o _ x o _ x o o\n",
      "o: 5 --> 6\n",
      "_ x o _ x _ o x o o\n",
      "_ x o _ x _ o _ o o\n",
      "Round: 7\n",
      "\n",
      "\n",
      "x: 1 --> 5\n",
      "_ _ o _ x x o _ o o\n",
      "_ _ o _ x x o _ o o\n",
      "o: 6 --> 1\n",
      "_ o o _ x x _ _ o o\n",
      "_ o o _ x x _ _ o o\n",
      "Round: 8\n",
      "\n",
      "\n",
      "x: 5 --> 0\n",
      "x o o _ x _ _ _ o o\n",
      "x o o _ x _ _ _ o o\n",
      "o: 9 --> 7\n",
      "x o o _ x _ _ o o _\n",
      "x o o _ x _ _ o o _\n",
      "Round: 9\n",
      "\n",
      "\n",
      "x: 4 --> 5\n",
      "x o o _ _ x _ o o _\n",
      "x o o _ _ x _ o o _\n",
      "o: 8 --> 4\n",
      "x o o _ o x _ o _ _\n",
      "x o o _ o x _ o _ _\n",
      "Round: 10\n",
      "\n",
      "\n",
      "x: 0 --> 8\n",
      "_ o o _ o x _ o x _\n",
      "_ o o _ o x _ o x _\n",
      "o: 7 --> 0\n",
      "o o o _ o x _ _ x _\n",
      "o o o _ o x _ _ x _\n",
      "Round: 11\n",
      "\n",
      "\n",
      "x: 5 --> 3\n",
      "o o o x o _ _ _ x _\n",
      "o o o _ o _ _ _ x _\n",
      "o: 0 --> 5\n",
      "_ o o _ o o _ _ x _\n",
      "_ o o _ o o _ _ x _\n",
      "Round: 12\n",
      "\n",
      "\n",
      "Game over, only one 'x' left.\n"
     ]
    },
    {
     "name": "stderr",
     "output_type": "stream",
     "text": [
      "/Users/labuser/Library/Enthought/Canopy_64bit/User/lib/python2.7/site-packages/ipykernel/__main__.py:96: FutureWarning: comparison to `None` will result in an elementwise object comparison in the future.\n",
      "/Users/labuser/Library/Enthought/Canopy_64bit/User/lib/python2.7/site-packages/ipykernel/__main__.py:111: FutureWarning: comparison to `None` will result in an elementwise object comparison in the future.\n"
     ]
    }
   ],
   "source": [
    "\"\"\"DON'T CHANGE ANYTHING\"\"\"\n",
    "\n",
    "# class Alak:\n",
    "#     def __init__(self):\n",
    "#         self.step = []\n",
    "#         self.board = np.array(['x', 'x', 'x', 'x', '_', '_', 'o', 'o', 'o', 'o'])\n",
    "#         self.x_pos = np.where(self.board == 'x')[0]\n",
    "#         self.o_pos = np.where(self.board == 'o')[0]\n",
    "#         self.random_move = np.random.choice(np.where(self.board == '_')[0])\n",
    "        \n",
    "#     def next_move(self):\n",
    "#         self.random_move = np.random.choice(np.where(self.board == '_')[0])\n",
    "        \n",
    "    \n",
    "def next_move(board, piece):\n",
    "    move = np.random.choice(np.where(board == '_')[0])\n",
    "    \n",
    "    piece_pos = np.where(board == str(piece))[0]    #Indices of x/o pieces\n",
    "    rand_piece = np.random.choice(piece_pos)     #Among pieces, choose random piece to move to new position, move\n",
    "    \n",
    "    board[move], board[rand_piece] = board[rand_piece], board[move]     #Assign piece to move\n",
    "    \n",
    "    step = \"{}: {} --> {}\".format(piece, rand_piece, move)     #Assigns step of piece to new position\n",
    "    return board, step\n",
    "\n",
    "def check_dead(board, piece):\n",
    "    if piece == 'x':\n",
    "        dead_pat = re.search('xo+x', ''.join(board))\n",
    "        while dead_pat != None:\n",
    "            dead_se = [(m.start(0), m.end(0)) for m in re.finditer(dead_pat.group(), ''.join(board))]\n",
    "            for elem in dead_se:\n",
    "                np.put(board, range(elem[0]+1, elem[1]-1), '_')\n",
    "            dead_pat = re.search('xo+x', ''.join(board))\n",
    "        dead_pat = re.search('ox+o', ''.join(board))\n",
    "        while dead_pat != None:\n",
    "            dead_se = [(m.start(0), m.end(0)) for m in re.finditer(dead_pat.group(), ''.join(board))]\n",
    "            for elem in dead_se:\n",
    "                np.put(board, range(elem[0]+1, elem[1]-1), '_')\n",
    "            dead_pat = re.search('ox+o', ''.join(board))\n",
    "        return board\n",
    "    else:\n",
    "        dead_pat = re.search('ox+o', ''.join(board))\n",
    "        while dead_pat != None:\n",
    "            dead_se = [(m.start(0), m.end(0)) for m in re.finditer(dead_pat.group(), ''.join(board))]\n",
    "            for elem in dead_se:\n",
    "                np.put(board, range(elem[0]+1, elem[1]-1), '_')\n",
    "            dead_pat = re.search('ox+o', ''.join(board))\n",
    "        dead_pat = re.search('xo+x', ''.join(board))\n",
    "        while dead_pat != None:\n",
    "            dead_se = [(m.start(0), m.end(0)) for m in re.finditer(dead_pat.group(), ''.join(board))]\n",
    "            for elem in dead_se:\n",
    "                np.put(board, range(elem[0]+1, elem[1]-1), '_')\n",
    "            dead_pat = re.search('xo+x', ''.join(board))\n",
    "        return board\n",
    "    \n",
    "def testing():\n",
    "    passed = 0\n",
    "    failed = 0\n",
    "    special_cases = np.array([list('xx_xox_ooo'), list('_xox_xx_oo'), list('_xoox_ox__'),\\\n",
    "                     list('xoxoxx_oo_'), list('xooox__oxx'), list('xoooox__xx')])\n",
    "    expected_results = np.array([list('xx_x_x_ooo'), list('_x_x_xx_oo'), list('_x__x_ox__'),\\\n",
    "                     list('x_x_xxooo_'), list('x___x__oxx'), list('x____x__xx')])\n",
    "    for i, j in enumerate(special_cases):\n",
    "        try:\n",
    "            assert np.array_equal(check_dead(special_cases[i], 'x'), expected_results[i])\n",
    "        except:\n",
    "            failed += 1\n",
    "        else:\n",
    "            passed += 1\n",
    "    if failed != 0:\n",
    "        print(\"{} out of 6 tests passed!\".format(passed))\n",
    "        print(Fore.RED + \"{} out of 6 tests failed!\".format(failed))\n",
    "    else:\n",
    "        print(\"{} out of 6 tests passed!\".format(passed))\n",
    "    print(Style.RESET_ALL)\n",
    "    \n",
    "\n",
    "steps = []\n",
    "board = np.array(['x', 'x', 'x', 'x', '_', '_', 'o', 'o', 'o', 'o'])\n",
    "print(*board)\n",
    "print()\n",
    "# board = np.array(['x', '_', 'o', 'x', 'o', 'x', 'o', 'o', '_', '_'])\n",
    "i = 1\n",
    "\n",
    "\n",
    "# while 'x' in board and 'o' in board:\n",
    "while len(np.unique(board)) > 2:\n",
    "    print(\"Round: {}\\n\".format(i))\n",
    "    print()\n",
    "############################################\n",
    "    if len(np.unique(board)) > 2:\n",
    "        if (board == 'x').sum() > 1:\n",
    "            board, step = next_move(board, 'x')     #Determines which piece to move\n",
    "            steps.append(step)\n",
    "            print(step)\n",
    "            print(*board)\n",
    "            board_up = check_dead(board, 'x')\n",
    "            if board_up != None:\n",
    "                board = board_up\n",
    "            print(*board)\n",
    "        else:\n",
    "            print(\"Game over, only one 'x' left.\")\n",
    "            break\n",
    "#         print()\n",
    "############################################\n",
    "    if len(np.unique(board)) > 2:\n",
    "        if (board == 'o').sum() > 1:\n",
    "            board, step = next_move(board, 'o')\n",
    "            steps.append(step)\n",
    "            print(step)\n",
    "            print(*board)\n",
    "            board_up = check_dead(board, 'o')\n",
    "            if board_up != None:\n",
    "                board = board_up\n",
    "            print(*board)\n",
    "        else:\n",
    "            print(\"Game over, only one 'o' left.\")\n",
    "            break\n",
    "#         print()\n",
    "    \n",
    "    i += 1"
   ]
  },
  {
   "cell_type": "code",
   "execution_count": 60,
   "metadata": {
    "collapsed": false,
    "scrolled": false
   },
   "outputs": [
    {
     "name": "stdout",
     "output_type": "stream",
     "text": [
      "5 out of 6 tests passed!\n",
      "\u001b[31m1 out of 6 tests failed!\n",
      "\u001b[0m\n",
      "hello\n"
     ]
    }
   ],
   "source": [
    "testing()\n",
    "print('hello')"
   ]
  },
  {
   "cell_type": "code",
   "execution_count": null,
   "metadata": {
    "collapsed": true
   },
   "outputs": [],
   "source": [
    "from pdb import set_trace\n",
    "import re\n",
    "class Alak:\n",
    "    def __init__(self):\n",
    "        self.step = []\n",
    "        self.board = np.array(['x', 'x', 'x', 'x', '_', '_', 'o', 'o', 'o', 'o'])\n",
    "        \n",
    "    def next_move(self, piece):\n",
    "        move = np.random.choice(np.where(self.board == '_')[0])\n",
    "    \n",
    "        piece_pos = np.where(self.board == str(piece))[0]    #Indices of x/o pieces\n",
    "        rand_piece = np.random.choice(piece_pos)     #Among pieces, choose random piece to move to new position, move\n",
    "\n",
    "        self.board[move], self.board[rand_piece] = self.board[rand_piece], self.board[move]     #Assign piece to move\n",
    "\n",
    "        step = \"{}: {} --> {}\".format(piece, rand_piece, move)     #Assigns step of piece to new position\n",
    "        self.step.append(step)\n",
    "        \n",
    "    \n",
    "# def next_move(board, piece):\n",
    "#     move = np.random.choice(np.where(board == '_')[0])\n",
    "    \n",
    "#     piece_pos = np.where(board == str(piece))[0]    #Indices of x/o pieces\n",
    "#     rand_piece = np.random.choice(piece_pos)     #Among pieces, choose random piece to move to new position, move\n",
    "    \n",
    "#     board[move], board[rand_piece] = board[rand_piece], board[move]     #Assign piece to move\n",
    "    \n",
    "#     step = \"{}: {} --> {}\".format(piece, rand_piece, move)     #Assigns step of piece to new position\n",
    "#     return board, step\n",
    "\n",
    "def check_dead(board, piece):\n",
    "    if piece == 'x':\n",
    "        dead_pat = re.search('xo+x', ''.join(board))\n",
    "        while dead_pat != None:\n",
    "            dead_se = [(m.start(0), m.end(0)) for m in re.finditer(dead_pat.group(), ''.join(board))]\n",
    "            for elem in dead_se:\n",
    "                np.put(board, range(elem[0]+1, elem[1]-1), '_')\n",
    "            dead_pat = re.search('xo+x', ''.join(board))\n",
    "        dead_pat = re.search('ox+o', ''.join(board))\n",
    "        while dead_pat != None:\n",
    "            dead_se = [(m.start(0), m.end(0)) for m in re.finditer(dead_pat.group(), ''.join(board))]\n",
    "            for elem in dead_se:\n",
    "                np.put(board, range(elem[0]+1, elem[1]-1), '_')\n",
    "            dead_pat = re.search('ox+o', ''.join(board))\n",
    "        return board\n",
    "    else:\n",
    "        dead_pat = re.search('ox+o', ''.join(board))\n",
    "        while dead_pat != None:\n",
    "            dead_se = [(m.start(0), m.end(0)) for m in re.finditer(dead_pat.group(), ''.join(board))]\n",
    "            for elem in dead_se:\n",
    "                np.put(board, range(elem[0]+1, elem[1]-1), '_')\n",
    "            dead_pat = re.search('ox+o', ''.join(board))\n",
    "        dead_pat = re.search('xo+x', ''.join(board))\n",
    "        while dead_pat != None:\n",
    "            dead_se = [(m.start(0), m.end(0)) for m in re.finditer(dead_pat.group(), ''.join(board))]\n",
    "            for elem in dead_se:\n",
    "                np.put(board, range(elem[0]+1, elem[1]-1), '_')\n",
    "            dead_pat = re.search('xo+x', ''.join(board))\n",
    "        return board\n",
    "\n",
    "steps = []\n",
    "board = np.array(['x', 'x', 'x', 'x', '_', '_', 'o', 'o', 'o', 'o'])\n",
    "print(*board)\n",
    "print()\n",
    "# board = np.array(['x', '_', 'o', 'x', 'o', 'x', 'o', 'o', '_', '_'])\n",
    "i = 1\n",
    "\n",
    "\n",
    "# while 'x' in board and 'o' in board:\n",
    "while len(np.unique(board)) > 2:\n",
    "    print(\"Round: {}\\n\".format(i))\n",
    "    print()\n",
    "############################################\n",
    "    if len(np.unique(board)) > 2:\n",
    "        if (board == 'x').sum() > 1:\n",
    "            board, step = next_move(board, 'x')     #Determines which piece to move\n",
    "            steps.append(step)\n",
    "            print(step)\n",
    "            print(*board)\n",
    "            board_up = check_dead(board, 'x')\n",
    "            if board_up != None:\n",
    "                board = board_up\n",
    "            print(*board)\n",
    "        else:\n",
    "            print(\"Game over, only one 'x' left.\")\n",
    "            break\n",
    "#         print()\n",
    "############################################\n",
    "    if len(np.unique(board)) > 2:\n",
    "        if (board == 'o').sum() > 1:\n",
    "            board, step = next_move(board, 'o')\n",
    "            steps.append(step)\n",
    "            print(step)\n",
    "            print(*board)\n",
    "            board_up = check_dead(board, 'o')\n",
    "            if board_up != None:\n",
    "                board = board_up\n",
    "            print(*board)\n",
    "        else:\n",
    "            print(\"Game over, only one 'o' left.\")\n",
    "            break\n",
    "#         print()\n",
    "    \n",
    "    i += 1"
   ]
  },
  {
   "cell_type": "markdown",
   "metadata": {},
   "source": [
    "# End of Week11-1"
   ]
  },
  {
   "cell_type": "code",
   "execution_count": null,
   "metadata": {
    "collapsed": false
   },
   "outputs": [],
   "source": [
    "test_board = np.array(['o', 'x', 'o', 'x', 'o', 'o', '_', '_'])\n",
    "stuff = re.search('ox+o', ''.join(test_board))\n",
    "new_test_board = ''.join(test_board)\n",
    "# print(np.where(new_test_board == stuff.group().rsplit()))\n",
    "print(new_test_board)\n",
    "print(stuff.group())"
   ]
  },
  {
   "cell_type": "code",
   "execution_count": null,
   "metadata": {
    "collapsed": false,
    "scrolled": true
   },
   "outputs": [],
   "source": [
    "test_board = np.array(['x', 'x', '_', 'x', 'o', 'o', 'x', '_', '_', 'o'])\n",
    "test_board_j = ''.join(test_board)\n",
    "stuff = re.search('xox', ''.join(test_board))\n",
    "if stuff != None:\n",
    "    stuff = stuff.group()\n",
    "    se = [(m.start(0), m.end(0)) for m in re.finditer(stuff, test_board_j)]\n",
    "    for elem in se:\n",
    "        print(test_board)\n",
    "        np.put(test_board, range(elem[0]+1, elem[1]-1), '_')\n",
    "        print(test_board)\n",
    "        \n",
    "    \n",
    "# stuff_new = np.array(list(stuff.group()))\n",
    "# print(np.where(test_board == stuff_new))"
   ]
  },
  {
   "cell_type": "code",
   "execution_count": null,
   "metadata": {
    "collapsed": false
   },
   "outputs": [],
   "source": [
    "import regex as re\n",
    "\n",
    "pattern = 'oxo'\n",
    "string = 'oxoxxo'\n",
    "se = [(m.start(0), m.end(0)) for m in re.finditer(pattern, string, overlapped=True)]\n",
    "print(se)\n",
    "# for elem in se:\n",
    "    "
   ]
  },
  {
   "cell_type": "code",
   "execution_count": null,
   "metadata": {
    "collapsed": false
   },
   "outputs": [],
   "source": [
    "stuff = np.array(['x', 'o', 'x', '_'])\n",
    "print(np.unique(stuff))\n",
    "cool = np.array(['_', 'o', 'x'])\n",
    "print(np.unique(stuff) == cool)"
   ]
  },
  {
   "cell_type": "code",
   "execution_count": null,
   "metadata": {
    "collapsed": false
   },
   "outputs": [],
   "source": [
    "new_board = np.array(['x', '_', 'o', 'x', 'o', 'x', 'o', 'o', '_', '_'])\n",
    "print(check_dead(new_board, 'o'))"
   ]
  },
  {
   "cell_type": "code",
   "execution_count": null,
   "metadata": {
    "collapsed": false
   },
   "outputs": [],
   "source": [
    "stuff_board = np.array(['o', 'x', 'o', 'x', 'o', 'o', '_', '_'])\n",
    "print(re.search('oxo', ''.join(stuff_board)).group())"
   ]
  },
  {
   "cell_type": "code",
   "execution_count": null,
   "metadata": {
    "collapsed": false
   },
   "outputs": [],
   "source": [
    "stuff_board = np.array(['o', 'x', 'o', 'x', 'o', 'o', '_', '_'])\n",
    "dead_pat = re.search('ox+o', ''.join(stuff_board))\n",
    "while dead_pat != None:\n",
    "    dead_se = [(m.start(0), m.end(0)) for m in re.finditer(dead_pat.group(), ''.join(stuff_board))]\n",
    "    for elem in dead_se:\n",
    "        np.put(stuff_board, range(elem[0]+1, elem[1]-1), '_')\n",
    "    dead_pat = re.search('ox+o', ''.join(stuff_board))\n",
    "print(stuff_board)"
   ]
  },
  {
   "cell_type": "code",
   "execution_count": 3,
   "metadata": {
    "collapsed": false
   },
   "outputs": [
    {
     "name": "stdout",
     "output_type": "stream",
     "text": [
      "['o' '_' 'o' '_' 'o' 'o' '_' '_']\n"
     ]
    }
   ],
   "source": [
    "test_board = np.array(['o', 'x', 'o', 'x', 'o', 'o', '_', '_'])\n",
    "print(check_dead(test_board, 'o'))"
   ]
  },
  {
   "cell_type": "code",
   "execution_count": 10,
   "metadata": {
    "collapsed": false
   },
   "outputs": [
    {
     "name": "stdout",
     "output_type": "stream",
     "text": [
      "['s', 't', 'u', 'f', 'f']\n"
     ]
    }
   ],
   "source": [
    "print(list('stuff'))"
   ]
  },
  {
   "cell_type": "code",
   "execution_count": null,
   "metadata": {
    "collapsed": true
   },
   "outputs": [],
   "source": []
  }
 ],
 "metadata": {
  "kernelspec": {
   "display_name": "Python 2",
   "language": "python",
   "name": "python2"
  },
  "language_info": {
   "codemirror_mode": {
    "name": "ipython",
    "version": 2
   },
   "file_extension": ".py",
   "mimetype": "text/x-python",
   "name": "python",
   "nbconvert_exporter": "python",
   "pygments_lexer": "ipython2",
   "version": "2.7.9"
  }
 },
 "nbformat": 4,
 "nbformat_minor": 0
}

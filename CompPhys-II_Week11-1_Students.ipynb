{
 "cells": [
  {
   "cell_type": "markdown",
   "metadata": {},
   "source": [
    "# Multi-layer Forward-feed NN \n",
    "\n",
    "## 0. Finish Facial Recognition from last time\n",
    "\n",
    "## 1. Learn to pickle a dictionary\n",
    "\n",
    "## 2. Alak -- Checker and Chess Meet with Go (棋)\n",
    "- ### Explain the rules\n",
    "- ### Simulate a game"
   ]
  },
  {
   "cell_type": "code",
   "execution_count": 1,
   "metadata": {
    "collapsed": false
   },
   "outputs": [
    {
     "name": "stderr",
     "output_type": "stream",
     "text": [
      "/Users/labuser/scikit-learn/sklearn/cross_validation.py:43: DeprecationWarning: This module has been deprecated in favor of the model_selection module into which all the refactored classes and functions are moved. Also note that the interface of the new CV iterators are different from that of this module. This module will be removed in 0.20.\n",
      "  \"This module will be removed in 0.20.\", DeprecationWarning)\n"
     ]
    }
   ],
   "source": [
    "%matplotlib inline\n",
    "# All imports\n",
    "\n",
    "from __future__ import print_function, division\n",
    "from random import choice\n",
    "import numpy as np\n",
    "import matplotlib.pyplot as plt\n",
    "from copy import copy\n",
    "import time\n",
    "from IPython import display\n",
    "\n",
    "import sklearn\n",
    "from sklearn.neural_network import MLPRegressor, MLPClassifier\n",
    "from sklearn.cross_validation import train_test_split\n",
    "\n",
    "from time import time\n",
    "from sklearn.metrics import classification_report, confusion_matrix\n",
    "\n",
    "# -------------> New import <------------------\n",
    "\n",
    "import pickle\n",
    "\n",
    "np.set_printoptions(formatter={'float': '{:.5f}'.format})\n"
   ]
  },
  {
   "cell_type": "code",
   "execution_count": 2,
   "metadata": {
    "collapsed": false
   },
   "outputs": [
    {
     "name": "stdout",
     "output_type": "stream",
     "text": [
      "{'blue whale': 30, 'polar bear': 2.5, 'african elephant': 3}\n"
     ]
    }
   ],
   "source": [
    "test_dict = {'african elephant': 3, 'blue whale': 30}\n",
    "test_dict['polar bear'] = 2.5\n",
    "print(test_dict)\n",
    "\n",
    "pickle.dump(test_dict, open('test_pickle.p', 'w'))"
   ]
  },
  {
   "cell_type": "code",
   "execution_count": 3,
   "metadata": {
    "collapsed": false
   },
   "outputs": [],
   "source": [
    "# Best way\n",
    "\n",
    "with open('test_pickle.p', 'w') as f:\n",
    "    pickle.dump(test_dict, f)"
   ]
  },
  {
   "cell_type": "code",
   "execution_count": 4,
   "metadata": {
    "collapsed": false
   },
   "outputs": [
    {
     "name": "stdout",
     "output_type": "stream",
     "text": [
      "{'blue whale': 30, 'polar bear': 2.5, 'african elephant': 3}\n"
     ]
    }
   ],
   "source": [
    "# To open\n",
    "read_dict = pickle.load(open('test_pickle.p', 'r'))\n",
    "print(read_dict)"
   ]
  },
  {
   "cell_type": "markdown",
   "metadata": {},
   "source": [
    "## Minibreakout: Write the above example using the \n",
    "\n",
    "      with...\n",
    "      \n",
    "## syntax.  Call the dictionary object read from pickle, read_dict2."
   ]
  },
  {
   "cell_type": "code",
   "execution_count": 6,
   "metadata": {
    "collapsed": false
   },
   "outputs": [
    {
     "name": "stdout",
     "output_type": "stream",
     "text": [
      "{'blue whale': 30, 'polar bear': 2.5, 'african elephant': 3}\n"
     ]
    }
   ],
   "source": [
    "with open('test_pickle.p', 'r') as f:\n",
    "    read_dict2 = pickle.load(f)\n",
    "print (read_dict2)"
   ]
  },
  {
   "cell_type": "markdown",
   "metadata": {},
   "source": [
    "## Simulate Alak:\n",
    "   ### a) Randomly generate the next legal move\n",
    "   ### b) Decide if any pieces need to be removed from the board\n",
    "   ### c) The opposite side do step a), then b), etc.\n",
    "   ### d) Repeat until one side wins (the other side should have zero piece on the board)\n",
    "   ### Save all the steps of the simulated game in a pickle file (save one side as 'x', the other side as 'o', and unoccupied as '\\_' -- thus each step will be saved as a string.  The key should be the step number)\n"
   ]
  },
  {
   "cell_type": "code",
   "execution_count": 302,
   "metadata": {
    "collapsed": false
   },
   "outputs": [],
   "source": [
    "class Alak:\n",
    "    def __init__(self):\n",
    "        self.board = np.array(['x', 'x', 'x', 'x', '_', '_', 'o', 'o', 'o', 'o'])\n",
    "        self.x_pos = np.where(self.board == 'x')[0]\n",
    "        self.o_pos = np.where(self.board == 'o')[0]\n",
    "        \n",
    "    def move(self):\n",
    "        self.random_move = np.random.choice(np.where(self.board == '_')[0])\n",
    "        return self.random_move\n",
    "    \n",
    "\n",
    "\n",
    "# steps = []\n",
    "\n",
    "# board = np.array(['x', 'x', 'x', 'x', '_', '_', 'o', 'o', 'o', 'o'])\n",
    "# print(*board)\n",
    "\n",
    "# legal = check_legal(board)     #Checks for legal moves of the board\n",
    "# rand_pos = np.random.choice(legal)     #Chooses random position among the legal moves\n",
    "\n",
    "# x_pos = np.where(board == 'x')[0]     #Location of x's\n",
    "# rand_x = np.random.choice(x_pos)\n",
    "\n",
    "# o_pos = np.where(board == 'o')[0]     #Location of o's\n",
    "# rand_o = np.random.choice(o_pos)\n",
    "\n",
    "# board[rand_pos], board[rand_x] = board[rand_x], board[rand_pos]     #Step 1\n",
    "\n",
    "# print(board)\n",
    "\n",
    "# legal = check_legal(board)\n",
    "# rand_pos = np.random.choice(legal)\n",
    "\n",
    "# board[rand_pos], board[rand_o] = board[rand_o], board[rand_pos]     #Step 2\n",
    "\n",
    "# print(legal, rand_pos, *board)\n",
    "\n",
    "\n",
    "\n"
   ]
  },
  {
   "cell_type": "markdown",
   "metadata": {},
   "source": [
    "# End of Week11-1"
   ]
  },
  {
   "cell_type": "code",
   "execution_count": 303,
   "metadata": {
    "collapsed": false
   },
   "outputs": [
    {
     "ename": "AttributeError",
     "evalue": "Alak instance has no attribute 'random_move'",
     "output_type": "error",
     "traceback": [
      "\u001b[0;31m---------------------------------------------------------------------------\u001b[0m",
      "\u001b[0;31mAttributeError\u001b[0m                            Traceback (most recent call last)",
      "\u001b[0;32m<ipython-input-303-96f51e1489bc>\u001b[0m in \u001b[0;36m<module>\u001b[0;34m()\u001b[0m\n\u001b[1;32m      1\u001b[0m \u001b[0mgame\u001b[0m \u001b[0;34m=\u001b[0m \u001b[0mAlak\u001b[0m\u001b[0;34m(\u001b[0m\u001b[0;34m)\u001b[0m\u001b[0;34m\u001b[0m\u001b[0m\n\u001b[0;32m----> 2\u001b[0;31m \u001b[0;32mprint\u001b[0m\u001b[0;34m(\u001b[0m\u001b[0mgame\u001b[0m\u001b[0;34m.\u001b[0m\u001b[0mrandom_move\u001b[0m\u001b[0;34m)\u001b[0m\u001b[0;34m\u001b[0m\u001b[0m\n\u001b[0m",
      "\u001b[0;31mAttributeError\u001b[0m: Alak instance has no attribute 'random_move'"
     ]
    }
   ],
   "source": [
    "game = Alak()\n",
    "print(game.random_move)"
   ]
  },
  {
   "cell_type": "code",
   "execution_count": null,
   "metadata": {
    "collapsed": true
   },
   "outputs": [],
   "source": []
  }
 ],
 "metadata": {
  "kernelspec": {
   "display_name": "Python 2",
   "language": "python",
   "name": "python2"
  },
  "language_info": {
   "codemirror_mode": {
    "name": "ipython",
    "version": 2
   },
   "file_extension": ".py",
   "mimetype": "text/x-python",
   "name": "python",
   "nbconvert_exporter": "python",
   "pygments_lexer": "ipython2",
   "version": "2.7.9"
  }
 },
 "nbformat": 4,
 "nbformat_minor": 0
}

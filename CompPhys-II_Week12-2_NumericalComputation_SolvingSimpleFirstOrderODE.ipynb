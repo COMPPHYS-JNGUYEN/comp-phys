{
 "cells": [
  {
   "cell_type": "markdown",
   "metadata": {},
   "source": [
    "# Numerical Integration \n",
    "\n",
    "##1. Definite Integrals\n",
    "\n",
    "### scipy.integrate.quad\n",
    "\n",
    "## 2. Solving simple first order ODE's\n",
    "\n",
    "### scipy.integrate.ode\n",
    "\n"
   ]
  },
  {
   "cell_type": "code",
   "execution_count": 2,
   "metadata": {
    "collapsed": true
   },
   "outputs": [],
   "source": [
    "%matplotlib inline\n",
    "# All imports\n",
    "\n",
    "from __future__ import print_function, division\n",
    "import numpy as np\n",
    "import matplotlib.pyplot as plt\n",
    "from copy import copy\n",
    "import time\n",
    "from IPython import display\n",
    "from scipy.integrate import ode\n",
    "\n",
    "from pdb import set_trace\n",
    "np.set_printoptions(formatter={'float': '{:.5f}'.format})\n"
   ]
  },
  {
   "cell_type": "markdown",
   "metadata": {},
   "source": [
    "\n",
    "##1. Numerical Integration -- Definite Integrals\n",
    "\n",
    "scipy.integrate.quad\n",
    "\n",
    "Integrate func from a to b (possibly infinite interval) using a technique from the Fortran library QUADPACK.\n",
    "\n",
    "Returns: \n",
    "\n",
    "y : float\n",
    "The integral of func from a to b.\n",
    "abserr : float\n",
    "An estimate of the absolute error in the result.\n",
    "\n",
    "\n",
    "## For more information:\n",
    "\n",
    "http://docs.scipy.org/doc/scipy-0.17.0/reference/generated/scipy.integrate.quad.html#scipy.integrate.quad\n",
    "\n",
    "## Note: you will notice some of the powerful numpy functions are Python wrappers to existing Fortran or C routines (another word for programs)."
   ]
  },
  {
   "cell_type": "markdown",
   "metadata": {},
   "source": [
    "## Mini-breakout:\n",
    "## 1. Find the integral of \n",
    "\n",
    "## $$ f(x) = \\frac{1}{x}$$\n",
    "\n",
    "## analytically.\n",
    "\n",
    "## 2. Evaluate the integral between x = 2 and 5."
   ]
  },
  {
   "cell_type": "code",
   "execution_count": 6,
   "metadata": {
    "collapsed": false
   },
   "outputs": [
    {
     "name": "stdout",
     "output_type": "stream",
     "text": [
      "0.916290731874\n"
     ]
    }
   ],
   "source": [
    "print(np.log(5/2))"
   ]
  },
  {
   "cell_type": "code",
   "execution_count": 8,
   "metadata": {
    "collapsed": false
   },
   "outputs": [
    {
     "name": "stdout",
     "output_type": "stream",
     "text": [
      "Numerical integral of 1/x bewteen 2.0 and 5.0: 0.916290731874\n",
      "1.01728706778e-14\n",
      "Analytical result: 0.916290731874\n"
     ]
    }
   ],
   "source": [
    "'''Example: Find the integral of 1/x numerically'''\n",
    "\n",
    "\n",
    "# ------> note: new import!!  <---------\n",
    "from scipy import integrate\n",
    "x_inv = lambda x: 1/x\n",
    "\n",
    "a = 2.\n",
    "b = 5.\n",
    "result, tol = integrate.quad(x_inv, a, b)\n",
    "print('Numerical integral of 1/x bewteen {0} and {1}: {2}'.format(a, b, result))\n",
    "print(tol)\n",
    "print('Analytical result: {}'.format((np.log(b) - np.log(a))))  # analytical result"
   ]
  },
  {
   "cell_type": "markdown",
   "metadata": {},
   "source": [
    "## Breakout:\n",
    "## 1. a) Find the definite integral of \n",
    "\n",
    "## $$ f(x) = sin(x)$$\n",
    "\n",
    "## between 0 and $\\pi$ analytically.\n",
    "\n",
    "## b) Find the same integral numerically.\n",
    "\n",
    "## c) Plot $f(x) = sin(x)$ between 0 and $\\pi$.  What's the meaning of the value of the integral?\n",
    "\n",
    "## 2. a) Find the integral of \n",
    "\n",
    "## $$ g(x) = e^{-x}$$\n",
    "\n",
    "## between $x = 0$ and $\\infty$ analytically.\n",
    "\n",
    "## b) Find the same integral numerically (for $\\infty$ you can use either a very large number or np.inf)\n",
    "\n",
    "## c) Plot $g(x) = e^{-x}$ between 0 and 10.  What's the meaning of the value of the integral?\n",
    "\n",
    "## 3. a) Find the integral of \n",
    "\n",
    "## $$ h(x) = \\frac{1}{\\sqrt{2 \\pi}} e^{-\\frac{x^2}{2}}$$\n",
    "\n",
    "## between $x = 1$ and $\\infty$ numerically.\n",
    "\n",
    "## c) Plot $h(x) = \\frac{1}{\\sqrt{2 \\pi}} e^ {-\\frac {x^2}{2}}$ between $x = -5$ and $5$.  Then draw a verital dashed line at $x = 1$. What's the meaning of the value of the integral?  (*Hint*: do you recognize this integral?)\n"
   ]
  },
  {
   "cell_type": "code",
   "execution_count": 43,
   "metadata": {
    "collapsed": false
   },
   "outputs": [
    {
     "name": "stdout",
     "output_type": "stream",
     "text": [
      "1.0\n",
      "1.0\n",
      "0.16\n"
     ]
    },
    {
     "data": {
      "image/png": "[encoded data removed]",
      "text/plain": [
       "<matplotlib.figure.Figure at 0x1105ff150>"
      ]
     },
     "metadata": {},
     "output_type": "display_data"
    }
   ],
   "source": [
    "f_result = -np.cos(np.pi) + np.cos(0)\n",
    "f = lambda x: np.sin(x)\n",
    "\n",
    "a1 = 0\n",
    "b1 = np.pi\n",
    "result1, tol1 = integrate.quad(f, a1, b1)\n",
    "print(result1/f_result)\n",
    "\n",
    "g_result = -np.exp(-np.inf) + np.exp(0)\n",
    "g = lambda x: np.exp(-x)\n",
    "\n",
    "a2 = 0\n",
    "b2 = np.inf\n",
    "result2, tol2 = integrate.quad(g, a2, b2)\n",
    "print(result2/g_result)\n",
    "\n",
    "# h_result = \n",
    "print(h_result)\n",
    "h = lambda x: (1/np.sqrt(2*np.pi))*np.exp(-(x**2)/2)\n",
    "\n",
    "a3 = 1\n",
    "b3 = np.inf\n",
    "result3, tol3 = integrate.quad(h, a3, b3)\n",
    "x = np.linspace(-5, 5, 10000)\n",
    "\n",
    "# plt.plot(x, h(x))\n",
    "fig, ax = plt.subplots()\n",
    "\n",
    "ax.plot(x, h(x), color='black')\n",
    "\n",
    "# use the data coordinates for the x-axis and the axes coordinates for the y-axis\n",
    "import matplotlib.transforms as mtransforms\n",
    "trans = mtransforms.blended_transform_factory(ax.transData, ax.transAxes)\n",
    "# theta = 0.9\n",
    "# ax.axhline(theta, color='green', lw=2, alpha=0.5)\n",
    "# ax.axhline(-theta, color='red', lw=2, alpha=0.5)\n",
    "ax.fill_between(x, h(x), 0, where=x > 1, facecolor='green', alpha=0.5)\n",
    "ax.fill_between(x, h(x), 0, where=x < -1, facecolor='purple', alpha=0.5)\n",
    "# ax.fill_between(x, 0, 1, where=y < -theta, facecolor='red', alpha=0.5, transform=trans)\n",
    "\n",
    "plt.show()\n",
    "#matplotlib fill between\n"
   ]
  },
  {
   "cell_type": "markdown",
   "metadata": {},
   "source": [
    "## 2. Solve simple ODE's with scipy.integrate.ode\n",
    "\n",
    "## scipy.integrate.ode(f, jac=None)\n",
    "\n",
    "## A generic interface class to numeric integrators.\n",
    "\n",
    "## Solve an equation system $y′(t)=f(t,y)$"
   ]
  },
  {
   "cell_type": "code",
   "execution_count": 46,
   "metadata": {
    "collapsed": false
   },
   "outputs": [
    {
     "name": "stdout",
     "output_type": "stream",
     "text": [
      "0.01 [ 1.01005118+0.j]\n",
      "0.02 [ 1.0202025+0.j]\n",
      "0.03 [ 1.03045591+0.j]\n",
      "0.04 [ 1.04081233+0.j]\n",
      "0.05 [ 1.05127277+0.j]\n",
      "0.06 [ 1.06183829+0.j]\n",
      "0.07 [ 1.07250996+0.j]\n",
      "0.08 [ 1.08328886+0.j]\n",
      "0.09 [ 1.0941761+0.j]\n",
      "0.1 [ 1.10517279+0.j]\n",
      "0.11 [ 1.11628009+0.j]\n",
      "0.12 [ 1.12749907+0.j]\n",
      "0.13 [ 1.13883082+0.j]\n",
      "0.14 [ 1.15027642+0.j]\n",
      "0.15 [ 1.16183698+0.j]\n",
      "0.16 [ 1.173514+0.j]\n",
      "0.17 [ 1.18530849+0.j]\n",
      "0.18 [ 1.19722151+0.j]\n",
      "0.19 [ 1.20925419+0.j]\n",
      "0.2 [ 1.22140768+0.j]\n",
      "0.21 [ 1.23368317+0.j]\n",
      "0.22 [ 1.24608216+0.j]\n",
      "0.23 [ 1.2586057+0.j]\n",
      "0.24 [ 1.27125499+0.j]\n",
      "0.25 [ 1.28403147+0.j]\n",
      "0.26 [ 1.29693636+0.j]\n",
      "0.27 [ 1.3099709+0.j]\n",
      "0.28 [ 1.32313641+0.j]\n",
      "0.29 [ 1.33643431+0.j]\n",
      "0.3 [ 1.34986583+0.j]\n",
      "0.31 [ 1.36343226+0.j]\n",
      "0.32 [ 1.3771352+0.j]\n",
      "0.33 [ 1.39097588+0.j]\n",
      "0.34 [ 1.40495567+0.j]\n",
      "0.35 [ 1.41907591+0.j]\n",
      "0.36 [ 1.43333798+0.j]\n",
      "0.37 [ 1.44774346+0.j]\n",
      "0.38 [ 1.46229381+0.j]\n",
      "0.39 [ 1.47699036+0.j]\n",
      "0.4 [ 1.49183457+0.j]\n",
      "0.41 [ 1.50682789+0.j]\n",
      "0.42 [ 1.52197186+0.j]\n",
      "0.43 [ 1.53726811+0.j]\n",
      "0.44 [ 1.55271807+0.j]\n",
      "0.45 [ 1.56832327+0.j]\n",
      "0.46 [ 1.58408526+0.j]\n",
      "0.47 [ 1.60000561+0.j]\n",
      "0.48 [ 1.616086+0.j]\n",
      "0.49 [ 1.63232798+0.j]\n",
      "0.5 [ 1.64873318+0.j]\n"
     ]
    }
   ],
   "source": [
    "'''\n",
    "Solve y' = y\n",
    "\n",
    "with \n",
    "\n",
    "y(t = 0) = 1\n",
    "'''\n",
    "from scipy.integrate import ode\n",
    "\n",
    "\n",
    "y0, t0 = [1.0, ], 0\n",
    "\n",
    "def f(t, y):\n",
    "    return [y[0], ]    \n",
    "    \n",
    "t1 = .5    \n",
    "r = ode(f).set_integrator('zvode', method='bdf')\n",
    "r.set_initial_value(y0, t0) \n",
    "dt = .01\n",
    "t_arr = np.array([])\n",
    "y_arr = np.array([])\n",
    "while r.successful() and r.t < t1:\n",
    "    t_arr = np.append(t_arr, r.t)\n",
    "    y = r.integrate(r.t+dt)\n",
    "    y_arr = np.append(y_arr, y)\n",
    "    print(r.t, y)"
   ]
  },
  {
   "cell_type": "markdown",
   "metadata": {},
   "source": [
    "## Mini-breakout\n",
    "\n",
    "## Solve $$y' = ay$$ with $$y(0) = 2$$ analytically."
   ]
  },
  {
   "cell_type": "code",
   "execution_count": 53,
   "metadata": {
    "collapsed": false
   },
   "outputs": [],
   "source": [
    "'''How to handle extra parameters\n",
    "\n",
    "\n",
    "y' = a*y\n",
    "\n",
    "y(t = 0) = 2\n",
    "\n",
    "'''\n",
    "\n",
    "\n",
    "y0, t0 = [2.0, ], 0\n",
    "\n",
    "def f(t, y, arg1):\n",
    "    return [arg1*y[0], ]\n",
    "    \n",
    "    \n",
    "r = ode(f).set_integrator('zvode', method='bdf')\n",
    "a = 2.\n",
    "r.set_initial_value(y0, t0).set_f_params(a)    \n",
    "t1 = .5\n",
    "dt = 1e-4\n",
    "t_arr = np.array([])\n",
    "y_arr = np.array([])\n",
    "while r.successful() and r.t < t1:\n",
    "    t_arr = np.append(t_arr, r.t)\n",
    "    y = r.integrate(r.t+dt)\n",
    "    y_arr = np.append(y_arr, y)\n",
    "#     print(r.t, y)"
   ]
  },
  {
   "cell_type": "code",
   "execution_count": 54,
   "metadata": {
    "collapsed": false
   },
   "outputs": [
    {
     "data": {
      "image/png": "[encoded data removed]",
      "text/plain": [
       "<matplotlib.figure.Figure at 0x110a977d0>"
      ]
     },
     "metadata": {},
     "output_type": "display_data"
    }
   ],
   "source": [
    "t = np.linspace(0, 0.5, 100)\n",
    "y = a*np.exp(a*t)\n",
    "plt.plot(t_arr, y_arr)\n",
    "plt.plot(t, y, 'x')\n",
    "plt.show()"
   ]
  },
  {
   "cell_type": "code",
   "execution_count": 62,
   "metadata": {
    "collapsed": false
   },
   "outputs": [],
   "source": [
    "'''How to handle extra parameters\n",
    "\n",
    "\n",
    "y' = a*y\n",
    "\n",
    "y(t = 0) = 2\n",
    "\n",
    "'''\n",
    "\n",
    "\n",
    "y0, t0 = [2.0, ], 0\n",
    "\n",
    "def f(t, y, b, a):\n",
    "    return [b*t + a*t*y[0], ]\n",
    "    \n",
    "    \n",
    "r = ode(f).set_integrator('zvode', method='bdf')\n",
    "a = 123.\n",
    "b = 100.\n",
    "r.set_initial_value(y0, t0).set_f_params(b, a)    \n",
    "t1 = .5\n",
    "dt = 1e-4\n",
    "t_arr = np.array([])\n",
    "y_arr = np.array([])\n",
    "while r.successful() and r.t < t1:\n",
    "    t_arr = np.append(t_arr, r.t)\n",
    "    y = r.integrate(r.t+dt)\n",
    "    y_arr = np.append(y_arr, y)\n",
    "#     print(r.t, y)"
   ]
  },
  {
   "cell_type": "code",
   "execution_count": 63,
   "metadata": {
    "collapsed": false
   },
   "outputs": [
    {
     "data": {
      "image/png": "[encoded data removed]",
      "text/plain": [
       "<matplotlib.figure.Figure at 0x1113a7a50>"
      ]
     },
     "metadata": {},
     "output_type": "display_data"
    }
   ],
   "source": [
    "t = np.linspace(0, 0.5, 100)\n",
    "y = (2+b/a)*np.exp(a*(t**2)/2) - b/a\n",
    "plt.plot(t_arr, y_arr)\n",
    "plt.plot(t, y, 'x')\n",
    "plt.show()"
   ]
  },
  {
   "cell_type": "markdown",
   "metadata": {},
   "source": [
    "## Mini-breakout \n",
    "\n",
    "## Solve the following 1st order ODE by using separation of varibles \n",
    "## (modified from Boas p. 398, Problem 10)\n",
    "\n",
    "## $$ y' - aty = bt$$\n",
    "\n",
    "## with the initial condition\n",
    "\n",
    "## $$y(t = 0) = 2$$"
   ]
  },
  {
   "cell_type": "markdown",
   "metadata": {},
   "source": [
    "## Breakout:\n",
    "\n",
    "## Solve the above differential equation using scipy.integrate.ode\n",
    "\n",
    "## Plot your result and compare the analytical result"
   ]
  },
  {
   "cell_type": "markdown",
   "metadata": {},
   "source": [
    "# End of Week12-1"
   ]
  },
  {
   "cell_type": "code",
   "execution_count": 6,
   "metadata": {
    "collapsed": false
   },
   "outputs": [
    {
     "data": {
      "image/png": "[encoded data removed]",
      "text/plain": [
       "<matplotlib.figure.Figure at 0x103705c10>"
      ]
     },
     "metadata": {},
     "output_type": "display_data"
    }
   ],
   "source": [
    "%matplotlib inline\n",
    "\n",
    "from scipy.integrate import ode\n",
    "\n",
    "y0, t0 = [10.0, 0], 0\n",
    "\n",
    "def f(t, y, b, K):\n",
    "    return [y[1], -b*y[1] - K*y[0]]\n",
    "    \n",
    "    \n",
    "r = ode(f).set_integrator('zvode', method='bdf')\n",
    "b = 1.\n",
    "K = 2.\n",
    "r.set_initial_value(y0, t0).set_f_params(b, K)    \n",
    "t1 = 10.\n",
    "dt = 1e-4\n",
    "t_arr = np.array([])\n",
    "v_arr = np.array([])\n",
    "x_arr = np.array([])\n",
    "\n",
    "while r.successful() and r.t < t1:\n",
    "    t_arr = np.append(t_arr, r.t)\n",
    "    x, v = r.integrate(r.t+dt)\n",
    "    v_arr = np.append(v_arr, v)\n",
    "    x_arr = np.append(x_arr, x)\n",
    "#     print(r.t, y)\n",
    "\n",
    "plt.plot(t_arr, v_arr)\n",
    "plt.plot(t_arr, x_arr)\n",
    "plt.show()"
   ]
  },
  {
   "cell_type": "code",
   "execution_count": null,
   "metadata": {
    "collapsed": true
   },
   "outputs": [],
   "source": []
  }
 ],
 "metadata": {
  "kernelspec": {
   "display_name": "Python 2",
   "language": "python",
   "name": "python2"
  },
  "language_info": {
   "codemirror_mode": {
    "name": "ipython",
    "version": 2
   },
   "file_extension": ".py",
   "mimetype": "text/x-python",
   "name": "python",
   "nbconvert_exporter": "python",
   "pygments_lexer": "ipython2",
   "version": "2.7.9"
  }
 },
 "nbformat": 4,
 "nbformat_minor": 0
}

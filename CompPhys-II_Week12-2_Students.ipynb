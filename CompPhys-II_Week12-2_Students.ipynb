{
 "cells": [
  {
   "cell_type": "markdown",
   "metadata": {},
   "source": [
    "# Numerical Integration \n",
    "\n",
    "##1. Definite Integrals\n",
    "\n",
    "### scipy.integrate.quad\n",
    "\n",
    "## 2. Solving simple first order ODE's\n",
    "\n",
    "### scipy.integrate.ode\n",
    "\n"
   ]
  },
  {
   "cell_type": "code",
   "execution_count": null,
   "metadata": {
    "collapsed": true
   },
   "outputs": [],
   "source": [
    "%matplotlib inline\n",
    "# All imports\n",
    "\n",
    "from __future__ import print_function, division\n",
    "import numpy as np\n",
    "import matplotlib.pyplot as plt\n",
    "from copy import copy\n",
    "import time\n",
    "from IPython import display\n",
    "\n",
    "from pdb import set_trace\n",
    "np.set_printoptions(formatter={'float': '{:.5f}'.format})\n"
   ]
  },
  {
   "cell_type": "markdown",
   "metadata": {},
   "source": [
    "\n",
    "##1. Numerical Integration -- Definite Integrals\n",
    "\n",
    "scipy.integrate.quad\n",
    "\n",
    "Integrate func from a to b (possibly infinite interval) using a technique from the Fortran library QUADPACK.\n",
    "\n",
    "Returns: \n",
    "\n",
    "y : float\n",
    "The integral of func from a to b.\n",
    "abserr : float\n",
    "An estimate of the absolute error in the result.\n",
    "\n",
    "\n",
    "## For more information:\n",
    "\n",
    "http://docs.scipy.org/doc/scipy-0.17.0/reference/generated/scipy.integrate.quad.html#scipy.integrate.quad\n",
    "\n",
    "## Note: you will notice some of the powerful numpy functions are Python wrappers to existing Fortran or C routines (another word for programs)."
   ]
  },
  {
   "cell_type": "markdown",
   "metadata": {},
   "source": [
    "## Mini-breakout:\n",
    "## 1. Find the integral of \n",
    "\n",
    "## $$ f(x) = \\frac{1}{x}$$\n",
    "\n",
    "## analytically.\n",
    "\n",
    "## 2. Evaluate the integral between x = 2 and 5."
   ]
  },
  {
   "cell_type": "code",
   "execution_count": null,
   "metadata": {
    "collapsed": false
   },
   "outputs": [],
   "source": [
    "'''Example: Find the integral of 1/x numerically'''\n",
    "\n",
    "\n",
    "# ------> note: new import!!  <---------\n",
    "from scipy import integrate\n",
    "x_inv = lambda x: 1/x\n",
    "\n",
    "a = 2.\n",
    "b = 5.\n",
    "result, tol = integrate.quad(x_inv, a, b)\n",
    "print('Numerical integral of 1/x bewteen {0} and {1}: {2}'.format(a, b, result))\n",
    "print('Analytical result: {}'.format((np.log(b) - np.log(a))))  # analytical result"
   ]
  },
  {
   "cell_type": "markdown",
   "metadata": {},
   "source": [
    "## Breakout:\n",
    "## 1. a) Find the definite integral of \n",
    "\n",
    "## $$ f(x) = sin(x)$$\n",
    "\n",
    "## between 0 and $\\pi$ analytically.\n",
    "\n",
    "## b) Find the same integral numerically.\n",
    "\n",
    "## c) Plot $f(x) = sin(x)$ between 0 and $\\pi$.  What's the meaning of the value of the integral?\n",
    "\n",
    "## 2. a) Find the integral of \n",
    "\n",
    "## $$ g(x) = e^{-x}$$\n",
    "\n",
    "## between $x = 0$ and $\\infty$ analytically.\n",
    "\n",
    "## b) Find the same integral numerically (for $\\infty$ you can use either a very large number or np.inf)\n",
    "\n",
    "## c) Plot $g(x) = e^{-x}$ between 0 and 10.  What's the meaning of the value of the integral?\n",
    "\n",
    "## 3. a) Find the integral of \n",
    "\n",
    "## $$ h(x) = \\frac{1}{\\sqrt{2 \\pi}} e^{-\\frac{x^2}{2}}$$\n",
    "\n",
    "## between $x = 1$ and $\\infty$ numerically.\n",
    "\n",
    "## c) Plot $h(x) = \\frac{1}{\\sqrt{2 \\pi}} e^ {-\\frac {x^2}{2}}$ between $x = -5$ and $5$.  Then draw a verital dashed line at $x = 1$. What's the meaning of the value of the integral?  (*Hint*: do you recognize this integral?)\n"
   ]
  },
  {
   "cell_type": "markdown",
   "metadata": {},
   "source": [
    "## 2. Solve simple ODE's with scipy.integrate.ode\n",
    "\n",
    "## scipy.integrate.ode(f, jac=None)\n",
    "\n",
    "## A generic interface class to numeric integrators.\n",
    "\n",
    "## Solve an equation system $y′(t)=f(t,y)$"
   ]
  },
  {
   "cell_type": "code",
   "execution_count": null,
   "metadata": {
    "collapsed": false
   },
   "outputs": [],
   "source": [
    "'''\n",
    "Solve y' = y\n",
    "\n",
    "with \n",
    "\n",
    "y(x = 0) = 1\n",
    "'''\n",
    "\n",
    "\n",
    "y0, t0 = [1.0, ], 0\n",
    "\n",
    "def f(t, y):\n",
    "    return [y[0], ]    \n",
    "    \n",
    "r = ode(f).set_integrator('zvode', method='bdf')\n",
    "r.set_initial_value(y0, t0) \n",
    "dt = .01\n",
    "t_arr = np.array([])\n",
    "y_arr = np.array([])\n",
    "while r.successful() and r.t < t1:\n",
    "    t_arr = np.append(t_arr, r.t)\n",
    "    y = r.integrate(r.t+dt)\n",
    "    y_arr = np.append(y_arr, y)\n",
    "    print(r.t, y)"
   ]
  },
  {
   "cell_type": "markdown",
   "metadata": {},
   "source": [
    "## Mini-breakout\n",
    "\n",
    "## Solve $$y' = ay$$ with $$y(0) = 2$$ analytically."
   ]
  },
  {
   "cell_type": "code",
   "execution_count": null,
   "metadata": {
    "collapsed": false
   },
   "outputs": [],
   "source": [
    "'''How to handle extra parameters\n",
    "\n",
    "\n",
    "y' = a*y\n",
    "\n",
    "y(t = 0) = 2\n",
    "\n",
    "'''\n",
    "\n",
    "\n",
    "y0, t0 = [2.0, ], 0\n",
    "\n",
    "def f(t, y, arg1):\n",
    "    return [arg1*y[0], ]\n",
    "    \n",
    "    \n",
    "r = ode(f).set_integrator('zvode', method='bdf')\n",
    "a = 2.\n",
    "r.set_initial_value(y0, t0).set_f_params(a)    \n",
    "t1 = .5\n",
    "dt = 1e-4\n",
    "t_arr = np.array([])\n",
    "y_arr = np.array([])\n",
    "while r.successful() and r.t < t1:\n",
    "    t_arr = np.append(t_arr, r.t)\n",
    "    y = r.integrate(r.t+dt)\n",
    "    y_arr = np.append(y_arr, y)\n",
    "#     print(r.t, y)"
   ]
  },
  {
   "cell_type": "code",
   "execution_count": null,
   "metadata": {
    "collapsed": false
   },
   "outputs": [],
   "source": [
    "t = np.linspace(0, 0.5, 100)\n",
    "y = a*np.exp(a*t)\n",
    "plt.plot(t_arr, y_arr)\n",
    "plt.plot(t, y, 'x')\n",
    "plt.show()"
   ]
  },
  {
   "cell_type": "markdown",
   "metadata": {},
   "source": [
    "## Mini-breakout \n",
    "\n",
    "## Solve the following 1st order ODE by using separation of varibles \n",
    "## (modified from Boas p. 398, Problem 10)\n",
    "\n",
    "## $$ y' - ty = t$$\n",
    "\n",
    "## with the initial condition\n",
    "\n",
    "## $$y(t = 0) = 2$$"
   ]
  },
  {
   "cell_type": "markdown",
   "metadata": {},
   "source": [
    "## Breakout:\n",
    "\n",
    "## Solve the aobve differential equation using scipy.integrate.ode\n",
    "\n",
    "## Plot your result and compare the analytical result"
   ]
  },
  {
   "cell_type": "markdown",
   "metadata": {},
   "source": [
    "# End of Week12-1"
   ]
  }
 ],
 "metadata": {
  "kernelspec": {
   "display_name": "Python 2",
   "language": "python",
   "name": "python2"
  },
  "language_info": {
   "codemirror_mode": {
    "name": "ipython",
    "version": 2
   },
   "file_extension": ".py",
   "mimetype": "text/x-python",
   "name": "python",
   "nbconvert_exporter": "python",
   "pygments_lexer": "ipython2",
   "version": "2.7.6"
  }
 },
 "nbformat": 4,
 "nbformat_minor": 0
}

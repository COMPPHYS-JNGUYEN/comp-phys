{
 "cells": [
  {
   "cell_type": "markdown",
   "metadata": {},
   "source": [
    "# Numerical Integration \n",
    "\n",
    "##1. Solving Second Order ODE's\n",
    "\n",
    "### scipy.integrate.ode\n",
    "\n",
    "## 2. Introduction to Animation\n",
    "\n",
    "### http://matplotlib.org/1.4.1/examples/animation/\n"
   ]
  },
  {
   "cell_type": "code",
   "execution_count": 1,
   "metadata": {
    "collapsed": true
   },
   "outputs": [],
   "source": [
    "%matplotlib inline\n",
    "# All imports\n",
    "\n",
    "from __future__ import print_function, division\n",
    "import numpy as np\n",
    "import matplotlib.pyplot as plt\n",
    "from copy import copy\n",
    "import time\n",
    "from IPython import display\n",
    "from scipy.integrate import ode\n",
    "\n",
    "\n",
    "from pdb import set_trace\n",
    "np.set_printoptions(formatter={'float': '{:.5f}'.format})\n"
   ]
  },
  {
   "cell_type": "markdown",
   "metadata": {},
   "source": [
    "## 1. Solve Second Order ODE's with scipy.integrate.ode\n",
    "\n",
    "## scipy.integrate.ode(f, jac=None)\n",
    "\n",
    "## A generic interface class to numeric integrators.\n",
    "\n",
    "## Solve an equation system $y′(t)=f(t,y)$"
   ]
  },
  {
   "cell_type": "markdown",
   "metadata": {},
   "source": [
    "## The spring-mass problem\n",
    "\n",
    "## $$x''(t) + bx'(t) + cx(t) = 0$$\n",
    "\n",
    "## where $c = \\frac {k} {m}$\n"
   ]
  },
  {
   "cell_type": "markdown",
   "metadata": {},
   "source": [
    "## Tranform it into two coupled 1st order ODE, then use scipy.integrate.ode\n",
    "\n",
    "## Define \n",
    "\n",
    "## $$ v(t) = x'(t) \\tag{1}$$\n",
    "\n",
    "## Then \n",
    "\n",
    "## $$v'(t) + bv(t) + cx(t) = 0$$\n",
    "\n",
    "## Or\n",
    "\n",
    "## $$v'(t) = -bv(t) - cx(t) \\tag{2} $$\n",
    "\n",
    "## Thus here are the coupled equations:\n",
    "      \n",
    "      \n",
    "## $$\\begin{cases} \n",
    "      x'(t) = v(t) \\\\\n",
    "      v'(t) = -bv(t) - cx(t)\n",
    "\\end{cases} \\tag {2}$$\n",
    "\n",
    "## Initial condition:\n",
    "\n",
    "## $$\\begin{cases} \n",
    "      v(t = 0) = 0\\\\\n",
    "      x(t = 0) = 10\n",
    "\\end{cases} \\tag {2}$$\n"
   ]
  },
  {
   "cell_type": "markdown",
   "metadata": {},
   "source": [
    "## For coding,\n",
    "\n",
    "## x --> y[0]\n",
    "## v --> y[1]"
   ]
  },
  {
   "cell_type": "code",
   "execution_count": 3,
   "metadata": {
    "collapsed": false
   },
   "outputs": [
    {
     "data": {
      "image/png": "[encoded data removed]",
      "text/plain": [
       "<matplotlib.figure.Figure at 0x10da744d0>"
      ]
     },
     "metadata": {},
     "output_type": "display_data"
    }
   ],
   "source": [
    "'''\n",
    "\n",
    "Damped Harmonic Oscillator\n",
    "\n",
    "(Next time: can include the jacobian information)\n",
    "\n",
    "'''\n",
    "\n",
    "from scipy.integrate import ode\n",
    "\n",
    "y0, t0 = [10., 0.], 0\n",
    "\n",
    "def f(t, y, b, c):\n",
    "    return [y[1], -b*y[1]-c*y[0]]\n",
    "\n",
    "b = 0.5\n",
    "c = 1.5\n",
    "\n",
    "\n",
    "r = ode(f).set_integrator('zvode', method='bdf')\n",
    "r.set_initial_value(y0, t0).set_f_params(b, c)\n",
    "t1 = 10.\n",
    "dt = 0.01\n",
    "t_arr = np.array([])\n",
    "x_arr = np.array([])\n",
    "v_arr = np.array([])\n",
    "\n",
    "while r.successful() and r.t < t1:\n",
    "    \n",
    "    t_arr = np.append(t_arr, r.t)\n",
    "    x, v = r.integrate(r.t+dt)\n",
    "    x_arr = np.append(x_arr, x)\n",
    "    v_arr = np.append(v_arr, v)\n",
    "\n",
    "plt.plot(t_arr, x_arr)\n",
    "plt.plot(t_arr, v_arr)\n",
    "plt.show()\n",
    "#     print(r.t, r.integrate(r.t+dt))"
   ]
  },
  {
   "cell_type": "code",
   "execution_count": 4,
   "metadata": {
    "collapsed": false
   },
   "outputs": [
    {
     "name": "stdout",
     "output_type": "stream",
     "text": [
      "x_v.shape: (1257, 2)\n"
     ]
    },
    {
     "data": {
      "image/png": "[encoded data removed]",
      "text/plain": [
       "<matplotlib.figure.Figure at 0x10f9c3d90>"
      ]
     },
     "metadata": {},
     "output_type": "display_data"
    }
   ],
   "source": [
    "'''\n",
    "A cleaner interface: odeint\n",
    "\n",
    "(Next time: can include the jacobian information)\n",
    "\n",
    "'''\n",
    "# -----------> new import!! <----------------\n",
    "from scipy.integrate import odeint\n",
    "\n",
    "y0, t0 = [10., 0.], 0\n",
    "\n",
    "def DHO(y, t, b, c):\n",
    "    '''\n",
    "    Damped harmonic oscillator\n",
    "    \n",
    "    b: drag coeff\n",
    "    c: k/m\n",
    "    '''\n",
    "    x, v = y[0], y[1]\n",
    "    dxdt, dvdt = v, -b*v - c*x\n",
    "    return [dxdt, dvdt]\n",
    "\n",
    "\n",
    "b = 0.5\n",
    "k = 10.\n",
    "m = 7.\n",
    "c = k/m\n",
    "\n",
    "t1 = np.pi*4\n",
    "dt = 0.01\n",
    "\n",
    "t = np.arange(0, t1, dt)\n",
    "\n",
    "x_v = odeint(DHO, y0, t, args=(b, c))\n",
    "print('x_v.shape:', x_v.shape)\n",
    "x = x_v[:, 0]\n",
    "v = x_v[:, 1]\n",
    "\n",
    "plt.plot(t, x)\n",
    "plt.plot(t, v)\n",
    "plt.show()"
   ]
  },
  {
   "cell_type": "markdown",
   "metadata": {},
   "source": [
    "## Breakout Exercise: Simple Pendulum\n",
    "\n",
    "## $$\\theta''(t) + b\\theta'(t) + c sin(\\theta(t)) = 0$$\n",
    "\n",
    "## Note: there is no appoximation here!  In Gen Phys II, this is written as\n",
    "\n",
    "## $$\\theta''(t) + b\\theta'(t) + c \\theta(t) = 0$$\n",
    "\n",
    "## by the small angle approximation.\n",
    "\n",
    "## But here we will solve the exact equation using a numerical method.\n",
    "\n"
   ]
  },
  {
   "cell_type": "code",
   "execution_count": 9,
   "metadata": {
    "collapsed": false
   },
   "outputs": [
    {
     "name": "stdout",
     "output_type": "stream",
     "text": [
      "th_o.shape: (1257, 2)\n"
     ]
    },
    {
     "data": {
      "image/png": "[encoded data removed]",
      "text/plain": [
       "<matplotlib.figure.Figure at 0x1101b43d0>"
      ]
     },
     "metadata": {},
     "output_type": "display_data"
    }
   ],
   "source": [
    "'''\n",
    "A cleaner interface: odeint\n",
    "\n",
    "(Next time: can include the jacobian information)\n",
    "\n",
    "'''\n",
    "# -----------> new import!! <----------------\n",
    "from scipy.integrate import odeint\n",
    "\n",
    "y0, t0 = [np.pi/2., 0.], 0\n",
    "\n",
    "def HO(y, t, b, c):\n",
    "    '''\n",
    "    Harmonic oscillator\n",
    "    \n",
    "    b: drag coeff\n",
    "    c: k/m\n",
    "    \n",
    "    x --> Theta\n",
    "    v --> Omega\n",
    "    '''\n",
    "    x, v = y[0], y[1]\n",
    "    dxdt, dvdt = v, -b*v - c*np.sin(x)\n",
    "    return [dxdt, dvdt]\n",
    "\n",
    "\n",
    "b = 0.5\n",
    "k = 10.\n",
    "m = 7.\n",
    "c = k/m\n",
    "\n",
    "t1 = np.pi*4\n",
    "dt = 0.01\n",
    "\n",
    "t = np.arange(0, t1, dt)\n",
    "\n",
    "th_o = odeint(HO, y0, t, args=(b, c))\n",
    "print('th_o.shape:', th_o.shape)\n",
    "th = th_o[:, 0]\n",
    "o = th_o[:, 1]\n",
    "\n",
    "plt.plot(t, th)\n",
    "plt.plot(t, o)\n",
    "plt.show()"
   ]
  },
  {
   "cell_type": "code",
   "execution_count": 11,
   "metadata": {
    "collapsed": false
   },
   "outputs": [
    {
     "data": {
      "text/plain": [
       "0.54030230586813977"
      ]
     },
     "execution_count": 11,
     "metadata": {},
     "output_type": "execute_result"
    }
   ],
   "source": [
    "np.cos(1)"
   ]
  },
  {
   "cell_type": "markdown",
   "metadata": {},
   "source": [
    "# End of Week13-1"
   ]
  }
 ],
 "metadata": {
  "kernelspec": {
   "display_name": "Python 2",
   "language": "python",
   "name": "python2"
  },
  "language_info": {
   "codemirror_mode": {
    "name": "ipython",
    "version": 2
   },
   "file_extension": ".py",
   "mimetype": "text/x-python",
   "name": "python",
   "nbconvert_exporter": "python",
   "pygments_lexer": "ipython2",
   "version": "2.7.9"
  }
 },
 "nbformat": 4,
 "nbformat_minor": 0
}

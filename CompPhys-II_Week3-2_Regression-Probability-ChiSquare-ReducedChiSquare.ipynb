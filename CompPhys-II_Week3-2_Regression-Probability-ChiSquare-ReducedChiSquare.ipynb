{
 "cells": [
  {
   "cell_type": "markdown",
   "metadata": {},
   "source": [
    "# Lecture Week 3-2"
   ]
  },
  {
   "cell_type": "markdown",
   "metadata": {},
   "source": [
    "## Topics\n",
    "\n",
    "\n",
    "## Week 3-2: \n",
    "\n",
    "\n",
    "## I. Regression -- Fitting for Two Parameters (continued)\n",
    "\n",
    "### &nbsp; &nbsp; &nbsp; &nbsp;  D) Reduced $\\rm{\\chi}^2$\n",
    "\n",
    "\n",
    "## II. Probability and $\\chi^2$\n",
    "\n",
    "### &nbsp; &nbsp; &nbsp; &nbsp;  A) $\\chi^2$, Probability Distribution Function (PDF), and Cumulative Distribution Function (CDF)\n",
    "### &nbsp; &nbsp; &nbsp; &nbsp;  B) Confidence Levels\n",
    "\n",
    "\n",
    "\n",
    "## Lab: $\\chi^2$, PDF, CDF, and Confidence Levels\n",
    "\n"
   ]
  },
  {
   "cell_type": "markdown",
   "metadata": {},
   "source": [
    "## I.D) Reduced $\\chi^2$\n",
    "\n",
    "## $\\chi^2_{\\nu} = \\frac {\\chi^2} {\\text{DOF}}$\n",
    "\n",
    "## Let\n",
    "\n",
    "## $N$ = number of independent data points, and \n",
    "\n",
    "## $n$ = number of fitting parameters.\n",
    "\n",
    "## Then,\n",
    "\n",
    "## $\\text{DOF} = N - n$"
   ]
  },
  {
   "cell_type": "markdown",
   "metadata": {},
   "source": [
    "## Imagine if you only have two points, you will always be able to find m and b that will pass through these two points perfectly.  But you know that shouldn't happen because there will always be uncertainty.  Yes you can fit a line perfectly through 2 data points, but you are fitting for both the actual trend and the noise.  \n",
    "\n",
    "## This happens more often than you think.  It actually has a name:  Overfitting.\n",
    "\n",
    "## Overfitting results when the number of fitting parameter is comparable to or greater than the number of independent data points."
   ]
  },
  {
   "cell_type": "code",
   "execution_count": 2,
   "metadata": {
    "collapsed": false
   },
   "outputs": [
    {
     "data": {
      "image/png": "[encoded data removed]",
      "text/plain": [
       "<matplotlib.figure.Figure at 0x10c4ad490>"
      ]
     },
     "metadata": {},
     "output_type": "display_data"
    },
    {
     "name": "stdout",
     "output_type": "stream",
     "text": [
      "The minimum chi^2:17.6555.\n",
      "The best-fit slope and intercept for the simulated data are m = 4.8000 and b = 30.0000.\n",
      "(The input values are m_true = 4.2000 and b_true = 35.000000).\n",
      "The reduced chi^2 is 0.9809\n"
     ]
    }
   ],
   "source": [
    "%matplotlib inline\n",
    "import numpy as np\n",
    "import matplotlib.pyplot as plt\n",
    "'''\n",
    "Reduced chi^2 = chi^2/DOF\n",
    "\n",
    "Note: For a sample of 20 simulated data points, you may get anything between 0.5 and 1.5.  \n",
    "\n",
    "This is due to the small number of data points.  \n",
    "\n",
    "'''\n",
    "\n",
    "def f(m, b, x):\n",
    "    return m*x + b\n",
    "\n",
    "N = 20\n",
    "x = np.linspace(8, 12, N)\n",
    "\n",
    "# simulate the temperature measurements\n",
    "m_true = 4.2\n",
    "b_true = 35\n",
    "\n",
    "y_true = m_true * x + b_true\n",
    "\n",
    "# specify fractional error, say 10%, which is what occurs \n",
    "#for certain experiment. If you want to sound like a pro, \n",
    "# you say \"a signal-to-noise ratio of 10\". \n",
    "# (or S/N = 10).\n",
    "sig_frac = 0.10\n",
    "sig = y_true * sig_frac\n",
    "\n",
    "y = y_true + np.random.randn(x.shape[0]) * sig\n",
    "\n",
    "\n",
    "\n",
    "m_start, m_end = 0, 10\n",
    "b_start, b_end = 0, 100\n",
    "\n",
    "chi2_min = 1e6\n",
    "for m in np.arange(m_start, m_end, 0.1):\n",
    "    for b in np.arange(b_start, b_end, 1):\n",
    "        chi2 = ((y - f(m, b, x))**2/sig**2).sum()\n",
    "        if chi2 < chi2_min:\n",
    "            chi2_min = chi2\n",
    "            m_best = m\n",
    "            b_best = b\n",
    "\n",
    "# ms: marker size\n",
    "plt.errorbar(x, y, yerr = sig, fmt = 'o', ms = 6) \n",
    "plt.plot(x, f(m_best, b_best, x), 'k-')\n",
    "plt.show()\n",
    "\n",
    "            \n",
    "print('The minimum chi^2:{:.4f}.'.format(chi2_min))\n",
    "print('The best-fit slope and intercept for the simulated data are \\\n",
    "m = {:.4f} and b = {:.4f}.'.format(m_best, b_best))\n",
    "print('(The input values are m_true = {:.4f} and b_true = {:4f}).'.format(m_true, b_true))\n",
    "\n",
    "N = len(x)\n",
    "n = 2\n",
    "\n",
    "DOF = N - n\n",
    "chi2_nu = chi2_min/DOF\n",
    "print(\"The reduced chi^2 is {:.4f}\".format(chi2_nu))\n"
   ]
  },
  {
   "cell_type": "markdown",
   "metadata": {},
   "source": [
    "## Breakout Excercise:\n",
    "\n",
    "## Go back to the example of 20 data points with uniform variance and calculate the reduced $\\chi^2$\n",
    "\n",
    "## You may start with the following code for simulation and fitting."
   ]
  },
  {
   "cell_type": "code",
   "execution_count": 44,
   "metadata": {
    "collapsed": false
   },
   "outputs": [
    {
     "name": "stdout",
     "output_type": "stream",
     "text": [
      "The minimum RSS:24.7855.\n",
      "The best-fit slope and intercept for the simulated data are m = 4.1000 and b = 36.0000.\n",
      "(The input values are m_true = 4.2000 and b_true = 35.000000).\n",
      "1.74506328319\n"
     ]
    }
   ],
   "source": [
    "'''\n",
    "\n",
    "Least square minimization with uniform variance: Grid search.\n",
    "\n",
    "Note: for some simulation, I don't exactly get the input values of m_true and b_true.\n",
    "'''\n",
    "N = 20\n",
    "\n",
    "x = np.linspace(8, 12, N)\n",
    "m_true = 4.2\n",
    "b_true = 35\n",
    "\n",
    "y_true = m_true * x + b_true \n",
    "sig = 1.2\n",
    "y = y_true + np.random.randn(x.shape[0]) * sig\n",
    "\n",
    "# Grid search\n",
    "m_start, m_end = 0, 10\n",
    "b_start, b_end = 0, 100\n",
    "\n",
    "rss_min = 1e6\n",
    "for m in np.arange(m_start, m_end, 0.1):\n",
    "    for b in np.arange(0, 100, 1):\n",
    "        rss = ((y - f(m, b, x))**2).sum()\n",
    "        if rss < rss_min:\n",
    "            rss_min = rss\n",
    "            m_best = m\n",
    "            b_best = b\n",
    "        \n",
    "n = 2\n",
    "chi_sq = rss_min/sig**2\n",
    "chi_nu_sq = chi_sq/(N-n)\n",
    "            \n",
    "print('The minimum RSS:{:.4f}.'.format(rss_min))\n",
    "print('The best-fit slope and intercept for the simulated data are \\\n",
    "m = {:.4f} and b = {:.4f}.'.format(m_best, b_best))\n",
    "print('(The input values are m_true = {:.4f} and b_true = {:4f}).'.format(m_true, b_true))\n",
    "print(reduced_chi_sq)"
   ]
  },
  {
   "cell_type": "markdown",
   "metadata": {},
   "source": [
    "## We can go back further to the case of fitting for one parameter.  Remeber: 50 thermometers measuring room temperature at the same time.  \n",
    "\n",
    "We can easily calculate $\\chi^2_{\\nu}$.  First of all,\n",
    "\n",
    "$$\\chi^2 = \\sum_{i} { \\frac {[t_i - \\langle t \\rangle]^2} {\\sigma_i^2} } \\tag {4}$$\n",
    "\n",
    "Let $N$ be the number of independent data points; the degree of freedom is:\n",
    "\n",
    "$$ \\text{DOF} = \\nu = N - 1 $$\n",
    "\n",
    "We need to subtract 1 because there is *one* fitting parameter.  Then\n",
    "\n",
    "$$\\chi^2_{\\nu} = \\frac{\\chi^2} {N-1} \\tag {5}$$\n",
    "\n",
    "(Again, in the case of only one data point, it's meaningless to compute the average -- the simplest case of overfitting: a horizontal line can be shifted up and down to pass exactly through any one point!)"
   ]
  },
  {
   "cell_type": "markdown",
   "metadata": {},
   "source": [
    "## In this simplest of all cases, how do we understand why $\\chi^2_{\\nu}$ should be roughly 1:\n",
    "\n",
    "\n",
    "If our assumption that noise follows a Gaussian distribution is right, then roughly 2/3 of the times each of the terms\n",
    "\n",
    "$$\\frac{ t_i - \\langle t \\rangle} {\\sigma_i}  \\tag{6} $$\n",
    "\n",
    "\n",
    "is less than 1, and 1/3 of the times they are greater than 1.  But in the sum of $\\chi^2$, the terms we are summing is the square of the expression in (6):\n",
    "\n",
    "$$\\left[ \\frac{ t_i - \\langle t \\rangle} {\\sigma_i} \\right]^2 \\tag{7} $$\n",
    "\n",
    "\n",
    "When a number less than 1 is squared, it's even smaller, but there is a lower bound, 0.  When a number larger than 1 is squared, it's even larger, but there is no bound from above.  So even though only ~1/3 of the times will a term in the form of (7) be larger than 1, they have longer \"lever arms\" from the number 1.  If there are a large number of terms, those that are greater than 1 exactly balance those that are less than 1.  Thus the average of all the terms in $\\chi^2$ (eqn (4)) is 1.  This is essentially what the reduced $\\chi^2$ calculates: the average of the terms in the form of (7).  (You may wonder if for computing the average we need $N$ in the denominator of eqn (5) instead of $N-1$.  First of all, if $N$ is large, it makes little difference whether it's $N$ or $N-1$.  For small $N$, well, $N-1$ is correct -- if you actually do the math.).\n",
    "\n",
    "This is not a proof but rather an intuitive way for you understand why reduced $\\chi^2$ should be around 1.\n",
    "\n",
    "One other way of understanding eqn (4) or the expression in (7): We are basically trying to get a sense of how big the deviations are from our best estimate of the temperature.  It makes sense to measure the deviation for each data point in unit of $\\sigma_i$.  "
   ]
  },
  {
   "cell_type": "markdown",
   "metadata": {},
   "source": [
    "## Remember we started this whole discussion wanting to calculate and maximize this probability (again using temperature measurement as the example):\n",
    "\n",
    "## $$P(T|D)\\text{,} \\tag{8}$$\n",
    "\n",
    "## and hope to obtain, given data $D$, the most likely value for the true temperature.\n",
    "\n",
    "## But it turns out we don't know how to calculate the probability in (8).  Instead we calculate and maximize this probability \n",
    "\n",
    "## $$P(D|T)\\text{,} \\tag{9}$$\n",
    "\n",
    "## and obtain the temperature value for which the data $D$ is the most likely. \n",
    "\n",
    "## We then assume the temperature value that maximizes (9) also maximizes (8)."
   ]
  },
  {
   "cell_type": "markdown",
   "metadata": {},
   "source": [
    "## For one temperature measurement, the probability is (See Week2-2, $\\S$ II.A)),\n",
    "\n",
    "\n",
    "## $$P(t; T) = \\frac{1}{\\sqrt{2\\pi\\sigma}} e^{ -\\frac{ (t - T)^2 } { 2\\sigma^2 }} \\tag{10}$$\t\n",
    "\n",
    "## For a data set of $N$ measurements,\n",
    "\n",
    "\n",
    "## $P(D|T) = P(t_1, t_2, t_i,..., t_N; T) = P(t_1; T)P(t_2; T)...P(t_i; T)...P(t_N; T)$ \n",
    "## $\\hspace{2.75em} = e^{\\left[ -\\frac{(t_1-T)^2}{2\\sigma^2}-\\frac{(t_2-T)^2}{2\\sigma^2}-...\\frac{(t_i-T)^2}{ 2\\sigma^2}-...-\\frac{(t_N-T)^2}{2\\sigma^2} \\right]}$\n",
    "\n",
    "## Or,\n",
    "\n",
    "## $$P(D|T) = Ae^{-\\chi^2/2} \\text{,} \\tag{11}$$\n",
    "\n",
    "##where $A = \\left( \\frac{1}{\\sqrt{2\\pi\\sigma}}\\right)^N$ (See $\\S$ II.D) of Notebook Week2-2.)\n",
    "\n",
    "## Eqn (11) is the probability of how likely the data set $D = \\{t_i\\}$ is going to occur given the temperture is $T$.  When it is integrated over all possible values for $\\{t_i\\}$, we should get 1, by definition.\n",
    "\n",
    "## But we will now reinterpret this as a probability for $T$ -- remember we are saying $P(D|T)$ is the same as $P(T|D)$ -- so we will replace the L.H.S. of (11) by $P(T|D)$.\n",
    "\n",
    "## For the R.H.S. of (11), what's traditionally done is to divide it by $e^{-\\chi_\\text{min}^2/2}$.  So now we have:\n",
    "\n",
    "## $$P(T|D) \\propto e^{-\\Delta\\chi^2/2} \\text{,} \\tag{12}$$\n",
    "\n",
    "## where $\\Delta\\chi^2 = \\chi^2 - \\chi^2_{\\text{min}}$.\n",
    "\n",
    "## The proportionality constant will be determined by requiring that this probability integrated over all possible values of $T$ is 1.\n",
    "\n",
    "## Computationally, you integrate over a large enough range of $T$ around $T_{best}$ and require the result to be 1.\n",
    "\n",
    "\n",
    "## This an example of one fitting parameter ($T$)."
   ]
  },
  {
   "cell_type": "markdown",
   "metadata": {},
   "source": [
    "## In the case of 2 fitting parameters:\n",
    "\n",
    "## Given $m$ and $b$, the probability of the $i$th measurement being $y_i$ is\n",
    "\n",
    "## $$\\frac{1}{\\sqrt{2\\pi\\sigma}} e^{-\\frac {[y_i - f(x_i)]^2} {2\\sigma^2}} = \\frac{1}{\\sqrt{2\\pi\\sigma}} e^{ -\\frac{[y_i - (mx_i + b)]^2}{2\\sigma^2} }  \\tag{13}$$\n",
    "\n",
    "\n",
    "## and thus, \n",
    "\n",
    "## $P(D|[m, b]) = P(y_1; [m, b])P(y_2; [m, b])...P(y_i; [m, b])...P(y_N; [m, b])$ \n",
    "## $\\hspace{4.3em} = Ae^{-\\sum_{i=1}^N {\\frac{[y_i - (mx_i + b)]^2}{2\\sigma^2}}}$\n",
    "\n",
    "## Or,\n",
    "\n",
    "## $$P(D|[m, b]) = Ae^{-\\chi^2/2}\\text{,} \\tag{14}$$\n",
    "\n",
    "## where, again, $A = \\left( \\frac{1}{\\sqrt{2\\pi\\sigma}}\\right)^N$\n",
    "\n",
    "## Eqn (14) is the probability of how likely the data set $D = \\{y_i\\}$ going to occur given the slope and intercept are $[m, b]$.  When it is integrated over all possible values for $\\{y_i\\}$, we should get 1, by definition.\n",
    "\n",
    "## But we will now reinterpret this as a probability for $[m, b]$.\n",
    "\n",
    "## So again, replacing the L.H.S. of (14) by $P([m, b]|D)$ and dividing the R.H.S. by $e^{-\\chi_\\text{min}^2/2}$, we have:\n",
    "\n",
    "## $$P([m, b]|D) \\propto e^{-\\Delta\\chi^2/2} \\text{,} \\tag{15}$$\n",
    "\n",
    "## The proportionality constant will be determined by requiring that this probability integrated over all possible values of $m$ and $b$ is 1.\n",
    "\n",
    "## Computationally, you integrate over a large enough area in the $m\\text{-}b$ space around the point $(m_{best}, b_{best})$ and require the result to be 1."
   ]
  },
  {
   "cell_type": "markdown",
   "metadata": {},
   "source": [
    "# The take away:\n",
    "\n",
    "## The probability of a model, characterized by a set of parameters, being the correct model for reality is proportional to $e^{-\\Delta\\chi^2/2}$.\n",
    "\n",
    "## For the one-parameter example,\n",
    "\n",
    "## $$P(\\text{ model }|\\text{ data })= P(T|D) \\propto Ae^{-\\Delta\\chi^2/2} .$$\n",
    "\n",
    "## For the two-parameter example, \n",
    "\n",
    "## $$P(\\text{ model }|\\text{ data }) = P([m, b]|D) \\propto e^{-\\Delta\\chi^2/2}.$$\n",
    "\n",
    "## In general,\n",
    "\n",
    "## $$P(\\text{ model }|\\text{ data }) \\propto e^{-\\Delta\\chi^2/2} \\text{.} \\tag{16}$$\n",
    "\n",
    "## If your model has $n$ parameters, $\\text{model}(p_1, p_2,..., p_n)$, the proportionality constant in (16) will be determined by requiring that this probability integrated over all these parameters is 1.\n",
    "\n",
    "\n",
    "## N.B.: The quantity in the exponent in (16) is $\\Delta\\chi^2$ and not $\\Delta\\chi^2_{\\nu}$!"
   ]
  },
  {
   "cell_type": "markdown",
   "metadata": {},
   "source": [
    "\n",
    "## OK, let's do it!\n",
    "\n",
    "## ... but first a couple of useful numpy functions and methods."
   ]
  },
  {
   "cell_type": "code",
   "execution_count": 45,
   "metadata": {
    "collapsed": false
   },
   "outputs": [
    {
     "name": "stdout",
     "output_type": "stream",
     "text": [
      "[  1.   2.   3.   4.   5.   6.   7.   8.   9.  10.]\n",
      "[  1.   3.   6.  10.  15.  21.  28.  36.  45.  55.]\n",
      "[  1.   2.   3.   4.   5.   6.   7.   8.   9.  10.  -1.  -2.  -3.  -4.  -5.\n",
      "  -6.  -7.  -8.  -9. -10.]\n"
     ]
    }
   ],
   "source": [
    "'''\n",
    "\n",
    "Two numpy array methods: \n",
    "\n",
    "cumsum and concatenate\n",
    "\n",
    "'''\n",
    "a = np.linspace(1, 10, 10)\n",
    "a_cumsum = a.cumsum()\n",
    "print(a)\n",
    "print(a_cumsum)\n",
    "\n",
    "\n",
    "b = np.linspace(-1, -10, 10)\n",
    "# Note: what goes into np.concatenate has to be a tuple\n",
    "c = np.concatenate((a, b))\n",
    "print(c)"
   ]
  },
  {
   "cell_type": "code",
   "execution_count": 46,
   "metadata": {
    "collapsed": false
   },
   "outputs": [
    {
     "data": {
      "image/png": "[encoded data removed]",
      "text/plain": [
       "<matplotlib.figure.Figure at 0x102f45d90>"
      ]
     },
     "metadata": {},
     "output_type": "display_data"
    }
   ],
   "source": [
    "'''\n",
    "\n",
    "plot looks weird because:\n",
    "\n",
    "- Python connects the plotted points according the order of the indpendent variable.\n",
    "- If the x array is not ordered, you will see zig-zag lines.\n",
    "\n",
    "'''\n",
    "\n",
    "# arr = np.random.rand(4)\n",
    "x_arr = np.array([0.9, 0.2, 0.4, 0.5])\n",
    "y_arr = x_arr**2\n",
    "plt.plot(x_arr, y_arr)\n",
    "plt.show()\n"
   ]
  },
  {
   "cell_type": "code",
   "execution_count": 47,
   "metadata": {
    "collapsed": false
   },
   "outputs": [
    {
     "name": "stdout",
     "output_type": "stream",
     "text": [
      "original x_arr: [ 0.9  0.2  0.4  0.5]\n",
      "sorted_idx: [1 2 3 0]\n",
      "sorted x_arr: [ 0.2  0.4  0.5  0.9]\n"
     ]
    },
    {
     "data": {
      "image/png": "[encoded data removed]",
      "text/plain": [
       "<matplotlib.figure.Figure at 0x102f74690>"
      ]
     },
     "metadata": {},
     "output_type": "display_data"
    }
   ],
   "source": [
    "'''numpy.argsort'''\n",
    "\n",
    "# arr = np.random.rand(4)\n",
    "x_arr = np.array([0.9, 0.2, 0.4, 0.5])\n",
    "y_arr = x_arr**2\n",
    "# sorted_idx tells you the position of each element in the sorted array\n",
    "sorted_idx = np.argsort(x_arr)\n",
    "\n",
    "x_arr_sorted = x_arr[sorted_idx]\n",
    "y_arr_sorted = y_arr[sorted_idx]\n",
    "\n",
    "plt.plot(x_arr_sorted, y_arr_sorted)\n",
    "print('original x_arr: {}'.format(x_arr))\n",
    "print('sorted_idx: {}'.format(sorted_idx))\n",
    "# sorted in ascending order\n",
    "print('sorted x_arr: {}'.format(x_arr_sorted))\n",
    "\n"
   ]
  },
  {
   "cell_type": "markdown",
   "metadata": {},
   "source": [
    "## The idea is that as the array x_arr gets sorted, the indices of the elements are also sorted.\n",
    "\n",
    "## argsort gives you the order of the original indices after the sorting.\n",
    "\n",
    "## Since 0.9 had the original index of 0, and after sorting 0.9 become the last element, so 0 becomes the last element of what argsort returns.\n",
    "\n",
    "## You can then think of sorted_idx (what's returned by argsort) as a set of instructions.  In this case:\n",
    "\n",
    "- Take the original 0th element and put it in the 3rd (last) place\n",
    "- Take the original 1st element and put it in the 0th place\n",
    "- Take the original 2nd element and put it in the 1st place\n",
    "- Take the original 3rd element and put it in the 2nd place.\n",
    "\n",
    "## By doing \n",
    "\n",
    "x_arr_sorted = x_arr[sorted_idx]\n",
    "\n",
    "## you are carrying out this set of instructions.\n",
    "\n",
    "## Similarly by doing \n",
    "\n",
    "y_arr_sorted = y_arr[sorted_idx]\n",
    "\n",
    "## you are sorting y_arr in such a way that each element in y_arr_sorted corresponds to the right element in x_arr_sorted.\n",
    "\n",
    "## You can think of applying argsort to x_arr as a way to get the instructions to sort x_arr, and then you can apply the set of instructions to both x_arr and y_arr so that after sorting, each element in the x array still corresponds to the right element in the y array."
   ]
  },
  {
   "cell_type": "markdown",
   "metadata": {},
   "source": [
    "## Short Breakout Exercise (one-liner, a bit of a brain teaser...)\n",
    "\n",
    "## If someone gives you an array that has been sorted in ascending order \n",
    "\n",
    "x_arr_sorted = [ 0.2  0.4  0.5  0.9]\n",
    "\n",
    "## and the sorted indices\n",
    "\n",
    "sorted_idx = [1 2 3 0]\n",
    "\n",
    "## How do you get the original array (let's call it arr) back?"
   ]
  },
  {
   "cell_type": "markdown",
   "metadata": {},
   "source": [
    "## Before I show you the solution..."
   ]
  },
  {
   "cell_type": "markdown",
   "metadata": {},
   "source": [
    "## When we sorted x_arr into an ascending order, the indices or x_arr got scrambled and are no longer squential.\n",
    "\n",
    "## Now you want to put these indices back in the original order, that is, the sequential order.  Another way of saying that is to order the indices in idx_ordered:\n",
    "\n",
    "##$$ [1\\, 2\\, 3\\, 0]  \\rightarrow [0\\,1\\,2\\,3]$$\n",
    "\n",
    "\n",
    "## Also, note that there is a one-to-one correspondence between sorted_idx and x_arr_sorted (the original index of every element in x_arr_sorted is stored in sorted_idx).\n",
    "\n",
    "\n",
    "##\\begin{array}{llll}\n",
    "[\\mkern-18mu&1 &2 &3 &0]\\\\\n",
    "&\\downarrow &\\downarrow &\\downarrow &\\downarrow \\\\\n",
    "[& 0.2 &0.4 &0.5 &0.9] \\\\\n",
    "\\end{array}\n",
    "\n",
    "\n",
    "## So...let's sort sorted_idx back into sequential order and get the set of instructions to accomplish that. \n",
    "\n",
    "## Well, argsort does exactly that if we apply it to sorted_idx.\n",
    "\n",
    "## Then impose that set of instructions on x_arr_sorted, and you would have gotten the original array back. And we know the way to obtain the instruction is by applying np.argsort.\n",
    "\n",
    "## In summary:\n",
    "\n",
    "## we apply np.argsort to sorted_idx to get the instruction and then impose the instruction on x_arry_sorted.\n",
    "\n"
   ]
  },
  {
   "cell_type": "markdown",
   "metadata": {},
   "source": [
    "## Lab: $\\chi^2$, PDF, CDF, and Confidence Levels"
   ]
  },
  {
   "cell_type": "markdown",
   "metadata": {},
   "source": [
    "## Lab Breakout Exercise 1:\n",
    "\n",
    "## First, the simplest problem, a one-parameter model:\n",
    "\n",
    "-  ## Simulate 2000 data points -- Gaussian random numbers with mu = 10. and sigma = 2.\n",
    "\n",
    "-  ## Plot histogram.\n",
    "\n",
    "-  ## Calculate chi^2; find the minimum chi^2.\n",
    "\n",
    "-  ## Get Probability Distribution Function (PDF) from $e^{-\\Delta\\chi^2/2}$ .\n",
    "\n",
    "-  ## Plot PDF.\n",
    "\n"
   ]
  },
  {
   "cell_type": "code",
   "execution_count": 94,
   "metadata": {
    "collapsed": false
   },
   "outputs": [
    {
     "data": {
      "image/png": "[encoded data removed]",
      "text/plain": [
       "<matplotlib.figure.Figure at 0x10cb94490>"
      ]
     },
     "metadata": {},
     "output_type": "display_data"
    },
    {
     "data": {
      "image/png": "[encoded data removed]",
      "text/plain": [
       "<matplotlib.figure.Figure at 0x10cf37a50>"
      ]
     },
     "metadata": {},
     "output_type": "display_data"
    },
    {
     "data": {
      "image/png": "[encoded data removed]",
      "text/plain": [
       "<matplotlib.figure.Figure at 0x10df04ed0>"
      ]
     },
     "metadata": {},
     "output_type": "display_data"
    }
   ],
   "source": [
    "import numpy as np\n",
    "import matplotlib.pyplot as plt\n",
    "\n",
    "N = 2000\n",
    "sig = 2\n",
    "mu = 10\n",
    "a = (1/np.sqrt(2*np.pi*sig))\n",
    "\n",
    "y = mu + np.random.randn(x.shape[0])*sig\n",
    "\n",
    "m = np.linspace(0, 20, 1000)\n",
    "chi_sq_list = []\n",
    "for i in m:\n",
    "    chi_sq = ((y-i)**2/sig**2).sum()\n",
    "    chi_sq_list.append(chi_sq)\n",
    "    \n",
    "chi_sq_list = np.array(chi_sq_list)\n",
    "chi_sq_min = chi_sq_list.min()\n",
    "\n",
    "plt.figure()\n",
    "bin_heights, xbins, _ = plt.hist(y, bins = 30, normed = 1, alpha = 0.5)\n",
    "\n",
    "pdf = a*np.exp(-((chi_sq_list - chi_sq_min)/1999.)/2.)\n",
    "pdf /= pdf.sum()\n",
    "plt.figure()\n",
    "plt.plot(m, pdf)\n",
    "\n",
    "cdf = pdf.cumsum()\n",
    "plt.figure()\n",
    "plt.plot(m, cdf)\n",
    "\n",
    "\n",
    "\n",
    "plt.show()"
   ]
  },
  {
   "cell_type": "markdown",
   "metadata": {},
   "source": [
    "## Lab Breakout Exercise 2:\n",
    "\n",
    "- ## Find the Cumulative Distribution Function (CDF) by using the numpy array method .cumsum\n",
    "\n",
    "- ## Then plot the CDF"
   ]
  },
  {
   "cell_type": "markdown",
   "metadata": {},
   "source": [
    "## Lab Breakout Exercsise 3\n",
    "-  ## Calculate the \"one-sided\" CDF from the peak of the PDF. \n",
    "-  ## Then use this CDF to find the $1\\text{-}\\sigma$ and $2\\text{-}\\sigma$ of the distribution."
   ]
  },
  {
   "cell_type": "markdown",
   "metadata": {},
   "source": [
    "# End of Week 3-2"
   ]
  }
 ],
 "metadata": {
  "kernelspec": {
   "display_name": "Python 2",
   "language": "python",
   "name": "python2"
  },
  "language_info": {
   "codemirror_mode": {
    "name": "ipython",
    "version": 2
   },
   "file_extension": ".py",
   "mimetype": "text/x-python",
   "name": "python",
   "nbconvert_exporter": "python",
   "pygments_lexer": "ipython2",
   "version": "2.7.9"
  }
 },
 "nbformat": 4,
 "nbformat_minor": 0
}

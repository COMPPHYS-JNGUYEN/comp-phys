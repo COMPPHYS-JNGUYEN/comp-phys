{
 "cells": [
  {
   "cell_type": "markdown",
   "metadata": {},
   "source": [
    "# Lecture Week 4-1"
   ]
  },
  {
   "cell_type": "markdown",
   "metadata": {},
   "source": [
    "## 0. More on numpy arrays\n",
    "\n",
    "## I. Probability and $\\chi^2$\n",
    "\n",
    "### &nbsp; &nbsp; &nbsp; &nbsp;  B) Confidence Levels\n",
    "\n",
    "\n",
    "## II. The curve_fit function and covariance \n",
    "\n",
    "## III. Selecting a region of interest in a 2d array.\n",
    "\n",
    "## Lab: Application of curve_fit\n",
    "\n",
    "\n"
   ]
  },
  {
   "cell_type": "markdown",
   "metadata": {},
   "source": [
    "## 0. More on numpy arrays"
   ]
  },
  {
   "cell_type": "code",
   "execution_count": 3,
   "metadata": {
    "collapsed": false
   },
   "outputs": [
    {
     "name": "stdout",
     "output_type": "stream",
     "text": [
      "('a:\\n', array([[ 1.,  1.],\n",
      "       [ 1.,  1.],\n",
      "       [ 1.,  1.],\n",
      "       [ 1.,  1.],\n",
      "       [ 1.,  1.]]))\n",
      "('a_flat:', array([ 1.,  1.,  1.,  1.,  1.,  1.,  1.,  1.,  1.,  1.]))\n",
      "('a_flatt:', array([ 1.,  1.,  1.,  1.,  1.,  1.,  1.,  1.,  1.,  1.]))\n",
      "('a_reshaped:\\n', array([[ 1.,  1.],\n",
      "       [ 1.,  1.],\n",
      "       [ 1.,  1.],\n",
      "       [ 1.,  1.],\n",
      "       [ 1.,  1.]]))\n",
      "('a transposed:\\n', array([[ 1.,  1.,  1.,  1.,  1.],\n",
      "       [ 1.,  1.,  1.,  1.,  1.]]))\n",
      "('a transposed:\\n', array([[ 1.,  1.,  1.,  1.,  1.],\n",
      "       [ 1.,  1.,  1.,  1.,  1.]]))\n"
     ]
    }
   ],
   "source": [
    "'''\n",
    "Three more numpy array methods and an attribute:\n",
    "\n",
    ".flatten (or .ravel) \n",
    "\n",
    "and \n",
    "\n",
    ".reshape\n",
    "\n",
    "and\n",
    "\n",
    ".transpose (or .T; my guess: @property)\n",
    "\n",
    "\n",
    "'''\n",
    "import numpy as np\n",
    "shape = (5, 2)\n",
    "a = np.ones(shape)\n",
    "print('a:\\n', a)\n",
    "\n",
    "a_flat = a.flatten()\n",
    "a_flatt = a.ravel()\n",
    "\n",
    "print('a_flat:', a_flat)\n",
    "print('a_flatt:', a_flatt)\n",
    "\n",
    "a_reshaped = a_flat.reshape(shape)\n",
    "print('a_reshaped:\\n', a_reshaped)\n",
    "\n",
    "print('a transposed:\\n', a.T)\n",
    "print('a transposed:\\n', a.transpose())"
   ]
  },
  {
   "cell_type": "markdown",
   "metadata": {},
   "source": [
    "## I.B) Probability and $\\chi^2$:  Confidence Levels"
   ]
  },
  {
   "cell_type": "code",
   "execution_count": 4,
   "metadata": {
    "collapsed": false
   },
   "outputs": [
    {
     "data": {
      "image/png": "[encoded data removed]",
      "text/plain": [
       "<matplotlib.figure.Figure at 0x109d7b0d0>"
      ]
     },
     "metadata": {},
     "output_type": "display_data"
    }
   ],
   "source": [
    "%matplotlib inline\n",
    "import matplotlib.pyplot as plt\n",
    "import numpy as np\n",
    "\n",
    "def gen_lin_data(m_true, b_true, x_min, x_max, sig, N = 20):\n",
    "    x = np.linspace(x_min, x_max, N) \n",
    "    return x, m_true * x + b_true + np.random.randn(x.shape[0]) * sig\n",
    "\n",
    "m_true, b_true = 0.7, 5.\n",
    "sig = 1.3\n",
    "x, y = gen_lin_data(m_true, b_true, 0., 5., sig)\n",
    "plt.errorbar(x, y, yerr = sig, fmt = 'x')\n",
    "plt.title('Is the slope non-zero?  How sure are you?')\n",
    "plt.show()\n"
   ]
  },
  {
   "cell_type": "code",
   "execution_count": 5,
   "metadata": {
    "collapsed": false
   },
   "outputs": [],
   "source": [
    "def compute_cdf(P):\n",
    "    \"\"\"\n",
    "        Input: probability distribution (PDF)\n",
    "        Returns: CDF\n",
    "        \n",
    "        Adopted from: \n",
    "        \n",
    "        https://jakevdp.github.io/blog/2014/06/14/frequentism-and-bayesianism-4-bayesian-in-python/\n",
    "    \"\"\"\n",
    "    \n",
    "    # save the original shape\n",
    "    shape_orig = P.shape\n",
    "    # this flattens the array.\n",
    "    P = P.ravel()   \n",
    "    \n",
    "    # obtain the indices to sort and unsort the flattened array\n",
    "    # i_sort will sort L in descending order\n",
    "    i_sort = np.argsort(P)[::-1]\n",
    "    i_unsort = np.argsort(i_sort)\n",
    "    \n",
    "    P_cumsum = P[i_sort].cumsum()\n",
    "    # normalization\n",
    "    P_cumsum /= P_cumsum[-1]\n",
    "    \n",
    "    return P_cumsum[i_unsort].reshape(shape_orig)\n",
    "\n"
   ]
  },
  {
   "cell_type": "markdown",
   "metadata": {},
   "source": [
    "## Example: Fitting a straight line to data."
   ]
  },
  {
   "cell_type": "code",
   "execution_count": 6,
   "metadata": {
    "collapsed": false
   },
   "outputs": [
    {
     "name": "stdout",
     "output_type": "stream",
     "text": [
      "The minimum reduced chi2:0.7331.\n",
      "The best-fit slope and intercept for the simulated data are m = 0.6810 and b = 5.3165.\n",
      "(The input values are m_true = 0.7000 and b_true = 5.000000).\n"
     ]
    },
    {
     "data": {
      "image/png": "[encoded data removed]",
      "text/plain": [
       "<matplotlib.figure.Figure at 0x10b15c890>"
      ]
     },
     "metadata": {},
     "output_type": "display_data"
    }
   ],
   "source": [
    "\n",
    "%matplotlib inline\n",
    "\n",
    "'''\n",
    "QUESTION: IS THE TEMPERATURE RISING?\n",
    "\n",
    "Use Grid search.  \n",
    "\n",
    "There are more efficient ways of doing this. But this way makes every step clear.\n",
    "\n",
    "'''\n",
    "\n",
    "import numpy as np\n",
    "import matplotlib.pyplot as plt\n",
    "from mpl_toolkits.mplot3d import axes3d\n",
    "\n",
    "def f(x, m, b):\n",
    "    return m*x + b\n",
    "\n",
    "# Decide on grid search range\n",
    "m_wid = 1.5\n",
    "b_wid = 5.\n",
    "\n",
    "m_start, m_end = m_true - m_wid, m_true + m_wid\n",
    "b_start, b_end = b_true - b_wid, b_true + b_wid\n",
    "\n",
    "m_steps = 80\n",
    "b_steps = 80\n",
    "\n",
    "m_arr = np.linspace(m_start, m_end, m_steps)\n",
    "b_arr = np.linspace(b_start, b_end, b_steps)\n",
    "\n",
    "# initialize chi2_2d\n",
    "chi2_2d = np.zeros((m_steps, b_steps))\n",
    "\n",
    "chi2_min = 1e6\n",
    "for i, m in enumerate(m_arr):\n",
    "    for j, b in enumerate(b_arr):\n",
    "        chi2 = ((y - f(x, m, b))**2/sig**2).sum()\n",
    "        if chi2 < chi2_min:\n",
    "            chi2_min = chi2\n",
    "            m_best = m\n",
    "            b_best = b\n",
    "        chi2_2d[i, j] = chi2\n",
    "            \n",
    "DOF = len(x) - 2\n",
    "print('The minimum reduced chi2:{:.4f}.'.format(chi2_min/DOF))\n",
    "print('The best-fit slope and intercept for the simulated data are \\\n",
    "m = {:.4f} and b = {:.4f}.'.format(m_best, b_best))\n",
    "print('(The input values are m_true = {:.4f} and b_true = {:4f}).'.format(m_true, b_true))\n",
    "\n",
    "plt.errorbar(x, y, yerr = sig, fmt = 'x')\n",
    "plt.plot(x, f(m_best, b_best, x), 'k-')\n",
    "plt.show()\n",
    "\n"
   ]
  },
  {
   "cell_type": "code",
   "execution_count": 7,
   "metadata": {
    "collapsed": false
   },
   "outputs": [
    {
     "data": {
      "image/png": "[encoded data removed]",
      "text/plain": [
       "<matplotlib.figure.Figure at 0x10b0a9910>"
      ]
     },
     "metadata": {},
     "output_type": "display_data"
    }
   ],
   "source": [
    "'''Calculate PDF, CDF and plot confidence levels'''\n",
    "\n",
    "# Calculate probabilty\n",
    "P = np.exp(-chi2_2d/2)\n",
    "# Normalize probability\n",
    "P = P/P.sum()\n",
    "\n",
    "CDF = compute_cdf(P)\n",
    "\n",
    "sig1, sig2, sig3 = 0.683, 0.955, 0.997\n",
    "contour_levels = [sig1, sig2, sig3]\n",
    "extent = [m_arr[0], m_arr[-1], b_arr[0], b_arr[-1] ]\n",
    "\n",
    "fig = plt.figure(figsize = (6, 6))\n",
    "cs = plt.contour(CDF, levels=contour_levels, linestyles=['--','--','--'], extent = extent)\n",
    "\n",
    "# If you want to be fancy: latex for your plots!\n",
    "# fmtdict = {sig1:r'$1\\sigma$', sig2:r'$2\\sigma$', sig3:r'$3\\sigma$'}\n",
    "# plt.clabel(cs, fmt=fmtdict, inline=True, fontsize=15)\n",
    "\n",
    "plt.scatter(m_true, b_true, marker = 'x', facecolor = 'r', s = 100)\n",
    "plt.plot([0, 0], [b_arr[0], b_arr[-1]], '--')\n",
    "\n",
    "plt.xlim(-0.5, 1.5)\n",
    "plt.ylim(2, 8)\n",
    "plt.xlabel('slope(m)')\n",
    "plt.ylabel('Intercept(b)')\n",
    "plt.show()"
   ]
  },
  {
   "cell_type": "code",
   "execution_count": null,
   "metadata": {
    "collapsed": false
   },
   "outputs": [
    {
     "data": {
      "image/png": "[encoded data removed]",
      "text/plain": [
       "<matplotlib.figure.Figure at 0x103a828d0>"
      ]
     },
     "metadata": {},
     "output_type": "display_data"
    }
   ],
   "source": [
    "'''Another way to visualize CDF'''\n",
    "\n",
    "# pyplot.imshow and 3D plot\n",
    "\n",
    "fig, ax = plt.subplots(figsize = (8, 8))\n",
    "\n",
    "# Just as for the contour, we need to specify the keyword argument, extent.\n",
    "plt.imshow(CDF, extent = extent)  # this doesn't look right\n",
    "\n",
    "# We need to flip the first axis of CDF\n",
    "# plt.imshow(CDF[::-1, :], extent = extent, cmap = plt.cm.gist_earth)\n",
    "\n",
    "# Overlay with contours\n",
    "# CS = plt.contour(CDF, linestyles=['--','--','--'], levels=contour_levels, extent = extent)\n",
    "\n",
    "# specify aspect ratio\n",
    "\n",
    "ax.set_aspect(0.3) # you may also use am.imshow(..., aspect=\"auto\") to restore the aspect ratio\n",
    "plt.show()"
   ]
  },
  {
   "cell_type": "code",
   "execution_count": null,
   "metadata": {
    "collapsed": false
   },
   "outputs": [],
   "source": [
    "# scipy.optimize.curve_fit\n",
    "\n",
    "from scipy.optimize import curve_fit\n",
    "\n",
    "# coeffs, cov = curve_fit(f, x, y)\n",
    "# give it a little help:\n",
    "coeffs, cov = curve_fit(f, x, y, p0 = [.5, 4.])\n",
    "\n",
    "# coeffs gives the best-fit m and b.\n",
    "m_best = coeffs[0]\n",
    "b_best = coeffs[1]\n",
    "print('Best-fit m and b, respectively: {:.3f} {:.3f}'.format(m_best, b_best))\n",
    "\n",
    "# The diagonal elements of the covariance matrix are the variances of the two fitting parameters.\n",
    "m_sig = np.sqrt(cov[0, 0])\n",
    "b_sig = np.sqrt(cov[1, 1])\n",
    "print('1 sigma error on best-fit m and b, respectively: {:.3f} {:.3f}'.format(np.sqrt(m_sig), np.sqrt(b_sig)))\n",
    "\n",
    "print('The coeffs array:\\n', coeffs)\n",
    "print('And the covariance matrix:\\n', cov)\n",
    "plt.errorbar(x, y, yerr = sig, fmt = 'x')\n",
    "plt.plot(x, f(x, m_best, b_best ))\n",
    "plt.show()"
   ]
  },
  {
   "cell_type": "markdown",
   "metadata": {},
   "source": [
    "## How about contours based on curve_fit?"
   ]
  },
  {
   "cell_type": "code",
   "execution_count": null,
   "metadata": {
    "collapsed": false
   },
   "outputs": [],
   "source": [
    "'''\n",
    "First let's create (x, y) pairs for 2d grid\n",
    "\n",
    "'''\n",
    "\n",
    "# xx: x values for a 2d grid; yy: y values for a 2d grid;\n",
    "# so both xx and yy are 2d arrays.\n",
    "xx, yy = np.mgrid[1:5:1, 11:15:1]\n",
    "\n",
    "# pairing each value in xx with the corresponding value in yy ,\n",
    "# thus creating a grid of coordinates.\n",
    "# E.g., if you fix xx value at 1, there are five yy values: 1, 2, 3, 4. \n",
    "xy = np.dstack((xx, yy))\n",
    "print(xy)\n"
   ]
  },
  {
   "cell_type": "code",
   "execution_count": null,
   "metadata": {
    "collapsed": false
   },
   "outputs": [],
   "source": [
    "'''\n",
    "Find best-fit m and b using scipy.optimize.curve_fit\n",
    "'''\n",
    "\n",
    "from scipy.optimize import curve_fit\n",
    "import matplotlib.pyplot as plt\n",
    "from scipy.stats import multivariate_normal\n",
    "\n",
    "\n",
    "#coeffs, cov = curve_fit(f, x, y)\n",
    "# give it a little help:\n",
    "coeffs, cov = curve_fit(f, x, y, p0 = [.5, 4.])\n",
    "m_best = coeffs[0]\n",
    "b_best = coeffs[1]\n",
    "m_sig = cov[0, 0]\n",
    "b_sig = cov[1, 1]\n",
    "print(coeffs)\n",
    "print(cov)\n",
    "print('Best-fit m and b, respectively: {:.3f} {:.3f}'.format(np.sqrt(m_best), np.sqrt(b_best)))\n",
    "print('1 sigma error on m_best and b_best, respectively: {:.3f} {:.3f}'.format(np.sqrt(m_sig), np.sqrt(b_sig)))\n",
    "plt.errorbar(x, y, yerr = sig, fmt = 'x')\n",
    "plt.plot(x, f(x, m_best, b_best ))\n",
    "\n",
    "\n",
    "plt.show()"
   ]
  },
  {
   "cell_type": "code",
   "execution_count": null,
   "metadata": {
    "collapsed": false
   },
   "outputs": [],
   "source": [
    "import matplotlib.pyplot as plt\n",
    "# Note: new import!\n",
    "from scipy.stats import multivariate_normal\n",
    "\n",
    "xx, yy = np.mgrid[m_start:m_end:0.01, b_start:b_end:0.01]\n",
    "\n",
    "# Create a grid of 2d coordinates \n",
    "xy = np.dstack((xx, yy))\n",
    "\n",
    "# create a 2d Gaussian according to the best-fit (m, b) and the covariance matrix.\n",
    "gauss2d = multivariate_normal(coeffs, cov)\n",
    "# find probability\n",
    "P = gauss2d.pdf(xy)\n",
    "# calculate CDF\n",
    "CDF_cf = compute_cdf(P)\n",
    "\n",
    "# plotting\n",
    "plt.figure()\n",
    "plt.contour(CDF_cf, extent = extent, levels = contour_levels)\n",
    "\n",
    "# how do the contours compare with the ones we found with grid search?\n",
    "# plt.contour(CDF, extent = extent, levels = contour_levels, linestyles=['--','--','--'])\n",
    "plt.scatter(coeffs[0], coeffs[1], marker = 'x', facecolor = 'r', s = 100)\n",
    "plt.xlabel('slope(m)')\n",
    "plt.ylabel('Intercept(b)')\n",
    "\n",
    "plt.show()"
   ]
  },
  {
   "cell_type": "markdown",
   "metadata": {},
   "source": [
    "## How to select 2D region of interest"
   ]
  },
  {
   "cell_type": "code",
   "execution_count": null,
   "metadata": {
    "collapsed": false
   },
   "outputs": [],
   "source": [
    "'''\n",
    "Given:\n",
    "\n",
    "    rows = np.linspace(0, 4, 5)\n",
    "    cols = np.linspace(0, 4, 5)\n",
    "\n",
    "    arr2d = np.random.randn(5, 5)\n",
    "\n",
    "Select the elements in 3rd and 4th columns and in 2nd and 3rd row\n",
    "'''\n",
    "\n",
    "# generate 2d array\n",
    "rows = np.linspace(0, 4, 5)\n",
    "cols = np.linspace(0, 4, 5)\n",
    "\n",
    "arr2d = np.random.randn(5, 5)\n"
   ]
  },
  {
   "cell_type": "code",
   "execution_count": null,
   "metadata": {
    "collapsed": false
   },
   "outputs": [],
   "source": [
    "#Select the elements in 3rd and 4th columns and in 2nd and 3rd row\n",
    "\n",
    "\n",
    "# in the case, idx1 = (rows < 4) * (rows > 1) would NOT work well.\n",
    "idx1 = np.where( (rows < 4) * (rows > 1))[0]\n",
    "idx2 = np.where(cols > 2)[0]\n",
    "\n",
    "print(idx1)\n",
    "print(idx2)\n",
    "\n",
    "idx = np.meshgrid(idx1, idx2)\n",
    "\n",
    "arr2d_cut = arr2d[idx]\n",
    "print(arr2d)\n",
    "print(arr2d_cut.shape)\n",
    "# Note: I have to do a transpose here.\n",
    "print(arr2d_cut.T)\n"
   ]
  },
  {
   "cell_type": "markdown",
   "metadata": {},
   "source": [
    "## Lab Breakout Exercise: CDF and confidence levels\n",
    "\n",
    "-  ## For data we believe can be fit with $sin(kx + \\phi)$, use scipy.optimize.curve_fit do find the best-fit k and phi.\n",
    "\n",
    "-  ## Plot data together with the model using the best-fit k and phi.\n",
    "-  ## Based on the best-fit k and phi and the covariance matrix, find the probability distribution (PDF) and then CDF\n",
    "    Suggestion:\n",
    "\n",
    "     k\\_start, k\\_end = k\\_best-5\\*k_sig, k\\_best+5\\*k\\_sig\n",
    "     \n",
    "     phi\\_start, phi\\_end = phi\\_best-5\\*phi\\_sig, phi\\_best+5\\*phi\\_sig\n",
    "\n",
    "-  ## Plot 68%, 95%, and 99.7% contours for CDF\n",
    "\n"
   ]
  },
  {
   "cell_type": "code",
   "execution_count": null,
   "metadata": {
    "collapsed": false
   },
   "outputs": [],
   "source": [
    "'''The simulation'''\n",
    "from scipy.constants import pi\n",
    "x = np.linspace(0, 2*pi, 101)\n",
    "k = 2.\n",
    "phi = pi/6.\n",
    "err = np.cos(x)*0.2\n",
    "y = np.sin(k*x + phi) + np.random.randn(x.shape[0])*err\n",
    "plt.plot(x, y)\n",
    "plt.show()"
   ]
  },
  {
   "cell_type": "markdown",
   "metadata": {},
   "source": [
    "# End of Week4-1"
   ]
  }
 ],
 "metadata": {
  "kernelspec": {
   "display_name": "Python 2",
   "language": "python",
   "name": "python2"
  },
  "language_info": {
   "codemirror_mode": {
    "name": "ipython",
    "version": 2
   },
   "file_extension": ".py",
   "mimetype": "text/x-python",
   "name": "python",
   "nbconvert_exporter": "python",
   "pygments_lexer": "ipython2",
   "version": "2.7.9"
  }
 },
 "nbformat": 4,
 "nbformat_minor": 0
}

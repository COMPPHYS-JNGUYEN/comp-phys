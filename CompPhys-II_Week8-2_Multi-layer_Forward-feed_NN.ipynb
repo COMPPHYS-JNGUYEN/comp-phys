{
 "cells": [
  {
   "cell_type": "markdown",
   "metadata": {},
   "source": [
    "# Multi-layer Forward-feed NN with Stochastic Gradient Descent\n"
   ]
  },
  {
   "cell_type": "code",
   "execution_count": 1,
   "metadata": {
    "collapsed": true
   },
   "outputs": [],
   "source": [
    "%matplotlib inline\n",
    "# All imports\n",
    "\n",
    "from __future__ import print_function, division\n",
    "from random import choice\n",
    "import numpy as np\n",
    "import matplotlib.pyplot as plt\n",
    "from copy import copy\n",
    "\n",
    "np.set_printoptions(formatter={'float': '{:.5f}'.format})\n"
   ]
  },
  {
   "cell_type": "code",
   "execution_count": 2,
   "metadata": {
    "collapsed": false
   },
   "outputs": [
    {
     "name": "stdout",
     "output_type": "stream",
     "text": [
      "1.33333333333\n",
      "1\n"
     ]
    }
   ],
   "source": [
    "print(4/3)\n",
    "print(4//3)  # integer division"
   ]
  },
  {
   "cell_type": "code",
   "execution_count": 11,
   "metadata": {
    "collapsed": false
   },
   "outputs": [
    {
     "data": {
      "image/png": "[encoded data removed]",
      "text/plain": [
       "<matplotlib.figure.Figure at 0x111308a10>"
      ]
     },
     "metadata": {},
     "output_type": "display_data"
    },
    {
     "data": {
      "text/plain": [
       "<matplotlib.figure.Figure at 0x111308a10>"
      ]
     },
     "metadata": {},
     "output_type": "display_data"
    }
   ],
   "source": [
    "'''Dynamicall unpdata maplibplot figure'''\n",
    "import time\n",
    "from IPython import display\n",
    "\n",
    "x = np.linspace(0, np.pi*2, 10000)\n",
    "for k in range(20):\n",
    "    plt.plot(x, np.sin(k*x))\n",
    "    display.clear_output(wait=True)\n",
    "    display.display(plt.gcf())\n",
    "    time.sleep(0.2)\n",
    "    plt.clf()\n",
    "plt.show()\n"
   ]
  },
  {
   "cell_type": "markdown",
   "metadata": {},
   "source": [
    "## Truth Table for XOR\n",
    "| $x_0$ | $x_1$ | $y$   |\n",
    "|:-:    |:-:    |:-:    |   \n",
    "|   0   |   0   |   0   |\n",
    "|   0   |   1   |   1   |\n",
    "|   1   |   0   |   1   |\n",
    "|   1   |   1   |   0   |"
   ]
  },
  {
   "cell_type": "markdown",
   "metadata": {},
   "source": [
    "## Breakout Exercise\n",
    "- ## Add tolerance (say, tol = 1e-2) to indicate success of failure or the training.  Find \"average error\" by finding the RMS error for all the training data (first adding the square of the error for each entry in X, then dividing the sum by the number of entries in y (the target), and finally taking square root).  \n",
    "\n",
    "\n",
    "- ## For Every 1/10 of the specified number of epochs, check the RMS error, and print:\n",
    "\n",
    "        epochs: 0  # or 1000, 2000, 3000, etc., for the case of epochs = 10000\n",
    "        Training Results(data, prediction, expected):\n",
    "        [0 0], -0.19071, 0\n",
    "        [0 1], -0.80022, 1\n",
    "        [1 0], 0.65594, 1\n",
    "        [1 1], -0.47150, 0\n",
    "        RMS_err: 0.951031492224\n",
    "\n",
    "\n",
    "- ## If at some point, the RMS error is less than tol, the training is considered a success, and you break out of the for loop.  The following statement should be printed at the end:\n",
    "\n",
    "        NN training succeeded!\n",
    "        \n",
    "    ## Otherwise, print \n",
    "\n",
    "        NN training failed."
   ]
  },
  {
   "cell_type": "code",
   "execution_count": 126,
   "metadata": {
    "collapsed": false
   },
   "outputs": [],
   "source": [
    "'''\n",
    "Play with the learning_rate\n",
    "\n",
    "The default is 0.2.  You will see that setting it to 0.4 gets you better result.\n",
    "\n",
    "\n",
    "'''\n",
    "import pdb\n",
    "def tanh(x):\n",
    "    '''The logistic function as the activation'''\n",
    "    return np.tanh(x)\n",
    "\n",
    "def tanh_prime(z):\n",
    "    '''derivative of the logistic function'''\n",
    "    return 1 - z**2\n",
    "\n",
    "\n",
    "class NeuralNetwork:\n",
    "    \n",
    "    '''\n",
    "    Implementing multi-layer forward-feed ANN\n",
    "    '''\n",
    "\n",
    "    def __init__(self, layers):\n",
    "        self.activation = tanh\n",
    "        self.activation_prime = tanh_prime\n",
    "        self.L = len(layers) - 1\n",
    "\n",
    "        # Set weights\n",
    "        self.weights = []\n",
    "        for l in range(1, self.L):\n",
    "            w = np.random.random((layers[l-1] + 1, layers[l] + 1)) \n",
    "            self.weights.append(w)\n",
    "        # output layer -- random((2+1, 1)) : 3 x 1\n",
    "        w = np.random.random( (layers[l] + 1, layers[l+1]))\n",
    "#         pdb.set_trace()\n",
    "        self.weights.append(w)\n",
    "#         print(len(self.weights))\n",
    "#         print(self.weights)\n",
    "#         raise KeyboardInterrupt\n",
    "\n",
    "    def fit(self, X, y, learning_rate=0.4, epochs=11000, tol = 0.01):\n",
    "        '''\n",
    "        Backpropagation\n",
    "        '''\n",
    "        # Add column of ones to X\n",
    "        # This is to add the bias unit to the input layer\n",
    "        ones = np.atleast_2d(np.ones(X.shape[0]))\n",
    "        X = np.concatenate((ones.T, X), axis=1)\n",
    "        print('Input X with bias added:\\n', X)\n",
    "         \n",
    "        for k in range(epochs):\n",
    "            if k % (epochs/10) == 0:\n",
    "                print('epochs:', k)\n",
    "                error1 = 0\n",
    "                for e in range(len(X)):\n",
    "                    print(X[e][1:],self.predict(X[e][1:]),y[e] )\n",
    "                    error1 += (self.predict(X[e][1:]) - y[e])**2\n",
    "                RMS = ((error1)/len(y))**0.5\n",
    "                print('RMS', RMS[0])\n",
    "                if RMS < tol:\n",
    "                    print('NN training succeeded!')\n",
    "                    return\n",
    " \n",
    "            i = np.random.randint(X.shape[0])\n",
    "            a = [X[i]]\n",
    "    \n",
    "            for l in range(self.L):\n",
    "                    tot_input_l = np.dot(a[l], self.weights[l])\n",
    "                    a_lplusOne = self.activation(tot_input_l)\n",
    "                    a.append(a_lplusOne)\n",
    "\n",
    "            # Now preparing for backpropagation by finding all the delta's\n",
    "            # and store them in a list, deltas:                    \n",
    "                    \n",
    "            # output layer; a[-1] is the output, z\n",
    "            error = y[i] - a[-1]\n",
    "            # deltas at this point is list that contains a single vector,\n",
    "            # the delta closest to the output -- eqn (3) on slide 9.\n",
    "            deltas = [error * self.activation_prime(a[-1])]\n",
    "\n",
    "            # now find the rest of the deltas.\n",
    "            # remember len(a) is L + 1, and len(self.weights) is L,\n",
    "            # where L is the number of layers.  In our case, L = 2.\n",
    "            for l in range(self.L - 1, 0, -1): \n",
    "                delta_l = deltas[-1]\n",
    "                # This is eqn (4) on slide 9.                \n",
    "                delta_lminusOne = delta_l.dot(self.weights[l].T)*self.activation_prime(a[l])\n",
    "                deltas.append(delta_lminusOne)\n",
    "                \n",
    "            # reverse\n",
    "            # [layer 2(output)->layer 1(hidden)]  => [layer 1(hidden)->layer 2(output)]\n",
    "            deltas.reverse()\n",
    "\n",
    "            # backpropagation: adjusting weights\n",
    "            for l in range(self.L):\n",
    "                a_l = np.atleast_2d(a[l])\n",
    "                delta_l = np.atleast_2d(deltas[l])\n",
    "                # implementing eqn (5) on slide 12\n",
    "                # (to be precise, the equation just above (5))\n",
    "                self.weights[l] += learning_rate * a_l.T.dot(delta_l)\n",
    "        if RMS > tol:\n",
    "            print('NN training failed.')\n",
    "\n",
    "    def predict(self, x): \n",
    "        '''\n",
    "        forward propagation\n",
    "        (Note -- possibly improvement:\n",
    "        a) create a method that adds bias to be used here and in the fit method.\n",
    "        b) create a method that does forward propagation to be used here and \n",
    "        in the method fit.)\n",
    "        '''\n",
    "        # adding bias -- np.ones(1) seems silly: \n",
    "        # But to concatenate, both objects have to be numpy arrays.\n",
    "        a = np.concatenate((np.ones(1).T, np.array(x)), axis=1)  \n",
    "        # forward propagation\n",
    "        for l in range(0, self.L):\n",
    "            a = self.activation(np.dot(a, self.weights[l]))\n",
    "        return a\n",
    "\n",
    "# if __name__ == '__main__':\n",
    "\n",
    "#     # activation='sigmoid' doesn't seem to work so well.\n",
    "#     nn = NeuralNetwork([2,2,1])\n",
    "\n",
    "#     X = np.array([[0, 0],\n",
    "#                   [0, 1],\n",
    "#                   [1, 0],\n",
    "#                   [1, 1]])\n",
    "\n",
    "#     y = np.array([0, 1, 1, 0])\n",
    "\n",
    "#     nn.fit(X, y)\n",
    "\n",
    "#     #for e in range(len(X)):\n",
    "#         #print(X[e],nn.predict(X[e]),y[e] )\n",
    "        "
   ]
  },
  {
   "cell_type": "code",
   "execution_count": null,
   "metadata": {
    "collapsed": false
   },
   "outputs": [],
   "source": [
    "nn = NeuralNetwork([2,2,1], activation='tanh')\n",
    "\n",
    "X = np.array([[0, 0],\n",
    "              [0, 1],          \n",
    "              [1, 0],\n",
    "              [1, 1]])\n",
    "\n",
    "y = np.array([0, 1, 1, 0])\n",
    "\n",
    "nn.fit(X, y, epochs = 20000)\n",
    "\n"
   ]
  },
  {
   "cell_type": "markdown",
   "metadata": {},
   "source": [
    "## Breakout Exercise:\n",
    "\n",
    "## Write a function visual_NN_boundaries(X, y, Nsamp = 2000) that generates 2000 random points in the square of x between (0, 1) and y between (0, 1) to visualize the decision boundaries, where x and y are Cartesian coordinates.\n"
   ]
  },
  {
   "cell_type": "code",
   "execution_count": 104,
   "metadata": {
    "collapsed": false
   },
   "outputs": [
    {
     "data": {
      "image/png": "[encoded data removed]",
      "text/plain": [
       "<matplotlib.figure.Figure at 0x110741c10>"
      ]
     },
     "metadata": {},
     "output_type": "display_data"
    }
   ],
   "source": [
    "def visual_NN_boundaries(X, y, Nsamp = 2000):\n",
    "    for i in range(len(y)):\n",
    "        if y[i] == 1:\n",
    "            plt.scatter(X[i][0],X[i][1], color = 'r', s = 500, marker = '*')\n",
    "        else:\n",
    "            plt.scatter(X[i][0],X[i][1], color = 'b', s = 500, marker = '*')\n",
    "    x = np.random.random((Nsamp, 2))\n",
    "    for j in range(len(x)):\n",
    "        z = nn.predict(x[j])\n",
    "        if z > 0.5:\n",
    "            plt.scatter(x[j][0], x[j][1], color = 'r')\n",
    "        else:\n",
    "            plt.scatter(x[j][0], x[j][1], color = 'b')\n",
    "        \n",
    "    plt.xlim(-0.5, 1.5)\n",
    "    plt.ylim(-0.5, 1.5)\n",
    "    plt.show()\n",
    "\n",
    "visual_NN_boundaries(X, y)\n",
    "    \n",
    "    \n",
    "    "
   ]
  },
  {
   "cell_type": "code",
   "execution_count": 94,
   "metadata": {
    "collapsed": false
   },
   "outputs": [
    {
     "name": "stdout",
     "output_type": "stream",
     "text": [
      "[[0.08868 0.25832]\n",
      " [0.14355 0.86165]\n",
      " [0.38924 0.12735]\n",
      " ..., \n",
      " [0.45042 0.25711]\n",
      " [0.85107 0.74251]\n",
      " [0.61823 0.06434]]\n"
     ]
    }
   ],
   "source": [
    "print(np.random.random((2000, 2)))"
   ]
  },
  {
   "cell_type": "markdown",
   "metadata": {},
   "source": [
    "## Breakout Exercise:\n",
    "\n",
    "## Draw on a piece of paper the following points, using open circle if the corresponding target value, y, is 0 and filled circle for y = 1:\n",
    "\n",
    "\n",
    "        X =  [[0, 0],\n",
    "              [0, 1],  \n",
    "              [0.5, 1],\n",
    "              [0, 0.5],\n",
    "              [1, 0],\n",
    "              [1, 1]])\n",
    "\n",
    "        y = [0, 0, 0, 1, 1, 1]\n",
    "\n",
    "## Train the NeuralNetwork class to reproduce the y, given X.\n",
    "\n",
    "## Use the function visual_NN_boundaries to see the decision boundaries.\n"
   ]
  },
  {
   "cell_type": "code",
   "execution_count": 129,
   "metadata": {
    "collapsed": false
   },
   "outputs": [
    {
     "name": "stdout",
     "output_type": "stream",
     "text": [
      "Input X with bias added:\n",
      " [[1.00000 0.00000 0.00000]\n",
      " [1.00000 0.00000 1.00000]\n",
      " [1.00000 0.50000 1.00000]\n",
      " [1.00000 0.00000 0.50000]\n",
      " [1.00000 1.00000 0.00000]\n",
      " [1.00000 1.00000 1.00000]]\n",
      "epochs: 0\n",
      "[0.00000 0.00000] [0.63736] 0\n",
      "[0.00000 1.00000] [0.70271] 0\n",
      "[0.50000 1.00000] [0.70853] 0\n",
      "[0.00000 0.50000] [0.68728] 1\n",
      "[1.00000 0.00000] [0.69420] 1\n",
      "[1.00000 1.00000] [0.71157] 1\n",
      "RMS 0.528606051386\n",
      "epochs: 2000\n",
      "[0.00000 0.00000] [0.01647] 0\n",
      "[0.00000 1.00000] [-0.01847] 0\n",
      "[0.50000 1.00000] [-0.01849] 0\n",
      "[0.00000 0.50000] [0.97885] 1\n",
      "[1.00000 0.00000] [0.98236] 1\n",
      "[1.00000 1.00000] [0.97524] 1\n",
      "RMS 0.0196881330838\n",
      "epochs: 4000\n",
      "[0.00000 0.00000] [-0.00994] 0\n",
      "[0.00000 1.00000] [0.01043] 0\n",
      "[0.50000 1.00000] [-0.00625] 0\n",
      "[0.00000 0.50000] [0.98810] 1\n",
      "[1.00000 0.00000] [0.99001] 1\n",
      "[1.00000 1.00000] [0.98600] 1\n",
      "RMS 0.0106783473812\n",
      "epochs: 6000\n",
      "[0.00000 0.00000] [0.01111] 0\n",
      "[0.00000 1.00000] [-0.00901] 0\n",
      "[0.50000 1.00000] [-0.00623] 0\n",
      "[0.00000 0.50000] [0.99151] 1\n",
      "[1.00000 0.00000] [0.99257] 1\n",
      "[1.00000 1.00000] [0.99042] 1\n",
      "RMS 0.0087791893529\n",
      "NN training succeeded!\n"
     ]
    },
    {
     "data": {
      "image/png": "[encoded data removed]",
      "text/plain": [
       "<matplotlib.figure.Figure at 0x110d4fad0>"
      ]
     },
     "metadata": {},
     "output_type": "display_data"
    }
   ],
   "source": [
    "nn = NeuralNetwork([2,2,2,2,2,1])\n",
    "\n",
    "X = np.array([[0, 0],\n",
    "              [0, 1],  \n",
    "              [0.5, 1],\n",
    "              [0, 0.5],\n",
    "              [1, 0],\n",
    "              [1, 1]])\n",
    "\n",
    "y = np.array([0, 0, 0, 1, 1, 1])\n",
    "\n",
    "nn.fit(X, y, epochs = 20000)\n",
    "\n",
    "visual_NN_boundaries(X, y)\n"
   ]
  },
  {
   "cell_type": "markdown",
   "metadata": {},
   "source": [
    "## Breakout Exercise:\n",
    "\n",
    "## Draw on a piece of paper the following points, using open circle if the corresponding target value, y, is 0 and filled circle for y = 1:\n",
    "\n",
    "\n",
    "        X = [[0, 0],\n",
    "             [0, 1],  \n",
    "             [1, 0.5],\n",
    "             [0, 0.5],\n",
    "             [1, 0],\n",
    "             [1, 1]])\n",
    "\n",
    "        y = [0, 0, 0, 1, 1, 1]\n",
    "\n",
    "## Train the NeuralNetwork class to reproduce the y, given X.\n",
    "\n",
    "## Use the function visual_NN_boundaries to see the decision boundaries.\n"
   ]
  },
  {
   "cell_type": "code",
   "execution_count": 133,
   "metadata": {
    "collapsed": false
   },
   "outputs": [
    {
     "name": "stdout",
     "output_type": "stream",
     "text": [
      "Input X with bias added:\n",
      " [[1.00000 0.00000 0.00000]\n",
      " [1.00000 0.00000 1.00000]\n",
      " [1.00000 1.00000 0.50000]\n",
      " [1.00000 0.00000 0.50000]\n",
      " [1.00000 1.00000 0.00000]\n",
      " [1.00000 1.00000 1.00000]]\n",
      "epochs: 0\n",
      "[0.00000 0.00000] [0.62764] 0\n",
      "[0.00000 1.00000] [0.79032] 0\n",
      "[1.00000 0.50000] [0.79085] 0\n",
      "[0.00000 0.50000] [0.74398] 1\n",
      "[1.00000 0.00000] [0.74658] 1\n",
      "[1.00000 1.00000] [0.81109] 1\n",
      "RMS 0.549156903095\n",
      "epochs: 2000\n",
      "[0.00000 0.00000] [0.01767] 0\n",
      "[0.00000 1.00000] [0.17748] 0\n",
      "[1.00000 0.50000] [0.57804] 0\n",
      "[0.00000 0.50000] [0.80366] 1\n",
      "[1.00000 0.00000] [0.82354] 1\n",
      "[1.00000 1.00000] [0.52564] 1\n",
      "RMS 0.331826549442\n",
      "epochs: 4000\n",
      "[0.00000 0.00000] [-0.37782] 0\n",
      "[0.00000 1.00000] [0.34764] 0\n",
      "[1.00000 0.50000] [0.48229] 0\n",
      "[0.00000 0.50000] [0.94552] 1\n",
      "[1.00000 0.00000] [0.95621] 1\n",
      "[1.00000 1.00000] [0.48730] 1\n",
      "RMS 0.356829092485\n",
      "epochs: 6000\n",
      "[0.00000 0.00000] [-0.06406] 0\n",
      "[0.00000 1.00000] [0.32927] 0\n",
      "[1.00000 0.50000] [0.46806] 0\n",
      "[0.00000 0.50000] [0.94906] 1\n",
      "[1.00000 0.00000] [0.96527] 1\n",
      "[1.00000 1.00000] [0.49585] 1\n",
      "RMS 0.31346814487\n",
      "epochs: 8000\n",
      "[0.00000 0.00000] [0.38570] 0\n",
      "[0.00000 1.00000] [-0.00732] 0\n",
      "[1.00000 0.50000] [0.05956] 0\n",
      "[0.00000 0.50000] [0.94311] 1\n",
      "[1.00000 0.00000] [0.94773] 1\n",
      "[1.00000 1.00000] [0.79330] 1\n",
      "RMS 0.183056764758\n",
      "epochs: 10000\n",
      "[0.00000 0.00000] [-0.06539] 0\n",
      "[0.00000 1.00000] [0.06528] 0\n",
      "[1.00000 0.50000] [0.07377] 0\n",
      "[0.00000 0.50000] [0.95335] 1\n",
      "[1.00000 0.00000] [0.96012] 1\n",
      "[1.00000 1.00000] [0.92998] 1\n",
      "RMS 0.0614396081572\n",
      "epochs: 12000\n",
      "[0.00000 0.00000] [0.00150] 0\n",
      "[0.00000 1.00000] [0.00130] 0\n",
      "[1.00000 0.50000] [-0.00016] 0\n",
      "[0.00000 0.50000] [0.97841] 1\n",
      "[1.00000 0.00000] [0.98207] 1\n",
      "[1.00000 1.00000] [0.96695] 1\n",
      "RMS 0.0177194236635\n",
      "epochs: 14000\n",
      "[0.00000 0.00000] [-0.00132] 0\n",
      "[0.00000 1.00000] [0.00275] 0\n",
      "[1.00000 0.50000] [0.00174] 0\n",
      "[0.00000 0.50000] [0.98412] 1\n",
      "[1.00000 0.00000] [0.98688] 1\n",
      "[1.00000 1.00000] [0.97468] 1\n",
      "RMS 0.0134038608713\n",
      "epochs: 16000\n",
      "[0.00000 0.00000] [0.07652] 0\n",
      "[0.00000 1.00000] [-0.00742] 0\n",
      "[1.00000 0.50000] [0.00098] 0\n",
      "[0.00000 0.50000] [0.98754] 1\n",
      "[1.00000 0.00000] [0.99007] 1\n",
      "[1.00000 1.00000] [0.97886] 1\n",
      "RMS 0.0331953043383\n",
      "epochs: 18000\n",
      "[0.00000 0.00000] [-0.03064] 0\n",
      "[0.00000 1.00000] [0.00934] 0\n",
      "[1.00000 0.50000] [0.01738] 0\n",
      "[0.00000 0.50000] [0.98841] 1\n",
      "[1.00000 0.00000] [0.99064] 1\n",
      "[1.00000 1.00000] [0.98404] 1\n",
      "RMS 0.0173432118532\n",
      "NN training failed.\n"
     ]
    },
    {
     "data": {
      "image/png": "[encoded data removed]",
      "text/plain": [
       "<matplotlib.figure.Figure at 0x10f09de10>"
      ]
     },
     "metadata": {},
     "output_type": "display_data"
    }
   ],
   "source": [
    "nn = NeuralNetwork([2,2,2,1])\n",
    "\n",
    "X = np.array([[0, 0],\n",
    "             [0, 1],  \n",
    "             [1, 0.5],\n",
    "             [0, 0.5],\n",
    "             [1, 0],\n",
    "             [1, 1]])\n",
    "\n",
    "y = np.array([0, 0, 0, 1, 1, 1])\n",
    "\n",
    "nn.fit(X, y, epochs = 20000)\n",
    "\n",
    "visual_NN_boundaries(X, y)"
   ]
  },
  {
   "cell_type": "markdown",
   "metadata": {},
   "source": [
    "## Breakout Exercise:\n",
    "\n",
    "- ## Turn the function visual_NN_boundaries into a method for the class NeuralNetwork.  It can be invoked every 1/20 of the specified number of epochs, and show the decision boundary at that stage of learning.\n",
    "\n",
    "- ## It helps to set the axis limits in the following way:\n",
    "\n",
    "                plt.axis([-0.1, 1.1, -0.1, 1.1])\n",
    "\n",
    "- ## And set the marker size to 40 for the training data.\n",
    "\n",
    "- ## Try this on XOR and watch the learning process\n",
    "\n",
    "- ## Try this on the following and watch the learning process\n",
    "\n",
    "\n",
    "        X = [[0, 0],\n",
    "             [0, 1],  \n",
    "             [0.5, 1],\n",
    "             [0, 0.5],\n",
    "             [1, 0],\n",
    "             [1, 1]]\n",
    "\n",
    "        y = [0, 0, 0, 1, 1, 1]"
   ]
  },
  {
   "cell_type": "code",
   "execution_count": null,
   "metadata": {
    "collapsed": true
   },
   "outputs": [],
   "source": [
    "def visual_NN_boundaries(X, y, Nsamp = 2000):\n",
    "    for i in range(len(y)):\n",
    "        if y[i] == 1:\n",
    "            plt.scatter(X[i][0],X[i][1], color = 'r', s = 500, marker = '*')\n",
    "        else:\n",
    "            plt.scatter(X[i][0],X[i][1], color = 'b', s = 500, marker = '*')\n",
    "    x = np.random.random((Nsamp, 2))\n",
    "    for j in range(len(x)):\n",
    "        z = nn.predict(x[j])\n",
    "        if z > 0.5:\n",
    "            plt.scatter(x[j][0], x[j][1], color = 'r')\n",
    "        else:\n",
    "            plt.scatter(x[j][0], x[j][1], color = 'b')\n",
    "        \n",
    "    plt.xlim(-0.5, 1.5)\n",
    "    plt.ylim(-0.5, 1.5)\n",
    "    plt.show()"
   ]
  },
  {
   "cell_type": "code",
   "execution_count": 12,
   "metadata": {
    "collapsed": true
   },
   "outputs": [],
   "source": [
    "'''\n",
    "Play with the learning_rate\n",
    "\n",
    "The default is 0.2.  You will see that setting it to 0.4 gets you better result.\n",
    "\n",
    "\n",
    "'''\n",
    "import copy\n",
    "def tanh(x):\n",
    "    '''The logistic function as the activation'''\n",
    "    return np.tanh(x)\n",
    "\n",
    "def tanh_prime(z):\n",
    "    '''derivative of the logistic function'''\n",
    "    return 1 - z**2\n",
    "\n",
    "\n",
    "class NeuralNetwork:\n",
    "    \n",
    "    '''\n",
    "    Implementing multi-layer forward-feed ANN\n",
    "    '''\n",
    "\n",
    "    def __init__(self, layers):\n",
    "        self.activation = tanh\n",
    "        self.activation_prime = tanh_prime\n",
    "        self.L = len(layers) - 1\n",
    "\n",
    "        # Set weights\n",
    "        self.weights = []\n",
    "        for l in range(1, self.L):\n",
    "            w = np.random.random((layers[l-1] + 1, layers[l] + 1)) \n",
    "            self.weights.append(w)\n",
    "        # output layer -- random((2+1, 1)) : 3 x 1\n",
    "        w = np.random.random( (layers[l] + 1, layers[l+1])) \n",
    "        self.weights.append(w)\n",
    "#         print(len(self.weights))\n",
    "#         print(self.weights)\n",
    "#         raise KeyboardInterrupt\n",
    "\n",
    "    def fit(self, X, y, learning_rate=0.4, epochs=11000, tol = 0.01):\n",
    "        '''\n",
    "        Backpropagation\n",
    "        '''\n",
    "        # Add column of ones to X\n",
    "        # This is to add the bias unit to the input layer\n",
    "        X_orig = copy.copy(X)\n",
    "        ones = np.atleast_2d(np.ones(X.shape[0]))\n",
    "        X = np.concatenate((ones.T, X), axis=1)\n",
    "        print('Input X with bias added:\\n', X)\n",
    "         \n",
    "        for k in range(epochs):\n",
    "            if k % (epochs/10) == 0:\n",
    "                print('epochs:', k)\n",
    "                error1 = 0\n",
    "                for e in range(len(X)):\n",
    "                    print(X[e][1:],self.predict(X[e][1:]),y[e] )\n",
    "                    error1 += (self.predict(X[e][1:]) - y[e])**2\n",
    "                RMS = ((error1)/len(y))**0.5\n",
    "                print('RMS', RMS[0])\n",
    "                if RMS < tol:\n",
    "                    print('NN training succeeded!')\n",
    "                    break\n",
    " \n",
    "            i = np.random.randint(X.shape[0])\n",
    "            a = [X[i]]\n",
    "    \n",
    "            for l in range(self.L):\n",
    "                    tot_input_l = np.dot(a[l], self.weights[l])\n",
    "                    a_lplusOne = self.activation(tot_input_l)\n",
    "                    a.append(a_lplusOne)\n",
    "\n",
    "            # Now preparing for backpropagation by finding all the delta's\n",
    "            # and store them in a list, deltas:                    \n",
    "                    \n",
    "            # output layer; a[-1] is the output, z\n",
    "            error = y[i] - a[-1]\n",
    "            # deltas at this point is list that contains a single vector,\n",
    "            # the delta closest to the output -- eqn (3) on slide 9.\n",
    "            deltas = [error * self.activation_prime(a[-1])]\n",
    "\n",
    "            # now find the rest of the deltas.\n",
    "            # remember len(a) is L + 1, and len(self.weights) is L,\n",
    "            # where L is the number of layers.  In our case, L = 2.\n",
    "            for l in range(self.L - 1, 0, -1): \n",
    "                delta_l = deltas[-1]\n",
    "                # This is eqn (4) on slide 9.                \n",
    "                delta_lminusOne = delta_l.dot(self.weights[l].T)*self.activation_prime(a[l])\n",
    "                deltas.append(delta_lminusOne)\n",
    "                \n",
    "            # reverse\n",
    "            # [layer 2(output)->layer 1(hidden)]  => [layer 1(hidden)->layer 2(output)]\n",
    "            deltas.reverse()\n",
    "\n",
    "            # backpropagation: adjusting weights\n",
    "            for l in range(self.L):\n",
    "                a_l = np.atleast_2d(a[l])\n",
    "                delta_l = np.atleast_2d(deltas[l])\n",
    "                # implementing eqn (5) on slide 12\n",
    "                # (to be precise, the equation just above (5))\n",
    "                self.weights[l] += learning_rate * a_l.T.dot(delta_l)\n",
    "            if k % (epochs/20) == 0:\n",
    "# #                 plt.plot(x, np.sin(k*x))\n",
    "                display.clear_output(wait=True)\n",
    "                display.display(self.visual_NN_boundaries(X_orig, y, Nsamp = 2000))\n",
    "                time.sleep(0.2)\n",
    "                plt.clf()\n",
    "        \n",
    "                \n",
    "        if RMS > tol:\n",
    "            print('NN training failed.')\n",
    "            \n",
    "        \n",
    "            \n",
    "    def visual_NN_boundaries(self, X, y, Nsamp = 2000):\n",
    "        for i in range(len(y)):\n",
    "            if y[i] == 1:\n",
    "                plt.scatter(X[i][0],X[i][1], color = 'r', s = 500, marker = '*')\n",
    "            else:\n",
    "                plt.scatter(X[i][0],X[i][1], color = 'b', s = 500, marker = '*')\n",
    "        x = np.random.random((Nsamp, 2))\n",
    "        for j in range(len(x)):\n",
    "            z = nn.predict(x[j])\n",
    "            if z > 0.5:\n",
    "                plt.scatter(x[j][0], x[j][1], color = 'r')\n",
    "            else:\n",
    "                plt.scatter(x[j][0], x[j][1], color = 'b')\n",
    "\n",
    "        plt.xlim(-0.5, 1.5)\n",
    "        plt.ylim(-0.5, 1.5)\n",
    "        plt.show()\n",
    "\n",
    "    def predict(self, x): \n",
    "        '''\n",
    "        forward propagation\n",
    "        (Note -- possibly improvement:\n",
    "        a) create a method that adds bias to be used here and in the fit method.\n",
    "        b) create a method that does forward propagation to be used here and \n",
    "        in the method fit.)\n",
    "        '''\n",
    "        # adding bias -- np.ones(1) seems silly: \n",
    "        # But to concatenate, both objects have to be numpy arrays.\n",
    "        a = np.concatenate((np.ones(1).T, np.array(x)), axis=1)  \n",
    "        # forward propagation\n",
    "        for l in range(0, self.L):\n",
    "            a = self.activation(np.dot(a, self.weights[l]))\n",
    "        return a\n",
    "        "
   ]
  },
  {
   "cell_type": "code",
   "execution_count": 13,
   "metadata": {
    "collapsed": false
   },
   "outputs": [
    {
     "data": {
      "image/png": "[encoded data removed]",
      "text/plain": [
       "<matplotlib.figure.Figure at 0x10f5d0110>"
      ]
     },
     "metadata": {},
     "output_type": "display_data"
    },
    {
     "data": {
      "text/plain": [
       "None"
      ]
     },
     "metadata": {},
     "output_type": "display_data"
    },
    {
     "name": "stdout",
     "output_type": "stream",
     "text": [
      "epochs: 8000\n",
      "[0.00000 0.00000] [0.01437] 0\n",
      "[0.00000 1.00000] [-0.00194] 0\n",
      "[0.50000 1.00000] [0.00697] 0\n",
      "[0.00000 0.50000] [0.99092] 1\n",
      "[1.00000 0.00000] [0.99201] 1\n",
      "[1.00000 1.00000] [0.99203] 1\n",
      "RMS 0.0088376561022\n",
      "NN training succeeded!\n"
     ]
    },
    {
     "data": {
      "text/plain": [
       "<matplotlib.figure.Figure at 0x11036d750>"
      ]
     },
     "metadata": {},
     "output_type": "display_data"
    }
   ],
   "source": [
    "nn = NeuralNetwork([2,2,2,1])\n",
    "X1 = np.array([[0, 0],\n",
    "             [0, 1],  \n",
    "             [0.5, 1],\n",
    "             [0, 0.5],\n",
    "             [1, 0],\n",
    "             [1, 1]])\n",
    "\n",
    "y1 = np.array([0, 0, 0, 1, 1, 1])\n",
    "nn.fit(X1, y1, epochs = 20000)"
   ]
  },
  {
   "cell_type": "code",
   "execution_count": null,
   "metadata": {
    "collapsed": true
   },
   "outputs": [],
   "source": [
    "'''Dynamicall unpdata maplibplot figure'''\n",
    "import time\n",
    "from IPython import display\n",
    "\n",
    "x = np.linspace(0, np.pi*2, 10000)\n",
    "for k in range(20):\n",
    "    plt.plot(x, np.sin(k*x))\n",
    "    display.clear_output(wait=True)\n",
    "    display.display(plt.gcf())\n",
    "    time.sleep(0.2)\n",
    "    plt.clf()\n",
    "plt.show()"
   ]
  },
  {
   "cell_type": "code",
   "execution_count": null,
   "metadata": {
    "collapsed": false
   },
   "outputs": [],
   "source": [
    "nn = NeuralNetwork([2,2,1], activation='tanh')\n",
    "\n",
    "X = np.array([[0, 0],\n",
    "              [0, 1],          \n",
    "              [1, 0],\n",
    "              [1, 1]])\n",
    "\n",
    "y = np.array([0, 1, 1, 0])\n",
    "\n",
    "nn.fit(X, y, epochs = 20000)\n"
   ]
  },
  {
   "cell_type": "markdown",
   "metadata": {},
   "source": [
    "# End of Week 8-2"
   ]
  }
 ],
 "metadata": {
  "kernelspec": {
   "display_name": "Python 2",
   "language": "python",
   "name": "python2"
  },
  "language_info": {
   "codemirror_mode": {
    "name": "ipython",
    "version": 2
   },
   "file_extension": ".py",
   "mimetype": "text/x-python",
   "name": "python",
   "nbconvert_exporter": "python",
   "pygments_lexer": "ipython2",
   "version": "2.7.9"
  }
 },
 "nbformat": 4,
 "nbformat_minor": 0
}

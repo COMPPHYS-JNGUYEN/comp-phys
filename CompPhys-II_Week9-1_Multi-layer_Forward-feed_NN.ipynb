{
 "cells": [
  {
   "cell_type": "markdown",
   "metadata": {},
   "source": [
    "# Multi-layer Forward-feed NN\n",
    "\n",
    "## 1. NN from sklearn\n",
    "## 2. NN regression\n",
    "## 3. The Problem of Overfitting \n",
    "## 4. Training vs. Validation sets\n",
    "\n",
    "\n"
   ]
  },
  {
   "cell_type": "markdown",
   "metadata": {},
   "source": [
    "## Update your scikit-learn developer package -- the bleeding edge!\n",
    "\n",
    "## At your terminal:\n",
    "\n",
    "  - ## In your home directory\n",
    "       (http://scikit-learn.org/dev/developers/contributing.html#git-repo): \n",
    "        > git clone git://github.com/scikit-learn/scikit-learn.git\n",
    "        \n",
    "  - ## Open Canopy, click on Package Manager, select cython, and click install\n",
    "  - ## At command line, install Xcode command line tools by doing this\n",
    "       (see https://trac.macports.org/ticket/43289):\n",
    "  \n",
    "        > xcode-select --install\n",
    "        \n",
    "  - ## Finally, compile sklearn source code:\n",
    "  \n",
    "        > python setup.py build_ext --inplace\n",
    "        \n",
    "  - ## To make this version your default sklearn, in ~/.bash_profile add (no space on either side of = sign)\n",
    "  \n",
    "         PYTHONPATH=\"/Users/xhuang22/scikit-learn\"\n",
    "         export PYTHONPATH\n",
    "         \n",
    "   - ## May need to reload your notebook\n"
   ]
  },
  {
   "cell_type": "code",
   "execution_count": 1,
   "metadata": {
    "collapsed": false
   },
   "outputs": [
    {
     "name": "stdout",
     "output_type": "stream",
     "text": [
      "0.17\n"
     ]
    }
   ],
   "source": [
    "import sklearn\n",
    "print(sklearn.__version__)"
   ]
  },
  {
   "cell_type": "code",
   "execution_count": 1,
   "metadata": {
    "collapsed": false
   },
   "outputs": [],
   "source": [
    "%matplotlib inline\n",
    "# All imports\n",
    "\n",
    "from __future__ import print_function, division\n",
    "from random import choice\n",
    "import numpy as np\n",
    "import matplotlib.pyplot as plt\n",
    "from copy import copy\n",
    "import time\n",
    "from IPython import display\n",
    "\n",
    "\n",
    "\n",
    "# from sklearn.neural_network import MLPClassifier\n",
    "\n",
    "np.set_printoptions(formatter={'float': '{:.5f}'.format})\n"
   ]
  },
  {
   "cell_type": "code",
   "execution_count": 2,
   "metadata": {
    "collapsed": false
   },
   "outputs": [
    {
     "name": "stdout",
     "output_type": "stream",
     "text": [
      "0.17\n"
     ]
    },
    {
     "ename": "ImportError",
     "evalue": "cannot import name MLPRegressor",
     "output_type": "error",
     "traceback": [
      "\u001b[0;31m---------------------------------------------------------------------------\u001b[0m",
      "\u001b[0;31mImportError\u001b[0m                               Traceback (most recent call last)",
      "\u001b[0;32m<ipython-input-2-c879312a678b>\u001b[0m in \u001b[0;36m<module>\u001b[0;34m()\u001b[0m\n\u001b[1;32m      2\u001b[0m \u001b[0;32mprint\u001b[0m\u001b[0;34m(\u001b[0m\u001b[0msklearn\u001b[0m\u001b[0;34m.\u001b[0m\u001b[0m__version__\u001b[0m\u001b[0;34m)\u001b[0m\u001b[0;34m\u001b[0m\u001b[0m\n\u001b[1;32m      3\u001b[0m \u001b[0;34m\u001b[0m\u001b[0m\n\u001b[0;32m----> 4\u001b[0;31m \u001b[0;32mfrom\u001b[0m \u001b[0msklearn\u001b[0m\u001b[0;34m.\u001b[0m\u001b[0mneural_network\u001b[0m \u001b[0;32mimport\u001b[0m \u001b[0mMLPRegressor\u001b[0m\u001b[0;34m\u001b[0m\u001b[0m\n\u001b[0m\u001b[1;32m      5\u001b[0m \u001b[0;32mfrom\u001b[0m \u001b[0msklearn\u001b[0m\u001b[0;34m.\u001b[0m\u001b[0mcross_validation\u001b[0m \u001b[0;32mimport\u001b[0m \u001b[0mtrain_test_split\u001b[0m\u001b[0;34m\u001b[0m\u001b[0m\n",
      "\u001b[0;31mImportError\u001b[0m: cannot import name MLPRegressor"
     ]
    }
   ],
   "source": [
    "import sklearn\n",
    "print(sklearn.__version__)\n",
    "\n",
    "from sklearn.neural_network import MLPRegressor\n",
    "from sklearn.cross_validation import train_test_split\n"
   ]
  },
  {
   "cell_type": "code",
   "execution_count": 3,
   "metadata": {
    "collapsed": false
   },
   "outputs": [
    {
     "ename": "ImportError",
     "evalue": "cannot import name MLPClassifier",
     "output_type": "error",
     "traceback": [
      "\u001b[0;31m---------------------------------------------------------------------------\u001b[0m",
      "\u001b[0;31mImportError\u001b[0m                               Traceback (most recent call last)",
      "\u001b[0;32m<ipython-input-3-eba762eb8b51>\u001b[0m in \u001b[0;36m<module>\u001b[0;34m()\u001b[0m\n\u001b[0;32m----> 1\u001b[0;31m \u001b[0;32mfrom\u001b[0m \u001b[0msklearn\u001b[0m\u001b[0;34m.\u001b[0m\u001b[0mneural_network\u001b[0m \u001b[0;32mimport\u001b[0m \u001b[0mMLPClassifier\u001b[0m\u001b[0;34m\u001b[0m\u001b[0m\n\u001b[0m\u001b[1;32m      2\u001b[0m \u001b[0mX\u001b[0m \u001b[0;34m=\u001b[0m \u001b[0;34m[\u001b[0m\u001b[0;34m[\u001b[0m\u001b[0;36m0.\u001b[0m\u001b[0;34m,\u001b[0m \u001b[0;36m0.\u001b[0m\u001b[0;34m]\u001b[0m\u001b[0;34m,\u001b[0m \u001b[0;34m[\u001b[0m\u001b[0;36m1.\u001b[0m\u001b[0;34m,\u001b[0m \u001b[0;36m1.\u001b[0m\u001b[0;34m]\u001b[0m\u001b[0;34m]\u001b[0m\u001b[0;34m\u001b[0m\u001b[0m\n\u001b[1;32m      3\u001b[0m \u001b[0my\u001b[0m \u001b[0;34m=\u001b[0m \u001b[0;34m[\u001b[0m\u001b[0;36m0\u001b[0m\u001b[0;34m,\u001b[0m \u001b[0;36m1\u001b[0m\u001b[0;34m]\u001b[0m\u001b[0;34m\u001b[0m\u001b[0m\n\u001b[1;32m      4\u001b[0m \u001b[0mclf\u001b[0m \u001b[0;34m=\u001b[0m \u001b[0mMLPClassifier\u001b[0m\u001b[0;34m(\u001b[0m\u001b[0malgorithm\u001b[0m\u001b[0;34m=\u001b[0m\u001b[0;34m'l-bfgs'\u001b[0m\u001b[0;34m,\u001b[0m \u001b[0malpha\u001b[0m\u001b[0;34m=\u001b[0m\u001b[0;36m1e-5\u001b[0m\u001b[0;34m,\u001b[0m \u001b[0mhidden_layer_sizes\u001b[0m\u001b[0;34m=\u001b[0m\u001b[0;34m(\u001b[0m\u001b[0;36m4\u001b[0m\u001b[0;34m,\u001b[0m \u001b[0;36m2\u001b[0m\u001b[0;34m)\u001b[0m\u001b[0;34m,\u001b[0m \u001b[0mrandom_state\u001b[0m\u001b[0;34m=\u001b[0m\u001b[0;36m1\u001b[0m\u001b[0;34m)\u001b[0m\u001b[0;34m\u001b[0m\u001b[0m\n\u001b[1;32m      5\u001b[0m \u001b[0mclf\u001b[0m\u001b[0;34m.\u001b[0m\u001b[0mfit\u001b[0m\u001b[0;34m(\u001b[0m\u001b[0mX\u001b[0m\u001b[0;34m,\u001b[0m \u001b[0my\u001b[0m\u001b[0;34m)\u001b[0m\u001b[0;34m\u001b[0m\u001b[0m\n",
      "\u001b[0;31mImportError\u001b[0m: cannot import name MLPClassifier"
     ]
    }
   ],
   "source": [
    "from sklearn.neural_network import MLPClassifier\n",
    "X = [[0., 0.], [1., 1.]]\n",
    "y = [0, 1]\n",
    "clf = MLPClassifier(algorithm='l-bfgs', alpha=1e-5, hidden_layer_sizes=(4, 2), random_state=1)\n",
    "clf.fit(X, y) "
   ]
  },
  {
   "cell_type": "code",
   "execution_count": 185,
   "metadata": {
    "collapsed": false
   },
   "outputs": [
    {
     "data": {
      "text/plain": [
       "array([1, 0])"
      ]
     },
     "execution_count": 185,
     "metadata": {},
     "output_type": "execute_result"
    }
   ],
   "source": [
    "X_test = [[2., 2.], [-1., -2.]]\n",
    "clf.predict(X_test)"
   ]
  },
  {
   "cell_type": "code",
   "execution_count": 186,
   "metadata": {
    "collapsed": false
   },
   "outputs": [
    {
     "data": {
      "text/plain": [
       "array([0, 1])"
      ]
     },
     "execution_count": 186,
     "metadata": {},
     "output_type": "execute_result"
    }
   ],
   "source": [
    "X_test2 = [[0.1, 0.2], [0.8, 0.9]]\n",
    "clf.predict(X_test2)"
   ]
  },
  {
   "cell_type": "markdown",
   "metadata": {},
   "source": [
    "## Breakout:\n",
    "\n",
    "## Draw the schematic for this neural network.\n",
    "\n",
    "## Remember, there is a bias unit at every layer, except the output layer."
   ]
  },
  {
   "cell_type": "markdown",
   "metadata": {},
   "source": [
    "## From wikipedia:\n",
    "\n",
    "In the context of artificial neural networks, the rectifier is an activation function defined as\n",
    "\n",
    "\n",
    "$f(x) = \\max(0, x)$\n",
    "\n",
    "\n",
    "where $x$ is the input to a neuron. This is also known as a ramp function... This activation function has been argued to be more biologically plausible[1] than the widely used logistic sigmoid... and its more practical counterpart, the hyperbolic tangent. The rectifier is, as of 2015, the most popular activation function for deep neural networks.\n",
    "\n",
    "A unit employing the rectifier is also called a rectified linear unit (ReLU).\n",
    "\n",
    "A smooth approximation to the rectifier is the analytic function\n",
    "\n",
    "$f(x) = \\ln(1 + e^x)$\n",
    "\n",
    "which is called the softplus function. The derivative of softplus is $f'(x) = e^x / (e^x+1) = 1 / (1 + e^{-x})$, i.e. the logistic function.\n",
    "\n",
    "\n",
    "## From sklearn neural network classifier documentation:\n",
    "\n",
    "**activation** : {‘logistic’, ‘tanh’, ‘relu’}, default ‘relu’\n",
    "\n",
    "Activation function for the hidden layer.\n",
    "\n",
    "‘logistic’, the logistic sigmoid function, returns f(x) = 1 / (1 + exp(-x)).\n",
    "\n",
    "‘tanh’, the hyperbolic tan function, returns f(x) = tanh(x).\n",
    "\n",
    "‘relu’, the rectified linear unit function, returns f(x) = max(0, x)\n",
    "\n"
   ]
  },
  {
   "cell_type": "code",
   "execution_count": 25,
   "metadata": {
    "collapsed": false
   },
   "outputs": [
    {
     "data": {
      "image/png": "[encoded data removed]",
      "text/plain": [
       "<matplotlib.figure.Figure at 0x101fa0f10>"
      ]
     },
     "metadata": {},
     "output_type": "display_data"
    }
   ],
   "source": [
    "%matplotlib inline\n",
    "\n",
    "import matplotlib.patches as mpatches\n",
    "import matplotlib.pyplot as plt\n",
    "import numpy as np\n",
    "\n",
    "def f(x):\n",
    "    return np.log(1 + np.exp(x))\n",
    "\n",
    "def fprime(x):\n",
    "    return 1./(1 + np.exp(-x))\n",
    "\n",
    "def rectifier(x):\n",
    "    return np.maximum(np.zeros(np.shape(x)), x)\n",
    "\n",
    "def rect(x):\n",
    "    y = (x > 0)*x\n",
    "    return y\n",
    "\n",
    "x = np.linspace(-10, 10, 10000)\n",
    "# plt.plot(x, rectifier(x))\n",
    "up, = plt.plot(x, f(x))\n",
    "down, = plt.plot(x, rect(x))\n",
    "plt.legend(handles=[up, down], labels=['sig', 'rect'], loc=2)\n",
    "plt.show()\n",
    "    "
   ]
  },
  {
   "cell_type": "markdown",
   "metadata": {},
   "source": [
    "## From sklearn neural network classifier documentation:\n",
    "\n",
    "### 1.17.5. Algorithms\n",
    "\n",
    "MLP trains using Stochastic Gradient Descent, Adam, or L-BFGS. Stochastic Gradient Descent (SGD) updates parameters using the gradient of the loss function with respect to a parameter that needs adaptation, i.e.\n",
    "\n",
    "$$w \\leftarrow w - \\eta \\left( \\alpha \\frac{\\partial R(w)}{\\partial w}\n",
    "+ \\frac{\\partial Loss}{\\partial w} \\right)$$\n",
    "\n",
    "where \\eta is the learning rate which controls the step-size in the parameter space search.  Loss is the loss function used for the network.\n",
    "\n",
    "More details can be found in the documentation of SGD\n",
    "\n",
    "Adam is similar to SGD in a sense that it is a stochastic optimization algorithm, but it can automatically adjust the amount to update parameters based on adaptive estimates of lower-order moments.\n",
    "\n",
    "...\n",
    "\n",
    "L-BFGS is a fast learning algorithm that approximates the Hessian matrix which represents the second-order partial derivative of a function. Further it approximates the inverse of the Hessian matrix to perform parameter updates. \n",
    "[We haven't talked about how to use the second derivatives.]\n"
   ]
  },
  {
   "cell_type": "markdown",
   "metadata": {},
   "source": [
    "## Breakout\n",
    "\n",
    "- ## Plot softplus and the rectifier functions\n",
    "\n",
    "- ## Use legends to mark which is which:\n",
    "\n",
    "   http://matplotlib.org/users/legend_guide.html\n",
    "\n",
    "  ## Find the cell that has \n",
    "\n",
    "        line_up, = ..."
   ]
  },
  {
   "cell_type": "code",
   "execution_count": 208,
   "metadata": {
    "collapsed": false
   },
   "outputs": [
    {
     "data": {
      "image/png": "[encoded data removed]",
      "text/plain": [
       "<matplotlib.figure.Figure at 0x110aed690>"
      ]
     },
     "metadata": {},
     "output_type": "display_data"
    }
   ],
   "source": [
    "'''\n",
    "Breakout Solution\n",
    "\n",
    "Show students the solution:\n",
    "\n",
    "- Show the quick way to do it: max_fn2\n",
    "- Make aware the numpy function maximum\n",
    "\n",
    "'''\n",
    "x = np.linspace(-5, 5, 100)\n",
    "softplus = lambda x: np.log(1 + np.exp(x))\n",
    "max_fn = lambda x: np.maximum(x, 0)\n",
    "\n",
    "#Or we can do:\n",
    "max_fn2 = lambda x: (x > 0)*x\n",
    "\n",
    "\n",
    "soft, = plt.plot(x, softplus(x), label = 'softplus')\n",
    "# plt.plot(x, max_fn(x))\n",
    "rect, = plt.plot(x, max_fn2(x), label = 'rectifier')\n",
    "plt.legend(handles=[soft, rect])\n",
    "\n",
    "plt.show()"
   ]
  },
  {
   "cell_type": "code",
   "execution_count": 187,
   "metadata": {
    "collapsed": false
   },
   "outputs": [
    {
     "data": {
      "text/plain": [
       "[(2, 4), (4, 2), (2, 1)]"
      ]
     },
     "execution_count": 187,
     "metadata": {},
     "output_type": "execute_result"
    }
   ],
   "source": [
    "[coef.shape for coef in clf.coefs_]"
   ]
  },
  {
   "cell_type": "code",
   "execution_count": 188,
   "metadata": {
    "collapsed": false
   },
   "outputs": [
    {
     "data": {
      "text/plain": [
       "[array([[-0.14086, -1.22863, -0.84856, -4.44931],\n",
       "        [-0.59963, -2.29464, -0.53257, -4.37593]]), array([[-0.14086, 0.37400],\n",
       "        [-0.84856, -0.97802],\n",
       "        [-0.59963, -0.69200],\n",
       "        [-0.53257, -3.66383]]), array([[-0.19920],\n",
       "        [6.04061]])]"
      ]
     },
     "execution_count": 188,
     "metadata": {},
     "output_type": "execute_result"
    }
   ],
   "source": [
    "# The (non-bias) weights\n",
    "# \"coefs_ is a list of weight matrices, where weight matrix at index i \n",
    "# represents the weights between layer i and layer i+1\"\n",
    "[coef for coef in clf.coefs_]"
   ]
  },
  {
   "cell_type": "code",
   "execution_count": 11,
   "metadata": {
    "collapsed": false
   },
   "outputs": [
    {
     "data": {
      "text/plain": [
       "[array([-0.20647, 2.73232, -0.16161, 0.58932]),\n",
       " array([-0.20647, 3.34512]),\n",
       " array([-9.39581])]"
      ]
     },
     "execution_count": 11,
     "metadata": {},
     "output_type": "execute_result"
    }
   ],
   "source": [
    "# The weigths for the bias unit\n",
    "# called intercepts because for a 2d fit, it is the intercept on the verital axis\n",
    "# remember otherwise the decision boundary line always passes through the origin.\n",
    "# - layer 0: the bias for the input layer needs to have five weights to the 5 hidden units\n",
    "# - layer 1: the bias for the first hidden layer (it has 5 units) needs to have 2 weights for the 2\n",
    "# units in the second hidden layer.\n",
    "# - layer2: bias for the second hidden layer needs to have one weight for the output\n",
    "# Note: the bias unit is not very strong, except for the output\n",
    "clf.intercepts_"
   ]
  },
  {
   "cell_type": "code",
   "execution_count": 12,
   "metadata": {
    "collapsed": false
   },
   "outputs": [
    {
     "name": "stdout",
     "output_type": "stream",
     "text": [
      "[[2.0, 2.0], [-1.0, -2.0]]\n"
     ]
    },
    {
     "data": {
      "text/plain": [
       "array([10.81077, -9.39581])"
      ]
     },
     "execution_count": 12,
     "metadata": {},
     "output_type": "execute_result"
    }
   ],
   "source": [
    "print(X_test)\n",
    "clf.decision_function(X_test) "
   ]
  },
  {
   "cell_type": "code",
   "execution_count": 13,
   "metadata": {
    "collapsed": false
   },
   "outputs": [
    {
     "data": {
      "text/plain": [
       "0.00030165876643380672"
      ]
     },
     "execution_count": 13,
     "metadata": {},
     "output_type": "execute_result"
    }
   ],
   "source": [
    "# The loss function (more or less opposite to the performance function)\n",
    "clf.loss_"
   ]
  },
  {
   "cell_type": "code",
   "execution_count": 14,
   "metadata": {
    "collapsed": false
   },
   "outputs": [
    {
     "data": {
      "text/plain": [
       "'logistic'"
      ]
     },
     "execution_count": 14,
     "metadata": {},
     "output_type": "execute_result"
    }
   ],
   "source": [
    "# the output activation function is often different from the activation funcitons used in the hidden layers.\n",
    "clf.out_activation_"
   ]
  },
  {
   "cell_type": "markdown",
   "metadata": {},
   "source": [
    "## Clearly, \n",
    "\n",
    "Passing 47.6 through the logistic function, you will get a number very close to 1, and \n",
    "passing -8.8 through the logistica function, you will get a number very close to 0.\n",
    "\n",
    "## Finally, digging into the source code (on github, \n",
    "\n",
    "## sklearn/neural_network/multilayer_perceptron.py),\n",
    "\n",
    "##you will see that  sklearn uses what it calls a LabelBinarizer to turn floats into either 0 or 1:\n",
    "\n",
    "http://scikit-learn.org/stable/modules/generated/sklearn.preprocessing.LabelBinarizer.html"
   ]
  },
  {
   "cell_type": "markdown",
   "metadata": {},
   "source": [
    "## Breakout\n",
    "\n",
    "## Now, our favorite problem the XOR"
   ]
  },
  {
   "cell_type": "code",
   "execution_count": 192,
   "metadata": {
    "collapsed": false
   },
   "outputs": [
    {
     "name": "stdout",
     "output_type": "stream",
     "text": [
      "[[0, 0], [0, 1], [1, 0], [1, 1]]\n"
     ]
    },
    {
     "data": {
      "text/plain": [
       "array([0, 1, 1, 0])"
      ]
     },
     "execution_count": 192,
     "metadata": {},
     "output_type": "execute_result"
    }
   ],
   "source": [
    "X_train = [[0, 0],\n",
    "              [0, 1],          \n",
    "              [1, 0],\n",
    "              [1, 1]]\n",
    "\n",
    "y_train = [0, 1, 1, 0]\n",
    "\n",
    "# using 'tanh' as activation function\n",
    "# default value: learning_rate_init = 0.001 way too slow,\n",
    "# so change it to 0.2\n",
    "clf = MLPClassifier(algorithm='l-bfgs', alpha=1e-10, hidden_layer_sizes=(2, 2), activation = 'tanh', \\\n",
    "                    random_state=1, max_iter=1000, learning_rate_init = 0.2)\n",
    "\n",
    "# try sgd\n",
    "# clf = MLPClassifier(algorithm='sgd', alpha=1e-5, hidden_layer_sizes=(4, 2), activation='tanh', \\\n",
    "#                     random_state=1, max_iter=1000000, learning_rate_init = 0.1)\n",
    "\n",
    "clf.fit(X_train, y_train)\n",
    "print(X_train)\n",
    "clf.predict(X_train)"
   ]
  },
  {
   "cell_type": "code",
   "execution_count": 190,
   "metadata": {
    "collapsed": false
   },
   "outputs": [
    {
     "data": {
      "image/png": "[encoded data removed]",
      "text/plain": [
       "<matplotlib.figure.Figure at 0x102ec27d0>"
      ]
     },
     "metadata": {},
     "output_type": "display_data"
    }
   ],
   "source": [
    "'''\n",
    "Breakout Solution:\n",
    "\n",
    "Two-layer NN as a classifier, using XOR truth table.\n",
    "'''\n",
    "\n",
    "def visual_NN_boundaries(X_train, y_train, Nsamp = 2000):\n",
    "    X = np.random.rand(2000, 2)\n",
    "\n",
    "    z = clf.predict(X)\n",
    " \n",
    "    for i, x in enumerate(X):\n",
    "        if z[i]:\n",
    "            plt.plot(x[0], x[1], 'r.')\n",
    "        else:\n",
    "            plt.plot(x[0], x[1], 'b.')\n",
    "\n",
    "    plt.axis([-0.1, 1.1, -0.1, 1.1])\n",
    "\n",
    "    for i, x_train in enumerate(X_train):\n",
    "        if y_train[i]:\n",
    "            plt.plot(x_train[0], x_train[1], 'ro', ms = 20)\n",
    "        else:\n",
    "            plt.plot(x_train[0], x_train[1], 'bo', ms = 20)\n",
    "\n",
    "    plt.show()\n",
    "    \n",
    "visual_NN_boundaries(X_train, y_train)"
   ]
  },
  {
   "cell_type": "code",
   "execution_count": 193,
   "metadata": {
    "collapsed": false
   },
   "outputs": [
    {
     "name": "stdout",
     "output_type": "stream",
     "text": [
      "[[0, 0], [0, 1], [1, 0], [1, 1]]\n"
     ]
    },
    {
     "data": {
      "text/plain": [
       "array([0, 1, 1, 0])"
      ]
     },
     "execution_count": 193,
     "metadata": {},
     "output_type": "execute_result"
    }
   ],
   "source": [
    "#If you want more control over stopping criteria or learning rate in SGD, or want to do additional monitoring,\n",
    "#using warm_start=True and max_iter=1 and iterating yourself can be helpful:\n",
    "\n",
    "\n",
    "X_train = [[0, 0],\n",
    "           [0, 1],          \n",
    "           [1, 0],\n",
    "           [1, 1]]\n",
    "\n",
    "y_train = [0, 1, 1, 0]\n",
    "clf = MLPClassifier(algorithm='sgd', alpha=1e-5, hidden_layer_sizes=(4, 2), activation='tanh', \\\n",
    "                    random_state=1, max_iter=100000, learning_rate_init = 0.1)\n",
    "\n",
    "for i in range(10):\n",
    "    clf.fit(X_train, y_train)\n",
    "    # additional monitoring / inspection/set criteria\n",
    "    \n",
    "print(X_train)\n",
    "clf.predict(X_train)"
   ]
  },
  {
   "cell_type": "markdown",
   "metadata": {},
   "source": [
    "## ANN for Regression"
   ]
  },
  {
   "cell_type": "code",
   "execution_count": 18,
   "metadata": {
    "collapsed": false
   },
   "outputs": [
    {
     "name": "stdout",
     "output_type": "stream",
     "text": [
      "[[1], [0], [0], [1]]\n"
     ]
    },
    {
     "data": {
      "text/plain": [
       "array([0, 1, 1, 0])"
      ]
     },
     "execution_count": 18,
     "metadata": {},
     "output_type": "execute_result"
    }
   ],
   "source": [
    "X_train = [[1],\n",
    "              [0],          \n",
    "              [0],\n",
    "              [1]]\n",
    "\n",
    "y_train = [0, 1, 1, 0]\n",
    "\n",
    "# using 'tanh' as activation function\n",
    "# default value: learning_rate_init = 0.001 way too slow,\n",
    "# so change it to 0.2\n",
    "clf = MLPClassifier(algorithm='l-bfgs', alpha=1e-10, hidden_layer_sizes=(2, 2), activation = 'tanh', \\\n",
    "                    random_state=1, max_iter=1000, learning_rate_init = 0.2)\n",
    "\n",
    "\n",
    "clf.fit(X_train, y_train)\n",
    "print(X_train)\n",
    "clf.predict(X_train)"
   ]
  },
  {
   "cell_type": "markdown",
   "metadata": {},
   "source": [
    "## In the (1, 1, 1) NN, you are only able to generate the activation function.\n",
    "\n",
    "- ## The input-to-hidden layer weight passes through the activation function and so it sets the scale for independnect variable (usu. x).\n",
    "- ## The the hidden layer-to-output layer weight, on the other hand, doesn't pass through the activation function (at least not the same one as the hidden layer), and it sets the vertical scale."
   ]
  },
  {
   "cell_type": "code",
   "execution_count": 209,
   "metadata": {
    "collapsed": false
   },
   "outputs": [
    {
     "name": "stdout",
     "output_type": "stream",
     "text": [
      "Total number of points: 40\n",
      "Total number of weights: [(1, 1), (1, 1)]\n",
      "Loss function 0.354164000507\n",
      "score 0.959699372919\n"
     ]
    },
    {
     "data": {
      "image/png": "[encoded data removed]",
      "text/plain": [
       "<matplotlib.figure.Figure at 0x115e7df10>"
      ]
     },
     "metadata": {},
     "output_type": "display_data"
    }
   ],
   "source": [
    "from sklearn.neural_network import MLPRegressor\n",
    "\n",
    "N = 40\n",
    "xmin = 0.\n",
    "xmax = 2.\n",
    "x = np.linspace(xmin, xmax, N)\n",
    "# expects a 2d array.\n",
    "X = np.atleast_2d(x).T\n",
    "\n",
    "a0 = 1.5\n",
    "a1 = 2.\n",
    "a2 = 2.5\n",
    "\n",
    "y = a0 + a1*x + a2*x**2  # - a3*x**3 + a4*x**4\n",
    "# add noise\n",
    "y += np.random.randn(y.shape[0])*1. \n",
    "\n",
    "# even though there is only one node, it allows for non-linearity throught the tanh funcion.\n",
    "# For regression, don't use the rectifier!!\n",
    "# So in the (1, 1, 1) NN, the nonlinearity comes directly from tanh\n",
    "reg = MLPRegressor(algorithm='l-bfgs', hidden_layer_sizes=(1,), activation='tanh',\\\n",
    "                    random_state=1, max_iter=1000000, learning_rate_init = 0.1)\n",
    "\n",
    "\n",
    "reg.fit(X, y)\n",
    "# print('X_train:', X_train)\n",
    "# print('y_train:', y_train)\n",
    "# print('Prediction:')\n",
    "print(\"Total number of points:\", N)\n",
    "print(\"Total number of weights:\", [coef.shape for coef in reg.coefs_])\n",
    "print(\"Loss function\", reg.loss_)\n",
    "\n",
    "\n",
    "# score = 1 is the best; \n",
    "# score = 0 corresponds to fitting the data with a flat line\n",
    "# score can be negative, as a fit can be arbitrarily bad!!\n",
    "print(\"score\", reg.score(X, y))\n",
    "\n",
    "x_plot = np.linspace(xmin, xmax, 1000)\n",
    "X_plot = np.atleast_2d(x_plot).T\n",
    "\n",
    "y_predict = reg.predict(X_plot)\n",
    "plt.plot(x, y, '.')\n",
    "plt.plot(x_plot, y_predict)\n",
    "plt.show()\n",
    "\n"
   ]
  },
  {
   "cell_type": "code",
   "execution_count": 144,
   "metadata": {
    "collapsed": false
   },
   "outputs": [
    {
     "data": {
      "text/plain": [
       "'identity'"
      ]
     },
     "execution_count": 144,
     "metadata": {},
     "output_type": "execute_result"
    }
   ],
   "source": [
    "reg.out_activation_"
   ]
  },
  {
   "cell_type": "code",
   "execution_count": 10,
   "metadata": {
    "collapsed": false
   },
   "outputs": [
    {
     "data": {
      "image/png": "[encoded data removed]",
      "text/plain": [
       "<matplotlib.figure.Figure at 0x11988e250>"
      ]
     },
     "metadata": {},
     "output_type": "display_data"
    }
   ],
   "source": [
    "%matplotlib inline\n",
    "\n",
    "import matplotlib.pyplot as plt\n",
    "import numpy as np\n",
    "\n",
    "def z(x, wn, wb):\n",
    "    y = wn[1]*np.tanh(x*wn[0] + wb[0]) + wb[1]\n",
    "    return y\n",
    "    \n",
    "\n",
    "N = 40\n",
    "xmin = 0.\n",
    "xmax = 2.\n",
    "x = np.linspace(xmin, xmax, N)\n",
    "# expects a 2d array.\n",
    "X = np.atleast_2d(x).T\n",
    "\n",
    "a0 = 1.5\n",
    "a1 = 2.\n",
    "a2 = 2.5\n",
    "\n",
    "y = a0 + a1*x + a2*x**2  # - a3*x**3 + a4*x**4\n",
    "# add noise\n",
    "y += np.random.randn(y.shape[0])*1.\n",
    "\n",
    "weight_n = np.array([-0.36217, -32.50871])\n",
    "weight_b = np.array([1.11756, 27.24332])\n",
    "\n",
    "plt.plot(x, y, '.')\n",
    "plt.plot(x, z(x, weight_n, weight_b))\n",
    "plt.show()\n",
    "\n"
   ]
  },
  {
   "cell_type": "markdown",
   "metadata": {},
   "source": [
    "## Let's look at the weights"
   ]
  },
  {
   "cell_type": "code",
   "execution_count": 165,
   "metadata": {
    "collapsed": false
   },
   "outputs": [
    {
     "data": {
      "text/plain": [
       "[array([[-0.69516]]), array([[-14.30944]])]"
      ]
     },
     "execution_count": 165,
     "metadata": {},
     "output_type": "execute_result"
    }
   ],
   "source": [
    "# Note: in some cases, both weights are negative, which gives you \n",
    "# the usual tanh function (rememer the tanh function is symmetric \n",
    "# about the origin.\n",
    "[coef for coef in reg.coefs_]"
   ]
  },
  {
   "cell_type": "code",
   "execution_count": 210,
   "metadata": {
    "collapsed": false
   },
   "outputs": [
    {
     "data": {
      "text/plain": [
       "array([30.93473])"
      ]
     },
     "execution_count": 210,
     "metadata": {},
     "output_type": "execute_result"
    }
   ],
   "source": [
    "# And biases\n",
    "reg.intercepts_"
   ]
  },
  {
   "cell_type": "code",
   "execution_count": 202,
   "metadata": {
    "collapsed": false
   },
   "outputs": [
    {
     "name": "stdout",
     "output_type": "stream",
     "text": [
      "Total number of points: 40\n",
      "Total number of weights: [(1, 100), (100, 1)]\n",
      "Loss function 0.0386284151858\n",
      "score 0.997438129505\n",
      "(1000,)\n",
      "(1000, 1)\n"
     ]
    },
    {
     "data": {
      "image/png": "[encoded data removed]",
      "text/plain": [
       "<matplotlib.figure.Figure at 0x11530e550>"
      ]
     },
     "metadata": {},
     "output_type": "display_data"
    }
   ],
   "source": [
    "\n",
    "reg = MLPRegressor(algorithm='l-bfgs', hidden_layer_sizes=(1,), activation='tanh',\\\n",
    "                    random_state=1, max_iter=1000000, learning_rate_init = 0.1)\n",
    "\n",
    "\n",
    "reg.hidden_layer_sizes=(100,)\n",
    "reg.fit(X, y)\n",
    "\n",
    "print(\"Total number of points:\", N)\n",
    "print(\"Total number of weights:\", [coef.shape for coef in reg.coefs_])\n",
    "print(\"Loss function\", reg.loss_)\n",
    "print(\"score\", reg.score(X, y))\n",
    "\n",
    "x_plot = np.linspace(xmin, xmax, 1000)\n",
    "X_plot = np.atleast_2d(x_plot).T\n",
    "print(x_plot.shape)\n",
    "print(X_plot.shape)\n",
    "\n",
    "\n",
    "y_predict = reg.predict(X_plot)\n",
    "plt.plot(x, y, '.')\n",
    "plt.plot(x_plot, y_predict)\n",
    "plt.show()"
   ]
  },
  {
   "cell_type": "code",
   "execution_count": 203,
   "metadata": {
    "collapsed": false
   },
   "outputs": [
    {
     "name": "stdout",
     "output_type": "stream",
     "text": [
      "(30, 1) (30,)\n",
      "(10, 1) (10,)\n",
      "Total number of points: 30\n",
      "Total number of weights: [(1, 100), (100, 1)]\n",
      "score 0.999991879925\n",
      "Loss function 0.00890501534867\n"
     ]
    },
    {
     "data": {
      "image/png": "[encoded data removed]",
      "text/plain": [
       "<matplotlib.figure.Figure at 0x115219cd0>"
      ]
     },
     "metadata": {},
     "output_type": "display_data"
    }
   ],
   "source": [
    "'''Splitting data into training and validation (testing) sets'''\n",
    "\n",
    "X_train, X_test, y_train, y_test = train_test_split(\n",
    "    X, y, test_size=0.25, random_state=0)\n",
    "print(X_train.shape, y_train.shape)\n",
    "print(X_test.shape, y_test.shape)\n",
    "\n",
    "# reg = MLPRegressor(algorithm='l-bfgs', hidden_layer_sizes=(80,), activation='tanh',\\\n",
    "#                     random_state=1, max_iter=10000, learning_rate_init = 0.01)\n",
    "\n",
    "reg.hidden_layer_sizes = (100, )\n",
    "reg.fit(X_train, y_train)\n",
    "print(\"Total number of points:\", y_train.shape[0])\n",
    "print(\"Total number of weights:\", [coef.shape for coef in reg.coefs_])\n",
    "print(\"score\", reg.score(X_train, y_train))\n",
    "print(\"Loss function\", reg.loss_)\n",
    "\n",
    "x_train = X_train.ravel()\n",
    "sort_i = np.argsort(x_train)\n",
    "x_train = x_train[sort_i]\n",
    "y_train = y_train[sort_i]\n",
    "plt.plot(x_train, y_train, '.')\n",
    "\n",
    "X_plot = np.atleast_2d(np.linspace(0., 2., 1000)).T\n",
    "x_plot = X_plot.ravel()\n",
    "\n",
    "y_predict = reg.predict(X_plot)\n",
    "plt.plot(x_train, y_train, '.')\n",
    "plt.plot(x_plot, y_predict)\n",
    "plt.show()"
   ]
  },
  {
   "cell_type": "code",
   "execution_count": 204,
   "metadata": {
    "collapsed": false
   },
   "outputs": [
    {
     "name": "stdout",
     "output_type": "stream",
     "text": [
      "score -0.251263460896\n"
     ]
    },
    {
     "data": {
      "image/png": "[encoded data removed]",
      "text/plain": [
       "<matplotlib.figure.Figure at 0x115201b90>"
      ]
     },
     "metadata": {},
     "output_type": "display_data"
    }
   ],
   "source": [
    "x_test = X_test.ravel()\n",
    "sort_i = np.argsort(x_test)\n",
    "x_test = x_test[sort_i]\n",
    "y_test = y_test[sort_i]\n",
    "plt.plot(x_test, y_test, '.')\n",
    "print(\"score\", reg.score(X_test, y_test))\n",
    "\n",
    "plt.plot(x_test, y_test, '.')\n",
    "plt.plot(x_plot, y_predict)\n",
    "plt.show()\n"
   ]
  },
  {
   "cell_type": "code",
   "execution_count": 205,
   "metadata": {
    "collapsed": false
   },
   "outputs": [
    {
     "name": "stdout",
     "output_type": "stream",
     "text": [
      "Total number of points: 30\n",
      "Total number of weights: [(1, 1), (1, 1)]\n",
      "score 0.976733386687\n",
      "Loss function 0.252372322234\n",
      "score 0.966060996253\n"
     ]
    },
    {
     "data": {
      "image/png": "[encoded data removed]",
      "text/plain": [
       "<matplotlib.figure.Figure at 0x115429050>"
      ]
     },
     "metadata": {},
     "output_type": "display_data"
    }
   ],
   "source": [
    "X_train, X_test, y_train, y_test = train_test_split(\n",
    "    X, y, test_size=0.25, random_state=0)\n",
    "\n",
    "reg.hidden_layer_sizes=(1,)\n",
    "\n",
    "reg.fit(X_train, y_train)\n",
    "# print('X_train:', X_train)\n",
    "# print('y_train:', y_train)\n",
    "# print('Prediction:')\n",
    "print(\"Total number of points:\", y_train.shape[0])\n",
    "print(\"Total number of weights:\", [coef.shape for coef in reg.coefs_])\n",
    "print(\"score\", reg.score(X_train, y_train))\n",
    "print(\"Loss function\", reg.loss_)\n",
    "\n",
    "x_train = X_train.ravel()\n",
    "\n",
    "y_predict = reg.predict(X_train)\n",
    "sort_i = np.argsort(x_train)\n",
    "x_train = x_train[sort_i]\n",
    "y_train = y_train[sort_i]\n",
    "\n",
    "\n",
    "X_plot = np.atleast_2d(np.linspace(0., 2., 1000)).T\n",
    "x_plot = X_plot.ravel()\n",
    "\n",
    "y_predict = reg.predict(X_plot)\n",
    "\n",
    "\n",
    "plt.plot(x_train, y_train, '.')\n",
    "plt.plot(x_plot, y_predict)\n",
    "print(\"score\", reg.score(X_test, y_test))\n",
    "plt.show()"
   ]
  },
  {
   "cell_type": "code",
   "execution_count": 206,
   "metadata": {
    "collapsed": false
   },
   "outputs": [
    {
     "name": "stdout",
     "output_type": "stream",
     "text": [
      "score 0.966060996253\n"
     ]
    },
    {
     "data": {
      "image/png": "[encoded data removed]",
      "text/plain": [
       "<matplotlib.figure.Figure at 0x115331b50>"
      ]
     },
     "metadata": {},
     "output_type": "display_data"
    }
   ],
   "source": [
    "print(\"score\", reg.score(X_test, y_test))\n",
    "\n",
    "X_plot = np.atleast_2d(np.linspace(0., 2., 1000)).T\n",
    "x_plot = X_plot.ravel()\n",
    "\n",
    "y_predict = reg.predict(X_plot)\n",
    "\n",
    "\n",
    "x_test = X_test.ravel()\n",
    "sort_i = np.argsort(x_test)\n",
    "x_test = x_test[sort_i]\n",
    "y_test = y_test[sort_i]\n",
    "plt.plot(x_test, y_test, '.')\n",
    "plt.plot(x_plot, y_predict)\n",
    "\n",
    "plt.show()"
   ]
  },
  {
   "cell_type": "markdown",
   "metadata": {},
   "source": [
    "# End of Week9-1"
   ]
  }
 ],
 "metadata": {
  "kernelspec": {
   "display_name": "Python 2",
   "language": "python",
   "name": "python2"
  },
  "language_info": {
   "codemirror_mode": {
    "name": "ipython",
    "version": 2
   },
   "file_extension": ".py",
   "mimetype": "text/x-python",
   "name": "python",
   "nbconvert_exporter": "python",
   "pygments_lexer": "ipython2",
   "version": "2.7.9"
  }
 },
 "nbformat": 4,
 "nbformat_minor": 0
}

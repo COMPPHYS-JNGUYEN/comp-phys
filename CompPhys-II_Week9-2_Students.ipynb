{
 "cells": [
  {
   "cell_type": "markdown",
   "metadata": {},
   "source": [
    "# Multi-layer Forward-feed NN \n",
    "\n",
    "## 1. Plottting decision boundaries\n",
    "## 2. The Problem of Overfitting: Training vs. Validation Sets\n",
    "## 3. The Regularization Parameter: alpha\n"
   ]
  },
  {
   "cell_type": "code",
   "execution_count": 1,
   "metadata": {
    "collapsed": false
   },
   "outputs": [],
   "source": [
    "%matplotlib inline\n",
    "# All imports\n",
    "\n",
    "from __future__ import print_function, division\n",
    "from random import choice\n",
    "import numpy as np\n",
    "import matplotlib.pyplot as plt\n",
    "from copy import copy\n",
    "import time\n",
    "from IPython import display\n",
    "\n",
    "\n",
    "\n",
    "# from sklearn.neural_network import MLPClassifier\n",
    "\n",
    "np.set_printoptions(formatter={'float': '{:.5f}'.format})\n"
   ]
  },
  {
   "cell_type": "code",
   "execution_count": 2,
   "metadata": {
    "collapsed": false
   },
   "outputs": [
    {
     "name": "stdout",
     "output_type": "stream",
     "text": [
      "0.18.dev0\n"
     ]
    },
    {
     "name": "stderr",
     "output_type": "stream",
     "text": [
      "/Users/labuser/scikit-learn/sklearn/cross_validation.py:43: DeprecationWarning: This module has been deprecated in favor of the model_selection module into which all the refactored classes and functions are moved. Also note that the interface of the new CV iterators are different from that of this module. This module will be removed in 0.20.\n",
      "  \"This module will be removed in 0.20.\", DeprecationWarning)\n"
     ]
    }
   ],
   "source": [
    "import sklearn\n",
    "print(sklearn.__version__)\n",
    "\n",
    "# ------------> Note: new imports <------------------\n",
    "from sklearn.neural_network import MLPRegressor, MLPClassifier\n",
    "from sklearn.cross_validation import train_test_split\n"
   ]
  },
  {
   "cell_type": "markdown",
   "metadata": {},
   "source": [
    "## Let's take a look at the sklearn neural network documentation:\n",
    "\n",
    "http://scikit-learn.org/dev/modules/neural_networks_supervised.html"
   ]
  },
  {
   "cell_type": "markdown",
   "metadata": {},
   "source": [
    "## Summary: \n",
    "\n",
    "- ## Activation: {‘logistic’, ‘tanh’, ‘relu’}; for classifcation: default ‘relu’\n",
    "\n",
    "     Activation function for the hidden layer.\n",
    "\n",
    "     ‘logistic’, the logistic sigmoid function, returns f(x) = 1 / (1 + exp(-x)).\n",
    "\n",
    "     ‘tanh’, the hyperbolic tan function, returns f(x) = tanh(x).\n",
    "\n",
    "     ‘relu’, the rectified linear unit function, returns f(x) = max(0, x)\n",
    "     \n",
    "     From experience: \n",
    "     \n",
    "     'relu' is effective for classification, but NOT for regression -- why?  \n",
    "     Whereas 'tanh' is much better for regression.\n",
    "\n",
    "- ## Important Attributes (suppose we're using a classifier):\n",
    "\n",
    "    clf.coefs\\_\n",
    "    \n",
    "    clf.intercepts\\_\n",
    "    \n",
    "    clf.loss\\_\n",
    "    \n",
    "    clf.out\\_activation\\_\n",
    "    \n",
    "    clf.score\n",
    "    \n",
    "    clf.decision_function\n",
    "   \n",
    "- ## Difference between a classifier and a regressor:\n",
    "\n",
    "    The regressror does NOT have an output activation function, or \n",
    "    \n",
    "    The output activation funciton for the regressor is the identity\n",
    "     \n"
   ]
  },
  {
   "cell_type": "markdown",
   "metadata": {},
   "source": [
    "## Breakout\n",
    "\n",
    "## Now, our favorite problem the XOR"
   ]
  },
  {
   "cell_type": "code",
   "execution_count": 3,
   "metadata": {
    "collapsed": false
   },
   "outputs": [
    {
     "name": "stdout",
     "output_type": "stream",
     "text": [
      "[[0 0]\n",
      " [0 1]\n",
      " [1 0]\n",
      " [1 1]]\n"
     ]
    },
    {
     "data": {
      "text/plain": [
       "array([0, 1, 1, 0])"
      ]
     },
     "execution_count": 3,
     "metadata": {},
     "output_type": "execute_result"
    }
   ],
   "source": [
    "X_train = np.array([[0, 0],\n",
    "              [0, 1],          \n",
    "              [1, 0],\n",
    "              [1, 1]])\n",
    "\n",
    "y_train = np.array([0, 1, 1, 0])\n",
    "\n",
    "# using 'tanh' as activation function\n",
    "# default value: learning_rate_init = 0.001 way too slow,\n",
    "# so change it to 0.2\n",
    "clf = MLPClassifier(algorithm='l-bfgs', alpha=1e-10, hidden_layer_sizes=(2, 2), activation = 'tanh', \\\n",
    "                    random_state=5, max_iter=10000, learning_rate_init = 0.1)\n",
    "\n",
    "# try sgd\n",
    "# clf = MLPClassifier(algorithm='sgd', alpha=1e-5, hidden_layer_sizes=(2, 2), activation='tanh', \\\n",
    "#                     random_state=5, max_iter=10000, learning_rate_init = 0.1)\n",
    "\n",
    "clf.fit(X_train, y_train)\n",
    "print(X_train)\n",
    "clf.predict(X_train)"
   ]
  },
  {
   "cell_type": "markdown",
   "metadata": {},
   "source": [
    "## Breakout Exercise:\n",
    "\n",
    "## Modify the function visual_NN_boundaries from Week8-2 to generate 2000 random points in the square of x between (0, 1) and y between (0, 1) to visualize the decision boundaries, where x and y are Cartesian coordinates.\n",
    "\n"
   ]
  },
  {
   "cell_type": "markdown",
   "metadata": {},
   "source": [
    "## Breakout Exercise:\n",
    "\n",
    "## Instead of using random pairs of (x, y) coordinates, now generate a grid of points for x between (0, 1) and for y between (0, 1).  Find the predictions (that is, the the output, z) by using the trained classifier for these points.  Try a (11, 11) grid first.\n",
    "\n",
    "## Then use plt.contour to demarcate the boundaries.\n",
    "\n",
    "## Resource: \n",
    "\n",
    "http://matplotlib.org/examples/pylab_examples/contour_demo.html"
   ]
  },
  {
   "cell_type": "markdown",
   "metadata": {},
   "source": [
    "## Breakout\n",
    "\n",
    "- ## Simulate 50 data points according to \n",
    "\n",
    "   ##  $$y = sin(1.1kx), $$\n",
    "   \n",
    "   ##  $$k=2,$$\n",
    "   \n",
    "   ##  where x is between 0 and 3.5\n",
    "\n",
    "   ## with Gaussian noise, with a $\\sigma$ of 0.25\n",
    "\n",
    "\n",
    "- ## Split the data into training and validation (testing)sets.  Instantiate a sklearn NN regressor to fit the training set and report the score.  Apply the trained regressor on the testing set and report a score.  First Use a (1, 3, 1) network, and then use a (1, 21, 1) network.\n",
    "\n",
    "- ## Write a program that slowly increases the number of neurons (from 0 to 11) and dynamically updates two plots each time the number of neurons is increased:\n",
    "    ## 1. The fit vs. the data  On this plot, also state the number of neurons, the average score for the training set and the validation set.\n",
    "\n",
    "    ## 2. The average scores for the training and validation (testing) sets vs. the number of neurons in the hidden layer.  You should first try iterate 50 times for each fixed number of neurons.  Randomize the following quantities for each iteration:\n",
    "    \n",
    "  \n",
    "   \n"
   ]
  },
  {
   "cell_type": "code",
   "execution_count": 63,
   "metadata": {
    "collapsed": false
   },
   "outputs": [
    {
     "name": "stdout",
     "output_type": "stream",
     "text": [
      "Score_train:  0.952464029606\n",
      "Score_test:  0.858857351132\n"
     ]
    },
    {
     "data": {
      "image/png": "[encoded data removed]",
      "text/plain": [
       "<matplotlib.figure.Figure at 0x112853f90>"
      ]
     },
     "metadata": {},
     "output_type": "display_data"
    },
    {
     "data": {
      "image/png": "[encoded data removed]",
      "text/plain": [
       "<matplotlib.figure.Figure at 0x112b2e3d0>"
      ]
     },
     "metadata": {},
     "output_type": "display_data"
    }
   ],
   "source": [
    "%matplotlib inline\n",
    "\n",
    "import matplotlib.pyplot as plt\n",
    "import numpy as np\n",
    "from sklearn.neural_network import MLPRegressor\n",
    "from sklearn.cross_validation import train_test_split\n",
    "\n",
    "N = 50\n",
    "sig = .25\n",
    "xmin = 0.\n",
    "xmax = 3.5\n",
    "neurons = 81\n",
    "k = 2.\n",
    "\n",
    "x = np.linspace(xmin, xmax, N)\n",
    "y = np.sin(1.1*k*x) + np.random.randn(x.shape[0])*sig\n",
    "\n",
    "X = np.atleast_2d(x).T\n",
    "\n",
    "X_train, X_test, y_train, y_test = train_test_split(\n",
    "    X, y, test_size=0.25, random_state=0)\n",
    "\n",
    "reg = MLPRegressor(algorithm='l-bfgs', hidden_layer_sizes=(neurons,), activation='tanh',\\\n",
    "                    random_state=1, max_iter=10000000, learning_rate_init = 0.001, alpha=1e-16)\n",
    "\n",
    "reg.fit(X_train, y_train)\n",
    "print(\"Score_train: \", reg.score(X_train, y_train))\n",
    "print(\"Score_test: \", reg.score(X_test, y_test))\n",
    "\n",
    "x_plot = np.linspace(xmin, xmax, 1000)\n",
    "X_plot = np.atleast_2d(x_plot).T\n",
    "\n",
    "plt.plot(X_train, y_train, '.')\n",
    "\n",
    "y_predict = reg.predict(X_plot)\n",
    "plt.plot(X_plot, y_predict)\n",
    "\n",
    "plt.figure()\n",
    "plt.plot(X_plot, y_predict)\n",
    "plt.plot(X_test, y_test, 'r.')\n",
    "\n",
    "plt.show()\n"
   ]
  },
  {
   "cell_type": "markdown",
   "metadata": {},
   "source": [
    "# End of Week9-2"
   ]
  }
 ],
 "metadata": {
  "kernelspec": {
   "display_name": "Python 2",
   "language": "python",
   "name": "python2"
  },
  "language_info": {
   "codemirror_mode": {
    "name": "ipython",
    "version": 2
   },
   "file_extension": ".py",
   "mimetype": "text/x-python",
   "name": "python",
   "nbconvert_exporter": "python",
   "pygments_lexer": "ipython2",
   "version": "2.7.9"
  }
 },
 "nbformat": 4,
 "nbformat_minor": 0
}

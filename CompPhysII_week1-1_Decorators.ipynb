{
 "cells": [
  {
   "cell_type": "code",
   "execution_count": 18,
   "metadata": {
    "collapsed": true
   },
   "outputs": [],
   "source": [
    "# imports\n",
    "from __future__ import print_function"
   ]
  },
  {
   "cell_type": "markdown",
   "metadata": {},
   "source": [
    "#Week 1\n",
    "\n",
    "## Lecture 1: Decorators in Python \n",
    "## Main Breakout: Add a Timer to a Function Using a Decorator.\n",
    "## Lab: Brief Introduction to Python Scientific Computation Suite and Installation."
   ]
  },
  {
   "cell_type": "code",
   "execution_count": 19,
   "metadata": {
    "collapsed": false
   },
   "outputs": [
    {
     "data": {
      "text/html": [
       "\n",
       "        <iframe\n",
       "            width=\"400\"\n",
       "            height=\"300\"\n",
       "            src=\"https://www.youtube.com/embed/Gl3EjiVlz_4\"\n",
       "            frameborder=\"0\"\n",
       "            allowfullscreen\n",
       "        ></iframe>\n",
       "        "
      ],
      "text/plain": [
       "<IPython.lib.display.YouTubeVideo at 0x1027348d0>"
      ]
     },
     "execution_count": 19,
     "metadata": {},
     "output_type": "execute_result"
    }
   ],
   "source": [
    "# What machine learning can do:\n",
    "from IPython.display import YouTubeVideo\n",
    "YouTubeVideo(\"Gl3EjiVlz_4\")\n",
    "\n",
    "# https://www.youtube.com/watch?v=Gl3EjiVlz_4"
   ]
  },
  {
   "cell_type": "code",
   "execution_count": 20,
   "metadata": {
    "collapsed": false
   },
   "outputs": [],
   "source": [
    "def hello():\n",
    "    print('hello!')\n",
    "    return"
   ]
  },
  {
   "cell_type": "markdown",
   "metadata": {},
   "source": [
    "## I. Profound difference between just using the function name alone and using the function name followed by a pair parentheses, ()."
   ]
  },
  {
   "cell_type": "code",
   "execution_count": 21,
   "metadata": {
    "collapsed": false
   },
   "outputs": [
    {
     "name": "stdout",
     "output_type": "stream",
     "text": [
      "obj1 is <function hello at 0x102736578>\n"
     ]
    }
   ],
   "source": [
    "# Not using parentheses.\n",
    "obj1 = hello\n",
    "# obj1 is now the function hello\n",
    "print('obj1 is {}'.format(obj1))"
   ]
  },
  {
   "cell_type": "code",
   "execution_count": 22,
   "metadata": {
    "collapsed": false
   },
   "outputs": [
    {
     "name": "stdout",
     "output_type": "stream",
     "text": [
      "hello!\n"
     ]
    }
   ],
   "source": [
    "# You can call obj1 (since it's a function) just as you can call the function hello.\n",
    "obj1()"
   ]
  },
  {
   "cell_type": "code",
   "execution_count": 23,
   "metadata": {
    "collapsed": false
   },
   "outputs": [
    {
     "name": "stdout",
     "output_type": "stream",
     "text": [
      "hello!\n",
      "obj2 is None\n"
     ]
    }
   ],
   "source": [
    "# Using parentheses:\n",
    "obj2 = hello()\n",
    "# obj2 is now whatever the function hello returns.  In this case, the function hello doens't return anything,\n",
    "# and so obj2 is None.\n",
    "print('obj2 is {}'.format(obj2))"
   ]
  },
  {
   "cell_type": "markdown",
   "metadata": {},
   "source": [
    "## Mini-breakout"
   ]
  },
  {
   "cell_type": "code",
   "execution_count": null,
   "metadata": {
    "collapsed": true
   },
   "outputs": [],
   "source": [
    "def hello_pr():\n",
    "    return 'hello!'"
   ]
  },
  {
   "cell_type": "raw",
   "metadata": {},
   "source": [
    "# what would I get if I execute the following?\n",
    "obj1 = hello_pr\n",
    "print obj1\n",
    "\n",
    "obj2 = hello_pr()\n",
    "print obj2"
   ]
  },
  {
   "cell_type": "raw",
   "metadata": {},
   "source": [
    "solutions:"
   ]
  },
  {
   "cell_type": "code",
   "execution_count": 26,
   "metadata": {
    "collapsed": false
   },
   "outputs": [
    {
     "name": "stdout",
     "output_type": "stream",
     "text": [
      "<function hello_pr at 0x102546b90>\n",
      "hello!\n"
     ]
    }
   ],
   "source": [
    "obj1 = hello_pr\n",
    "print(obj1)\n",
    "\n",
    "obj2 = hello_pr()\n",
    "print(obj2)"
   ]
  },
  {
   "cell_type": "code",
   "execution_count": 27,
   "metadata": {
    "collapsed": false
   },
   "outputs": [
    {
     "data": {
      "text/plain": [
       "<function __main__.hello>"
      ]
     },
     "execution_count": 27,
     "metadata": {},
     "output_type": "execute_result"
    }
   ],
   "source": [
    "#Important to remember:\n",
    "# This doesn't call/execute the function hello.  The python shell merely echoes that this a function object.\n",
    "hello"
   ]
  },
  {
   "cell_type": "code",
   "execution_count": 28,
   "metadata": {
    "collapsed": false
   },
   "outputs": [
    {
     "name": "stdout",
     "output_type": "stream",
     "text": [
      "hello!\n"
     ]
    }
   ],
   "source": [
    "# Whereas, this is a function call -- this statement executes the function hello.\n",
    "hello()"
   ]
  },
  {
   "cell_type": "markdown",
   "metadata": {},
   "source": [
    "## II. Function within a Function"
   ]
  },
  {
   "cell_type": "code",
   "execution_count": 29,
   "metadata": {
    "collapsed": false
   },
   "outputs": [
    {
     "name": "stdout",
     "output_type": "stream",
     "text": [
      "5\n"
     ]
    }
   ],
   "source": [
    "# Function within a function\n",
    "def outer_fun1(a): \n",
    "    def inner_fun(b):\n",
    "        return a+b\n",
    "    c = inner_fun(3)\n",
    "    return c\n",
    "\n",
    "d = outer_fun1(2)\n",
    "print(d)"
   ]
  },
  {
   "cell_type": "markdown",
   "metadata": {},
   "source": [
    "## Several Points to Note:\n",
    "\n",
    "### 1. It's perfectly legitimate to define a function within a function.\n",
    "### 2. It's usually NOT done unless it serves a special purpose.\n",
    "### 3. Any variable defined in the scope of the outer function is known to the inner function.  In this case, inner_fun knows the variable *a* is 3.  [Computer scientists call this \"closure\".]"
   ]
  },
  {
   "cell_type": "code",
   "execution_count": 31,
   "metadata": {
    "collapsed": false
   },
   "outputs": [
    {
     "name": "stdout",
     "output_type": "stream",
     "text": [
      "101\n"
     ]
    }
   ],
   "source": [
    "# Another example of point #3 above.\n",
    "# Note: The scope of a2 encloses the scope of inner_fun; and\n",
    "# where I define a2 is irrelevant -- as long as it's inside outer_fun2.\n",
    "def outer_fun2():\n",
    "    a2 = 10\n",
    "    def inner_fun():\n",
    "        return a2+1\n",
    "    a2 = 100\n",
    "    return inner_fun()\n",
    "\n",
    "d = outer_fun2()\n",
    "print(d)"
   ]
  },
  {
   "cell_type": "markdown",
   "metadata": {},
   "source": [
    "## III. Functions Can Be Returned or Even Passed Like Any Other Python Objects"
   ]
  },
  {
   "cell_type": "code",
   "execution_count": 32,
   "metadata": {
    "collapsed": false
   },
   "outputs": [
    {
     "name": "stdout",
     "output_type": "stream",
     "text": [
      "6\n"
     ]
    }
   ],
   "source": [
    "# Functions can be returned or even passed as an arugment for another function just like any other objects \n",
    "#(remember: everything in Python is an object -- an instance of a class)\n",
    "\n",
    "# First, returning a function\n",
    "\n",
    "def outer_fun3(a):\n",
    "    def inner_fun(b):\n",
    "        return a*b\n",
    "    return inner_fun\n",
    "\n",
    "other_fun = outer_fun3(3)\n",
    "d = other_fun(2)\n",
    "print(d)"
   ]
  },
  {
   "cell_type": "markdown",
   "metadata": {},
   "source": [
    "## Question for the students: What kind of object is *other_fun*?"
   ]
  },
  {
   "cell_type": "code",
   "execution_count": 33,
   "metadata": {
    "collapsed": false
   },
   "outputs": [
    {
     "name": "stdout",
     "output_type": "stream",
     "text": [
      "Methods and attributes of the function other_fun: ['__call__', '__class__', '__closure__', '__code__', '__defaults__', '__delattr__', '__dict__', '__doc__', '__format__', '__get__', '__getattribute__', '__globals__', '__hash__', '__init__', '__module__', '__name__', '__new__', '__reduce__', '__reduce_ex__', '__repr__', '__setattr__', '__sizeof__', '__str__', '__subclasshook__', 'func_closure', 'func_code', 'func_defaults', 'func_dict', 'func_doc', 'func_globals', 'func_name']\n",
      "Name of the function:inner_fun\n"
     ]
    }
   ],
   "source": [
    "# If you don't believe me when I say that a function is an object:\n",
    "print(\"Methods and attributes of the function other_fun: {}\".format(dir(other_fun)))\n",
    "print(\"Name of the function:{}\".format(other_fun.func_name))\n",
    "# The name of the function is inner_fun because it was inherited from inner_fun."
   ]
  },
  {
   "cell_type": "markdown",
   "metadata": {},
   "source": [
    "## Confused yet??"
   ]
  },
  {
   "cell_type": "markdown",
   "metadata": {},
   "source": [
    "## - The object returned by outer_fun3 is a function.  \n",
    "## - other_fun becomes that object by the assignment statement and so other_fun is now a function.  \n",
    "## - The function that is returned by outer_fun3 is the function inner_fun; and so other_fun is the same as inner_fun.\n",
    "## - inner_fun knows the variable *a* because of closure.  Even though other_fun is defined outside of outer_fun, because it inherits everything inner_fun knows, it too knows what *a* is."
   ]
  },
  {
   "cell_type": "code",
   "execution_count": 35,
   "metadata": {
    "collapsed": false
   },
   "outputs": [],
   "source": [
    "# With this kind of understanding, you can write bewildering code to the uninitiated:\n",
    "e = outer_fun3(5)(6)"
   ]
  },
  {
   "cell_type": "code",
   "execution_count": 36,
   "metadata": {
    "collapsed": false
   },
   "outputs": [
    {
     "name": "stdout",
     "output_type": "stream",
     "text": [
      "30\n"
     ]
    }
   ],
   "source": [
    "# predict what you will get before you run the cell\n",
    "print(e)"
   ]
  },
  {
   "cell_type": "code",
   "execution_count": 37,
   "metadata": {
    "collapsed": false
   },
   "outputs": [
    {
     "name": "stdout",
     "output_type": "stream",
     "text": [
      "28\n"
     ]
    }
   ],
   "source": [
    "# Second, passing\n",
    "def outmost_fun(some_fun):\n",
    "    e = some_fun(7)(4)\n",
    "    print(e)\n",
    "    \n",
    "outmost_fun(outer_fun3)"
   ]
  },
  {
   "cell_type": "code",
   "execution_count": 38,
   "metadata": {
    "collapsed": false
   },
   "outputs": [
    {
     "ename": "TypeError",
     "evalue": "'int' object is not callable",
     "output_type": "error",
     "traceback": [
      "\u001b[0;31m---------------------------------------------------------------------------\u001b[0m",
      "\u001b[0;31mTypeError\u001b[0m                                 Traceback (most recent call last)",
      "\u001b[0;32m<ipython-input-38-5d1183c4d8ea>\u001b[0m in \u001b[0;36m<module>\u001b[0;34m()\u001b[0m\n\u001b[1;32m      1\u001b[0m \u001b[0;31m# what do you expect to get here:\u001b[0m\u001b[0;34m\u001b[0m\u001b[0;34m\u001b[0m\u001b[0m\n\u001b[0;32m----> 2\u001b[0;31m \u001b[0moutmost_fun\u001b[0m\u001b[0;34m(\u001b[0m\u001b[0mouter_fun1\u001b[0m\u001b[0;34m)\u001b[0m\u001b[0;34m\u001b[0m\u001b[0m\n\u001b[0m",
      "\u001b[0;32m<ipython-input-37-6a6e9f82c63e>\u001b[0m in \u001b[0;36moutmost_fun\u001b[0;34m(some_fun)\u001b[0m\n\u001b[1;32m      1\u001b[0m \u001b[0;31m# Second, passing\u001b[0m\u001b[0;34m\u001b[0m\u001b[0;34m\u001b[0m\u001b[0m\n\u001b[1;32m      2\u001b[0m \u001b[0;32mdef\u001b[0m \u001b[0moutmost_fun\u001b[0m\u001b[0;34m(\u001b[0m\u001b[0msome_fun\u001b[0m\u001b[0;34m)\u001b[0m\u001b[0;34m:\u001b[0m\u001b[0;34m\u001b[0m\u001b[0m\n\u001b[0;32m----> 3\u001b[0;31m     \u001b[0me\u001b[0m \u001b[0;34m=\u001b[0m \u001b[0msome_fun\u001b[0m\u001b[0;34m(\u001b[0m\u001b[0;36m7\u001b[0m\u001b[0;34m)\u001b[0m\u001b[0;34m(\u001b[0m\u001b[0;36m4\u001b[0m\u001b[0;34m)\u001b[0m\u001b[0;34m\u001b[0m\u001b[0m\n\u001b[0m\u001b[1;32m      4\u001b[0m     \u001b[0;32mprint\u001b[0m\u001b[0;34m(\u001b[0m\u001b[0me\u001b[0m\u001b[0;34m)\u001b[0m\u001b[0;34m\u001b[0m\u001b[0m\n\u001b[1;32m      5\u001b[0m \u001b[0;34m\u001b[0m\u001b[0m\n",
      "\u001b[0;31mTypeError\u001b[0m: 'int' object is not callable"
     ]
    }
   ],
   "source": [
    "# what do you expect to get here:\n",
    "outmost_fun(outer_fun1)"
   ]
  },
  {
   "cell_type": "markdown",
   "metadata": {},
   "source": [
    "## Explanation for the error message: This is because when outer_fun1 is passed into outmost_fun, it becomes some_fun.  Thus some_fun(7) is 9.  9 is an integer object, not a function object, thus to call it with an argument is illegal.  In the parlance of Python, an integer is not a \"callable\"!  This is the exactly what the error mesage says."
   ]
  },
  {
   "cell_type": "markdown",
   "metadata": {},
   "source": [
    "## With the recognition that function is an object, you can do crazier things -- e.g., you can assign a function additional attributes"
   ]
  },
  {
   "cell_type": "code",
   "execution_count": 39,
   "metadata": {
    "collapsed": false
   },
   "outputs": [
    {
     "name": "stdout",
     "output_type": "stream",
     "text": [
      "blue\n"
     ]
    }
   ],
   "source": [
    "def outer_fun4(a):\n",
    "    def inner_fun(b):\n",
    "        return a*b\n",
    "    inner_fun.color = 'blue'\n",
    "    return inner_fun\n",
    "\n",
    "other_fun = outer_fun4(3)\n",
    "print(other_fun.color)"
   ]
  },
  {
   "cell_type": "code",
   "execution_count": 41,
   "metadata": {
    "collapsed": false
   },
   "outputs": [
    {
     "name": "stdout",
     "output_type": "stream",
     "text": [
      "red\n"
     ]
    }
   ],
   "source": [
    "# The additional attribute can be added within the function definition of inner_fun;\n",
    "# because at that point, inner_fun is already defined.\n",
    "# But you have to execute inner_fun for the python shell to know what the attribute color is.\n",
    "def outer_fun4(a):\n",
    "    def inner_fun(b):\n",
    "        inner_fun.color = 'red'\n",
    "        return a*b\n",
    "    return inner_fun\n",
    "\n",
    "other_fun = outer_fun4(3)\n",
    "d = other_fun(2)\n",
    "print(other_fun.color)"
   ]
  },
  {
   "cell_type": "code",
   "execution_count": 42,
   "metadata": {
    "collapsed": false
   },
   "outputs": [
    {
     "data": {
      "text/plain": [
       "['__call__',\n",
       " '__class__',\n",
       " '__closure__',\n",
       " '__code__',\n",
       " '__defaults__',\n",
       " '__delattr__',\n",
       " '__dict__',\n",
       " '__doc__',\n",
       " '__format__',\n",
       " '__get__',\n",
       " '__getattribute__',\n",
       " '__globals__',\n",
       " '__hash__',\n",
       " '__init__',\n",
       " '__module__',\n",
       " '__name__',\n",
       " '__new__',\n",
       " '__reduce__',\n",
       " '__reduce_ex__',\n",
       " '__repr__',\n",
       " '__setattr__',\n",
       " '__sizeof__',\n",
       " '__str__',\n",
       " '__subclasshook__',\n",
       " 'color',\n",
       " 'func_closure',\n",
       " 'func_code',\n",
       " 'func_defaults',\n",
       " 'func_dict',\n",
       " 'func_doc',\n",
       " 'func_globals',\n",
       " 'func_name']"
      ]
     },
     "execution_count": 42,
     "metadata": {},
     "output_type": "execute_result"
    }
   ],
   "source": [
    "# To verify that other_fun indeed has an additional attribute, color:\n",
    "dir(other_fun)"
   ]
  },
  {
   "cell_type": "code",
   "execution_count": 44,
   "metadata": {
    "collapsed": false
   },
   "outputs": [
    {
     "name": "stdout",
     "output_type": "stream",
     "text": [
      "2\n",
      "20\n"
     ]
    }
   ],
   "source": [
    "# In this example, we create a new attribute in outer_fun5 and then enlarge it by a factor of 10 in inner_fun.\n",
    "# Without the creation of the attribute num in outer_fun5, the statement inner_fun.num *= 10 would be illegal \n",
    "# because it's equivalent to inner_fun.num = inner_fun.num + 1 but python doesn't know what inner_fun.num is.\n",
    "def outer_fun5(a):\n",
    "    def inner_fun(b):\n",
    "        inner_fun.num *= 10\n",
    "        return a*b\n",
    "    inner_fun.num = 2\n",
    "    return inner_fun\n",
    "\n",
    "other_fun = outer_fun5(3)\n",
    "print(other_fun.num)\n",
    "d = other_fun(2)\n",
    "print(other_fun.num)"
   ]
  },
  {
   "cell_type": "code",
   "execution_count": 57,
   "metadata": {
    "collapsed": false
   },
   "outputs": [
    {
     "name": "stdout",
     "output_type": "stream",
     "text": [
      "30 8\n"
     ]
    },
    {
     "data": {
      "text/plain": [
       "['__doc__', '__init__', '__module__', 'age', 'weight']"
      ]
     },
     "execution_count": 57,
     "metadata": {},
     "output_type": "execute_result"
    }
   ],
   "source": [
    "class bears():\n",
    "    def __init__(self):\n",
    "        self.age = 8\n",
    "        \n",
    "\n",
    "teddy = bears()\n",
    "teddy.age\n",
    "teddy.weight = 30\n",
    "print(teddy.weight, teddy.age)\n",
    "dir(teddy)"
   ]
  },
  {
   "cell_type": "markdown",
   "metadata": {},
   "source": [
    "## Just to have this sink in a little more: you can do this with an instance of any other class.\n",
    "## Breakout Exercise:\n",
    "## - Create a class *bears*\n",
    "## - Give it an attribute *age*\n",
    "## - Create an instance of this class; call it *teddy*\n",
    "## - Outside the class definition, add a new attribute to teddy -- *weight*.  Let's say teddy weighs 3 lb."
   ]
  },
  {
   "cell_type": "code",
   "execution_count": null,
   "metadata": {
    "collapsed": true
   },
   "outputs": [],
   "source": []
  },
  {
   "cell_type": "code",
   "execution_count": null,
   "metadata": {
    "collapsed": false
   },
   "outputs": [],
   "source": [
    "'''Breakout Solutoin\n",
    "'''\n",
    "class bears():\n",
    "    def __init__(self):\n",
    "        self.age = 3\n",
    "teddy = bears()\n",
    "print('age: {}'.format(teddy.age))\n",
    "# creating a new attribute\n",
    "teddy.weight = 200\n",
    "print('weight: {}'.format(teddy.weight))"
   ]
  },
  {
   "cell_type": "markdown",
   "metadata": {},
   "source": [
    "# 5 min break"
   ]
  },
  {
   "cell_type": "markdown",
   "metadata": {},
   "source": [
    "## IV. \\*args and \\*\\*kwargs."
   ]
  },
  {
   "cell_type": "code",
   "execution_count": null,
   "metadata": {
    "collapsed": false
   },
   "outputs": [],
   "source": [
    "# First *args...\n",
    "# *args allows you to use an arbitrary number of positional arguments when calling a function\n",
    "def new_fun(*args):\n",
    "    if len(args) > 0:\n",
    "        print('Arguments received in new_fun: {}'.format(args))\n",
    "        sum = 0\n",
    "        for i in range(len(args)):\n",
    "            sum += args[i] \n",
    "        return sum\n",
    "    else:\n",
    "        raise Exception('No numbers to sum.')\n",
    "\n",
    "print('sum = {}'.format(new_fun(4, 2)))\n",
    "print('sum = {}'.format(new_fun(4, 2, 5, 6, 2, 5))) \n",
    "# print('sum = {}'.format(new_fun()))\n"
   ]
  },
  {
   "cell_type": "code",
   "execution_count": null,
   "metadata": {
    "collapsed": false
   },
   "outputs": [],
   "source": [
    "# Next **kwargs...\n",
    "# *kwargs allows you to use an arbitrary number of keyword arguments when calling a function\n",
    "def new_fun2(**kwargs):\n",
    "    if len(kwargs)>0:\n",
    "        for key, value in kwargs.iteritems():\n",
    "            print('key and value of kwargs: {}, {}'.format(key, value))\n",
    "        return \n",
    "\n",
    "new_fun2(name = 'David', weight = 200)\n",
    "print('Adding another kwarg:')\n",
    "new_fun2(name = 'David', weight = 200, home_town = 'San Francisco')\n",
    "\n",
    "# Note: the keyword arguments are treated by python as a dictionary."
   ]
  },
  {
   "cell_type": "markdown",
   "metadata": {},
   "source": [
    "## Why is this useful?\n",
    "## Sometimes you don't know how many arguments an inner function takes.  Using \\*args and \\*\\*kwargs gives you that flexibility...As you will see shortly.\n",
    "    "
   ]
  },
  {
   "cell_type": "markdown",
   "metadata": {},
   "source": [
    "## V. Decorators"
   ]
  },
  {
   "cell_type": "markdown",
   "metadata": {},
   "source": [
    "## Consider the following problem:"
   ]
  },
  {
   "cell_type": "code",
   "execution_count": null,
   "metadata": {
    "collapsed": false
   },
   "outputs": [],
   "source": [
    "# first define a simple function\n",
    "def hello_func():\n",
    "    return \"hello world\"\n",
    "print(hello_func())"
   ]
  },
  {
   "cell_type": "code",
   "execution_count": null,
   "metadata": {
    "collapsed": false
   },
   "outputs": [],
   "source": [
    "# now consider this\n",
    "def outer(fun):\n",
    "    def inner():\n",
    "        return fun\n",
    "    return inner\n",
    "    \n",
    "foo = outer(hello_func)"
   ]
  },
  {
   "cell_type": "markdown",
   "metadata": {},
   "source": [
    "## Question: Using foo how would get the python shell to print \"hello world\"?"
   ]
  },
  {
   "cell_type": "code",
   "execution_count": null,
   "metadata": {
    "collapsed": false
   },
   "outputs": [],
   "source": [
    "'''\n",
    "    Making hello_func a little more useful:\n",
    "'''\n",
    "def outer(func):\n",
    "    def inner(city_name):\n",
    "        return func(city_name)\n",
    "    return inner\n",
    "\n",
    "def hello_func(strg):\n",
    "    print('hello ' + strg)\n",
    "\n",
    "    \n",
    "foo = outer(hello_func)\n",
    "foo('San Francisco')\n",
    "foo('Oakland')\n",
    "foo('World')\n",
    "# To the object hello_func, which is the result of another function passing through the function count only once\n",
    "#  Thus to this oject inner.counter will always be 0\n"
   ]
  },
  {
   "cell_type": "code",
   "execution_count": null,
   "metadata": {
    "collapsed": false
   },
   "outputs": [],
   "source": [
    "'''\n",
    "    Making things a little more abstract by using *args.\n",
    "    At this point, there is no advantage gained, just another way of doing things.\n",
    "    I also called foo to hello_fun.\n",
    "\n",
    "'''\n",
    "def outer(func):\n",
    "    def inner(*args):\n",
    "        return func(*args)\n",
    "    return inner\n",
    "\n",
    "def hello_func(strg):\n",
    "    print('hello ' + strg)\n",
    "\n",
    "    \n",
    "hello_fun = outer(hello_func)\n",
    "hello_fun('San Francisco')\n",
    "hello_fun('Oakland')\n",
    "hello_fun('World')\n"
   ]
  },
  {
   "cell_type": "code",
   "execution_count": null,
   "metadata": {
    "collapsed": false
   },
   "outputs": [],
   "source": [
    "'''\n",
    "    Let's add an attribute: count.\n",
    "    I have changed the name outer to count\n",
    "'''\n",
    "def count(func):\n",
    "    def inner(*args):\n",
    "        inner.counter += 1\n",
    "        return func(*args)\n",
    "\n",
    "    # w/o this, you can't do inner.counter += 1 in inner.\n",
    "    inner.counter = 0\n",
    "    \n",
    "    return inner\n",
    "\n",
    "def hello_func(strg):\n",
    "    print('hello ' + strg)\n",
    "    \n",
    "# inner.counter = 0 is executed here, by the call to count().\n",
    "hello_fun = count(hello_fun)\n",
    "    \n",
    "# once the object hello_fun is created, and since it's the same as inner, \n",
    "# every time it's called count increases by 1.  \n",
    "hello_fun('San Francisco')\n",
    "hello_fun('Oakland')\n",
    "hello_fun('World')\n",
    "hello_fun.counter"
   ]
  },
  {
   "cell_type": "code",
   "execution_count": null,
   "metadata": {
    "collapsed": false
   },
   "outputs": [],
   "source": [
    "# try a couple more times.\n",
    "hello_fun('Orlando')\n",
    "hello_fun('Atlanta')\n",
    "hello_fun.counter"
   ]
  },
  {
   "cell_type": "code",
   "execution_count": null,
   "metadata": {
    "collapsed": false
   },
   "outputs": [],
   "source": [
    "'''\n",
    "    Would it really bother you if I changed hello_fun to hello_func?\n",
    "    Hint: It shouldn't!!\n",
    "'''\n",
    "def count(func):\n",
    "    def inner(*args):\n",
    "        inner.counter += 1\n",
    "        return func(*args)\n",
    "\n",
    "    # w/o this, you can't do inner.counter += 1 in inner.\n",
    "    inner.counter = 0\n",
    "    \n",
    "    return inner\n",
    "\n",
    "def hello_func(strg):\n",
    "    print('hello ' + strg)\n",
    "    \n",
    "hello_func = count(hello_fun)\n",
    "    \n",
    "hello_func('San Francisco')\n",
    "hello_func('Oakland')\n",
    "hello_func('World')\n",
    "hello_func.counter"
   ]
  },
  {
   "cell_type": "markdown",
   "metadata": {},
   "source": [
    "## What's really nice about this syntactic gymnastics is that\n",
    "## - hello_func can do exactly what it used to do before it's passed through count.\n",
    "## - But now it's been given an additional attribute, count, which allows the number of function calls to be recorded!\n",
    "## - In case you think this is easy, it's not!  I saw a Python guru got it (subtly) wrong."
   ]
  },
  {
   "cell_type": "markdown",
   "metadata": {},
   "source": [
    "## The Decorator as \"Syntactic Suger\""
   ]
  },
  {
   "cell_type": "code",
   "execution_count": null,
   "metadata": {
    "collapsed": false
   },
   "outputs": [],
   "source": [
    "@count\n",
    "def hello_func(strg):\n",
    "    print('hello ' + strg)\n",
    "    \n",
    "hello_func('San Francisco')\n",
    "hello_func('Oakland')\n",
    "hello_func('World')\n",
    "hello_func('Brazil')\n",
    "hello_func.counter"
   ]
  },
  {
   "cell_type": "markdown",
   "metadata": {},
   "source": [
    "## Why we bothered to use \\*args"
   ]
  },
  {
   "cell_type": "code",
   "execution_count": null,
   "metadata": {
    "collapsed": false
   },
   "outputs": [],
   "source": [
    "@count\n",
    "def new_fun(*args):\n",
    "    if len(args) > 0:\n",
    "        print('Arguments received in new_fun: {}'.format(args))\n",
    "        sum = 0\n",
    "        for i in range(len(args)):\n",
    "            sum += args[i] \n",
    "        return sum\n",
    "    else:\n",
    "        raise Exception('No numbers to sum.')\n",
    "\n",
    "print('sum = {}'.format(new_fun(4, 2)))\n",
    "print('sum = {}'.format(new_fun(4, 2, 5, 6, 2, 5))) \n",
    "print(new_fun.counter)"
   ]
  },
  {
   "cell_type": "markdown",
   "metadata": {},
   "source": [
    "## Breakout Exercise:\n",
    "## 1. Write an \"outer function\" (sometimes called a wrapper) that times how long it takes to run a function.  It should add an attribute delta_time to the function that is passed to it.\n",
    "## 2. Pass a function you would like to be timed through this outer function, and show that by printing the attribute delta_time, you can print how much time it takes to run this function.\n",
    "## 3. Do the same with the decorator."
   ]
  }
 ],
 "metadata": {
  "kernelspec": {
   "display_name": "Python 2",
   "language": "python",
   "name": "python2"
  },
  "language_info": {
   "codemirror_mode": {
    "name": "ipython",
    "version": 2
   },
   "file_extension": ".py",
   "mimetype": "text/x-python",
   "name": "python",
   "nbconvert_exporter": "python",
   "pygments_lexer": "ipython2",
   "version": "2.7.9"
  }
 },
 "nbformat": 4,
 "nbformat_minor": 0
}

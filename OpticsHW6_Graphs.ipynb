{
 "cells": [
  {
   "cell_type": "markdown",
   "metadata": {},
   "source": [
    "# 6.1A"
   ]
  },
  {
   "cell_type": "code",
   "execution_count": 9,
   "metadata": {
    "collapsed": false
   },
   "outputs": [
    {
     "name": "stdout",
     "output_type": "stream",
     "text": [
      "0.729727656227\n",
      "0.588002603548\n"
     ]
    },
    {
     "name": "stderr",
     "output_type": "stream",
     "text": [
      "C:\\Users\\James\\AppData\\Local\\Enthought\\Canopy\\User\\lib\\site-packages\\ipykernel\\__main__.py:7: RuntimeWarning: invalid value encountered in arcsin\n",
      "C:\\Users\\James\\AppData\\Local\\Enthought\\Canopy\\User\\lib\\site-packages\\ipykernel\\__main__.py:8: RuntimeWarning: invalid value encountered in arcsin\n"
     ]
    }
   ],
   "source": [
    "import numpy as np\n",
    "import matplotlib.pyplot as plt\n",
    "\n",
    "ni = 1.5    #glass\n",
    "nt = 1      #air\n",
    "inc = np.linspace(0, np.pi/2., 100*np.pi)\n",
    "ts = (2*ni*np.cos(inc))/(ni*np.cos(inc) + nt*np.cos(np.arcsin((ni/nt)*np.sin(inc))))\n",
    "tp = (2*ni*np.cos(inc))/(ni*np.cos(np.arcsin((ni/nt)*np.sin(inc))) + nt*np.cos(inc))\n",
    "crit = np.arcsin(1/1.5)\n",
    "brewster = np.arctan(1/1.5)\n",
    "print crit\n",
    "print brewster\n",
    "\n",
    "plt.xlabel('Incident Angle (Radians)')\n",
    "plt.ylabel('Amplitude Coefficients')\n",
    "plt.title('Transmission Coefficients vs. Incident Angle')\n",
    "\n",
    "plt.plot(inc, ts, 'r')\n",
    "plt.plot(inc, tp, 'g')\n",
    "plt.show()"
   ]
  },
  {
   "cell_type": "markdown",
   "metadata": {},
   "source": [
    "# 6.1B"
   ]
  },
  {
   "cell_type": "code",
   "execution_count": 3,
   "metadata": {
    "collapsed": false
   },
   "outputs": [
    {
     "name": "stderr",
     "output_type": "stream",
     "text": [
      "C:\\Users\\James\\AppData\\Local\\Enthought\\Canopy\\User\\lib\\site-packages\\ipykernel\\__main__.py:1: RuntimeWarning: invalid value encountered in arcsin\n",
      "  if __name__ == '__main__':\n",
      "C:\\Users\\James\\AppData\\Local\\Enthought\\Canopy\\User\\lib\\site-packages\\ipykernel\\__main__.py:2: RuntimeWarning: invalid value encountered in arcsin\n",
      "  from ipykernel import kernelapp as app\n"
     ]
    }
   ],
   "source": [
    "Ts = ((nt*np.cos(np.arcsin((ni/nt)*np.sin(inc))))/(ni*np.cos(inc)))*(ts**2)\n",
    "Tp = ((nt*np.cos(np.arcsin((ni/nt)*np.sin(inc))))/(ni*np.cos(inc)))*(tp**2)\n",
    "Rs = 1 - Ts\n",
    "Rp = 1 - Tp\n",
    "\n",
    "fig = plt.figure()\n",
    "plt.suptitle('Reflectance and Transmittance vs. Incident Angle')\n",
    "ax = fig.add_subplot(121)\n",
    "plt.title('Perpendicular')\n",
    "plt.plot(inc, Ts, 'r')\n",
    "plt.plot(inc, Rs, 'g')\n",
    "plt.xlabel('Incident Angle (Radians)')\n",
    "plt.ylabel('Reflection and Transmittance')\n",
    "\n",
    "plt.subplot(122)\n",
    "plt.title('Parallel')\n",
    "plt.plot(inc, Tp, 'r')\n",
    "plt.plot(inc, Rp, 'g')\n",
    "plt.xlabel('Incident Angle (Radians)')\n",
    "plt.ylabel('Reflection and Transmittance')\n",
    "\n",
    "plt.show()"
   ]
  },
  {
   "cell_type": "code",
   "execution_count": 10,
   "metadata": {
    "collapsed": false
   },
   "outputs": [
    {
     "name": "stdout",
     "output_type": "stream",
     "text": [
      "0.666666666667\n"
     ]
    }
   ],
   "source": [
    "print 1/1.5"
   ]
  },
  {
   "cell_type": "code",
   "execution_count": null,
   "metadata": {
    "collapsed": true
   },
   "outputs": [],
   "source": []
  }
 ],
 "metadata": {
  "kernelspec": {
   "display_name": "Python 2",
   "language": "python",
   "name": "python2"
  },
  "language_info": {
   "codemirror_mode": {
    "name": "ipython",
    "version": 2
   },
   "file_extension": ".py",
   "mimetype": "text/x-python",
   "name": "python",
   "nbconvert_exporter": "python",
   "pygments_lexer": "ipython2",
   "version": "2.7.9"
  }
 },
 "nbformat": 4,
 "nbformat_minor": 0
}

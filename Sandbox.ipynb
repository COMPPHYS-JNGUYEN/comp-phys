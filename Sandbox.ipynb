{
 "cells": [
  {
   "cell_type": "code",
   "execution_count": 64,
   "metadata": {
    "collapsed": false
   },
   "outputs": [
    {
     "name": "stdout",
     "output_type": "stream",
     "text": [
      "['Alpha Centauri A',\n",
      " 'Alpha Centauri B',\n",
      " 'Alpha Centauri C',\n",
      " \"Barnard's Star\",\n",
      " 'Wolf 359',\n",
      " 'BD +36 degrees 2147',\n",
      " 'Luyten 726-8 A',\n",
      " 'Luyten 726-8 B',\n",
      " 'Sirius A',\n",
      " 'Sirius B',\n",
      " 'Ross 154']\n"
     ]
    }
   ],
   "source": [
    "import pprint\n",
    "\n",
    "data = [\n",
    "('Alpha Centauri A',    4.3,    0.26,       1.56),\n",
    "('Alpha Centauri B',    4.3,    0.077,      0.45),\n",
    "('Alpha Centauri C',    4.2,    0.00001,    0.00006),\n",
    "(\"Barnard's Star\",      6.0,    0.00004,    0.0005),\n",
    "('Wolf 359',            7.7,    0.000001,   0.00002),\n",
    "('BD +36 degrees 2147', 8.2,    0.0003,     0.006),\n",
    "('Luyten 726-8 A',      8.4,    0.000003,   0.00006),\n",
    "('Luyten 726-8 B',      8.4,    0.000002,   0.00004),\n",
    "('Sirius A',            8.6,    1.00,       23.6),\n",
    "('Sirius B',            8.6,    0.001,      0.003),\n",
    "('Ross 154',            9.4,    0.00002,    0.0005),\n",
    "]\n",
    "\n",
    "SN = []\n",
    "i = 0\n",
    "j = 0\n",
    "while i < len(data):\n",
    "    for k in data:\n",
    "        SN.append(data[i][j])\n",
    "        i += 1\n",
    "pprint.pprint(SN)"
   ]
  },
  {
   "cell_type": "code",
   "execution_count": 71,
   "metadata": {
    "collapsed": false
   },
   "outputs": [
    {
     "ename": "SyntaxError",
     "evalue": "invalid syntax (<ipython-input-71-d862a0194904>, line 1)",
     "output_type": "error",
     "traceback": [
      "\u001b[1;36m  File \u001b[1;32m\"<ipython-input-71-d862a0194904>\"\u001b[1;36m, line \u001b[1;32m1\u001b[0m\n\u001b[1;33m    SN = [first,last for first,last in data]\u001b[0m\n\u001b[1;37m                       ^\u001b[0m\n\u001b[1;31mSyntaxError\u001b[0m\u001b[1;31m:\u001b[0m invalid syntax\n"
     ]
    }
   ],
   "source": [
    "SN = [first for first in data]\n",
    "print SN"
   ]
  },
  {
   "cell_type": "code",
   "execution_count": null,
   "metadata": {
    "collapsed": true
   },
   "outputs": [],
   "source": []
  }
 ],
 "metadata": {
  "kernelspec": {
   "display_name": "Python 2",
   "language": "python",
   "name": "python2"
  },
  "language_info": {
   "codemirror_mode": {
    "name": "ipython",
    "version": 2
   },
   "file_extension": ".py",
   "mimetype": "text/x-python",
   "name": "python",
   "nbconvert_exporter": "python",
   "pygments_lexer": "ipython2",
   "version": "2.7.9"
  }
 },
 "nbformat": 4,
 "nbformat_minor": 0
}

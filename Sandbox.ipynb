{
 "cells": [
  {
   "cell_type": "code",
   "execution_count": 55,
   "metadata": {
    "collapsed": false
   },
   "outputs": [
    {
     "name": "stdout",
     "output_type": "stream",
     "text": [
      "['Alpha Centauri A',\n",
      " 'Alpha Centauri B',\n",
      " 'Alpha Centauri C',\n",
      " 'BD +36 degrees 2147',\n",
      " \"Barnard's Star\",\n",
      " 'Luyten 726-8 A',\n",
      " 'Luyten 726-8 B',\n",
      " 'Ross 154',\n",
      " 'Sirius A',\n",
      " 'Sirius B',\n",
      " 'Wolf 359']\n",
      "[4.3, 4.3, 4.2, 8.2, 6.0, 8.4, 8.4, 9.4, 8.6, 8.6, 7.7]\n",
      "[0.26, 0.077, 1e-05, 0.0003, 4e-05, 3e-06, 2e-06, 2e-05, 1.0, 0.001, 1e-06]\n",
      "[1.56, 0.45, 6e-05, 0.006, 0.0005, 6e-05, 4e-05, 0.0005, 23.6, 0.003, 2e-05]\n"
     ]
    }
   ],
   "source": [
    "import pprint\n",
    "\n",
    "data = [\n",
    "('Alpha Centauri A',    4.3,    0.26,       1.56),\n",
    "('Alpha Centauri B',    4.3,    0.077,      0.45),\n",
    "('Alpha Centauri C',    4.2,    0.00001,    0.00006),\n",
    "(\"Barnard's Star\",      6.0,    0.00004,    0.0005),\n",
    "('Wolf 359',            7.7,    0.000001,   0.00002),\n",
    "('BD +36 degrees 2147', 8.2,    0.0003,     0.006),\n",
    "('Luyten 726-8 A',      8.4,    0.000003,   0.00006),\n",
    "('Luyten 726-8 B',      8.4,    0.000002,   0.00004),\n",
    "('Sirius A',            8.6,    1.00,       23.6),\n",
    "('Sirius B',            8.6,    0.001,      0.003),\n",
    "('Ross 154',            9.4,    0.00002,    0.0005),\n",
    "]\n",
    "\n",
    "StarName = []\n",
    "Distance = []\n",
    "AppBrightness = []\n",
    "AbsBrightness = []\n",
    "#while i < len(data):\n",
    "#    for k in data:\n",
    "#        SN.append(data[i][j])\n",
    "#        i += 1\n",
    "#pprint.pprint(SN)\n",
    "data = sorted(data)\n",
    "[StarName.append(data[i][0]) for i in range(len(data))]     # This replaces while and for loop by taking the zeroth element of each i-th element\n",
    "[Distance.append(data[i][1]) for i in range(len(data))]\n",
    "[AppBrightness.append(data[i][2]) for i in range(len(data))]\n",
    "[AbsBrightness.append(data[i][3]) for i in range(len(data))]\n",
    "pprint.pprint(StarName)\n",
    "pprint.pprint(Distance)\n",
    "pprint.pprint(AppBrightness)\n",
    "pprint.pprint(AbsBrightness)"
   ]
  },
  {
   "cell_type": "code",
   "execution_count": null,
   "metadata": {
    "collapsed": false
   },
   "outputs": [],
   "source": [
    "import pprint\n",
    "\n",
    "data = [\n",
    "('Alpha Centauri A',    4.3,    0.26,       1.56),\n",
    "('Alpha Centauri B',    4.3,    0.077,      0.45),\n",
    "('Alpha Centauri C',    4.2,    0.00001,    0.00006),\n",
    "(\"Barnard's Star\",      6.0,    0.00004,    0.0005),\n",
    "('Wolf 359',            7.7,    0.000001,   0.00002),\n",
    "('BD +36 degrees 2147', 8.2,    0.0003,     0.006),\n",
    "('Luyten 726-8 A',      8.4,    0.000003,   0.00006),\n",
    "('Luyten 726-8 B',      8.4,    0.000002,   0.00004),\n",
    "('Sirius A',            8.6,    1.00,       23.6),\n",
    "('Sirius B',            8.6,    0.001,      0.003),\n",
    "('Ross 154',            9.4,    0.00002,    0.0005),\n",
    "]\n",
    "\n",
    "SN = []\n",
    "[SN.append(i) for i in data if type(data[0][0])==str]\n",
    "print SN"
   ]
  },
  {
   "cell_type": "code",
   "execution_count": null,
   "metadata": {
    "collapsed": false
   },
   "outputs": [],
   "source": [
    "emptylist = []\n",
    "coolstuff = [1,2,3,4,5]\n",
    "[emptylist.append(i) for i in coolstuff]\n",
    "print emptylist"
   ]
  },
  {
   "cell_type": "code",
   "execution_count": null,
   "metadata": {
    "collapsed": false
   },
   "outputs": [],
   "source": [
    "indices = [i for i in range(len(data)) if type(data[i]) == str]\n",
    "print indices"
   ]
  }
 ],
 "metadata": {
  "kernelspec": {
   "display_name": "Python 2",
   "language": "python",
   "name": "python2"
  },
  "language_info": {
   "codemirror_mode": {
    "name": "ipython",
    "version": 2
   },
   "file_extension": ".py",
   "mimetype": "text/x-python",
   "name": "python",
   "nbconvert_exporter": "python",
   "pygments_lexer": "ipython2",
   "version": "2.7.9"
  }
 },
 "nbformat": 4,
 "nbformat_minor": 0
}

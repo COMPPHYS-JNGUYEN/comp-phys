{
 "cells": [
  {
   "cell_type": "code",
   "execution_count": null,
   "metadata": {
    "collapsed": false
   },
   "outputs": [],
   "source": [
    "## Code up to this point currently works, but seems lengthy and redundant\n",
    "\n",
    "import pprint\n",
    "\n",
    "data = [\n",
    "('Alpha Centauri A',    4.3,    0.26,       1.56),\n",
    "('Alpha Centauri B',    4.3,    0.077,      0.45),\n",
    "('Alpha Centauri C',    4.2,    0.00001,    0.00006),\n",
    "(\"Barnard's Star\",      6.0,    0.00004,    0.0005),\n",
    "('Wolf 359',            7.7,    0.000001,   0.00002),\n",
    "('BD +36 degrees 2147', 8.2,    0.0003,     0.006),\n",
    "('Luyten 726-8 A',      8.4,    0.000003,   0.00006),\n",
    "('Luyten 726-8 B',      8.4,    0.000002,   0.00004),\n",
    "('Sirius A',            8.6,    1.00,       23.6),\n",
    "('Sirius B',            8.6,    0.001,      0.003),\n",
    "('Ross 154',            9.4,    0.00002,    0.0005),\n",
    "]\n",
    "\n",
    "StarName = []\n",
    "Distance = []\n",
    "AppBrightness = []\n",
    "AbsBrightness = []\n",
    "#while i < len(data):\n",
    "#    for k in data:\n",
    "#        SN.append(data[i][j])\n",
    "#        i += 1\n",
    "#pprint.pprint(SN)\n",
    "data = sorted(data)\n",
    "[StarName.append(data[i][0]) for i in range(len(data))]     # This replaces while and for loop by taking the zeroth element of each i-th element\n",
    "[Distance.append(data[i][1]) for i in range(len(data))]\n",
    "[AppBrightness.append(data[i][2]) for i in range(len(data))]\n",
    "[AbsBrightness.append(data[i][3]) for i in range(len(data))]\n",
    "pprint.pprint(StarName)\n",
    "pprint.pprint(Distance)\n",
    "pprint.pprint(AppBrightness)\n",
    "pprint.pprint(AbsBrightness)"
   ]
  },
  {
   "cell_type": "code",
   "execution_count": null,
   "metadata": {
    "collapsed": false
   },
   "outputs": [],
   "source": [
    "## Testing list comprehension\n",
    "\n",
    "import pprint\n",
    "\n",
    "data = [\n",
    "('Alpha Centauri A',    4.3,    0.26,       1.56),\n",
    "('Alpha Centauri B',    4.3,    0.077,      0.45),\n",
    "('Alpha Centauri C',    4.2,    0.00001,    0.00006),\n",
    "(\"Barnard's Star\",      6.0,    0.00004,    0.0005),\n",
    "('Wolf 359',            7.7,    0.000001,   0.00002),\n",
    "('BD +36 degrees 2147', 8.2,    0.0003,     0.006),\n",
    "('Luyten 726-8 A',      8.4,    0.000003,   0.00006),\n",
    "('Luyten 726-8 B',      8.4,    0.000002,   0.00004),\n",
    "('Sirius A',            8.6,    1.00,       23.6),\n",
    "('Sirius B',            8.6,    0.001,      0.003),\n",
    "('Ross 154',            9.4,    0.00002,    0.0005),\n",
    "]\n",
    "\n",
    "SN = []\n",
    "[SN.append(i) for i in data if type(data[0][0])==str]\n",
    "print SN"
   ]
  },
  {
   "cell_type": "code",
   "execution_count": null,
   "metadata": {
    "collapsed": false
   },
   "outputs": [],
   "source": [
    "## Attempt to put code into function\n",
    "## Not working\n",
    "\n",
    "import pprint\n",
    "\n",
    "def StarDataLists(data):\n",
    "    StarName = []\n",
    "    Distance = []\n",
    "    AppBrightness = []\n",
    "    AbsBrightness = []\n",
    "    \n",
    "    [StarName.append(data[i][0]) for i in range(len(data))]\n",
    "    [Distance.append(data[i][1]) for i in range(len(data))]\n",
    "    [AppBrightness.append(data[i][2]) for i in range(len(data))]\n",
    "    [AbsBrightness.append(data[i][3]) for i in range(len(data))]\n",
    "    \n",
    "    SNvD = sorted(zip(StarName, Distance), key=lambda x: x[1])\n",
    "    SN = list(zip(*SNvD)[0])\n",
    "    pprint.pprint(SN)\n",
    "    #SNvD = [list(SNvD[k]) for k in range(len(data))]\n",
    "    pprint.pprint(SNvD)\n",
    "\n",
    "stuff = [\n",
    "('Alpha Centauri A',    4.3,    0.26,       1.56),\n",
    "('Alpha Centauri B',    4.3,    0.077,      0.45),\n",
    "('Alpha Centauri C',    4.2,    0.00001,    0.00006),\n",
    "(\"Barnard's Star\",      6.0,    0.00004,    0.0005),\n",
    "('Wolf 359',            7.7,    0.000001,   0.00002),\n",
    "('BD +36 degrees 2147', 8.2,    0.0003,     0.006),\n",
    "('Luyten 726-8 A',      8.4,    0.000003,   0.00006),\n",
    "('Luyten 726-8 B',      8.4,    0.000002,   0.00004),\n",
    "('Sirius A',            8.6,    1.00,       23.6),\n",
    "('Sirius B',            8.6,    0.001,      0.003),\n",
    "('Ross 154',            9.4,    0.00002,    0.0005),\n",
    "]\n",
    "\n",
    "StarDataLists(stuff)"
   ]
  },
  {
   "cell_type": "code",
   "execution_count": 150,
   "metadata": {
    "collapsed": false
   },
   "outputs": [
    {
     "name": "stdout",
     "output_type": "stream",
     "text": [
      "['Alpha Centauri C',\n",
      " 'Alpha Centauri A',\n",
      " 'Alpha Centauri B',\n",
      " \"Barnard's Star\",\n",
      " 'Wolf 359',\n",
      " 'BD +36 degrees 2147',\n",
      " 'Luyten 726-8 A',\n",
      " 'Luyten 726-8 B',\n",
      " 'Sirius A',\n",
      " 'Sirius B',\n",
      " 'Ross 154']\n",
      "[4.2, 4.3, 4.3, 6.0, 7.7, 8.2, 8.4, 8.4, 8.6, 8.6, 9.4]\n"
     ]
    },
    {
     "data": {
      "text/plain": [
       "(None, None)"
      ]
     },
     "execution_count": 150,
     "metadata": {},
     "output_type": "execute_result"
    }
   ],
   "source": [
    "## Modified version of first cell.  Puts each column into personal list.  Zips two lists together, sorts by index, unzips.\n",
    "## Code up to this point working, but redundant as well.  Code seems messy\n",
    "\n",
    "import pprint\n",
    "\n",
    "data = [\n",
    "('Alpha Centauri A',    4.3,    0.26,       1.56),\n",
    "('Alpha Centauri B',    4.3,    0.077,      0.45),\n",
    "('Alpha Centauri C',    4.2,    0.00001,    0.00006),\n",
    "(\"Barnard's Star\",      6.0,    0.00004,    0.0005),\n",
    "('Wolf 359',            7.7,    0.000001,   0.00002),\n",
    "('BD +36 degrees 2147', 8.2,    0.0003,     0.006),\n",
    "('Luyten 726-8 A',      8.4,    0.000003,   0.00006),\n",
    "('Luyten 726-8 B',      8.4,    0.000002,   0.00004),\n",
    "('Sirius A',            8.6,    1.00,       23.6),\n",
    "('Sirius B',            8.6,    0.001,      0.003),\n",
    "('Ross 154',            9.4,    0.00002,    0.0005),\n",
    "]\n",
    "\n",
    "StarName = []\n",
    "Distance = []\n",
    "AppBrightness = []\n",
    "AbsBrightness = []\n",
    "\n",
    "[StarName.append(data[i][0]) for i in range(len(data))]\n",
    "[Distance.append(data[i][1]) for i in range(len(data))]\n",
    "[AppBrightness.append(data[i][2]) for i in range(len(data))]\n",
    "[AbsBrightness.append(data[i][3]) for i in range(len(data))]\n",
    "\n",
    "SNvD = sorted(zip(StarName, Distance), key=lambda x: x[1])\n",
    "SN, D = list(zip(*SNvD)[0]), list(zip(*SNvD)[1])\n",
    "pprint.pprint(SN), pprint.pprint(D)\n",
    "#SNvD = [list(SNvD[k]) for k in range(len(data))]\n",
    "#pprint.pprint(SNvD)"
   ]
  },
  {
   "cell_type": "code",
   "execution_count": 156,
   "metadata": {
    "collapsed": false
   },
   "outputs": [
    {
     "name": "stdout",
     "output_type": "stream",
     "text": [
      "Ranked by Distance:\n",
      "\n",
      "['Alpha Centauri C',\n",
      " 'Alpha Centauri A',\n",
      " 'Alpha Centauri B',\n",
      " \"Barnard's Star\",\n",
      " 'Wolf 359',\n",
      " 'BD +36 degrees 2147',\n",
      " 'Luyten 726-8 A',\n",
      " 'Luyten 726-8 B',\n",
      " 'Sirius A',\n",
      " 'Sirius B',\n",
      " 'Ross 154']\n",
      "[4.2, 4.3, 4.3, 6.0, 7.7, 8.2, 8.4, 8.4, 8.6, 8.6, 9.4]\n",
      "\n",
      "Ranked by Apparent Brightness:\n",
      "\n",
      "['Wolf 359',\n",
      " 'Luyten 726-8 B',\n",
      " 'Luyten 726-8 A',\n",
      " 'Alpha Centauri C',\n",
      " 'Ross 154',\n",
      " \"Barnard's Star\",\n",
      " 'BD +36 degrees 2147',\n",
      " 'Sirius B',\n",
      " 'Alpha Centauri B',\n",
      " 'Alpha Centauri A',\n",
      " 'Sirius A']\n",
      "[1e-06, 2e-06, 3e-06, 1e-05, 2e-05, 4e-05, 0.0003, 0.001, 0.077, 0.26, 1.0]\n",
      "\n",
      "Ranked by Absolute Brightness:\n",
      "\n",
      "['Wolf 359',\n",
      " 'Luyten 726-8 B',\n",
      " 'Alpha Centauri C',\n",
      " 'Luyten 726-8 A',\n",
      " \"Barnard's Star\",\n",
      " 'Ross 154',\n",
      " 'Sirius B',\n",
      " 'BD +36 degrees 2147',\n",
      " 'Alpha Centauri B',\n",
      " 'Alpha Centauri A',\n",
      " 'Sirius A']\n",
      "[2e-05, 4e-05, 6e-05, 6e-05, 0.0005, 0.0005, 0.003, 0.006, 0.45, 1.56, 23.6]\n",
      "\n",
      "Cannot Use Indices\n"
     ]
    }
   ],
   "source": [
    "## Cleaner version of first and fourth cells\n",
    "## Need to figure out how to put lists into column/table form\n",
    "\n",
    "import pprint\n",
    "\n",
    "def sortXvsY(data, index1, index2):\n",
    "    if index1 or index2 >= len(data[0]):\n",
    "        print 'Cannot Use Indices'\n",
    "        return\n",
    "    data = sorted(data, key = lambda x: x[index2])\n",
    "    X = []\n",
    "    Y = []\n",
    "    [X.append(data[i][index1]) for i in range(len(data))]\n",
    "    [Y.append(data[i][index2]) for i in range(len(data))]\n",
    "    if index2 == 0:\n",
    "        print 'Ranked by Name:'\n",
    "    elif index2 == 1:\n",
    "        print 'Ranked by Distance:\\n'\n",
    "    elif index2 == 2:\n",
    "        print 'Ranked by Apparent Brightness:\\n'\n",
    "    elif index2 == 3:\n",
    "        print 'Ranked by Absolute Brightness:\\n'\n",
    "    else:\n",
    "        print 'Ranked by {:}:\\n'.format(str(index2))\n",
    "    pprint.pprint(X), pprint.pprint(Y)\n",
    "    print\n",
    "    \n",
    "\n",
    "data2 = [\n",
    "('Alpha Centauri A',    4.3,    0.26,       1.56),\n",
    "('Alpha Centauri B',    4.3,    0.077,      0.45),\n",
    "('Alpha Centauri C',    4.2,    0.00001,    0.00006),\n",
    "(\"Barnard's Star\",      6.0,    0.00004,    0.0005),\n",
    "('Wolf 359',            7.7,    0.000001,   0.00002),\n",
    "('BD +36 degrees 2147', 8.2,    0.0003,     0.006),\n",
    "('Luyten 726-8 A',      8.4,    0.000003,   0.00006),\n",
    "('Luyten 726-8 B',      8.4,    0.000002,   0.00004),\n",
    "('Sirius A',            8.6,    1.00,       23.6),\n",
    "('Sirius B',            8.6,    0.001,      0.003),\n",
    "('Ross 154',            9.4,    0.00002,    0.0005),\n",
    "]\n",
    "\n",
    "sortXvsY(data2, 0, 1)\n",
    "sortXvsY(data2, 0, 2)\n",
    "sortXvsY(data2, 0, 3)\n",
    "sortXvsY(data2, 4, 1)"
   ]
  },
  {
   "cell_type": "code",
   "execution_count": 155,
   "metadata": {
    "collapsed": false
   },
   "outputs": [
    {
     "name": "stdout",
     "output_type": "stream",
     "text": [
      "2\n",
      "cannot compute\n"
     ]
    }
   ],
   "source": [
    "x = [(1,2),2,3]\n",
    "y = 1\n",
    "z = 5\n",
    "print len(x[0])\n",
    "if y or z >= len(x):\n",
    "    print \"cannot compute\""
   ]
  },
  {
   "cell_type": "code",
   "execution_count": null,
   "metadata": {
    "collapsed": true
   },
   "outputs": [],
   "source": []
  }
 ],
 "metadata": {
  "kernelspec": {
   "display_name": "Python 2",
   "language": "python",
   "name": "python2"
  },
  "language_info": {
   "codemirror_mode": {
    "name": "ipython",
    "version": 2
   },
   "file_extension": ".py",
   "mimetype": "text/x-python",
   "name": "python",
   "nbconvert_exporter": "python",
   "pygments_lexer": "ipython2",
   "version": "2.7.9"
  }
 },
 "nbformat": 4,
 "nbformat_minor": 0
}

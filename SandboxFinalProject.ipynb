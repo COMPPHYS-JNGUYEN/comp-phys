{
 "cells": [
  {
   "cell_type": "markdown",
   "metadata": {},
   "source": [
    "# pattern_recog_func.py"
   ]
  },
  {
   "cell_type": "code",
   "execution_count": 14,
   "metadata": {
    "collapsed": false,
    "scrolled": true
   },
   "outputs": [],
   "source": [
    "from scipy.interpolate import interp2d\n",
    "from sklearn.decomposition import PCA\n",
    "from sklearn.svm import SVC\n",
    "from sklearn.datasets import load_digits\n",
    "import matplotlib.pyplot as plt\n",
    "import matplotlib.image as mpimg\n",
    "import numpy as np\n",
    "from skimage import transform, data, io\n",
    "\n",
    "def interpol_im(im, dim1=8, dim2=8, plot_new_im=False, cmap='binary', axis_off=False):\n",
    "    im = im[:,:,0]\n",
    "    x = np.arange(im.shape[1])\n",
    "    y = np.arange(im.shape[0])\n",
    "    print(x.shape,y.shape)\n",
    "    f2d = interp2d(x, y, im)\n",
    "    \n",
    "    x_new = np.linspace(0, im.shape[1], dim1)\n",
    "    y_new = np.linspace(0, im.shape[0], dim2)\n",
    "    \n",
    "    im_new = f2d(x_new, y_new)\n",
    "    \n",
    "    im_flat = im_new.flatten()\n",
    "    \n",
    "    if plot_new_im:\n",
    "        plt.imshow(im_new, cmap=cmap, interpolation='nearest')\n",
    "        plt.grid('off')\n",
    "        plt.show()\n",
    "        \n",
    "    return im_flat\n",
    "\n",
    "def pca_X(X, n_comp=10):\n",
    "    md_pca = PCA(n_comp)\n",
    "    X_proj = pca.fit_transform(X)\n",
    "    return md_pca, X_proj\n",
    "\n",
    "def rescale_pixel(X, unseen, ind=0):\n",
    "    dig_data = load_digits()\n",
    "    X[ind] = dig_data.data\n",
    "    \n",
    "    return\n",
    "    \n",
    "def svm_train(X, y, gamma=0.001, C=100):\n",
    "    \n",
    "    return\n",
    "\n",
    "def pca_svm_pred(imfile, md_pca, md_clf, dim1=45, dim2=60):\n",
    "    im = mpimg.imread(imfile)\n",
    "    f2d_flat = interpol_im(im, dim1=dim1, dim2=dim2)\n",
    "    return\n",
    "\n",
    "# letterB = mpimg.imread('letterB.png')\n",
    "# letterB = letterB[:,:,0]\n",
    "\n",
    "\n",
    "# dig_data = load_digits()\n",
    "# X = dig_data.data\n",
    "# y = dig_data.target\n",
    "\n",
    "# print(letterB.shape)\n",
    "# f2d = interpol_im(letterB, plot_new_im=True)\n",
    "# # print(np.mean(X[0]), np.mean(letterB))"
   ]
  },
  {
   "cell_type": "markdown",
   "metadata": {},
   "source": [
    "# dig_recog.py"
   ]
  },
  {
   "cell_type": "code",
   "execution_count": 15,
   "metadata": {
    "collapsed": false
   },
   "outputs": [
    {
     "name": "stdout",
     "output_type": "stream",
     "text": [
      "(64L,)\n",
      "0\n"
     ]
    }
   ],
   "source": [
    "from scipy.interpolate import interp2d\n",
    "from sklearn.decomposition import PCA\n",
    "from sklearn.svm import SVC\n",
    "from sklearn.datasets import load_digits\n",
    "import matplotlib.pyplot as plt\n",
    "import matplotlib.image as mpimg\n",
    "import numpy as np\n",
    "from skimage import transform, data, io\n",
    "\n",
    "\n",
    "dig_data = load_digits()\n",
    "X = dig_data.data\n",
    "y = dig_data.target\n",
    "\n",
    "\n",
    "print(X[0].shape)\n",
    "print(y[0])"
   ]
  },
  {
   "cell_type": "markdown",
   "metadata": {},
   "source": [
    "# unseen_dig.png"
   ]
  },
  {
   "cell_type": "code",
   "execution_count": 18,
   "metadata": {
    "collapsed": false
   },
   "outputs": [
    {
     "name": "stdout",
     "output_type": "stream",
     "text": [
      "((349L,), (440L,))\n",
      "((64L,), (64L,))\n",
      "()\n"
     ]
    }
   ],
   "source": [
    "unseen = mpimg.imread('unseen_dig.png')\n",
    "flat = interpol_im(unseen, plot_new_im=True)\n",
    "dig_data = load_digits()\n",
    "X = dig_data.data\n",
    "print(X[0].shape, flat.shape)"
   ]
  },
  {
   "cell_type": "code",
   "execution_count": null,
   "metadata": {
    "collapsed": true
   },
   "outputs": [],
   "source": []
  }
 ],
 "metadata": {
  "kernelspec": {
   "display_name": "Python 2",
   "language": "python",
   "name": "python2"
  },
  "language_info": {
   "codemirror_mode": {
    "name": "ipython",
    "version": 2
   },
   "file_extension": ".py",
   "mimetype": "text/x-python",
   "name": "python",
   "nbconvert_exporter": "python",
   "pygments_lexer": "ipython2",
   "version": "2.7.10"
  }
 },
 "nbformat": 4,
 "nbformat_minor": 0
}

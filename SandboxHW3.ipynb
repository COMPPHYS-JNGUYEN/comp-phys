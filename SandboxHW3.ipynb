{
 "cells": [
  {
   "cell_type": "markdown",
   "metadata": {},
   "source": [
    "# prime.py"
   ]
  },
  {
   "cell_type": "code",
   "execution_count": 199,
   "metadata": {
    "collapsed": false
   },
   "outputs": [
    {
     "name": "stdout",
     "output_type": "stream",
     "text": [
      "[2, 3, 5, 7, 11, 13, 17, 19, 23, 29, 31, 37, 41, 43, 47, 53, 59, 61, 67, 71, 73, 79, 83, 89, 97, 101, 103, 107, 109, 113, 127, 131, 137, 139, 149, 151, 157, 163, 167, 173, 179, 181, 191, 193, 197, 199, 211, 223, 227, 229, 233, 239, 241, 251, 257, 263, 269, 271, 277, 281, 283, 293, 307, 311, 313, 317, 331, 337, 347, 349, 353, 359, 367, 373, 379, 383, 389, 397, 401, 409, 419, 421, 431, 433, 439, 443, 449, 457, 461, 463, 467, 479, 487, 491, 499, 503, 509, 521, 523, 541, 547, 557, 563, 569, 571, 577, 587, 593, 599, 601, 607, 613, 617, 619, 631, 641, 643, 647, 653, 659, 661, 673, 677, 683, 691, 701, 709, 719, 727, 733, 739, 743, 751, 757, 761, 769, 773, 787, 797, 809, 811, 821, 823, 827, 829, 839, 853, 857, 859, 863, 877, 881, 883, 887, 907, 911, 919, 929, 937, 941, 947, 953, 967, 971, 977, 983, 991, 997]\n",
      "168\n"
     ]
    }
   ],
   "source": [
    "import numpy as np\n",
    "\n",
    "def find_primenumber(start, end):\n",
    "    if start <= 1:\n",
    "        start = 2\n",
    "    arr = np.arange(start, end+1)\n",
    "    prime = []\n",
    "    for k in arr:\n",
    "        j = 0\n",
    "        for a in range(1, end+1):\n",
    "            if k % a == 0:\n",
    "                j += 1\n",
    "        if j <= 2:\n",
    "            prime.append(k)\n",
    "    return prime\n",
    "            \n",
    "x = find_primenumber(1, 1000)\n",
    "print x\n",
    "print len(x)"
   ]
  },
  {
   "cell_type": "code",
   "execution_count": 194,
   "metadata": {
    "collapsed": false
   },
   "outputs": [
    {
     "name": "stdout",
     "output_type": "stream",
     "text": [
      "[2, 3, 11, 13, 17, 19, 23, 29, 31, 37, 41, 43, 47, 53, 59, 61, 67, 71, 73, 79, 83, 89, 97, 101, 103, 107, 109, 113, 121, 127, 131, 137, 139, 143, 149, 151, 157, 163, 167, 169, 173, 179, 181, 187, 191, 193, 197, 199, 209, 211, 221, 223, 227, 229, 233, 239, 241, 247, 251, 253, 257, 263, 269, 271, 277, 281, 283, 289, 293, 299, 307, 311, 313, 317, 319, 323, 331, 337, 341, 347, 349, 353, 359, 361, 367, 373, 377, 379, 383, 389, 391, 397, 401, 403, 407, 409, 419, 421, 431, 433, 437, 439, 443, 449, 451, 457, 461, 463, 467, 473, 479, 481, 487, 491, 493, 499, 503, 509, 517, 521, 523, 527, 529, 533, 541, 547, 551, 557, 559, 563, 569, 571, 577, 583, 587, 589, 593, 599, 601, 607, 611, 613, 617, 619, 629, 631, 641, 643, 647, 649, 653, 659, 661, 667, 671, 673, 677, 683, 689, 691, 697, 701, 703, 709, 713, 719, 727, 731, 733, 737, 739, 743, 751, 757, 761, 767, 769, 773, 779, 781, 787, 793, 797, 799, 803, 809, 811, 817, 821, 823, 827, 829, 839, 841, 851, 853, 857, 859, 863, 869, 871, 877, 881, 883, 887, 893, 899, 901, 907, 911, 913, 919, 923, 929, 937, 941, 943, 947, 949, 953, 961, 967, 971, 977, 979, 983, 989, 991, 997]\n",
      "229\n"
     ]
    }
   ],
   "source": [
    "import numpy as np\n",
    "\n",
    "def primenumbers(start, end):\n",
    "    prime = []\n",
    "    if start <= 3:\n",
    "        prime.append(2), prime.append(3)\n",
    "        start = 2\n",
    "    arr = np.arange(start, end+1)\n",
    "    for i in range(2, end):\n",
    "        x = arr%i\n",
    "    \n",
    "    \n",
    "    "
   ]
  },
  {
   "cell_type": "code",
   "execution_count": null,
   "metadata": {
    "collapsed": false
   },
   "outputs": [],
   "source": [
    "arr = np.arange(10, 20)\n",
    "x = arr%2\n",
    "y = arr%3\n",
    "z = zip(x,y)\n",
    "print x\n",
    "print y\n",
    "idx = x > 0\n",
    "idy = y > 0\n",
    "print idx\n",
    "print idy\n",
    "prime = []\n",
    "q = zip(idx, idy)\n",
    "for i, j in q:\n",
    "    if i and j == True:\n",
    "        print 'ugly'\n",
    "        print i, j"
   ]
  },
  {
   "cell_type": "code",
   "execution_count": 144,
   "metadata": {
    "collapsed": false
   },
   "outputs": [
    {
     "name": "stdout",
     "output_type": "stream",
     "text": [
      "[False  True False  True False  True False  True False  True]\n",
      "[ True  True False  True  True False  True  True False  True]\n",
      "[(False, True), (True, True), (False, False), (True, True), (False, True), (True, False), (False, True), (True, True), (False, False), (True, True)]\n",
      "Yay\n",
      "Yay\n",
      "Yay\n",
      "Yay\n"
     ]
    }
   ],
   "source": [
    "arr = np.arange(10,20)\n",
    "x = arr%2 > 0\n",
    "y = arr%3 > 0\n",
    "q = zip(x,y)\n",
    "print x\n",
    "print y\n",
    "print q\n",
    "prime = []\n",
    "for ind, val in enumerate(q):\n",
    "    if val == (True, True):\n",
    "        print 'Yay'\n",
    "        "
   ]
  },
  {
   "cell_type": "code",
   "execution_count": 158,
   "metadata": {
    "collapsed": false
   },
   "outputs": [
    {
     "name": "stdout",
     "output_type": "stream",
     "text": [
      "Array:  [10 11 12 13 14 15 16 17 18 19]\n",
      "x:  [False  True False  True False  True False  True False  True]\n",
      "y:  [ True  True False  True  True False  True  True False  True]\n",
      "q:  [(False, True), (True, True), (False, False), (True, True), (False, True), (True, False), (False, True), (True, True), (False, False), (True, True)]\n",
      "[11, 13, 17, 19]\n"
     ]
    }
   ],
   "source": [
    "arr = np.arange(10,20)\n",
    "x = arr%2 > 0\n",
    "y = arr%3 > 0\n",
    "q = zip(x,y)\n",
    "print 'Array: ',arr\n",
    "print 'x: ',x\n",
    "print 'y: ',y\n",
    "print 'q: ',q\n",
    "j = enumerate(q)\n",
    "prime = []\n",
    "for ind, val in j:\n",
    "    if val == (True, True):\n",
    "        prime.append(arr[ind])\n",
    "        \n",
    "print prime"
   ]
  },
  {
   "cell_type": "code",
   "execution_count": 205,
   "metadata": {
    "collapsed": false
   },
   "outputs": [
    {
     "name": "stdout",
     "output_type": "stream",
     "text": [
      "[11 12 13 14 15 16 17 18 19 20 21 22 23 24 25 26 27 28 29]\n",
      "[ 5  6  6  7  7  8  8  9  9 10 10 11 11 12 12 13 13 14 14]\n",
      "[3 4 4 4 5 5 5 6 6 6 7 7 7 8 8 8 9 9 9]\n",
      "[2 3 3 3 3 4 4 4 4 5 5 5 5 6 6 6 6 7 7]\n",
      "[2 2 2 2 3 3 3 3 3 4 4 4 4 4 5 5 5 5 5]\n",
      "[1 2 2 2 2 2 2 3 3 3 3 3 3 4 4 4 4 4 4]\n",
      "[1 1 1 2 2 2 2 2 2 2 3 3 3 3 3 3 3 4 4]\n",
      "[1 1 1 1 1 2 2 2 2 2 2 2 2 3 3 3 3 3 3]\n",
      "[1 1 1 1 1 1 1 2 2 2 2 2 2 2 2 2 3 3 3]\n",
      "[1 1 1 1 1 1 1 1 1 2 2 2 2 2 2 2 2 2 2]\n",
      "[1 1 1 1 1 1 1 1 1 1 1 2 2 2 2 2 2 2 2]\n",
      "[0 1 1 1 1 1 1 1 1 1 1 1 1 2 2 2 2 2 2]\n",
      "[0 0 1 1 1 1 1 1 1 1 1 1 1 1 1 2 2 2 2]\n",
      "[0 0 0 1 1 1 1 1 1 1 1 1 1 1 1 1 1 2 2]\n",
      "[0 0 0 0 1 1 1 1 1 1 1 1 1 1 1 1 1 1 1]\n",
      "[0 0 0 0 0 1 1 1 1 1 1 1 1 1 1 1 1 1 1]\n",
      "[0 0 0 0 0 0 1 1 1 1 1 1 1 1 1 1 1 1 1]\n",
      "[0 0 0 0 0 0 0 1 1 1 1 1 1 1 1 1 1 1 1]\n",
      "[0 0 0 0 0 0 0 0 1 1 1 1 1 1 1 1 1 1 1]\n",
      "[0 0 0 0 0 0 0 0 0 1 1 1 1 1 1 1 1 1 1]\n",
      "[0 0 0 0 0 0 0 0 0 0 1 1 1 1 1 1 1 1 1]\n",
      "[0 0 0 0 0 0 0 0 0 0 0 1 1 1 1 1 1 1 1]\n",
      "[0 0 0 0 0 0 0 0 0 0 0 0 1 1 1 1 1 1 1]\n",
      "[0 0 0 0 0 0 0 0 0 0 0 0 0 1 1 1 1 1 1]\n",
      "[0 0 0 0 0 0 0 0 0 0 0 0 0 0 1 1 1 1 1]\n",
      "[0 0 0 0 0 0 0 0 0 0 0 0 0 0 0 1 1 1 1]\n",
      "[0 0 0 0 0 0 0 0 0 0 0 0 0 0 0 0 1 1 1]\n",
      "[0 0 0 0 0 0 0 0 0 0 0 0 0 0 0 0 0 1 1]\n",
      "[0 0 0 0 0 0 0 0 0 0 0 0 0 0 0 0 0 0 1]\n"
     ]
    }
   ],
   "source": [
    "x = np.arange(11, 30)\n",
    "y = np.arange(1, 30)\n",
    "for val in y:\n",
    "    print x/val"
   ]
  },
  {
   "cell_type": "markdown",
   "metadata": {},
   "source": [
    "# plot_antisym.py"
   ]
  },
  {
   "cell_type": "code",
   "execution_count": 2,
   "metadata": {
    "collapsed": false
   },
   "outputs": [
    {
     "name": "stderr",
     "output_type": "stream",
     "text": [
      "usage: __main__.py [-h] [-x1 X1] [-x2 X2] [-n1 N1] [-n2 N2] [-a A]\n",
      "__main__.py: error: unrecognized arguments: -f C:\\Users\\James\\.ipython\\profile_default\\security\\kernel-6deadf88-c16c-4e10-8cfc-80ec1794b831.json --profile-dir C:\\Users\\James\\.ipython\\profile_default\n"
     ]
    },
    {
     "ename": "SystemExit",
     "evalue": "2",
     "output_type": "error",
     "traceback": [
      "An exception has occurred, use %tb to see the full traceback.\n",
      "\u001b[1;31mSystemExit\u001b[0m\u001b[1;31m:\u001b[0m 2\n"
     ]
    },
    {
     "name": "stderr",
     "output_type": "stream",
     "text": [
      "To exit: use 'exit', 'quit', or Ctrl-D.\n"
     ]
    }
   ],
   "source": [
    "from mpl_toolkits.mplot3d import axes3d\n",
    "import matplotlib.pyplot as plt\n",
    "import numpy as np\n",
    "from matplotlib import cm\n",
    "\n",
    "def antisym(x1, x2, n1=1, n2=2, a=1.0):\n",
    "    psi = (2./a)*(np.sin((n1*pi*x1)/a)*np.sin((n2*pi*x2)/a) - np.sin((n1*pi*x2)/a)*np.sin((n2*pi*x1)/a))\n",
    "    return psi\n",
    "\n",
    "if __name__ == \"__main__\":\n",
    "\n",
    "    import doctest\n",
    "    import argparse\n",
    "\n",
    "    parser = argparse.ArgumentParser()\n",
    "    parser.add_argument('-x1', type = float)\n",
    "    parser.add_argument('-x2', type = float)\n",
    "    parser.add_argument('-n1', type = int)\n",
    "    parser.add_argument('-n2', type = int)\n",
    "    parser.add_argument('-a' , type = float)\n",
    "    args = parser.parse_args()\n",
    "    \n",
    "    x01 = args.x1\n",
    "    x02 = args.x2\n",
    "    n01 = args.n1\n",
    "    n01 = args.n1\n",
    "    a0 = args.a\n",
    "    \n",
    "    wavefunction = antisym(x01, x02)\n",
    "    prob_density = wavefunction**2\n",
    "    \n",
    "    fig1 = plt.figure()\n",
    "    plt.suptitle('Antisymmetric Spatial Wave Function')\n",
    "\n",
    "    psi = plt.subplot(221, projection = '3d')\n",
    "    psi.plot_surface(x01, x02, wavefunction, rstride = 1, cstride = 1, cmap='Spectral', linewidth=0)\n",
    "    fig1.set_size_inches(5, 5)\n",
    "\n",
    "    psisquared = plt.subplot(222, projection = '3d')\n",
    "    psisquared.plot_surface(x01, x02, prob_density, rstride = 10, cstride = 1, cmap=cm.coolwarm, linewidth = 0)\n",
    "\n",
    "    plt.show()"
   ]
  },
  {
   "cell_type": "code",
   "execution_count": 3,
   "metadata": {
    "collapsed": false
   },
   "outputs": [],
   "source": [
    "from mpl_toolkits.mplot3d import axes3d\n",
    "import matplotlib.pyplot as plt\n",
    "import numpy as np\n",
    "from matplotlib import cm\n",
    "\n",
    "def antisym(x1, x2, n1=1, n2=2, a=1.0):\n",
    "    psi = (2./a)*(np.sin((n1*np.pi*x1)/a)*np.sin((n2*np.pi*x2)/a) - np.sin((n1*np.pi*x2)/a)*np.sin((n2*np.pi*x1)/a))\n",
    "    return psi\n",
    "\n",
    "x01 = np.linspace(-np.pi/2., np.pi/2., 100)\n",
    "x02 = np.linspace(-np.pi/2., np.pi/2., 100)\n",
    "x001, x002 = np.meshgrid(x01, x02)\n",
    "\n",
    "wavefunction = antisym(x001, x002,a = 3.)\n",
    "prob_density = wavefunction**2\n",
    "\n",
    "\n",
    "fig = plt.figure()\n",
    "plt.suptitle('Antisymmetric Spatial Wave Function')\n",
    "\n",
    "psi = plt.subplot(121, projection = '3d')\n",
    "psi.plot_surface(x001, x002, wavefunction, rstride = 1, cstride = 1, cmap='Spectral', linewidth=0)\n",
    "\n",
    "psisquared = plt.subplot(122, projection = '3d')\n",
    "psisquared.plot_surface(x001, x002, prob_density, rstride = 1, cstride = 1, cmap=cm.coolwarm, linewidth = 0)\n",
    "\n",
    "txt = 'The \"effective\" interaction between two neutral Fermions (bothspin up) \\nthat arises from the symmetry requirement \\non the total wave function.'\n",
    "fig.text( .1, .1,txt)\n",
    "\n",
    "plt.show()"
   ]
  },
  {
   "cell_type": "code",
   "execution_count": 214,
   "metadata": {
    "collapsed": false
   },
   "outputs": [
    {
     "name": "stdout",
     "output_type": "stream",
     "text": [
      "13.0\n"
     ]
    },
    {
     "data": {
      "image/png": "[encoded data removed]",
      "text/plain": [
       "<matplotlib.figure.Figure at 0x8619358>"
      ]
     },
     "metadata": {},
     "output_type": "display_data"
    }
   ],
   "source": [
    "def g(x,y):\n",
    "    return x**2+y**2\n",
    "z = g(2., 3.)\n",
    "print z\n",
    "\n",
    "%matplotlib inline\n",
    "from mpl_toolkits.mplot3d import axes3d\n",
    "import matplotlib.pyplot as plt\n",
    "import numpy as np\n",
    "from matplotlib import cm #colormap:extract color scheme\n",
    "\n",
    "fig = plt.figure()\n",
    "ax = fig.add_subplot(111, projection = '3d')\n",
    "x = y = np.linspace(-5, 5, 100)\n",
    "xv, yv = np.meshgrid(x, y)\n",
    "z = g(xv, yv)\n",
    "#ax.plot_wireframe(xv, yv, z, rstride = 4, cstride = 4, linewidth = 1)\n",
    "ax.plot_surface(xv, yv, z, rstride = 1, cstride = 1, cmap=cm.coolwarm, linewidth=0)\n",
    "plt.show()"
   ]
  },
  {
   "cell_type": "code",
   "execution_count": 215,
   "metadata": {
    "collapsed": false
   },
   "outputs": [
    {
     "data": {
      "image/png": "[encoded data removed]",
      "text/plain": [
       "<matplotlib.figure.Figure at 0xa4a44e0>"
      ]
     },
     "metadata": {},
     "output_type": "display_data"
    }
   ],
   "source": [
    "# There are often multiple ways of accomplishing the same thing\n",
    "Xmin = -5.0; Xmax = 5.0\n",
    "Npoints = 500\n",
    "DelX = (Xmax-Xmin)/Npoints\n",
    "x = np.arange(Xmin, Xmax, DelX)\n",
    "y1 = -np.sin(x)*np.cos(x**2)\n",
    "y2 = np.exp(-x/4.)*np.sin(x)\n",
    "\n",
    "fig = plt.figure()\n",
    "#fig = plt.figure(figsize = (15, 5))\n",
    "ax = fig.add_subplot(221) #First = row; Second = Column; Third = First of two\n",
    "fig.subplots_adjust(top=0.85) #Moves plot down a little\n",
    "plt.title(\"Two Functions\")\n",
    "\n",
    "#plt.plot(x, y1, 'r', lw = 2)\n",
    "plt.plot(x, y1, 'r.', lw = 2)\n",
    "plt.grid(True)\n",
    "ax.set_ylabel('y1')\n",
    "\n",
    "plt.subplot(222)\n",
    "#plt.plot(x, y2, 'g', lw=2)\n",
    "plt.plot(x, y2, 'g--', lw=2)\n",
    "plt.xlabel('x')\n",
    "plt.ylabel('y2')\n",
    "\n",
    "plt.show()"
   ]
  },
  {
   "cell_type": "code",
   "execution_count": null,
   "metadata": {
    "collapsed": true
   },
   "outputs": [],
   "source": []
  }
 ],
 "metadata": {
  "kernelspec": {
   "display_name": "Python 2",
   "language": "python",
   "name": "python2"
  },
  "language_info": {
   "codemirror_mode": {
    "name": "ipython",
    "version": 2
   },
   "file_extension": ".py",
   "mimetype": "text/x-python",
   "name": "python",
   "nbconvert_exporter": "python",
   "pygments_lexer": "ipython2",
   "version": "2.7.9"
  }
 },
 "nbformat": 4,
 "nbformat_minor": 0
}

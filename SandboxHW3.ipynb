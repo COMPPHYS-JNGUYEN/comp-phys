{
 "cells": [
  {
   "cell_type": "markdown",
   "metadata": {},
   "source": [
    "# prime.py"
   ]
  },
  {
   "cell_type": "code",
   "execution_count": 199,
   "metadata": {
    "collapsed": false
   },
   "outputs": [
    {
     "name": "stdout",
     "output_type": "stream",
     "text": [
      "[2, 3, 5, 7, 11, 13, 17, 19, 23, 29, 31, 37, 41, 43, 47, 53, 59, 61, 67, 71, 73, 79, 83, 89, 97, 101, 103, 107, 109, 113, 127, 131, 137, 139, 149, 151, 157, 163, 167, 173, 179, 181, 191, 193, 197, 199, 211, 223, 227, 229, 233, 239, 241, 251, 257, 263, 269, 271, 277, 281, 283, 293, 307, 311, 313, 317, 331, 337, 347, 349, 353, 359, 367, 373, 379, 383, 389, 397, 401, 409, 419, 421, 431, 433, 439, 443, 449, 457, 461, 463, 467, 479, 487, 491, 499, 503, 509, 521, 523, 541, 547, 557, 563, 569, 571, 577, 587, 593, 599, 601, 607, 613, 617, 619, 631, 641, 643, 647, 653, 659, 661, 673, 677, 683, 691, 701, 709, 719, 727, 733, 739, 743, 751, 757, 761, 769, 773, 787, 797, 809, 811, 821, 823, 827, 829, 839, 853, 857, 859, 863, 877, 881, 883, 887, 907, 911, 919, 929, 937, 941, 947, 953, 967, 971, 977, 983, 991, 997]\n",
      "168\n"
     ]
    }
   ],
   "source": [
    "import numpy as np\n",
    "\n",
    "def find_primenumber(start, end):\n",
    "    if start <= 1:\n",
    "        start = 2\n",
    "    arr = np.arange(start, end+1)\n",
    "    prime = []\n",
    "    for k in arr:\n",
    "        j = 0\n",
    "        for a in range(1, end+1):\n",
    "            if k % a == 0:\n",
    "                j += 1\n",
    "        if j <= 2:\n",
    "            prime.append(k)\n",
    "    return prime\n",
    "            \n",
    "x = find_primenumber(1, 1000)\n",
    "print x\n",
    "print len(x)"
   ]
  },
  {
   "cell_type": "markdown",
   "metadata": {},
   "source": [
    "### Main code"
   ]
  },
  {
   "cell_type": "code",
   "execution_count": 194,
   "metadata": {
    "collapsed": false
   },
   "outputs": [
    {
     "name": "stdout",
     "output_type": "stream",
     "text": [
      "[2, 3, 11, 13, 17, 19, 23, 29, 31, 37, 41, 43, 47, 53, 59, 61, 67, 71, 73, 79, 83, 89, 97, 101, 103, 107, 109, 113, 121, 127, 131, 137, 139, 143, 149, 151, 157, 163, 167, 169, 173, 179, 181, 187, 191, 193, 197, 199, 209, 211, 221, 223, 227, 229, 233, 239, 241, 247, 251, 253, 257, 263, 269, 271, 277, 281, 283, 289, 293, 299, 307, 311, 313, 317, 319, 323, 331, 337, 341, 347, 349, 353, 359, 361, 367, 373, 377, 379, 383, 389, 391, 397, 401, 403, 407, 409, 419, 421, 431, 433, 437, 439, 443, 449, 451, 457, 461, 463, 467, 473, 479, 481, 487, 491, 493, 499, 503, 509, 517, 521, 523, 527, 529, 533, 541, 547, 551, 557, 559, 563, 569, 571, 577, 583, 587, 589, 593, 599, 601, 607, 611, 613, 617, 619, 629, 631, 641, 643, 647, 649, 653, 659, 661, 667, 671, 673, 677, 683, 689, 691, 697, 701, 703, 709, 713, 719, 727, 731, 733, 737, 739, 743, 751, 757, 761, 767, 769, 773, 779, 781, 787, 793, 797, 799, 803, 809, 811, 817, 821, 823, 827, 829, 839, 841, 851, 853, 857, 859, 863, 869, 871, 877, 881, 883, 887, 893, 899, 901, 907, 911, 913, 919, 923, 929, 937, 941, 943, 947, 949, 953, 961, 967, 971, 977, 979, 983, 989, 991, 997]\n",
      "229\n"
     ]
    }
   ],
   "source": [
    "import numpy as np\n",
    "\n",
    "def primenumbers(start, end):\n",
    "    prime = []\n",
    "    if start <= 3:\n",
    "        prime.append(2), prime.append(3)\n",
    "        start = 2\n",
    "    arr = np.arange(start, end+1)\n",
    "    \n",
    "    \n",
    "    \n",
    "    "
   ]
  },
  {
   "cell_type": "code",
   "execution_count": null,
   "metadata": {
    "collapsed": false
   },
   "outputs": [],
   "source": [
    "arr = np.arange(10, 20)\n",
    "x = arr%2\n",
    "y = arr%3\n",
    "z = zip(x,y)\n",
    "print x\n",
    "print y\n",
    "idx = x > 0\n",
    "idy = y > 0\n",
    "print idx\n",
    "print idy\n",
    "prime = []\n",
    "q = zip(idx, idy)\n",
    "for i, j in q:\n",
    "    if i and j == True:\n",
    "        print 'ugly'\n",
    "        print i, j"
   ]
  },
  {
   "cell_type": "code",
   "execution_count": 144,
   "metadata": {
    "collapsed": false
   },
   "outputs": [
    {
     "name": "stdout",
     "output_type": "stream",
     "text": [
      "[False  True False  True False  True False  True False  True]\n",
      "[ True  True False  True  True False  True  True False  True]\n",
      "[(False, True), (True, True), (False, False), (True, True), (False, True), (True, False), (False, True), (True, True), (False, False), (True, True)]\n",
      "Yay\n",
      "Yay\n",
      "Yay\n",
      "Yay\n"
     ]
    }
   ],
   "source": [
    "arr = np.arange(10,20)\n",
    "x = arr%2 > 0\n",
    "y = arr%3 > 0\n",
    "q = zip(x,y)\n",
    "print x\n",
    "print y\n",
    "print q\n",
    "prime = []\n",
    "for ind, val in enumerate(q):\n",
    "    if val == (True, True):\n",
    "        print 'Yay'\n",
    "        "
   ]
  },
  {
   "cell_type": "code",
   "execution_count": 158,
   "metadata": {
    "collapsed": false
   },
   "outputs": [
    {
     "name": "stdout",
     "output_type": "stream",
     "text": [
      "Array:  [10 11 12 13 14 15 16 17 18 19]\n",
      "x:  [False  True False  True False  True False  True False  True]\n",
      "y:  [ True  True False  True  True False  True  True False  True]\n",
      "q:  [(False, True), (True, True), (False, False), (True, True), (False, True), (True, False), (False, True), (True, True), (False, False), (True, True)]\n",
      "[11, 13, 17, 19]\n"
     ]
    }
   ],
   "source": [
    "arr = np.arange(10,20)\n",
    "x = arr%2 > 0\n",
    "y = arr%3 > 0\n",
    "q = zip(x,y)\n",
    "print 'Array: ',arr\n",
    "print 'x: ',x\n",
    "print 'y: ',y\n",
    "print 'q: ',q\n",
    "j = enumerate(q)\n",
    "prime = []\n",
    "for ind, val in j:\n",
    "    if val == (True, True):\n",
    "        prime.append(arr[ind])\n",
    "        \n",
    "print prime"
   ]
  },
  {
   "cell_type": "code",
   "execution_count": 205,
   "metadata": {
    "collapsed": false
   },
   "outputs": [
    {
     "name": "stdout",
     "output_type": "stream",
     "text": [
      "[11 12 13 14 15 16 17 18 19 20 21 22 23 24 25 26 27 28 29]\n",
      "[ 5  6  6  7  7  8  8  9  9 10 10 11 11 12 12 13 13 14 14]\n",
      "[3 4 4 4 5 5 5 6 6 6 7 7 7 8 8 8 9 9 9]\n",
      "[2 3 3 3 3 4 4 4 4 5 5 5 5 6 6 6 6 7 7]\n",
      "[2 2 2 2 3 3 3 3 3 4 4 4 4 4 5 5 5 5 5]\n",
      "[1 2 2 2 2 2 2 3 3 3 3 3 3 4 4 4 4 4 4]\n",
      "[1 1 1 2 2 2 2 2 2 2 3 3 3 3 3 3 3 4 4]\n",
      "[1 1 1 1 1 2 2 2 2 2 2 2 2 3 3 3 3 3 3]\n",
      "[1 1 1 1 1 1 1 2 2 2 2 2 2 2 2 2 3 3 3]\n",
      "[1 1 1 1 1 1 1 1 1 2 2 2 2 2 2 2 2 2 2]\n",
      "[1 1 1 1 1 1 1 1 1 1 1 2 2 2 2 2 2 2 2]\n",
      "[0 1 1 1 1 1 1 1 1 1 1 1 1 2 2 2 2 2 2]\n",
      "[0 0 1 1 1 1 1 1 1 1 1 1 1 1 1 2 2 2 2]\n",
      "[0 0 0 1 1 1 1 1 1 1 1 1 1 1 1 1 1 2 2]\n",
      "[0 0 0 0 1 1 1 1 1 1 1 1 1 1 1 1 1 1 1]\n",
      "[0 0 0 0 0 1 1 1 1 1 1 1 1 1 1 1 1 1 1]\n",
      "[0 0 0 0 0 0 1 1 1 1 1 1 1 1 1 1 1 1 1]\n",
      "[0 0 0 0 0 0 0 1 1 1 1 1 1 1 1 1 1 1 1]\n",
      "[0 0 0 0 0 0 0 0 1 1 1 1 1 1 1 1 1 1 1]\n",
      "[0 0 0 0 0 0 0 0 0 1 1 1 1 1 1 1 1 1 1]\n",
      "[0 0 0 0 0 0 0 0 0 0 1 1 1 1 1 1 1 1 1]\n",
      "[0 0 0 0 0 0 0 0 0 0 0 1 1 1 1 1 1 1 1]\n",
      "[0 0 0 0 0 0 0 0 0 0 0 0 1 1 1 1 1 1 1]\n",
      "[0 0 0 0 0 0 0 0 0 0 0 0 0 1 1 1 1 1 1]\n",
      "[0 0 0 0 0 0 0 0 0 0 0 0 0 0 1 1 1 1 1]\n",
      "[0 0 0 0 0 0 0 0 0 0 0 0 0 0 0 1 1 1 1]\n",
      "[0 0 0 0 0 0 0 0 0 0 0 0 0 0 0 0 1 1 1]\n",
      "[0 0 0 0 0 0 0 0 0 0 0 0 0 0 0 0 0 1 1]\n",
      "[0 0 0 0 0 0 0 0 0 0 0 0 0 0 0 0 0 0 1]\n"
     ]
    }
   ],
   "source": [
    "x = np.arange(11, 30)\n",
    "y = np.arange(1, 30)\n",
    "for val in y:\n",
    "    print x/val"
   ]
  },
  {
   "cell_type": "markdown",
   "metadata": {},
   "source": [
    "# plot_antisym.py"
   ]
  },
  {
   "cell_type": "code",
   "execution_count": null,
   "metadata": {
    "collapsed": true
   },
   "outputs": [],
   "source": []
  }
 ],
 "metadata": {
  "kernelspec": {
   "display_name": "Python 2",
   "language": "python",
   "name": "python2"
  },
  "language_info": {
   "codemirror_mode": {
    "name": "ipython",
    "version": 2
   },
   "file_extension": ".py",
   "mimetype": "text/x-python",
   "name": "python",
   "nbconvert_exporter": "python",
   "pygments_lexer": "ipython2",
   "version": "2.7.9"
  }
 },
 "nbformat": 4,
 "nbformat_minor": 0
}

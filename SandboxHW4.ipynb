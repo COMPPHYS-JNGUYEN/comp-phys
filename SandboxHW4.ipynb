{
 "cells": [
  {
   "cell_type": "code",
   "execution_count": 116,
   "metadata": {
    "collapsed": false
   },
   "outputs": [
    {
     "name": "stdout",
     "output_type": "stream",
     "text": [
      "Flight\t\tDestination\t\tGate\tTime\n",
      "-------------------------------------------------------\n",
      "Aeroflot    34\tMoscow           \t 5\t 9.0\n",
      "American     1\tNew York City    \t12\t11.3\n",
      "Southwest   23\tSanta Barbara    \t 6\t12.5\n",
      "Southwest   59\tLos Angeles      \t11\t14.5\n",
      "Southwest  145\tWashington, D.C. \t 1\t 6.0\n",
      "Southwest  146\tChicago-Midway   \t 1\t 9.6\n",
      "SpamAir      1\tAustin, Minnesota\t42\t14.4\n",
      "USAirways    8\tMiami            \t20\t13.1\n",
      "United       2\tLos Angeles      \t10\t12.5\n",
      "United      31\tDulles           \t 1\t 7.1\n",
      "United      46\tLos Angeles      \t 5\t 6.5\n",
      "United     302\tLondon-Heathrow  \t 5\t 6.5\n",
      "United    2032\tMiami            \t21\t15.1\n"
     ]
    }
   ],
   "source": [
    "import pprint as pp\n",
    "\n",
    "class Airline:\n",
    "    def __init__(self, flight):\n",
    "        self.flight = flight\n",
    "        \n",
    "    def SortbyAirline(self):\n",
    "        data = sorted(self.flight, key = lambda airline:airline[0:2])\n",
    "        X = []\n",
    "        Y = []\n",
    "        Z = []\n",
    "        U = []\n",
    "        V = []\n",
    "\n",
    "        [X.append(data[i][0]) for i in range(len(data))]                                   # Appends index1-th element of i-th element of data to empty list X with list comprehension.\n",
    "        [Y.append(data[i][1]) for i in range(len(data))]\n",
    "        [Z.append(data[i][2]) for i in range(len(data))]                                   # Appends index1-th element of i-th element of data to empty list X with list comprehension.\n",
    "        [U.append(data[i][3]) for i in range(len(data))]  \n",
    "        [V.append(data[i][4]) for i in range(len(data))]\n",
    "\n",
    "        cool = zip(X, Y, Z, U, V)\n",
    "        print 'Flight\\t\\tDestination\\t\\tGate\\tTime\\n-------------------------------------------------------'\n",
    "        for A, B, C, D, E in cool:\n",
    "            print '{:9s} {:4d}\\t{:17s}\\t{:2d}\\t{:4.1f}'.format(A, B, airports[C], D, E)\n",
    "\n",
    "airports = \\\n",
    "{\"DCA\": \"Washington, D.C.\", \"IAD\": \"Dulles\", \\\n",
    "\"LHR\": \"London-Heathrow\", \"SVO\": \"Moscow\", \\\n",
    "\"CDA\": \"Chicago-Midway\", \"SBA\": \"Santa Barbara\", \\\n",
    "\"LAX\": \"Los Angeles\",\"JFK\": \"New York City\", \\\n",
    "\"MIA\": \"Miami\", \"AUM\": \"Austin, Minnesota\"}\n",
    "\n",
    "# airline, number, heading to, gate, time (decimal hours)\n",
    "flights = \\\n",
    "[(\"Southwest\",145,\"DCA\",1,6.00),\\\n",
    "(\"United\",31,\"IAD\",1,7.1),(\"United\",302,\"LHR\",5,6.5),\\\n",
    "(\"Aeroflot\",34,\"SVO\",5,9.00),(\"Southwest\",146,\"CDA\",1,9.60),\\\n",
    "(\"United\",46,\"LAX\",5,6.5), (\"Southwest\",23,\"SBA\",6,12.5),\\\n",
    "(\"United\",2,\"LAX\",10,12.5),(\"Southwest\",59,\"LAX\",11,14.5),\\\n",
    "(\"American\", 1,\"JFK\",12,11.3),(\"USAirways\", 8,\"MIA\",20,13.1),\\\n",
    "(\"United\",2032,\"MIA\",21,15.1),(\"SpamAir\",1,\"AUM\",42,14.4)]\n",
    "\n",
    "flight = Airline(flights)\n",
    "sorted_Airlines = flight.SortbyAirline()\n",
    "\n",
    "# X = []\n",
    "# Y = []\n",
    "# Z = []\n",
    "# U = []\n",
    "# V = []\n",
    "\n",
    "# [X.append(sorted_Airlines[i][0]) for i in range(len(sorted_Airlines))]                                   # Appends index1-th element of i-th element of data to empty list X with list comprehension.\n",
    "# [Y.append(sorted_Airlines[i][1]) for i in range(len(sorted_Airlines))]\n",
    "# [Z.append(sorted_Airlines[i][2]) for i in range(len(sorted_Airlines))]                                   # Appends index1-th element of i-th element of data to empty list X with list comprehension.\n",
    "# [U.append(sorted_Airlines[i][3]) for i in range(len(sorted_Airlines))]  \n",
    "# [V.append(sorted_Airlines[i][4]) for i in range(len(sorted_Airlines))]\n",
    "\n",
    "# cool = zip(X, Y, Z, U, V)\n",
    "# print 'Flight\\t\\tDestination\\t\\tGate\\tTime\\n\\\n",
    "# -------------------------------------------------------'\n",
    "# for A, B, C, D, E in cool:\n",
    "#     print '{:9s} {:4d}\\t{:17s}\\t{:2d}\\t{:4.1f}'.format(A, B, airports[C], D, E)"
   ]
  },
  {
   "cell_type": "code",
   "execution_count": 91,
   "metadata": {
    "collapsed": false
   },
   "outputs": [
    {
     "name": "stdout",
     "output_type": "stream",
     "text": [
      "Washington, D.C.\n"
     ]
    }
   ],
   "source": [
    "airports = \\\n",
    "{\"DCA\": \"Washington, D.C.\", \"IAD\": \"Dulles\", \\\n",
    "\"LHR\": \"London-Heathrow\", \"SVO\": \"Moscow\", \\\n",
    "\"CDA\": \"Chicago-Midway\", \"SBA\": \"Santa Barbara\", \\\n",
    "\"LAX\": \"Los Angeles\",\"JFK\": \"New York City\", \\\n",
    "\"MIA\": \"Miami\", \"AUM\": \"Austin, Minnesota\"}\n",
    "\n",
    "print airports[\"DCA\"]"
   ]
  },
  {
   "cell_type": "code",
   "execution_count": null,
   "metadata": {
    "collapsed": true
   },
   "outputs": [],
   "source": []
  }
 ],
 "metadata": {
  "kernelspec": {
   "display_name": "Python 2",
   "language": "python",
   "name": "python2"
  },
  "language_info": {
   "codemirror_mode": {
    "name": "ipython",
    "version": 2
   },
   "file_extension": ".py",
   "mimetype": "text/x-python",
   "name": "python",
   "nbconvert_exporter": "python",
   "pygments_lexer": "ipython2",
   "version": "2.7.9"
  }
 },
 "nbformat": 4,
 "nbformat_minor": 0
}

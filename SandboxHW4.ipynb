{
 "cells": [
  {
   "cell_type": "markdown",
   "metadata": {},
   "source": [
    "# Part I"
   ]
  },
  {
   "cell_type": "code",
   "execution_count": 70,
   "metadata": {
    "collapsed": false
   },
   "outputs": [
    {
     "name": "stdout",
     "output_type": "stream",
     "text": [
      "Flight\t\tDestination\t\tGate\tTime\n",
      "-------------------------------------------------------\n",
      "Aeroflot  34  \tMoscow           \t5 \t9.0 \n",
      "American  1   \tNew York City    \t12\t11.3\n",
      "Southwest 23  \tSanta Barbara    \t6 \t12.5\n",
      "Southwest 59  \tLos Angeles      \t11\t14.5\n",
      "Southwest 145 \tWashington, D.C. \t1 \t6.0 \n",
      "Southwest 146 \tChicago-Midway   \t1 \t9.6 \n",
      "SpamAir   1   \tAustin, Minnesota\t42\t14.4\n",
      "USAirways 8   \tMiami            \t20\t13.1\n",
      "United    2   \tLos Angeles      \t10\t12.5\n",
      "United    31  \tDulles           \t1 \t7.1 \n",
      "United    46  \tLos Angeles      \t5 \t6.5 \n",
      "United    302 \tLondon-Heathrow  \t5 \t6.5 \n",
      "United    2032\tMiami            \t21\t15.1\n",
      "\n",
      "Flight\t\tDestination\t\tGate\tTime\n",
      "-------------------------------------------------------\n",
      "Southwest 145 \tWashington, D.C. \t1 \t6.0 \n",
      "United    302 \tLondon-Heathrow  \t5 \t6.5 \n",
      "United    46  \tLos Angeles      \t5 \t6.5 \n",
      "United    31  \tDulles           \t1 \t7.1 \n",
      "Aeroflot  34  \tMoscow           \t5 \t9.0 \n",
      "Southwest 146 \tChicago-Midway   \t1 \t9.6 \n",
      "American  1   \tNew York City    \t12\t11.3\n",
      "Southwest 23  \tSanta Barbara    \t6 \t12.5\n",
      "United    2   \tLos Angeles      \t10\t12.5\n",
      "USAirways 8   \tMiami            \t20\t13.1\n",
      "SpamAir   1   \tAustin, Minnesota\t42\t14.4\n",
      "Southwest 59  \tLos Angeles      \t11\t14.5\n",
      "United    2032\tMiami            \t21\t15.1\n",
      "\n"
     ]
    }
   ],
   "source": [
    "import pprint as pp\n",
    "\n",
    "class Airline:\n",
    "    def __init__(self, flight):\n",
    "        self.flight = flight\n",
    "        \n",
    "    def SortbyAirline(self):\n",
    "        data_al = sorted(self.flight, key = lambda airline:airline[0:2])\n",
    "        X = []\n",
    "        Y = []\n",
    "        Z = []\n",
    "        U = []\n",
    "        V = []\n",
    "\n",
    "        [X.append(data_al[i][0]) for i in range(len(data_al))]                                   # Appends index1-th element of i-th element of data to empty list X with list comprehension.\n",
    "        [Y.append(data_al[i][1]) for i in range(len(data_al))]\n",
    "        [Z.append(data_al[i][2]) for i in range(len(data_al))]                                   # Appends index1-th element of i-th element of data to empty list X with list comprehension.\n",
    "        [U.append(data_al[i][3]) for i in range(len(data_al))]  \n",
    "        [V.append(data_al[i][4]) for i in range(len(data_al))]\n",
    "\n",
    "        cool = zip(X, Y, Z, U, V)\n",
    "        print 'Flight\\t\\tDestination\\t\\tGate\\tTime\\n-------------------------------------------------------'\n",
    "        for A, B, C, D, E in cool:\n",
    "            print '{:<9s} {:<4d}\\t{:<17s}\\t{:<2d}\\t{:<4.1f}'.format(A, B, airports[C], D, E)\n",
    "        print\n",
    "            \n",
    "    def SortbyTime1(self):\n",
    "        \n",
    "        return\n",
    "    \n",
    "    def SortbyTime2(self):\n",
    "        data_t = sorted(self.flight, key = lambda time:time[4])\n",
    "        A = []\n",
    "        B = []\n",
    "        C = []\n",
    "        D = []\n",
    "        E = []\n",
    "\n",
    "        [A.append(data_t[i][0]) for i in range(len(data_t))]                                   # Appends index1-th element of i-th element of data to empty list X with list comprehension.\n",
    "        [B.append(data_t[i][1]) for i in range(len(data_t))]\n",
    "        [C.append(data_t[i][2]) for i in range(len(data_t))]                                   # Appends index1-th element of i-th element of data to empty list X with list comprehension.\n",
    "        [D.append(data_t[i][3]) for i in range(len(data_t))]  \n",
    "        [E.append(data_t[i][4]) for i in range(len(data_t))]\n",
    "\n",
    "        stuff = zip(A, B, C, D, E)\n",
    "        print 'Flight\\t\\tDestination\\t\\tGate\\tTime\\n-------------------------------------------------------'\n",
    "        for A, B, C, D, E in stuff:\n",
    "            print '{:<9s} {:<4d}\\t{:<17s}\\t{:<2d}\\t{:<4.1f}'.format(A, B, airports[C], D, E)\n",
    "        print\n",
    "        \n",
    "airports = \\\n",
    "{\"DCA\": \"Washington, D.C.\", \"IAD\": \"Dulles\", \\\n",
    "\"LHR\": \"London-Heathrow\", \"SVO\": \"Moscow\", \\\n",
    "\"CDA\": \"Chicago-Midway\", \"SBA\": \"Santa Barbara\", \\\n",
    "\"LAX\": \"Los Angeles\",\"JFK\": \"New York City\", \\\n",
    "\"MIA\": \"Miami\", \"AUM\": \"Austin, Minnesota\"}\n",
    "\n",
    "# airline, number, heading to, gate, time (decimal hours)\n",
    "flights = \\\n",
    "[(\"Southwest\",145,\"DCA\",1,6.00),\\\n",
    "(\"United\",31,\"IAD\",1,7.1),(\"United\",302,\"LHR\",5,6.5),\\\n",
    "(\"Aeroflot\",34,\"SVO\",5,9.00),(\"Southwest\",146,\"CDA\",1,9.60),\\\n",
    "(\"United\",46,\"LAX\",5,6.5), (\"Southwest\",23,\"SBA\",6,12.5),\\\n",
    "(\"United\",2,\"LAX\",10,12.5),(\"Southwest\",59,\"LAX\",11,14.5),\\\n",
    "(\"American\", 1,\"JFK\",12,11.3),(\"USAirways\", 8,\"MIA\",20,13.1),\\\n",
    "(\"United\",2032,\"MIA\",21,15.1),(\"SpamAir\",1,\"AUM\",42,14.4)]\n",
    "\n",
    "flight = Airline(flights)\n",
    "sorted_Airlines = flight.SortbyAirline()\n",
    "sorted_time = flight.SortbyTime2()\n",
    "\n",
    "# X = []\n",
    "# Y = []\n",
    "# Z = []\n",
    "# U = []\n",
    "# V = []\n",
    "\n",
    "# [X.append(sorted_Airlines[i][0]) for i in range(len(sorted_Airlines))]                                   # Appends index1-th element of i-th element of data to empty list X with list comprehension.\n",
    "# [Y.append(sorted_Airlines[i][1]) for i in range(len(sorted_Airlines))]\n",
    "# [Z.append(sorted_Airlines[i][2]) for i in range(len(sorted_Airlines))]                                   # Appends index1-th element of i-th element of data to empty list X with list comprehension.\n",
    "# [U.append(sorted_Airlines[i][3]) for i in range(len(sorted_Airlines))]  \n",
    "# [V.append(sorted_Airlines[i][4]) for i in range(len(sorted_Airlines))]\n",
    "\n",
    "# cool = zip(X, Y, Z, U, V)\n",
    "# print 'Flight\\t\\tDestination\\t\\tGate\\tTime\\n\\\n",
    "# -------------------------------------------------------'\n",
    "# for A, B, C, D, E in cool:\n",
    "#     print '{:9s} {:4d}\\t{:17s}\\t{:2d}\\t{:4.1f}'.format(A, B, airports[C], D, E)"
   ]
  },
  {
   "cell_type": "code",
   "execution_count": 91,
   "metadata": {
    "collapsed": false
   },
   "outputs": [
    {
     "name": "stdout",
     "output_type": "stream",
     "text": [
      "Washington, D.C.\n"
     ]
    }
   ],
   "source": [
    "airports = \\\n",
    "{\"DCA\": \"Washington, D.C.\", \"IAD\": \"Dulles\", \\\n",
    "\"LHR\": \"London-Heathrow\", \"SVO\": \"Moscow\", \\\n",
    "\"CDA\": \"Chicago-Midway\", \"SBA\": \"Santa Barbara\", \\\n",
    "\"LAX\": \"Los Angeles\",\"JFK\": \"New York City\", \\\n",
    "\"MIA\": \"Miami\", \"AUM\": \"Austin, Minnesota\"}\n",
    "\n",
    "print airports[\"DCA\"]"
   ]
  },
  {
   "cell_type": "code",
   "execution_count": 23,
   "metadata": {
    "collapsed": false
   },
   "outputs": [
    {
     "name": "stdout",
     "output_type": "stream",
     "text": [
      "[('Aeroflot', 34, 'SVO', 5, 9.0),\n",
      " ('American', 1, 'JFK', 12, 11.3),\n",
      " ('Southwest', 23, 'SBA', 6, 12.5),\n",
      " ('Southwest', 59, 'LAX', 11, 14.5),\n",
      " ('Southwest', 145, 'DCA', 1, 6.0),\n",
      " ('Southwest', 146, 'CDA', 1, 9.6),\n",
      " ('SpamAir', 1, 'AUM', 42, 14.4),\n",
      " ('USAirways', 8, 'MIA', 20, 13.1),\n",
      " ('United', 2, 'LAX', 10, 12.5),\n",
      " ('United', 31, 'IAD', 1, 7.1),\n",
      " ('United', 46, 'LAX', 5, 6.5),\n",
      " ('United', 302, 'LHR', 5, 6.5),\n",
      " ('United', 2032, 'MIA', 21, 15.1)]\n"
     ]
    },
    {
     "ename": "TypeError",
     "evalue": "'float' object is not iterable",
     "output_type": "error",
     "traceback": [
      "\u001b[1;31m---------------------------------------------------------------------------\u001b[0m",
      "\u001b[1;31mTypeError\u001b[0m                                 Traceback (most recent call last)",
      "\u001b[1;32m<ipython-input-23-c9b2d996625c>\u001b[0m in \u001b[0;36m<module>\u001b[1;34m()\u001b[0m\n\u001b[0;32m      7\u001b[0m \u001b[1;33m\u001b[0m\u001b[0m\n\u001b[0;32m      8\u001b[0m \u001b[0mpprint\u001b[0m\u001b[1;33m.\u001b[0m\u001b[0mpprint\u001b[0m\u001b[1;33m(\u001b[0m\u001b[0msorted\u001b[0m\u001b[1;33m(\u001b[0m\u001b[0mflights\u001b[0m\u001b[1;33m)\u001b[0m\u001b[1;33m)\u001b[0m\u001b[1;33m\u001b[0m\u001b[0m\n\u001b[1;32m----> 9\u001b[1;33m \u001b[1;32mprint\u001b[0m \u001b[0msorted\u001b[0m\u001b[1;33m(\u001b[0m\u001b[0mflights\u001b[0m\u001b[1;33m[\u001b[0m\u001b[1;36m0\u001b[0m\u001b[1;33m]\u001b[0m\u001b[1;33m[\u001b[0m\u001b[1;36m4\u001b[0m\u001b[1;33m]\u001b[0m\u001b[1;33m)\u001b[0m\u001b[1;33m\u001b[0m\u001b[0m\n\u001b[0m\u001b[0;32m     10\u001b[0m \u001b[1;33m\u001b[0m\u001b[0m\n",
      "\u001b[1;31mTypeError\u001b[0m: 'float' object is not iterable"
     ]
    }
   ],
   "source": [
    "import pprint\n",
    "\n",
    "airports = \\\n",
    "{\"DCA\": \"Washington, D.C.\", \"IAD\": \"Dulles\", \\\n",
    "\"LHR\": \"London-Heathrow\", \"SVO\": \"Moscow\", \\\n",
    "\"CDA\": \"Chicago-Midway\", \"SBA\": \"Santa Barbara\", \\\n",
    "\"LAX\": \"Los Angeles\",\"JFK\": \"New York City\", \\\n",
    "\"MIA\": \"Miami\", \"AUM\": \"Austin, Minnesota\"}\n",
    "\n",
    "# airline, number, heading to, gate, time (decimal hours)\n",
    "flights = \\\n",
    "[(\"Southwest\",145,\"DCA\",1,6.00),\\\n",
    "(\"United\",31,\"IAD\",1,7.1),(\"United\",302,\"LHR\",5,6.5),\\\n",
    "(\"Aeroflot\",34,\"SVO\",5,9.00),(\"Southwest\",146,\"CDA\",1,9.60),\\\n",
    "(\"United\",46,\"LAX\",5,6.5), (\"Southwest\",23,\"SBA\",6,12.5),\\\n",
    "(\"United\",2,\"LAX\",10,12.5),(\"Southwest\",59,\"LAX\",11,14.5),\\\n",
    "(\"American\", 1,\"JFK\",12,11.3),(\"USAirways\", 8,\"MIA\",20,13.1),\\\n",
    "(\"United\",2032,\"MIA\",21,15.1),(\"SpamAir\",1,\"AUM\",42,14.4)]\n",
    "\n",
    "pprint.pprint(sorted(flights))\n",
    "    "
   ]
  },
  {
   "cell_type": "markdown",
   "metadata": {},
   "source": [
    "# Part II"
   ]
  },
  {
   "cell_type": "code",
   "execution_count": 77,
   "metadata": {
    "collapsed": false
   },
   "outputs": [
    {
     "name": "stdout",
     "output_type": "stream",
     "text": [
      "A male whale named Splash is born!\n"
     ]
    },
    {
     "ename": "TypeError",
     "evalue": "unsupported operand type(s) for -: 'datetime.datetime' and 'builtin_function_or_method'",
     "output_type": "error",
     "traceback": [
      "\u001b[1;31m---------------------------------------------------------------------------\u001b[0m",
      "\u001b[1;31mTypeError\u001b[0m                                 Traceback (most recent call last)",
      "\u001b[1;32m<ipython-input-77-a0b668ffbefc>\u001b[0m in \u001b[0;36m<module>\u001b[1;34m()\u001b[0m\n\u001b[0;32m     21\u001b[0m \u001b[1;33m\u001b[0m\u001b[0m\n\u001b[0;32m     22\u001b[0m \u001b[0mw\u001b[0m \u001b[1;33m=\u001b[0m \u001b[0mWhale\u001b[0m\u001b[1;33m(\u001b[0m\u001b[1;34m'Splash'\u001b[0m\u001b[1;33m,\u001b[0m \u001b[1;34m'M'\u001b[0m\u001b[1;33m)\u001b[0m\u001b[1;33m\u001b[0m\u001b[0m\n\u001b[1;32m---> 23\u001b[1;33m \u001b[0mw\u001b[0m\u001b[1;33m.\u001b[0m\u001b[0mwhaleage\u001b[0m\u001b[1;33m(\u001b[0m\u001b[1;33m)\u001b[0m\u001b[1;33m\u001b[0m\u001b[0m\n\u001b[0m",
      "\u001b[1;32m<ipython-input-77-a0b668ffbefc>\u001b[0m in \u001b[0;36mwhaleage\u001b[1;34m(self)\u001b[0m\n\u001b[0;32m     14\u001b[0m \u001b[1;33m\u001b[0m\u001b[0m\n\u001b[0;32m     15\u001b[0m     \u001b[1;32mdef\u001b[0m \u001b[0mwhaleage\u001b[0m\u001b[1;33m(\u001b[0m\u001b[0mself\u001b[0m\u001b[1;33m)\u001b[0m\u001b[1;33m:\u001b[0m\u001b[1;33m\u001b[0m\u001b[0m\n\u001b[1;32m---> 16\u001b[1;33m         \u001b[0mage\u001b[0m \u001b[1;33m=\u001b[0m \u001b[0mHowOld\u001b[0m\u001b[1;33m(\u001b[0m\u001b[0mself\u001b[0m\u001b[1;33m.\u001b[0m\u001b[0mtb\u001b[0m\u001b[1;33m)\u001b[0m\u001b[1;33m\u001b[0m\u001b[0m\n\u001b[0m\u001b[0;32m     17\u001b[0m         \u001b[1;32mreturn\u001b[0m \u001b[0mself\u001b[0m\u001b[1;33m.\u001b[0m\u001b[0mage\u001b[0m\u001b[1;33m\u001b[0m\u001b[0m\n\u001b[0;32m     18\u001b[0m \u001b[1;33m\u001b[0m\u001b[0m\n",
      "\u001b[1;32m<ipython-input-77-a0b668ffbefc>\u001b[0m in \u001b[0;36mHowOld\u001b[1;34m(x)\u001b[0m\n\u001b[0;32m      3\u001b[0m \u001b[1;33m\u001b[0m\u001b[0m\n\u001b[0;32m      4\u001b[0m \u001b[1;32mdef\u001b[0m \u001b[0mHowOld\u001b[0m\u001b[1;33m(\u001b[0m\u001b[0mx\u001b[0m\u001b[1;33m)\u001b[0m\u001b[1;33m:\u001b[0m\u001b[1;33m\u001b[0m\u001b[0m\n\u001b[1;32m----> 5\u001b[1;33m     \u001b[1;32mreturn\u001b[0m \u001b[0mx\u001b[0m \u001b[1;33m-\u001b[0m \u001b[0mdatetime\u001b[0m\u001b[1;33m.\u001b[0m\u001b[0mdatetime\u001b[0m\u001b[1;33m.\u001b[0m\u001b[0mnow\u001b[0m\u001b[1;33m\u001b[0m\u001b[0m\n\u001b[0m\u001b[0;32m      6\u001b[0m \u001b[1;33m\u001b[0m\u001b[0m\n\u001b[0;32m      7\u001b[0m \u001b[1;33m\u001b[0m\u001b[0m\n",
      "\u001b[1;31mTypeError\u001b[0m: unsupported operand type(s) for -: 'datetime.datetime' and 'builtin_function_or_method'"
     ]
    }
   ],
   "source": [
    "import datetime\n",
    "\n",
    "\n",
    "def HowOld(x):\n",
    "    return x - datetime.datetime.now\n",
    "\n",
    "\n",
    "class Whale:\n",
    "    def __init__(self, name, sex, age=0):\n",
    "        print 'A male whale named Splash is born!'\n",
    "        self.name = name\n",
    "        self.sex = sex\n",
    "        self.age = age\n",
    "        \n",
    "    def whaleage(self):\n",
    "        \n",
    "    \n",
    "    def __str__(self):\n",
    "        return 'A whale named {:} ({:})'.format(self.name, datetime.datetime)\n",
    "        \n",
    "w = Whale('Splash', 'M')\n",
    "w.whaleage()"
   ]
  },
  {
   "cell_type": "code",
   "execution_count": 73,
   "metadata": {
    "collapsed": false
   },
   "outputs": [
    {
     "name": "stdout",
     "output_type": "stream",
     "text": [
      "0:00:00\n"
     ]
    }
   ],
   "source": [
    "import datetime\n",
    "import copy\n",
    "\n",
    "timenow = datetime.datetime.now()\n",
    "timethen = datetime.datetime.now()\n",
    "\n"
   ]
  },
  {
   "cell_type": "code",
   "execution_count": null,
   "metadata": {
    "collapsed": true
   },
   "outputs": [],
   "source": []
  }
 ],
 "metadata": {
  "kernelspec": {
   "display_name": "Python 2",
   "language": "python",
   "name": "python2"
  },
  "language_info": {
   "codemirror_mode": {
    "name": "ipython",
    "version": 2
   },
   "file_extension": ".py",
   "mimetype": "text/x-python",
   "name": "python",
   "nbconvert_exporter": "python",
   "pygments_lexer": "ipython2",
   "version": "2.7.9"
  }
 },
 "nbformat": 4,
 "nbformat_minor": 0
}

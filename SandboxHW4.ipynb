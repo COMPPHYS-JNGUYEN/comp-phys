{
 "cells": [
  {
   "cell_type": "markdown",
   "metadata": {},
   "source": [
    "# Part I"
   ]
  },
  {
   "cell_type": "code",
   "execution_count": null,
   "metadata": {
    "collapsed": false
   },
   "outputs": [],
   "source": [
    "import pprint as pp\n",
    "\n",
    "class Airline:\n",
    "    def __init__(self, flight):\n",
    "        self.flight = flight\n",
    "        \n",
    "    def SortbyAirline(self):\n",
    "        data_al = sorted(self.flight, key = lambda airline:airline[0:2])\n",
    "        X = []\n",
    "        Y = []\n",
    "        Z = []\n",
    "        U = []\n",
    "        V = []\n",
    "\n",
    "        [X.append(data_al[i][0]) for i in range(len(data_al))]                                   # Appends index1-th element of i-th element of data to empty list X with list comprehension.\n",
    "        [Y.append(data_al[i][1]) for i in range(len(data_al))]\n",
    "        [Z.append(data_al[i][2]) for i in range(len(data_al))]                                   # Appends index1-th element of i-th element of data to empty list X with list comprehension.\n",
    "        [U.append(data_al[i][3]) for i in range(len(data_al))]  \n",
    "        [V.append(data_al[i][4]) for i in range(len(data_al))]\n",
    "\n",
    "        cool = zip(X, Y, Z, U, V)\n",
    "        print 'Flight\\t\\tDestination\\t\\tGate\\tTime\\n-------------------------------------------------------'\n",
    "        for A, B, C, D, E in cool:\n",
    "            print '{:<9s} {:<4d}\\t{:<17s}\\t{:<2d}\\t{:<4.1f}'.format(A, B, airports[C], D, E)\n",
    "        print\n",
    "            \n",
    "    def SortbyTime1(self):\n",
    "        newflights = []\n",
    "        for tup in self.flight:\n",
    "            x = list(tup)\n",
    "            x.insert(0, x[4])\n",
    "            newflights.append(x)\n",
    "        newflights2 = sorted(newflights)\n",
    "        print 'Flight\\t\\tDestination\\t\\tGate\\tTime\\n-------------------------------------------------------'\n",
    "        for elem in newflights2:\n",
    "            print '{:<9s} {:<4d}\\t{:<17s}\\t{:<2d}\\t{:<4.1f}'.format(elem[1], elem[2], airports[elem[3]], elem[4], elem[5])\n",
    "        print\n",
    "    \n",
    "    def SortbyTime2(self):\n",
    "        data_t = sorted(self.flight, key = lambda time:time[4])\n",
    "        A = []\n",
    "        B = []\n",
    "        C = []\n",
    "        D = []\n",
    "        E = []\n",
    "\n",
    "        [A.append(data_t[i][0]) for i in range(len(data_t))]                                   # Appends index1-th element of i-th element of data to empty list X with list comprehension.\n",
    "        [B.append(data_t[i][1]) for i in range(len(data_t))]\n",
    "        [C.append(data_t[i][2]) for i in range(len(data_t))]                                   # Appends index1-th element of i-th element of data to empty list X with list comprehension.\n",
    "        [D.append(data_t[i][3]) for i in range(len(data_t))]  \n",
    "        [E.append(data_t[i][4]) for i in range(len(data_t))]\n",
    "\n",
    "        stuff = zip(A, B, C, D, E)\n",
    "        print 'Flight\\t\\tDestination\\t\\tGate\\tTime\\n-------------------------------------------------------'\n",
    "        for A, B, C, D, E in stuff:\n",
    "            print '{:<9s} {:<4d}\\t{:<17s}\\t{:<2d}\\t{:<4.1f}'.format(A, B, airports[C], D, E)\n",
    "        print\n",
    "        \n",
    "airports = \\\n",
    "{\"DCA\": \"Washington, D.C.\", \"IAD\": \"Dulles\", \\\n",
    "\"LHR\": \"London-Heathrow\", \"SVO\": \"Moscow\", \\\n",
    "\"CDA\": \"Chicago-Midway\", \"SBA\": \"Santa Barbara\", \\\n",
    "\"LAX\": \"Los Angeles\",\"JFK\": \"New York City\", \\\n",
    "\"MIA\": \"Miami\", \"AUM\": \"Austin, Minnesota\"}\n",
    "\n",
    "# airline, number, heading to, gate, time (decimal hours)\n",
    "flights = \\\n",
    "[(\"Southwest\",145,\"DCA\",1,6.00),\\\n",
    "(\"United\",31,\"IAD\",1,7.1),(\"United\",302,\"LHR\",5,6.5),\\\n",
    "(\"Aeroflot\",34,\"SVO\",5,9.00),(\"Southwest\",146,\"CDA\",1,9.60),\\\n",
    "(\"United\",46,\"LAX\",5,6.5), (\"Southwest\",23,\"SBA\",6,12.5),\\\n",
    "(\"United\",2,\"LAX\",10,12.5),(\"Southwest\",59,\"LAX\",11,14.5),\\\n",
    "(\"American\", 1,\"JFK\",12,11.3),(\"USAirways\", 8,\"MIA\",20,13.1),\\\n",
    "(\"United\",2032,\"MIA\",21,15.1),(\"SpamAir\",1,\"AUM\",42,14.4)]\n",
    "\n",
    "flight = Airline(flights)\n",
    "sorted_Airlines = flight.SortbyAirline()\n",
    "sorted_time = flight.SortbyTime1()\n",
    "sorted_time2 = flight.SortbyTime2()"
   ]
  },
  {
   "cell_type": "code",
   "execution_count": null,
   "metadata": {
    "collapsed": false
   },
   "outputs": [],
   "source": [
    "airports = \\\n",
    "{\"DCA\": \"Washington, D.C.\", \"IAD\": \"Dulles\", \\\n",
    "\"LHR\": \"London-Heathrow\", \"SVO\": \"Moscow\", \\\n",
    "\"CDA\": \"Chicago-Midway\", \"SBA\": \"Santa Barbara\", \\\n",
    "\"LAX\": \"Los Angeles\",\"JFK\": \"New York City\", \\\n",
    "\"MIA\": \"Miami\", \"AUM\": \"Austin, Minnesota\"}\n",
    "\n",
    "print airports[\"DCA\"]"
   ]
  },
  {
   "cell_type": "code",
   "execution_count": null,
   "metadata": {
    "collapsed": false
   },
   "outputs": [],
   "source": [
    "import pprint\n",
    "\n",
    "airports = \\\n",
    "{\"DCA\": \"Washington, D.C.\", \"IAD\": \"Dulles\", \\\n",
    "\"LHR\": \"London-Heathrow\", \"SVO\": \"Moscow\", \\\n",
    "\"CDA\": \"Chicago-Midway\", \"SBA\": \"Santa Barbara\", \\\n",
    "\"LAX\": \"Los Angeles\",\"JFK\": \"New York City\", \\\n",
    "\"MIA\": \"Miami\", \"AUM\": \"Austin, Minnesota\"}\n",
    "\n",
    "# airline, number, heading to, gate, time (decimal hours)\n",
    "flights = \\\n",
    "[(\"Southwest\",145,\"DCA\",1,6.00),\\\n",
    "(\"United\",31,\"IAD\",1,7.1),(\"United\",302,\"LHR\",5,6.5),\\\n",
    "(\"Aeroflot\",34,\"SVO\",5,9.00),(\"Southwest\",146,\"CDA\",1,9.60),\\\n",
    "(\"United\",46,\"LAX\",5,6.5), (\"Southwest\",23,\"SBA\",6,12.5),\\\n",
    "(\"United\",2,\"LAX\",10,12.5),(\"Southwest\",59,\"LAX\",11,14.5),\\\n",
    "(\"American\", 1,\"JFK\",12,11.3),(\"USAirways\", 8,\"MIA\",20,13.1),\\\n",
    "(\"United\",2032,\"MIA\",21,15.1),(\"SpamAir\",1,\"AUM\",42,14.4)]\n",
    "\n",
    "pprint.pprint(sorted(flights))\n",
    "    "
   ]
  },
  {
   "cell_type": "markdown",
   "metadata": {},
   "source": [
    "# Part II"
   ]
  },
  {
   "cell_type": "code",
   "execution_count": 387,
   "metadata": {
    "collapsed": false,
    "scrolled": true
   },
   "outputs": [
    {
     "name": "stdout",
     "output_type": "stream",
     "text": [
      "A male whale named Charmander is born!\n",
      "A female whale named Squirtle is born!\n",
      "A female whale named Bulbasaur is born!\n",
      "A female whale named Ekans is born!\n",
      "A female whale named Diglet is born!\n",
      "A female whale named Dodrio is born!\n",
      "A female whale named Abra is born!\n",
      "A female whale named Alakazam is born!\n",
      "A male whale named Snorlax is born!\n",
      "A female whale named Dugdrio is born!\n",
      "A male whale named Chansey is born!\n",
      "A female whale named Clefairy is born!\n",
      "A female whale named Arbok is born!\n",
      "A female whale named Charmelion is born!\n",
      "A male whale named Wartortle is born!\n",
      "A male whale named Ivysaur is born!\n",
      "A female whale named Charizard is born!\n",
      "A female whale named Blastoise is born!\n",
      "A female whale named Pikachu is born!\n",
      "A male whale named Raichu is born!\n"
     ]
    }
   ],
   "source": [
    "import datetime as dt\n",
    "import random\n",
    "\n",
    "\n",
    "class Whale:\n",
    "    def __init__(self, name, sex):\n",
    "        self.name = name\n",
    "        self.sex = sex\n",
    "        self.born = dt.datetime.now()\n",
    "        print 'A {:s} whale named {:s} is born!'.format(self.sex, self.name)\n",
    "              \n",
    "    def age(self):\n",
    "        self.whaleage = dt.datetime.now() - self.born\n",
    "        return self.whaleage\n",
    "    \n",
    "    def sing(self):\n",
    "        return 5*'\\a'\n",
    "    \n",
    "    def __str__(self):\n",
    "        return 'A whale named {:s} (age {:s})'.format(self.name, self.age())\n",
    "\n",
    "        \n",
    "lst = ['Charmander', 'Squirtle', 'Bulbasaur', 'Ekans', 'Diglet', 'Dodrio', 'Abra', 'Alakazam', 'Snorlax', 'Dugdrio', 'Chansey', 'Clefairy', 'Arbok',\\\n",
    "      'Charmelion', 'Wartortle', 'Ivysaur', 'Charizard', 'Blastoise', 'Pikachu', 'Raichu']\n",
    "instance = []\n",
    "for i in lst:\n",
    "    instance.append(Whale(i, random.sample(['male', 'female'], 1)[0]))\n",
    "\n"
   ]
  },
  {
   "cell_type": "code",
   "execution_count": 388,
   "metadata": {
    "collapsed": false
   },
   "outputs": [
    {
     "name": "stdout",
     "output_type": "stream",
     "text": [
      "A whale named Squirtle (age 0:00:02.820000)\n"
     ]
    }
   ],
   "source": [
    "print instance[1]"
   ]
  },
  {
   "cell_type": "code",
   "execution_count": null,
   "metadata": {
    "collapsed": true
   },
   "outputs": [],
   "source": []
  }
 ],
 "metadata": {
  "kernelspec": {
   "display_name": "Python 2",
   "language": "python",
   "name": "python2"
  },
  "language_info": {
   "codemirror_mode": {
    "name": "ipython",
    "version": 2
   },
   "file_extension": ".py",
   "mimetype": "text/x-python",
   "name": "python",
   "nbconvert_exporter": "python",
   "pygments_lexer": "ipython2",
   "version": "2.7.9"
  }
 },
 "nbformat": 4,
 "nbformat_minor": 0
}

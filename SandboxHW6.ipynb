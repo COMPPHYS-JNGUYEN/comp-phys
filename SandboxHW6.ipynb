{
 "cells": [
  {
   "cell_type": "code",
   "execution_count": 6,
   "metadata": {
    "collapsed": false
   },
   "outputs": [
    {
     "name": "stdout",
     "output_type": "stream",
     "text": [
      "0\n"
     ]
    }
   ],
   "source": [
    "%matplotlib inline\n",
    "\n",
    "import matplotlib.pyplot as plt\n",
    "import numpy as np\n",
    "from scipy import signal\n",
    "from scipy.io.wavfile import write\n",
    "import copy\n",
    "import os\n",
    "\n",
    "class Tone:\n",
    "    def __init__(self, f=0, dur=0, sr=0, signal=0, orig_signal=0, overtones={}, OT_num=0):\n",
    "        self.f = f\n",
    "        self.dur = dur\n",
    "        self.sr = sr\n",
    "        self.signal = signal\n",
    "        self.orig_signal = orig_signal\n",
    "        self.overtones = overtones\n",
    "        self.OT_num = OT_num\n",
    "        \n",
    "    def get_tone(self, f, dur, play_sound=False):\n",
    "        self.f = f\n",
    "        self.dur = dur\n",
    "        self.sr = 44100\n",
    "        time_pts = np.linspace(0, self.dur, dur*self.sr)\n",
    "        amp = 2**10\n",
    "        self.signal = np.int16(amp*np.sin(np.pi*2*self.f*time_pts))\n",
    "        if play_sound == True:\n",
    "            self.playsound(outside_signal=self.signal)\n",
    "        return self.signal\n",
    "    \n",
    "    \n",
    "    \n",
    "    def playsound(self, outside_signal=None, sample_rate=44100, vol=0.05):\n",
    "        if outside_signal == None:\n",
    "            write('tmp.wav', self.sr, self.signal)\n",
    "            os.system(\"afplay tmp.wav\") \n",
    "            os.system(\"rm tmp.wav\") \n",
    "        else:\n",
    "            write('tmp.wav', self.sr, outside_signal)\n",
    "            os.system(\"afplay tmp.wav\") \n",
    "            os.system(\"rm tmp.wav\") \n",
    "        return\n",
    "        \n",
    "\n",
    "        \n",
    "        \n",
    "tones = Tone()\n",
    "print tones.f\n",
    "\n",
    "# def playsound(rate, sndarr):\n",
    "#     from scipy.io.wavfile import write\n",
    "#     import os\n",
    "#     write('tmp.wav', rate, sndarr)\n",
    "#     os.system(\"afplay tmp.wav\") \n",
    "#     os.system(\"rm tmp.wav\") \n",
    "#     return\n",
    "\n",
    "# def get_tone(f, duration, sample_rate=44100, amp=2**13, play_sound=False):\n",
    "#     time_pts = np.linspace(0, duration, duration*sample_rate)\n",
    "#     tone_data = np.int16(amp*np.sin(np.pi*2*f*time_pts))\n",
    "#     if play_sound == True:\n",
    "#         playsound(sample_rate, tone_data)\n",
    "#     return tone_data\n",
    "\n",
    "# def plot_fourier(sample_rate, signal, freq_lim=1000.):\n",
    "#     ft = np.fft.fft(signal)\n",
    "#     freq = np.fft.fftfreq(signal.shape[0], d = 1./sample_rate)\n",
    "\n",
    "#     plt.figure()\n",
    "#     plt.plot(freq, ft.real, 'b-')\n",
    "#     plt.xlim([-1000, 1000])\n",
    "#     plt.figure()\n",
    "#     plt.plot(freq, ft.imag, 'g-')\n",
    "#     plt.xlim([-1000, 1000])\n",
    "#     plt.show()\n",
    "\n",
    "#     return ft, freq"
   ]
  },
  {
   "cell_type": "code",
   "execution_count": 8,
   "metadata": {
    "collapsed": false
   },
   "outputs": [
    {
     "data": {
      "text/plain": [
       "{}"
      ]
     },
     "execution_count": 8,
     "metadata": {},
     "output_type": "execute_result"
    }
   ],
   "source": [
    "tones.overtones"
   ]
  },
  {
   "cell_type": "code",
   "execution_count": 27,
   "metadata": {
    "collapsed": false
   },
   "outputs": [
    {
     "name": "stdout",
     "output_type": "stream",
     "text": [
      "{'A': array([ 5,  3,  2,  1,  5, 61,  3])}\n",
      "<type 'numpy.ndarray'>\n"
     ]
    }
   ],
   "source": [
    "tones.overtones['A'] = np.array([5,3,2,1,5,61,3])\n",
    "print tones.overtones\n",
    "print type(tones.overtones['A'])\n"
   ]
  },
  {
   "cell_type": "code",
   "execution_count": 41,
   "metadata": {
    "collapsed": false
   },
   "outputs": [
    {
     "name": "stdout",
     "output_type": "stream",
     "text": [
      "Please enter weight for overtone 0: 5\n",
      "Please enter weight for overtone 1: 54\n",
      "Please enter weight for overtone 2: 5\n",
      "Please enter weight for overtone 3: 3\n"
     ]
    }
   ],
   "source": [
    "x = range(4)\n",
    "text = 'Please enter weight for overtone {:d}'.format(x[0])\n",
    "for elem in x:\n",
    "    x[elem] = int(raw_input(\"Please enter weight for overtone {:d}: \".format(elem)))"
   ]
  },
  {
   "cell_type": "code",
   "execution_count": 42,
   "metadata": {
    "collapsed": false
   },
   "outputs": [
    {
     "name": "stdout",
     "output_type": "stream",
     "text": [
      "[5, 54, 5, 3]\n"
     ]
    }
   ],
   "source": [
    "print x"
   ]
  }
 ],
 "metadata": {
  "kernelspec": {
   "display_name": "Python 2",
   "language": "python",
   "name": "python2"
  },
  "language_info": {
   "codemirror_mode": {
    "name": "ipython",
    "version": 2
   },
   "file_extension": ".py",
   "mimetype": "text/x-python",
   "name": "python",
   "nbconvert_exporter": "python",
   "pygments_lexer": "ipython2",
   "version": "2.7.9"
  }
 },
 "nbformat": 4,
 "nbformat_minor": 0
}

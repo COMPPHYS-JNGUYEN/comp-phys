{
 "cells": [
  {
   "cell_type": "code",
   "execution_count": 45,
   "metadata": {
    "collapsed": false
   },
   "outputs": [
    {
     "name": "stdout",
     "output_type": "stream",
     "text": [
      "0\n"
     ]
    }
   ],
   "source": [
    "%matplotlib inline\n",
    "\n",
    "import matplotlib.pyplot as plt\n",
    "import numpy as np\n",
    "from scipy import signal\n",
    "from scipy.io.wavfile import write\n",
    "import copy\n",
    "import os\n",
    "\n",
    "class Tone:\n",
    "    def __init__(self, f=0, dur=0, sr=0, signal=0,orig_signal=0, overtones={}, OT_num=0):\n",
    "        self.f = f\n",
    "        self.dur = dur\n",
    "        self.sr = sr\n",
    "        self.signal = signal\n",
    "        self.orig_signal = orig_signal\n",
    "        self.overtones = overtones\n",
    "        self.OT_num = OT_num\n",
    "        \n",
    "    def get_tone(self, f, dur, play_sound=False):\n",
    "        time_pts = np.linspace(0, dur, dur*self.sr)\n",
    "        self.f = f\n",
    "        amp = 2**10\n",
    "        tone_data = np.int16(amp*np.sin(np.pi*2*f*time_pts))\n",
    "        if play_sound == True:\n",
    "            playsound(outside_signal=tone_data)\n",
    "        return tone_data\n",
    "    \n",
    "    def playsound(self, outside_signal=None, sample_rate=44100, vol=0.05):\n",
    "        if outside_signal == None:\n",
    "            write('tmp.wav', sample_rate, self.signal)\n",
    "            os.system(\"afplay tmp.wav\") \n",
    "            os.system(\"rm tmp.wav\") \n",
    "        else:\n",
    "            write('tmp.wav', sample_rate, outside_signal)\n",
    "            os.system(\"afplay tmp.wav\") \n",
    "            os.system(\"rm tmp.wav\") \n",
    "        return\n",
    "        \n",
    "\n",
    "        \n",
    "        \n",
    "tones = Tone()\n",
    "print tones.f\n",
    "\n",
    "# def playsound(rate, sndarr):\n",
    "#     from scipy.io.wavfile import write\n",
    "#     import os\n",
    "#     write('tmp.wav', rate, sndarr)\n",
    "#     os.system(\"afplay tmp.wav\") \n",
    "#     os.system(\"rm tmp.wav\") \n",
    "#     return\n",
    "\n",
    "# def get_tone(f, duration, sample_rate=44100, amp=2**13, play_sound=False):\n",
    "#     time_pts = np.linspace(0, duration, duration*sample_rate)\n",
    "#     tone_data = np.int16(amp*np.sin(np.pi*2*f*time_pts))\n",
    "#     if play_sound == True:\n",
    "#         playsound(sample_rate, tone_data)\n",
    "#     return tone_data\n",
    "\n",
    "# def plot_fourier(sample_rate, signal, freq_lim=1000.):\n",
    "#     ft = np.fft.fft(signal)\n",
    "#     freq = np.fft.fftfreq(signal.shape[0], d = 1./sample_rate)\n",
    "\n",
    "#     plt.figure()\n",
    "#     plt.plot(freq, ft.real, 'b-')\n",
    "#     plt.xlim([-1000, 1000])\n",
    "#     plt.figure()\n",
    "#     plt.plot(freq, ft.imag, 'g-')\n",
    "#     plt.xlim([-1000, 1000])\n",
    "#     plt.show()\n",
    "\n",
    "#     return ft, freq"
   ]
  },
  {
   "cell_type": "code",
   "execution_count": 47,
   "metadata": {
    "collapsed": false
   },
   "outputs": [
    {
     "name": "stdout",
     "output_type": "stream",
     "text": [
      "0\n"
     ]
    },
    {
     "ename": "NameError",
     "evalue": "global name 'playsound' is not defined",
     "output_type": "error",
     "traceback": [
      "\u001b[1;31m---------------------------------------------------------------------------\u001b[0m",
      "\u001b[1;31mNameError\u001b[0m                                 Traceback (most recent call last)",
      "\u001b[1;32m<ipython-input-47-01bb6896a9cd>\u001b[0m in \u001b[0;36m<module>\u001b[1;34m()\u001b[0m\n\u001b[1;32m----> 1\u001b[1;33m \u001b[0mtoner\u001b[0m \u001b[1;33m=\u001b[0m \u001b[0mtones\u001b[0m\u001b[1;33m.\u001b[0m\u001b[0mget_tone\u001b[0m\u001b[1;33m(\u001b[0m\u001b[1;36m440\u001b[0m\u001b[1;33m,\u001b[0m \u001b[1;36m3\u001b[0m\u001b[1;33m,\u001b[0m \u001b[0mplay_sound\u001b[0m\u001b[1;33m=\u001b[0m\u001b[0mTrue\u001b[0m\u001b[1;33m)\u001b[0m\u001b[1;33m\u001b[0m\u001b[0m\n\u001b[0m\u001b[0;32m      2\u001b[0m \u001b[1;32mprint\u001b[0m \u001b[0mtoner\u001b[0m\u001b[1;33m\u001b[0m\u001b[0m\n",
      "\u001b[1;32m<ipython-input-45-db1d8b82831a>\u001b[0m in \u001b[0;36mget_tone\u001b[1;34m(self, f, dur, play_sound)\u001b[0m\n\u001b[0;32m     25\u001b[0m         \u001b[1;32mprint\u001b[0m \u001b[0mlen\u001b[0m\u001b[1;33m(\u001b[0m\u001b[0mtone_data\u001b[0m\u001b[1;33m)\u001b[0m\u001b[1;33m\u001b[0m\u001b[0m\n\u001b[0;32m     26\u001b[0m         \u001b[1;32mif\u001b[0m \u001b[0mplay_sound\u001b[0m \u001b[1;33m==\u001b[0m \u001b[0mTrue\u001b[0m\u001b[1;33m:\u001b[0m\u001b[1;33m\u001b[0m\u001b[0m\n\u001b[1;32m---> 27\u001b[1;33m             \u001b[0mplaysound\u001b[0m\u001b[1;33m(\u001b[0m\u001b[0moutside_signal\u001b[0m\u001b[1;33m=\u001b[0m\u001b[0mtone_data\u001b[0m\u001b[1;33m)\u001b[0m\u001b[1;33m\u001b[0m\u001b[0m\n\u001b[0m\u001b[0;32m     28\u001b[0m         \u001b[1;32mreturn\u001b[0m \u001b[0mtone_data\u001b[0m\u001b[1;33m\u001b[0m\u001b[0m\n\u001b[0;32m     29\u001b[0m \u001b[1;33m\u001b[0m\u001b[0m\n",
      "\u001b[1;31mNameError\u001b[0m: global name 'playsound' is not defined"
     ]
    }
   ],
   "source": [
    "toner = tones.get_tone(440, 3, play_sound=True)\n",
    "print toner"
   ]
  },
  {
   "cell_type": "code",
   "execution_count": null,
   "metadata": {
    "collapsed": true
   },
   "outputs": [],
   "source": []
  }
 ],
 "metadata": {
  "kernelspec": {
   "display_name": "Python 2",
   "language": "python",
   "name": "python2"
  },
  "language_info": {
   "codemirror_mode": {
    "name": "ipython",
    "version": 2
   },
   "file_extension": ".py",
   "mimetype": "text/x-python",
   "name": "python",
   "nbconvert_exporter": "python",
   "pygments_lexer": "ipython2",
   "version": "2.7.9"
  }
 },
 "nbformat": 4,
 "nbformat_minor": 0
}

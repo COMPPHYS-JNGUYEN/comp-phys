{
 "cells": [
  {
   "cell_type": "code",
   "execution_count": 7,
   "metadata": {
    "collapsed": false
   },
   "outputs": [
    {
     "name": "stdout",
     "output_type": "stream",
     "text": [
      "[]\n",
      "['A', 'B', 'C', 'D', 'E', 'F', 'G', 'H', 'I', 'J', 'K', 'L', 'M', 'N', 'O', 'P', 'Q', 'R', 'S', 'T', 'U', 'V', 'W', 'X', 'Y', 'Z', 'A', 'B', 'C', 'D', 'E', 'F', 'G', 'H', 'I', 'J', 'K', 'L', 'M', 'N', 'O', 'P', 'Q', 'R', 'S', 'T', 'U', 'V', 'W', 'X', 'Y', 'Z']\n"
     ]
    }
   ],
   "source": [
    "%matplotlib inline\n",
    "\n",
    "from scipy import signal\n",
    "from scipy import misc\n",
    "import matplotlib.pyplot as plt\n",
    "import matplotlib.image as mpimg\n",
    "import numpy as np\n",
    "from skimage import transform, data, io\n",
    "from scipy.interpolate import interp2d\n",
    "\n",
    "##################################################\n",
    "\n",
    "def make_let_im(let_file, dim=16, ylo=70, yhi=220, xlo=10, xhi=200, edge_pix=150, plot_let=False):\n",
    "    letter = mpimg.imread(let_file)\n",
    "    \n",
    "    letter = letter[ylo:yhi, xlo:xhi, 0]\n",
    "    letter[0:edge_pix, 130:140] = 1\n",
    "    \n",
    "    plt.imshow(letter, cmap='gray')\n",
    "    plt.grid('off')\n",
    "    plt.show()\n",
    "    \n",
    "    x = np.arange(letter.shape[1])\n",
    "    y = np.arange(letter.shape[0])\n",
    "    \n",
    "    f2d = interp2d(x, y, letter)\n",
    "    \n",
    "    x_new = np.linspace(0, letter.shape[1], dim)\n",
    "    y_new = np.linspace(0, letter.shape[0], dim)\n",
    "    \n",
    "    letter_new = f2d(x_new, y_new)\n",
    "    \n",
    "    letter_flat = letter_new.flatten()\n",
    "    \n",
    "    if plot_let:\n",
    "        plt.imshow(letter_new, cmap = 'gray')\n",
    "        plt.grid('off')\n",
    "        plt.show()\n",
    "    \n",
    "    return letter_new, letter_flat\n",
    "\n",
    "i = 0\n",
    "X = np.arange(0)\n",
    "while i < 26:\n",
    "    filename = 'letter'+chr(65+i)+'.png'\n",
    "    X.append(chr(65 + i))\n",
    "    i += 1\n",
    "print(letters)"
   ]
  },
  {
   "cell_type": "code",
   "execution_count": 3,
   "metadata": {
    "collapsed": false
   },
   "outputs": [
    {
     "name": "stdout",
     "output_type": "stream",
     "text": [
      "65\n"
     ]
    }
   ],
   "source": [
    "print(ord('A'))"
   ]
  },
  {
   "cell_type": "code",
   "execution_count": null,
   "metadata": {
    "collapsed": true
   },
   "outputs": [],
   "source": []
  }
 ],
 "metadata": {
  "kernelspec": {
   "display_name": "Python 2",
   "language": "python",
   "name": "python2"
  },
  "language_info": {
   "codemirror_mode": {
    "name": "ipython",
    "version": 2
   },
   "file_extension": ".py",
   "mimetype": "text/x-python",
   "name": "python",
   "nbconvert_exporter": "python",
   "pygments_lexer": "ipython2",
   "version": "2.7.9"
  }
 },
 "nbformat": 4,
 "nbformat_minor": 0
}

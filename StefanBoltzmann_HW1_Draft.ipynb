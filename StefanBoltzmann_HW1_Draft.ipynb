{
 "cells": [
  {
   "cell_type": "code",
   "execution_count": 74,
   "metadata": {
    "collapsed": false
   },
   "outputs": [],
   "source": [
    "## TEST CELL FOR DEFITIONS\n",
    "## Want h(y) = int[0, inf] y^3 / (e^y - 1) dy = pi^4 / 15\n",
    "\n",
    "s = 0\n",
    "for i in range(1,101):\n",
    "    s += i\n",
    "    ##print i, s             #print statement commented out for sake of screen space"
   ]
  },
  {
   "cell_type": "code",
   "execution_count": 72,
   "metadata": {
    "collapsed": false
   },
   "outputs": [
    {
     "name": "stdout",
     "output_type": "stream",
     "text": [
      "0.5\n",
      "0.25\n",
      "0.125\n",
      "0.0625\n",
      "0.03125\n",
      "0.015625\n",
      "0.0078125\n",
      "0.00390625\n",
      "0.001953125\n",
      "0.0009765625\n",
      "0.00048828125\n",
      "0.000244140625\n",
      "0.0001220703125\n",
      "6.103515625e-05\n",
      "3.0517578125e-05\n",
      "1.52587890625e-05\n",
      "7.62939453125e-06\n",
      "3.81469726562e-06\n",
      "1.90734863281e-06\n",
      "9.53674316406e-07\n"
     ]
    }
   ],
   "source": [
    "## TEST FOR A WHILE LOOP\n",
    "\n",
    "dy = 1.\n",
    "while dy > 1e-6:\n",
    "    dy /= 2\n",
    "    print dy"
   ]
  },
  {
   "cell_type": "code",
   "execution_count": 91,
   "metadata": {
    "collapsed": false
   },
   "outputs": [
    {
     "name": "stdout",
     "output_type": "stream",
     "text": [
      "running...\n",
      "number of steps: 600 \n",
      "dy = 1.000000, integral = 123.0000000 \n",
      "frac_diff = 0.0000010%\n"
     ]
    }
   ],
   "source": [
    "## TESTING PRINT TEXT FOR FOLLOWING VARIABLES FOR HOMEWORK\n",
    "\n",
    "n = 600\n",
    "dy = 1.\n",
    "integral = 123.\n",
    "frac_diff = 1.e-6\n",
    "print 'running...'\n",
    "print 'number of steps:{:4} \\ndy = {:4f}, integral = {:1.7f} \\nfrac_diff = {:1.7f}%'.format(n, dy, integral, frac_diff)"
   ]
  },
  {
   "cell_type": "code",
   "execution_count": 170,
   "metadata": {
    "collapsed": false
   },
   "outputs": [
    {
     "name": "stdout",
     "output_type": "stream",
     "text": [
      "y = 1, dy = 1.00000, f(y) = 0.58198, s = 0.00000, s_curr = 0.58198, frac_diff = N/A\n",
      "y = 2, dy = 1.00000, f(y) = 1.25214, s = 0.00000, s_curr = 1.25214, frac_diff = N/A\n",
      "y = 3, dy = 1.00000, f(y) = 1.41468, s = 0.00000, s_curr = 1.41468, frac_diff = N/A\n",
      "y = 4, dy = 1.00000, f(y) = 1.19407, s = 0.00000, s_curr = 1.19407, frac_diff = N/A\n",
      "y = 5, dy = 1.00000, f(y) = 0.84796, s = 0.00000, s_curr = 0.84796, frac_diff = N/A\n",
      "y = 6, dy = 1.00000, f(y) = 0.53674, s = 0.00000, s_curr = 0.53674, frac_diff = N/A\n",
      "y = 7, dy = 1.00000, f(y) = 0.31306, s = 0.00000, s_curr = 0.31306, frac_diff = N/A\n",
      "y = 8, dy = 1.00000, f(y) = 0.17181, s = 0.00000, s_curr = 0.17181, frac_diff = N/A\n",
      "y = 9, dy = 1.00000, f(y) = 0.08998, s = 0.00000, s_curr = 0.08998, frac_diff = N/A\n",
      "y = 10, dy = 1.00000, f(y) = 0.04540, s = 0.00000, s_curr = 0.04540, frac_diff = N/A\n",
      "y = 11, dy = 1.00000, f(y) = 0.02223, s = 0.00000, s_curr = 0.02223, frac_diff = N/A\n",
      "y = 12, dy = 1.00000, f(y) = 0.01062, s = 0.00000, s_curr = 0.01062, frac_diff = N/A\n",
      "y = 13, dy = 1.00000, f(y) = 0.00497, s = 0.00000, s_curr = 0.00497, frac_diff = N/A\n",
      "y = 14, dy = 1.00000, f(y) = 0.00228, s = 0.00000, s_curr = 0.00228, frac_diff = N/A\n",
      "y = 15, dy = 1.00000, f(y) = 0.00103, s = 0.00000, s_curr = 0.00103, frac_diff = N/A\n",
      "y = 16, dy = 1.00000, f(y) = 0.00046, s = 0.00000, s_curr = 0.00046, frac_diff = N/A\n",
      "y = 17, dy = 1.00000, f(y) = 0.00020, s = 0.00000, s_curr = 0.00020, frac_diff = N/A\n",
      "y = 18, dy = 1.00000, f(y) = 0.00009, s = 0.00000, s_curr = 0.00009, frac_diff = N/A\n",
      "y = 19, dy = 1.00000, f(y) = 0.00004, s = 0.00000, s_curr = 0.00004, frac_diff = N/A\n",
      "y = 20, dy = 1.00000, f(y) = 0.00002, s = 0.00000, s_curr = 0.00002, frac_diff = N/A\n",
      "y = 21, dy = 1.00000, f(y) = 0.00001, s = 0.00000, s_curr = 0.00001, frac_diff = N/A\n",
      "y = 22, dy = 1.00000, f(y) = 0.00000, s = 0.00000, s_curr = 0.00000, frac_diff = N/A\n",
      "y = 23, dy = 1.00000, f(y) = 0.00000, s = 0.00000, s_curr = 0.00000, frac_diff = N/A\n",
      "y = 24, dy = 1.00000, f(y) = 0.00000, s = 0.00000, s_curr = 0.00000, frac_diff = N/A\n",
      "y = 25, dy = 1.00000, f(y) = 0.00000, s = 0.00000, s_curr = 0.00000, frac_diff = N/A\n",
      "y = 26, dy = 1.00000, f(y) = 0.00000, s = 0.00000, s_curr = 0.00000, frac_diff = N/A\n",
      "y = 27, dy = 1.00000, f(y) = 0.00000, s = 0.00000, s_curr = 0.00000, frac_diff = N/A\n",
      "y = 28, dy = 1.00000, f(y) = 0.00000, s = 0.00000, s_curr = 0.00000, frac_diff = N/A\n",
      "y = 29, dy = 1.00000, f(y) = 0.00000, s = 0.00000, s_curr = 0.00000, frac_diff = N/A\n",
      "y = 30, dy = 1.00000, f(y) = 0.00000, s = 0.00000, s_curr = 0.00000, frac_diff = N/A\n",
      "y = 31, dy = 1.00000, f(y) = 0.00000, s = 0.00000, s_curr = 0.00000, frac_diff = N/A\n",
      "y = 32, dy = 1.00000, f(y) = 0.00000, s = 0.00000, s_curr = 0.00000, frac_diff = N/A\n",
      "y = 33, dy = 1.00000, f(y) = 0.00000, s = 0.00000, s_curr = 0.00000, frac_diff = N/A\n",
      "y = 34, dy = 1.00000, f(y) = 0.00000, s = 0.00000, s_curr = 0.00000, frac_diff = N/A\n",
      "y = 35, dy = 1.00000, f(y) = 0.00000, s = 0.00000, s_curr = 0.00000, frac_diff = N/A\n",
      "y = 36, dy = 1.00000, f(y) = 0.00000, s = 0.00000, s_curr = 0.00000, frac_diff = N/A\n",
      "y = 37, dy = 1.00000, f(y) = 0.00000, s = 0.00000, s_curr = 0.00000, frac_diff = N/A\n",
      "y = 38, dy = 1.00000, f(y) = 0.00000, s = 0.00000, s_curr = 0.00000, frac_diff = N/A\n",
      "y = 39, dy = 1.00000, f(y) = 0.00000, s = 0.00000, s_curr = 0.00000, frac_diff = N/A\n",
      "y = 40, dy = 1.00000, f(y) = 0.00000, s = 0.00000, s_curr = 0.00000, frac_diff = N/A\n",
      "y = 41, dy = 1.00000, f(y) = 0.00000, s = 0.00000, s_curr = 0.00000, frac_diff = N/A\n",
      "y = 42, dy = 1.00000, f(y) = 0.00000, s = 0.00000, s_curr = 0.00000, frac_diff = N/A\n",
      "y = 43, dy = 1.00000, f(y) = 0.00000, s = 0.00000, s_curr = 0.00000, frac_diff = N/A\n",
      "y = 44, dy = 1.00000, f(y) = 0.00000, s = 0.00000, s_curr = 0.00000, frac_diff = N/A\n",
      "y = 45, dy = 1.00000, f(y) = 0.00000, s = 0.00000, s_curr = 0.00000, frac_diff = N/A\n",
      "y = 46, dy = 1.00000, f(y) = 0.00000, s = 0.00000, s_curr = 0.00000, frac_diff = N/A\n",
      "y = 47, dy = 1.00000, f(y) = 0.00000, s = 0.00000, s_curr = 0.00000, frac_diff = N/A\n",
      "y = 48, dy = 1.00000, f(y) = 0.00000, s = 0.00000, s_curr = 0.00000, frac_diff = N/A\n",
      "y = 49, dy = 1.00000, f(y) = 0.00000, s = 0.00000, s_curr = 0.00000, frac_diff = N/A\n",
      "y = 50, dy = 1.00000, f(y) = 0.00000, s = 0.00000, s_curr = 0.00000, frac_diff = N/A\n",
      "y = 51, dy = 1.00000, f(y) = 0.00000, s = 0.00000, s_curr = 0.00000, frac_diff = N/A\n",
      "y = 52, dy = 1.00000, f(y) = 0.00000, s = 0.00000, s_curr = 0.00000, frac_diff = N/A\n",
      "y = 53, dy = 1.00000, f(y) = 0.00000, s = 0.00000, s_curr = 0.00000, frac_diff = N/A\n",
      "y = 54, dy = 1.00000, f(y) = 0.00000, s = 0.00000, s_curr = 0.00000, frac_diff = N/A\n",
      "y = 55, dy = 1.00000, f(y) = 0.00000, s = 0.00000, s_curr = 0.00000, frac_diff = N/A\n",
      "y = 56, dy = 1.00000, f(y) = 0.00000, s = 0.00000, s_curr = 0.00000, frac_diff = N/A\n",
      "y = 57, dy = 1.00000, f(y) = 0.00000, s = 0.00000, s_curr = 0.00000, frac_diff = N/A\n",
      "y = 58, dy = 1.00000, f(y) = 0.00000, s = 0.00000, s_curr = 0.00000, frac_diff = N/A\n",
      "y = 59, dy = 1.00000, f(y) = 0.00000, s = 0.00000, s_curr = 0.00000, frac_diff = N/A\n",
      "y = 60, dy = 1.00000, f(y) = 0.00000, s = 0.00000, s_curr = 0.00000, frac_diff = N/A\n",
      "y = 61, dy = 1.00000, f(y) = 0.00000, s = 0.00000, s_curr = 0.00000, frac_diff = N/A\n",
      "y = 62, dy = 1.00000, f(y) = 0.00000, s = 0.00000, s_curr = 0.00000, frac_diff = N/A\n",
      "y = 63, dy = 1.00000, f(y) = 0.00000, s = 0.00000, s_curr = 0.00000, frac_diff = N/A\n",
      "y = 64, dy = 1.00000, f(y) = 0.00000, s = 0.00000, s_curr = 0.00000, frac_diff = N/A\n",
      "y = 65, dy = 1.00000, f(y) = 0.00000, s = 0.00000, s_curr = 0.00000, frac_diff = N/A\n",
      "y = 66, dy = 1.00000, f(y) = 0.00000, s = 0.00000, s_curr = 0.00000, frac_diff = N/A\n",
      "y = 67, dy = 1.00000, f(y) = 0.00000, s = 0.00000, s_curr = 0.00000, frac_diff = N/A\n",
      "y = 68, dy = 1.00000, f(y) = 0.00000, s = 0.00000, s_curr = 0.00000, frac_diff = N/A\n",
      "y = 69, dy = 1.00000, f(y) = 0.00000, s = 0.00000, s_curr = 0.00000, frac_diff = N/A\n",
      "y = 70, dy = 1.00000, f(y) = 0.00000, s = 0.00000, s_curr = 0.00000, frac_diff = N/A\n",
      "y = 71, dy = 1.00000, f(y) = 0.00000, s = 0.00000, s_curr = 0.00000, frac_diff = N/A\n",
      "y = 72, dy = 1.00000, f(y) = 0.00000, s = 0.00000, s_curr = 0.00000, frac_diff = N/A\n",
      "y = 73, dy = 1.00000, f(y) = 0.00000, s = 0.00000, s_curr = 0.00000, frac_diff = N/A\n",
      "y = 74, dy = 1.00000, f(y) = 0.00000, s = 0.00000, s_curr = 0.00000, frac_diff = N/A\n",
      "y = 75, dy = 1.00000, f(y) = 0.00000, s = 0.00000, s_curr = 0.00000, frac_diff = N/A\n",
      "y = 76, dy = 1.00000, f(y) = 0.00000, s = 0.00000, s_curr = 0.00000, frac_diff = N/A\n",
      "y = 77, dy = 1.00000, f(y) = 0.00000, s = 0.00000, s_curr = 0.00000, frac_diff = N/A\n",
      "y = 78, dy = 1.00000, f(y) = 0.00000, s = 0.00000, s_curr = 0.00000, frac_diff = N/A\n",
      "y = 79, dy = 1.00000, f(y) = 0.00000, s = 0.00000, s_curr = 0.00000, frac_diff = N/A\n",
      "y = 80, dy = 1.00000, f(y) = 0.00000, s = 0.00000, s_curr = 0.00000, frac_diff = N/A\n",
      "y = 81, dy = 1.00000, f(y) = 0.00000, s = 0.00000, s_curr = 0.00000, frac_diff = N/A\n",
      "y = 82, dy = 1.00000, f(y) = 0.00000, s = 0.00000, s_curr = 0.00000, frac_diff = N/A\n",
      "y = 83, dy = 1.00000, f(y) = 0.00000, s = 0.00000, s_curr = 0.00000, frac_diff = N/A\n",
      "y = 84, dy = 1.00000, f(y) = 0.00000, s = 0.00000, s_curr = 0.00000, frac_diff = N/A\n",
      "y = 85, dy = 1.00000, f(y) = 0.00000, s = 0.00000, s_curr = 0.00000, frac_diff = N/A\n",
      "y = 86, dy = 1.00000, f(y) = 0.00000, s = 0.00000, s_curr = 0.00000, frac_diff = N/A\n",
      "y = 87, dy = 1.00000, f(y) = 0.00000, s = 0.00000, s_curr = 0.00000, frac_diff = N/A\n",
      "y = 88, dy = 1.00000, f(y) = 0.00000, s = 0.00000, s_curr = 0.00000, frac_diff = N/A\n",
      "y = 89, dy = 1.00000, f(y) = 0.00000, s = 0.00000, s_curr = 0.00000, frac_diff = N/A\n",
      "y = 90, dy = 1.00000, f(y) = 0.00000, s = 0.00000, s_curr = 0.00000, frac_diff = N/A\n",
      "y = 91, dy = 1.00000, f(y) = 0.00000, s = 0.00000, s_curr = 0.00000, frac_diff = N/A\n",
      "y = 92, dy = 1.00000, f(y) = 0.00000, s = 0.00000, s_curr = 0.00000, frac_diff = N/A\n",
      "y = 93, dy = 1.00000, f(y) = 0.00000, s = 0.00000, s_curr = 0.00000, frac_diff = N/A\n",
      "y = 94, dy = 1.00000, f(y) = 0.00000, s = 0.00000, s_curr = 0.00000, frac_diff = N/A\n",
      "y = 95, dy = 1.00000, f(y) = 0.00000, s = 0.00000, s_curr = 0.00000, frac_diff = N/A\n",
      "y = 96, dy = 1.00000, f(y) = 0.00000, s = 0.00000, s_curr = 0.00000, frac_diff = N/A\n",
      "y = 97, dy = 1.00000, f(y) = 0.00000, s = 0.00000, s_curr = 0.00000, frac_diff = N/A\n",
      "y = 98, dy = 1.00000, f(y) = 0.00000, s = 0.00000, s_curr = 0.00000, frac_diff = N/A\n",
      "y = 99, dy = 1.00000, f(y) = 0.00000, s = 0.00000, s_curr = 0.00000, frac_diff = N/A\n",
      "y = 100, dy = 1.00000, f(y) = 0.00000, s = 0.00000, s_curr = 0.00000, frac_diff = N/A\n",
      "3.72007597602e-38\n"
     ]
    }
   ],
   "source": [
    "## CELL ATTEMPTING TO CREATE GENERAL INTEGRAL FUNCTION\n",
    "\n",
    "import math\n",
    "\n",
    "def f(y):\n",
    "    return (y**3)/(e**y - 1)\n",
    "\n",
    "def fractionaldifference(prev, curr):\n",
    "    frac_diff = (float(curr - prev)/curr)\n",
    "    if frac_diff == 1.0:\n",
    "        frac_diff = 'N/A'\n",
    "        return frac_diff\n",
    "    else:\n",
    "        return frac_diff\n",
    "\n",
    "def integral(initial, final, steps):\n",
    "    s = 0.\n",
    "    dy = 1.\n",
    "    for y in range(1, steps + 1):\n",
    "        a = f(y)*dy\n",
    "        s_curr = s + a\n",
    "        frac_diff = fractionaldifference(s, s_curr)\n",
    "        if frac_diff == 'N/A':\n",
    "            print 'y = {:1}, dy = {:1.5f}, f(y) = {:1.5f}, s = {:1.5f}, s_curr = {:1.5f}, frac_diff = N/A'.format(y, dy, f(y), s, s_curr, frac_diff)\n",
    "        else:\n",
    "            print 'y = {:1}, dy = {:1.5f}, f(y) = {:1.5f}, s = {:1.5f}, s_curr = {:1.5f}, frac_diff = {:1.5f}'.format(y, dy, f(y), s, s_curr, frac_diff)\n",
    "    return s_curr\n",
    "\n",
    "x = integral(1, 100, 100)\n",
    "print x"
   ]
  },
  {
   "cell_type": "code",
   "execution_count": 147,
   "metadata": {
    "collapsed": false
   },
   "outputs": [
    {
     "name": "stdout",
     "output_type": "stream",
     "text": [
      "<type 'str'>\n",
      "False\n",
      "True\n"
     ]
    }
   ],
   "source": [
    "coolstuff = 'N/A'\n",
    "print type(coolstuff)\n",
    "print type(coolstuff) == float\n",
    "print type(coolstuff) == str"
   ]
  },
  {
   "cell_type": "code",
   "execution_count": null,
   "metadata": {
    "collapsed": true
   },
   "outputs": [],
   "source": []
  }
 ],
 "metadata": {
  "kernelspec": {
   "display_name": "Python 2",
   "language": "python",
   "name": "python2"
  },
  "language_info": {
   "codemirror_mode": {
    "name": "ipython",
    "version": 2
   },
   "file_extension": ".py",
   "mimetype": "text/x-python",
   "name": "python",
   "nbconvert_exporter": "python",
   "pygments_lexer": "ipython2",
   "version": "2.7.9"
  }
 },
 "nbformat": 4,
 "nbformat_minor": 0
}

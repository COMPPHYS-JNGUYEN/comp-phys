{
 "cells": [
  {
   "cell_type": "code",
   "execution_count": 74,
   "metadata": {
    "collapsed": false
   },
   "outputs": [],
   "source": [
    "## TEST CELL FOR DEFITIONS\n",
    "## Want h(y) = int[0, inf] y^3 / (e^y - 1) dy = pi^4 / 15\n",
    "\n",
    "s = 0\n",
    "for i in range(1,101):\n",
    "    s += i\n",
    "    ##print i, s             #print statement commented out for sake of screen space"
   ]
  },
  {
   "cell_type": "code",
   "execution_count": 72,
   "metadata": {
    "collapsed": false
   },
   "outputs": [
    {
     "name": "stdout",
     "output_type": "stream",
     "text": [
      "0.5\n",
      "0.25\n",
      "0.125\n",
      "0.0625\n",
      "0.03125\n",
      "0.015625\n",
      "0.0078125\n",
      "0.00390625\n",
      "0.001953125\n",
      "0.0009765625\n",
      "0.00048828125\n",
      "0.000244140625\n",
      "0.0001220703125\n",
      "6.103515625e-05\n",
      "3.0517578125e-05\n",
      "1.52587890625e-05\n",
      "7.62939453125e-06\n",
      "3.81469726562e-06\n",
      "1.90734863281e-06\n",
      "9.53674316406e-07\n"
     ]
    }
   ],
   "source": [
    "## TEST FOR A WHILE LOOP\n",
    "\n",
    "dy = 1.\n",
    "while dy > 1e-6:\n",
    "    dy /= 2\n",
    "    print dy"
   ]
  },
  {
   "cell_type": "code",
   "execution_count": 91,
   "metadata": {
    "collapsed": false
   },
   "outputs": [
    {
     "name": "stdout",
     "output_type": "stream",
     "text": [
      "running...\n",
      "number of steps: 600 \n",
      "dy = 1.000000, integral = 123.0000000 \n",
      "frac_diff = 0.0000010%\n"
     ]
    }
   ],
   "source": [
    "## TESTING PRINT TEXT FOR FOLLOWING VARIABLES FOR HOMEWORK\n",
    "\n",
    "n = 600\n",
    "dy = 1.\n",
    "integral = 123.\n",
    "frac_diff = 1.e-6\n",
    "print 'running...'\n",
    "print 'number of steps:{:4} \\ndy = {:4f}, integral = {:1.7f} \\nfrac_diff = {:1.7f}%'.format(n, dy, integral, frac_diff)"
   ]
  },
  {
   "cell_type": "code",
   "execution_count": 183,
   "metadata": {
    "collapsed": false,
    "scrolled": false
   },
   "outputs": [
    {
     "name": "stdout",
     "output_type": "stream",
     "text": [
      "running...\n",
      "y = 1, dy = 1.0, f(y) = 0.58198, s = 0.0, s_curr = 0.5819767, frac_diff = N/A\n",
      "y = 2, dy = 1.0, f(y) = 1.25214, s = 0.5819767, s_curr = 1.8341178, frac_diff = 0.6826939\n",
      "y = 3, dy = 1.0, f(y) = 1.41468, s = 1.8341178, s_curr = 3.2488017, frac_diff = 0.4354479\n",
      "y = 4, dy = 1.0, f(y) = 1.19407, s = 3.2488017, s_curr = 4.4428727, frac_diff = 0.2687610\n",
      "y = 5, dy = 1.0, f(y) = 0.84796, s = 4.4428727, s_curr = 5.2908296, frac_diff = 0.1602692\n",
      "y = 6, dy = 1.0, f(y) = 0.53674, s = 5.2908296, s_curr = 5.8275705, frac_diff = 0.0921037\n",
      "y = 7, dy = 1.0, f(y) = 0.31306, s = 5.8275705, s_curr = 6.1406315, frac_diff = 0.0509819\n",
      "y = 8, dy = 1.0, f(y) = 0.17181, s = 6.1406315, s_curr = 6.3124460, frac_diff = 0.0272184\n",
      "y = 9, dy = 1.0, f(y) = 0.08998, s = 6.3124460, s_curr = 6.4024228, frac_diff = 0.0140536\n",
      "y = 10, dy = 1.0, f(y) = 0.04540, s = 6.4024228, s_curr = 6.4478248, frac_diff = 0.0070414\n",
      "y = 11, dy = 1.0, f(y) = 0.02223, s = 6.4478248, s_curr = 6.4700552, frac_diff = 0.0034359\n",
      "y = 12, dy = 1.0, f(y) = 0.01062, s = 6.4700552, s_curr = 6.4806724, frac_diff = 0.0016383\n",
      "y = 13, dy = 1.0, f(y) = 0.00497, s = 6.4806724, s_curr = 6.4856384, frac_diff = 0.0007657\n",
      "y = 14, dy = 1.0, f(y) = 0.00228, s = 6.4856384, s_curr = 6.4879201, frac_diff = 0.0003517\n",
      "y = 15, dy = 1.0, f(y) = 0.00103, s = 6.4879201, s_curr = 6.4889525, frac_diff = 0.0001591\n",
      "y = 16, dy = 1.0, f(y) = 0.00046, s = 6.4889525, s_curr = 6.4894135, frac_diff = 0.0000710\n",
      "y = 17, dy = 1.0, f(y) = 0.00020, s = 6.4894135, s_curr = 6.4896169, frac_diff = 0.0000313\n",
      "y = 18, dy = 1.0, f(y) = 0.00009, s = 6.4896169, s_curr = 6.4897057, frac_diff = 0.0000137\n",
      "y = 19, dy = 1.0, f(y) = 0.00004, s = 6.4897057, s_curr = 6.4897441, frac_diff = 0.0000059\n",
      "y = 20, dy = 1.0, f(y) = 0.00002, s = 6.4897441, s_curr = 6.4897606, frac_diff = 0.0000025\n",
      "y = 21, dy = 1.0, f(y) = 0.00001, s = 6.4897606, s_curr = 6.4897676, frac_diff = 0.0000011\n",
      "6.49393940227\n",
      "6.48977059574\n"
     ]
    }
   ],
   "source": [
    "## CELL ATTEMPTING TO CREATE GENERAL INTEGRAL FUNCTION\n",
    "\n",
    "import math\n",
    "\n",
    "def f(y):\n",
    "    return (y**3)/(e**y - 1)\n",
    "\n",
    "def fractionaldifference(prev, curr):\n",
    "    frac_diff = (float(curr - prev)/curr)\n",
    "    if frac_diff == 1.0:\n",
    "        frac_diff = 'N/A'\n",
    "        return frac_diff\n",
    "    else:\n",
    "        return frac_diff\n",
    "\n",
    "def integral(initial, final, steps):\n",
    "    print 'running...'\n",
    "    s = 0.\n",
    "    dy = 1.\n",
    "    for y in range(1, steps + 1):\n",
    "        a = f(y)*dy\n",
    "        s_curr = s + a\n",
    "        frac_diff = fractionaldifference(s, s_curr)\n",
    "        if frac_diff == 'N/A':\n",
    "            print 'y = {:1}, dy = {:1.4}, f(y) = {:1.5f}, s = {:1.7}, s_curr = {:1.7f}, frac_diff = N/A'.format(y, dy, f(y), s, s_curr, frac_diff)\n",
    "        elif frac_diff < 1e-6:\n",
    "            return s_curr\n",
    "        else:\n",
    "            print 'y = {:1}, dy = {:1.4}, f(y) = {:1.5f}, s = {:1.7f}, s_curr = {:1.7f}, frac_diff = {:1.7f}'.format(y, dy, f(y), s, s_curr, frac_diff)\n",
    "        s = s_curr\n",
    "    return s_curr\n",
    "\n",
    "x = integral(1, 100, 100000000)\n",
    "print (pi**4)/15.\n",
    "print x"
   ]
  },
  {
   "cell_type": "code",
   "execution_count": null,
   "metadata": {
    "collapsed": true
   },
   "outputs": [],
   "source": []
  }
 ],
 "metadata": {
  "kernelspec": {
   "display_name": "Python 2",
   "language": "python",
   "name": "python2"
  },
  "language_info": {
   "codemirror_mode": {
    "name": "ipython",
    "version": 2
   },
   "file_extension": ".py",
   "mimetype": "text/x-python",
   "name": "python",
   "nbconvert_exporter": "python",
   "pygments_lexer": "ipython2",
   "version": "2.7.9"
  }
 },
 "nbformat": 4,
 "nbformat_minor": 0
}

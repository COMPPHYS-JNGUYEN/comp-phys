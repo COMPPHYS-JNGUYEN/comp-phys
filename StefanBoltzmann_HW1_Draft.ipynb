{
 "cells": [
  {
   "cell_type": "code",
   "execution_count": 74,
   "metadata": {
    "collapsed": false
   },
   "outputs": [],
   "source": [
    "## TEST CELL FOR DEFITIONS\n",
    "## Want h(y) = int[0, inf] y^3 / (e^y - 1) dy = pi^4 / 15\n",
    "\n",
    "s = 0\n",
    "for i in range(1,101):\n",
    "    s += i\n",
    "    ##print i, s             #print statement commented out for sake of screen space"
   ]
  },
  {
   "cell_type": "code",
   "execution_count": 72,
   "metadata": {
    "collapsed": false
   },
   "outputs": [
    {
     "name": "stdout",
     "output_type": "stream",
     "text": [
      "0.5\n",
      "0.25\n",
      "0.125\n",
      "0.0625\n",
      "0.03125\n",
      "0.015625\n",
      "0.0078125\n",
      "0.00390625\n",
      "0.001953125\n",
      "0.0009765625\n",
      "0.00048828125\n",
      "0.000244140625\n",
      "0.0001220703125\n",
      "6.103515625e-05\n",
      "3.0517578125e-05\n",
      "1.52587890625e-05\n",
      "7.62939453125e-06\n",
      "3.81469726562e-06\n",
      "1.90734863281e-06\n",
      "9.53674316406e-07\n"
     ]
    }
   ],
   "source": [
    "## TEST FOR A WHILE LOOP\n",
    "\n",
    "dy = 1.\n",
    "while dy > 1e-6:\n",
    "    dy /= 2\n",
    "    print dy"
   ]
  },
  {
   "cell_type": "code",
   "execution_count": 91,
   "metadata": {
    "collapsed": false
   },
   "outputs": [
    {
     "name": "stdout",
     "output_type": "stream",
     "text": [
      "running...\n",
      "number of steps: 600 \n",
      "dy = 1.000000, integral = 123.0000000 \n",
      "frac_diff = 0.0000010%\n"
     ]
    }
   ],
   "source": [
    "## TESTING PRINT TEXT FOR FOLLOWING VARIABLES FOR HOMEWORK\n",
    "\n",
    "n = 600\n",
    "dy = 1.\n",
    "integral = 123.\n",
    "frac_diff = 1.e-6\n",
    "print 'running...'\n",
    "print 'number of steps:{:4} \\ndy = {:4f}, integral = {:1.7f} \\nfrac_diff = {:1.7f}%'.format(n, dy, integral, frac_diff)"
   ]
  },
  {
   "cell_type": "code",
   "execution_count": 45,
   "metadata": {
    "collapsed": false,
    "scrolled": false
   },
   "outputs": [
    {
     "name": "stdout",
     "output_type": "stream",
     "text": [
      "running...\n",
      "number of steps: 100 \n",
      "dy = 1.0000, integral = 5.9077960 \n",
      "frac_diff = N/A\n",
      "\n",
      "5.90779602873\n"
     ]
    }
   ],
   "source": [
    "## CELL ATTEMPTING TO CREATE GENERAL INTEGRAL FUNCTION\n",
    "\n",
    "from math import e, pi\n",
    "\n",
    "def f(y):\n",
    "    return (y**3)/(e**y - 1)\n",
    "\n",
    "def fractionaldifference(prev, curr):\n",
    "    frac_diff = (float(curr - prev)/curr)\n",
    "    if frac_diff == 1.0:\n",
    "        frac_diff = 'N/A'\n",
    "        return frac_diff\n",
    "    else:\n",
    "        return frac_diff\n",
    "    \n",
    "def integral(initial, final, steps):\n",
    "    print 'running...'\n",
    "    integral = 0.\n",
    "    integral_prev = 0.\n",
    "    dy = 1.\n",
    "    for y in range(1, steps + 1):\n",
    "        height = f(1 + y*dy)\n",
    "        area = dy * height\n",
    "        integral_curr = integral_prev + area\n",
    "        integral_prev = integral_curr\n",
    "    frac_diff = fractionaldifference(integral, integral_curr)\n",
    "    if frac_diff == 'N/A':\n",
    "        print 'number of steps:{:4} \\ndy = {:1.4f}, integral = {:1.7f} \\nfrac_diff = N/A\\n'.format(steps, dy, integral_curr, frac_diff)\n",
    "    else:\n",
    "        print 'number of steps:{:4} \\ndy = {:1.4f}, integral = {:1.7f} \\nfrac_diff = {:1.7f}\\n'.format(steps, dy, integral_curr, frac_diff)\n",
    "    integral = integral_curr\n",
    "    return integral_curr\n",
    "\n",
    "test = integral(1, 100, 100)\n",
    "print test"
   ]
  },
  {
   "cell_type": "code",
   "execution_count": 236,
   "metadata": {
    "collapsed": true
   },
   "outputs": [],
   "source": [
    "## COPY AND PASTE FROM In 195: SAVE JUST IN CASE\n",
    "\n",
    "def integral(initial, final, steps):\n",
    "    print 'running...'\n",
    "    s = 0.\n",
    "    dy = 1.\n",
    "    for y in range(1, steps + 1):\n",
    "        a = f(y)*dy\n",
    "        s_curr = s + a\n",
    "        frac_diff = fractionaldifference(s, s_curr)\n",
    "        if frac_diff == 'N/A':\n",
    "            print 'y = {:1}, dy = {:1.4}, f(y) = {:1.5f}, s = {:1.7}, s_curr = {:1.7f}, frac_diff = N/A'.format(y, dy, f(y), s, s_curr, frac_diff)\n",
    "        elif frac_diff < 1e-6:\n",
    "            return s_curr\n",
    "        else:\n",
    "            print 'y = {:1}, dy = {:1.4}, f(y) = {:1.5f}, s = {:1.7f}, s_curr = {:1.7f}, frac_diff = {:1.7f}'.format(y, dy, f(y), s, s_curr, frac_diff)\n",
    "        s = s_curr\n",
    "    return s_curr"
   ]
  },
  {
   "cell_type": "code",
   "execution_count": 36,
   "metadata": {
    "collapsed": false
   },
   "outputs": [
    {
     "name": "stdout",
     "output_type": "stream",
     "text": [
      "6.25067877946\n"
     ]
    }
   ],
   "source": [
    "def f(x):\n",
    "    return (x**3)/(e**x - 1)\n",
    "\n",
    "def fractionaldifference(prev, curr):\n",
    "    fracdiff = float(curr - prev)/float(curr)\n",
    "    if fracdiff <= 1.0:\n",
    "        fracdiff = 'N/A'\n",
    "        return fracdiff\n",
    "    else:\n",
    "        return fracdiff\n",
    "    \n",
    "def integral(initial, final, steps):\n",
    "    summation = 0.\n",
    "    dy = 0.0625\n",
    "    for y in range(1, steps + 1):\n",
    "        height = f(1 + y*dy)\n",
    "        area = dy * height\n",
    "        summation += area\n",
    "    return summation\n",
    "\n",
    "test = integral(1, 100, 1600)\n",
    "print test"
   ]
  },
  {
   "cell_type": "code",
   "execution_count": 2,
   "metadata": {
    "collapsed": false
   },
   "outputs": [
    {
     "name": "stdout",
     "output_type": "stream",
     "text": [
      "running...\n",
      "number of steps: 100 \n",
      "dy = 1.0000, integral = 6.4897727 \n",
      "frac_diff = N/A\n",
      "\n"
     ]
    }
   ],
   "source": [
    "## CELL ATTEMPTING TO CREATE GENERAL INTEGRAL FUNCTION\n",
    "\n",
    "from math import e, pi\n",
    "\n",
    "def f(y):\n",
    "    return (y**3)/(e**y - 1)\n",
    "\n",
    "def fractionaldifference(prev, curr):\n",
    "    frac_diff = (curr - prev)/float(curr)\n",
    "    return frac_diff\n",
    "    \n",
    "def integral(initial, final, steps, delta):\n",
    "    x = initial\n",
    "    y = final\n",
    "    step = steps\n",
    "    dy = delta\n",
    "    print 'running...'\n",
    "    integral = 0.\n",
    "    integral_prev = 0.\n",
    "    for y in range(1, steps + 1):\n",
    "        height = f(y*dy)\n",
    "        area = dy * height\n",
    "        integral_curr = integral_prev + area\n",
    "        integral_prev = integral_curr\n",
    "    frac_diff = fractionaldifference(integral, integral_curr)\n",
    "    if frac_diff == 1.0:\n",
    "        print 'number of steps:{:4} \\ndy = {:1.4f}, integral = {:1.7f} \\nfrac_diff = N/A\\n'.format(steps, dy, integral_curr, frac_diff)\n",
    "    elif frac_diff < 1e-6:\n",
    "        print 'number of steps:{:4} \\ndy = {:1.4f}, integral = {:1.7f} \\nfrac_diff = {:1.7f}\\n'.format(steps, dy, integral_curr, frac_diff)\n",
    "        return integral_curr\n",
    "    else:\n",
    "        print 'number of steps:{:4} \\ndy = {:1.4f}, integral = {:1.7f} \\nfrac_diff = {:1.7f}\\n'.format(steps, dy, integral_curr, frac_diff)\n",
    "\n",
    "test = integral(1, 100, 100, 1)"
   ]
  },
  {
   "cell_type": "code",
   "execution_count": 12,
   "metadata": {
    "collapsed": false
   },
   "outputs": [
    {
     "name": "stdout",
     "output_type": "stream",
     "text": [
      "number of steps: 100 \n",
      "dy = 1.0000, integral = 6.4897727 \n",
      "frac_diff = N/A\n",
      "\n",
      "number of steps:200.0 \n",
      "dy = 0.5000, integral = 6.4936790 \n",
      "frac_diff = 0.0006015\n",
      "\n",
      "number of steps:400.0 \n",
      "dy = 0.2500, integral = 6.4939231 \n",
      "frac_diff = 0.0000376\n",
      "\n",
      "number of steps:800.0 \n",
      "dy = 0.1250, integral = 6.4939384 \n",
      "frac_diff = 0.0000023\n",
      "\n",
      "number of steps:1600.0 \n",
      "dy = 0.0625, integral = 6.4939393 \n",
      "frac_diff = 0.0000001\n",
      "\n",
      "6.49393933869\n"
     ]
    }
   ],
   "source": [
    "from math import e, pi\n",
    "\n",
    "def f(y):\n",
    "    return (y**3)/(e**y - 1)\n",
    "\n",
    "def fractionaldifference(prev, curr):\n",
    "    frac_diff = (curr - prev)/float(curr)\n",
    "    return frac_diff\n",
    "\n",
    "def integral(intial, final, steps, dy):\n",
    "    frac_diff = 1\n",
    "    integral_previous = 0.\n",
    "    integral_current = 0.\n",
    "    while frac_diff > 1e-6:\n",
    "        for y in range(1, int(steps + 1)):\n",
    "            height = f(y * dy)\n",
    "            area = dy * height\n",
    "            integral_current += area\n",
    "        frac_diff = fractionaldifference(integral_previous, integral_current)\n",
    "        if frac_diff == 1.0:\n",
    "            print 'number of steps:{:4} \\ndy = {:1.4f}, integral = {:1.7f} \\nfrac_diff = N/A\\n'.format(steps, dy, integral_current, frac_diff)\n",
    "            integral_previous = integral_current\n",
    "            integral_current = 0\n",
    "            steps *= 2.\n",
    "            dy /= 2.\n",
    "        else:\n",
    "            print 'number of steps:{:4} \\ndy = {:1.4f}, integral = {:1.7f} \\nfrac_diff = {:1.7f}\\n'.format(steps, dy, integral_current, frac_diff)\n",
    "            integral_previous = integral_current\n",
    "            integral_current = 0\n",
    "            steps *= 2.\n",
    "            dy /= 2.\n",
    "    return integral_previous\n",
    "\n",
    "test = integral(1, 100, 100, 1)\n",
    "print test"
   ]
  },
  {
   "cell_type": "code",
   "execution_count": null,
   "metadata": {
    "collapsed": true
   },
   "outputs": [],
   "source": []
  }
 ],
 "metadata": {
  "kernelspec": {
   "display_name": "Python 2",
   "language": "python",
   "name": "python2"
  },
  "language_info": {
   "codemirror_mode": {
    "name": "ipython",
    "version": 2
   },
   "file_extension": ".py",
   "mimetype": "text/x-python",
   "name": "python",
   "nbconvert_exporter": "python",
   "pygments_lexer": "ipython2",
   "version": "2.7.9"
  }
 },
 "nbformat": 4,
 "nbformat_minor": 0
}

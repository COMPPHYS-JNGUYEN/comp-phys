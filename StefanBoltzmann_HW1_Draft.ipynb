{
 "cells": [
  {
   "cell_type": "code",
   "execution_count": 74,
   "metadata": {
    "collapsed": false
   },
   "outputs": [],
   "source": [
    "## TEST CELL FOR DEFITIONS\n",
    "## Want h(y) = int[0, inf] y^3 / (e^y - 1) dy = pi^4 / 15\n",
    "\n",
    "s = 0\n",
    "for i in range(1,101):\n",
    "    s += i\n",
    "    ##print i, s             #print statement commented out for sake of screen space"
   ]
  },
  {
   "cell_type": "code",
   "execution_count": 72,
   "metadata": {
    "collapsed": false
   },
   "outputs": [
    {
     "name": "stdout",
     "output_type": "stream",
     "text": [
      "0.5\n",
      "0.25\n",
      "0.125\n",
      "0.0625\n",
      "0.03125\n",
      "0.015625\n",
      "0.0078125\n",
      "0.00390625\n",
      "0.001953125\n",
      "0.0009765625\n",
      "0.00048828125\n",
      "0.000244140625\n",
      "0.0001220703125\n",
      "6.103515625e-05\n",
      "3.0517578125e-05\n",
      "1.52587890625e-05\n",
      "7.62939453125e-06\n",
      "3.81469726562e-06\n",
      "1.90734863281e-06\n",
      "9.53674316406e-07\n"
     ]
    }
   ],
   "source": [
    "## TEST FOR A WHILE LOOP\n",
    "\n",
    "dy = 1.\n",
    "while dy > 1e-6:\n",
    "    dy /= 2\n",
    "    print dy"
   ]
  },
  {
   "cell_type": "code",
   "execution_count": 91,
   "metadata": {
    "collapsed": false
   },
   "outputs": [
    {
     "name": "stdout",
     "output_type": "stream",
     "text": [
      "running...\n",
      "number of steps: 600 \n",
      "dy = 1.000000, integral = 123.0000000 \n",
      "frac_diff = 0.0000010%\n"
     ]
    }
   ],
   "source": [
    "## TESTING PRINT TEXT FOR FOLLOWING VARIABLES FOR HOMEWORK\n",
    "\n",
    "n = 600\n",
    "dy = 1.\n",
    "integral = 123.\n",
    "frac_diff = 1.e-6\n",
    "print 'running...'\n",
    "print 'number of steps:{:4} \\ndy = {:4f}, integral = {:1.7f} \\nfrac_diff = {:1.7f}%'.format(n, dy, integral, frac_diff)"
   ]
  },
  {
   "cell_type": "code",
   "execution_count": 154,
   "metadata": {
    "collapsed": false
   },
   "outputs": [
    {
     "ename": "ValueError",
     "evalue": "Unknown format code 'f' for object of type 'str'",
     "output_type": "error",
     "traceback": [
      "\u001b[1;31m---------------------------------------------------------------------------\u001b[0m",
      "\u001b[1;31mValueError\u001b[0m                                Traceback (most recent call last)",
      "\u001b[1;32m<ipython-input-154-a77dc88ef507>\u001b[0m in \u001b[0;36m<module>\u001b[1;34m()\u001b[0m\n\u001b[0;32m     26\u001b[0m     \u001b[1;32mreturn\u001b[0m \u001b[0ms_curr\u001b[0m\u001b[1;33m\u001b[0m\u001b[0m\n\u001b[0;32m     27\u001b[0m \u001b[1;33m\u001b[0m\u001b[0m\n\u001b[1;32m---> 28\u001b[1;33m \u001b[0mx\u001b[0m \u001b[1;33m=\u001b[0m \u001b[0mintegral\u001b[0m\u001b[1;33m(\u001b[0m\u001b[1;36m1\u001b[0m\u001b[1;33m,\u001b[0m \u001b[1;36m100\u001b[0m\u001b[1;33m,\u001b[0m \u001b[1;36m100\u001b[0m\u001b[1;33m)\u001b[0m\u001b[1;33m\u001b[0m\u001b[0m\n\u001b[0m\u001b[0;32m     29\u001b[0m \u001b[1;32mprint\u001b[0m \u001b[0mx\u001b[0m\u001b[1;33m\u001b[0m\u001b[0m\n",
      "\u001b[1;32m<ipython-input-154-a77dc88ef507>\u001b[0m in \u001b[0;36mintegral\u001b[1;34m(initial, final, steps)\u001b[0m\n\u001b[0;32m     23\u001b[0m             \u001b[1;32mprint\u001b[0m \u001b[1;34m'y = {:1}, dy = {:1.5f}, f(y) = {:1.5f}, s = {:1.5f}, s_curr = {:1.5f}, frac_diff = '\u001b[0m\u001b[1;33m.\u001b[0m\u001b[0mformat\u001b[0m\u001b[1;33m(\u001b[0m\u001b[0my\u001b[0m\u001b[1;33m,\u001b[0m \u001b[0mdy\u001b[0m\u001b[1;33m,\u001b[0m \u001b[0mf\u001b[0m\u001b[1;33m(\u001b[0m\u001b[0my\u001b[0m\u001b[1;33m)\u001b[0m\u001b[1;33m,\u001b[0m \u001b[0ms\u001b[0m\u001b[1;33m,\u001b[0m \u001b[0ms_curr\u001b[0m\u001b[1;33m,\u001b[0m \u001b[0mfrac_diff\u001b[0m\u001b[1;33m)\u001b[0m\u001b[1;33m\u001b[0m\u001b[0m\n\u001b[0;32m     24\u001b[0m         \u001b[1;32melse\u001b[0m\u001b[1;33m:\u001b[0m\u001b[1;33m\u001b[0m\u001b[0m\n\u001b[1;32m---> 25\u001b[1;33m             \u001b[1;32mprint\u001b[0m \u001b[1;34m'y = {:1}, dy = {:1.5f}, f(y) = {:1.5f}, s = {:1.5f}, s_curr = {:1.5f}, frac_diff = {:1.5f}'\u001b[0m\u001b[1;33m.\u001b[0m\u001b[0mformat\u001b[0m\u001b[1;33m(\u001b[0m\u001b[0my\u001b[0m\u001b[1;33m,\u001b[0m \u001b[0mdy\u001b[0m\u001b[1;33m,\u001b[0m \u001b[0mf\u001b[0m\u001b[1;33m(\u001b[0m\u001b[0my\u001b[0m\u001b[1;33m)\u001b[0m\u001b[1;33m,\u001b[0m \u001b[0ms\u001b[0m\u001b[1;33m,\u001b[0m \u001b[0ms_curr\u001b[0m\u001b[1;33m,\u001b[0m \u001b[0mfrac_diff\u001b[0m\u001b[1;33m)\u001b[0m\u001b[1;33m\u001b[0m\u001b[0m\n\u001b[0m\u001b[0;32m     26\u001b[0m     \u001b[1;32mreturn\u001b[0m \u001b[0ms_curr\u001b[0m\u001b[1;33m\u001b[0m\u001b[0m\n\u001b[0;32m     27\u001b[0m \u001b[1;33m\u001b[0m\u001b[0m\n",
      "\u001b[1;31mValueError\u001b[0m: Unknown format code 'f' for object of type 'str'"
     ]
    }
   ],
   "source": [
    "## CELL ATTEMPTING TO CREATE GENERAL INTEGRAL FUNCTION\n",
    "\n",
    "import math\n",
    "\n",
    "def f(y):\n",
    "    return (y**3)/(e**y - 1)\n",
    "\n",
    "def fractionaldifference(prev, curr):\n",
    "    frac_diff = (float(curr - prev)/curr)\n",
    "    if frac_diff == 1.0:\n",
    "        frac_diff = 'N/A'\n",
    "    else:\n",
    "        return frac_diff\n",
    "\n",
    "def integral(initial, final, steps):\n",
    "    s = 0.\n",
    "    dy = 1.\n",
    "    for y in range(1, steps + 1):\n",
    "        a = f(y)*dy\n",
    "        s_curr = s + a\n",
    "        frac_diff = fractionaldifference(s, s_curr)\n",
    "        if frac_diff == 'N/A':\n",
    "            print 'y = {:1}, dy = {:1.5f}, f(y) = {:1.5f}, s = {:1.5f}, s_curr = {:1.5f}, frac_diff = '.format(y, dy, f(y), s, s_curr, frac_diff)\n",
    "        else:\n",
    "            print 'y = {:1}, dy = {:1.5f}, f(y) = {:1.5f}, s = {:1.5f}, s_curr = {:1.5f}, frac_diff = {:1.5f}'.format(y, dy, f(y), s, s_curr, frac_diff)\n",
    "    return s_curr\n",
    "\n",
    "x = integral(1, 100, 100)\n",
    "print x"
   ]
  },
  {
   "cell_type": "code",
   "execution_count": 147,
   "metadata": {
    "collapsed": false
   },
   "outputs": [
    {
     "name": "stdout",
     "output_type": "stream",
     "text": [
      "<type 'str'>\n",
      "False\n",
      "True\n"
     ]
    }
   ],
   "source": [
    "coolstuff = 'N/A'\n",
    "print type(coolstuff)\n",
    "print type(coolstuff) == float\n",
    "print type(coolstuff) == str"
   ]
  },
  {
   "cell_type": "code",
   "execution_count": null,
   "metadata": {
    "collapsed": true
   },
   "outputs": [],
   "source": []
  }
 ],
 "metadata": {
  "kernelspec": {
   "display_name": "Python 2",
   "language": "python",
   "name": "python2"
  },
  "language_info": {
   "codemirror_mode": {
    "name": "ipython",
    "version": 2
   },
   "file_extension": ".py",
   "mimetype": "text/x-python",
   "name": "python",
   "nbconvert_exporter": "python",
   "pygments_lexer": "ipython2",
   "version": "2.7.9"
  }
 },
 "nbformat": 4,
 "nbformat_minor": 0
}

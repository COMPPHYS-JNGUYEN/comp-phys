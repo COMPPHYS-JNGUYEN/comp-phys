{
 "cells": [
  {
   "cell_type": "code",
   "execution_count": 1,
   "metadata": {
    "collapsed": false
   },
   "outputs": [],
   "source": [
    "import numpy as np\n",
    "import csv\n",
    "import pandas as pd\n",
    "import xlrd\n",
    "import re\n",
    "import urllib\n",
    "\n",
    "import matplotlib.pyplot as plt\n",
    "from numpy import sqrt\n",
    "from scipy.optimize import curve_fit\n",
    "from scipy.stats import multivariate_normal\n",
    "from scipy.constants import pi"
   ]
  },
  {
   "cell_type": "code",
   "execution_count": 3,
   "metadata": {
    "collapsed": false
   },
   "outputs": [
    {
     "name": "stdout",
     "output_type": "stream",
     "text": [
      "(4.0, 0.48999999999999999, 0.20000000000000001)\n"
     ]
    }
   ],
   "source": [
    "# %matplotlib inline\n",
    "\n",
    "def g(x, A, x0, y0):\n",
    "    return A*(x-x0)**2 + y0\n",
    "\n",
    "curr_s = []\n",
    "curr = []\n",
    "volt_s = []\n",
    "volt = []\n",
    "\n",
    "csvfile = \"150_current.csv\"\n",
    "with open(csvfile, 'rb') as f:\n",
    "    reader = csv.reader(f)\n",
    "    for elem in reader:\n",
    "        curr_s.append(elem[0])\n",
    "        curr.append(elem[1])\n",
    "        volt_s.append(elem[2])\n",
    "        volt.append(elem[3])\n",
    "        \n",
    "curr_s = np.array(curr_s)\n",
    "curr = np.array(curr)\n",
    "volt_s = np.array(volt_s)\n",
    "volt = np.array(volt)\n",
    "\n",
    "x = np.linspace(.3, .6, 2500)\n",
    "A = 4.     #Fitting Parameter\n",
    "x0 = .49     #Fitting Parameter\n",
    "y0 = .2     #Fitting Parameter\n",
    "y = g(x, A, x0, y0)\n",
    "\n",
    "# print(meas_err, err_floor, var, unc)\n",
    "\n",
    "coeffs, cov = curve_fit(g, x, y)\n",
    "A_best = coeffs[0]\n",
    "x0_best = coeffs[1]\n",
    "y0_best = coeffs[2]\n",
    "\n",
    "print(A_best, x0_best, y0_best)\n",
    "\n",
    "plt.figure()\n",
    "plt.plot(x, y)\n",
    "plt.plot(volt, curr, 'r.')\n",
    "\n",
    "plt.show()"
   ]
  },
  {
   "cell_type": "code",
   "execution_count": null,
   "metadata": {
    "collapsed": true
   },
   "outputs": [],
   "source": []
  }
 ],
 "metadata": {
  "kernelspec": {
   "display_name": "Python 2",
   "language": "python",
   "name": "python2"
  },
  "language_info": {
   "codemirror_mode": {
    "name": "ipython",
    "version": 2
   },
   "file_extension": ".py",
   "mimetype": "text/x-python",
   "name": "python",
   "nbconvert_exporter": "python",
   "pygments_lexer": "ipython2",
   "version": "2.7.10"
  }
 },
 "nbformat": 4,
 "nbformat_minor": 0
}

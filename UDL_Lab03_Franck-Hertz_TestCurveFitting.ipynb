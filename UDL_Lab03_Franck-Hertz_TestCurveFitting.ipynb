{
 "cells": [
  {
   "cell_type": "code",
   "execution_count": 1,
   "metadata": {
    "collapsed": true
   },
   "outputs": [],
   "source": [
    "import numpy as np\n",
    "import csv\n",
    "import pandas as pd\n",
    "import xlrd\n",
    "import re\n",
    "import urllib\n",
    "\n",
    "csvfile = '150_Current.csv'"
   ]
  },
  {
   "cell_type": "code",
   "execution_count": 14,
   "metadata": {
    "collapsed": false
   },
   "outputs": [],
   "source": [
    "import csv\n",
    " \n",
    "curr_s = []\n",
    "curr = []\n",
    "volt_s = []\n",
    "volt = []\n",
    "\n",
    "with open(csvfile, 'rb') as f:\n",
    "    reader = csv.reader(f)\n",
    "    for elem in reader:\n",
    "        curr_s.append(elem[0])\n",
    "        curr.append(elem[1])\n",
    "        volt_s.append(elem[2])\n",
    "        volt.append(elem[3])\n",
    "        \n",
    "curr_s = np.array(curr_s)\n",
    "curr = np.array(curr)\n",
    "volt_s = np.array(volt_s)\n",
    "volt = np.array(volt)\n",
    "\n",
    "def y(x)"
   ]
  },
  {
   "cell_type": "code",
   "execution_count": null,
   "metadata": {
    "collapsed": true
   },
   "outputs": [],
   "source": []
  }
 ],
 "metadata": {
  "kernelspec": {
   "display_name": "Python 2",
   "language": "python",
   "name": "python2"
  },
  "language_info": {
   "codemirror_mode": {
    "name": "ipython",
    "version": 2
   },
   "file_extension": ".py",
   "mimetype": "text/x-python",
   "name": "python",
   "nbconvert_exporter": "python",
   "pygments_lexer": "ipython2",
   "version": "2.7.6"
  }
 },
 "nbformat": 4,
 "nbformat_minor": 0
}

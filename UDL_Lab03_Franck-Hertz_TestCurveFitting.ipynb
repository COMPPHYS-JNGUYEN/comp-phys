{
 "cells": [
  {
   "cell_type": "code",
   "execution_count": 16,
   "metadata": {
    "collapsed": false
   },
   "outputs": [],
   "source": [
    "import numpy as np\n",
    "import csv\n",
    "import pandas as pd\n",
    "import xlrd\n",
    "import re\n",
    "import urllib\n",
    "\n",
    "import matplotlib.pyplot as plt\n",
    "from numpy import sqrt\n",
    "from scipy.optimize import curve_fit\n",
    "from scipy.stats import multivariate_normal\n",
    "from scipy.constants import pi"
   ]
  },
  {
   "cell_type": "code",
   "execution_count": 19,
   "metadata": {
    "collapsed": false
   },
   "outputs": [
    {
     "name": "stdout",
     "output_type": "stream",
     "text": [
      "(4.0, 0.48999999999999999, 0.20000000000000001)\n"
     ]
    },
    {
     "data": {
      "image/png": "[encoded data removed]",
      "text/plain": [
       "<matplotlib.figure.Figure at 0x12a3d630>"
      ]
     },
     "metadata": {},
     "output_type": "display_data"
    }
   ],
   "source": [
    "%matplotlib inline\n",
    "\n",
    "def g(x, A, x0, y0):\n",
    "    return A*(x-x0)**2 + y0\n",
    "\n",
    "curr_s = []\n",
    "curr = []\n",
    "volt_s = []\n",
    "volt = []\n",
    "\n",
    "csvfile = \"150_current.csv\"\n",
    "with open(csvfile, 'rb') as f:\n",
    "    reader = csv.reader(f)\n",
    "    for elem in reader:\n",
    "        curr_s.append(elem[0])\n",
    "        curr.append(elem[1])\n",
    "        volt_s.append(elem[2])\n",
    "        volt.append(elem[3])\n",
    "        \n",
    "curr_s = np.array(curr_s)\n",
    "curr = np.array(curr)\n",
    "volt_s = np.array(volt_s)\n",
    "volt = np.array(volt)\n",
    "\n",
    "x = np.linspace(.3, .6, 2500)\n",
    "A = 4.     #Fitting Parameter\n",
    "x0 = .49     #Fitting Parameter\n",
    "y0 = .2     #Fitting Parameter\n",
    "y = g(x, A, x0, y0)\n",
    "\n",
    "# print(meas_err, err_floor, var, unc)\n",
    "\n",
    "coeffs, cov = curve_fit(g, x, y)\n",
    "A_best = coeffs[0]\n",
    "x0_best = coeffs[1]\n",
    "y0_best = coeffs[2]\n",
    "\n",
    "print(A_best, x0_best, y0_best)\n",
    "\n",
    "plt.figure()\n",
    "plt.plot(x, y)\n",
    "plt.plot(volt, curr, 'r.')\n",
    "\n",
    "plt.show()"
   ]
  },
  {
   "cell_type": "code",
   "execution_count": 20,
   "metadata": {
    "collapsed": false
   },
   "outputs": [
    {
     "ename": "TypeError",
     "evalue": "unsupported operand type(s) for *: 'complex' and 'numpy.ndarray'",
     "output_type": "error",
     "traceback": [
      "\u001b[1;31m---------------------------------------------------------------------------\u001b[0m",
      "\u001b[1;31mTypeError\u001b[0m                                 Traceback (most recent call last)",
      "\u001b[1;32m<ipython-input-20-f35ebc065ccf>\u001b[0m in \u001b[0;36m<module>\u001b[1;34m()\u001b[0m\n\u001b[1;32m----> 1\u001b[1;33m \u001b[0mstuff\u001b[0m \u001b[1;33m=\u001b[0m \u001b[0mnp\u001b[0m\u001b[1;33m.\u001b[0m\u001b[0mfft\u001b[0m\u001b[1;33m.\u001b[0m\u001b[0mfft\u001b[0m\u001b[1;33m(\u001b[0m\u001b[0mcurr\u001b[0m\u001b[1;33m*\u001b[0m\u001b[0mnp\u001b[0m\u001b[1;33m.\u001b[0m\u001b[0msin\u001b[0m\u001b[1;33m(\u001b[0m\u001b[1;33m-\u001b[0m\u001b[1;36m2j\u001b[0m\u001b[1;33m*\u001b[0m\u001b[0mpi\u001b[0m\u001b[1;33m*\u001b[0m\u001b[0mvolt\u001b[0m\u001b[1;33m)\u001b[0m\u001b[1;33m)\u001b[0m\u001b[1;33m\u001b[0m\u001b[0m\n\u001b[0m",
      "\u001b[1;31mTypeError\u001b[0m: unsupported operand type(s) for *: 'complex' and 'numpy.ndarray'"
     ]
    }
   ],
   "source": [
    "stuff = np.fft.fft(curr*np.sin(-2j*pi*volt))"
   ]
  },
  {
   "cell_type": "code",
   "execution_count": 28,
   "metadata": {
    "collapsed": false
   },
   "outputs": [
    {
     "ename": "TypeError",
     "evalue": "interp() takes at least 3 arguments (1 given)",
     "output_type": "error",
     "traceback": [
      "\u001b[1;31m---------------------------------------------------------------------------\u001b[0m",
      "\u001b[1;31mTypeError\u001b[0m                                 Traceback (most recent call last)",
      "\u001b[1;32m<ipython-input-28-f28486cbb88d>\u001b[0m in \u001b[0;36m<module>\u001b[1;34m()\u001b[0m\n\u001b[1;32m----> 1\u001b[1;33m \u001b[0mnp\u001b[0m\u001b[1;33m.\u001b[0m\u001b[0minterp\u001b[0m\u001b[1;33m(\u001b[0m\u001b[0mvolt\u001b[0m\u001b[1;33m)\u001b[0m\u001b[1;33m\u001b[0m\u001b[0m\n\u001b[0m",
      "\u001b[1;31mTypeError\u001b[0m: interp() takes at least 3 arguments (1 given)"
     ]
    }
   ],
   "source": [
    "x = np.linspace(0, 3.5, 2500)\n",
    "xp = "
   ]
  },
  {
   "cell_type": "code",
   "execution_count": 27,
   "metadata": {
    "collapsed": false
   },
   "outputs": [
    {
     "name": "stdout",
     "output_type": "stream",
     "text": [
      "|S12\n"
     ]
    }
   ],
   "source": [
    "print(np.can_cast(n"
   ]
  },
  {
   "cell_type": "code",
   "execution_count": null,
   "metadata": {
    "collapsed": true
   },
   "outputs": [],
   "source": []
  }
 ],
 "metadata": {
  "kernelspec": {
   "display_name": "Python 2",
   "language": "python",
   "name": "python2"
  },
  "language_info": {
   "codemirror_mode": {
    "name": "ipython",
    "version": 2
   },
   "file_extension": ".py",
   "mimetype": "text/x-python",
   "name": "python",
   "nbconvert_exporter": "python",
   "pygments_lexer": "ipython2",
   "version": "2.7.6"
  }
 },
 "nbformat": 4,
 "nbformat_minor": 0
}

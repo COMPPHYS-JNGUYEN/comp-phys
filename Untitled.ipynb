{
 "cells": [
  {
   "cell_type": "code",
   "execution_count": 13,
   "metadata": {
    "collapsed": false
   },
   "outputs": [
    {
     "ename": "SyntaxError",
     "evalue": "invalid syntax (<ipython-input-13-72b80ed1bff6>, line 20)",
     "output_type": "error",
     "traceback": [
      "\u001b[1;36m  File \u001b[1;32m\"<ipython-input-13-72b80ed1bff6>\"\u001b[1;36m, line \u001b[1;32m20\u001b[0m\n\u001b[1;33m    return fx)\u001b[0m\n\u001b[1;37m             ^\u001b[0m\n\u001b[1;31mSyntaxError\u001b[0m\u001b[1;31m:\u001b[0m invalid syntax\n"
     ]
    }
   ],
   "source": [
    "%matplotlib inline\n",
    "import numpy as np\n",
    "import matplotlib.pyplot as plt\n",
    "from __future__ import print_function\n",
    "\n",
    "from sympy import *\n",
    "from sympy.utilities.lambdify import lambdify\n",
    "from sympy.abc import x\n",
    "\n",
    "from sympy import init_printing\n",
    "init_printing()\n",
    "\n",
    "def Complex_Fourier(f, N, interval=(-1, 1)):\n",
    "    x = symbols('x')\n",
    "    n = symbols('n')\n",
    "    L = interval[1]-interval[0]\n",
    "    basis = sqrt(1./L)*exp((1j)*(2.*n*pi*x/L))\n",
    "    Cn = integrate(f*conjugate(basis), (x, -L/2., L/2.))\n",
    "    fx = summation(Cn*basis, (n, -N, N))\n",
    "    return fx\n",
    "    \n",
    "x = symbols('x')\n",
    "n = symbols('n')\n",
    "f = x**2\n",
    "fx = Complex_Fourier(f, 3, interval=(-pi, pi))\n",
    "print(fx)"
   ]
  },
  {
   "cell_type": "code",
   "execution_count": null,
   "metadata": {
    "collapsed": true
   },
   "outputs": [],
   "source": []
  }
 ],
 "metadata": {
  "kernelspec": {
   "display_name": "Python 2",
   "language": "python",
   "name": "python2"
  },
  "language_info": {
   "codemirror_mode": {
    "name": "ipython",
    "version": 2
   },
   "file_extension": ".py",
   "mimetype": "text/x-python",
   "name": "python",
   "nbconvert_exporter": "python",
   "pygments_lexer": "ipython2",
   "version": "2.7.6"
  }
 },
 "nbformat": 4,
 "nbformat_minor": 0
}

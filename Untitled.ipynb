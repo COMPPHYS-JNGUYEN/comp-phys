{
 "cells": [
  {
   "cell_type": "code",
   "execution_count": 48,
   "metadata": {
    "collapsed": false
   },
   "outputs": [
    {
     "ename": "AttributeError",
     "evalue": "'_Openpyxl22Writer' object has no attribute 'parse'",
     "output_type": "error",
     "traceback": [
      "\u001b[1;31m---------------------------------------------------------------------------\u001b[0m",
      "\u001b[1;31mAttributeError\u001b[0m                            Traceback (most recent call last)",
      "\u001b[1;32m<ipython-input-48-dd59add31436>\u001b[0m in \u001b[0;36m<module>\u001b[1;34m()\u001b[0m\n\u001b[0;32m     13\u001b[0m \u001b[1;33m\u001b[0m\u001b[0m\n\u001b[0;32m     14\u001b[0m \u001b[0mdf_comp\u001b[0m \u001b[1;33m=\u001b[0m \u001b[0mxl_computers\u001b[0m\u001b[1;33m.\u001b[0m\u001b[0mparse\u001b[0m\u001b[1;33m(\u001b[0m\u001b[1;34m\"Computers\"\u001b[0m\u001b[1;33m)\u001b[0m\u001b[1;33m\u001b[0m\u001b[0m\n\u001b[1;32m---> 15\u001b[1;33m \u001b[0mdf_Inv\u001b[0m \u001b[1;33m=\u001b[0m \u001b[0mxl_LawITS\u001b[0m\u001b[1;33m.\u001b[0m\u001b[0mparse\u001b[0m\u001b[1;33m(\u001b[0m\u001b[1;34m\"Computers\"\u001b[0m\u001b[1;33m)\u001b[0m\u001b[1;33m\u001b[0m\u001b[0m\n\u001b[0m\u001b[0;32m     16\u001b[0m \u001b[1;33m\u001b[0m\u001b[0m\n\u001b[0;32m     17\u001b[0m \u001b[0mchecked\u001b[0m \u001b[1;33m=\u001b[0m \u001b[0mdf_Inv\u001b[0m\u001b[1;33m[\u001b[0m\u001b[1;34m\"Inventory\"\u001b[0m\u001b[1;33m]\u001b[0m \u001b[1;33m==\u001b[0m \u001b[1;34m\"Checked\"\u001b[0m\u001b[1;33m\u001b[0m\u001b[0m\n",
      "\u001b[1;31mAttributeError\u001b[0m: '_Openpyxl22Writer' object has no attribute 'parse'"
     ]
    }
   ],
   "source": [
    "%matplotlib inline\n",
    "\n",
    "import pandas as pd\n",
    "import numpy as np\n",
    "import matplotlib.pyplot as plt\n",
    "import matplotlib\n",
    "import sys\n",
    "\n",
    "xl_computers = pd.ExcelFile(\"Computers.xlsx\")\n",
    "xl_LawITS = pd.ExcelFile(\"LawITS-Inventory_Zief-Encryption (No Checkboxes).xlsx\")\n",
    "\n",
    "# print(xl_LawITS.sheet_names)\n",
    "\n",
    "df_comp = xl_computers.parse(\"Computers\")\n",
    "df_Inv = xl_LawITS.parse(\"Computers\")\n",
    "\n",
    "checked = df_Inv[\"Inventory\"] == \"Checked\"\n",
    "df_Inv[\"Inventory\"][checked] = 'Yay'\n",
    "\n",
    "\n",
    "# print(df_Law[\"Asset #\"])\n",
    "\n",
    "# print(Law_Inv, Law_Asset)\n",
    "\n",
    "# for index, elem in enumerate(Law_Asset):\n",
    "#     if Law_Inv[index] == \"Checked\":\n",
    "#         print(index, \"Yay\")\n",
    "\n",
    "# Law_Inv[Law_Inv == \"Checked\"] = \"Yay\"\n",
    "    \n",
    "\n",
    "# for elem in df_Law['Inventory']:\n",
    "#     print(elem)\n",
    "# df_comp.head()\n",
    "# df_Law.head()\n",
    "\n",
    "# parsed = pd.io.parsers"
   ]
  },
  {
   "cell_type": "code",
   "execution_count": 8,
   "metadata": {
    "collapsed": false
   },
   "outputs": [
    {
     "ename": "AttributeError",
     "evalue": "'Cell' object has no attribute 'cell'",
     "output_type": "error",
     "traceback": [
      "\u001b[1;31m---------------------------------------------------------------------------\u001b[0m",
      "\u001b[1;31mAttributeError\u001b[0m                            Traceback (most recent call last)",
      "\u001b[1;32m<ipython-input-8-5be493f20102>\u001b[0m in \u001b[0;36m<module>\u001b[1;34m()\u001b[0m\n\u001b[0;32m     15\u001b[0m         \u001b[0minv_location\u001b[0m \u001b[1;33m=\u001b[0m \u001b[0melem\u001b[0m\u001b[1;33m\u001b[0m\u001b[0m\n\u001b[0;32m     16\u001b[0m \u001b[1;33m\u001b[0m\u001b[0m\n\u001b[1;32m---> 17\u001b[1;33m \u001b[1;32mprint\u001b[0m\u001b[1;33m(\u001b[0m\u001b[0minv_location\u001b[0m\u001b[1;33m.\u001b[0m\u001b[0mcell\u001b[0m\u001b[1;33m)\u001b[0m\u001b[1;33m\u001b[0m\u001b[0m\n\u001b[0m\u001b[0;32m     18\u001b[0m \u001b[1;33m\u001b[0m\u001b[0m\n\u001b[0;32m     19\u001b[0m \u001b[1;31m# inv_sheet.columns\u001b[0m\u001b[1;33m\u001b[0m\u001b[1;33m\u001b[0m\u001b[0m\n",
      "\u001b[1;31mAttributeError\u001b[0m: 'Cell' object has no attribute 'cell'"
     ]
    }
   ],
   "source": [
    "import openpyxl as xl\n",
    "import numpy as np\n",
    "\n",
    "acc_file = xl.load_workbook(\"Computers.xlsx\")\n",
    "inv_file = xl.load_workbook(\"LawITS-Inventory_Zief-Encryption (No Checkboxes).xlsx\")\n",
    "\n",
    "acc_sheet = acc_file.get_sheet_by_name(\"Computers\")\n",
    "inv_sheet = inv_file.get_sheet_by_name(\"Computers\")\n",
    "\n",
    "inv_sheet_rows = np.array(list((inv_sheet.rows[0])))\n",
    "# print(inv_sheet_rows)\n",
    "\n",
    "for elem in inv_sheet_rows:\n",
    "    if elem.value == \"Inventory\":\n",
    "        inv_location = elem\n",
    "        \n",
    "print(inv_location)\n",
    "\n",
    "# inv_sheet.columns\n",
    "\n",
    "\n",
    "# for col in inv_sheet:\n",
    "#     if inv_sheet[\"\".format()]"
   ]
  },
  {
   "cell_type": "code",
   "execution_count": 28,
   "metadata": {
    "collapsed": false
   },
   "outputs": [
    {
     "ename": "TypeError",
     "evalue": "append() takes at least 2 arguments (1 given)",
     "output_type": "error",
     "traceback": [
      "\u001b[1;31m---------------------------------------------------------------------------\u001b[0m",
      "\u001b[1;31mTypeError\u001b[0m                                 Traceback (most recent call last)",
      "\u001b[1;32m<ipython-input-28-4409bcbfb83a>\u001b[0m in \u001b[0;36m<module>\u001b[1;34m()\u001b[0m\n\u001b[0;32m     20\u001b[0m \u001b[1;32mfor\u001b[0m \u001b[0mval\u001b[0m \u001b[1;32min\u001b[0m \u001b[0minv_col_iter\u001b[0m\u001b[1;33m:\u001b[0m     \u001b[1;31m#Checks the value of items in stuff, and determines if the cell is \"Checked\"\u001b[0m\u001b[1;33m\u001b[0m\u001b[0m\n\u001b[0;32m     21\u001b[0m     \u001b[1;32mif\u001b[0m \u001b[0mval\u001b[0m\u001b[1;33m[\u001b[0m\u001b[1;36m0\u001b[0m\u001b[1;33m]\u001b[0m\u001b[1;33m.\u001b[0m\u001b[0mvalue\u001b[0m \u001b[1;33m==\u001b[0m \u001b[1;34m\"Checked\"\u001b[0m\u001b[1;33m:\u001b[0m\u001b[1;33m\u001b[0m\u001b[0m\n\u001b[1;32m---> 22\u001b[1;33m         \u001b[0mnp\u001b[0m\u001b[1;33m.\u001b[0m\u001b[0mappend\u001b[0m\u001b[1;33m(\u001b[0m\u001b[0mi\u001b[0m\u001b[1;33m)\u001b[0m     \u001b[1;31m#Appends row number to checked_rows\u001b[0m\u001b[1;33m\u001b[0m\u001b[0m\n\u001b[0m\u001b[0;32m     23\u001b[0m     \u001b[0mi\u001b[0m \u001b[1;33m+=\u001b[0m \u001b[1;36m1\u001b[0m     \u001b[1;31m#Moves to the next row number\u001b[0m\u001b[1;33m\u001b[0m\u001b[0m\n\u001b[0;32m     24\u001b[0m \u001b[1;32mprint\u001b[0m\u001b[1;33m(\u001b[0m\u001b[0mchecked_rows\u001b[0m\u001b[1;33m)\u001b[0m\u001b[1;33m\u001b[0m\u001b[0m\n",
      "\u001b[1;31mTypeError\u001b[0m: append() takes at least 2 arguments (1 given)"
     ]
    }
   ],
   "source": [
    "import openpyxl\n",
    "import numpy as np\n",
    "import string\n",
    "\n",
    "inv_file = openpyxl.load_workbook(\"LawITS-Inventory_Zief-Encryption (No Checkboxes).xlsx\")\n",
    "inv_sheet = inv_file.get_sheet_by_name(\"Computers\")\n",
    "inv_sheet_col = inv_sheet.rows[0]\n",
    "inv_sheet_row = inv_sheet.columns[0]\n",
    "\n",
    "for col in string.ascii_uppercase: #Runs through all columns of excel with letters A-Z\n",
    "    cell_name = \"{}{}\".format(col, 1)     #Current cell in loop\n",
    "    if inv_sheet[cell_name].value == 'Inventory':     #Looks for column title \"Inventory\"\n",
    "        inv_location = cell_name     #\"Inventory\" column location\n",
    "        inv_col = col     #Column of \"Inventory\" cell\n",
    "\n",
    "inv_col_iter = inv_sheet.iter_rows(range_string=\"{}2:{}{}\".format(inv_col, inv_col, len(inv_sheet_row)+1))     #Iterator that goes through the column only\n",
    "checked_rows = []     #Initialized to store checked rows in \"Inventory\" column\n",
    "i = 2     #Initialized to keep track of row numbers\n",
    "\n",
    "for val in inv_col_iter:     #Checks the value of items in stuff, and determines if the cell is \"Checked\"\n",
    "    if val[0].value == \"Checked\":\n",
    "        checked_rows.append(i)     #Appends row number to checked_rows\n",
    "    i += 1     #Moves to the next row number\n",
    "print(checked_rows)\n",
    "# cell_range = inv_sheet[\"{}2\".format(cell_col):\"{}{}\".format(cell_col, len(inv_sheet_row)+1)]\n",
    "\n",
    "# print(inv_sheet.columns\n",
    "# for row in range(1,len(inv_sheet_row)+1):\n",
    "#     for col in string.ascii_uppercase:\n",
    "#         cell_name = '{}{}'.format(col, row)\n",
    "#         print inv_sheet[cell_name].value\n",
    "\n",
    "# print(inv_sheet_rows)"
   ]
  },
  {
   "cell_type": "code",
   "execution_count": null,
   "metadata": {
    "collapsed": true
   },
   "outputs": [],
   "source": []
  }
 ],
 "metadata": {
  "kernelspec": {
   "display_name": "Python 2",
   "language": "python",
   "name": "python2"
  },
  "language_info": {
   "codemirror_mode": {
    "name": "ipython",
    "version": 2
   },
   "file_extension": ".py",
   "mimetype": "text/x-python",
   "name": "python",
   "nbconvert_exporter": "python",
   "pygments_lexer": "ipython2",
   "version": "2.7.11"
  }
 },
 "nbformat": 4,
 "nbformat_minor": 0
}

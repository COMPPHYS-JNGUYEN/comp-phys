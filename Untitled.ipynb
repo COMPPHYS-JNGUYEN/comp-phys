{
 "cells": [
  {
   "cell_type": "code",
   "execution_count": 14,
   "metadata": {
    "collapsed": false
   },
   "outputs": [
    {
     "name": "stdout",
     "output_type": "stream",
     "text": [
      "0.5*exp(-3.0*I*x)*Integral(x**2*exp(3.0*I*conjugate(x)), (x, -1.0*pi, 1.0*pi))/pi + 0.5*exp(-2.0*I*x)*Integral(x**2*exp(2.0*I*conjugate(x)), (x, -1.0*pi, 1.0*pi))/pi + 0.5*exp(-1.0*I*x)*Integral(x**2*exp(1.0*I*conjugate(x)), (x, -1.0*pi, 1.0*pi))/pi + 0.5*exp(1.0*I*x)*Integral(x**2*exp(-1.0*I*conjugate(x)), (x, -1.0*pi, 1.0*pi))/pi + 0.5*exp(2.0*I*x)*Integral(x**2*exp(-2.0*I*conjugate(x)), (x, -1.0*pi, 1.0*pi))/pi + 0.5*exp(3.0*I*x)*Integral(x**2*exp(-3.0*I*conjugate(x)), (x, -1.0*pi, 1.0*pi))/pi + 0.5*Integral(x**2, (x, -1.0*pi, 1.0*pi))/pi\n"
     ]
    }
   ],
   "source": [
    "%matplotlib inline\n",
    "import numpy as np\n",
    "import matplotlib.pyplot as plt\n",
    "from __future__ import print_function\n",
    "\n",
    "from sympy import *\n",
    "from sympy.utilities.lambdify import lambdify\n",
    "from sympy.abc import x\n",
    "\n",
    "from sympy import init_printing\n",
    "init_printing()\n",
    "\n",
    "def Complex_Fourier(f, N, interval=(-1, 1)):\n",
    "    x = symbols('x')\n",
    "    n = symbols('n')\n",
    "    L = interval[1]-interval[0]\n",
    "    basis = sqrt(1./L)*exp((1j)*(2.*n*pi*x/L))\n",
    "    Cn = integrate(f*conjugate(basis), (x, -L/2., L/2.))\n",
    "    fx = summation(Cn*basis, (n, -N, N))\n",
    "    return fx\n",
    "    \n",
    "x = symbols('x')\n",
    "n = symbols('n')\n",
    "f = x**2\n",
    "fx = Complex_Fourier(f, 3, interval=(-pi, pi))\n",
    "print(fx)"
   ]
  },
  {
   "cell_type": "code",
   "execution_count": null,
   "metadata": {
    "collapsed": true
   },
   "outputs": [],
   "source": []
  }
 ],
 "metadata": {
  "kernelspec": {
   "display_name": "Python 2",
   "language": "python",
   "name": "python2"
  },
  "language_info": {
   "codemirror_mode": {
    "name": "ipython",
    "version": 2
   },
   "file_extension": ".py",
   "mimetype": "text/x-python",
   "name": "python",
   "nbconvert_exporter": "python",
   "pygments_lexer": "ipython2",
   "version": "2.7.6"
  }
 },
 "nbformat": 4,
 "nbformat_minor": 0
}

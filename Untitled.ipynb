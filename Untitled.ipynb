{
 "cells": [
  {
   "cell_type": "code",
   "execution_count": 32,
   "metadata": {
    "collapsed": false
   },
   "outputs": [
    {
     "name": "stderr",
     "output_type": "stream",
     "text": [
      "/Users/labuser/Library/Enthought/Canopy_64bit/User/lib/python2.7/site-packages/IPython/kernel/__main__.py:7: RuntimeWarning: invalid value encountered in arcsin\n",
      "/Users/labuser/Library/Enthought/Canopy_64bit/User/lib/python2.7/site-packages/IPython/kernel/__main__.py:8: RuntimeWarning: invalid value encountered in arcsin\n"
     ]
    }
   ],
   "source": [
    "import numpy as np\n",
    "import matplotlib.pyplot as plt\n",
    "\n",
    "ni = 1.5    #glass\n",
    "nt = 1      #air\n",
    "inc = np.linspace(0, np.pi/2., 100*np.pi)\n",
    "ts = (2*ni*np.cos(inc))/(ni*np.cos(inc) + nt*np.cos(np.arcsin((ni/nt)*np.sin(inc))))\n",
    "tp = (2*ni*np.cos(inc))/(ni*np.cos(np.arcsin((ni/nt)*np.sin(inc))) + nt*np.cos(inc))\n",
    "\n",
    "\n",
    "plt.xlabel('Incident Angle (degrees)')\n",
    "plt.ylabel('Amplitude Coefficients')\n",
    "plt.title('Transmission Coefficients vs. Incident Angle')\n",
    "\n",
    "plt.plot(inc, ts)\n",
    "plt.plot(inc, tp)\n",
    "plt.show()"
   ]
  },
  {
   "cell_type": "code",
   "execution_count": 37,
   "metadata": {
    "collapsed": false
   },
   "outputs": [
    {
     "name": "stderr",
     "output_type": "stream",
     "text": [
      "/Users/labuser/Library/Enthought/Canopy_64bit/User/lib/python2.7/site-packages/IPython/kernel/__main__.py:1: RuntimeWarning: invalid value encountered in arcsin\n",
      "  if __name__ == '__main__':\n",
      "/Users/labuser/Library/Enthought/Canopy_64bit/User/lib/python2.7/site-packages/IPython/kernel/__main__.py:2: RuntimeWarning: invalid value encountered in arcsin\n",
      "  from IPython.kernel.zmq import kernelapp as app\n"
     ]
    }
   ],
   "source": [
    "Ts = ((nt*np.cos(np.arcsin((ni/nt)*np.sin(inc))))/(ni*np.cos(inc)))*(ts**2)\n",
    "Tp = ((nt*np.cos(np.arcsin((ni/nt)*np.sin(inc))))/(ni*np.cos(inc)))*(tp**2)\n",
    "Rs = 1 - Ts\n",
    "Rp = 1 - Tp\n",
    "\n",
    "fig = plt.figure()\n",
    "plt.suptitle('Reflectance and Transmittance vs. Incident Angle')\n",
    "ax = fig.add_subplot(121)\n",
    "plt.title('Perpendicular')\n",
    "plt.plot(inc, Ts)\n",
    "plt.plot(inc, Rs)\n",
    "plt.xlabel('Incident Angle (Radians)')\n",
    "plt.ylabel('Reflection and Transmittance')\n",
    "\n",
    "plt.subplot(122)\n",
    "plt.title('Parallel')\n",
    "plt.plot(inc, Tp)\n",
    "plt.plot(inc, Rp)\n",
    "plt.xlabel('Incident Angle (Radians)')\n",
    "plt.ylabel('Reflection and Transmittance')\n",
    "\n",
    "plt.show()"
   ]
  },
  {
   "cell_type": "code",
   "execution_count": null,
   "metadata": {
    "collapsed": true
   },
   "outputs": [],
   "source": []
  }
 ],
 "metadata": {
  "kernelspec": {
   "display_name": "Python 2",
   "language": "python",
   "name": "python2"
  },
  "language_info": {
   "codemirror_mode": {
    "name": "ipython",
    "version": 2
   },
   "file_extension": ".py",
   "mimetype": "text/x-python",
   "name": "python",
   "nbconvert_exporter": "python",
   "pygments_lexer": "ipython2",
   "version": "2.7.9"
  }
 },
 "nbformat": 4,
 "nbformat_minor": 0
}

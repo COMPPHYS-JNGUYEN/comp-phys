{
 "cells": [
  {
   "cell_type": "code",
   "execution_count": 2,
   "metadata": {
    "collapsed": true
   },
   "outputs": [],
   "source": [
    "import matplotlib.pyplot as plt\n",
    "import numpy as np\n",
    "from numpy import sqrt\n",
    "from scipy.optimize import curve_fit\n",
    "from scipy.stats import multivariate_normal\n",
    "from scipy.constants import pi\n",
    "import pdb\n",
    "import pickle"
   ]
  },
  {
   "cell_type": "code",
   "execution_count": 3,
   "metadata": {
    "collapsed": false
   },
   "outputs": [],
   "source": [
    "with open('ligo_freq_t.p', 'r') as f:\n",
    "    spec_data = pickle.load(f)\n",
    "\n",
    "bins = spec_data['t']\n",
    "freqs = spec_data['freqs']\n",
    "spec_H1 = spec_data['spec_H1']"
   ]
  },
  {
   "cell_type": "code",
   "execution_count": 9,
   "metadata": {
    "collapsed": false
   },
   "outputs": [
    {
     "name": "stdout",
     "output_type": "stream",
     "text": [
      "(129, 12)\n",
      "10.0\n",
      "[  9.98046875   9.984375     9.98828125   9.9921875    9.99609375  10.\n",
      "  10.00390625  10.0078125   10.01171875  10.015625    10.01953125]\n"
     ]
    }
   ],
   "source": [
    "# freq = freqs[np.where((freqs >= 50.)*(freqs <= 250.))]\n",
    "# print(len(freqs), len(freq))\n",
    "# deltat = .02\n",
    "# print(np.median(bins))\n",
    "# indxt = bins[np.where((bins >= np.median(bins)-deltat)*(bins < np.median(bins)+deltat))]\n",
    "# print(indxt)\n",
    "\n",
    "\n",
    "# # ** Note they used np.where -- but you know that you don't have to!\n",
    "# # ** Try the following!\n",
    "# # indxt = (time_H1 >= tevent-deltat) * (time_H1 < tevent+deltat)"
   ]
  },
  {
   "cell_type": "code",
   "execution_count": 10,
   "metadata": {
    "collapsed": false
   },
   "outputs": [
    {
     "name": "stdout",
     "output_type": "stream",
     "text": [
      "('t: max, min, len', 0.01953125, -0.01953125, 11)\n"
     ]
    },
    {
     "ename": "NameError",
     "evalue": "name 'strain_H1_whiten' is not defined",
     "output_type": "error",
     "traceback": [
      "\u001b[0;31m---------------------------------------------------------------------------\u001b[0m",
      "\u001b[0;31mNameError\u001b[0m                                 Traceback (most recent call last)",
      "\u001b[0;32m<ipython-input-10-5eb7c6bf2583>\u001b[0m in \u001b[0;36m<module>\u001b[0;34m()\u001b[0m\n\u001b[1;32m     29\u001b[0m \u001b[0;31m# Plot the H1 whitened spectrogram around the signal\u001b[0m\u001b[0;34m\u001b[0m\u001b[0;34m\u001b[0m\u001b[0m\n\u001b[1;32m     30\u001b[0m \u001b[0mplt\u001b[0m\u001b[0;34m.\u001b[0m\u001b[0mfigure\u001b[0m\u001b[0;34m(\u001b[0m\u001b[0;34m)\u001b[0m\u001b[0;34m\u001b[0m\u001b[0m\n\u001b[0;32m---> 31\u001b[0;31m spec_H1, freqs, bins, im = plt.specgram(strain_H1_whiten[indxt], NFFT=NFFT, Fs=fs, window=window, \n\u001b[0m\u001b[1;32m     32\u001b[0m                                         noverlap=NOVL, cmap=spec_cmap, xextent=[-deltat,deltat])\n\u001b[1;32m     33\u001b[0m \u001b[0mplt\u001b[0m\u001b[0;34m.\u001b[0m\u001b[0mxlabel\u001b[0m\u001b[0;34m(\u001b[0m\u001b[0;34m'time (s) since '\u001b[0m\u001b[0;34m+\u001b[0m\u001b[0mstr\u001b[0m\u001b[0;34m(\u001b[0m\u001b[0mtevent\u001b[0m\u001b[0;34m)\u001b[0m\u001b[0;34m)\u001b[0m\u001b[0;34m\u001b[0m\u001b[0m\n",
      "\u001b[0;31mNameError\u001b[0m: name 'strain_H1_whiten' is not defined"
     ]
    }
   ],
   "source": [
    "#  plot the whitened data, zooming in on the signal region:\n",
    "tevent = np.median(bins)          # Mon Sep 14 09:50:45 GMT 2015 \n",
    "deltat = .02                      # seconds around the event\n",
    "# index into the strain time series for this time interval:\n",
    "indxt = np.where((bins >= tevent-deltat) & (bins < tevent+deltat))\n",
    "\n",
    "# ** I added the following line\n",
    "t = bins[indxt]\n",
    "print('t: max, min, len', t.max() - tevent, t.min() - tevent, len(t))\n",
    "\n",
    "# pick a shorter FTT time interval, like 1/16 of a second:\n",
    "# ** I changed 1/16 to 1/n.\n",
    "# ** now the frequency is sampled at 16 Hz intervals instead of 1 Hz\n",
    "# ** this is why we will end up with 129 frequency values, 4096/16,\n",
    "# ** plus 0 Hz. \n",
    "# ** previous cell: n = 8; here n = 16: on small time scales, this is better.\n",
    "n = 16\n",
    "fs = 4096.\n",
    "NFFT = fs/n\n",
    "\n",
    "# with a lot of overlap, to resolve short-time features:\n",
    "NOVL = NFFT*15/16\n",
    "# NOVL = NFFT*7/8\n",
    "\n",
    "# and choose a window that minimizes \"spectral leakage\" \n",
    "# (https://en.wikipedia.org/wiki/Spectral_leakage)\n",
    "window = np.blackman(NFFT)\n",
    "\n",
    "# Plot the H1 whitened spectrogram around the signal\n",
    "plt.figure()\n",
    "spec_H1, freqs, bins, im = plt.specgram(strain_H1_whiten[indxt], NFFT=NFFT, Fs=fs, window=window, \n",
    "                                        noverlap=NOVL, cmap=spec_cmap, xextent=[-deltat,deltat])\n",
    "plt.xlabel('time (s) since '+str(tevent))\n",
    "plt.ylabel('Frequency (Hz)')\n",
    "plt.colorbar()\n",
    "plt.axis([-0.5, 0.5, 0, 500])\n",
    "plt.title('aLIGO H1 strain data near GW150914')\n",
    "# plt.savefig('GW150914_H1_spectrogram_whitened.png')\n",
    "\n",
    "print('spect_H1.shape', spec_H1.shape)\n",
    "print('freq:', freqs.max(), freqs.min(), np.gradient(freqs)[0])\n",
    "# ** bins max and min are set by 20*(1-/2n) and 1/2n.\n",
    "# ** whereas del_bins = bins[1] - bins[0] is set by bins.max() - bins.min())/(len(bins)-1)\n",
    "# ** The reason len(bins) is high because the original sampling rate is very high: 16384 Hz.\n",
    "# ** del_bins = 0.00390625 = 1/256, why??\n",
    "print('bins:', bins.max(), bins.mean(), bins.min(), bins[1] - bins[0], len(bins), (bins.max() - bins.min())/(len(bins)-1))\n",
    "\n",
    "\n",
    "# with open('ligo_freq_t.p', 'w') as f:\n",
    "#     pickle.dump({'spec_H1': spec_H1, 'freqs': freqs, 't': bins}, f )\n"
   ]
  },
  {
   "cell_type": "code",
   "execution_count": null,
   "metadata": {
    "collapsed": true
   },
   "outputs": [],
   "source": []
  }
 ],
 "metadata": {
  "kernelspec": {
   "display_name": "Python 2",
   "language": "python",
   "name": "python2"
  },
  "language_info": {
   "codemirror_mode": {
    "name": "ipython",
    "version": 2
   },
   "file_extension": ".py",
   "mimetype": "text/x-python",
   "name": "python",
   "nbconvert_exporter": "python",
   "pygments_lexer": "ipython2",
   "version": "2.7.9"
  }
 },
 "nbformat": 4,
 "nbformat_minor": 0
}

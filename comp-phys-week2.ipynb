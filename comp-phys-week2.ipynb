{
 "cells": [
  {
   "cell_type": "code",
   "execution_count": 3,
   "metadata": {
    "collapsed": false
   },
   "outputs": [
    {
     "name": "stdout",
     "output_type": "stream",
     "text": [
      "With the for loop, the sum is 1.6449240669\n",
      "With the while loop, the sum is 1.6449240669\n",
      "correct answer: 1.64493406685\n"
     ]
    }
   ],
   "source": [
    "from math import pi\n",
    "s = 0\n",
    "max = 100000\n",
    "\n",
    "for i in range(max):\n",
    "    s += 1./(i+1)**2\n",
    "    \n",
    "print 'With the for loop, the sum is', s\n",
    "\n",
    "\n",
    "#need to reinitiate i and s\n",
    "i = 1\n",
    "s = 0\n",
    "\n",
    "while i <= max:\n",
    "    s+= 1./i**2\n",
    "    i = 1+i\n",
    "    \n",
    "print 'With the while loop, the sum is', s\n",
    "\n",
    "#correct answer is pi^2/6. Let's see how close we get:\n",
    "\n",
    "\n",
    "print 'correct answer:', pi**2/6"
   ]
  },
  {
   "cell_type": "code",
   "execution_count": 4,
   "metadata": {
    "collapsed": false
   },
   "outputs": [
    {
     "name": "stdout",
     "output_type": "stream",
     "text": [
      "hello world\n"
     ]
    }
   ],
   "source": [
    "# str\n",
    "a = 'hello'\n",
    "space = ' '\n",
    "b = 'world'\n",
    "print a + space + b"
   ]
  },
  {
   "cell_type": "code",
   "execution_count": 5,
   "metadata": {
    "collapsed": false
   },
   "outputs": [
    {
     "name": "stdout",
     "output_type": "stream",
     "text": [
      "True\n",
      "True\n",
      "True\n",
      "False\n",
      "False\n",
      "True\n"
     ]
    }
   ],
   "source": [
    "b = bool(1)\n",
    "print b\n",
    "b = bool(20)\n",
    "print b\n",
    "b = bool(-3)\n",
    "print b\n",
    "b = bool(0)\n",
    "print b\n",
    "b = bool(0.)\n",
    "print b\n",
    "b = bool(2.5)\n",
    "print b"
   ]
  },
  {
   "cell_type": "code",
   "execution_count": 9,
   "metadata": {
    "collapsed": false
   },
   "outputs": [
    {
     "name": "stdout",
     "output_type": "stream",
     "text": [
      "True\n",
      "  -20  -4.0\n",
      "True\n",
      "  -15   5.0\n",
      "True\n",
      "   -5  23.0\n",
      "True\n",
      "    5  41.0\n",
      "True\n",
      "   10  50.0\n",
      "True\n",
      "   15  59.0\n",
      "True\n",
      "   20  68.0\n"
     ]
    }
   ],
   "source": [
    "Cdegrees = [-20, -15, -5, 5, 10, 15, 20]\n",
    "for C in Cdegrees:\n",
    "    print C in Cdegrees\n",
    "    F = (9.0/5)*C + 32.\n",
    "    print '%5d %5.1f' % (C, F)"
   ]
  },
  {
   "cell_type": "code",
   "execution_count": 2,
   "metadata": {
    "collapsed": false
   },
   "outputs": [
    {
     "name": "stdout",
     "output_type": "stream",
     "text": [
      "True\n",
      "  -20  -4.0\n",
      "True\n",
      "  -15   5.0\n",
      "True\n",
      "   -5  23.0\n",
      "True\n",
      "    5  41.0\n",
      "True\n",
      "   10  50.0\n",
      "True\n",
      "   15  59.0\n",
      "True\n",
      "   20  68.0\n"
     ]
    }
   ],
   "source": [
    "Cdegrees = [-20, -15, -5, 5, 10, 15, 20]\n",
    "i = 0\n",
    "while i < len(Cdegrees):\n",
    "    C = Cdegrees[i]\n",
    "    print C in Cdegrees\n",
    "    F = (9./5)*C + 32.\n",
    "    print '%5d %5.1f' % (C, F)\n",
    "    i += 1"
   ]
  },
  {
   "cell_type": "code",
   "execution_count": null,
   "metadata": {
    "collapsed": true
   },
   "outputs": [],
   "source": []
  }
 ],
 "metadata": {
  "kernelspec": {
   "display_name": "Python 2",
   "language": "python",
   "name": "python2"
  },
  "language_info": {
   "codemirror_mode": {
    "name": "ipython",
    "version": 2
   },
   "file_extension": ".py",
   "mimetype": "text/x-python",
   "name": "python",
   "nbconvert_exporter": "python",
   "pygments_lexer": "ipython2",
   "version": "2.7.9"
  }
 },
 "nbformat": 4,
 "nbformat_minor": 0
}

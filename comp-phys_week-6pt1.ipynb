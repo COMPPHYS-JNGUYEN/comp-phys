{
 "cells": [
  {
   "cell_type": "markdown",
   "metadata": {},
   "source": [
    "# Topics (related to the midterm project):\n",
    "\n",
    "## 1. Regular Expression (regex, or sometimes RE)\n",
    "## 2. return vs. yield\n",
    "## 3. random.sample, numpy.random, and histogram plots "
   ]
  },
  {
   "cell_type": "markdown",
   "metadata": {},
   "source": [
    "## Regular expression\n",
    "\n",
    "\n",
    "###\"The limits of my language mean the limits of my world.\"  \n",
    "\n",
    "###\\- Ludwig Wittgenstein\n",
    "\n",
    "\n",
    "Resources:\n",
    "\n",
    "* *Effective Computation in Physics * Chapter 8\n",
    "\n",
    "* https://docs.python.org/2/library/re.html"
   ]
  },
  {
   "cell_type": "raw",
   "metadata": {},
   "source": [
    "Expression   Matches\n",
    "\n",
    "uvwxyz       uvwxyz\n",
    "\n",
    "'.'          any character except a newline. \n",
    "'*'          0 or more repetitions of the preceding RE \n",
    "             (e.g. ab* will match ‘a’, ‘ab’, or ‘a’ followed by any number of ‘b')\n",
    "             \n",
    ".*           Zero or more of any character, such as supercalifragilisticexpialidocious or 42  #Will match anything by using this\n",
    "\n",
    "'?'          0 or 1 repetitions of the preceding RE. ab? will match either ‘a’ or ‘ab’.\n",
    "\n",
    "\n",
    "[A-Z]        any character between A and Z\n",
    "[a-z]        any character between a and z\n",
    "[0-9]        any digit        \n",
    "[^]          not, e.g. [^0-9] means not a digit\n",
    "\\s           any white space characters (usually single space or tab)\n",
    "\\d           any digits (equivalent to [0-9])\n",
    "\n",
    "[u-z]        One of either u, v, w, x, y, or z"
   ]
  },
  {
   "cell_type": "markdown",
   "metadata": {},
   "source": [
    "### re.match(pattern, string, flags=0)\n",
    "\n",
    "\n",
    "###pattern:\tThis is the regular expression to be matched.\n",
    "\n",
    "###string:\tThis is the string, which would be searched to match the pattern at the beginning of string.\n",
    "\n",
    "###flags:\tYou can specify different flags, e.g., to do case insensitive search, use flags = re.I (for all flags: https://docs.python.org/2/howto/regex.html)\n",
    "\n",
    "\n",
    "### The match() function returns a match object on success, None on failure.  \n",
    "\n",
    "### Use group(num) or groups() function of match object to get matched expression.\n",
    "\n",
    "\n",
    "###*Note: match() checks for a match only at the beginning of the string*"
   ]
  },
  {
   "cell_type": "code",
   "execution_count": 1,
   "metadata": {
    "collapsed": false
   },
   "outputs": [
    {
     "name": "stdout",
     "output_type": "stream",
     "text": [
      "<_sre.SRE_Match object at 0x101c82e68>\n",
      "2015-12-16\n"
     ]
    }
   ],
   "source": [
    "# A match!\n",
    "import re\n",
    "m = re.match(\"20[01][0-9].*[0-9][0-9].*[0-9][0-9]\", '2015-12-16')\n",
    "print m\n",
    "print m.group()  ## Tells you that the group has been found."
   ]
  },
  {
   "cell_type": "code",
   "execution_count": 4,
   "metadata": {
    "collapsed": false
   },
   "outputs": [
    {
     "name": "stdout",
     "output_type": "stream",
     "text": [
      "<_sre.SRE_Match object at 0x102dbb098>\n",
      "2015-12-16\n"
     ]
    }
   ],
   "source": [
    "# A match!  [0-9] --> \\d\n",
    "import re\n",
    "m = re.match(\"20[01][0-9].*[0-9][0-9].*\\d\\d\", '2015-12-16')\n",
    "print m\n",
    "print m.group()"
   ]
  },
  {
   "cell_type": "code",
   "execution_count": 2,
   "metadata": {
    "collapsed": false
   },
   "outputs": [
    {
     "name": "stdout",
     "output_type": "stream",
     "text": [
      "None\n"
     ]
    }
   ],
   "source": [
    "# No match\n",
    "import re\n",
    "m = re.match(\"20[01][0-9].*[0-9][ 0-9].*[0-9][0-9]\", '20')\n",
    "print m"
   ]
  },
  {
   "cell_type": "code",
   "execution_count": 5,
   "metadata": {
    "collapsed": false
   },
   "outputs": [
    {
     "name": "stdout",
     "output_type": "stream",
     "text": [
      "2015a12b16\n"
     ]
    }
   ],
   "source": [
    "# match or not?  '2015-12-16' --> '2015a12b16'\n",
    "import re\n",
    "m = re.match(\"20[01][0-9].*[ 0-9][ 0-9].*[0-9][0-9]\", '2015a12b16')\n",
    "if m:\n",
    "    print m.group()"
   ]
  },
  {
   "cell_type": "code",
   "execution_count": 6,
   "metadata": {
    "collapsed": false
   },
   "outputs": [
    {
     "name": "stdout",
     "output_type": "stream",
     "text": [
      "no match\n"
     ]
    }
   ],
   "source": [
    "# match or not?  second '.*' --> [^a-z]\n",
    "import re\n",
    "m = re.match(\"20[ 01][ 0-9].*[0-9][0-9][^a-z][0-9][0-9]\", '2015a12b16')\n",
    "if m:\n",
    "    print m.group()\n",
    "else:\n",
    "    print 'no match'"
   ]
  },
  {
   "cell_type": "code",
   "execution_count": 7,
   "metadata": {
    "collapsed": false
   },
   "outputs": [
    {
     "name": "stdout",
     "output_type": "stream",
     "text": [
      "2015a12b16\n"
     ]
    }
   ],
   "source": [
    "# match or not?  [^a-z] --> [^a]\n",
    "import re\n",
    "m = re.match(\"20[ 01][ 0-9].*[0-9][0-9][^a][0-9][0-9]\", '2015a12b16')\n",
    "if m:\n",
    "    print m.group()\n",
    "else:\n",
    "    print 'no match'"
   ]
  },
  {
   "cell_type": "code",
   "execution_count": 8,
   "metadata": {
    "collapsed": false
   },
   "outputs": [
    {
     "name": "stdout",
     "output_type": "stream",
     "text": [
      "2019adlkfj are1216\n"
     ]
    }
   ],
   "source": [
    "# match or not?\n",
    "import re\n",
    "m = re.match(\"20[01][0-9].*[0-9][0-9].*[0-9][0-9]\", '2019adlkfj are1216')\n",
    "if m:\n",
    "    print m.group()\n",
    "else:\n",
    "    print 'no match'"
   ]
  },
  {
   "cell_type": "code",
   "execution_count": 11,
   "metadata": {
    "collapsed": false
   },
   "outputs": [
    {
     "name": "stdout",
     "output_type": "stream",
     "text": [
      "no match\n"
     ]
    }
   ],
   "source": [
    "# match or not?\n",
    "import re\n",
    "m = re.match(\" 20[01][0-9].*[0-9][0-9].*[0-9][0-9]\", '2015^12&16')    ##There's an extra space in the beginning\n",
    "if m:\n",
    "    print m.group()\n",
    "else:\n",
    "    print 'no match'"
   ]
  },
  {
   "cell_type": "code",
   "execution_count": 14,
   "metadata": {
    "collapsed": false
   },
   "outputs": [
    {
     "name": "stdout",
     "output_type": "stream",
     "text": [
      "Something very intereting will happen on 2015-12-16\n"
     ]
    }
   ],
   "source": [
    "# match or not?\n",
    "import re\n",
    "m = re.match(\".*20[01][0-9].*[0-9][0-9].*[0-9][0-9]\", 'Something very intereting \\\n",
    "will happen on 2015-12-16.  You just wait and see.')\n",
    "if m:\n",
    "    print m.group()\n",
    "else:\n",
    "    print 'no match'"
   ]
  },
  {
   "cell_type": "code",
   "execution_count": null,
   "metadata": {
    "collapsed": false
   },
   "outputs": [],
   "source": [
    "# match or not?\n",
    "import re\n",
    "m = re.match(\".*20[01][0-9].*[0-9][0-9].*[0-9][0-9]\", 'Something very intereting \\\n",
    "will happen on 2015-12-16.  You just wait and see.')\n",
    "if m:\n",
    "    print m.group()\n",
    "else:\n",
    "    print 'no match'"
   ]
  },
  {
   "cell_type": "code",
   "execution_count": 18,
   "metadata": {
    "collapsed": false
   },
   "outputs": [
    {
     "name": "stdout",
     "output_type": "stream",
     "text": [
      "None\n"
     ]
    }
   ],
   "source": [
    "# Match or not?\n",
    "import re\n",
    "m = re.match(\".*20[01][0-9]-[0-9][0-9]-[0-9][0-9]\", 'Something very intereting \\\n",
    "will happen on 2015.12.16.  You just wait and see.')\n",
    "print m"
   ]
  },
  {
   "cell_type": "markdown",
   "metadata": {},
   "source": [
    "## re.search()\n",
    "\n",
    "### If you want to locate a match anywhere in string, use search()"
   ]
  },
  {
   "cell_type": "code",
   "execution_count": null,
   "metadata": {
    "collapsed": false
   },
   "outputs": [],
   "source": [
    "import re\n",
    "m = re.search(\"20[01][0-9]-[0-9][0-9]-[0-9][0-9]\", 'Something very intereting \\\n",
    "will happen on 2015-12-16.  You just wait and see.')\n",
    "print m\n",
    "print m.group()"
   ]
  },
  {
   "cell_type": "code",
   "execution_count": 19,
   "metadata": {
    "collapsed": false
   },
   "outputs": [
    {
     "name": "stdout",
     "output_type": "stream",
     "text": [
      "2015-12-16\n",
      "2015-12-16\n",
      "year: 2015\n",
      "month: 12\n",
      "date: 16\n"
     ]
    }
   ],
   "source": [
    "# the .group() method, and note: the second occurrence was ignored.\n",
    "import re\n",
    "m = re.search(\"(20[01][0-9])-([0-9][0-9])-([0-9][0-9])\", 'Something very intereting \\\n",
    "will happen on 2015-12-16.  You just wait and see, only after 2015-12-16.')\n",
    "print m.group()\n",
    "print m.group(0)\n",
    "print 'year:', m.group(1)\n",
    "print 'month:', m.group(2)\n",
    "print 'date:', m.group(3)"
   ]
  },
  {
   "cell_type": "markdown",
   "metadata": {},
   "source": [
    "## re.search()\n",
    "\n",
    "### To find all occurrences, and return the results as a list"
   ]
  },
  {
   "cell_type": "raw",
   "metadata": {},
   "source": [
    "To keep searching, use findall()"
   ]
  },
  {
   "cell_type": "code",
   "execution_count": null,
   "metadata": {
    "collapsed": false
   },
   "outputs": [],
   "source": [
    "# Match!\n",
    "import re\n",
    "m = re.findall(\"20[01][0-9]-[0-9][0-9]-[0-9][0-9]\", 'Something very intereting \\\n",
    "will happen on 2015-12-16.  You just wait and see, only after 2015-12-18.')\n",
    "print m, type(m)"
   ]
  },
  {
   "cell_type": "markdown",
   "metadata": {},
   "source": [
    "## Breakout Problem:\n",
    "\n",
    "### The following text is copied from wikipedia,\n",
    "\n",
    "### \"The current men's world record is 9.58 seconds, set by Jamaica's Usain Bolt in 2009,\"\n",
    "\n",
    "### By using re.match(), extract the world record time.  You cannot use any actual words in your pattern, e.g. \"seconds\" would not be allowed.\n",
    "\n"
   ]
  },
  {
   "cell_type": "code",
   "execution_count": 47,
   "metadata": {
    "collapsed": false
   },
   "outputs": [
    {
     "name": "stdout",
     "output_type": "stream",
     "text": [
      " 9.58\n"
     ]
    }
   ],
   "source": [
    "import re\n",
    "\n",
    "m = re.match('(.*)( \\d*\\.\\d*)',\"The current men's world record is 9.58 seconds, set by Jamaica's Usain Bolt in 2009,\")\n",
    "print m.group(2)"
   ]
  },
  {
   "cell_type": "markdown",
   "metadata": {},
   "source": [
    "## return vs. yield"
   ]
  },
  {
   "cell_type": "code",
   "execution_count": 49,
   "metadata": {
    "collapsed": false
   },
   "outputs": [
    {
     "name": "stdout",
     "output_type": "stream",
     "text": [
      "10\n",
      "True\n",
      "y[3] 3\n",
      "True\n",
      "(0, 0)\n",
      "(1, 1)\n"
     ]
    },
    {
     "ename": "TypeError",
     "evalue": "'enumerate' object has no attribute '__getitem__'",
     "output_type": "error",
     "traceback": [
      "\u001b[0;31m---------------------------------------------------------------------------\u001b[0m",
      "\u001b[0;31mTypeError\u001b[0m                                 Traceback (most recent call last)",
      "\u001b[0;32m<ipython-input-49-8d8711aed8cf>\u001b[0m in \u001b[0;36m<module>\u001b[0;34m()\u001b[0m\n\u001b[1;32m     10\u001b[0m \u001b[0;32mprint\u001b[0m \u001b[0mz\u001b[0m\u001b[0;34m.\u001b[0m\u001b[0mnext\u001b[0m\u001b[0;34m(\u001b[0m\u001b[0;34m)\u001b[0m\u001b[0;34m\u001b[0m\u001b[0m\n\u001b[1;32m     11\u001b[0m \u001b[0;32mprint\u001b[0m \u001b[0mz\u001b[0m\u001b[0;34m.\u001b[0m\u001b[0mnext\u001b[0m\u001b[0;34m(\u001b[0m\u001b[0;34m)\u001b[0m\u001b[0;34m\u001b[0m\u001b[0m\n\u001b[0;32m---> 12\u001b[0;31m \u001b[0;32mprint\u001b[0m \u001b[0mz\u001b[0m\u001b[0;34m[\u001b[0m\u001b[0;36m3\u001b[0m\u001b[0;34m]\u001b[0m           \u001b[0;31m# will also get error.\u001b[0m\u001b[0;34m\u001b[0m\u001b[0m\n\u001b[0m\u001b[1;32m     13\u001b[0m \u001b[0;32mprint\u001b[0m \u001b[0;34m'z[3]'\u001b[0m\u001b[0;34m,\u001b[0m \u001b[0mz\u001b[0m\u001b[0;34m[\u001b[0m\u001b[0;36m3\u001b[0m\u001b[0;34m]\u001b[0m\u001b[0;34m\u001b[0m\u001b[0m\n",
      "\u001b[0;31mTypeError\u001b[0m: 'enumerate' object has no attribute '__getitem__'"
     ]
    }
   ],
   "source": [
    "# A peculiar thing about enumerate(): you can't use len() with enumerate()!\n",
    "from collections import Iterable\n",
    "y = range(10)\n",
    "print len(y)\n",
    "print isinstance(y, Iterable)\n",
    "print 'y[3]', y[3]\n",
    "z = enumerate(range(10))\n",
    "print isinstance(z, Iterable)\n",
    "#print len(z)                     # will get error.\n",
    "print z.next()\n",
    "print z.next()\n",
    "print z[3]           # will also get error.\n",
    "print 'z[3]', z[3]"
   ]
  },
  {
   "cell_type": "markdown",
   "metadata": {},
   "source": [
    "## eunmerate() *is* an iterable; but not all iterables have a length!"
   ]
  },
  {
   "cell_type": "code",
   "execution_count": null,
   "metadata": {
    "collapsed": false
   },
   "outputs": [],
   "source": [
    "# return:\n",
    "def create_integers(N):\n",
    "    lst=[]\n",
    "    for i in range(N):\n",
    "        lst.append(i)\n",
    "    return lst\n",
    "newints = create_integers(6)    \n",
    "print newints \n"
   ]
  },
  {
   "cell_type": "code",
   "execution_count": null,
   "metadata": {
    "collapsed": false
   },
   "outputs": [],
   "source": [
    "print type(create_integers), type(newints)\n"
   ]
  },
  {
   "cell_type": "code",
   "execution_count": 62,
   "metadata": {
    "collapsed": false
   },
   "outputs": [
    {
     "name": "stdout",
     "output_type": "stream",
     "text": [
      "<type 'function'> <type 'generator'>\n"
     ]
    }
   ],
   "source": [
    "# yield:\n",
    "from pdb import set_trace\n",
    "def generate_integers(N):\n",
    "    for i in range(N):\n",
    "        # note: it's inside the for loop!\n",
    "        yield i\n",
    "        #set_trace()\n",
    "        ## First time the program runs through, it prints out i, then leaves the function, but the second time it runs, it goes to the line right below the yield statement\n",
    "        print 'The {:d}th time generate_integers() is called'.format(i+1)\n",
    "gen = generate_integers(6)\n",
    "print type(generate_integers), type(gen)\n"
   ]
  },
  {
   "cell_type": "code",
   "execution_count": null,
   "metadata": {
    "collapsed": false
   },
   "outputs": [],
   "source": [
    "# It shows you that the next generate_integers() is called, \n",
    "# python starts from the statement immediately below the yield statement.\n",
    "gen.next()"
   ]
  },
  {
   "cell_type": "code",
   "execution_count": 63,
   "metadata": {
    "collapsed": false
   },
   "outputs": [
    {
     "name": "stdout",
     "output_type": "stream",
     "text": [
      "0\n",
      "The 1th time generate_integers() is called\n",
      "1\n",
      "The 2th time generate_integers() is called\n",
      "2\n",
      "The 3th time generate_integers() is called\n",
      "3\n",
      "The 4th time generate_integers() is called\n",
      "4\n",
      "The 5th time generate_integers() is called\n",
      "5\n"
     ]
    }
   ],
   "source": [
    "for i in range(6):\n",
    "    print gen.next()\n"
   ]
  },
  {
   "cell_type": "code",
   "execution_count": 54,
   "metadata": {
    "collapsed": false
   },
   "outputs": [
    {
     "ename": "StopIteration",
     "evalue": "",
     "output_type": "error",
     "traceback": [
      "\u001b[0;31m---------------------------------------------------------------------------\u001b[0m",
      "\u001b[0;31mStopIteration\u001b[0m                             Traceback (most recent call last)",
      "\u001b[0;32m<ipython-input-54-ac66ae397e76>\u001b[0m in \u001b[0;36m<module>\u001b[0;34m()\u001b[0m\n\u001b[1;32m      1\u001b[0m \u001b[0;31m# You will get error if the previous cell has been run.\u001b[0m\u001b[0;34m\u001b[0m\u001b[0;34m\u001b[0m\u001b[0m\n\u001b[1;32m      2\u001b[0m \u001b[0;32mfor\u001b[0m \u001b[0mi\u001b[0m \u001b[0;32min\u001b[0m \u001b[0mrange\u001b[0m\u001b[0;34m(\u001b[0m\u001b[0;36m6\u001b[0m\u001b[0;34m)\u001b[0m\u001b[0;34m:\u001b[0m\u001b[0;34m\u001b[0m\u001b[0m\n\u001b[0;32m----> 3\u001b[0;31m     \u001b[0;32mprint\u001b[0m \u001b[0mgen\u001b[0m\u001b[0;34m.\u001b[0m\u001b[0mnext\u001b[0m\u001b[0;34m(\u001b[0m\u001b[0;34m)\u001b[0m\u001b[0;34m\u001b[0m\u001b[0m\n\u001b[0m",
      "\u001b[0;31mStopIteration\u001b[0m: "
     ]
    }
   ],
   "source": [
    "# You will get error if the previous cell has been run.\n",
    "for i in range(6):\n",
    "    print gen.next()"
   ]
  },
  {
   "cell_type": "markdown",
   "metadata": {},
   "source": [
    "##Breakout Problem: Write a function that generates all Fibonacci numbers less than 300 by using yield.  \n",
    "\n",
    "Definition: F\\_n = F\\_{n-1} + F\\_{n-2}; F\\_0 = 0 and F\\_1 = 1.  \n",
    "\n",
    "Hint: Once you have calculated F\\_3, you have no need for F\\_0 and F\\_1; \n",
    "once you know F\\_4, you have no need for F\\_3 and F\\_2; and so forth.\n",
    "So for every new round, you only need to keep the previous two numbers.\n",
    "\n",
    "Computing by hand:\n",
    "F\\_0 = 0\n",
    "F\\_1 = 1\n",
    "F\\_2 = 1\n",
    "F\\_3 = 2\n",
    "...\n"
   ]
  },
  {
   "cell_type": "code",
   "execution_count": 73,
   "metadata": {
    "collapsed": false
   },
   "outputs": [
    {
     "name": "stdout",
     "output_type": "stream",
     "text": [
      "0\n",
      "1\n",
      "1\n",
      "2\n",
      "3\n",
      "5\n",
      "8\n",
      "13\n",
      "21\n",
      "34\n",
      "55\n",
      "89\n",
      "144\n",
      "233\n"
     ]
    }
   ],
   "source": [
    "def fibonacci(n):\n",
    "    f0 = 0\n",
    "    f1 = 1\n",
    "    while True:\n",
    "        yield f0\n",
    "        f0, f1 = f1, f0 + f1\n",
    "\n",
    "        \n",
    "gen = fibonacci(300)\n",
    "for num in gen:\n",
    "    if num <= 300:\n",
    "        print num\n",
    "    else:\n",
    "        break"
   ]
  },
  {
   "cell_type": "code",
   "execution_count": null,
   "metadata": {
    "collapsed": false
   },
   "outputs": [],
   "source": [
    "ind = 0\n",
    "for i in fib():\n",
    "    #print 'ind = ', ind\n",
    "    ind += 1\n",
    "    if i > 300:\n",
    "        break\n",
    "    else:\n",
    "        print i\n",
    "        \n",
    "# Let's work out the flow of the code.\n",
    "# This is an elegant, memory efficient way of generating Fibonacci numbers \n",
    "# (note: at any time only the latest two Fibonacci numbers take up memory, \n",
    "# as is necessary for the calculation of the next Fib number.   \n",
    "# All previous Fib numbers are \"forgotten\"!)\n",
    "# This is very different from the \"list\" way of doing things, where every element \n",
    "# takes up memory.\n"
   ]
  },
  {
   "cell_type": "markdown",
   "metadata": {},
   "source": [
    "## The random module\n",
    "    random.shuffle()\n",
    "    random.random()\n",
    "    random.sample()\n",
    "from http://docs.python.org/2/library/random.html:"
   ]
  },
  {
   "cell_type": "code",
   "execution_count": 51,
   "metadata": {
    "collapsed": false
   },
   "outputs": [
    {
     "name": "stdout",
     "output_type": "stream",
     "text": [
      "['c', 'd', 'z', 'b', 'x', 'y', 'a']\n"
     ]
    }
   ],
   "source": [
    "import random\n",
    "lst = ['a', 'b', 'c', 'd', 'x', 'y', 'z']\n",
    "random.shuffle(lst)   ### this shuffles the list in place.  \n",
    "print lst   ### you can run this as many times as you want."
   ]
  },
  {
   "cell_type": "markdown",
   "metadata": {},
   "source": [
    "## random.random()"
   ]
  },
  {
   "cell_type": "code",
   "execution_count": 81,
   "metadata": {
    "collapsed": false
   },
   "outputs": [
    {
     "data": {
      "text/plain": [
       "0.7284654901302828"
      ]
     },
     "execution_count": 81,
     "metadata": {},
     "output_type": "execute_result"
    }
   ],
   "source": [
    "import random\n",
    "random.random()"
   ]
  },
  {
   "cell_type": "markdown",
   "metadata": {},
   "source": [
    "# random.sample(population, k)\n",
    "\n",
    "Return a k length list of unique elements chosen from the population sequence. \n",
    "\n",
    "Returns a new list containing elements from the population while leaving the original population unchanged. \n"
   ]
  },
  {
   "cell_type": "code",
   "execution_count": 145,
   "metadata": {
    "collapsed": false
   },
   "outputs": [
    {
     "name": "stdout",
     "output_type": "stream",
     "text": [
      "[1474898, 1508512, 3959632, 1900831, 4898070, 14304, 2424028, 4769268, 5524023, 5848742]\n"
     ]
    }
   ],
   "source": [
    "# Example of random.sample:\n",
    "from random import sample\n",
    "print sample(xrange(10000000), 10)\n",
    "# Note the difference between xrange() and range(): xrange() doesn't create an entire list, \n",
    "# but creates the values when asked for them.\n",
    "# So it's much better to use xrange() here owing to the large argument."
   ]
  },
  {
   "cell_type": "code",
   "execution_count": 83,
   "metadata": {
    "collapsed": false
   },
   "outputs": [
    {
     "name": "stdout",
     "output_type": "stream",
     "text": [
      "<type 'str'> 26\n",
      "abcdefghijklmnopqrstuvwxyz\n",
      "['x', 'h', 'c', 'b', 'y', 'p', 'n', 'f', 'u', 'd']\n"
     ]
    }
   ],
   "source": [
    "### Another example: \n",
    "from string import ascii_lowercase\n",
    "print type(ascii_lowercase), len(ascii_lowercase)\n",
    "# So yes, you can only import modules, functions but also strings and other objects.\n",
    "# In Python: almost everything is an object (modules, functions, strings, ints, floats,\n",
    "# dictionaries, lists, classes, etc.)\n",
    "# and therefore, there is no fundamental difference between them in terms of how they\n",
    "# are treated and used in Python.\n",
    "print ascii_lowercase\n",
    "print sample(ascii_lowercase, 10)"
   ]
  },
  {
   "cell_type": "markdown",
   "metadata": {},
   "source": [
    "## ASCII stands for: American Standard Code for Information Interchange"
   ]
  },
  {
   "cell_type": "markdown",
   "metadata": {},
   "source": [
    "## numpyr.random\n",
    "\n",
    "http://docs.scipy.org/doc/numpy/reference/routines.random.html\n",
    "\n",
    "Gaussian distribution -- mu is the mean, and sigma is the standard deviation. "
   ]
  },
  {
   "cell_type": "code",
   "execution_count": 289,
   "metadata": {
    "collapsed": false
   },
   "outputs": [
    {
     "name": "stdout",
     "output_type": "stream",
     "text": [
      "-1.03781535392\n"
     ]
    }
   ],
   "source": [
    "from numpy.random import randn\n",
    "x = randn()\n",
    "print x"
   ]
  },
  {
   "cell_type": "code",
   "execution_count": 779,
   "metadata": {
    "collapsed": false
   },
   "outputs": [
    {
     "name": "stdout",
     "output_type": "stream",
     "text": [
      "[  2.59618910e+00   5.17107672e+00   4.59124944e-03   4.65269983e+00\n",
      "   3.22396607e+00   3.00872600e+00   7.15236731e+00   4.24017417e+00\n",
      "   2.25900296e+00   4.50571401e+00]\n",
      "3.68145074324\n",
      "1.83257881361\n"
     ]
    }
   ],
   "source": [
    "import numpy as np\n",
    "from numpy.random import randn\n",
    "x = randn(10)*2. + 3.\n",
    "print x\n",
    "print np.mean(x)\n",
    "print np.std(x)"
   ]
  },
  {
   "cell_type": "code",
   "execution_count": 781,
   "metadata": {
    "collapsed": false
   },
   "outputs": [
    {
     "name": "stdout",
     "output_type": "stream",
     "text": [
      "n (normalized height, or probability density): [  2.58313107e-04   0.00000000e+00   2.58313107e-04   3.44417476e-04\n",
      "   2.58313107e-04   7.74939320e-04   4.30521845e-04   1.20546117e-03\n",
      "   2.58313107e-04   1.46377427e-03   1.03325243e-03   6.88834951e-04\n",
      "   1.03325243e-03   1.89429612e-03   2.23871359e-03   2.23871359e-03\n",
      "   3.78859223e-03   3.35807039e-03   5.59678398e-03   6.02730583e-03\n",
      "   5.08015777e-03   7.83549757e-03   8.00770631e-03   8.17991505e-03\n",
      "   9.90200243e-03   9.64368932e-03   1.12796723e-02   1.37766990e-02\n",
      "   1.29156553e-02   1.54987864e-02   1.67903519e-02   1.60154126e-02\n",
      "   1.98040049e-02   2.10955704e-02   2.13538835e-02   2.72950850e-02\n",
      "   2.29898665e-02   2.54868932e-02   2.64340413e-02   2.42814320e-02\n",
      "   2.76395024e-02   2.70367718e-02   2.47980583e-02   2.46258495e-02\n",
      "   2.53146845e-02   2.53146845e-02   2.37648058e-02   2.44536408e-02\n",
      "   2.51424757e-02   2.27315534e-02   2.35064927e-02   2.14399879e-02\n",
      "   2.05789442e-02   1.96317961e-02   1.80819175e-02   1.61015170e-02\n",
      "   1.67042476e-02   1.33461772e-02   1.30017597e-02   1.07630461e-02\n",
      "   1.07630461e-02   9.81589806e-03   9.72979369e-03   6.71614078e-03\n",
      "   6.63003641e-03   5.25236651e-03   4.56353155e-03   4.13300971e-03\n",
      "   3.61638350e-03   3.78859223e-03   2.92754854e-03   2.58313107e-03\n",
      "   1.89429612e-03   1.11935680e-03   7.74939320e-04   1.72208738e-03\n",
      "   9.47148058e-04   5.16626214e-04   1.72208738e-04   7.74939320e-04\n",
      "   7.74939320e-04   8.61043689e-05   8.61043689e-05   8.61043689e-05\n",
      "   1.72208738e-04   0.00000000e+00   3.44417476e-04   0.00000000e+00\n",
      "   8.61043689e-05   0.00000000e+00   0.00000000e+00   8.61043689e-05\n",
      "   0.00000000e+00   0.00000000e+00   0.00000000e+00   0.00000000e+00\n",
      "   0.00000000e+00   0.00000000e+00   0.00000000e+00   8.61043689e-05] 100\n",
      "bins (locations of bin edges): [  50.2580999    51.41948115   52.58086241   53.74224366   54.90362492\n",
      "   56.06500617   57.22638743   58.38776868   59.54914993   60.71053119\n",
      "   61.87191244   63.0332937    64.19467495   65.35605621   66.51743746\n",
      "   67.67881871   68.84019997   70.00158122   71.16296248   72.32434373\n",
      "   73.48572499   74.64710624   75.80848749   76.96986875   78.13125\n",
      "   79.29263126   80.45401251   81.61539377   82.77677502   83.93815628\n",
      "   85.09953753   86.26091878   87.42230004   88.58368129   89.74506255\n",
      "   90.9064438    92.06782506   93.22920631   94.39058756   95.55196882\n",
      "   96.71335007   97.87473133   99.03611258  100.19749384  101.35887509\n",
      "  102.52025634  103.6816376   104.84301885  106.00440011  107.16578136\n",
      "  108.32716262  109.48854387  110.64992513  111.81130638  112.97268763\n",
      "  114.13406889  115.29545014  116.4568314   117.61821265  118.77959391\n",
      "  119.94097516  121.10235641  122.26373767  123.42511892  124.58650018\n",
      "  125.74788143  126.90926269  128.07064394  129.23202519  130.39340645\n",
      "  131.5547877   132.71616896  133.87755021  135.03893147  136.20031272\n",
      "  137.36169398  138.52307523  139.68445648  140.84583774  142.00721899\n",
      "  143.16860025  144.3299815   145.49136276  146.65274401  147.81412526\n",
      "  148.97550652  150.13688777  151.29826903  152.45965028  153.62103154\n",
      "  154.78241279  155.94379404  157.1051753   158.26655655  159.42793781\n",
      "  160.58931906  161.75070032  162.91208157  164.07346283  165.23484408\n",
      "  166.39622533] 101\n"
     ]
    },
    {
     "data": {
      "image/png": "[encoded data removed]",
      "text/plain": [
       "<matplotlib.figure.Figure at 0x10c898610>"
      ]
     },
     "metadata": {},
     "output_type": "display_data"
    }
   ],
   "source": [
    "%matplotlib inline\n",
    "import numpy as np\n",
    "import matplotlib.pyplot as plt\n",
    "\n",
    "\n",
    "x = np.random.randn(10000)*15 + 100\n",
    "fig = plt.figure()\n",
    "ax = fig.add_subplot(111)\n",
    "\n",
    "# the histogram of the data\n",
    "\n",
    "Nbins = 100\n",
    "# normed=1: the total area adds up to 1; # alpha: level of tranparency.\n",
    "n, bins, patches = ax.hist(x, Nbins, normed=1, facecolor='purple', alpha=.5)\n",
    "print 'n (normalized height, or probability density):', n, len(n)\n",
    "print 'bins (locations of bin edges):', bins, len(bins)\n",
    "\n",
    "# hist uses np.histogram under the hood to create 'n' and 'bins'.\n",
    "# np.histogram returns the bin edges, so there will be Nbin probability\n",
    "# density values (n), Nbin+1 bin edges (bins), and finally, Nbin patches.\n",
    "\n",
    "ax.set_xlabel('IQ')\n",
    "ax.set_ylabel('Probability')\n",
    "# The is Latex, a typsetting \"program\".\n",
    "ax.set_title(r'$\\mathrm{Histogram\\ of\\ IQ:}\\ \\mu=100,\\ \\sigma=15$')\n",
    "# Pay attention to how the x and y axis limits are set.\n",
    "ax.set_xlim(0, 200)\n",
    "ax.set_ylim(0, 0.03)\n",
    "ax.grid(True)\n",
    "\n",
    "plt.show()\n"
   ]
  },
  {
   "cell_type": "markdown",
   "metadata": {},
   "source": [
    "## End of wk 6-1"
   ]
  },
  {
   "cell_type": "code",
   "execution_count": null,
   "metadata": {
    "collapsed": true
   },
   "outputs": [],
   "source": []
  }
 ],
 "metadata": {
  "kernelspec": {
   "display_name": "Python 2",
   "language": "python",
   "name": "python2"
  },
  "language_info": {
   "codemirror_mode": {
    "name": "ipython",
    "version": 2
   },
   "file_extension": ".py",
   "mimetype": "text/x-python",
   "name": "python",
   "nbconvert_exporter": "python",
   "pygments_lexer": "ipython2",
   "version": "2.7.9"
  }
 },
 "nbformat": 4,
 "nbformat_minor": 0
}

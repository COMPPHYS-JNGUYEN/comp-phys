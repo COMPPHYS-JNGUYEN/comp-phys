{
 "cells": [
  {
   "cell_type": "markdown",
   "metadata": {},
   "source": [
    "# Global vs. Local Variables"
   ]
  },
  {
   "cell_type": "code",
   "execution_count": 1,
   "metadata": {
    "collapsed": false
   },
   "outputs": [
    {
     "name": "stdout",
     "output_type": "stream",
     "text": [
      "Outside f(), a =  3\n",
      "Inside f, a =  2\n",
      "Outside F3, a =  2\n"
     ]
    }
   ],
   "source": [
    "## How can you change global variable from function?\n",
    "a = 3\n",
    "print \"Outside f(), a = \", a\n",
    "\n",
    "def f():\n",
    "    global a  ## Using the global function sets the local variable a to a global variable\n",
    "    a = 2\n",
    "    print \"Inside f, a = \", a\n",
    "    return\n",
    "\n",
    "f()\n",
    "print \"Outside F3, a = \", a"
   ]
  },
  {
   "cell_type": "code",
   "execution_count": null,
   "metadata": {
    "collapsed": true
   },
   "outputs": [],
   "source": [
    "## Can use global variable, a, inside function without locally defining, a."
   ]
  },
  {
   "cell_type": "code",
   "execution_count": 4,
   "metadata": {
    "collapsed": false
   },
   "outputs": [
    {
     "name": "stdout",
     "output_type": "stream",
     "text": [
      "Outside f(), a =  3\n",
      "Inside f(), a =  0.333333333333\n",
      "Outside f(), a =  3\n"
     ]
    }
   ],
   "source": [
    "## Can you predice what you will get if you execute the following block of ...\n",
    "\n",
    "a = 3\n",
    "print \"Outside f(), a = \", a\n",
    "def f():\n",
    "    b = 3\n",
    "    #global a\n",
    "    d = 1./a\n",
    "    print \"Inside f(), a = \", d\n",
    "    return\n",
    "\n",
    "f()\n",
    "print \"Outside f(), a = \", a\n",
    "\n",
    "## Class prediction: 3, 1/3, 3, didn't expect this\n",
    "## Reason: Trying to set local variable, a, as global variable, a"
   ]
  },
  {
   "cell_type": "markdown",
   "metadata": {},
   "source": [
    "# Positional Arguments vs. Key Arguments (Expediency vs. Clarity)"
   ]
  },
  {
   "cell_type": "code",
   "execution_count": 6,
   "metadata": {
    "collapsed": false
   },
   "outputs": [
    {
     "name": "stdout",
     "output_type": "stream",
     "text": [
      "509.5\n",
      "-48050.0\n",
      "docstring for yfunc(): \n",
      "    finds displacement with constant gravitational acceleration on Earth, using positional arguments\n",
      "    \n",
      "    \n",
      "    \n",
      "docstring for yfunc(): sum(sequence[, start]) -> value\n",
      "\n",
      "Return the sum of a sequence of numbers (NOT strings) plus the value\n",
      "of parameter 'start' (which defaults to 0).  When the sequence is\n",
      "empty, return start.\n"
     ]
    }
   ],
   "source": [
    "# Positional arguments\n",
    "def yfunc(t, v0):\n",
    "    \"\"\"\n",
    "    finds displacement with constant gravitational acceleration on Earth, using positional arguments\n",
    "    \n",
    "    \n",
    "    \"\"\"\n",
    "    g = 9.81\n",
    "    return v0*t - 0.5*g*t**2\n",
    "print yfunc(10, 100)\n",
    "print yfunc(100,10) #The order of positions matters!\n",
    "print 'docstring for yfunc():', yfunc.__doc__\n",
    "print 'docstring for yfunc():', sum.__doc__"
   ]
  },
  {
   "cell_type": "code",
   "execution_count": null,
   "metadata": {
    "collapsed": true
   },
   "outputs": [],
   "source": [
    "# Keyword for large numbers of variables is preferable over positional."
   ]
  },
  {
   "cell_type": "code",
   "execution_count": null,
   "metadata": {
    "collapsed": true
   },
   "outputs": [],
   "source": [
    "# Can mix positional and keyword arguments\n",
    "# Must place positional argument before keyword"
   ]
  },
  {
   "cell_type": "markdown",
   "metadata": {},
   "source": [
    "# Magic Functions (line magic vs. cell magic) in IPython"
   ]
  },
  {
   "cell_type": "code",
   "execution_count": 7,
   "metadata": {
    "collapsed": false
   },
   "outputs": [
    {
     "name": "stdout",
     "output_type": "stream",
     "text": [
      "100000 loops, best of 3: 8.5 µs per loop\n"
     ]
    }
   ],
   "source": [
    "# line magic\n",
    "%timeit range(1000) #tells how long it takes for a function to run"
   ]
  },
  {
   "cell_type": "code",
   "execution_count": 11,
   "metadata": {
    "collapsed": false
   },
   "outputs": [
    {
     "ename": "SyntaxError",
     "evalue": "invalid syntax (<ipython-input-11-864a66e6da1e>, line 2)",
     "output_type": "error",
     "traceback": [
      "\u001b[0;36m  File \u001b[0;32m\"<ipython-input-11-864a66e6da1e>\"\u001b[0;36m, line \u001b[0;32m2\u001b[0m\n\u001b[0;31m    %%timeit range(1000)\u001b[0m\n\u001b[0m    ^\u001b[0m\n\u001b[0;31mSyntaxError\u001b[0m\u001b[0;31m:\u001b[0m invalid syntax\n"
     ]
    }
   ],
   "source": [
    "# cell magic\n",
    "%%timeit range(1000)\n",
    "max(x)\n",
    "\n",
    "## Prof. can't get it to work\n",
    "## %% is difference from %"
   ]
  },
  {
   "cell_type": "code",
   "execution_count": null,
   "metadata": {
    "collapsed": true
   },
   "outputs": [],
   "source": [
    "## can make your own range function\n",
    "def makelist(start, stop, inc):\n",
    "    value = start\n",
    "    result = []\n",
    "    while value < stop:\n",
    "        result.append(value)\n",
    "        value += inc\n",
    "    return result\n",
    "\n",
    "mylist = makelist(0, 100, 2)\n",
    "print mylist"
   ]
  },
  {
   "cell_type": "markdown",
   "metadata": {},
   "source": [
    "# Functions With More Than One Return Values"
   ]
  },
  {
   "cell_type": "code",
   "execution_count": 13,
   "metadata": {
    "collapsed": false
   },
   "outputs": [
    {
     "name": "stdout",
     "output_type": "stream",
     "text": [
      "position =       0.38 velocity =       -9.6\n",
      "position =      +0.38 velocity =       -9.6\n",
      "position =      +0.38 velocity =       -9.6\n"
     ]
    }
   ],
   "source": [
    "def yfunc2(t, v0):\n",
    "    \"\"\"finds diplacement with constant gravitational acceleration on Earth.\"\"\"\n",
    "    g = 9.81\n",
    "    y = v0*t - 0.5*g*t**2\n",
    "    yprime = v0 - g*t\n",
    "    return y, yprime\n",
    "pos, vel = yfunc2(2, 10)    # The LHS is a tuple (no, you don't need () around... \n",
    "#the difference) between using and not using the + sign:\n",
    "print 'position = {:10.2g} velocity = {:10.2g}'.format(pos, vel)\n",
    "print 'position = {:+10.2g} velocity = {:+10.2g}'.format(pos, vel)\n",
    "\n",
    "# Or, equivalently (and it seems mysterious...):\n",
    "print 'position = {:+10.2g} velocity = {:+10.2g}'.format(*yfunc2(2, 10))"
   ]
  },
  {
   "cell_type": "markdown",
   "metadata": {},
   "source": [
    "# The \"unpacking operator\": *"
   ]
  },
  {
   "cell_type": "code",
   "execution_count": 15,
   "metadata": {
    "collapsed": false
   },
   "outputs": [
    {
     "name": "stdout",
     "output_type": "stream",
     "text": [
      "[3, 4, 5]\n",
      "[3, 4, 5]\n",
      "[3, 4, 5]\n"
     ]
    },
    {
     "ename": "TypeError",
     "evalue": "range() integer end argument expected, got tuple.",
     "output_type": "error",
     "traceback": [
      "\u001b[0;31m---------------------------------------------------------------------------\u001b[0m",
      "\u001b[0;31mTypeError\u001b[0m                                 Traceback (most recent call last)",
      "\u001b[0;32m<ipython-input-15-5f6058fce73d>\u001b[0m in \u001b[0;36m<module>\u001b[0;34m()\u001b[0m\n\u001b[1;32m      4\u001b[0m \u001b[0mrange_params\u001b[0m \u001b[0;34m=\u001b[0m \u001b[0;36m3\u001b[0m\u001b[0;34m,\u001b[0m \u001b[0;36m6\u001b[0m\u001b[0;34m\u001b[0m\u001b[0m\n\u001b[1;32m      5\u001b[0m \u001b[0;32mprint\u001b[0m \u001b[0mrange\u001b[0m\u001b[0;34m(\u001b[0m\u001b[0;34m*\u001b[0m\u001b[0mrange_params\u001b[0m\u001b[0;34m)\u001b[0m     \u001b[0;31m# call with arguments unpacked from a list\u001b[0m\u001b[0;34m\u001b[0m\u001b[0m\n\u001b[0;32m----> 6\u001b[0;31m \u001b[0;32mprint\u001b[0m \u001b[0mrange\u001b[0m\u001b[0;34m(\u001b[0m\u001b[0mrange_params\u001b[0m\u001b[0;34m)\u001b[0m\u001b[0;34m\u001b[0m\u001b[0m\n\u001b[0m\u001b[1;32m      7\u001b[0m \u001b[0;31m# Explain why print range(range_params) won't work??\u001b[0m\u001b[0;34m\u001b[0m\u001b[0;34m\u001b[0m\u001b[0m\n",
      "\u001b[0;31mTypeError\u001b[0m: range() integer end argument expected, got tuple."
     ]
    }
   ],
   "source": [
    "print range(3, 6)     # normal call with separate arguments\n",
    "range_params = [3, 6]\n",
    "print range(*range_params)     # call with arguments unpacked from a list\n",
    "range_params = 3, 6\n",
    "print range(*range_params)     # call with arguments unpacked from a list\n",
    "print range(range_params)\n",
    "# Explain why print range(range_params) won't work??\n",
    "# Won't work because: imagine tuple as one object.  Range expects numbers; one, two or three arguments"
   ]
  },
  {
   "cell_type": "markdown",
   "metadata": {},
   "source": [
    "# Interactive Python Debugging Tool (module: pdb)"
   ]
  },
  {
   "cell_type": "markdown",
   "metadata": {},
   "source": [
    "Esp. useful commands in pdb\n",
    "\n",
    "- n(ext)\n",
    "- s(tep)\n",
    "- p(rint)\n",
    "- unt(il)    #Execute until needed until line number increases by 1\n",
    "- c(ontinue)\n",
    "- l(ist)     #Gives you list of 10 statements above\n",
    "- w(here)    #Tells you where you are in the program\n",
    "- h(elp)     #Gives you list of all commands in python debugger\n",
    "- q(uit)\n",
    "\n",
    "You can get full list by googling \"python pdb\""
   ]
  },
  {
   "cell_type": "code",
   "execution_count": 2,
   "metadata": {
    "collapsed": false
   },
   "outputs": [
    {
     "name": "stdout",
     "output_type": "stream",
     "text": [
      "Taylor Series Approximation: 1.09861228867\n",
      "exact_val 1.09861228867\n",
      "log1p output 1.09861228867\n"
     ]
    }
   ],
   "source": [
    "import pdb\n",
    "\n",
    "def L(x, n):\n",
    "    approx = 0.\n",
    "    #pdb.set_trace()\n",
    "    for i in range(0, n+1):\n",
    "        approx += (1/(i+1.))*(x/(1.+x))**(i+1.)\n",
    "    return approx\n",
    "\n",
    "\n",
    "\n",
    "x = 2\n",
    "y = L(x, 100)\n",
    "print 'Taylor Series Approximation:', y\n",
    "from math import log  #you would guess math module would have log...yes!\n",
    "exact_val = log(1+x)\n",
    "print 'exact_val', exact_val\n",
    "from math import log1p  #more accurate for small x.\n",
    "print 'log1p output', log1p(x)"
   ]
  },
  {
   "cell_type": "markdown",
   "metadata": {
    "collapsed": true
   },
   "source": [
    "# Numerical Instability and Arbitrary Precision"
   ]
  },
  {
   "cell_type": "code",
   "execution_count": 5,
   "metadata": {
    "collapsed": false
   },
   "outputs": [
    {
     "name": "stdout",
     "output_type": "stream",
     "text": [
      "h = 1e-01: 0\n",
      "h = 1e-02: 0\n",
      "h = 1e-03: 0\n",
      "h = 1e-04: 0\n",
      "h = 1e-05: 0\n",
      "h = 1e-06: 0\n",
      "h = 1e-07: 0\n",
      "h = 1e-08: 0\n",
      "h = 1e-09: 0\n",
      "h = 1e-10: 0\n",
      "h = 1e-11: 0\n",
      "h = 1e-12: 0\n",
      "h = 1e-13: 0\n",
      "h = 1e-14: 0\n"
     ]
    }
   ],
   "source": [
    "def g(t):\n",
    "    return t**(-6)\n",
    "\n",
    "# A function as an argument to another function\n",
    "def diff2(f, x, h=1e-6):     #Second order derivative\n",
    "    r = (f(x-h) - 2*f(x) + f(x+h))/float(h*h)\n",
    "    return r\n",
    "\n",
    "for k in range(1, 15):\n",
    "    h = 10**(-k)\n",
    "    d2g = diff2(g, 1, h)\n",
    "    print 'h = {:.0e}: {:.5g}'.format(h, d2g)\n",
    "    \n",
    "#Numerical instability causes python to do weird things.  Python computes in approximations.\n",
    "#That's why after h = 1e-05,weird values come out."
   ]
  },
  {
   "cell_type": "code",
   "execution_count": 14,
   "metadata": {
    "collapsed": false
   },
   "outputs": [
    {
     "ename": "TypeError",
     "evalue": "unsupported operand type(s) for /: 'Decimal' and 'float'",
     "output_type": "error",
     "traceback": [
      "\u001b[0;31m---------------------------------------------------------------------------\u001b[0m",
      "\u001b[0;31mTypeError\u001b[0m                                 Traceback (most recent call last)",
      "\u001b[0;32m<ipython-input-14-a96bd10d6025>\u001b[0m in \u001b[0;36m<module>\u001b[0;34m()\u001b[0m\n\u001b[1;32m     13\u001b[0m \u001b[0;32mfor\u001b[0m \u001b[0mk\u001b[0m \u001b[0;32min\u001b[0m \u001b[0mrange\u001b[0m\u001b[0;34m(\u001b[0m\u001b[0;36m1\u001b[0m\u001b[0;34m,\u001b[0m \u001b[0;36m15\u001b[0m\u001b[0;34m)\u001b[0m\u001b[0;34m:\u001b[0m\u001b[0;34m\u001b[0m\u001b[0m\n\u001b[1;32m     14\u001b[0m     \u001b[0mh\u001b[0m \u001b[0;34m=\u001b[0m \u001b[0;36m10\u001b[0m\u001b[0;34m**\u001b[0m\u001b[0;34m(\u001b[0m\u001b[0;34m-\u001b[0m\u001b[0mk\u001b[0m\u001b[0;34m)\u001b[0m\u001b[0;34m\u001b[0m\u001b[0m\n\u001b[0;32m---> 15\u001b[0;31m     \u001b[0;32mprint\u001b[0m \u001b[0;34m'h = {:.0e}: {:.5g}'\u001b[0m\u001b[0;34m.\u001b[0m\u001b[0mformat\u001b[0m\u001b[0;34m(\u001b[0m\u001b[0mh\u001b[0m\u001b[0;34m,\u001b[0m \u001b[0mdiff2\u001b[0m\u001b[0;34m(\u001b[0m\u001b[0mg\u001b[0m\u001b[0;34m,\u001b[0m \u001b[0;36m1\u001b[0m\u001b[0;34m,\u001b[0m \u001b[0mh\u001b[0m\u001b[0;34m)\u001b[0m\u001b[0;34m)\u001b[0m\u001b[0;34m\u001b[0m\u001b[0m\n\u001b[0m\u001b[1;32m     16\u001b[0m \u001b[0;34m\u001b[0m\u001b[0m\n",
      "\u001b[0;32m<ipython-input-14-a96bd10d6025>\u001b[0m in \u001b[0;36mdiff2\u001b[0;34m(f, x, h)\u001b[0m\n\u001b[1;32m      5\u001b[0m \u001b[0;32mdef\u001b[0m \u001b[0mdiff2\u001b[0m\u001b[0;34m(\u001b[0m\u001b[0mf\u001b[0m\u001b[0;34m,\u001b[0m \u001b[0mx\u001b[0m\u001b[0;34m,\u001b[0m \u001b[0mh\u001b[0m\u001b[0;34m=\u001b[0m\u001b[0;36m1E-9\u001b[0m\u001b[0;34m)\u001b[0m\u001b[0;34m:\u001b[0m     \u001b[0;31m#Second order derivative\u001b[0m\u001b[0;34m\u001b[0m\u001b[0m\n\u001b[1;32m      6\u001b[0m     \u001b[0mx\u001b[0m \u001b[0;34m=\u001b[0m \u001b[0mD\u001b[0m\u001b[0;34m(\u001b[0m\u001b[0mstr\u001b[0m\u001b[0;34m(\u001b[0m\u001b[0mx\u001b[0m\u001b[0;34m)\u001b[0m\u001b[0;34m)\u001b[0m\u001b[0;34m;\u001b[0m  \u001b[0mh\u001b[0m \u001b[0;34m=\u001b[0m \u001b[0mD\u001b[0m\u001b[0;34m(\u001b[0m\u001b[0mstr\u001b[0m\u001b[0;34m(\u001b[0m\u001b[0mh\u001b[0m\u001b[0;34m)\u001b[0m\u001b[0;34m)\u001b[0m  \u001b[0;31m# Convert to high presicion\u001b[0m\u001b[0;34m\u001b[0m\u001b[0m\n\u001b[0;32m----> 7\u001b[0;31m     \u001b[0mr\u001b[0m \u001b[0;34m=\u001b[0m \u001b[0;34m(\u001b[0m\u001b[0mf\u001b[0m\u001b[0;34m(\u001b[0m\u001b[0mx\u001b[0m\u001b[0;34m-\u001b[0m\u001b[0mh\u001b[0m\u001b[0;34m)\u001b[0m \u001b[0;34m-\u001b[0m \u001b[0;36m2\u001b[0m\u001b[0;34m*\u001b[0m\u001b[0mf\u001b[0m\u001b[0;34m(\u001b[0m\u001b[0mx\u001b[0m\u001b[0;34m)\u001b[0m \u001b[0;34m+\u001b[0m \u001b[0mf\u001b[0m\u001b[0;34m(\u001b[0m\u001b[0mx\u001b[0m\u001b[0;34m+\u001b[0m\u001b[0mh\u001b[0m\u001b[0;34m)\u001b[0m\u001b[0;34m)\u001b[0m\u001b[0;34m/\u001b[0m\u001b[0mfloat\u001b[0m\u001b[0;34m(\u001b[0m\u001b[0mh\u001b[0m\u001b[0;34m*\u001b[0m\u001b[0mh\u001b[0m\u001b[0;34m)\u001b[0m\u001b[0;34m\u001b[0m\u001b[0m\n\u001b[0m\u001b[1;32m      8\u001b[0m     \u001b[0;32mreturn\u001b[0m \u001b[0mr\u001b[0m\u001b[0;34m\u001b[0m\u001b[0m\n\u001b[1;32m      9\u001b[0m \u001b[0;34m\u001b[0m\u001b[0m\n",
      "\u001b[0;31mTypeError\u001b[0m: unsupported operand type(s) for /: 'Decimal' and 'float'"
     ]
    }
   ],
   "source": [
    "import decimal\n",
    "decimal.getcontext().prec = 30\n",
    "D = decimal.Decimal\n",
    "\n",
    "def diff2(f, x, h=1E-9):     #Second order derivative\n",
    "    x = D(str(x));  h = D(str(h))  # Convert to high presicion\n",
    "    r = (f(x-h) - 2*f(x) + f(x+h))/float(h*h)\n",
    "    return r\n",
    "\n",
    "def g(t):\n",
    "    return t**(-6)\n",
    "\n",
    "for k in range(1, 15):\n",
    "    h = 10**(-k)\n",
    "    print 'h = {:.0e}: {:.5g}'.format(h, diff2(g, 1, h))\n",
    "    \n"
   ]
  },
  {
   "cell_type": "markdown",
   "metadata": {},
   "source": [
    "# Lambda Function"
   ]
  },
  {
   "cell_type": "code",
   "execution_count": 8,
   "metadata": {
    "collapsed": false
   },
   "outputs": [
    {
     "name": "stdout",
     "output_type": "stream",
     "text": [
      "13\n",
      "13\n"
     ]
    }
   ],
   "source": [
    "# These two are equivalent\n",
    "\n",
    "g = lambda x: x**2 + 4\n",
    "\n",
    "def f(x):\n",
    "    return x**2 + 4\n",
    "\n",
    "#Generally speaking, don't define a function inside another function.\n",
    "#If you absolutely need to do it, use the lambda function\n",
    "\n",
    "print g(3)\n",
    "print f(3)"
   ]
  },
  {
   "cell_type": "code",
   "execution_count": 10,
   "metadata": {
    "collapsed": true
   },
   "outputs": [],
   "source": [
    "x = 3\n",
    "a = 2 if x < 1 else 0"
   ]
  },
  {
   "cell_type": "code",
   "execution_count": null,
   "metadata": {
    "collapsed": true
   },
   "outputs": [],
   "source": [
    "d2 diff2(lambda t: t**(-6), 1, h = 1e-4)\n",
    "print d2"
   ]
  },
  {
   "cell_type": "code",
   "execution_count": 12,
   "metadata": {
    "collapsed": false
   },
   "outputs": [
    {
     "name": "stdout",
     "output_type": "stream",
     "text": [
      "<type 'function'>\n",
      "0.997494986604\n"
     ]
    }
   ],
   "source": [
    "from math import pi, sin\n",
    "x = 1.5\n",
    "f = lambda x: sin(x) if 0 <= x <= 2*pi else 0\n",
    "print type(f)\n",
    "print f(x)"
   ]
  },
  {
   "cell_type": "markdown",
   "metadata": {},
   "source": [
    "# Doctest -- REQUIRED FOR HW02 ONWARD"
   ]
  },
  {
   "cell_type": "code",
   "execution_count": 13,
   "metadata": {
    "collapsed": false
   },
   "outputs": [
    {
     "ename": "NameError",
     "evalue": "name 'L' is not defined",
     "output_type": "error",
     "traceback": [
      "\u001b[0;31m---------------------------------------------------------------------------\u001b[0m",
      "\u001b[0;31mNameError\u001b[0m                                 Traceback (most recent call last)",
      "\u001b[0;32m<ipython-input-13-557766c81b31>\u001b[0m in \u001b[0;36m<module>\u001b[0;34m()\u001b[0m\n\u001b[1;32m      9\u001b[0m \u001b[0;34m\u001b[0m\u001b[0m\n\u001b[1;32m     10\u001b[0m     \u001b[0mx\u001b[0m \u001b[0;34m=\u001b[0m \u001b[0;36m1000\u001b[0m\u001b[0;34m\u001b[0m\u001b[0m\n\u001b[0;32m---> 11\u001b[0;31m     \u001b[0my\u001b[0m \u001b[0;34m=\u001b[0m \u001b[0mL\u001b[0m\u001b[0;34m(\u001b[0m\u001b[0mx\u001b[0m\u001b[0;34m)\u001b[0m\u001b[0;34m\u001b[0m\u001b[0m\n\u001b[0m\u001b[1;32m     12\u001b[0m     \u001b[0;32mprint\u001b[0m \u001b[0;34m'Series Approximation:'\u001b[0m\u001b[0;34m,\u001b[0m \u001b[0my\u001b[0m\u001b[0;34m\u001b[0m\u001b[0m\n",
      "\u001b[0;31mNameError\u001b[0m: name 'L' is not defined"
     ]
    }
   ],
   "source": [
    "#Importance of DocTest: What are the tests the program needs to pass the tests specified?\n",
    "#If it doesn't pass the test, then the program is not trustworthy.\n",
    "#Used to check if program passes test.\n",
    "\n",
    "if __name__ == \"__main__\":\n",
    "    import doctest\n",
    "    doctest.testmod()\n",
    "    \n",
    "    \n",
    "    x = 1000\n",
    "    y = L(x)\n",
    "    print 'Series Approximation:', y"
   ]
  },
  {
   "cell_type": "markdown",
   "metadata": {},
   "source": [
    "# Breakout Exercises:\n"
   ]
  },
  {
   "cell_type": "markdown",
   "metadata": {},
   "source": [
    "## Put doctest in temperature conversion."
   ]
  }
 ],
 "metadata": {
  "kernelspec": {
   "display_name": "Python 2",
   "language": "python",
   "name": "python2"
  },
  "language_info": {
   "codemirror_mode": {
    "name": "ipython",
    "version": 2
   },
   "file_extension": ".py",
   "mimetype": "text/x-python",
   "name": "python",
   "nbconvert_exporter": "python",
   "pygments_lexer": "ipython2",
   "version": "2.7.9"
  }
 },
 "nbformat": 4,
 "nbformat_minor": 0
}

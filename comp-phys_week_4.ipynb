{
 "cells": [
  {
   "cell_type": "markdown",
   "metadata": {},
   "source": [
    "# Topics"
   ]
  },
  {
   "cell_type": "markdown",
   "metadata": {},
   "source": [
    "## 1. Arrays and numpy"
   ]
  },
  {
   "cell_type": "markdown",
   "metadata": {},
   "source": [
    "## 2. matplotlib"
   ]
  },
  {
   "cell_type": "raw",
   "metadata": {},
   "source": [
    "Array can be viewed as a variant of a list, but must follow assumptions and features:\n",
    "- All elements must be of same type (usually int, real or complex numbers, str)\n",
    "- Number of elements must be known ahead of time\n",
    "- Not part of standard Python -- One needs additional packaged called Numerical Python, abbreviated as NumPy\n",
    "- Wide range of mathematical applications\n",
    "    - Remove need for loops over array elements, called vectorization and may speed up Python programs\n",
    "    - Arrays resemble mathematical equations\n",
    "    - Arrays with one index are often called vectors; Arrays with two indices are two-dimensional (Data structure for             table)\n",
    "        - Better than lists of lists"
   ]
  },
  {
   "cell_type": "code",
   "execution_count": 2,
   "metadata": {
    "collapsed": true
   },
   "outputs": [],
   "source": [
    "#typically:\n",
    "import numpy as np"
   ]
  },
  {
   "cell_type": "code",
   "execution_count": 3,
   "metadata": {
    "collapsed": false
   },
   "outputs": [
    {
     "name": "stdout",
     "output_type": "stream",
     "text": [
      "<type 'list'> <type 'numpy.ndarray'>\n",
      "[1 2 3 4 5 6 7 8 9]\n"
     ]
    }
   ],
   "source": [
    "# turning a list into a numpy array\n",
    "r = range(1, 10)\n",
    "a = np.array(r)\n",
    "print type(r), type(a)\n",
    "print a"
   ]
  },
  {
   "cell_type": "code",
   "execution_count": 4,
   "metadata": {
    "collapsed": false
   },
   "outputs": [
    {
     "name": "stdout",
     "output_type": "stream",
     "text": [
      "[ 0.  0.  0.  0.  0.  0.  0.  0.  0.  0.] <type 'numpy.ndarray'>\n"
     ]
    }
   ],
   "source": [
    "b = np.zeros(10)\n",
    "print b, type(b)"
   ]
  },
  {
   "cell_type": "code",
   "execution_count": 5,
   "metadata": {
    "collapsed": false
   },
   "outputs": [
    {
     "name": "stdout",
     "output_type": "stream",
     "text": [
      "[  1.    1.6   2.2   2.8   3.4   4.    4.6   5.2   5.8   6.4   7.    7.6\n",
      "   8.2   8.8   9.4  10.   10.6  11.2  11.8  12.4] <type 'numpy.ndarray'>\n",
      "20\n"
     ]
    }
   ],
   "source": [
    "d = np.linspace(1, 12.4, 20)\n",
    "print d, type(d)\n",
    "print len(d)\n",
    "\n",
    "#np.linspace() gives numbers that are evenly spaced"
   ]
  },
  {
   "cell_type": "code",
   "execution_count": null,
   "metadata": {
    "collapsed": true
   },
   "outputs": [],
   "source": [
    "# array slicing\n",
    "d = b[1:-1]\n",
    "d[3] = 0.2\n",
    "print 'd=', d\n",
    "print 'b=', b\n",
    "\n",
    "# arrays are mutable"
   ]
  },
  {
   "cell_type": "code",
   "execution_count": 8,
   "metadata": {
    "collapsed": false
   },
   "outputs": [
    {
     "name": "stdout",
     "output_type": "stream",
     "text": [
      "[ 0.36787944  0.37538693  0.38304762  0.39086465  0.39884121  0.40698054\n",
      "  0.41528598  0.42376092  0.4324088   0.44123317  0.45023762  0.45942582\n",
      "  0.46880154  0.47836859  0.48813088  0.49809239  0.50825719  0.51862943\n",
      "  0.52921334  0.54001324  0.55103354  0.56227874  0.57375342  0.58546227\n",
      "  0.59741007  0.60960169  0.62204212  0.63473642  0.64768978  0.66090748\n",
      "  0.67439493  0.68815762  0.70220117  0.71653131  0.7311539   0.74607489\n",
      "  0.76130039  0.7768366   0.79268986  0.80886665  0.82537356  0.84221734\n",
      "  0.85940486  0.87694313  0.89483932  0.91310072  0.93173478  0.95074913\n",
      "  0.9701515   0.98994983  1.0101522   1.03076684  1.05180218  1.07326679\n",
      "  1.09516944  1.11751907  1.1403248   1.16359593  1.18734197  1.21157261\n",
      "  1.23629773  1.26152743  1.287272    1.31354196  1.34034801  1.36770112\n",
      "  1.39561243  1.42409333  1.45315546  1.48281068  1.51307108  1.54394902\n",
      "  1.5754571   1.60760818  1.64041539  1.6738921   1.70805199  1.742909\n",
      "  1.77847735  1.81477156  1.85180644  1.88959711  1.92815899  1.96750782\n",
      "  2.00765966  2.0486309   2.09043826  2.1330988   2.17662993  2.22104942\n",
      "  2.26637541  2.31262638  2.35982121  2.40797917  2.45711992  2.5072635\n",
      "  2.55843038  2.61064146  2.66391802  2.71828183]\n"
     ]
    }
   ],
   "source": [
    "# Why arrays are convenient\n",
    "x = np.linspace(-1, 1., 100)\n",
    "y = np.exp(x)\n",
    "print y"
   ]
  },
  {
   "cell_type": "markdown",
   "metadata": {},
   "source": [
    "#Write a function that creates of series of temp values in C and then compute the Fahrenheit equivalents"
   ]
  },
  {
   "cell_type": "markdown",
   "metadata": {},
   "source": [
    "# Write another function that does it the list comprehension way"
   ]
  },
  {
   "cell_type": "markdown",
   "metadata": {},
   "source": [
    "#Both functions should take three variables: Tstart, Tend, numsteps "
   ]
  },
  {
   "cell_type": "code",
   "execution_count": null,
   "metadata": {
    "collapsed": true
   },
   "outputs": [],
   "source": [
    "def CtoF(Tstart, Tend, numsteps):"
   ]
  },
  {
   "cell_type": "raw",
   "metadata": {},
   "source": [
    "REVIEW LIST COMPREHENSION"
   ]
  },
  {
   "cell_type": "code",
   "execution_count": 13,
   "metadata": {
    "collapsed": false
   },
   "outputs": [
    {
     "data": {
      "text/plain": [
       "array([  32.,   50.,   68.,   86.,  104.,  122.,  140.,  158.,  176.,\n",
       "        194.,  212.])"
      ]
     },
     "execution_count": 13,
     "metadata": {},
     "output_type": "execute_result"
    }
   ],
   "source": [
    "def convert_temp_arr(Tstart, Tend, numsteps):\n",
    "    from numpy import linspace\n",
    "    Cdeg = linspace(Tstart, Tend, numsteps)\n",
    "    Fdeg = Cdeg*9./5 + 32.\n",
    "    return Fdeg\n",
    "\n",
    "convert_temp_arr(0., 100., 11)"
   ]
  },
  {
   "cell_type": "markdown",
   "metadata": {},
   "source": [
    "#Explicit Specification of Numpy Data Type "
   ]
  },
  {
   "cell_type": "code",
   "execution_count": 14,
   "metadata": {
    "collapsed": false
   },
   "outputs": [
    {
     "name": "stdout",
     "output_type": "stream",
     "text": [
      "<type 'numpy.ndarray'> float64\n",
      "[ 1.  2.  3.  4.  5.  6.  7.  8.  9.]\n",
      "<type 'numpy.ndarray'> int64\n",
      "[1 2 3 4 5 6 7 8 9]\n"
     ]
    }
   ],
   "source": [
    "x = np.arange(1, 10, 1.)\n",
    "print type(x), x.dtype\n",
    "print x\n",
    "y = np.arange(1, 10, 1, dtype = np.int64)\n",
    "print type(y), y.dtype\n",
    "print y"
   ]
  },
  {
   "cell_type": "markdown",
   "metadata": {},
   "source": [
    "# To see all data types: Google \"numpy data type\""
   ]
  },
  {
   "cell_type": "markdown",
   "metadata": {},
   "source": [
    "#To find out numpy version "
   ]
  },
  {
   "cell_type": "code",
   "execution_count": 15,
   "metadata": {
    "collapsed": false
   },
   "outputs": [
    {
     "data": {
      "text/plain": [
       "'1.9.2'"
      ]
     },
     "execution_count": 15,
     "metadata": {},
     "output_type": "execute_result"
    }
   ],
   "source": [
    "import numpy as np\n",
    "np.__version__"
   ]
  },
  {
   "cell_type": "markdown",
   "metadata": {},
   "source": [
    "# Array Indexing"
   ]
  },
  {
   "cell_type": "code",
   "execution_count": 16,
   "metadata": {
    "collapsed": false
   },
   "outputs": [
    {
     "name": "stdout",
     "output_type": "stream",
     "text": [
      "[False False False False False  True  True  True  True  True]\n",
      "number of elements with value greater than 5: 5\n",
      "[  6.   7.   8.   9.  10.]\n"
     ]
    }
   ],
   "source": [
    "x = np.linspace(1, 10, 10)\n",
    "idx = x > 5 #array of booleans\n",
    "print idx\n",
    "print \"number of elements with value greater than 5:\", sum(idx)\n",
    "y = x[idx]\n",
    "print y"
   ]
  },
  {
   "cell_type": "code",
   "execution_count": 18,
   "metadata": {
    "collapsed": false
   },
   "outputs": [
    {
     "name": "stdout",
     "output_type": "stream",
     "text": [
      "(array([5, 6, 7, 8, 9]),)\n",
      "number of elements with value greater than 5: 1\n",
      "number of elements with value greater than 5: 5\n",
      "[  6.   7.   8.   9.  10.]\n"
     ]
    }
   ],
   "source": [
    "# Alternatively can use np.where()\n",
    "x = np.linspace(1, 10, 10)\n",
    "idx = np.where(x > 5) #array of booleans\n",
    "print idx\n",
    "print \"number of elements with value greater than 5:\", len(idx)\n",
    "print 'number of elements with value greater than 5:', len(idx[0])\n",
    "y = x[idx]\n",
    "print y"
   ]
  },
  {
   "cell_type": "markdown",
   "metadata": {},
   "source": [
    "#Module for Plotting -- matplotlib "
   ]
  },
  {
   "cell_type": "code",
   "execution_count": 21,
   "metadata": {
    "collapsed": false
   },
   "outputs": [],
   "source": [
    "%matplotlib osx\n",
    "import matplotlib.pyplot as plt\n",
    "y = np.linspace(1, 100, 10)\n",
    "# x is assumed to be the index\n",
    "plt.plot(y)\n",
    "plt.show()"
   ]
  },
  {
   "cell_type": "code",
   "execution_count": 22,
   "metadata": {
    "collapsed": false
   },
   "outputs": [
    {
     "data": {
      "image/png": "[encoded data removed]",
      "text/plain": [
       "<matplotlib.figure.Figure at 0x10c0c8d10>"
      ]
     },
     "metadata": {},
     "output_type": "display_data"
    }
   ],
   "source": [
    "%matplotlib inline\n",
    "import numpy as np\n",
    "import matplotlib.pyplot as plt\n",
    "y = np.linspace(1e-6, 15, 1000)\n",
    "b = y**3/(np.exp(y)-1)\n",
    "plt.plot(y,b)\n",
    "plt.xlabel('Frequency')\n",
    "plt.ylabel('Energy Density')\n",
    "plt.title('Black Body Spectrum')\n",
    "plt.savefig('planck.pdf')\n",
    "plt.show()"
   ]
  },
  {
   "cell_type": "markdown",
   "metadata": {},
   "source": [
    "#Breakout: plot y = cos(-e^x), give title (Frequency Modulation), label axes"
   ]
  },
  {
   "cell_type": "code",
   "execution_count": 28,
   "metadata": {
    "collapsed": false
   },
   "outputs": [
    {
     "data": {
      "image/png": "[encoded data removed]",
      "text/plain": [
       "<matplotlib.figure.Figure at 0x10c4c8f50>"
      ]
     },
     "metadata": {},
     "output_type": "display_data"
    }
   ],
   "source": [
    "%matplotlib inline\n",
    "import numpy as np\n",
    "import matplotlib.pyplot as plt\n",
    "y = np.linspace(0, np.pi, 1000)\n",
    "b = np.cos(-np.exp(y))\n",
    "plt.plot(y,b)\n",
    "plt.xlabel('Radians')\n",
    "plt.ylabel('cos(-e^x)')\n",
    "plt.title('Frequency Modulation')\n",
    "plt.show()"
   ]
  },
  {
   "cell_type": "code",
   "execution_count": null,
   "metadata": {
    "collapsed": true
   },
   "outputs": [],
   "source": []
  }
 ],
 "metadata": {
  "kernelspec": {
   "display_name": "Python 2",
   "language": "python",
   "name": "python2"
  },
  "language_info": {
   "codemirror_mode": {
    "name": "ipython",
    "version": 2
   },
   "file_extension": ".py",
   "mimetype": "text/x-python",
   "name": "python",
   "nbconvert_exporter": "python",
   "pygments_lexer": "ipython2",
   "version": "2.7.9"
  }
 },
 "nbformat": 4,
 "nbformat_minor": 0
}

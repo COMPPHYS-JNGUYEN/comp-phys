{
 "cells": [
  {
   "cell_type": "markdown",
   "metadata": {},
   "source": [
    "# Code in dolphins.py not same as code notebook"
   ]
  },
  {
   "cell_type": "code",
   "execution_count": 1,
   "metadata": {
    "collapsed": false
   },
   "outputs": [],
   "source": [
    "import random\n",
    "import numpy\n",
    "import re\n",
    "import urllib\n",
    "\n",
    "#####################################################################################################################\n",
    "\n",
    "# malenames and femalenames initialized such that it extracts information from URLs and puts information into lists.\n",
    "# Put above functions and other code to be used as global variable inside functions.\n",
    "malenames = []\n",
    "femalenames = []\n",
    "\n",
    "# creates the text file directory path for the male and female lists for later extraction.\n",
    "# put above functions and other code to be used as global variable inside functions.\n",
    "male_dir_path = '/Users/labuser/comp-phys/'      #\"C:/Users/James/Documents/GitHub/comp-phys/\" # \"/Users/labuser/comp-phys/\" for mac\n",
    "male_filenm = male_dir_path + 'malenames.txt'\n",
    "female_dir_path = '/Users/labuser/comp-phys/'    #\"C:/Users/James/Documents/GitHub/comp-phys/\" # \"/Users/labuser/comp-phys/\" for mac\n",
    "female_filenm = female_dir_path + 'femalenames.txt'\n",
    "\n",
    "def findnames(code, gender):\n",
    "    matchstring = 'nameDetails\">.*</span>'\n",
    "    if gender == 'M':\n",
    "        namelist = []\n",
    "        for item in code:\n",
    "            x = re.findall(matchstring, item)\n",
    "            if len(x) > 0:\n",
    "                namelist.append(x[0])\n",
    "        for stuff in namelist:\n",
    "            new_stuff = stuff.replace('nameDetails\">', \"\")\n",
    "            newnew_stuff = new_stuff.replace('</span>', \"\")\n",
    "            malenames.append(newnew_stuff)\n",
    "    else:\n",
    "        namelist = []\n",
    "        for item in code:\n",
    "            x = re.findall(matchstring, item)\n",
    "            if len(x) > 0:\n",
    "                namelist.append(x[0])\n",
    "        for stuff in namelist:\n",
    "            new_stuff = stuff.replace('nameDetails\">', \"\")\n",
    "            newnew_stuff = new_stuff.replace('</span>', \"\")\n",
    "            femalenames.append(newnew_stuff)\n",
    "            \n",
    "def namegen(sex):\n",
    "    x = 0\n",
    "    y = 0\n",
    "    if sex == 'M':\n",
    "        with open(male_filenm,\"r\") as f:\n",
    "            malenames = eval(f.read())\n",
    "        while x < len(malenames)-1:\n",
    "            yield malenames[x]\n",
    "            x += 1\n",
    "            malenames[x]\n",
    "    else:\n",
    "        with open(female_filenm, \"r\") as f:\n",
    "            femalenames = eval(f.read())\n",
    "        while y < len(femalenames):\n",
    "            yield femalenames[y]\n",
    "            y += 1\n",
    "            femalenames[x]\n",
    "\n",
    "# Extracts male and female names from URL.\n",
    "i = 1\n",
    "maleurl = \"http://www.prokerala.com/kids/baby-names/boy/page-1.html\"\n",
    "femaleurl = \"http://www.prokerala.com/kids/baby-names/girl/page-1.html\"\n",
    "while len(malenames) < 105:    #7880\n",
    "    x = maleurl.replace('1', str(i))\n",
    "    xinfile = urllib.urlopen(x)\n",
    "    xhtml = xinfile.readlines()\n",
    "    xinfile.close()\n",
    "    findnames(xhtml, 'M')\n",
    "    i += 1\n",
    "\n",
    "j = 1\n",
    "while len(femalenames) < 105:    #5974\n",
    "    y = femaleurl.replace('1', str(j))\n",
    "    yinfile = urllib.urlopen(y)\n",
    "    yhtml = yinfile.readlines()\n",
    "    yinfile.close()\n",
    "    findnames(yhtml, 'F')\n",
    "    j += 1\n",
    "    \n",
    "# Make male and female names list extracted from websites text file that is writable.\n",
    "with open(male_filenm, \"w\") as f:\n",
    "    f.write(str(malenames))\n",
    "with open(female_filenm, \"w\") as f:\n",
    "    f.write(str(femalenames))\n",
    "    \n",
    "#####################################################################################################################\n",
    "\n",
    "# Set male and female generator equal to namegen() with respective genders to make use of .next() inside function.\n",
    "malegenerator = namegen('M')\n",
    "femalegenerator = namegen('F')\n",
    "\n",
    "# Instantiate elder dolphins (with arbitrary parents).\n",
    "elder_dolphins = ['Shakira', 'Jency', 'Lothar', 'JinBiao']\n",
    "dolphinstances = {elder_dolphins[0]: Dolphins(elder_dolphins[0], 'F', 'Jen', 'Sven'),\\\n",
    "                  elder_dolphins[1]: Dolphins(elder_dolphins[1], 'F', 'Jan', 'Stan'),\\\n",
    "                  elder_dolphins[2]: Dolphins(elder_dolphins[2], 'M', 'June', 'Stoon'),\\\n",
    "                  elder_dolphins[3]: Dolphins(elder_dolphins[3], 'M', 'Jill', 'Skrill')}\n",
    "\n",
    "def MarvinGaye(partner1, partner2):\n",
    "    if partner1.sex == 'M':\n",
    "        MalePartner = partner1.name\n",
    "    else:\n",
    "        FemalePartner = partner1.name\n",
    "    if partner2.sex == 'M':\n",
    "        MalePartner = partner2.name\n",
    "    else:\n",
    "        FemalePartner = partner2.name\n",
    "    if partner1.legal(partner2) == True:\n",
    "        child_sex = random.sample(['M', 'F'], 1)[0]\n",
    "        if child_sex == 'M':\n",
    "            child_name = malegenerator.next()\n",
    "            dolphinstances[child_name] = Dolphins(child_name, child_sex, FemalePartner, MalePartner)\n",
    "            partner1.refracperiod = 0\n",
    "            partner2.refracperiod = 0\n",
    "        else:\n",
    "            child_name = femalegenerator.next()\n",
    "            dolphinstances[child_name] = Dolphins(child_name, child_sex, FemalePartner, MalePartner)\n",
    "            partner1.refracperiod = 0\n",
    "            partner2.refracperiod = 0\n",
    "        \n",
    "        \n",
    "class Dolphins:\n",
    "    def __init__(self, name, sex, mother, father):\n",
    "        self.name = name\n",
    "        self.sex = sex\n",
    "        self.age = 0\n",
    "        self.mother = mother\n",
    "        self.father = father\n",
    "        self.death = random.gauss(35, 5)\n",
    "        self.refracperiod = 0\n",
    "        \n",
    "## Aging method: updates the age attribute each year.        \n",
    "    def agify(self):                            \n",
    "        self.age += 1\n",
    "        self.refracperiod += 1\n",
    "        \n",
    "## Procreation method: determines whether a dolphin is allowed to procreate with another.        \n",
    "    def legal(self, partner):                   \n",
    "        if (self.age >= 8)\\\n",
    "        and (partner.age >= 8)\\\n",
    "        and (abs(self.age - partner.age) <= 10)\\\n",
    "        and (self.sex != partner.sex)\\\n",
    "        and (self.father != partner.father)\\\n",
    "        and (self.mother != partner.mother)\\\n",
    "        and (self.refracperiod > 5)\\\n",
    "        and (partner.refracperiod > 5):\n",
    "            proc = True\n",
    "        else:\n",
    "            proc = False\n",
    "        return proc\n",
    "\n",
    "#####################################################################################################################\n"
   ]
  },
  {
   "cell_type": "code",
   "execution_count": 25,
   "metadata": {
    "collapsed": false
   },
   "outputs": [
    {
     "data": {
      "text/plain": [
       "True"
      ]
     },
     "execution_count": 25,
     "metadata": {},
     "output_type": "execute_result"
    }
   ],
   "source": [
    "dolphinstances[\"Shakira\"].agify()\n",
    "dolphinstances['Shakira'].age\n",
    "dolphinstances[\"Lothar\"].agify()\n",
    "dolphinstances['Lothar'].age\n",
    "dolphinstances['Shakira'].legal(dolphinstances['Lothar'])"
   ]
  },
  {
   "cell_type": "code",
   "execution_count": 26,
   "metadata": {
    "collapsed": false
   },
   "outputs": [],
   "source": [
    "MarvinGaye(dolphinstances[\"Shakira\"], dolphinstances['Lothar'])"
   ]
  },
  {
   "cell_type": "code",
   "execution_count": 27,
   "metadata": {
    "collapsed": false
   },
   "outputs": [
    {
     "name": "stdout",
     "output_type": "stream",
     "text": [
      "{'Aaban': <__main__.Dolphins instance at 0x102d97a28>, 'Aadam': <__main__.Dolphins instance at 0x102f043b0>, 'Aabheer': <__main__.Dolphins instance at 0x102f0e518>}\n"
     ]
    }
   ],
   "source": [
    "print child_dict"
   ]
  },
  {
   "cell_type": "markdown",
   "metadata": {
    "collapsed": true
   },
   "source": [
    "# Data Retrieval from http://www.prokerala.com/kids/baby-names/boy/page-1.html and http://www.prokerala.com/kids/baby-names/girl/page-1.html\n",
    "    Working data retrieval code and name generator based on gender.  Added to program above and copied to dolphins.py."
   ]
  },
  {
   "cell_type": "code",
   "execution_count": 1,
   "metadata": {
    "collapsed": false
   },
   "outputs": [],
   "source": [
    "import re\n",
    "import urllib\n",
    "import webbrowser\n",
    "from pdb import set_trace\n",
    "\n",
    "malenames = []\n",
    "femalenames = []\n",
    "male_dir_path = \"C:/Users/James/Documents/GitHub/comp-phys/\"   # \"C:/Users/James/Documents/GitHub/comp-phys/\"      # \"/Users/labuser/comp-phys/\" for mac\n",
    "male_filenm = male_dir_path + 'malenames.txt'\n",
    "female_dir_path = \"C:/Users/James/Documents/GitHub/comp-phys/\"    # \"C:/Users/James/Documents/GitHub/comp-phys/\"    # \"/Users/labuser/comp-phys/\" for mac\n",
    "female_filenm = female_dir_path + 'femalenames.txt'\n",
    "\n",
    "def findmalenames(code):\n",
    "    matchstring = 'nameDetails\">.*</span>'\n",
    "    namelist = []\n",
    "    for item in code:\n",
    "        x = re.findall(matchstring, item)\n",
    "        if len(x) > 0:\n",
    "            namelist.append(x[0])\n",
    "    for stuff in namelist:\n",
    "        new_stuff = stuff.replace('nameDetails\">', \"\")\n",
    "        newnew_stuff = new_stuff.replace('</span>', \"\")\n",
    "        malenames.append(newnew_stuff)\n",
    "\n",
    "def findfemalenames(code):\n",
    "    matchstring = 'nameDetails\">.*</span>'\n",
    "    namelist = []\n",
    "    for item in code:\n",
    "        x = re.findall(matchstring, item)\n",
    "        if len(x) > 0:\n",
    "            namelist.append(x[0])\n",
    "    for stuff in namelist:\n",
    "        new_stuff = stuff.replace('nameDetails\">', \"\")\n",
    "        newnew_stuff = new_stuff.replace('</span>', \"\")\n",
    "        femalenames.append(newnew_stuff)\n",
    "        \n",
    "def namegen(sex):\n",
    "    x = 0\n",
    "    y = 0\n",
    "    if sex == 'M':\n",
    "        with open(male_filenm,\"r\") as f:\n",
    "            malenames = eval(f.read())\n",
    "        while x < len(malenames)-1:\n",
    "            yield malenames[x]\n",
    "            x += 1\n",
    "    else:\n",
    "        with open(female_filenm, \"r\") as f:\n",
    "            femalenames = eval(f.read())\n",
    "        while y < len(femalenames):\n",
    "            yield femalenames[y]\n",
    "            y += 1\n",
    "\n",
    "\n",
    "i = 1\n",
    "maleurl = \"http://www.prokerala.com/kids/baby-names/boy/page-1.html\"\n",
    "femaleurl = \"http://www.prokerala.com/kids/baby-names/girl/page-1.html\"\n",
    "while len(malenames) < 105:    #7880\n",
    "    x = maleurl.replace('1', str(i))\n",
    "    xinfile = urllib.urlopen(x)\n",
    "    xhtml = xinfile.readlines()\n",
    "    xinfile.close()\n",
    "    findmalenames(xhtml)\n",
    "    i += 1\n",
    "\n",
    "j = 1\n",
    "while len(femalenames) < 105:    #5974\n",
    "    y = femaleurl.replace('1', str(j))\n",
    "    yinfile = urllib.urlopen(y)\n",
    "    yhtml = yinfile.readlines()\n",
    "    yinfile.close()\n",
    "    findfemalenames(yhtml)\n",
    "    j += 1\n",
    "    \n",
    "\n",
    "with open(male_filenm, \"w\") as f:\n",
    "    f.write(str(malenames))\n",
    "with open(female_filenm, \"w\") as f:\n",
    "    f.write(str(femalenames))"
   ]
  },
  {
   "cell_type": "code",
   "execution_count": 28,
   "metadata": {
    "collapsed": false
   },
   "outputs": [
    {
     "data": {
      "text/plain": [
       "'.*'"
      ]
     },
     "execution_count": 28,
     "metadata": {},
     "output_type": "execute_result"
    }
   ],
   "source": [
    "x = 'nameDetails\">.*</span>'\n",
    "x.lstrip('nameDetails\">').rstrip('</span>')"
   ]
  },
  {
   "cell_type": "code",
   "execution_count": 4,
   "metadata": {
    "collapsed": false
   },
   "outputs": [],
   "source": [
    "import random\n",
    "import numpy\n",
    "import re\n",
    "import urllib\n",
    "from pdb import set_trace\n",
    "\n",
    "#####################################################################################################################\n",
    "\n",
    "# malenames and femalenames initialized such that it extracts information from URLs and puts information into lists.\n",
    "# Put above functions and other code to be used as global variable inside functions.\n",
    "malenames = []\n",
    "femalenames = []\n",
    "\n",
    "# creates the text file directory path for the male and female lists for later extraction.\n",
    "# put above functions and other code to be used as global variable inside functions.\n",
    "male_dir_path = \"C:/Users/James/Documents/GitHub/comp-phys/\"        # PC: \"C:/Users/James/Documents/GitHub/comp-phys/\"\n",
    "male_filenm = male_dir_path + 'malenames.txt'                       # Mac: \"/Users/labuser/comp-phys/\"\n",
    "female_dir_path = \"C:/Users/James/Documents/GitHub/comp-phys/\"\n",
    "female_filenm = female_dir_path + 'femalenames.txt'\n",
    "\n",
    "def findnames(code, gender):\n",
    "    matchstring = 'nameDetails\">.*</span>'\n",
    "    if gender == 'M':\n",
    "        namelist = []\n",
    "        for item in code:\n",
    "            x = re.findall(matchstring, item)\n",
    "            if len(x) > 0:\n",
    "                namelist.append(x[0])\n",
    "        for stuff in namelist:\n",
    "            new_stuff = stuff.lstrip('nameDetails\">').rstrip('</span>')\n",
    "            malenames.append(new_stuff)\n",
    "    else:\n",
    "        namelist = []\n",
    "        for item in code:\n",
    "            x = re.findall(matchstring, item)\n",
    "            if len(x) > 0:\n",
    "                namelist.append(x[0])\n",
    "        for stuff in namelist:\n",
    "            new_stuff = stuff.lstrip('nameDetails\">').rstrip('</span>')\n",
    "            femalenames.append(new_stuff)\n",
    "\n",
    "def namegen(sex):\n",
    "    x = 0\n",
    "    y = 0\n",
    "    if sex == 'M':\n",
    "        with open(male_filenm,\"r\") as f:\n",
    "            malenames = eval(f.read())\n",
    "        while x < len(malenames)-1:\n",
    "            yield malenames[x]\n",
    "            x += 1\n",
    "    else:\n",
    "        with open(female_filenm, \"r\") as f:\n",
    "            femalenames = eval(f.read())\n",
    "        while y < len(femalenames):\n",
    "            yield femalenames[y]\n",
    "            y += 1\n",
    "\n",
    "# Extracts male and female names from URL.\n",
    "i = 1\n",
    "maleurl = \"http://www.prokerala.com/kids/baby-names/boy/page-1.html\"\n",
    "femaleurl = \"http://www.prokerala.com/kids/baby-names/girl/page-1.html\"\n",
    "while len(malenames) < 1000:    #Male Names Max: 7880\n",
    "    x = maleurl.replace('1', str(i))\n",
    "    xinfile = urllib.urlopen(x)\n",
    "    xhtml = xinfile.readlines()\n",
    "    xinfile.close()\n",
    "    findnames(xhtml, 'M')\n",
    "    i += 1\n",
    "\n",
    "j = 1\n",
    "while len(femalenames) < 1000:    # Female Names Max: 5974\n",
    "    y = femaleurl.replace('1', str(j))\n",
    "    yinfile = urllib.urlopen(y)\n",
    "    yhtml = yinfile.readlines()\n",
    "    yinfile.close()\n",
    "    findnames(yhtml, 'F')\n",
    "    j += 1\n",
    "\n",
    "# Make male and female names list extracted from websites text file that is writable.\n",
    "with open(male_filenm, \"w\") as f:\n",
    "    f.write(str(malenames))\n",
    "with open(female_filenm, \"w\") as f:\n",
    "    f.write(str(femalenames))"
   ]
  },
  {
   "cell_type": "code",
   "execution_count": 6,
   "metadata": {
    "collapsed": false
   },
   "outputs": [
    {
     "name": "stdout",
     "output_type": "stream",
     "text": [
      "[\"A'dab\", \"A'idah\", \"A'li\", \"A'mal\", 'Aabh', 'Aadab', 'Aafree', 'Aaish', 'Aakanksh', 'Aali', 'Aaliy', 'Aaliyah', 'Aalliyah', 'Aamaal', 'Aamand', 'Aamani', 'Aamber', 'Aaminah', 'Aamir', 'Aamirah', 'Aamiy', 'A', 'Aanisah', 'Aany', 'Aaradhy', 'Aari', 'Aari', 'Aari', 'Aariel', 'Aarielle', 'Aarushi', 'Aaryah', 'Aary', 'Aary', 'Aasi', 'Aasm', 'Aatikah', 'Aav', 'Aayl', 'Abbigale', 'Abeer', 'Abh', 'Abhati', 'Abhay', 'Abhidh', 'Abhidhy', 'Abhil', 'Abhilash', 'Abhinithi', 'Abhiprithi', 'Abhirathi', 'Abhiri', 'Abhisri', 'Abhithi', 'Abi', 'Abi', 'Abid', 'Abidah', 'Abigail', 'Abir', 'Abir', 'Abisht', 'Abl', 'Abl', 'Ablah', 'Aboil', 'Abr', 'Abri', 'Acaci', 'Accaci', 'Achal', 'Achazi', 'Ad', 'Adah', 'Adali', 'Adally', 'Adaly', 'Adaly', 'Adami', 'Adar', 'Add', 'Addaly', 'Addaly', 'Addeline', 'Addri', 'Addri', 'Addyso', 'Adeel', 'Adeel', 'Adel', 'Adelaide', 'Adele', 'Adelee', 'Adeli', 'Adeline', 'Adelle', 'Ade', 'Adere', 'Adhir', 'Adib', 'Adie', 'Adil', 'Adilah', 'Adilene', 'Adilenne', 'Adi', 'Adi', 'Adine', 'Adith', 'Aditi', 'Aditri', 'Adiv', 'Adr', 'Adri', 'Adriane', 'Adrianne', 'Adrie', 'Adriene', 'Adrij', 'Adrik', 'Adri', 'Ady', 'Adyso', 'Afaf', 'Afifah', 'Afr', 'Afr', 'Afrah', 'Afree', 'Afroz', 'Afto', 'Agate', 'Agath', 'Aghanashini', 'Agne', 'Agne', 'Agnishikh', 'Agrat', 'Agrim', 'Ahaly', 'Ahav', 'Ahd', 'Ahily', 'Ahladit', 'Ahladith', 'Ahlam', 'Ahy', 'Aid', 'Aid', 'Ailish', 'Ai', 'Aini', 'Airi', 'Aish', 'Aishah', 'Aishwary', 'Aisli', 'Aiy', 'Aiy', 'Aizz', 'Ajal', 'Ajay', 'Ajeet', 'Akalk', 'Akanksh', 'Akash', 'Akhil', 'Akil', 'Akilah', 'Akiv', 'Aklim', 'Akriti', 'Akshit', 'Akshiti', 'Aksithi', 'Akul', 'Akuti', 'Al', 'Alai', 'Alaknand', 'Alal', 'Alamar', 'Alanii', 'Alannah', 'Alanni', 'Alay', 'Alay', 'Albert', 'Aldee', 'Aldor', 'Alecci', 'Aleci', 'Aleeci', 'Ale', 'Ale', 'Ale', 'Alessandr', 'Alessi', 'Alexanndr', 'Alexx', 'Alexxandr', 'Alexxandri', 'Alexxi', 'Alfred', 'Alhe', 'Ali', 'Aliah', 'Alicci', 'Alice', 'Alice', 'Alici', 'Alicj', 'Alicy', 'Alii', 'Alii', 'Aliiyah', 'Alim', 'Alimah', 'Ali', 'Ali', 'Alish', 'Alishi', 'Alisi', 'Aliso', 'Ali', 'Alissh', 'Alisso', 'Alisy', 'Aliy', 'Aliyaah', 'Aliyy', 'Aliyyah', 'Aliz', 'Aliz', 'Alize', 'Alizz', 'Alk', 'Allai', 'All', 'Allani', 'All', 'Allay', 'Alleci', 'Allee', 'Alle', 'Allex', 'Allexandr', 'Allexandri', 'Allexi', 'Allexi', 'Alli', 'Allice', 'Allici', 'Alli', 'Alli', 'Allish', 'Alliso', 'Alli', 'Allisso', 'Allisy', 'Allivi', 'Alliy', 'Alliyah', 'Allondr', 'Ally', 'Allyse', 'Allyse', 'Allysi', 'Allyso', 'Ally', 'Allysse', 'Allyssi', 'Allysso', 'Alm', 'Alodie', 'Alo', 'Alonz', 'Alo', 'Al', 'Al', 'Altair', 'Altthe', 'Aludr', 'Alumit', 'Alvi', 'Aly', 'Aly', 'Alyse', 'Alysh', 'Alyshi', 'Alysi', 'Alyso', 'Alysse', 'Alyssi', 'Alysso', 'Alze', 'Alzubr', 'Am', 'Amaani', 'Amal', 'Amal', 'Amal', 'Amaldeepti', 'Amani', 'Amanii', 'Amannd', 'Amanni', 'Amar', 'Amari', 'Amarr', 'Amart', 'Amatullah', 'Amb', 'Ambalik', 'Amberley', 'Amberly', 'Ambik', 'Ambr', 'Ambu', 'Ambud', 'Ambuj', 'Amee', 'Ameenah', 'Ameer', 'Ameerah', 'Ameir', 'Ameirah', 'Amelli', 'Ame', 'Amiee', 'Amier', 'Amii', 'Amiir', 'Ami', 'Aminah', 'Amineh', 'Ami', 'Amir', 'Amirah', 'Amirr', 'Amirrah', 'Ami', 'Amit', 'Amithi', 'Amiy', 'Amiyah', 'Amlik', 'Amm', 'Ammand', 'Ammar', 'Ammber', 'Ammi', 'Ammy', 'Amod', 'Amodini', 'Amrapali', 'Amrit', 'Amritkal', 'Amritrashmi', 'Amrush', 'Amrut', 'Amshul', 'Amtullah', 'Amuly', 'Amy', 'Amy', 'Amyr', 'Amyrah', 'A', 'Anaay', 'Anabel', 'Anabell', 'Anabelle', 'Anagh', 'Anaher', 'Anahir', 'Anakare', 'Anal', 'Analaur', 'Analici', 'Anali', 'Analise', 'Anamari', 'Anamik', 'A', 'Anandi', 'Anandit', 'Anandmayee', 'Ananth', 'Anany', 'Anarghy', 'Anaro', 'Anastasi', 'Anastassi', 'Anasuy', 'Anathi', 'Anay', 'Anbar', 'Anchal', 'Anchit', 'Andree', 'Anee', 'Ang', 'Angarik', 'Angel', 'Angeli', 'Angell', 'Angelli', 'Angellic', 'Angelli', 'Anggie', 'Anhithi', 'Anice', 'Anikk', 'Anil', 'Anilah', 'Anindith', 'Ani', 'Anisah', 'Anise', 'Anish', 'Anish', 'Ani', 'Anit', 'Anitt', 'Aniy', 'Anj', 'Anjali', 'Anjani', 'Anjelic', 'Anjellic', 'Anji', 'Anju', 'Anjushree', 'Anke', 'Ankit', 'A', 'Ann Marie', 'Ann-Marie', 'A', 'Anna Mari', 'Anna Marie', 'Anna-Marie', 'Annabel', 'Annabell', 'Annabell', 'Annabelle', 'Annaliese', 'Annali', 'Annalise', 'Annam', 'Annamari', 'Annamarie', 'Annapur', 'Annastasi', 'Annastassi', 'Annay', 'Anndre', 'Anndri', 'Anne', 'Anne Marie', 'Anne-Marie', 'Anneliese', 'Anneli', 'Annelise', 'Annemarie', 'Annette', 'Anngel', 'Anngelic', 'Anngeli', 'Anngie', 'Annie', 'Annikk', 'Anni', 'Annish', 'Anni', 'Annit', 'Annitt', 'Annjelic', 'Annmarie', 'Annot', 'Annsley', 'Anny', 'Anny', 'Ano', 'Anshul', 'Antar', 'Antini', 'Antonni', 'Anug', 'Anugy', 'Anuj', 'Anul', 'Anulat', 'Anulekh', 'Anumati', 'Anunith', 'Anupam', 'Anuprabh', 'Anuradh', 'Anuragini', 'Anurati', 'Anush', 'Anushri', 'Anusuy', 'Anwaar', 'Any', 'Anyl', 'Anylah', 'Any', 'Anyy', 'Aoife', 'Apal', 'Aparajit', 'Aparijit', 'Apar', 'Apeksh', 'Aprill', 'Aqilah', 'Aq', 'Ar', 'Arabell', 'Aracelli', 'Aracelly', 'Aradh', 'Aramint', 'Arang', 'Arashel', 'Arati', 'Arati', 'Arch', 'Archini', 'Archish', 'Archit', 'Ardee', 'Arde', 'Ardice', 'Ardr', 'Areebah', 'Areej', 'Arell', 'Arelli', 'Arelly', 'Arely', 'Aret', 'Areth', 'Arianne', 'Ariell', 'Arikth', 'Arjuni', 'Arleene', 'Arleigh', 'Arlenne', 'Arleth', 'Arlette', 'Armi', 'Arni', 'Aroob', 'Arorangi', 'Ar', 'Arri', 'Arri', 'Arri', 'Arriel', 'Arriell', 'Arry', 'Arry', 'Arry', 'rti', 'Arub', 'Aru', 'Arundhathi', 'Arundhati', 'Aruni', 'Arunim', 'Arushi', 'Arw', 'Arwe', 'Ary', 'Ary', 'Aryah', 'Ary', 'Ary', 'Ary', 'Aryi', 'Asah', 'Asalah', 'Asarat', 'Asavari', 'Ascencio', 'Aseelah', 'Aseem', 'Asenk', 'Asfaq', 'Ash', 'Ashakir', 'Ashalat', 'Ashantii', 'Ashavari', 'Asheley', 'Ashely', 'Ashi', 'Ashik', 'Ashl', 'Ashle', 'Ashle', 'Ashlee', 'Ashlee', 'Ashleey', 'Ashlei', 'Ashleigh', 'Ashle', 'Ashlesh', 'Ashley', 'Ashli', 'Ashlie', 'Ashliegh', 'Ashli', 'Ashlley', 'Ashlly', 'Ashly', 'Ashly', 'Ashly', 'Ashlynne', 'Ashmiz', 'Ashte', 'Ashti', 'Ashty', 'Ashty', 'Ashwik', 'Ashwini', 'Asi', 'Asiah', 'Asij', 'Asim', 'Asi', 'Asit', 'Asiy', 'Aslesh', 'Asm', 'Asm', 'Asm', 'Asmit', 'Aspy', 'A', 'Assi', 'Assm', 'Aster', 'Aster', 'Asth', 'Astrid', 'Asuce', 'Asuncio', 'Asvik', 'Asy', 'Atalay', 'Atar', 'Ataret', 'Atasi', 'Athali', 'Athee', 'Athe', 'Ati', 'Atif', 'Atir', 'Atiy', 'Atmaj', 'Atreyi', 'Aubri', 'Aubri', 'Aubrie', 'Aubriee', 'Aude', 'Audey', 'Audreanne', 'Audree', 'Audrey', 'Audrey A', 'Audrey Anne', 'Audrey Maud', 'Audrey Maude', 'Audri', 'Audri', 'Audrie', 'Audri', 'Audri', 'Audry', 'Aurel', 'Austy', 'Auttum', 'Autum', 'Avaani', 'Avaline', 'Avani', 'Avanni', 'Avanti', 'Avantik', 'Averi', 'Averie', 'Avil', 'Avishi', 'Aviv', 'Avlee', 'Avrill', 'Avv', 'Axl', 'Ay', 'Ayah', 'Ayal', 'Ay', 'Ayeesh', 'Ayeh', 'Ayeish', 'Ayl', 'Ayll', 'Aysi', 'Ayushmati', 'Azali', 'Azeez', 'Azhaar', 'Azizah', 'Azubah', 'Azuce', 'Azur', 'Azu', 'Azuse', 'Azz', 'Azzah', 'Baani', 'Baasim', 'Babbi', 'Babby', \"Badi'\", 'Badi', 'Badr', 'Badriy', 'Badriyyah', 'Bageshri', 'Baheer', 'Bahir', 'Bahiy', 'Bahiy', 'Bahugandh', 'Bahul', 'Bailee', 'Baileigh', 'Bailey', 'Baili', 'Bailie', 'Bailley', 'Baillie', 'Baily', 'Bakul', 'Bal', 'Baleigh', 'Balqi', 'Bambi', 'B', 'Bandhur', 'Bani', 'Banmal', 'Bansari', 'Bar', \"Baraa'\", 'Barak', 'Barbar', \"Bari'ah\", 'Barik', 'Barkh', 'Barsh', 'Basanti', 'Baseem', 'Bash', 'Basheer', 'Bashir', 'Bashirah', 'Basimah', 'Basm', 'Basmah', 'Batool', 'Batul', 'Batul', 'Bayle', 'Baylee', 'Bayleigh', 'Bayley', 'Bayli', 'Baylie', 'Beatrix', 'Beck', 'Becky', 'Bedar', 'Bel', 'Bel', 'Belle', 'Bellind', 'Benazir', 'Berly', 'Bernadine', 'Berni', 'Berti', 'Berti', 'Be', 'Beth', 'Beth', 'Beth', 'Bethanny', 'Bethany', 'Bethesd', 'Betsy', 'Betti', 'Bettsy', 'Betty', 'Beulah', 'Bev', 'Beverley', 'Beverly', 'Beyonce', 'Beyoncee', 'Bhadr', 'Bhagyalakshmi', 'Bhairavi', 'Bhakti', 'Bhamini', 'Bhanuj', 'Bhanumati', 'Bharati', 'Bharavi', 'Bhargavi', 'Bhav', 'Bhav', 'Bhavani', 'Bhavini', 'Bhav', 'Bhavy', 'Bheem', 'Bhupali', 'Bhuv', 'Biancc', 'Biannc', 'Bibi', 'Billi', 'Billie', 'Bilqi', 'Bi', 'Bindiy', 'Bindu', 'Binney', 'Birdie', 'Blessy', 'Bli', 'Blossom', 'Blythe', 'Bonnie', 'Bonny', 'Brach', 'Bracke', 'Brandii', 'Bre', 'Bre', 'Bre', 'Bre', 'Breanne', 'Bree', 'Bree', 'Breeze', 'Brend', 'Brend', 'Bre', 'Brennd', 'Breo', 'Bridgett', 'Briell', 'Brielle', 'Brigitte', 'Brill', 'Brind', 'Brinti', 'Brio', 'Bri', 'Bri', 'Bristol', 'Brit', 'Britaney', 'Britani', 'Britanie', 'Britanny', 'Britany', 'Briti', 'British', 'Britnee', 'Britney', 'Britnie', 'Britny', 'Britt', 'Brittanee', 'Brittaney', 'Brittani', 'Brittanie', 'Brittanny', 'Brittany', 'Britte', 'Britteny', 'Brittiany', 'Britti', 'Brittini', 'Brittiny', 'Brittnay', 'Brittnee', 'Brittney', 'Brittni', 'Brittnie', 'Brittny', 'Brittony', 'Britttany', 'Bronwy', 'Bronwy', 'Brook', 'Brooke', 'Bry', 'Bry', 'Bryttani', 'Bryttany', 'Bryttni', 'Buffy', 'Bunny', 'Bushr', 'Buthay', 'Buthaynah', 'Cadee', 'Cadie', 'Cady', 'Cady', 'Caitly', 'Cal', 'Calee', 'Caleigh', 'Cali', 'Calist', 'Call', 'Calle', 'Callee', 'Calleigh', 'Calli', 'Callist', 'Candi', 'Candi', 'Cantar', 'Caoimhe', 'Caraly', 'Carely', 'Carily', 'Cari', 'Carit', 'Carit', 'Carl', 'Carlee', 'Carlee', 'Carleigh', 'Carle', 'Carlene', 'Carley', 'Carli', 'Carlie', 'Carll', 'Carly', 'Carmel', 'Carme', 'Carol', 'Carole', 'Carolly', 'Carolly', 'Caroly', 'Carolyne', 'Caroly', 'Carr', 'Carri', 'Carrie', 'Carri', 'Carroly', 'Carry', 'Cary', 'Cary', 'Cary', 'Cary', 'Casee', 'Cassee', 'Cassi', 'Cassondr', 'Cate', 'Catherine', 'Cathery', 'Cathry', 'Cathry', 'Catie', 'Cati', 'Catri', 'Cauvery', 'Cavery', 'Cayl', 'Cecelli', 'Cecilli', 'Cecilly', 'Cecily', 'Cedric', 'Celee', 'Cele', 'Celestte', 'Celi', 'Celleste', 'Celli', 'Celli', 'Celsey', 'Cery', 'Chad']\n"
     ]
    }
   ],
   "source": [
    "print femalenames"
   ]
  },
  {
   "cell_type": "code",
   "execution_count": null,
   "metadata": {
    "collapsed": true
   },
   "outputs": [],
   "source": []
  }
 ],
 "metadata": {
  "kernelspec": {
   "display_name": "Python 2",
   "language": "python",
   "name": "python2"
  },
  "language_info": {
   "codemirror_mode": {
    "name": "ipython",
    "version": 2
   },
   "file_extension": ".py",
   "mimetype": "text/x-python",
   "name": "python",
   "nbconvert_exporter": "python",
   "pygments_lexer": "ipython2",
   "version": "2.7.9"
  }
 },
 "nbformat": 4,
 "nbformat_minor": 0
}

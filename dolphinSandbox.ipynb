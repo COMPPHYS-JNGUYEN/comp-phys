{
 "cells": [
  {
   "cell_type": "code",
   "execution_count": 1,
   "metadata": {
    "collapsed": false
   },
   "outputs": [],
   "source": [
    "import random\n",
    "import numpy\n",
    "\n",
    "names = ['Charmander', 'Squirtle', 'Bulbasaur', 'Ekans', 'Diglet', 'Dodrio', 'Abra', 'Alakazam', 'Snorlax', 'Dugdrio', 'Chansey',\\\n",
    "         'Clefairy', 'Arbok', 'Charmelion', 'Wartortle', 'Ivysaur', 'Charizard', 'Blastoise', 'Pikachu', 'Raichu']\n",
    "\n",
    "child_dict = {}\n",
    "\n",
    "def MarvinGaye(partner1, partner2):\n",
    "    if partner1.sex == 'M':\n",
    "        MalePartner = partner1.name\n",
    "    else:\n",
    "        FemalePartner = partner1.name\n",
    "    if partner2.sex == 'M':\n",
    "        MalePartner = partner2.name\n",
    "    else:\n",
    "        FemalePartner = partner2.name\n",
    "    if partner1.legal(partner2) == True:\n",
    "        child_name = random.sample(names, 1)[0]\n",
    "        child_dict[child_name] = Dolphins(child_name, random.sample(['M', 'F'], 1)[0], FemalePartner, MalePartner)\n",
    "        names.remove(child_name)\n",
    "        partner1.refracperiod = 0\n",
    "        partner2.refracperiod = 0\n",
    "        \n",
    "        \n",
    "class Dolphins:\n",
    "    def __init__(self, name, sex, mother, father):\n",
    "        self.name = name\n",
    "        self.sex = sex\n",
    "        self.age = 0\n",
    "        self.mother = mother\n",
    "        self.father = father\n",
    "        self.death = random.gauss(35, 5)\n",
    "        self.refracperiod = 0\n",
    "        \n",
    "    def agify(self):                                 ## Aging method: updates the age attribute each year.\n",
    "        self.age += 1\n",
    "        self.refracperiod += 1\n",
    "        \n",
    "    def legal(self, partner):                   ## Procreation method: determines whether a dolphin is allowed to procreate with another.\n",
    "        if (self.age >= 8)\\\n",
    "        and (partner.age >= 8)\\\n",
    "        and (abs(self.age - partner.age) <= 10)\\\n",
    "        and (self.sex != partner.sex)\\\n",
    "        and (self.father != partner.father)\\\n",
    "        and (self.mother != partner.mother)\\\n",
    "        and (self.refracperiod > 5)\\\n",
    "        and (partner.refracperiod > 5):\n",
    "            proc = True\n",
    "        else:\n",
    "            proc = False\n",
    "        return proc\n",
    "    \n",
    "    \n",
    "########################\n",
    "##### Main Program #####\n",
    "########################\n",
    "\n",
    "elder_dolphins = ['Shakira', 'Jency', 'Lothar', 'JinBiao']\n",
    "dolphinstances = {elder_dolphins[0]: Dolphins(elder_dolphins[0], 'F', 'Jen', 'Sven'),\\\n",
    "                  elder_dolphins[1]: Dolphins(elder_dolphins[1], 'F', 'Jan', 'Stan'),\\\n",
    "                  elder_dolphins[2]: Dolphins(elder_dolphins[2], 'M', 'June', 'Stoon'),\\\n",
    "                  elder_dolphins[3]: Dolphins(elder_dolphins[3], 'M', 'Jill', 'Skrill')}"
   ]
  },
  {
   "cell_type": "code",
   "execution_count": 21,
   "metadata": {
    "collapsed": false
   },
   "outputs": [
    {
     "name": "stdout",
     "output_type": "stream",
     "text": [
      "14 14\n"
     ]
    },
    {
     "data": {
      "text/plain": [
       "True"
      ]
     },
     "execution_count": 21,
     "metadata": {},
     "output_type": "execute_result"
    }
   ],
   "source": [
    "dolphinstances[elder_dolphins[0]].agify()\n",
    "dolphinstances[elder_dolphins[2]].agify()\n",
    "print dolphinstances[elder_dolphins[0]].age, dolphinstances[elder_dolphins[2]].age\n",
    "dolphinstances[elder_dolphins[0]].legal(dolphinstances[elder_dolphins[2]])"
   ]
  },
  {
   "cell_type": "code",
   "execution_count": 22,
   "metadata": {
    "collapsed": false
   },
   "outputs": [
    {
     "name": "stdout",
     "output_type": "stream",
     "text": [
      "['Charmander', 'Squirtle', 'Bulbasaur', 'Ekans', 'Diglet', 'Dodrio', 'Abra', 'Alakazam', 'Snorlax', 'Dugdrio', 'Chansey', 'Arbok', 'Charmelion', 'Wartortle', 'Ivysaur', 'Charizard', 'Blastoise', 'Pikachu', 'Raichu']\n",
      "Snorlax\n",
      "{'Snorlax': <__main__.Dolphins instance at 0x10ad42950>, 'Clefairy': <__main__.Dolphins instance at 0x10ad42320>}\n"
     ]
    }
   ],
   "source": [
    "MarvinGaye(dolphinstances[elder_dolphins[0]], dolphinstances[elder_dolphins[2]])\n",
    "print child_dict"
   ]
  },
  {
   "cell_type": "code",
   "execution_count": 24,
   "metadata": {
    "collapsed": false
   },
   "outputs": [
    {
     "name": "stdout",
     "output_type": "stream",
     "text": [
      "18\n"
     ]
    }
   ],
   "source": [
    "print len(names)"
   ]
  },
  {
   "cell_type": "code",
   "execution_count": null,
   "metadata": {
    "collapsed": true
   },
   "outputs": [],
   "source": []
  }
 ],
 "metadata": {
  "kernelspec": {
   "display_name": "Python 2",
   "language": "python",
   "name": "python2"
  },
  "language_info": {
   "codemirror_mode": {
    "name": "ipython",
    "version": 2
   },
   "file_extension": ".py",
   "mimetype": "text/x-python",
   "name": "python",
   "nbconvert_exporter": "python",
   "pygments_lexer": "ipython2",
   "version": "2.7.9"
  }
 },
 "nbformat": 4,
 "nbformat_minor": 0
}

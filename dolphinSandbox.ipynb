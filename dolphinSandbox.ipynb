{
 "cells": [
  {
   "cell_type": "code",
   "execution_count": null,
   "metadata": {
    "collapsed": true
   },
   "outputs": [],
   "source": [
    "class Dolphins():\n",
    "    def __init__(self, name, sex, mother, father):\n",
    "        self.name = name\n",
    "        self.sex = sex\n",
    "        self.age = 0\n",
    "        self.mother = mother\n",
    "        self.father = father\n",
    "        self.death = 0\n",
    "        \n",
    "    \n",
    "    def MarvinGaye(self):\n",
    "        pass\n",
    "    \n",
    "    def age(self):\n",
    "        pass\n",
    "    \n",
    "    \n",
    "########################\n",
    "##### Main Program #####\n",
    "########################\n",
    "\n",
    "elder_dolphins = ['Shakira', 'Jency', 'Lothar', 'JinBiao']\n",
    "dolphinstances = []\n",
    "for i in elder_dolphins:       # Instantiates all elements in lst and puts each instance into the empty list, instance.\n",
    "    dolphinstances.append(Dolphins(i, random.sample(['male', 'female'], 1)[0]))"
   ]
  },
  {
   "cell_type": "code",
   "execution_count": null,
   "metadata": {
    "collapsed": true
   },
   "outputs": [],
   "source": []
  }
 ],
 "metadata": {
  "kernelspec": {
   "display_name": "Python 2",
   "language": "python",
   "name": "python2"
  },
  "language_info": {
   "codemirror_mode": {
    "name": "ipython",
    "version": 2
   },
   "file_extension": ".py",
   "mimetype": "text/x-python",
   "name": "python",
   "nbconvert_exporter": "python",
   "pygments_lexer": "ipython2",
   "version": "2.7.9"
  }
 },
 "nbformat": 4,
 "nbformat_minor": 0
}

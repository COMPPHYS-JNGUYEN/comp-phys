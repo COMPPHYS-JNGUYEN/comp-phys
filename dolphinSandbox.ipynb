{
 "cells": [
  {
   "cell_type": "code",
   "execution_count": 1,
   "metadata": {
    "collapsed": false
   },
   "outputs": [],
   "source": [
    "import random\n",
    "import numpy\n",
    "\n",
    "names = ['Charmander', 'Squirtle', 'Bulbasaur', 'Ekans', 'Diglet', 'Dodrio', 'Abra', 'Alakazam', 'Snorlax', 'Dugdrio', 'Chansey', 'Clefairy', 'Arbok',\\\n",
    "      'Charmelion', 'Wartortle', 'Ivysaur', 'Charizard', 'Blastoise', 'Pikachu', 'Raichu']\n",
    "\n",
    "def MarvinGaye(procreation, mother, father):\n",
    "    if procreation == True:\n",
    "        x = (random.sample(names)[0], )\n",
    "        \n",
    "\n",
    "\n",
    "class Dolphins:\n",
    "    def __init__(self, name, sex, mother, father):\n",
    "        self.name = name\n",
    "        self.sex = sex\n",
    "        self.age = 0\n",
    "        self.mother = mother\n",
    "        self.father = father\n",
    "        self.death = random.gauss(35, 5)\n",
    "        self.refracperiod = 0\n",
    "        \n",
    "    def agify(self):                                 ## Aging method: updates the age attribute each year.\n",
    "        self.age += 1\n",
    "        self.refracperiod += 1\n",
    "    \n",
    "    def legalapproved(self):\n",
    "        self.refracperiod = 0\n",
    "        \n",
    "    def legal(self, partner):                   ## Procreation method: determines whether a dolphin is allowed to procreate with another.\n",
    "        if (self.age >= 8)\\\n",
    "        and (abs(self.age - partner.age) <= 10)\\\n",
    "        and (self.sex != partner.sex)\\\n",
    "        and (self.father != partner.father)\\\n",
    "        and (self.mother != partner.mother)\\\n",
    "        and (self.refracperiod > 5)\\\n",
    "        and (partner.refracperiod > 5):\n",
    "            proc = True\n",
    "        else:\n",
    "            proc = False\n",
    "        return proc\n",
    "    \n",
    "    \n",
    "########################\n",
    "##### Main Program #####\n",
    "########################\n",
    "\n",
    "elder_dolphins = ['Shakira', 'Jency', 'Lothar', 'JinBiao']\n",
    "dolphinstances = []\n",
    "dolphinstances.append(Dolphins(elder_dolphins[0], 'F', 'Jen', 'Sven'))\n",
    "dolphinstances.append(Dolphins(elder_dolphins[1], 'F', 'Jan', 'Stan'))\n",
    "dolphinstances.append(Dolphins(elder_dolphins[2], 'M', 'June', 'Stoon'))\n",
    "dolphinstances.append(Dolphins(elder_dolphins[3], 'M', 'Jill', 'Skrill'))\n",
    "\n"
   ]
  },
  {
   "cell_type": "code",
   "execution_count": 9,
   "metadata": {
    "collapsed": false
   },
   "outputs": [
    {
     "name": "stdout",
     "output_type": "stream",
     "text": [
      "8 8\n",
      "8 8\n"
     ]
    },
    {
     "ename": "NameError",
     "evalue": "global name 'MarvinGayed' is not defined",
     "output_type": "error",
     "traceback": [
      "\u001b[0;31m---------------------------------------------------------------------------\u001b[0m",
      "\u001b[0;31mNameError\u001b[0m                                 Traceback (most recent call last)",
      "\u001b[0;32m<ipython-input-9-e732156378cb>\u001b[0m in \u001b[0;36m<module>\u001b[0;34m()\u001b[0m\n\u001b[1;32m      3\u001b[0m \u001b[0;32mprint\u001b[0m \u001b[0mdolphinstances\u001b[0m\u001b[0;34m[\u001b[0m\u001b[0;36m0\u001b[0m\u001b[0;34m]\u001b[0m\u001b[0;34m.\u001b[0m\u001b[0mage\u001b[0m\u001b[0;34m,\u001b[0m \u001b[0mdolphinstances\u001b[0m\u001b[0;34m[\u001b[0m\u001b[0;36m2\u001b[0m\u001b[0;34m]\u001b[0m\u001b[0;34m.\u001b[0m\u001b[0mage\u001b[0m\u001b[0;34m\u001b[0m\u001b[0m\n\u001b[1;32m      4\u001b[0m \u001b[0;32mprint\u001b[0m \u001b[0mdolphinstances\u001b[0m\u001b[0;34m[\u001b[0m\u001b[0;36m0\u001b[0m\u001b[0;34m]\u001b[0m\u001b[0;34m.\u001b[0m\u001b[0mrefracperiod\u001b[0m\u001b[0;34m,\u001b[0m \u001b[0mdolphinstances\u001b[0m\u001b[0;34m[\u001b[0m\u001b[0;36m2\u001b[0m\u001b[0;34m]\u001b[0m\u001b[0;34m.\u001b[0m\u001b[0mrefracperiod\u001b[0m\u001b[0;34m\u001b[0m\u001b[0m\n\u001b[0;32m----> 5\u001b[0;31m \u001b[0mdolphinstances\u001b[0m\u001b[0;34m[\u001b[0m\u001b[0;36m0\u001b[0m\u001b[0;34m]\u001b[0m\u001b[0;34m.\u001b[0m\u001b[0mMarvinGaye\u001b[0m\u001b[0;34m(\u001b[0m\u001b[0mdolphinstances\u001b[0m\u001b[0;34m[\u001b[0m\u001b[0;36m2\u001b[0m\u001b[0;34m]\u001b[0m\u001b[0;34m)\u001b[0m\u001b[0;34m\u001b[0m\u001b[0m\n\u001b[0m",
      "\u001b[0;32m<ipython-input-1-ff0ebdd20085>\u001b[0m in \u001b[0;36mMarvinGaye\u001b[0;34m(self, partner)\u001b[0m\n\u001b[1;32m     22\u001b[0m         \u001b[0;32mif\u001b[0m \u001b[0;34m(\u001b[0m\u001b[0mself\u001b[0m\u001b[0;34m.\u001b[0m\u001b[0mage\u001b[0m \u001b[0;34m>=\u001b[0m \u001b[0;36m8\u001b[0m\u001b[0;34m)\u001b[0m        \u001b[0;32mand\u001b[0m \u001b[0;34m(\u001b[0m\u001b[0mabs\u001b[0m\u001b[0;34m(\u001b[0m\u001b[0mself\u001b[0m\u001b[0;34m.\u001b[0m\u001b[0mage\u001b[0m \u001b[0;34m-\u001b[0m \u001b[0mpartner\u001b[0m\u001b[0;34m.\u001b[0m\u001b[0mage\u001b[0m\u001b[0;34m)\u001b[0m \u001b[0;34m<=\u001b[0m \u001b[0;36m10\u001b[0m\u001b[0;34m)\u001b[0m        \u001b[0;32mand\u001b[0m \u001b[0;34m(\u001b[0m\u001b[0mself\u001b[0m\u001b[0;34m.\u001b[0m\u001b[0msex\u001b[0m \u001b[0;34m!=\u001b[0m \u001b[0mpartner\u001b[0m\u001b[0;34m.\u001b[0m\u001b[0msex\u001b[0m\u001b[0;34m)\u001b[0m        \u001b[0;32mand\u001b[0m \u001b[0;34m(\u001b[0m\u001b[0mself\u001b[0m\u001b[0;34m.\u001b[0m\u001b[0mfather\u001b[0m \u001b[0;34m!=\u001b[0m \u001b[0mpartner\u001b[0m\u001b[0;34m.\u001b[0m\u001b[0mfather\u001b[0m\u001b[0;34m)\u001b[0m        \u001b[0;32mand\u001b[0m \u001b[0;34m(\u001b[0m\u001b[0mself\u001b[0m\u001b[0;34m.\u001b[0m\u001b[0mmother\u001b[0m \u001b[0;34m!=\u001b[0m \u001b[0mpartner\u001b[0m\u001b[0;34m.\u001b[0m\u001b[0mmother\u001b[0m\u001b[0;34m)\u001b[0m        \u001b[0;32mand\u001b[0m \u001b[0;34m(\u001b[0m\u001b[0mself\u001b[0m\u001b[0;34m.\u001b[0m\u001b[0mrefracperiod\u001b[0m \u001b[0;34m>\u001b[0m \u001b[0;36m5\u001b[0m\u001b[0;34m)\u001b[0m        \u001b[0;32mand\u001b[0m \u001b[0;34m(\u001b[0m\u001b[0mpartner\u001b[0m\u001b[0;34m.\u001b[0m\u001b[0mrefracperiod\u001b[0m \u001b[0;34m>\u001b[0m \u001b[0;36m5\u001b[0m\u001b[0;34m)\u001b[0m\u001b[0;34m:\u001b[0m\u001b[0;34m\u001b[0m\u001b[0m\n\u001b[1;32m     23\u001b[0m             \u001b[0mproc\u001b[0m \u001b[0;34m=\u001b[0m \u001b[0mTrue\u001b[0m\u001b[0;34m\u001b[0m\u001b[0m\n\u001b[0;32m---> 24\u001b[0;31m             \u001b[0mMarvinGayed\u001b[0m\u001b[0;34m(\u001b[0m\u001b[0;34m)\u001b[0m\u001b[0;34m\u001b[0m\u001b[0m\n\u001b[0m\u001b[1;32m     25\u001b[0m         \u001b[0;32melse\u001b[0m\u001b[0;34m:\u001b[0m\u001b[0;34m\u001b[0m\u001b[0m\n\u001b[1;32m     26\u001b[0m             \u001b[0mproc\u001b[0m \u001b[0;34m=\u001b[0m \u001b[0mFalse\u001b[0m\u001b[0;34m\u001b[0m\u001b[0m\n",
      "\u001b[0;31mNameError\u001b[0m: global name 'MarvinGayed' is not defined"
     ]
    }
   ],
   "source": [
    "dolphinstances[0].agify()\n",
    "dolphinstances[2].agify()\n",
    "print dolphinstances[0].age, dolphinstances[2].age\n",
    "print dolphinstances[0].refracperiod, dolphinstances[2].refracperiod\n",
    "dolphinstances[0].legal(dolphinstances[2])"
   ]
  },
  {
   "cell_type": "code",
   "execution_count": null,
   "metadata": {
    "collapsed": true
   },
   "outputs": [],
   "source": []
  }
 ],
 "metadata": {
  "kernelspec": {
   "display_name": "Python 2",
   "language": "python",
   "name": "python2"
  },
  "language_info": {
   "codemirror_mode": {
    "name": "ipython",
    "version": 2
   },
   "file_extension": ".py",
   "mimetype": "text/x-python",
   "name": "python",
   "nbconvert_exporter": "python",
   "pygments_lexer": "ipython2",
   "version": "2.7.9"
  }
 },
 "nbformat": 4,
 "nbformat_minor": 0
}

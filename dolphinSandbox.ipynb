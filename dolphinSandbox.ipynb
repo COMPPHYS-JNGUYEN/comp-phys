{
 "cells": [
  {
   "cell_type": "code",
   "execution_count": 1,
   "metadata": {
    "collapsed": false
   },
   "outputs": [],
   "source": [
    "import random\n",
    "import numpy\n",
    "import re\n",
    "import urllib\n",
    "\n",
    "child_dict = {}\n",
    "\n",
    "def MarvinGaye(partner1, partner2):\n",
    "    if partner1.sex == 'M':\n",
    "        MalePartner = partner1.name\n",
    "    else:\n",
    "        FemalePartner = partner1.name\n",
    "    if partner2.sex == 'M':\n",
    "        MalePartner = partner2.name\n",
    "    else:\n",
    "        FemalePartner = partner2.name\n",
    "    if partner1.legal(partner2) == True:\n",
    "        child_name = random.sample(names, 1)[0]\n",
    "        child_dict[child_name] = Dolphins(child_name, random.sample(['M', 'F'], 1)[0], FemalePartner, MalePartner)\n",
    "        names.remove(child_name)\n",
    "        partner1.refracperiod = 0\n",
    "        partner2.refracperiod = 0\n",
    "        \n",
    "        \n",
    "class Dolphins:\n",
    "    def __init__(self, name, sex, mother, father):\n",
    "        self.name = name\n",
    "        self.sex = sex\n",
    "        self.age = 0\n",
    "        self.mother = mother\n",
    "        self.father = father\n",
    "        self.death = random.gauss(35, 5)\n",
    "        self.refracperiod = 0\n",
    "        \n",
    "    def agify(self):                                 ## Aging method: updates the age attribute each year.\n",
    "        self.age += 1\n",
    "        self.refracperiod += 1\n",
    "        \n",
    "    def legal(self, partner):                   ## Procreation method: determines whether a dolphin is allowed to procreate with another.\n",
    "        if (self.age >= 8)\\\n",
    "        and (partner.age >= 8)\\\n",
    "        and (abs(self.age - partner.age) <= 10)\\\n",
    "        and (self.sex != partner.sex)\\\n",
    "        and (self.father != partner.father)\\\n",
    "        and (self.mother != partner.mother)\\\n",
    "        and (self.refracperiod > 5)\\\n",
    "        and (partner.refracperiod > 5):\n",
    "            proc = True\n",
    "        else:\n",
    "            proc = False\n",
    "        return proc\n",
    "\n",
    "    \n",
    "########################\n",
    "##### Main Program #####\n",
    "########################\n",
    "\n",
    "elder_dolphins = ['Shakira', 'Jency', 'Lothar', 'JinBiao']\n",
    "dolphinstances = {elder_dolphins[0]: Dolphins(elder_dolphins[0], 'F', 'Jen', 'Sven'),\\\n",
    "                  elder_dolphins[1]: Dolphins(elder_dolphins[1], 'F', 'Jan', 'Stan'),\\\n",
    "                  elder_dolphins[2]: Dolphins(elder_dolphins[2], 'M', 'June', 'Stoon'),\\\n",
    "                  elder_dolphins[3]: Dolphins(elder_dolphins[3], 'M', 'Jill', 'Skrill')}"
   ]
  },
  {
   "cell_type": "markdown",
   "metadata": {
    "collapsed": true
   },
   "source": [
    "# Data Retrieval from http://www.prokerala.com/kids/baby-names/boy/page-1.html and http://www.prokerala.com/kids/baby-names/girl/page-1.html"
   ]
  },
  {
   "cell_type": "code",
   "execution_count": 45,
   "metadata": {
    "collapsed": false
   },
   "outputs": [],
   "source": [
    "import re\n",
    "import urllib\n",
    "import webbrowser\n",
    "\n",
    "malenames = []\n",
    "femalenames = []\n",
    "def findmalenames(code):\n",
    "    matchstring = 'nameDetails\">.*</span>'\n",
    "    namelist = []\n",
    "    for item in code:\n",
    "        x = re.findall(matchstring, item)\n",
    "        if len(x) > 0:\n",
    "            namelist.append(x[0])\n",
    "    for stuff in namelist:\n",
    "        new_stuff = stuff.replace('nameDetails\">', \"\")\n",
    "        newnew_stuff = new_stuff.replace('</span>', \"\")\n",
    "        malenames.append(newnew_stuff)\n",
    "\n",
    "def findfemalenames(code):\n",
    "    matchstring = 'nameDetails\">.*</span>'\n",
    "    namelist = []\n",
    "    for item in code:\n",
    "        x = re.findall(matchstring, item)\n",
    "        if len(x) > 0:\n",
    "            namelist.append(x[0])\n",
    "    for stuff in namelist:\n",
    "        new_stuff = stuff.replace('nameDetails\">', \"\")\n",
    "        newnew_stuff = new_stuff.replace('</span>', \"\")\n",
    "        femalenames.append(newnew_stuff)\n",
    "        \n",
    "def namegen(path, sex):\n",
    "    if sex == 'M':\n",
    "        with open(male_filenm,\"r\") as f:\n",
    "            malenames = f.read()\n",
    "        child_name = random.sample(malenames, 1)[0]\n",
    "\n",
    "\n",
    "i = 1\n",
    "maleurl = \"http://www.prokerala.com/kids/baby-names/boy/page-1.html\"\n",
    "femaleurl = \"http://www.prokerala.com/kids/baby-names/girl/page-1.html\"\n",
    "while len(malenames) < 7880:\n",
    "    x = maleurl.replace('1', str(i))\n",
    "    xinfile = urllib.urlopen(x)\n",
    "    xhtml = xinfile.readlines()\n",
    "    xinfile.close()\n",
    "    findmalenames(xhtml)\n",
    "    i += 1\n",
    "\n",
    "j = 1\n",
    "while len(femalenames) < 5974:\n",
    "    y = femaleurl.replace('1', str(j))\n",
    "    yinfile = urllib.urlopen(y)\n",
    "    yhtml = yinfile.readlines()\n",
    "    yinfile.close()\n",
    "    findfemalenames(yhtml)\n",
    "    j += 1\n",
    "    \n",
    "male_dir_path = \"/Users/labuser/comp-phys/\"\n",
    "male_filenm = male_dir_path + 'malenames.txt'\n",
    "with open(male_filenm, \"w\") as f:\n",
    "    f.write(str(malenames))\n",
    "    \n",
    "female_dir_path = \"/Users/labuser/comp-phys/\"\n",
    "female_filenm = female_dir_path + 'femalenames.txt'\n",
    "with open(female_filenm, \"w\") as f:\n",
    "    f.write(str(femalenames))"
   ]
  },
  {
   "cell_type": "code",
   "execution_count": 42,
   "metadata": {
    "collapsed": false
   },
   "outputs": [
    {
     "name": "stdout",
     "output_type": "stream",
     "text": [
      "5974 7880\n"
     ]
    }
   ],
   "source": [
    "fem_name_length = 170*35 + 24\n",
    "male_name_length = 225*35 + 5\n",
    "\n",
    "print fem_name_length, male_name_length"
   ]
  },
  {
   "cell_type": "code",
   "execution_count": 57,
   "metadata": {
    "collapsed": false
   },
   "outputs": [
    {
     "name": "stdout",
     "output_type": "stream",
     "text": [
      "Aaban\n"
     ]
    }
   ],
   "source": [
    "with open(male_filenm,\"r\") as f:\n",
    "    bnames = f.read()\n",
    "y = eval(bnames)\n",
    "print y[0]"
   ]
  },
  {
   "cell_type": "code",
   "execution_count": null,
   "metadata": {
    "collapsed": true
   },
   "outputs": [],
   "source": []
  }
 ],
 "metadata": {
  "kernelspec": {
   "display_name": "Python 2",
   "language": "python",
   "name": "python2"
  },
  "language_info": {
   "codemirror_mode": {
    "name": "ipython",
    "version": 2
   },
   "file_extension": ".py",
   "mimetype": "text/x-python",
   "name": "python",
   "nbconvert_exporter": "python",
   "pygments_lexer": "ipython2",
   "version": "2.7.9"
  }
 },
 "nbformat": 4,
 "nbformat_minor": 0
}

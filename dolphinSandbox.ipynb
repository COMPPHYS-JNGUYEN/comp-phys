{
 "cells": [
  {
   "cell_type": "code",
   "execution_count": 1,
   "metadata": {
    "collapsed": false
   },
   "outputs": [],
   "source": [
    "import random\n",
    "import numpy\n",
    "\n",
    "class Dolphins():\n",
    "    def __init__(self, name, sex):\n",
    "        self.name = name\n",
    "        self.sex = sex\n",
    "        self.age = 0\n",
    "        self.death = 0\n",
    "        self.parents = []\n",
    "        \n",
    "    \n",
    "    def MarvinGaye(self, partner):                   ## Procreation method: determines whether a dolphin is allowed to procreate with another.\n",
    "        calf = 0\n",
    "        if self.age >= 8 and abs(self.age - partner.age) <= 10 and self.sex != partner.sex:\n",
    "            if self.parents == [] or partner.parents == [] or self.parents != partner.parents:\n",
    "                proc = True\n",
    "        else:\n",
    "            proc = False\n",
    "    \n",
    "    def agify(self):                                 ## Aging method: updates the age attribute each year.\n",
    "        self.age += 1\n",
    "        return self.age\n",
    "    \n",
    "    \n",
    "########################\n",
    "##### Main Program #####\n",
    "########################\n",
    "\n",
    "elder_dolphins = ['Shakira', 'Jency', 'Lothar', 'JinBiao']\n",
    "dolphinstances = []\n",
    "dolphinstances.append(Dolphins(elder_dolphins[0], 'F'))\n",
    "dolphinstances.append(Dolphins(elder_dolphins[1], 'F'))\n",
    "dolphinstances.append(Dolphins(elder_dolphins[2], 'M'))\n",
    "dolphinstances.append(Dolphins(elder_dolphins[3], 'M'))\n",
    "\n"
   ]
  },
  {
   "cell_type": "code",
   "execution_count": 2,
   "metadata": {
    "collapsed": false
   },
   "outputs": [
    {
     "name": "stdout",
     "output_type": "stream",
     "text": [
      "1\n"
     ]
    }
   ],
   "source": [
    "dolphinstances[0].agify()\n",
    "print dolphinstances[0].age\n",
    "dolphinstances[0].MarvinGaye(dolphinstances[2])\n"
   ]
  },
  {
   "cell_type": "code",
   "execution_count": 193,
   "metadata": {
    "collapsed": false
   },
   "outputs": [
    {
     "data": {
      "text/plain": [
       "38"
      ]
     },
     "execution_count": 193,
     "metadata": {},
     "output_type": "execute_result"
    }
   ],
   "source": [
    "c = 'Cool'\n",
    "int(random.gauss(35, 5))"
   ]
  },
  {
   "cell_type": "code",
   "execution_count": null,
   "metadata": {
    "collapsed": true
   },
   "outputs": [],
   "source": []
  },
  {
   "cell_type": "code",
   "execution_count": null,
   "metadata": {
    "collapsed": true
   },
   "outputs": [],
   "source": []
  }
 ],
 "metadata": {
  "kernelspec": {
   "display_name": "Python 2",
   "language": "python",
   "name": "python2"
  },
  "language_info": {
   "codemirror_mode": {
    "name": "ipython",
    "version": 2
   },
   "file_extension": ".py",
   "mimetype": "text/x-python",
   "name": "python",
   "nbconvert_exporter": "python",
   "pygments_lexer": "ipython2",
   "version": "2.7.9"
  }
 },
 "nbformat": 4,
 "nbformat_minor": 0
}

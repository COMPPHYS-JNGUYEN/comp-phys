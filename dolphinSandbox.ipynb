{
 "cells": [
  {
   "cell_type": "code",
   "execution_count": 15,
   "metadata": {
    "collapsed": false
   },
   "outputs": [
    {
     "name": "stdout",
     "output_type": "stream",
     "text": [
      "Shakira\n",
      "F\n",
      "0\n",
      "0\n",
      "Jency\n",
      "F\n",
      "0\n",
      "0\n",
      "Lothar\n",
      "M\n",
      "0\n",
      "0\n",
      "JinBiao\n",
      "M\n",
      "0\n",
      "0\n"
     ]
    }
   ],
   "source": [
    "class Dolphins():\n",
    "    def __init__(self, name, sex):\n",
    "        self.name = name\n",
    "        self.sex = sex\n",
    "        self.age = 0\n",
    "        self.death = 0\n",
    "        \n",
    "    \n",
    "    def MarvinGaye(self):\n",
    "        pass\n",
    "    \n",
    "    def age(self):\n",
    "        pass\n",
    "    \n",
    "    \n",
    "########################\n",
    "##### Main Program #####\n",
    "########################\n",
    "\n",
    "elder_dolphins = ['Shakira', 'Jency', 'Lothar', 'JinBiao']\n",
    "dolphinstances = []\n",
    "dolphinstances.append(Dolphins(elder_dolphins[0], 'F'))\n",
    "dolphinstances.append(Dolphins(elder_dolphins[1], 'F'))\n",
    "dolphinstances.append(Dolphins(elder_dolphins[2], 'M'))\n",
    "dolphinstances.append(Dolphins(elder_dolphins[3], 'M'))\n",
    "\n",
    "for i in dolphinstances:\n",
    "    print i.name\n",
    "    print i.sex\n",
    "    print i.age\n",
    "    print i.death"
   ]
  },
  {
   "cell_type": "code",
   "execution_count": null,
   "metadata": {
    "collapsed": true
   },
   "outputs": [],
   "source": []
  }
 ],
 "metadata": {
  "kernelspec": {
   "display_name": "Python 2",
   "language": "python",
   "name": "python2"
  },
  "language_info": {
   "codemirror_mode": {
    "name": "ipython",
    "version": 2
   },
   "file_extension": ".py",
   "mimetype": "text/x-python",
   "name": "python",
   "nbconvert_exporter": "python",
   "pygments_lexer": "ipython2",
   "version": "2.7.9"
  }
 },
 "nbformat": 4,
 "nbformat_minor": 0
}

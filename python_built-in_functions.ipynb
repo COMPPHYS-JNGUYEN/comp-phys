{
 "cells": [
  {
   "cell_type": "raw",
   "metadata": {},
   "source": [
    "HW03"
   ]
  },
  {
   "cell_type": "raw",
   "metadata": {},
   "source": [
    "List of functions to use:\n",
    "\n",
    "abs()\n",
    "all()\n",
    "any()\n",
    "bin()\n",
    "callable()\n",
    "chr() - try: print chr(97), chr(10), chr(100), chr(9), chr(105)\n",
    "in the next cell, try: chr(10)\n",
    "in another cell, try: chr(9)\n",
    "and the full ASCII table is available here: http://www.asciitable.com/\n",
    "cmp()\n",
    "divmod()\n",
    "enumerate()*\n",
    "eval()*‡\n",
    "execfile()‡\n",
    "help()\n",
    "hex()\n",
    "int()†\n",
    "isinstance()\n",
    "list()\n",
    "long()\n",
    "map()\n",
    "max()‡\n",
    "min()‡\n",
    "oct()\n",
    "reduce()\n",
    "reversed()\n",
    "round()\n",
    "sum()‡\n",
    "tuple()\n",
    "xrange()\n",
    "zip()\n",
    "\n",
    "* You only need to try it with the examples given at the above website.\n",
    "‡ Don’t worry about optional arguments, i.e., the ones in square brackets.\n",
    "† Use a base that is different from 10.\n",
    "\n",
    "For some of these functions, it is necessary to create an appropriate object or a function in order\n",
    "to try them. Unless otherwise specified, in your trials you should use the optional arguments for\n",
    "those functions that have them."
   ]
  },
  {
   "cell_type": "raw",
   "metadata": {},
   "source": [
    "abs()\n",
    "\n",
    "Return the absolute value of a number. The argument may be a plain or long integer or a floating point number. If the argument is a complex number, its magnitude is returned."
   ]
  },
  {
   "cell_type": "code",
   "execution_count": 1,
   "metadata": {
    "collapsed": false
   },
   "outputs": [
    {
     "name": "stdout",
     "output_type": "stream",
     "text": [
      "25\n"
     ]
    }
   ],
   "source": [
    "# plain integer\n",
    "x = -25\n",
    "print abs(x)"
   ]
  },
  {
   "cell_type": "code",
   "execution_count": 2,
   "metadata": {
    "collapsed": false
   },
   "outputs": [
    {
     "name": "stdout",
     "output_type": "stream",
     "text": [
      "2.5e+57\n"
     ]
    }
   ],
   "source": [
    "# Long integer\n",
    "x = -25e56\n",
    "print abs(x)"
   ]
  },
  {
   "cell_type": "code",
   "execution_count": 3,
   "metadata": {
    "collapsed": false
   },
   "outputs": [
    {
     "name": "stdout",
     "output_type": "stream",
     "text": [
      "52.35123\n"
     ]
    }
   ],
   "source": [
    "# FLoat\n",
    "x = -52.35123\n",
    "print abs(x)"
   ]
  },
  {
   "cell_type": "code",
   "execution_count": 4,
   "metadata": {
    "collapsed": false
   },
   "outputs": [
    {
     "name": "stdout",
     "output_type": "stream",
     "text": [
      "6.40312423743\n"
     ]
    }
   ],
   "source": [
    "# Complex\n",
    "x = 4 + 5j\n",
    "print abs(x)"
   ]
  },
  {
   "cell_type": "raw",
   "metadata": {},
   "source": [
    "all()\n",
    "\n",
    "Return True if all elements of the iterable are true (or if the iterable is empty)."
   ]
  },
  {
   "cell_type": "code",
   "execution_count": 5,
   "metadata": {
    "collapsed": false
   },
   "outputs": [
    {
     "name": "stdout",
     "output_type": "stream",
     "text": [
      "True\n"
     ]
    }
   ],
   "source": [
    "l = [1,2,3,4,5,6,7,8,9]\n",
    "print all(l)"
   ]
  },
  {
   "cell_type": "raw",
   "metadata": {},
   "source": [
    "any()\n",
    "\n",
    "Return True if any element of the iterable is true. If the iterable is empty, return False."
   ]
  },
  {
   "cell_type": "code",
   "execution_count": 6,
   "metadata": {
    "collapsed": false
   },
   "outputs": [
    {
     "name": "stdout",
     "output_type": "stream",
     "text": [
      "True\n"
     ]
    }
   ],
   "source": [
    "# List\n",
    "l = range(10)\n",
    "print any(l)"
   ]
  },
  {
   "cell_type": "code",
   "execution_count": 7,
   "metadata": {
    "collapsed": false
   },
   "outputs": [
    {
     "name": "stdout",
     "output_type": "stream",
     "text": [
      "False\n"
     ]
    }
   ],
   "source": [
    "# Empty list\n",
    "l = []\n",
    "print any(l)"
   ]
  },
  {
   "cell_type": "raw",
   "metadata": {},
   "source": [
    "bin()\n",
    "\n",
    "Convert an integer number to a binary string. The result is a valid Python expression. If x is not a Python int object, it has to define an __index__() method that returns an integer."
   ]
  },
  {
   "cell_type": "code",
   "execution_count": 8,
   "metadata": {
    "collapsed": false
   },
   "outputs": [
    {
     "name": "stdout",
     "output_type": "stream",
     "text": [
      "0b1111\n"
     ]
    }
   ],
   "source": [
    "# Integer\n",
    "print bin(15)"
   ]
  },
  {
   "cell_type": "code",
   "execution_count": 9,
   "metadata": {
    "collapsed": false
   },
   "outputs": [
    {
     "name": "stdout",
     "output_type": "stream",
     "text": [
      "0b1\n",
      "0b10\n",
      "0b11\n"
     ]
    }
   ],
   "source": [
    "# List\n",
    "x = [1,2,3]\n",
    "for y in x:\n",
    "    print bin(y)"
   ]
  },
  {
   "cell_type": "raw",
   "metadata": {},
   "source": [
    "callable()\n",
    "\n",
    "Return True if the object argument appears callable, False if not. If this returns true, it is still possible that a call fails, but if it is false, calling object will never succeed. Note that classes are callable (calling a class returns a new instance); class instances are callable if they have a __call__() method."
   ]
  },
  {
   "cell_type": "code",
   "execution_count": 47,
   "metadata": {
    "collapsed": false
   },
   "outputs": [
    {
     "name": "stdout",
     "output_type": "stream",
     "text": [
      "True\n"
     ]
    }
   ],
   "source": [
    "class BankAccount:\n",
    "    def __init__(self, name, account_number, initial_amount):\n",
    "        # This will be printed at the time of the creation an instance of this class.\n",
    "        # Because method __init__ get called immediately (and implicitly).\n",
    "        print 'A bank account is created: {:s}'.format(name)\n",
    "        \n",
    "        self.name = name\n",
    "        self.no = account_number\n",
    "        self.balance = initial_amount  # the attribute balance is initialized\n",
    "                                       # and changes depending on whether a deposit or\n",
    "                                       # withdraw is made.\n",
    "    \n",
    "    def deposit(self, amount):\n",
    "        self.balance += amount\n",
    "        return   # return is optional when there is nothing to return, just as for a function\n",
    "    \n",
    "    def withdraw(self, amount):\n",
    "        self.balance -= amount\n",
    "        \n",
    "    def dump(self):\n",
    "        s = '{:s} {:s}, balance: {:g}'.format(self.name, self.no, self.balance)\n",
    "        print s\n",
    "        \n",
    "print callable(BankAccount)"
   ]
  },
  {
   "cell_type": "code",
   "execution_count": 11,
   "metadata": {
    "collapsed": false
   },
   "outputs": [
    {
     "name": "stdout",
     "output_type": "stream",
     "text": [
      "False\n"
     ]
    }
   ],
   "source": [
    "j = 1\n",
    "print callable(j)"
   ]
  },
  {
   "cell_type": "raw",
   "metadata": {},
   "source": [
    "chr()\n",
    "\n",
    "Return a string of one character whose ASCII code is the integer i. For example, chr(97) returns the string 'a'. This is the inverse of ord(). The argument must be in the range [0..255], inclusive; ValueError will be raised if i is outside that range. See also unichr()."
   ]
  },
  {
   "cell_type": "code",
   "execution_count": 12,
   "metadata": {
    "collapsed": false
   },
   "outputs": [
    {
     "name": "stdout",
     "output_type": "stream",
     "text": [
      "a \n",
      "d \ti\n"
     ]
    }
   ],
   "source": [
    "print chr(97), chr(10), chr(100), chr(9), chr(105)"
   ]
  },
  {
   "cell_type": "code",
   "execution_count": 13,
   "metadata": {
    "collapsed": false
   },
   "outputs": [
    {
     "data": {
      "text/plain": [
       "'\\n'"
      ]
     },
     "execution_count": 13,
     "metadata": {},
     "output_type": "execute_result"
    }
   ],
   "source": [
    "chr(10)"
   ]
  },
  {
   "cell_type": "code",
   "execution_count": 14,
   "metadata": {
    "collapsed": false
   },
   "outputs": [
    {
     "data": {
      "text/plain": [
       "'\\t'"
      ]
     },
     "execution_count": 14,
     "metadata": {},
     "output_type": "execute_result"
    }
   ],
   "source": [
    "chr(9)"
   ]
  },
  {
   "cell_type": "raw",
   "metadata": {},
   "source": [
    "cmp()\n",
    "\n",
    "Compare the two objects x and y and return an integer according to the outcome. The return value is negative if x < y, zero if x == y and strictly positive if x > y."
   ]
  },
  {
   "cell_type": "code",
   "execution_count": 15,
   "metadata": {
    "collapsed": false
   },
   "outputs": [
    {
     "data": {
      "text/plain": [
       "-1"
      ]
     },
     "execution_count": 15,
     "metadata": {},
     "output_type": "execute_result"
    }
   ],
   "source": [
    "# x < y\n",
    "cmp(2,3)"
   ]
  },
  {
   "cell_type": "code",
   "execution_count": 16,
   "metadata": {
    "collapsed": false
   },
   "outputs": [
    {
     "data": {
      "text/plain": [
       "1"
      ]
     },
     "execution_count": 16,
     "metadata": {},
     "output_type": "execute_result"
    }
   ],
   "source": [
    "# x > y\n",
    "cmp(3,2)"
   ]
  },
  {
   "cell_type": "code",
   "execution_count": 17,
   "metadata": {
    "collapsed": false
   },
   "outputs": [
    {
     "data": {
      "text/plain": [
       "0"
      ]
     },
     "execution_count": 17,
     "metadata": {},
     "output_type": "execute_result"
    }
   ],
   "source": [
    "# x == y\n",
    "cmp(3,3)"
   ]
  },
  {
   "cell_type": "raw",
   "metadata": {},
   "source": [
    "divmod(a, b)\n",
    "\n",
    "Take two (non complex) numbers as arguments and return a pair of numbers consisting of their quotient and remainder when using long division. With mixed operand types, the rules for binary arithmetic operators apply. For plain and long integers, the result is the same as (a // b, a % b). For floating point numbers the result is (q, a % b), where q is usually math.floor(a / b) but may be 1 less than that."
   ]
  },
  {
   "cell_type": "code",
   "execution_count": 18,
   "metadata": {
    "collapsed": false
   },
   "outputs": [
    {
     "data": {
      "text/plain": [
       "(3, 0)"
      ]
     },
     "execution_count": 18,
     "metadata": {},
     "output_type": "execute_result"
    }
   ],
   "source": [
    "# Int\n",
    "divmod(15, 5)"
   ]
  },
  {
   "cell_type": "code",
   "execution_count": 19,
   "metadata": {
    "collapsed": false
   },
   "outputs": [
    {
     "data": {
      "text/plain": [
       "(0.0, 5.0)"
      ]
     },
     "execution_count": 19,
     "metadata": {},
     "output_type": "execute_result"
    }
   ],
   "source": [
    "# Mixed\n",
    "divmod(5., 15)"
   ]
  },
  {
   "cell_type": "code",
   "execution_count": 20,
   "metadata": {
    "collapsed": false
   },
   "outputs": [
    {
     "data": {
      "text/plain": [
       "(2.0, 3.8000000000000007)"
      ]
     },
     "execution_count": 20,
     "metadata": {},
     "output_type": "execute_result"
    }
   ],
   "source": [
    "# Float\n",
    "divmod(15., 5.6)"
   ]
  },
  {
   "cell_type": "raw",
   "metadata": {},
   "source": [
    "enumerate(sequence, start=0)\n",
    "\n",
    "Return an enumerate object. sequence must be a sequence, an iterator, or some other object which supports iteration."
   ]
  },
  {
   "cell_type": "code",
   "execution_count": 21,
   "metadata": {
    "collapsed": false
   },
   "outputs": [
    {
     "data": {
      "text/plain": [
       "[(0, 'Spring'), (1, 'Summer'), (2, 'Fall'), (3, 'Winter')]"
      ]
     },
     "execution_count": 21,
     "metadata": {},
     "output_type": "execute_result"
    }
   ],
   "source": [
    "seasons = ['Spring', 'Summer', 'Fall', 'Winter']\n",
    "list(enumerate(seasons))"
   ]
  },
  {
   "cell_type": "code",
   "execution_count": 22,
   "metadata": {
    "collapsed": false
   },
   "outputs": [
    {
     "data": {
      "text/plain": [
       "[(1, 'Spring'), (2, 'Summer'), (3, 'Fall'), (4, 'Winter')]"
      ]
     },
     "execution_count": 22,
     "metadata": {},
     "output_type": "execute_result"
    }
   ],
   "source": [
    "list(enumerate(seasons, start=1))"
   ]
  },
  {
   "cell_type": "raw",
   "metadata": {},
   "source": [
    "eval(expression)\n",
    "\n",
    "The arguments are a Unicode or Latin-1 encoded. The expression argument is parsed and evaluated as a Python expression"
   ]
  },
  {
   "cell_type": "code",
   "execution_count": 23,
   "metadata": {
    "collapsed": false
   },
   "outputs": [
    {
     "name": "stdout",
     "output_type": "stream",
     "text": [
      "2\n"
     ]
    }
   ],
   "source": [
    "x = 1\n",
    "print eval('x+1')"
   ]
  },
  {
   "cell_type": "raw",
   "metadata": {},
   "source": [
    "execfile(filename)\n",
    "\n",
    "Read and execute a Python script from a file."
   ]
  },
  {
   "cell_type": "code",
   "execution_count": 24,
   "metadata": {
    "collapsed": false
   },
   "outputs": [
    {
     "name": "stdout",
     "output_type": "stream",
     "text": [
      "Ranked by Distance:\n",
      "\n",
      "Alpha Centauri C      4.200000\n",
      "Alpha Centauri A      4.300000\n",
      "Alpha Centauri B      4.300000\n",
      "Barnard's Star        6.000000\n",
      "Wolf 359              7.700000\n",
      "BD +36 degrees 2147   8.200000\n",
      "Luyten 726-8 A        8.400000\n",
      "Luyten 726-8 B        8.400000\n",
      "Sirius A              8.600000\n",
      "Sirius B              8.600000\n",
      "Ross 154              9.400000\n",
      "\n",
      "Ranked by Apparent Brightness:\n",
      "\n",
      "Wolf 359              0.000001\n",
      "Luyten 726-8 B        0.000002\n",
      "Luyten 726-8 A        0.000003\n",
      "Alpha Centauri C      0.000010\n",
      "Ross 154              0.000020\n",
      "Barnard's Star        0.000040\n",
      "BD +36 degrees 2147   0.000300\n",
      "Sirius B              0.001000\n",
      "Alpha Centauri B      0.077000\n",
      "Alpha Centauri A      0.260000\n",
      "Sirius A              1.000000\n",
      "\n",
      "Ranked by Absolute Brightness:\n",
      "\n",
      "Wolf 359              0.000020\n",
      "Luyten 726-8 B        0.000040\n",
      "Alpha Centauri C      0.000060\n",
      "Luyten 726-8 A        0.000060\n",
      "Barnard's Star        0.000500\n",
      "Ross 154              0.000500\n",
      "Sirius B              0.003000\n",
      "BD +36 degrees 2147   0.006000\n",
      "Alpha Centauri B      0.450000\n",
      "Alpha Centauri A      1.560000\n",
      "Sirius A              23.600000\n",
      "\n"
     ]
    }
   ],
   "source": [
    "execfile(\"sorted_stars.py\")"
   ]
  },
  {
   "cell_type": "raw",
   "metadata": {},
   "source": [
    "help([object])\n",
    "\n",
    "Invoke the built-in help system. (This function is intended for interactive use.) If no argument is given, the interactive help system starts on the interpreter console. If the argument is a string, then the string is looked up as the name of a module, function, class, method, keyword, or documentation topic, and a help page is printed on the console. If the argument is any other kind of object, a help page on the object is generated."
   ]
  },
  {
   "cell_type": "code",
   "execution_count": 2,
   "metadata": {
    "collapsed": false
   },
   "outputs": [
    {
     "name": "stdout",
     "output_type": "stream",
     "text": [
      "Help on class BankAccount in module __main__:\n",
      "\n",
      "class BankAccount\n",
      " |  Methods defined here:\n",
      " |  \n",
      " |  __init__(self, name, account_number, initial_amount)\n",
      "\n"
     ]
    }
   ],
   "source": [
    "# No object\n",
    "help()"
   ]
  },
  {
   "cell_type": "code",
   "execution_count": 3,
   "metadata": {
    "collapsed": false
   },
   "outputs": [
    {
     "name": "stdout",
     "output_type": "stream",
     "text": [
      "Help on class BankAccount in module __main__:\n",
      "\n",
      "class BankAccount\n",
      " |  Methods defined here:\n",
      " |  \n",
      " |  __init__(self, name, account_number, initial_amount)\n",
      "\n"
     ]
    }
   ],
   "source": [
    "# Object\n",
    "help(BankAccount)"
   ]
  },
  {
   "cell_type": "code",
   "execution_count": 6,
   "metadata": {
    "collapsed": false,
    "scrolled": true
   },
   "outputs": [
    {
     "name": "stdout",
     "output_type": "stream",
     "text": [
      "Help on built-in function abs in module __builtin__:\n",
      "\n",
      "abs(...)\n",
      "    abs(number) -> number\n",
      "    \n",
      "    Return the absolute value of the argument.\n",
      "\n"
     ]
    }
   ],
   "source": [
    "# String\n",
    "help('abs')"
   ]
  },
  {
   "cell_type": "raw",
   "metadata": {},
   "source": [
    "hex(x)\n",
    "\n",
    "Convert an integer number (of any size) to a lowercase hexadecimal string prefixed with “0x”."
   ]
  },
  {
   "cell_type": "code",
   "execution_count": 10,
   "metadata": {
    "collapsed": false
   },
   "outputs": [
    {
     "data": {
      "text/plain": [
       "'0xf'"
      ]
     },
     "execution_count": 10,
     "metadata": {},
     "output_type": "execute_result"
    }
   ],
   "source": [
    "hex(15)"
   ]
  },
  {
   "cell_type": "raw",
   "metadata": {},
   "source": [
    "int(x=0)\n",
    "\n",
    "Return an integer object constructed from a number or string x, or return 0 if no arguments are given. If x is a number, it can be a plain integer, a long integer, or a floating point number. If x is floating point, the conversion truncates towards zero. If the argument is outside the integer range, the function returns a long object instead."
   ]
  },
  {
   "cell_type": "code",
   "execution_count": 12,
   "metadata": {
    "collapsed": false
   },
   "outputs": [
    {
     "data": {
      "text/plain": [
       "0"
      ]
     },
     "execution_count": 12,
     "metadata": {},
     "output_type": "execute_result"
    }
   ],
   "source": [
    "# No argument\n",
    "int()"
   ]
  },
  {
   "cell_type": "code",
   "execution_count": 13,
   "metadata": {
    "collapsed": false
   },
   "outputs": [
    {
     "data": {
      "text/plain": [
       "5"
      ]
     },
     "execution_count": 13,
     "metadata": {},
     "output_type": "execute_result"
    }
   ],
   "source": [
    "# Number\n",
    "int(5.2)"
   ]
  },
  {
   "cell_type": "code",
   "execution_count": 46,
   "metadata": {
    "collapsed": false
   },
   "outputs": [
    {
     "data": {
      "text/plain": [
       "48"
      ]
     },
     "execution_count": 46,
     "metadata": {},
     "output_type": "execute_result"
    }
   ],
   "source": [
    "# String\n",
    "int('40',12)"
   ]
  },
  {
   "cell_type": "raw",
   "metadata": {},
   "source": [
    "isinstance(object, classinfo)\n",
    "\n",
    "true if the object argument is an instance of the classinfo argument.\n",
    "true if classinfo is a type object (new-style class) and object is an object of that type. \n",
    "If object is not a class instance or an object of the given type, the function always returns false. If classinfo is neither a class object nor a type object, it may be a tuple of class or type objects, or may recursively contain other such tuples (other sequence types are not accepted). \n",
    "If classinfo is not a class, type, or tuple of classes, types, and such tuples, a TypeError exception is raised."
   ]
  },
  {
   "cell_type": "code",
   "execution_count": 76,
   "metadata": {
    "collapsed": false
   },
   "outputs": [
    {
     "data": {
      "text/plain": [
       "False"
      ]
     },
     "execution_count": 76,
     "metadata": {},
     "output_type": "execute_result"
    }
   ],
   "source": [
    "# Not instance of class\n",
    "isinstance(BankAccount, type(1))"
   ]
  },
  {
   "cell_type": "code",
   "execution_count": 79,
   "metadata": {
    "collapsed": false
   },
   "outputs": [
    {
     "data": {
      "text/plain": [
       "True"
      ]
     },
     "execution_count": 79,
     "metadata": {},
     "output_type": "execute_result"
    }
   ],
   "source": [
    "# Instance\n",
    "class Y:\n",
    "    def __init__(self):\n",
    "        print 'Yup'\n",
    "isinstance(BankAccount, type(Y))"
   ]
  },
  {
   "cell_type": "raw",
   "metadata": {},
   "source": [
    "list(iterable)\n",
    "\n",
    "Return a list whose items are the same and in the same order as iterable‘s items. iterable may be either a sequence, a container that supports iteration, or an iterator object. If iterable is already a list, a copy is made and returned, similar to iterable[:]. For instance, list('abc') returns ['a', 'b', 'c'] and list( (1, 2, 3) ) returns [1, 2, 3]. If no argument is given, returns a new empty list, []."
   ]
  },
  {
   "cell_type": "code",
   "execution_count": 81,
   "metadata": {
    "collapsed": false
   },
   "outputs": [
    {
     "data": {
      "text/plain": [
       "[1, 2, 3, 4, 5]"
      ]
     },
     "execution_count": 81,
     "metadata": {},
     "output_type": "execute_result"
    }
   ],
   "source": [
    "# Tuple\n",
    "list((1,2,3,4,5))"
   ]
  },
  {
   "cell_type": "code",
   "execution_count": 82,
   "metadata": {
    "collapsed": false
   },
   "outputs": [
    {
     "data": {
      "text/plain": [
       "['M',\n",
       " 'a',\n",
       " 'y',\n",
       " 'b',\n",
       " 'e',\n",
       " ' ',\n",
       " 'i',\n",
       " 't',\n",
       " \"'\",\n",
       " 's',\n",
       " ' ',\n",
       " 'b',\n",
       " 'e',\n",
       " 'c',\n",
       " 'a',\n",
       " 'u',\n",
       " 's',\n",
       " 'e',\n",
       " ' ',\n",
       " 'y',\n",
       " 'o',\n",
       " 'u',\n",
       " \"'\",\n",
       " 'r',\n",
       " 'e',\n",
       " ' ',\n",
       " 'u',\n",
       " 'g',\n",
       " 'l',\n",
       " 'y']"
      ]
     },
     "execution_count": 82,
     "metadata": {},
     "output_type": "execute_result"
    }
   ],
   "source": [
    "# String\n",
    "list(\"Maybe it's because you're ugly\")"
   ]
  },
  {
   "cell_type": "code",
   "execution_count": 83,
   "metadata": {
    "collapsed": false
   },
   "outputs": [
    {
     "data": {
      "text/plain": [
       "[1, 2, 3, 4]"
      ]
     },
     "execution_count": 83,
     "metadata": {},
     "output_type": "execute_result"
    }
   ],
   "source": [
    "# Already a list\n",
    "list([1,2,3,4])"
   ]
  },
  {
   "cell_type": "raw",
   "metadata": {},
   "source": [
    "long(x, base=10)\n",
    "\n",
    "Return a long integer object constructed from a string or number x. If the argument is a string, it must contain a possibly signed number of arbitrary size, possibly embedded in whitespace. The base argument is interpreted in the same way as for int(), and may only be given when x is a string. Otherwise, the argument may be a plain or long integer or a floating point number, and a long integer with the same value is returned. Conversion of floating point numbers to integers truncates (towards zero). If no arguments are given, returns 0L."
   ]
  },
  {
   "cell_type": "code",
   "execution_count": 93,
   "metadata": {
    "collapsed": false
   },
   "outputs": [
    {
     "data": {
      "text/plain": [
       "212909L"
      ]
     },
     "execution_count": 93,
     "metadata": {},
     "output_type": "execute_result"
    }
   ],
   "source": [
    "# String\n",
    "long('212909')"
   ]
  },
  {
   "cell_type": "code",
   "execution_count": 101,
   "metadata": {
    "collapsed": false
   },
   "outputs": [
    {
     "data": {
      "text/plain": [
       "2100000000000000000000L"
      ]
     },
     "execution_count": 101,
     "metadata": {},
     "output_type": "execute_result"
    }
   ],
   "source": [
    "# Integer\n",
    "long(21e20)"
   ]
  },
  {
   "cell_type": "code",
   "execution_count": 102,
   "metadata": {
    "collapsed": false
   },
   "outputs": [
    {
     "data": {
      "text/plain": [
       "21L"
      ]
     },
     "execution_count": 102,
     "metadata": {},
     "output_type": "execute_result"
    }
   ],
   "source": [
    "# Float\n",
    "long(21.342)"
   ]
  },
  {
   "cell_type": "code",
   "execution_count": 103,
   "metadata": {
    "collapsed": false
   },
   "outputs": [
    {
     "data": {
      "text/plain": [
       "0L"
      ]
     },
     "execution_count": 103,
     "metadata": {},
     "output_type": "execute_result"
    }
   ],
   "source": [
    "# No argument\n",
    "long()"
   ]
  },
  {
   "cell_type": "raw",
   "metadata": {},
   "source": [
    "map(function, iterable, ...)\n",
    "\n",
    "Apply function to every item of iterable and return a list of the results. If additional iterable arguments are passed, function must take that many arguments and is applied to the items from all iterables in parallel. If one iterable is shorter than another it is assumed to be extended with None items. If function is None, the identity function is assumed; if there are multiple arguments, map() returns a list consisting of tuples containing the corresponding items from all iterables (a kind of transpose operation). The iterable arguments may be a sequence or any iterable object; the result is always a list."
   ]
  },
  {
   "cell_type": "code",
   "execution_count": 106,
   "metadata": {
    "collapsed": false
   },
   "outputs": [
    {
     "name": "stdout",
     "output_type": "stream",
     "text": [
      "[0, 1, 4, 9, 16, 25, 36, 49, 64, 81]\n"
     ]
    }
   ],
   "source": [
    "# Single iterable\n",
    "def f(x):\n",
    "    return x**2\n",
    "print map(f, range(10))"
   ]
  },
  {
   "cell_type": "code",
   "execution_count": 107,
   "metadata": {
    "collapsed": false
   },
   "outputs": [
    {
     "name": "stdout",
     "output_type": "stream",
     "text": [
      "[0, 2, 8, 18, 32, 50, 72, 98, 128, 162]\n"
     ]
    }
   ],
   "source": [
    "# More than 1 iterable\n",
    "def Q(x,y):\n",
    "    x **= 2\n",
    "    y **= 2\n",
    "    return x + y\n",
    "print map(Q, range(10), range(10))"
   ]
  },
  {
   "cell_type": "code",
   "execution_count": 112,
   "metadata": {
    "collapsed": false
   },
   "outputs": [
    {
     "name": "stdout",
     "output_type": "stream",
     "text": [
      "[None, None]\n"
     ]
    }
   ],
   "source": [
    "# None function\n",
    "def x(y):\n",
    "    return None\n",
    "print map(x, [1,2])"
   ]
  },
  {
   "cell_type": "raw",
   "metadata": {},
   "source": [
    "max(arg1, arg2)\n",
    "\n",
    "Return the largest item in an iterable or the largest of two or more arguments."
   ]
  },
  {
   "cell_type": "code",
   "execution_count": 113,
   "metadata": {
    "collapsed": false
   },
   "outputs": [
    {
     "name": "stdout",
     "output_type": "stream",
     "text": [
      "123\n"
     ]
    }
   ],
   "source": [
    "# One iterable\n",
    "print max([12,3,34,123])"
   ]
  },
  {
   "cell_type": "code",
   "execution_count": 116,
   "metadata": {
    "collapsed": false
   },
   "outputs": [
    {
     "name": "stdout",
     "output_type": "stream",
     "text": [
      "35\n"
     ]
    }
   ],
   "source": [
    "# Two arguments\n",
    "print max(24,35)"
   ]
  },
  {
   "cell_type": "raw",
   "metadata": {
    "collapsed": true
   },
   "source": [
    "min(arg1, arg2)\n",
    "\n",
    "Return the smallest item in an iterable or the smallest of two or more arguments."
   ]
  },
  {
   "cell_type": "code",
   "execution_count": 1,
   "metadata": {
    "collapsed": false
   },
   "outputs": [
    {
     "name": "stdout",
     "output_type": "stream",
     "text": [
      "-231\n"
     ]
    }
   ],
   "source": [
    "# One iterable\n",
    "print min([1,2,3,4,5,6,-231])"
   ]
  },
  {
   "cell_type": "code",
   "execution_count": 2,
   "metadata": {
    "collapsed": false
   },
   "outputs": [
    {
     "name": "stdout",
     "output_type": "stream",
     "text": [
      "-1234\n"
     ]
    }
   ],
   "source": [
    "# Two arguments\n",
    "print min(31, -1234)"
   ]
  },
  {
   "cell_type": "raw",
   "metadata": {},
   "source": [
    "oct(x)\n",
    "\n",
    "Convert an integer number (of any size) to an octal string. The result is a valid Python expression"
   ]
  },
  {
   "cell_type": "code",
   "execution_count": 3,
   "metadata": {
    "collapsed": false
   },
   "outputs": [
    {
     "name": "stdout",
     "output_type": "stream",
     "text": [
      "0726746425\n"
     ]
    }
   ],
   "source": [
    "print oct(123456789)"
   ]
  },
  {
   "cell_type": "raw",
   "metadata": {},
   "source": [
    "reduce(function, iterable[, initializer])\n",
    "\n",
    "Apply function of two arguments cumulatively to the items of iterable, from left to right, so as to reduce the iterable to a single value"
   ]
  },
  {
   "cell_type": "code",
   "execution_count": 6,
   "metadata": {
    "collapsed": false
   },
   "outputs": [
    {
     "ename": "TypeError",
     "evalue": "'int' object is not callable",
     "output_type": "error",
     "traceback": [
      "\u001b[1;31m---------------------------------------------------------------------------\u001b[0m",
      "\u001b[1;31mTypeError\u001b[0m                                 Traceback (most recent call last)",
      "\u001b[1;32m<ipython-input-6-0b26f5c6ef53>\u001b[0m in \u001b[0;36m<module>\u001b[1;34m()\u001b[0m\n\u001b[1;32m----> 1\u001b[1;33m \u001b[1;32mprint\u001b[0m \u001b[0mreduce\u001b[0m\u001b[1;33m(\u001b[0m\u001b[1;36m2\u001b[0m\u001b[1;33m,\u001b[0m \u001b[1;33m[\u001b[0m\u001b[1;36m1\u001b[0m\u001b[1;33m,\u001b[0m\u001b[1;36m2\u001b[0m\u001b[1;33m,\u001b[0m\u001b[1;36m3\u001b[0m\u001b[1;33m,\u001b[0m\u001b[1;36m4\u001b[0m\u001b[1;33m,\u001b[0m\u001b[1;36m5\u001b[0m\u001b[1;33m,\u001b[0m\u001b[1;36m6\u001b[0m\u001b[1;33m,\u001b[0m\u001b[1;36m7\u001b[0m\u001b[1;33m,\u001b[0m\u001b[1;36m8\u001b[0m\u001b[1;33m,\u001b[0m\u001b[1;36m9\u001b[0m\u001b[1;33m]\u001b[0m\u001b[1;33m)\u001b[0m\u001b[1;33m\u001b[0m\u001b[0m\n\u001b[0m",
      "\u001b[1;31mTypeError\u001b[0m: 'int' object is not callable"
     ]
    }
   ],
   "source": [
    "print reduce(2, [1,2,3,4,5,6,7,8,9])"
   ]
  },
  {
   "cell_type": "code",
   "execution_count": 8,
   "metadata": {
    "collapsed": false
   },
   "outputs": [
    {
     "data": {
      "text/plain": [
       "362880"
      ]
     },
     "execution_count": 8,
     "metadata": {},
     "output_type": "execute_result"
    }
   ],
   "source": [
    "reduce(lambda x, y: x*y, [1,2,3,4,5,6,7,8,9])"
   ]
  },
  {
   "cell_type": "raw",
   "metadata": {},
   "source": [
    "reversed(seq)\n",
    "\n",
    "Return a reverse iterator. seq must be an object which has a __reversed__() method or supports the sequence protocol (the __len__() method and the __getitem__() method with integer arguments starting at 0)."
   ]
  },
  {
   "cell_type": "code",
   "execution_count": 25,
   "metadata": {
    "collapsed": false
   },
   "outputs": [
    {
     "name": "stdout",
     "output_type": "stream",
     "text": [
      "[0, 1, 2, 3]\n",
      "[3, 2, 1, 0]\n"
     ]
    }
   ],
   "source": [
    "_list = list(range(4))\n",
    "print _list\n",
    "x = reversed(_list)\n",
    "print list(x)"
   ]
  },
  {
   "cell_type": "raw",
   "metadata": {},
   "source": [
    "round(number[, ndigits])\n",
    "\n",
    "Return the floating point value number rounded to ndigits digits after the decimal point. If ndigits is omitted, it defaults to zero. The result is a floating point number. Values are rounded to the closest multiple of 10 to the power minus ndigits; if two multiples are equally close, rounding is done away from 0 (so, for example, round(0.5) is 1.0 and round(-0.5) is -1.0)."
   ]
  },
  {
   "cell_type": "code",
   "execution_count": 32,
   "metadata": {
    "collapsed": false
   },
   "outputs": [
    {
     "name": "stdout",
     "output_type": "stream",
     "text": [
      "1234.1352\n"
     ]
    }
   ],
   "source": [
    "print round(1234.1351969, 5)"
   ]
  },
  {
   "cell_type": "raw",
   "metadata": {},
   "source": [
    "sum(iterable)\n",
    "\n",
    "Sums start and the items of an iterable from left to right and returns the total. start defaults to 0. The iterable‘s items are normally numbers, and the start value is not allowed to be a string.\n",
    "\n",
    "For some use cases, there are good alternatives to sum(). The preferred, fast way to concatenate a sequence of strings is by calling ''.join(sequence). To add floating point values with extended precision, see math.fsum(). To concatenate a series of iterables, consider using itertools.chain()."
   ]
  },
  {
   "cell_type": "code",
   "execution_count": 33,
   "metadata": {
    "collapsed": false
   },
   "outputs": [
    {
     "name": "stdout",
     "output_type": "stream",
     "text": [
      "45\n"
     ]
    }
   ],
   "source": [
    "# Iterable\n",
    "x = (1,2,3,4,5,6,7,8,9)\n",
    "print sum(x)"
   ]
  },
  {
   "cell_type": "raw",
   "metadata": {},
   "source": [
    "tuple([iterable])\n",
    "\n",
    "Return a tuple whose items are the same and in the same order as iterable‘s items. iterable may be a sequence, a container that supports iteration, or an iterator object. If iterable is already a tuple, it is returned unchanged. For instance, tuple('abc') returns ('a', 'b', 'c') and tuple([1, 2, 3]) returns (1, 2, 3). If no argument is given, returns a new empty tuple, ()."
   ]
  },
  {
   "cell_type": "code",
   "execution_count": 35,
   "metadata": {
    "collapsed": false
   },
   "outputs": [
    {
     "name": "stdout",
     "output_type": "stream",
     "text": [
      "(1, 2, 3, 4, 5)\n"
     ]
    }
   ],
   "source": [
    "# Iterable\n",
    "x = [1,2,3,4,5]\n",
    "print tuple(x)"
   ]
  },
  {
   "cell_type": "code",
   "execution_count": 36,
   "metadata": {
    "collapsed": false
   },
   "outputs": [
    {
     "name": "stdout",
     "output_type": "stream",
     "text": [
      "(1, 2, 3)\n"
     ]
    }
   ],
   "source": [
    "# Tuple\n",
    "x = (1,2,3)\n",
    "print tuple(x)"
   ]
  },
  {
   "cell_type": "code",
   "execution_count": 37,
   "metadata": {
    "collapsed": false
   },
   "outputs": [
    {
     "name": "stdout",
     "output_type": "stream",
     "text": [
      "()\n"
     ]
    }
   ],
   "source": [
    "# Empty Argument\n",
    "print tuple()"
   ]
  },
  {
   "cell_type": "raw",
   "metadata": {},
   "source": [
    "xrange(start, stop[, step])\n",
    "\n",
    "This function is very similar to range(), but returns an xrange object instead of a list. This is an opaque sequence type which yields the same values as the corresponding list, without actually storing them all simultaneously"
   ]
  },
  {
   "cell_type": "code",
   "execution_count": 43,
   "metadata": {
    "collapsed": false
   },
   "outputs": [
    {
     "name": "stdout",
     "output_type": "stream",
     "text": [
      "<type 'xrange'>\n",
      "xrange(10)\n"
     ]
    }
   ],
   "source": [
    "print type(xrange(10))\n",
    "print xrange(10)"
   ]
  },
  {
   "cell_type": "raw",
   "metadata": {},
   "source": [
    "zip([iterable, ...])\n",
    "\n",
    "This function returns a list of tuples, where the i-th tuple contains the i-th element from each of the argument sequences or iterables. The returned list is truncated in length to the length of the shortest argument sequence. When there are multiple arguments which are all of the same length, zip() is similar to map() with an initial argument of None. With a single sequence argument, it returns a list of 1-tuples. With no arguments, it returns an empty list."
   ]
  },
  {
   "cell_type": "code",
   "execution_count": 44,
   "metadata": {
    "collapsed": false
   },
   "outputs": [
    {
     "name": "stdout",
     "output_type": "stream",
     "text": [
      "[(1, 3, 5), (2, 4, 6), (3, 5, 7)]\n"
     ]
    }
   ],
   "source": [
    "# Iterables of same length\n",
    "print zip([1,2,3], [3,4,5], [5,6,7])"
   ]
  },
  {
   "cell_type": "code",
   "execution_count": 45,
   "metadata": {
    "collapsed": false
   },
   "outputs": [
    {
     "name": "stdout",
     "output_type": "stream",
     "text": [
      "[(1, 7, 10), (2, 8, 11), (3, 9, 12)]\n"
     ]
    }
   ],
   "source": [
    "# Iterables of different length\n",
    "print zip([1,2,3,4,5], [7,8,9],[10,11,12,13])"
   ]
  },
  {
   "cell_type": "code",
   "execution_count": 46,
   "metadata": {
    "collapsed": false
   },
   "outputs": [
    {
     "name": "stdout",
     "output_type": "stream",
     "text": [
      "[(1,), (2,), (3,), (4,), (5,)]\n"
     ]
    }
   ],
   "source": [
    "# Single argument\n",
    "print zip([1,2,3,4,5])"
   ]
  },
  {
   "cell_type": "code",
   "execution_count": 47,
   "metadata": {
    "collapsed": false
   },
   "outputs": [
    {
     "name": "stdout",
     "output_type": "stream",
     "text": [
      "[]\n"
     ]
    }
   ],
   "source": [
    "# No argument\n",
    "print zip()"
   ]
  },
  {
   "cell_type": "code",
   "execution_count": null,
   "metadata": {
    "collapsed": true
   },
   "outputs": [],
   "source": []
  }
 ],
 "metadata": {
  "kernelspec": {
   "display_name": "Python 2",
   "language": "python",
   "name": "python2"
  },
  "language_info": {
   "codemirror_mode": {
    "name": "ipython",
    "version": 2
   },
   "file_extension": ".py",
   "mimetype": "text/x-python",
   "name": "python",
   "nbconvert_exporter": "python",
   "pygments_lexer": "ipython2",
   "version": "2.7.9"
  }
 },
 "nbformat": 4,
 "nbformat_minor": 0
}

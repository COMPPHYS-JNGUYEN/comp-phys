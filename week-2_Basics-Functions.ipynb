{
 "cells": [
  {
   "cell_type": "code",
   "execution_count": 1,
   "metadata": {
    "collapsed": false
   },
   "outputs": [
    {
     "name": "stdout",
     "output_type": "stream",
     "text": [
      "With the for loop, the sum is 1.6449240669\n",
      "With the while loop, the sum is 1.6449240669\n",
      "correct answer: 1.64493406685\n"
     ]
    }
   ],
   "source": [
    "from math import pi\n",
    "s = 0\n",
    "max = 100000\n",
    "\n",
    "for i in range(max):\n",
    "    s += 1./(i+1)**2\n",
    "    \n",
    "print 'With the for loop, the sum is', s\n",
    "\n",
    "\n",
    "#need to reinitiate i and s\n",
    "i = 1\n",
    "s = 0\n",
    "\n",
    "while i <= max:\n",
    "    s+= 1./i**2\n",
    "    i = 1+i\n",
    "    \n",
    "print 'With the while loop, the sum is', s\n",
    "\n",
    "#correct answer is pi^2/6. Let's see how close we get:\n",
    "\n",
    "\n",
    "print 'correct answer:', pi**2/6"
   ]
  },
  {
   "cell_type": "code",
   "execution_count": 2,
   "metadata": {
    "collapsed": false
   },
   "outputs": [
    {
     "name": "stdout",
     "output_type": "stream",
     "text": [
      "hello world\n"
     ]
    }
   ],
   "source": [
    "# str\n",
    "a = 'hello'\n",
    "space = ' '\n",
    "b = 'world'\n",
    "print a + space + b"
   ]
  },
  {
   "cell_type": "code",
   "execution_count": 3,
   "metadata": {
    "collapsed": false
   },
   "outputs": [
    {
     "name": "stdout",
     "output_type": "stream",
     "text": [
      "True\n",
      "True\n",
      "True\n",
      "False\n",
      "False\n",
      "True\n"
     ]
    }
   ],
   "source": [
    "b = bool(1)\n",
    "print b\n",
    "b = bool(20)\n",
    "print b\n",
    "b = bool(-3)\n",
    "print b\n",
    "b = bool(0)\n",
    "print b\n",
    "b = bool(0.)\n",
    "print b\n",
    "b = bool(2.5)\n",
    "print b"
   ]
  },
  {
   "cell_type": "code",
   "execution_count": 3,
   "metadata": {
    "collapsed": false
   },
   "outputs": [
    {
     "name": "stdout",
     "output_type": "stream",
     "text": [
      "   -1  30.2\n",
      "   -2  28.4\n",
      "   -3  26.6\n",
      "   -4  24.8\n",
      "   10  50.0\n",
      "   20  68.0\n",
      "   30  86.0\n",
      "   40 104.0\n"
     ]
    }
   ],
   "source": [
    "Cdegrees = [-1,-2,-3,-4,10,20,30,40]\n",
    "for C in Cdegrees:\n",
    "    #print C in Cdegrees\n",
    "    F = (9.0/5)*C + 32.\n",
    "    print '%5d %5.1f' % (C, F)"
   ]
  },
  {
   "cell_type": "code",
   "execution_count": 5,
   "metadata": {
    "collapsed": false
   },
   "outputs": [
    {
     "name": "stdout",
     "output_type": "stream",
     "text": [
      "True\n",
      "  -20  -4.0\n",
      "True\n",
      "  -15   5.0\n",
      "True\n",
      "   -5  23.0\n",
      "True\n",
      "    5  41.0\n",
      "True\n",
      "   10  50.0\n",
      "True\n",
      "   15  59.0\n",
      "True\n",
      "   20  68.0\n"
     ]
    }
   ],
   "source": [
    "Cdegrees = [-20, -15, -5, 5, 10, 15, 20]\n",
    "i = 0\n",
    "while i < len(Cdegrees):\n",
    "    C = Cdegrees[i]\n",
    "    print C in Cdegrees\n",
    "    F = (9./5)*C + 32.\n",
    "    print '%5d %5.1f' % (C, F)\n",
    "    i += 1"
   ]
  },
  {
   "cell_type": "code",
   "execution_count": 6,
   "metadata": {
    "collapsed": false
   },
   "outputs": [
    {
     "name": "stdout",
     "output_type": "stream",
     "text": [
      "r == a: True\n",
      "r is a: False\n",
      "s == a: True\n",
      "s is a: True\n"
     ]
    }
   ],
   "source": [
    "a = [10, 5, \"cool\", 61., 4, 12345]\n",
    "r = a[:]\n",
    "s = a\n",
    "print 'r == a:', r == a\n",
    "print 'r is a:', r is a\n",
    "print 's == a:', s == a\n",
    "print 's is a:', s is a"
   ]
  },
  {
   "cell_type": "code",
   "execution_count": 7,
   "metadata": {
    "collapsed": false
   },
   "outputs": [
    {
     "name": "stdout",
     "output_type": "stream",
     "text": [
      "c == a: True\n",
      "c is a: False\n"
     ]
    }
   ],
   "source": [
    "import copy\n",
    "c = copy.copy(a)\n",
    "print 'c == a:', c == a\n",
    "print 'c is a:', c is a"
   ]
  },
  {
   "cell_type": "code",
   "execution_count": 8,
   "metadata": {
    "collapsed": false
   },
   "outputs": [
    {
     "name": "stdout",
     "output_type": "stream",
     "text": [
      "a: [10, 5, 'cool', 61.0, 4, 12345, 140000.0]\n",
      "r: [10, 5, 'cool', 61.0, 4, 12345]\n",
      "s: [10, 5, 'cool', 61.0, 4, 12345, 140000.0]\n",
      "c: [10, 5, 'cool', 61.0, 4, 12345]\n"
     ]
    }
   ],
   "source": [
    "a.append(1.4e5)\n",
    "print 'a:', a\n",
    "print 'r:', r\n",
    "print 's:', s\n",
    "print 'c:', c"
   ]
  },
  {
   "cell_type": "code",
   "execution_count": 9,
   "metadata": {
    "collapsed": false
   },
   "outputs": [
    {
     "name": "stdout",
     "output_type": "stream",
     "text": [
      "0 -20\n",
      "1 -13\n",
      "2 -1\n",
      "3 11\n",
      "4 18\n",
      "5 25\n",
      "6 32\n"
     ]
    }
   ],
   "source": [
    "Cdegrees = [-20, -15, -5, 5, 10, 15, 20]\n",
    "for i, c in enumerate(Cdegrees):\n",
    "    Cdegrees[i] = c+2*i\n",
    "    print i, Cdegrees[i]"
   ]
  },
  {
   "cell_type": "code",
   "execution_count": 10,
   "metadata": {
    "collapsed": true
   },
   "outputs": [],
   "source": [
    "Cstart = -5.\n",
    "Cend = 5.\n",
    "Cstep = .5"
   ]
  },
  {
   "cell_type": "code",
   "execution_count": 11,
   "metadata": {
    "collapsed": true
   },
   "outputs": [],
   "source": [
    "##List comprehension [f(e) for i in e]"
   ]
  },
  {
   "cell_type": "code",
   "execution_count": 3,
   "metadata": {
    "collapsed": false
   },
   "outputs": [
    {
     "name": "stdout",
     "output_type": "stream",
     "text": [
      "[-5.0, -4.5, -4.0, -3.5, -3.0, -2.5, -2.0, -1.5, -1.0, -0.5, 0.0, 0.5, 1.0, 1.5, 2.0, 2.5, 3.0, 3.5, 4.0, 4.5, 5.0]\n",
      "[23.0, 23.9, 24.8, 25.7, 26.6, 27.5, 28.4, 29.3, 30.2, 31.1, 32.0, 32.9, 33.8, 34.7, 35.6, 36.5, 37.4, 38.3, 39.2, 40.1, 41.0]\n"
     ]
    }
   ],
   "source": [
    "## USE LIST COMPREHENSION TO CONVERT CELSIUS TO FARENHEIT\n",
    "#F = (9.0/5)*C + 32.\n",
    "Cdegrees = [-5 + .5*i for i in range (21)]\n",
    "print Cdegrees\n",
    "Fdegrees = [(9.0/5)*C + 32. for C in Cdegrees]\n",
    "print Fdegrees"
   ]
  },
  {
   "cell_type": "code",
   "execution_count": 4,
   "metadata": {
    "collapsed": false
   },
   "outputs": [
    {
     "data": {
      "text/plain": [
       "[(-5.0, 23.0, -5.0),\n",
       " (-4.5, 23.9, -4.5),\n",
       " (-4.0, 24.8, -4.0),\n",
       " (-3.5, 25.7, -3.5),\n",
       " (-3.0, 26.6, -3.0),\n",
       " (-2.5, 27.5, -2.5),\n",
       " (-2.0, 28.4, -2.0),\n",
       " (-1.5, 29.3, -1.5),\n",
       " (-1.0, 30.2, -1.0),\n",
       " (-0.5, 31.1, -0.5),\n",
       " (0.0, 32.0, 0.0),\n",
       " (0.5, 32.9, 0.5),\n",
       " (1.0, 33.8, 1.0),\n",
       " (1.5, 34.7, 1.5),\n",
       " (2.0, 35.6, 2.0),\n",
       " (2.5, 36.5, 2.5),\n",
       " (3.0, 37.4, 3.0),\n",
       " (3.5, 38.3, 3.5),\n",
       " (4.0, 39.2, 4.0),\n",
       " (4.5, 40.1, 4.5),\n",
       " (5.0, 41.0, 5.0)]"
      ]
     },
     "execution_count": 4,
     "metadata": {},
     "output_type": "execute_result"
    }
   ],
   "source": [
    "## Zip lists together\n",
    "zip(Cdegrees, Fdegrees, Cdegrees)"
   ]
  },
  {
   "cell_type": "code",
   "execution_count": 5,
   "metadata": {
    "collapsed": false
   },
   "outputs": [
    {
     "name": "stdout",
     "output_type": "stream",
     "text": [
      " -5.0,  23.0\n",
      " -4.5,  23.9\n",
      " -4.0,  24.8\n",
      " -3.5,  25.7\n",
      " -3.0,  26.6\n",
      " -2.5,  27.5\n",
      " -2.0,  28.4\n",
      " -1.5,  29.3\n",
      " -1.0,  30.2\n",
      " -0.5,  31.1\n",
      "  0.0,  32.0\n",
      "  0.5,  32.9\n",
      "  1.0,  33.8\n",
      "  1.5,  34.7\n",
      "  2.0,  35.6\n",
      "  2.5,  36.5\n",
      "  3.0,  37.4\n",
      "  3.5,  38.3\n",
      "  4.0,  39.2\n",
      "  4.5,  40.1\n",
      "  5.0,  41.0\n"
     ]
    }
   ],
   "source": [
    "## modern formatting -- more 'pythonic'\n",
    "for C, F in zip(Cdegrees, Fdegrees):\n",
    "        print \"{:5.1f}, {:5.1f}\".format(C, F)\n",
    "        \n",
    "## Methods you can apply to string is to format it"
   ]
  },
  {
   "cell_type": "code",
   "execution_count": 15,
   "metadata": {
    "collapsed": false
   },
   "outputs": [
    {
     "data": {
      "text/plain": [
       "[-0.21739130434782608,\n",
       " -0.1882845188284519,\n",
       " -0.16129032258064516,\n",
       " -0.13618677042801558,\n",
       " -0.11278195488721804,\n",
       " -0.09090909090909091,\n",
       " -0.07042253521126761,\n",
       " -0.051194539249146756,\n",
       " -0.033112582781456956,\n",
       " -0.01607717041800643,\n",
       " 0.0,\n",
       " 0.015197568389057751,\n",
       " 0.02958579881656805,\n",
       " 0.04322766570605187,\n",
       " 0.056179775280898875,\n",
       " 0.0684931506849315,\n",
       " 0.08021390374331551,\n",
       " 0.09138381201044388,\n",
       " 0.1020408163265306,\n",
       " 0.11221945137157106,\n",
       " 0.12195121951219512]"
      ]
     },
     "execution_count": 15,
     "metadata": {},
     "output_type": "execute_result"
    }
   ],
   "source": [
    "## Use list comprehension for 2 existing lists\n",
    "[C/F for C, F in zip(Cdegrees, Fdegrees)]"
   ]
  },
  {
   "cell_type": "code",
   "execution_count": 16,
   "metadata": {
    "collapsed": false
   },
   "outputs": [
    {
     "name": "stdout",
     "output_type": "stream",
     "text": [
      "[[-5.0, 23.0], [-4.5, 23.9], [-4.0, 24.8], [-3.5, 25.7], [-3.0, 26.6], [-2.5, 27.5], [-2.0, 28.4], [-1.5, 29.3], [-1.0, 30.2], [-0.5, 31.1], [0.0, 32.0], [0.5, 32.9], [1.0, 33.8], [1.5, 34.7], [2.0, 35.6], [2.5, 36.5], [3.0, 37.4], [3.5, 38.3], [4.0, 39.2], [4.5, 40.1], [5.0, 41.0]]\n"
     ]
    }
   ],
   "source": [
    "## How can you make a list of lists?\n",
    "## Breakout Problem: Use list comprehension that pairs celsius and farenheit\n",
    "\n",
    "coolstuff = [[C, F] for C, F in zip(Cdegrees, Fdegrees)]\n",
    "print coolstuff"
   ]
  },
  {
   "cell_type": "code",
   "execution_count": 17,
   "metadata": {
    "collapsed": false
   },
   "outputs": [
    {
     "data": {
      "text/plain": [
       "-4.5"
      ]
     },
     "execution_count": 17,
     "metadata": {},
     "output_type": "execute_result"
    }
   ],
   "source": [
    "## Slicing a List\n",
    "table1 = [Cdegrees,Fdegrees]\n",
    "table1[0][1]"
   ]
  },
  {
   "cell_type": "code",
   "execution_count": 18,
   "metadata": {
    "collapsed": false
   },
   "outputs": [
    {
     "data": {
      "text/plain": [
       "[[-5.0,\n",
       "  -4.5,\n",
       "  -4.0,\n",
       "  -3.5,\n",
       "  -3.0,\n",
       "  -2.5,\n",
       "  -2.0,\n",
       "  -1.5,\n",
       "  -1.0,\n",
       "  -0.5,\n",
       "  0.0,\n",
       "  0.5,\n",
       "  1.0,\n",
       "  1.5,\n",
       "  2.0,\n",
       "  2.5,\n",
       "  3.0,\n",
       "  3.5,\n",
       "  4.0,\n",
       "  4.5,\n",
       "  5.0]]"
      ]
     },
     "execution_count": 18,
     "metadata": {},
     "output_type": "execute_result"
    }
   ],
   "source": [
    "## List within a list\n",
    "table1[0:1]"
   ]
  },
  {
   "cell_type": "code",
   "execution_count": 19,
   "metadata": {
    "collapsed": false
   },
   "outputs": [
    {
     "data": {
      "text/plain": [
       "[-5.0,\n",
       " -4.5,\n",
       " -4.0,\n",
       " -3.5,\n",
       " -3.0,\n",
       " -2.5,\n",
       " -2.0,\n",
       " -1.5,\n",
       " -1.0,\n",
       " -0.5,\n",
       " 0.0,\n",
       " 0.5,\n",
       " 1.0,\n",
       " 1.5,\n",
       " 2.0,\n",
       " 2.5,\n",
       " 3.0,\n",
       " 3.5,\n",
       " 4.0,\n",
       " 4.5,\n",
       " 5.0]"
      ]
     },
     "execution_count": 19,
     "metadata": {},
     "output_type": "execute_result"
    }
   ],
   "source": [
    "## The first index gives you a list of a list.  The second index gives you the element in the list.\n",
    "## If you change the second index to 1, python will output an error.\n",
    "table1[0:1][0]"
   ]
  },
  {
   "cell_type": "code",
   "execution_count": 20,
   "metadata": {
    "collapsed": false
   },
   "outputs": [
    {
     "name": "stdout",
     "output_type": "stream",
     "text": [
      "16\n"
     ]
    },
    {
     "ename": "NameError",
     "evalue": "name 'table2' is not defined",
     "output_type": "error",
     "traceback": [
      "\u001b[1;31m---------------------------------------------------------------------------\u001b[0m",
      "\u001b[1;31mNameError\u001b[0m                                 Traceback (most recent call last)",
      "\u001b[1;32m<ipython-input-20-404d00a5d4c2>\u001b[0m in \u001b[0;36m<module>\u001b[1;34m()\u001b[0m\n\u001b[0;32m      1\u001b[0m \u001b[1;32mprint\u001b[0m \u001b[0mCdegrees\u001b[0m\u001b[1;33m.\u001b[0m\u001b[0mindex\u001b[0m\u001b[1;33m(\u001b[0m\u001b[1;36m3.0\u001b[0m\u001b[1;33m)\u001b[0m\u001b[1;33m\u001b[0m\u001b[0m\n\u001b[1;32m----> 2\u001b[1;33m \u001b[1;32mfor\u001b[0m \u001b[0mC\u001b[0m\u001b[1;33m,\u001b[0m \u001b[0mF\u001b[0m \u001b[1;32min\u001b[0m \u001b[0mtable2\u001b[0m\u001b[1;33m[\u001b[0m\u001b[0mCdegrees\u001b[0m\u001b[1;33m.\u001b[0m\u001b[0mindex\u001b[0m\u001b[1;33m(\u001b[0m\u001b[1;36m3.\u001b[0m\u001b[1;33m)\u001b[0m\u001b[1;33m:\u001b[0m\u001b[0mCdegrees\u001b[0m\u001b[1;33m.\u001b[0m\u001b[0mindex\u001b[0m\u001b[1;33m(\u001b[0m\u001b[1;36m5.\u001b[0m\u001b[1;33m)\u001b[0m\u001b[1;33m]\u001b[0m\u001b[1;33m:\u001b[0m\u001b[1;33m\u001b[0m\u001b[0m\n\u001b[0m\u001b[0;32m      3\u001b[0m     \u001b[1;32mprint\u001b[0m \u001b[1;34m'{:5.1f} {:5.1f}'\u001b[0m\u001b[1;33m.\u001b[0m\u001b[0mformat\u001b[0m\u001b[1;33m(\u001b[0m\u001b[0mC\u001b[0m\u001b[1;33m,\u001b[0m \u001b[0mF\u001b[0m\u001b[1;33m)\u001b[0m\u001b[1;33m\u001b[0m\u001b[0m\n",
      "\u001b[1;31mNameError\u001b[0m: name 'table2' is not defined"
     ]
    }
   ],
   "source": [
    "print Cdegrees.index(3.0)\n",
    "for C, F in table2[Cdegrees.index(3.):Cdegrees.index(5.)]:\n",
    "    print '{:5.1f} {:5.1f}'.format(C, F)"
   ]
  },
  {
   "cell_type": "code",
   "execution_count": 1,
   "metadata": {
    "collapsed": false
   },
   "outputs": [
    {
     "name": "stdout",
     "output_type": "stream",
     "text": [
      "  12   16   11   12\n",
      "   9\n",
      "   6    9   11   14   17   15   14   20\n"
     ]
    }
   ],
   "source": [
    "## How to print all elements belonging to a sublist?\n",
    "scores = []\n",
    "scores.append([12, 16, 11, 12])\n",
    "scores.append([9])\n",
    "scores.append([6, 9, 11, 14, 17, 15, 14, 20])\n",
    "\n",
    "for x in scores:\n",
    "    for i in x:\n",
    "        print '{:4d}'.format(i),\n",
    "    print"
   ]
  },
  {
   "cell_type": "code",
   "execution_count": null,
   "metadata": {
    "collapsed": false
   },
   "outputs": [],
   "source": [
    "## Tuples look just like lists, but are immutable.  Can add elements to tuple, but cannot change elements inside.\n",
    "\n",
    "t = ('shark', 2, 'text.txt', 6.0)\n",
    "t[1]"
   ]
  },
  {
   "cell_type": "code",
   "execution_count": null,
   "metadata": {
    "collapsed": false
   },
   "outputs": [],
   "source": [
    "## Example of error when trying to modify list\n",
    "t[1] = 4"
   ]
  },
  {
   "cell_type": "code",
   "execution_count": null,
   "metadata": {
    "collapsed": false
   },
   "outputs": [],
   "source": [
    "## Can concatenate tuples\n",
    "l = (1, 2, 'ugly')\n",
    "t = t + l\n",
    "print t"
   ]
  },
  {
   "cell_type": "code",
   "execution_count": null,
   "metadata": {
    "collapsed": false
   },
   "outputs": [],
   "source": [
    "## FUNCTIONS\n",
    "def F(C):\n",
    "    return (9./5)*C + 32.\n",
    "a = 10.\n",
    "F1 = F(a)\n",
    "print F1"
   ]
  },
  {
   "cell_type": "code",
   "execution_count": null,
   "metadata": {
    "collapsed": false
   },
   "outputs": [],
   "source": [
    "print F(a+1)"
   ]
  },
  {
   "cell_type": "code",
   "execution_count": null,
   "metadata": {
    "collapsed": false
   },
   "outputs": [],
   "source": [
    "Fdegrees = [F(C) for C in Cdegrees]\n",
    "Fdegrees"
   ]
  },
  {
   "cell_type": "code",
   "execution_count": 7,
   "metadata": {
    "collapsed": false
   },
   "outputs": [
    {
     "name": "stdout",
     "output_type": "stream",
     "text": [
      "    2  35.6\n",
      "    2  35.6\n",
      "    2  35.6\n",
      "    2  35.6\n",
      "    2  35.6\n",
      "    2  35.6\n"
     ]
    }
   ],
   "source": [
    "def CtoF(Cdegrees):   \n",
    "    for C in Cdegrees:\n",
    "        F = (9.0/5)*C + 32.\n",
    "        print '%5d %5.1f' % (C, F)\n",
    "        \n",
    "tuplelist = ([-5,-2,-1],[4,1,-4,3,-3,0],[2,2,2,2,2,2])\n",
    "CtoF(tuplelist[2])"
   ]
  },
  {
   "cell_type": "code",
   "execution_count": null,
   "metadata": {
    "collapsed": true
   },
   "outputs": [],
   "source": []
  }
 ],
 "metadata": {
  "kernelspec": {
   "display_name": "Python 2",
   "language": "python",
   "name": "python2"
  },
  "language_info": {
   "codemirror_mode": {
    "name": "ipython",
    "version": 2
   },
   "file_extension": ".py",
   "mimetype": "text/x-python",
   "name": "python",
   "nbconvert_exporter": "python",
   "pygments_lexer": "ipython2",
   "version": "2.7.9"
  }
 },
 "nbformat": 4,
 "nbformat_minor": 0
}

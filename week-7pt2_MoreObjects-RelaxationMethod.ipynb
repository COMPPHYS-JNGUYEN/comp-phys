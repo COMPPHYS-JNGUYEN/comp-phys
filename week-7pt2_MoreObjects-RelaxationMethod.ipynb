{
 "cells": [
  {
   "cell_type": "markdown",
   "metadata": {},
   "source": [
    "# Topics\n",
    "## 1. A Deeper Understanding of Objects in Python\n",
    "## 2. Relaxation Method\n"
   ]
  },
  {
   "cell_type": "markdown",
   "metadata": {},
   "source": [
    "## Everything in Python is an Object...for example:"
   ]
  },
  {
   "cell_type": "markdown",
   "metadata": {},
   "source": [
    "#### b = int(3) more than assignment: it's an instantiation of 3 into class int()"
   ]
  },
  {
   "cell_type": "code",
   "execution_count": null,
   "metadata": {
    "collapsed": false
   },
   "outputs": [],
   "source": [
    "''' \n",
    "a = 2 in python has a very different meaning\n",
    "from int a = 2 in c.\n",
    "'''\n",
    "a = 2\n",
    "b = int(3)\n",
    "print a, b\n",
    "# __...__ : double underscore, or \"dunder\"\n",
    "#print dir(a)"
   ]
  },
  {
   "cell_type": "code",
   "execution_count": null,
   "metadata": {
    "collapsed": false
   },
   "outputs": [],
   "source": [
    "print a.__abs__(), b.__abs__()"
   ]
  },
  {
   "cell_type": "code",
   "execution_count": null,
   "metadata": {
    "collapsed": false
   },
   "outputs": [],
   "source": [
    "# The default value at instantiation is 0\n",
    "c = int()\n",
    "print c"
   ]
  },
  {
   "cell_type": "code",
   "execution_count": null,
   "metadata": {
    "collapsed": true
   },
   "outputs": [],
   "source": [
    "# Is it legal? If so, what does this mean? If not, why not? \n",
    "gint = int"
   ]
  },
  {
   "cell_type": "code",
   "execution_count": null,
   "metadata": {
    "collapsed": false
   },
   "outputs": [],
   "source": [
    "d = gint(4)\n",
    "print d, type(d)"
   ]
  },
  {
   "cell_type": "code",
   "execution_count": null,
   "metadata": {
    "collapsed": false
   },
   "outputs": [],
   "source": [
    "class hint(int):\n",
    "    pass\n",
    "\n",
    "e = hint(5)\n",
    "print e, type(e)\n",
    "print isinstance(e, hint), isinstance(e, int)"
   ]
  },
  {
   "cell_type": "code",
   "execution_count": null,
   "metadata": {
    "collapsed": false
   },
   "outputs": [],
   "source": [
    "# Is this ok?\n",
    "print (-5).__abs__()"
   ]
  },
  {
   "cell_type": "markdown",
   "metadata": {},
   "source": [
    "## Relaxation Methods: The Jacobi Method\n",
    "### Solving a linear set of equations"
   ]
  },
  {
   "cell_type": "markdown",
   "metadata": {},
   "source": [
    "#### "
   ]
  },
  {
   "cell_type": "code",
   "execution_count": 105,
   "metadata": {
    "collapsed": false
   },
   "outputs": [
    {
     "name": "stdout",
     "output_type": "stream",
     "text": [
      "The diagonal elements:\n",
      "[ 10.  11.  10.   8.]\n",
      "The diagonal matrix:\n",
      "[[ 10.   0.   0.   0.]\n",
      " [  0.  11.   0.   0.]\n",
      " [  0.   0.  10.   0.]\n",
      " [  0.   0.   0.   8.]]\n",
      "The remainder matrix:\n",
      "[[ 0. -1.  2.  0.]\n",
      " [-1.  0. -1.  3.]\n",
      " [ 2. -1.  0. -1.]\n",
      " [ 0.  3. -1.  0.]]\n",
      "System of Linear Equations:\n",
      "10.0*x1 + -1.0*x2 + 2.0*x3 + 0.0*x4=6.0\n",
      "-1.0*x1 + 11.0*x2 + -1.0*x3 + 3.0*x4=25.0\n",
      "2.0*x1 + -1.0*x2 + 10.0*x3 + -1.0*x4=-11.0\n",
      "0.0*x1 + 3.0*x2 + -1.0*x3 + 8.0*x4=15.0\n",
      "\n",
      "\n",
      "\n",
      "Starting Jacobi method iterations...\n",
      "Iteration 0:[ 0.  0.  0.  0.]\n",
      "Iteration 1:[ 0.6         2.27272727 -1.1         1.875     ]\n",
      "Iteration 2:[ 1.04727273  1.71590909 -0.80522727  0.88522727]\n",
      "Iteration 3:[ 0.93263636  2.05330579 -1.04934091  1.13088068]\n",
      "Iteration 4:[ 1.01519876  1.95369576 -0.96810863  0.97384272]\n",
      "Iteration 5:[ 0.9889913   2.01141473 -1.0102859   1.02135051]\n",
      "Iteration 6:[ 1.00319865  1.99224126 -0.99452174  0.99443374]\n",
      "Iteration 7:[ 0.99812847  2.00230688 -1.00197223  1.00359431]\n",
      "Iteration 8:[ 1.00062513  1.9986703  -0.99903558  0.99888839]\n",
      "Iteration 9:[ 0.99967415  2.00044767 -1.00036916  1.00061919]\n",
      "Iteration 10:[ 1.0001186   1.99976795 -0.99982814  0.99978598]\n",
      "Iteration 11:[ 0.99994242  2.00008477 -1.00006833  1.0001085 ]\n",
      "Iteration 12:[ 1.00002214  1.99995896 -0.99996916  0.99995967]\n",
      "Tolerance achieved.  Printing results...\n",
      "\n",
      "\n",
      "\n",
      "Solution: [ 1.00002214  1.99995896 -0.99996916  0.99995967]\n",
      "Estimated Error: [  5.40253742e-05  -2.50155983e-05  -3.94622250e-05  -3.17737171e-05]\n"
     ]
    }
   ],
   "source": [
    "import numpy as np\n",
    "\n",
    "max_iter = 100\n",
    "\n",
    "# initialize the matrix\n",
    "A = np.array([[10., -1., 2., 0.],\n",
    "              [-1., 11., -1., 3.],\n",
    "              [2., -1., 10., -1.],\n",
    "              [0.0, 3., -1., 8.]])\n",
    "\n",
    "D = np.diag(A)\n",
    "print \"The diagonal elements:\\n\", D\n",
    "print \"The diagonal matrix:\\n\", np.diagflat(D)\n",
    "R = A - np.diagflat(D)\n",
    "print \"The remainder matrix:\\n\", R\n",
    "\n",
    "# initialize the RHS vector\n",
    "b = np.array([6., 25., -11., 15.])\n",
    "\n",
    "\n",
    "# prints the linear system\n",
    "print(\"System of Linear Equations:\")\n",
    "for i in range(A.shape[0]):\n",
    "    row = [\"{}*x{}\".format(A[i, j], j + 1) for j in range(A.shape[1])]\n",
    "    print \" + \".join(row) + \"=\" + str(b[i])\n",
    "print '\\n\\n'\n",
    "\n",
    "# Initial Guess: Usually you would want an \"educated\" guess, \n",
    "# typcially x_guess = D^(-1)b. \n",
    "# But because the method is so robust, it hardly matters...\n",
    "# We will try all 0's and a set of random numbers.\n",
    "x = np.zeros(b.shape)\n",
    "#x = np.random.rand(b.shape[0])\n",
    "# specify tolerance\n",
    "tol = 1e-4\n",
    "\n",
    "counter = 0\n",
    "print 'Starting Jacobi method iterations...'\n",
    "while counter < max_iter:\n",
    "    print \"Iteration {:d}:{}\".format(counter, x)\n",
    "    # Just to create a numpy array that has the same dimension as x.\n",
    "    x_new = np.empty(x.shape)\n",
    "\n",
    "    for i in range(A.shape[0]):\n",
    "        # np.dot computes dot product\n",
    "        \n",
    "        s = np.dot(R[i,], x)\n",
    "        x_new[i] = (b[i] - s) / A[i, i]\n",
    "            \n",
    "    counter += 1      \n",
    "    # Returns True if two arrays are element-wise equal within a tolerance.\n",
    "    if np.allclose(x, x_new, rtol=tol):\n",
    "        print 'Tolerance achieved.  Printing results...'\n",
    "        break      \n",
    "    else:\n",
    "        if counter == max_iter:\n",
    "            raise Exception('max_iter exceeded!')\n",
    "\n",
    "    x = x_new\n",
    "\n",
    "print '\\n\\n'\n",
    "print \"Solution:\", x \n",
    "print \"Estimated Error:\", (np.dot(A, x) - b)/b "
   ]
  },
  {
   "cell_type": "markdown",
   "metadata": {},
   "source": [
    "#### z.shape() gives you size of object, i.e. z.shape((5,2)) gives 5 by 2 matrix.\n",
    "#### np.empty() gives you list of random numbers of desired size."
   ]
  },
  {
   "cell_type": "code",
   "execution_count": 104,
   "metadata": {
    "collapsed": false
   },
   "outputs": [
    {
     "name": "stdout",
     "output_type": "stream",
     "text": [
      "5\n",
      "[[ 0.  0.]\n",
      " [ 0.  0.]\n",
      " [ 0.  0.]\n",
      " [ 0.  0.]\n",
      " [ 0.  0.]]\n",
      "[[ 0.  0.]\n",
      " [ 0.  0.]\n",
      " [ 0.  0.]\n",
      " [ 0.  0.]\n",
      " [ 0.  0.]]\n"
     ]
    }
   ],
   "source": [
    "import numpy as np\n",
    "\n",
    "z = np.empty((5,2))    ## Row x Column\n",
    "print z.shape[0]\n",
    "print z\n",
    "w = np.zeros(z.shape)\n",
    "print w"
   ]
  },
  {
   "cell_type": "markdown",
   "metadata": {},
   "source": [
    "## Relaxation Methods: The Laplace Equation\n"
   ]
  },
  {
   "cell_type": "markdown",
   "metadata": {},
   "source": [
    "More at http://en.wikipedia.org/wiki/Relaxation_(iterative_method)"
   ]
  },
  {
   "cell_type": "markdown",
   "metadata": {},
   "source": [
    "## The Physics:\n",
    "### This corresponds to the electric potential of a parallel plate capacitor \n",
    "### (length, width >> thickness)"
   ]
  },
  {
   "cell_type": "code",
   "execution_count": 107,
   "metadata": {
    "collapsed": false
   },
   "outputs": [
    {
     "name": "stdout",
     "output_type": "stream",
     "text": [
      "[ 0.          0.09998692  0.19997634  0.29996902  0.39996537  0.49996537\n",
      "  0.59996867  0.69997466  0.79998249  0.89999124  1.        ]\n"
     ]
    },
    {
     "data": {
      "image/png": "[encoded data removed]",
      "text/plain": [
       "<matplotlib.figure.Figure at 0x10bedcd90>"
      ]
     },
     "metadata": {},
     "output_type": "display_data"
    }
   ],
   "source": [
    "%matplotlib inline\n",
    "import sys\n",
    "import numpy as np\n",
    "import matplotlib.pyplot as plt\n",
    "\n",
    "NX = 11\n",
    "\n",
    "#initialization\n",
    "V = np.zeros(NX)\n",
    "\n",
    "#Boundary Conditions:\n",
    "V[NX-1] = 1.\n",
    "V[0] = 0\n",
    "maxdiff = 1e-6\n",
    "diff = 1\n",
    "x = np.arange(NX)\n",
    "\n",
    "while diff > maxdiff:\n",
    "    for i in range(1, NX-1):    # start from 1 and end at NX-1: because you don't want to change the BC!!!!  \n",
    "        newV = (V[i-1]+V[i+1])/2\n",
    "        diff = abs(newV - V[i])\n",
    "        V[i] = newV\n",
    "        prev_diff = abs(newV - V[i])\n",
    "        if diff < prev_diff:\n",
    "            diff = prev_diff\n",
    "   \n",
    "            \n",
    "print V\n",
    "plt.plot(x, V)\n",
    "plt.show()\n",
    "          "
   ]
  },
  {
   "cell_type": "code",
   "execution_count": 110,
   "metadata": {
    "collapsed": false
   },
   "outputs": [
    {
     "name": "stdout",
     "output_type": "stream",
     "text": [
      "[ 0.85735718  0.62817881  0.75381399  0.40289112  0.39108324  0.34410828\n",
      "  0.06548881  0.64726373  0.88260371  0.98183031  0.40285877]\n",
      "[ 0.          0.09998626  0.19997515  0.29996747  0.39996363  0.49996363\n",
      "  0.59996711  0.69997339  0.79998161  0.89999081  1.        ]\n"
     ]
    },
    {
     "data": {
      "image/png": "[encoded data removed]",
      "text/plain": [
       "<matplotlib.figure.Figure at 0x10c63add0>"
      ]
     },
     "metadata": {},
     "output_type": "display_data"
    }
   ],
   "source": [
    "%matplotlib inline\n",
    "# I can use random numbers to initialize the interior points.\n",
    "\n",
    "import numpy as np\n",
    "from numpy.random import rand\n",
    "import matplotlib.pyplot as plt\n",
    "\n",
    "NX = 11\n",
    "\n",
    "#initialization\n",
    "V = rand(NX)    #yes I can initialize with random numbers!\n",
    "\n",
    "\n",
    "#V = rand(NX)*1e12    # or even crazily large random numbers!\n",
    "\n",
    "print V\n",
    "\n",
    "#Boundary Conditions:\n",
    "V[NX-1] = 1.\n",
    "V[0] = 0\n",
    "maxdiff = 1e-6\n",
    "diff = 1\n",
    "x = np.arange(NX)\n",
    "\n",
    "while diff > maxdiff:\n",
    "    for i in range(1, NX-1):    # start from 1 and end at NX-1: because you don't want to change the BC!!!!  \n",
    "        newV = (V[i-1]+V[i+1])/2\n",
    "        diff = abs(newV - V[i])\n",
    "        V[i] = newV\n",
    " \n",
    "  \n",
    "            \n",
    "print V\n",
    "plt.plot(x, V)\n",
    "plt.show()\n",
    "\n",
    "# A very robust method!\n",
    "        "
   ]
  },
  {
   "cell_type": "markdown",
   "metadata": {},
   "source": [
    "## Breakout Problem:\n",
    "### For a long rectangular tube (say 10 by 10), the potential on two opposite sides = 1 volt, and the potential on the other two sides = 0.  \n",
    "### Write a program to find V(x, y) in the interior of the tube. \n",
    "### Then plot the result as a surface plot."
   ]
  },
  {
   "cell_type": "code",
   "execution_count": 13,
   "metadata": {
    "collapsed": false
   },
   "outputs": [
    {
     "name": "stdout",
     "output_type": "stream",
     "text": [
      "[[  1.00000000e+000   0.00000000e+000   0.00000000e+000   0.00000000e+000\n",
      "    0.00000000e+000   0.00000000e+000   0.00000000e+000   0.00000000e+000\n",
      "    0.00000000e+000   0.00000000e+000   0.00000000e+000   0.00000000e+000\n",
      "    0.00000000e+000   0.00000000e+000   1.00000000e+000]\n",
      " [  1.00000000e+000   0.00000000e+000   0.00000000e+000   0.00000000e+000\n",
      "    0.00000000e+000   0.00000000e+000   0.00000000e+000   0.00000000e+000\n",
      "    0.00000000e+000   0.00000000e+000   0.00000000e+000   0.00000000e+000\n",
      "    0.00000000e+000   0.00000000e+000   1.00000000e+000]\n",
      " [  1.00000000e+000   0.00000000e+000   0.00000000e+000   0.00000000e+000\n",
      "    0.00000000e+000   0.00000000e+000   0.00000000e+000   0.00000000e+000\n",
      "    0.00000000e+000   0.00000000e+000   0.00000000e+000   0.00000000e+000\n",
      "    0.00000000e+000   0.00000000e+000   1.00000000e+000]\n",
      " [  1.00000000e+000   0.00000000e+000   0.00000000e+000   0.00000000e+000\n",
      "    0.00000000e+000   0.00000000e+000   0.00000000e+000   0.00000000e+000\n",
      "    0.00000000e+000   0.00000000e+000   0.00000000e+000   0.00000000e+000\n",
      "    0.00000000e+000   0.00000000e+000   1.00000000e+000]\n",
      " [  1.00000000e+000   0.00000000e+000   0.00000000e+000   0.00000000e+000\n",
      "    0.00000000e+000   0.00000000e+000   0.00000000e+000   0.00000000e+000\n",
      "    0.00000000e+000   0.00000000e+000   0.00000000e+000   0.00000000e+000\n",
      "    0.00000000e+000   0.00000000e+000   1.00000000e+000]\n",
      " [  1.00000000e+000   0.00000000e+000   0.00000000e+000   0.00000000e+000\n",
      "    0.00000000e+000   0.00000000e+000   0.00000000e+000   0.00000000e+000\n",
      "    0.00000000e+000   0.00000000e+000   0.00000000e+000   0.00000000e+000\n",
      "    0.00000000e+000   0.00000000e+000   1.00000000e+000]\n",
      " [  1.00000000e+000   0.00000000e+000   0.00000000e+000   0.00000000e+000\n",
      "    0.00000000e+000   0.00000000e+000   0.00000000e+000   0.00000000e+000\n",
      "    0.00000000e+000   0.00000000e+000   0.00000000e+000   0.00000000e+000\n",
      "    0.00000000e+000   0.00000000e+000   1.00000000e+000]\n",
      " [  1.00000000e+000   0.00000000e+000   0.00000000e+000   0.00000000e+000\n",
      "    0.00000000e+000   0.00000000e+000   0.00000000e+000   0.00000000e+000\n",
      "    0.00000000e+000   0.00000000e+000   0.00000000e+000   0.00000000e+000\n",
      "    0.00000000e+000   0.00000000e+000   1.00000000e+000]\n",
      " [  1.00000000e+000   0.00000000e+000   0.00000000e+000   0.00000000e+000\n",
      "    0.00000000e+000   0.00000000e+000   0.00000000e+000   0.00000000e+000\n",
      "    0.00000000e+000   0.00000000e+000   0.00000000e+000   0.00000000e+000\n",
      "    0.00000000e+000   0.00000000e+000   1.00000000e+000]\n",
      " [  1.00000000e+000   0.00000000e+000   0.00000000e+000   0.00000000e+000\n",
      "    0.00000000e+000   0.00000000e+000   0.00000000e+000   0.00000000e+000\n",
      "    0.00000000e+000   0.00000000e+000   0.00000000e+000   0.00000000e+000\n",
      "    0.00000000e+000   0.00000000e+000   1.00000000e+000]\n",
      " [  1.00000000e+000   0.00000000e+000   0.00000000e+000   0.00000000e+000\n",
      "    0.00000000e+000   0.00000000e+000   0.00000000e+000   0.00000000e+000\n",
      "    0.00000000e+000   0.00000000e+000   0.00000000e+000   0.00000000e+000\n",
      "    0.00000000e+000   0.00000000e+000   1.00000000e+000]\n",
      " [  1.00000000e+000   0.00000000e+000   0.00000000e+000   0.00000000e+000\n",
      "    0.00000000e+000   0.00000000e+000   0.00000000e+000   0.00000000e+000\n",
      "    0.00000000e+000   0.00000000e+000   0.00000000e+000   0.00000000e+000\n",
      "    0.00000000e+000   0.00000000e+000   1.00000000e+000]\n",
      " [  1.00000000e+000   0.00000000e+000   0.00000000e+000   0.00000000e+000\n",
      "    0.00000000e+000   0.00000000e+000   0.00000000e+000   0.00000000e+000\n",
      "    0.00000000e+000   0.00000000e+000   0.00000000e+000   0.00000000e+000\n",
      "   -3.10503618e+231  -3.10503637e+231   1.00000000e+000]\n",
      " [  1.00000000e+000   0.00000000e+000   0.00000000e+000   0.00000000e+000\n",
      "    0.00000000e+000   0.00000000e+000   0.00000000e+000   0.00000000e+000\n",
      "    0.00000000e+000   0.00000000e+000   0.00000000e+000   0.00000000e+000\n",
      "    0.00000000e+000   0.00000000e+000   1.00000000e+000]\n",
      " [  1.00000000e+000   0.00000000e+000   0.00000000e+000   0.00000000e+000\n",
      "    0.00000000e+000   0.00000000e+000   0.00000000e+000   0.00000000e+000\n",
      "    0.00000000e+000   0.00000000e+000   0.00000000e+000   0.00000000e+000\n",
      "    0.00000000e+000   0.00000000e+000   1.00000000e+000]]\n",
      "[[ 1.          0.          0.          0.          0.          0.          0.\n",
      "   0.          0.          0.          0.          0.          0.          0.\n",
      "   1.        ]\n",
      " [ 1.          0.4999657   0.30276062  0.21121195  0.16317865  0.13664765\n",
      "   0.1229924   0.1187565   0.12299895  0.13665977  0.16319443  0.21122874\n",
      "   0.30277524  0.49997471  1.        ]\n",
      " [ 1.          0.69710896  0.49987604  0.37892339  0.3048726   0.26043888\n",
      "   0.23658544  0.22905433  0.2365979   0.26046192  0.30490261  0.37895531\n",
      "   0.49990383  0.69712609  1.        ]\n",
      " [ 1.          0.78860534  0.62072928  0.49975669  0.41697742  0.36368035\n",
      "   0.33388762  0.3243083   0.33390508  0.36371263  0.41701945  0.49980142\n",
      "   0.62076822  0.78862933  1.        ]\n",
      " [ 1.          0.83659797  0.69470277  0.58242769  0.49963637  0.44345714\n",
      "   0.4110172   0.4004261   0.41103854  0.4434966   0.49968775  0.58248237\n",
      "   0.69475038  0.83662731  1.        ]\n",
      " [ 1.          0.86310139  0.73908405  0.63565129  0.55572578  0.49954101\n",
      "   0.46634562  0.45538692  0.46636959  0.49958534  0.55578351  0.63571273\n",
      "   0.73913754  0.86313435  1.        ]\n",
      " [ 1.          0.87674285  0.76291128  0.6654073   0.58812082  0.53268595\n",
      "   0.49948917  0.48845696  0.49951447  0.53273272  0.58818172  0.6654721\n",
      "   0.76296771  0.87677762  1.        ]\n",
      " [ 1.          0.88097874  0.77044239  0.67498661  0.59871192  0.54364465\n",
      "   0.51052139  0.49948917  0.51054668  0.54369142  0.59877282  0.67505142\n",
      "   0.77049882  0.88101351  1.        ]\n",
      " [ 1.          0.87674941  0.76292374  0.66542475  0.58814216  0.53270993\n",
      "   0.49951447  0.48848225  0.49953851  0.53275438  0.58820005  0.66548635\n",
      "   0.76297737  0.87678245  1.        ]\n",
      " [ 1.          0.86311351  0.73910709  0.63568357  0.55576524  0.49958534\n",
      "   0.46639238  0.45543369  0.46641404  0.49962539  0.55581739  0.63573907\n",
      "   0.73915541  0.86314328  1.        ]\n",
      " [ 1.          0.83661376  0.69473277  0.58246973  0.49968775  0.44351487\n",
      "   0.4110781   0.400487    0.41109643  0.44354875  0.49973188  0.58251668\n",
      "   0.69477365  0.83663895  1.        ]\n",
      " [ 1.          0.78862213  0.6207612   0.49980142  0.4170321   0.36374178\n",
      "   0.33395243  0.32437311  0.33396667  0.36376813  0.4170664   0.49983793\n",
      "   0.62079299  0.78864172  1.        ]\n",
      " [ 1.          0.69712359  0.49990383  0.37896233  0.30492021  0.26049237\n",
      "   0.23664187  0.22911076  0.23665153  0.26051024  0.30494349  0.3789871\n",
      "   0.4999254   0.69713687  1.        ]\n",
      " [ 1.          0.49997471  0.30277774  0.21123594  0.16320799  0.13668061\n",
      "   0.12302717  0.11879127  0.123032    0.13668955  0.16321962  0.21124833\n",
      "   0.30278853  0.49998135  1.        ]\n",
      " [ 1.          0.          0.          0.          0.          0.          0.\n",
      "   0.          0.          0.          0.          0.          0.          0.\n",
      "   1.        ]]\n"
     ]
    }
   ],
   "source": [
    "%matplotlib osx\n",
    "import sys\n",
    "import numpy as np\n",
    "import matplotlib.pyplot as plt\n",
    "from mpl_toolkits.mplot3d import axes3d\n",
    "from matplotlib import cm\n",
    "\n",
    "NX = 15\n",
    "NY = 15\n",
    "\n",
    "#initialization\n",
    "V = np.empty((NX,NY))\n",
    "\n",
    "#Boundary Conditions:\n",
    "V[0,:] = 0\n",
    "V[NX-1, :] = 0\n",
    "V[:, 0] = 1\n",
    "V[:, NY-1] = 1\n",
    "print V\n",
    "    \n",
    "\n",
    "maxdiff = 1e-6\n",
    "diff = 1\n",
    "x = np.arange(NX)\n",
    "y = np.arange(NY)\n",
    "\n",
    "while diff > maxdiff:\n",
    "    for i in range(1, NX-1):    # start from 1 and end at NX-1: because you don't want to change the BC!!!!  \n",
    "        for j in range(1, NY-1):\n",
    "            newV = (V[i, j-1] + V[i, j+1] + V[i-1, j] + V[i+1, j])/4\n",
    "            diff = abs(newV - V[i, j])\n",
    "            V[i, j] = newV\n",
    "   \n",
    "            \n",
    "print V\n",
    "fig = plt.figure()\n",
    "ax = fig.add_subplot(111, projection = '3d')\n",
    "ax.plot_surface(x, y, V, rstride = 1, cstride = 1, cmap=cm.coolwarm, linewidth = 0)\n",
    "plt.show()"
   ]
  },
  {
   "cell_type": "markdown",
   "metadata": {},
   "source": [
    "## We will see the connection between PDE and linear algebra next week."
   ]
  },
  {
   "cell_type": "markdown",
   "metadata": {},
   "source": [
    "## End of week 7-2"
   ]
  }
 ],
 "metadata": {
  "kernelspec": {
   "display_name": "Python 2",
   "language": "python",
   "name": "python2"
  },
  "language_info": {
   "codemirror_mode": {
    "name": "ipython",
    "version": 2
   },
   "file_extension": ".py",
   "mimetype": "text/x-python",
   "name": "python",
   "nbconvert_exporter": "python",
   "pygments_lexer": "ipython2",
   "version": "2.7.9"
  }
 },
 "nbformat": 4,
 "nbformat_minor": 0
}

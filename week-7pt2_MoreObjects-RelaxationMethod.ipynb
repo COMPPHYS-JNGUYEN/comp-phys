{
 "cells": [
  {
   "cell_type": "markdown",
   "metadata": {},
   "source": [
    "# Topics\n",
    "## 1. A Deeper Understanding of Objects in Python\n",
    "## 2. Relaxation Method\n"
   ]
  },
  {
   "cell_type": "markdown",
   "metadata": {},
   "source": [
    "## Everything in Python is an Object...for example:"
   ]
  },
  {
   "cell_type": "markdown",
   "metadata": {},
   "source": [
    "#### b = int(3) more than assignment: it's an instantiation of 3 into class int()"
   ]
  },
  {
   "cell_type": "code",
   "execution_count": null,
   "metadata": {
    "collapsed": false
   },
   "outputs": [],
   "source": [
    "''' \n",
    "a = 2 in python has a very different meaning\n",
    "from int a = 2 in c.\n",
    "'''\n",
    "a = 2\n",
    "b = int(3)\n",
    "print a, b\n",
    "# __...__ : double underscore, or \"dunder\"\n",
    "#print dir(a)"
   ]
  },
  {
   "cell_type": "code",
   "execution_count": null,
   "metadata": {
    "collapsed": false
   },
   "outputs": [],
   "source": [
    "print a.__abs__(), b.__abs__()"
   ]
  },
  {
   "cell_type": "code",
   "execution_count": null,
   "metadata": {
    "collapsed": false
   },
   "outputs": [],
   "source": [
    "# The default value at instantiation is 0\n",
    "c = int()\n",
    "print c"
   ]
  },
  {
   "cell_type": "code",
   "execution_count": null,
   "metadata": {
    "collapsed": true
   },
   "outputs": [],
   "source": [
    "# Is it legal? If so, what does this mean? If not, why not? \n",
    "gint = int"
   ]
  },
  {
   "cell_type": "code",
   "execution_count": null,
   "metadata": {
    "collapsed": false
   },
   "outputs": [],
   "source": [
    "d = gint(4)\n",
    "print d, type(d)"
   ]
  },
  {
   "cell_type": "code",
   "execution_count": null,
   "metadata": {
    "collapsed": false
   },
   "outputs": [],
   "source": [
    "class hint(int):\n",
    "    pass\n",
    "\n",
    "e = hint(5)\n",
    "print e, type(e)\n",
    "print isinstance(e, hint), isinstance(e, int)"
   ]
  },
  {
   "cell_type": "code",
   "execution_count": null,
   "metadata": {
    "collapsed": false
   },
   "outputs": [],
   "source": [
    "# Is this ok?\n",
    "print (-5).__abs__()"
   ]
  },
  {
   "cell_type": "markdown",
   "metadata": {},
   "source": [
    "## Relaxation Methods: The Jacobi Method\n",
    "### Solving a linear set of equations"
   ]
  },
  {
   "cell_type": "markdown",
   "metadata": {},
   "source": [
    "#### "
   ]
  },
  {
   "cell_type": "code",
   "execution_count": 105,
   "metadata": {
    "collapsed": false
   },
   "outputs": [
    {
     "name": "stdout",
     "output_type": "stream",
     "text": [
      "The diagonal elements:\n",
      "[ 10.  11.  10.   8.]\n",
      "The diagonal matrix:\n",
      "[[ 10.   0.   0.   0.]\n",
      " [  0.  11.   0.   0.]\n",
      " [  0.   0.  10.   0.]\n",
      " [  0.   0.   0.   8.]]\n",
      "The remainder matrix:\n",
      "[[ 0. -1.  2.  0.]\n",
      " [-1.  0. -1.  3.]\n",
      " [ 2. -1.  0. -1.]\n",
      " [ 0.  3. -1.  0.]]\n",
      "System of Linear Equations:\n",
      "10.0*x1 + -1.0*x2 + 2.0*x3 + 0.0*x4=6.0\n",
      "-1.0*x1 + 11.0*x2 + -1.0*x3 + 3.0*x4=25.0\n",
      "2.0*x1 + -1.0*x2 + 10.0*x3 + -1.0*x4=-11.0\n",
      "0.0*x1 + 3.0*x2 + -1.0*x3 + 8.0*x4=15.0\n",
      "\n",
      "\n",
      "\n",
      "Starting Jacobi method iterations...\n",
      "Iteration 0:[ 0.  0.  0.  0.]\n",
      "Iteration 1:[ 0.6         2.27272727 -1.1         1.875     ]\n",
      "Iteration 2:[ 1.04727273  1.71590909 -0.80522727  0.88522727]\n",
      "Iteration 3:[ 0.93263636  2.05330579 -1.04934091  1.13088068]\n",
      "Iteration 4:[ 1.01519876  1.95369576 -0.96810863  0.97384272]\n",
      "Iteration 5:[ 0.9889913   2.01141473 -1.0102859   1.02135051]\n",
      "Iteration 6:[ 1.00319865  1.99224126 -0.99452174  0.99443374]\n",
      "Iteration 7:[ 0.99812847  2.00230688 -1.00197223  1.00359431]\n",
      "Iteration 8:[ 1.00062513  1.9986703  -0.99903558  0.99888839]\n",
      "Iteration 9:[ 0.99967415  2.00044767 -1.00036916  1.00061919]\n",
      "Iteration 10:[ 1.0001186   1.99976795 -0.99982814  0.99978598]\n",
      "Iteration 11:[ 0.99994242  2.00008477 -1.00006833  1.0001085 ]\n",
      "Iteration 12:[ 1.00002214  1.99995896 -0.99996916  0.99995967]\n",
      "Tolerance achieved.  Printing results...\n",
      "\n",
      "\n",
      "\n",
      "Solution: [ 1.00002214  1.99995896 -0.99996916  0.99995967]\n",
      "Estimated Error: [  5.40253742e-05  -2.50155983e-05  -3.94622250e-05  -3.17737171e-05]\n"
     ]
    }
   ],
   "source": [
    "import numpy as np\n",
    "\n",
    "def jacobi_meth(A, b, max_iter=100 , tol=1e-6 , x_guess=np.array([0, 0, 0, 0])):\n",
    "    # max_iter = 100\n",
    "\n",
    "    # initialize the matrix\n",
    "    # A = np.array([[10., -1., 2., 0.],\n",
    "    #               [-1., 11., -1., 3.],\n",
    "    #               [2., -1., 10., -1.],\n",
    "    #               [0.0, 3., -1., 8.]])\n",
    "\n",
    "    D = np.diag(A)\n",
    "    print \"The diagonal elements:\\n\", D\n",
    "    print \"The diagonal matrix:\\n\", np.diagflat(D)\n",
    "    R = A - np.diagflat(D)\n",
    "    print \"The remainder matrix:\\n\", R\n",
    "\n",
    "    # initialize the RHS vector\n",
    "#     b = np.array([6., 25., -11., 15.])\n",
    "\n",
    "\n",
    "    # prints the linear system\n",
    "#     print(\"System of Linear Equations:\")\n",
    "#     for i in range(A.shape[0]):\n",
    "#         row = [\"{}*x{}\".format(A[i, j], j + 1) for j in range(A.shape[1])]\n",
    "#         print \" + \".join(row) + \"=\" + str(b[i])\n",
    "#     print '\\n\\n'\n",
    "\n",
    "    # Initial Guess: Usually you would want an \"educated\" guess, \n",
    "    # typcially x_guess = D^(-1)b. \n",
    "    # But because the method is so robust, it hardly matters...\n",
    "    # We will try all 0's and a set of random numbers.\n",
    "    x = np.zeros(b.shape)\n",
    "    #x = np.random.rand(b.shape[0])\n",
    "    # specify tolerance\n",
    "    tol = 1e-4\n",
    "\n",
    "    counter = 0\n",
    "    print 'Starting Jacobi method iterations...'\n",
    "    while counter < max_iter:\n",
    "        print \"Iteration {:d}:{}\".format(counter, x)\n",
    "        # Just to create a numpy array that has the same dimension as x.\n",
    "        x_new = np.empty(x.shape)\n",
    "\n",
    "        for i in range(A.shape[0]):\n",
    "            # np.dot computes dot product\n",
    "\n",
    "            s = np.dot(R[i,], x)\n",
    "            x_new[i] = (b[i] - s) / A[i, i]\n",
    "\n",
    "        counter += 1      \n",
    "        # Returns True if two arrays are element-wise equal within a tolerance.\n",
    "        if np.allclose(x, x_new, rtol=tol):\n",
    "            print 'Tolerance achieved.  Printing results...'\n",
    "            break      \n",
    "        else:\n",
    "            if counter == max_iter:\n",
    "                raise Exception('max_iter exceeded!')\n",
    "\n",
    "        x = x_new\n",
    "\n",
    "    print '\\n\\n'\n",
    "    print \"Solution:\", x \n",
    "    print \"Estimated Error:\", (np.dot(A, x) - b)/b "
   ]
  },
  {
   "cell_type": "markdown",
   "metadata": {},
   "source": [
    "#### z.shape() gives you size of object, i.e. z.shape((5,2)) gives 5 by 2 matrix.\n",
    "#### np.empty() gives you list of random numbers of desired size."
   ]
  },
  {
   "cell_type": "code",
   "execution_count": 104,
   "metadata": {
    "collapsed": false
   },
   "outputs": [
    {
     "name": "stdout",
     "output_type": "stream",
     "text": [
      "5\n",
      "[[ 0.  0.]\n",
      " [ 0.  0.]\n",
      " [ 0.  0.]\n",
      " [ 0.  0.]\n",
      " [ 0.  0.]]\n",
      "[[ 0.  0.]\n",
      " [ 0.  0.]\n",
      " [ 0.  0.]\n",
      " [ 0.  0.]\n",
      " [ 0.  0.]]\n"
     ]
    }
   ],
   "source": [
    "import numpy as np\n",
    "\n",
    "z = np.empty((5,2))    ## Row x Column\n",
    "print z.shape[0]\n",
    "print z\n",
    "w = np.zeros(z.shape)\n",
    "print w"
   ]
  },
  {
   "cell_type": "markdown",
   "metadata": {},
   "source": [
    "## Relaxation Methods: The Laplace Equation\n"
   ]
  },
  {
   "cell_type": "markdown",
   "metadata": {},
   "source": [
    "More at http://en.wikipedia.org/wiki/Relaxation_(iterative_method)"
   ]
  },
  {
   "cell_type": "markdown",
   "metadata": {},
   "source": [
    "## The Physics:\n",
    "### This corresponds to the electric potential of a parallel plate capacitor \n",
    "### (length, width >> thickness)"
   ]
  },
  {
   "cell_type": "code",
   "execution_count": 107,
   "metadata": {
    "collapsed": false
   },
   "outputs": [
    {
     "name": "stdout",
     "output_type": "stream",
     "text": [
      "[ 0.          0.09998692  0.19997634  0.29996902  0.39996537  0.49996537\n",
      "  0.59996867  0.69997466  0.79998249  0.89999124  1.        ]\n"
     ]
    },
    {
     "data": {
      "image/png": "[encoded data removed]",
      "text/plain": [
       "<matplotlib.figure.Figure at 0x10bedcd90>"
      ]
     },
     "metadata": {},
     "output_type": "display_data"
    }
   ],
   "source": [
    "%matplotlib inline\n",
    "import sys\n",
    "import numpy as np\n",
    "import matplotlib.pyplot as plt\n",
    "\n",
    "NX = 11\n",
    "\n",
    "#initialization\n",
    "V = np.zeros(NX)\n",
    "\n",
    "#Boundary Conditions:\n",
    "V[NX-1] = 1.\n",
    "V[0] = 0\n",
    "maxdiff = 1e-6\n",
    "diff = 1\n",
    "x = np.arange(NX)\n",
    "\n",
    "while diff > maxdiff:\n",
    "    for i in range(1, NX-1):    # start from 1 and end at NX-1: because you don't want to change the BC!!!!  \n",
    "        newV = (V[i-1]+V[i+1])/2\n",
    "        diff = abs(newV - V[i])\n",
    "        V[i] = newV\n",
    "        prev_diff = abs(newV - V[i])\n",
    "        if diff < prev_diff:\n",
    "            diff = prev_diff\n",
    "   \n",
    "            \n",
    "print V\n",
    "plt.plot(x, V)\n",
    "plt.show()\n",
    "          "
   ]
  },
  {
   "cell_type": "code",
   "execution_count": 110,
   "metadata": {
    "collapsed": false
   },
   "outputs": [
    {
     "name": "stdout",
     "output_type": "stream",
     "text": [
      "[ 0.85735718  0.62817881  0.75381399  0.40289112  0.39108324  0.34410828\n",
      "  0.06548881  0.64726373  0.88260371  0.98183031  0.40285877]\n",
      "[ 0.          0.09998626  0.19997515  0.29996747  0.39996363  0.49996363\n",
      "  0.59996711  0.69997339  0.79998161  0.89999081  1.        ]\n"
     ]
    },
    {
     "data": {
      "image/png": "[encoded data removed]",
      "text/plain": [
       "<matplotlib.figure.Figure at 0x10c63add0>"
      ]
     },
     "metadata": {},
     "output_type": "display_data"
    }
   ],
   "source": [
    "%matplotlib inline\n",
    "# I can use random numbers to initialize the interior points.\n",
    "\n",
    "import numpy as np\n",
    "from numpy.random import rand\n",
    "import matplotlib.pyplot as plt\n",
    "\n",
    "NX = 11\n",
    "\n",
    "#initialization\n",
    "V = rand(NX)    #yes I can initialize with random numbers!\n",
    "\n",
    "\n",
    "#V = rand(NX)*1e12    # or even crazily large random numbers!\n",
    "\n",
    "print V\n",
    "\n",
    "#Boundary Conditions:\n",
    "V[NX-1] = 1.\n",
    "V[0] = 0\n",
    "maxdiff = 1e-6\n",
    "diff = 1\n",
    "x = np.arange(NX)\n",
    "\n",
    "while diff > maxdiff:\n",
    "    for i in range(1, NX-1):    # start from 1 and end at NX-1: because you don't want to change the BC!!!!  \n",
    "        newV = (V[i-1]+V[i+1])/2\n",
    "        diff = abs(newV - V[i])\n",
    "        V[i] = newV\n",
    " \n",
    "  \n",
    "            \n",
    "print V\n",
    "plt.plot(x, V)\n",
    "plt.show()\n",
    "\n",
    "# A very robust method!\n",
    "        "
   ]
  },
  {
   "cell_type": "markdown",
   "metadata": {},
   "source": [
    "## Breakout Problem:\n",
    "### For a long rectangular tube (say 10 by 10), the potential on two opposite sides = 1 volt, and the potential on the other two sides = 0.  \n",
    "### Write a program to find V(x, y) in the interior of the tube. \n",
    "### Then plot the result as a surface plot."
   ]
  },
  {
   "cell_type": "code",
   "execution_count": 2,
   "metadata": {
    "collapsed": false
   },
   "outputs": [
    {
     "name": "stdout",
     "output_type": "stream",
     "text": [
      "[[  1.00000000e+000   0.00000000e+000   0.00000000e+000   0.00000000e+000\n",
      "    0.00000000e+000   0.00000000e+000   0.00000000e+000   0.00000000e+000\n",
      "    0.00000000e+000   0.00000000e+000   0.00000000e+000   0.00000000e+000\n",
      "    0.00000000e+000   0.00000000e+000   1.00000000e+000]\n",
      " [  1.00000000e+000   5.26354425e-315   2.00044441e+000   1.71537628e+002\n",
      "    1.58735232e-314   2.82104805e+004   2.35913306e-001   1.58735232e-314\n",
      "    2.82104564e+004   1.01806655e-001   1.58735232e-314   2.82104798e+004\n",
      "    5.82077020e-011   1.58735232e-314   1.00000000e+000]\n",
      " [  1.00000000e+000   5.26354425e-315   1.60199121e+004   1.15289020e+001\n",
      "    1.58735232e-314  -2.91259432e+000   3.00781309e-001   5.26354425e-315\n",
      "   -2.91259527e+000   2.89062538e+001   5.26354425e-315  -8.23437500e+000\n",
      "    4.59469071e+001   5.26354425e-315   1.00000000e+000]\n",
      " [  1.00000000e+000   9.09415072e-003   1.70404468e+003   8.57091431e+002\n",
      "    7.07204463e-008   4.38400817e+002   1.33448364e+003   5.26354425e-315\n",
      "    4.65634155e+001   2.67437383e+004   1.64874251e-007   4.65634381e+001\n",
      "    2.67437383e+004   1.58735232e-314   1.00000000e+000]\n",
      " [  1.00000000e+000   1.44376725e+012   4.54845199e+001   1.37184629e+004\n",
      "    4.29776668e+000   1.97675443e+000   6.91873145e+003   1.33451863e-006\n",
      "    1.22010838e-002   8.54241822e+002   5.26354425e-315   1.22010782e-002\n",
      "    8.54241822e+002   1.58735232e-314   1.00000000e+000]\n",
      " [  1.00000000e+000   4.48734365e-012   1.02591142e-001   4.84753132e+000\n",
      "    1.58735232e-314   1.02591127e-001   1.90696549e+000   1.58735232e-314\n",
      "    1.07736560e-005   3.16536570e+000   5.26354425e-315   1.07736614e-005\n",
      "    3.16536570e+000   1.58735232e-314   1.00000000e+000]\n",
      " [  1.00000000e+000   5.26354425e-315   1.05859629e+004   1.47246002e+002\n",
      "   -1.30571606e+003   2.25896446e+004   1.69848364e+003  -7.17175570e-005\n",
      "    1.22908766e+005   1.69848364e+003   1.58735232e-314   2.21831812e+005\n",
      "    7.69873145e+003  -7.90246557e-005   1.00000000e+000]\n",
      " [  1.00000000e+000  -7.62509530e+004   9.69617028e+004   1.60974629e+004\n",
      "    1.03232104e+003   1.68981713e+003   7.54273145e+003   6.05874788e-007\n",
      "    8.41411006e+002   1.80248364e+003   5.26354425e-315   8.41410991e+002\n",
      "    1.80248364e+003   5.61090109e-006   1.00000000e+000]\n",
      " [  1.00000000e+000   5.23866195e+001   6.30707715e+003   5.01477127e+001\n",
      "    1.58735232e-314   7.52498731e+003   4.63501969e+001   1.58735232e-314\n",
      "    1.68109337e+004   4.02802506e+001   1.58735232e-314   1.35917051e+004\n",
      "    4.02802506e+001   5.26354425e-315   1.00000000e+000]\n",
      " [  1.00000000e+000   0.00000000e+000   0.00000000e+000   0.00000000e+000\n",
      "    0.00000000e+000   0.00000000e+000   0.00000000e+000   0.00000000e+000\n",
      "    0.00000000e+000   0.00000000e+000   0.00000000e+000   0.00000000e+000\n",
      "    0.00000000e+000   0.00000000e+000   1.00000000e+000]\n",
      " [  1.00000000e+000   0.00000000e+000   0.00000000e+000   0.00000000e+000\n",
      "    0.00000000e+000   0.00000000e+000   0.00000000e+000   0.00000000e+000\n",
      "    0.00000000e+000   0.00000000e+000   0.00000000e+000   0.00000000e+000\n",
      "    0.00000000e+000   0.00000000e+000   1.00000000e+000]\n",
      " [  1.00000000e+000   0.00000000e+000   0.00000000e+000   0.00000000e+000\n",
      "    0.00000000e+000   0.00000000e+000   0.00000000e+000   0.00000000e+000\n",
      "    0.00000000e+000   0.00000000e+000   0.00000000e+000   0.00000000e+000\n",
      "    0.00000000e+000   0.00000000e+000   1.00000000e+000]\n",
      " [  1.00000000e+000   0.00000000e+000   0.00000000e+000   0.00000000e+000\n",
      "    0.00000000e+000   0.00000000e+000   0.00000000e+000   0.00000000e+000\n",
      "    0.00000000e+000   0.00000000e+000   0.00000000e+000   0.00000000e+000\n",
      "    0.00000000e+000   0.00000000e+000   1.00000000e+000]\n",
      " [  1.00000000e+000   0.00000000e+000   0.00000000e+000   0.00000000e+000\n",
      "    0.00000000e+000   0.00000000e+000   0.00000000e+000   0.00000000e+000\n",
      "    0.00000000e+000   0.00000000e+000   0.00000000e+000   0.00000000e+000\n",
      "    0.00000000e+000   0.00000000e+000   1.00000000e+000]\n",
      " [  1.00000000e+000   0.00000000e+000   0.00000000e+000   0.00000000e+000\n",
      "    0.00000000e+000   0.00000000e+000   0.00000000e+000   0.00000000e+000\n",
      "    0.00000000e+000   0.00000000e+000   0.00000000e+000   0.00000000e+000\n",
      "    0.00000000e+000   0.00000000e+000   1.00000000e+000]]\n",
      "[[ 1.          0.          0.          0.          0.          0.          0.\n",
      "   0.          0.          0.          0.          0.          0.          0.\n",
      "   1.        ]\n",
      " [ 1.          0.50003501  0.30289237  0.21139653  0.16340431  0.13690118\n",
      "   0.12325986  0.11902397  0.12325317  0.13688881  0.16338821  0.2113794\n",
      "   0.30287745  0.50002581  1.        ]\n",
      " [ 1.          0.69724072  0.5001265   0.37927428  0.30530158  0.26092083\n",
      "   0.23709387  0.22956277  0.23708116  0.26089732  0.30527096  0.3792417\n",
      "   0.50009813  0.69722324  1.        ]\n",
      " [ 1.          0.78878992  0.62108017  0.50024829  0.4175784   0.36435555\n",
      "   0.33459992  0.32502061  0.33458211  0.36432261  0.4175355   0.50020264\n",
      "   0.62104043  0.78876544  1.        ]\n",
      " [ 1.          0.83682364  0.69513174  0.58302867  0.50037108  0.44428258\n",
      "   0.41188801  0.4012969   0.41186623  0.44424232  0.50031864  0.58297287\n",
      "   0.69508316  0.8367937   1.        ]\n",
      " [ 1.          0.86335492  0.739566    0.63632649  0.55655122  0.50046839\n",
      "   0.46732396  0.45636526  0.46729949  0.50042315  0.55649231  0.6362638\n",
      "   0.73951142  0.86332128  1.        ]\n",
      " [ 1.          0.87701031  0.76341971  0.6661196   0.58899162  0.5336643\n",
      "   0.50052128  0.48948907  0.50049547  0.53361657  0.58892947  0.66605346\n",
      "   0.76336213  0.87697483  1.        ]\n",
      " [ 1.          0.88124621  0.77095082  0.67569891  0.59958272  0.54462299\n",
      "   0.5115535   0.50052128  0.51152769  0.54457527  0.59952057  0.67563278\n",
      "   0.77089324  0.88121073  1.        ]\n",
      " [ 1.          0.87700362  0.763407    0.66610178  0.58896985  0.53363983\n",
      "   0.50049547  0.48946326  0.50047094  0.53359447  0.58891077  0.66603892\n",
      "   0.76335227  0.8769699   1.        ]\n",
      " [ 1.          0.86334255  0.73954249  0.63629355  0.55651096  0.50042315\n",
      "   0.46727624  0.45631754  0.46725413  0.50038228  0.55645773  0.63623692\n",
      "   0.73949318  0.86331217  1.        ]\n",
      " [ 1.          0.83680753  0.69510113  0.58298578  0.50031864  0.44422367\n",
      "   0.41182585  0.40123475  0.41180715  0.44418909  0.50027361  0.58293787\n",
      "   0.69505941  0.83678182  1.        ]\n",
      " [ 1.          0.78877279  0.62104759  0.50020264  0.4175226   0.36429286\n",
      "   0.33453379  0.32495447  0.33451925  0.36426598  0.41748759  0.50016539\n",
      "   0.62101515  0.7887528   1.        ]\n",
      " [ 1.          0.6972258   0.50009813  0.37923454  0.30525299  0.26086625\n",
      "   0.23703629  0.22950518  0.23702643  0.26084801  0.30522924  0.37920927\n",
      "   0.50007613  0.69721224  1.        ]\n",
      " [ 1.          0.50002581  0.30287489  0.21137205  0.16337438  0.13686755\n",
      "   0.12322438  0.11898848  0.12321945  0.13685843  0.1633625   0.21135941\n",
      "   0.30286389  0.50001903  1.        ]\n",
      " [ 1.          0.          0.          0.          0.          0.          0.\n",
      "   0.          0.          0.          0.          0.          0.          0.\n",
      "   1.        ]]\n"
     ]
    }
   ],
   "source": [
    "%matplotlib osx\n",
    "import sys\n",
    "import numpy as np\n",
    "import matplotlib.pyplot as plt\n",
    "from mpl_toolkits.mplot3d import axes3d\n",
    "from matplotlib import cm\n",
    "\n",
    "NX = 15\n",
    "NY = 15\n",
    "\n",
    "diff_tol = 1e-6\n",
    "#initialization\n",
    "V = np.empty((NX,NY))\n",
    "\n",
    "#Boundary Conditions:\n",
    "V[0,:] = 0.\n",
    "V[NX-1, :] = 0.\n",
    "V[:, 0] = 1.\n",
    "V[:, NY-1] = 1.\n",
    "print V\n",
    "    \n",
    "\n",
    "maxdiff = 1e-6\n",
    "diff = 1\n",
    "x = np.arange(NX)\n",
    "y = np.arange(NY)\n",
    "\n",
    "while diff > maxdiff:\n",
    "    for i in range(1, NX-1):    # start from 1 and end at NX-1: because you don't want to change the BC!!!!  \n",
    "        for j in range(1, NY-1):\n",
    "            newV = (V[i, j-1] + V[i, j+1] + V[i-1, j] + V[i+1, j])/4\n",
    "            diff = abs(newV - V[i, j])\n",
    "            V[i, j] = newV\n",
    "   \n",
    "            \n",
    "print V\n",
    "fig = plt.figure()\n",
    "ax = fig.add_subplot(111, projection = '3d')\n",
    "ax.plot_surface(x, y, V, rstride = 1, cstride = 1, cmap=cm.coolwarm, linewidth = 0)\n",
    "plt.show()"
   ]
  },
  {
   "cell_type": "markdown",
   "metadata": {},
   "source": [
    "## We will see the connection between PDE and linear algebra next week."
   ]
  },
  {
   "cell_type": "markdown",
   "metadata": {},
   "source": [
    "## End of week 7-2"
   ]
  }
 ],
 "metadata": {
  "kernelspec": {
   "display_name": "Python 2",
   "language": "python",
   "name": "python2"
  },
  "language_info": {
   "codemirror_mode": {
    "name": "ipython",
    "version": 2
   },
   "file_extension": ".py",
   "mimetype": "text/x-python",
   "name": "python",
   "nbconvert_exporter": "python",
   "pygments_lexer": "ipython2",
   "version": "2.7.11"
  }
 },
 "nbformat": 4,
 "nbformat_minor": 0
}

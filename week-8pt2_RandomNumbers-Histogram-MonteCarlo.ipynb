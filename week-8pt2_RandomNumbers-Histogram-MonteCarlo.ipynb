{
 "cells": [
  {
   "cell_type": "markdown",
   "metadata": {},
   "source": [
    "# Topics\n",
    "\n",
    "## 1. Random Numbers and Histogram\n",
    "## 2. Monte Carlo"
   ]
  },
  {
   "cell_type": "markdown",
   "metadata": {
    "collapsed": false
   },
   "source": [
    "## random numbers and histogram\n",
    "### Distributions\n",
    "### 1. Uniform\n",
    "### 2. Gaussian\n",
    "### 3. Poisson"
   ]
  },
  {
   "cell_type": "markdown",
   "metadata": {},
   "source": [
    "## Random Number with Different Distribution and Plotting the Histogram"
   ]
  },
  {
   "cell_type": "code",
   "execution_count": 6,
   "metadata": {
    "collapsed": false
   },
   "outputs": [
    {
     "name": "stdout",
     "output_type": "stream",
     "text": [
      "n (normalized height, or probability density): [  4.54767250e-05   4.54767250e-05   1.81906900e-04   2.27383625e-04\n",
      "   3.63813800e-04   6.82150875e-04   6.36674150e-04   1.22787158e-03\n",
      "   1.77359228e-03   2.59217333e-03   3.54718455e-03   4.54767250e-03\n",
      "   5.45720700e-03   7.36722945e-03   9.50463553e-03   1.01867864e-02\n",
      "   1.40977848e-02   1.60078072e-02   1.93276081e-02   1.94640383e-02\n",
      "   2.08738168e-02   2.48757686e-02   2.41936177e-02   2.59217333e-02\n",
      "   2.46938617e-02   2.61945936e-02   2.81046161e-02   2.33750367e-02\n",
      "   2.21926418e-02   1.98278521e-02   1.91002245e-02   1.50982727e-02\n",
      "   1.33246804e-02   1.00958330e-02   9.59558898e-03   8.77700793e-03\n",
      "   5.82102080e-03   3.95647508e-03   3.04694058e-03   2.59217333e-03\n",
      "   2.13740608e-03   1.27334830e-03   9.09534500e-04   8.64057775e-04\n",
      "   1.81906900e-04   2.27383625e-04   0.00000000e+00   9.09534500e-05\n",
      "   9.09534500e-05   4.54767250e-05] 50\n",
      "bins (locations of bin edges): [  46.026809     48.22573603   50.42466306   52.62359009   54.82251713\n",
      "   57.02144416   59.22037119   61.41929823   63.61822526   65.81715229\n",
      "   68.01607933   70.21500636   72.41393339   74.61286043   76.81178746\n",
      "   79.01071449   81.20964153   83.40856856   85.60749559   87.80642263\n",
      "   90.00534966   92.20427669   94.40320373   96.60213076   98.80105779\n",
      "  100.99998483  103.19891186  105.39783889  107.59676592  109.79569296\n",
      "  111.99461999  114.19354702  116.39247406  118.59140109  120.79032812\n",
      "  122.98925516  125.18818219  127.38710922  129.58603626  131.78496329\n",
      "  133.98389032  136.18281736  138.38174439  140.58067142  142.77959846\n",
      "  144.97852549  147.17745252  149.37637956  151.57530659  153.77423362\n",
      "  155.97316065] 51\n"
     ]
    },
    {
     "data": {
      "image/png": "[encoded data removed]",
      "text/plain": [
       "<matplotlib.figure.Figure at 0x10c1238d0>"
      ]
     },
     "metadata": {},
     "output_type": "display_data"
    }
   ],
   "source": [
    "%matplotlib inline\n",
    "'''Histogram Plot'''\n",
    "\n",
    "import numpy as np\n",
    "import matplotlib.pyplot as plt\n",
    "\n",
    "avg = 100.\n",
    "sig = 15.\n",
    "\n",
    "num_pts = 10000\n",
    "\n",
    "x = np.random.randn(num_pts)*sig + avg\n",
    "fig = plt.figure()\n",
    "ax = fig.add_subplot(111)\n",
    "\n",
    "# the histogram of the data\n",
    "\n",
    "Nbins = 50\n",
    "# normed=1: the total area adds up to 1; # alpha: level of tranparency.\n",
    "n, bins, patches = ax.hist(x, Nbins, normed=1, facecolor='green', alpha=.5)\n",
    "print 'n (normalized height, or probability density):', n, len(n)\n",
    "print 'bins (locations of bin edges):', bins, len(bins)\n",
    "\n",
    "# hist uses np.histogram under the hood to create 'n' and 'bins'.\n",
    "# np.histogram returns the bin edges, so there will be Nbin probability\n",
    "# density values (n), Nbin+1 bin edges (bins), and finally, Nbin patches.\n",
    "\n",
    "ax.set_xlabel('IQ')\n",
    "ax.set_ylabel('Probability')\n",
    "# The is Latex, a typsetting \"program\".\n",
    "ax.set_title(r'$\\mathrm{Histogram\\ of\\ IQ:}\\ \\mu=100,\\ \\sigma=15$')\n",
    "# Pay attention to how the x and y axis limits are set.\n",
    "ax.set_xlim(0, 200)\n",
    "ax.set_ylim(0, 0.03)\n",
    "#ax.grid(True)\n",
    "\n",
    "plt.show()\n"
   ]
  },
  {
   "cell_type": "markdown",
   "metadata": {},
   "source": [
    "## 1. What percentage of the population have IQ 1-sigma, 2-sigma, and 3-sigma above the mean?\n",
    "## 2. Verify your number using the Gaussian random variables generated above.\n",
    "## 3. What's the probability of finding someone with an IQ of 180?  How many such people are there in the US?"
   ]
  },
  {
   "cell_type": "markdown",
   "metadata": {},
   "source": [
    "# 1."
   ]
  },
  {
   "cell_type": "code",
   "execution_count": 10,
   "metadata": {
    "collapsed": false,
    "scrolled": true
   },
   "outputs": [
    {
     "name": "stdout",
     "output_type": "stream",
     "text": [
      "15.865 2.275 0.135\n"
     ]
    }
   ],
   "source": [
    "percent_sig1 = (100-68.27)/2\n",
    "percent_sig2 = (100-95.45)/2\n",
    "percent_sig3 = (100-99.73)/2\n",
    "print percent_sig1,percent_sig2,percent_sig3"
   ]
  },
  {
   "cell_type": "markdown",
   "metadata": {},
   "source": [
    "# 2."
   ]
  },
  {
   "cell_type": "code",
   "execution_count": 12,
   "metadata": {
    "collapsed": false
   },
   "outputs": [
    {
     "name": "stdout",
     "output_type": "stream",
     "text": [
      "15.98\n",
      "2.37\n",
      "0.1\n"
     ]
    }
   ],
   "source": [
    "# x = np.linspace(1, 10, 10)*3\n",
    "# ind1 = x>15\n",
    "# largex = x[ind1]\n",
    "\n",
    "# ind2 = np.where(x>15)\n",
    "\n",
    "# print ind1\n",
    "# print ind2\n",
    "# print x[ind1]\n",
    "# print x[ind2]\n",
    "\n",
    "ind1 = np.where(x>115)\n",
    "ind2 = np.where(x>130)\n",
    "ind3 = np.where(x>145)\n",
    "\n",
    "print len(ind1[0])/100.\n",
    "print len(ind2[0])/100.\n",
    "print len(ind3[0])/100."
   ]
  },
  {
   "cell_type": "markdown",
   "metadata": {},
   "source": [
    "# 3. In Howard's notebook"
   ]
  },
  {
   "cell_type": "markdown",
   "metadata": {},
   "source": [
    "## Plot a histogram for 10000 number generated with np.random.rand()"
   ]
  },
  {
   "cell_type": "code",
   "execution_count": 23,
   "metadata": {
    "collapsed": false
   },
   "outputs": [
    {
     "data": {
      "image/png": "[encoded data removed]",
      "text/plain": [
       "<matplotlib.figure.Figure at 0x10c623710>"
      ]
     },
     "metadata": {},
     "output_type": "display_data"
    }
   ],
   "source": [
    "%matplotlib inline\n",
    "'''Histogram Plot'''\n",
    "\n",
    "import numpy as np\n",
    "import matplotlib.pyplot as plt\n",
    "\n",
    "num_pts = 10000\n",
    "\n",
    "np.random.seed(12)\n",
    "x = np.random.poisson(5, num_pts)\n",
    "fig = plt.figure()\n",
    "ax = fig.add_subplot(111)\n",
    "\n",
    "# the histogram of the data\n",
    "\n",
    "Nbins = 50\n",
    "# normed=1: the total area adds up to 1; # alpha: level of tranparency.\n",
    "n, bins, patches = ax.hist(x, Nbins, normed=1, facecolor='green', alpha=.5)\n",
    "# print 'n (normalized height, or probability density):', n, len(n)\n",
    "# print 'bins (locations of bin edges):', bins, len(bins)\n",
    "\n",
    "# hist uses np.histogram under the hood to create 'n' and 'bins'.\n",
    "# np.histogram returns the bin edges, so there will be Nbin probability\n",
    "# density values (n), Nbin+1 bin edges (bins), and finally, Nbin patches.\n",
    "\n",
    "# ax.set_xlabel('IQ')\n",
    "# ax.set_ylabel('Probability')\n",
    "# The is Latex, a typsetting \"program\".\n",
    "# ax.set_title(r'$\\mathrm{Histogram\\ of\\ IQ:}\\ \\mu=100,\\ \\sigma=15$')\n",
    "# Pay attention to how the x and y axis limits are set.\n",
    "\n",
    "\n",
    "#ax.grid(True)\n",
    "\n",
    "plt.show()\n"
   ]
  },
  {
   "cell_type": "markdown",
   "metadata": {},
   "source": [
    "## Integration"
   ]
  },
  {
   "cell_type": "code",
   "execution_count": 47,
   "metadata": {
    "collapsed": false
   },
   "outputs": [
    {
     "name": "stdout",
     "output_type": "stream",
     "text": [
      "0.54\n"
     ]
    },
    {
     "data": {
      "image/png": "[encoded data removed]",
      "text/plain": [
       "<matplotlib.figure.Figure at 0x10d5a2310>"
      ]
     },
     "metadata": {},
     "output_type": "display_data"
    }
   ],
   "source": [
    "import numpy as np\n",
    "import matplotlib.pyplot as plt\n",
    "\n",
    "xrand = np.random.rand(100)\n",
    "yrand = np.random.rand(100)\n",
    "x = np.linspace(0, 1, 1000)\n",
    "y = x\n",
    "\n",
    "ind = np.where(xrand > yrand)\n",
    "print len(ind[0])/100.\n",
    "\n",
    "\n",
    "plt.plot(x,y)\n",
    "plt.scatter(xrand, yrand)\n",
    "\n",
    "plt.show()"
   ]
  },
  {
   "cell_type": "markdown",
   "metadata": {},
   "source": [
    "## Find the value of pi with MC"
   ]
  },
  {
   "cell_type": "code",
   "execution_count": 75,
   "metadata": {
    "collapsed": false
   },
   "outputs": [
    {
     "name": "stdout",
     "output_type": "stream",
     "text": [
      "3.2\n"
     ]
    },
    {
     "data": {
      "image/png": "[encoded data removed]",
      "text/plain": [
       "<matplotlib.figure.Figure at 0x10cb75d90>"
      ]
     },
     "metadata": {},
     "output_type": "display_data"
    }
   ],
   "source": [
    "import numpy as np\n",
    "import matplotlib.pyplot as plt\n",
    "\n",
    "xrand = np.random.rand(100)\n",
    "yrand = np.random.rand(100)\n",
    "x = np.linspace(0, 1, 100)\n",
    "y = (.25 - (x-.5)**2)**(.5) + .5\n",
    "\n",
    "ind = np.where(((xrand-.5)**2 + (yrand-.5)**2) < .25)\n",
    "print len(ind[0])*4/100.\n",
    "\n",
    "plt.scatter(xrand,yrand)\n",
    "plt.plot(x, y)\n",
    "plt.show()"
   ]
  },
  {
   "cell_type": "markdown",
   "metadata": {
    "collapsed": false
   },
   "source": [
    "## End of wk8-2"
   ]
  }
 ],
 "metadata": {
  "kernelspec": {
   "display_name": "Python 2",
   "language": "python",
   "name": "python2"
  },
  "language_info": {
   "codemirror_mode": {
    "name": "ipython",
    "version": 2
   },
   "file_extension": ".py",
   "mimetype": "text/x-python",
   "name": "python",
   "nbconvert_exporter": "python",
   "pygments_lexer": "ipython2",
   "version": "2.7.9"
  }
 },
 "nbformat": 4,
 "nbformat_minor": 0
}

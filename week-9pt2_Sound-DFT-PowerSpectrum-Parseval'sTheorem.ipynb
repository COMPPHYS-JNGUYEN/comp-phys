{
 "cells": [
  {
   "cell_type": "markdown",
   "metadata": {},
   "source": [
    "# Topics\n",
    "\n",
    "## 1. Sound in Python -- \"Jungle Sounds\" Breakout\n",
    "## 2. DFT and Power Spectrum -- Lecture Slides\n",
    "## 3. DFT and Power Spectrum of synthesized sound signal  (Parseval's Theorem! -- Can use this as a doctest that checks this equality when calculating power spectrum)\n"
   ]
  },
  {
   "cell_type": "code",
   "execution_count": 2,
   "metadata": {
    "collapsed": false
   },
   "outputs": [
    {
     "ename": "IOError",
     "evalue": "[Errno 2] No such file or directory: 'lion_roar.wav'",
     "output_type": "error",
     "traceback": [
      "\u001b[1;31m---------------------------------------------------------------------------\u001b[0m",
      "\u001b[1;31mIOError\u001b[0m                                   Traceback (most recent call last)",
      "\u001b[1;32m<ipython-input-2-3dc64ed85710>\u001b[0m in \u001b[0;36m<module>\u001b[1;34m()\u001b[0m\n\u001b[0;32m     46\u001b[0m     \u001b[1;32mreturn\u001b[0m\u001b[1;33m\u001b[0m\u001b[0m\n\u001b[0;32m     47\u001b[0m \u001b[1;33m\u001b[0m\u001b[0m\n\u001b[1;32m---> 48\u001b[1;33m \u001b[0mrate_lion\u001b[0m\u001b[1;33m,\u001b[0m \u001b[0mlion\u001b[0m \u001b[1;33m=\u001b[0m \u001b[0mread\u001b[0m\u001b[1;33m(\u001b[0m\u001b[1;34m\"lion_roar.wav\"\u001b[0m\u001b[1;33m)\u001b[0m\u001b[1;33m\u001b[0m\u001b[0m\n\u001b[0m\u001b[0;32m     49\u001b[0m \u001b[0mrate_peacock\u001b[0m\u001b[1;33m,\u001b[0m \u001b[0mpeacock\u001b[0m \u001b[1;33m=\u001b[0m \u001b[0mread\u001b[0m\u001b[1;33m(\u001b[0m\u001b[1;34m\"PeacockCall.wav\"\u001b[0m\u001b[1;33m)\u001b[0m\u001b[1;33m\u001b[0m\u001b[0m\n\u001b[0;32m     50\u001b[0m \u001b[0mrate_zebra\u001b[0m\u001b[1;33m,\u001b[0m \u001b[0mzebra\u001b[0m \u001b[1;33m=\u001b[0m \u001b[0mread\u001b[0m\u001b[1;33m(\u001b[0m\u001b[1;34m\"Zebra.wav\"\u001b[0m\u001b[1;33m)\u001b[0m\u001b[1;33m\u001b[0m\u001b[0m\n",
      "\u001b[1;32mc:\\users\\jqngu\\appdata\\local\\enthought\\canopy\\user\\lib\\site-packages\\scipy\\io\\wavfile.py\u001b[0m in \u001b[0;36mread\u001b[1;34m(filename, mmap)\u001b[0m\n\u001b[0;32m    149\u001b[0m         \u001b[0mmmap\u001b[0m \u001b[1;33m=\u001b[0m \u001b[0mFalse\u001b[0m\u001b[1;33m\u001b[0m\u001b[0m\n\u001b[0;32m    150\u001b[0m     \u001b[1;32melse\u001b[0m\u001b[1;33m:\u001b[0m\u001b[1;33m\u001b[0m\u001b[0m\n\u001b[1;32m--> 151\u001b[1;33m         \u001b[0mfid\u001b[0m \u001b[1;33m=\u001b[0m \u001b[0mopen\u001b[0m\u001b[1;33m(\u001b[0m\u001b[0mfilename\u001b[0m\u001b[1;33m,\u001b[0m \u001b[1;34m'rb'\u001b[0m\u001b[1;33m)\u001b[0m\u001b[1;33m\u001b[0m\u001b[0m\n\u001b[0m\u001b[0;32m    152\u001b[0m \u001b[1;33m\u001b[0m\u001b[0m\n\u001b[0;32m    153\u001b[0m     \u001b[1;32mtry\u001b[0m\u001b[1;33m:\u001b[0m\u001b[1;33m\u001b[0m\u001b[0m\n",
      "\u001b[1;31mIOError\u001b[0m: [Errno 2] No such file or directory: 'lion_roar.wav'"
     ]
    }
   ],
   "source": [
    "'''Breakout solution\n",
    "\n",
    "Jungle Sounds \n",
    "\n",
    "If one hears what sounds like noise: very likely it's sound saturation: sound level exceeds 2^16-1;\n",
    "a very likely scenario for the combined sound.\n",
    "\n",
    "For different sampling rates, I bring all sampling rates to the lowest one.\n",
    "\n",
    "'''\n",
    "import numpy as np\n",
    "from scipy.io.wavfile import read\n",
    "\n",
    "\n",
    "def reformat_sound(play_rate, duration, sound_rate, sound):    \n",
    "    '''\n",
    "    This function brings all (higher) sampling rates down to play_rate.\n",
    "    \n",
    "    It also turns stereo channels into mono-channel.\n",
    "    \n",
    "    '''\n",
    "    if sound_rate < play_rate:\n",
    "        raise Exception(\"Sample rate is lower than requird play rate.\")        \n",
    "    sound_dur = len(sound)/sound_rate\n",
    "    if sound_dur < duration:\n",
    "        raise Exception(\"Sound doesn't have a long enough duration.\")\n",
    "\n",
    "    # make it mono-channel and with integer-second length\n",
    "    if len(sound.shape) > 1:\n",
    "        sound = sound[:(len(sound)/rate_kookab) * rate_kookab, 0]\n",
    "        \n",
    "    if sound_rate > play_rate:\n",
    "        sound_dtype = sound.dtype\n",
    "        binsize = sound_rate/play_rate\n",
    "        sound = sound.reshape(len(sound)/binsize, binsize).mean(axis = 1).astype(sound_dtype)\n",
    "\n",
    "    return sound[:duration*play_rate]\n",
    "\n",
    "\n",
    "def playsound(rate, sndarr):\n",
    "    from scipy.io.wavfile import write\n",
    "    import os\n",
    "    write('tmp.wav', rate, sndarr)\n",
    "    os.system(\"afplay tmp.wav\") \n",
    "    os.system(\"rm tmp.wav\") \n",
    "    return\n",
    "\n",
    "rate_lion, lion = read(\"lion_roar.wav\")\n",
    "rate_peacock, peacock = read(\"PeacockCall.wav\")\n",
    "rate_zebra, zebra = read(\"Zebra.wav\")\n",
    "rate_kookab, kookab = read(\"Laughing_kookaburra_birds.wav\")\n",
    "\n",
    "print 'lion', rate_lion, len(lion)/rate_lion\n",
    "print 'peacock', rate_peacock, len(peacock)/rate_peacock\n",
    "print 'zebra', rate_zebra, len(zebra)/rate_zebra\n",
    "print 'kookab', rate_kookab, len(kookab)/rate_kookab\n",
    "\n",
    "play_rate = min([rate_lion, rate_peacock, rate_zebra, rate_kookab])\n",
    "duration = 6\n",
    "\n",
    "kookab = reformat_sound(play_rate, duration, rate_kookab, kookab)\n",
    "peacock = reformat_sound(play_rate, duration, rate_peacock, peacock)\n",
    "zebra = reformat_sound(play_rate, duration, rate_zebra, zebra)\n",
    "lion = reformat_sound(play_rate, duration, rate_lion, lion)\n",
    "\n",
    "\n",
    "# peacock getting closer -- inverse square law!\n",
    "start_level = 1000\n",
    "snd_level = np.linspace(start_level, len(peacock) + start_level, len(peacock))**2\n",
    "snd_level /= snd_level.max()\n",
    "peacock = np.int16(peacock * snd_level)\n",
    "\n",
    "comb_snd = lion/6 + zebra/6 + kookab/6 + peacock/4\n",
    "# Note: comb_snd = lion/4 + zebra/4 + kookab/4 + peacock/4\n",
    "# is very different from comb_snd = (lion + zebra + kookab + peacock)/4\n",
    "# Doing it the second way may very likely exceed the limit of 65535, then you lose the sigal!\n",
    "\n",
    "playsound(play_rate, comb_snd)"
   ]
  },
  {
   "cell_type": "code",
   "execution_count": 3,
   "metadata": {
    "collapsed": false
   },
   "outputs": [
    {
     "name": "stdout",
     "output_type": "stream",
     "text": [
      "(1+2j)\n",
      "(1-2j)\n",
      "(5+0j)\n"
     ]
    }
   ],
   "source": [
    "'''Complex numbers in numpy'''\n",
    "\n",
    "import numpy as np\n",
    "a = 1 + 2j\n",
    "b = np.conj(a)\n",
    "c = np.conj(b)\n",
    "print b.conj()\n",
    "print c.conj()\n",
    "print b*b.conj()"
   ]
  },
  {
   "cell_type": "markdown",
   "metadata": {},
   "source": [
    "## In what follows:\n",
    "## tone_data: y_k\n",
    "## ft = np.fft(tone_data): Y_n"
   ]
  },
  {
   "cell_type": "code",
   "execution_count": 3,
   "metadata": {
    "collapsed": false
   },
   "outputs": [
    {
     "name": "stdout",
     "output_type": "stream",
     "text": [
      "Zero freqeuncy and zero frequence term 0.0 0j\n",
      "Mean of signal 0.0\n",
      "Maximum frequency 22050.0\n",
      "Nyquist frequency (-920+3.64366314898e-11j)\n",
      "Nyquist term (note its reality) -22050.0\n",
      "Freq before and after the Nyquist frequency 22049.5 -22049.5\n",
      "Terms before and after the Nyquist term (note they're cc of each other, but not perfectly so) (-1025.2850533+0.0365195917886j) (-1025.2850533-0.0365195917345j)\n",
      "N: 88200\n",
      "Number of postive frequency terms (expect N/2): 44099\n",
      "Number of negative frequency terms (expect N/2 - 1): 44100\n"
     ]
    }
   ],
   "source": [
    "%matplotlib inline\n",
    "'''\n",
    "\n",
    "fftfreg\n",
    "\n",
    "from http://docs.scipy.org/doc/numpy/reference/generated/numpy.fft.fftfreq.html\n",
    "\n",
    "numpy.fft.fftfreq(n, d=1.0)[source]\n",
    "Return the Discrete Fourier Transform sample frequencies.\n",
    "\n",
    "The returned float array f contains the frequency bin centers in cycles per unit of the sample spacing (with zero at the start). For instance, if the sample spacing is in seconds, then the frequency unit is cycles/second.\n",
    "\n",
    "Given a window length n and a sample spacing d:\n",
    "\n",
    "f = [0, 1, ...,   n/2-1,     -n/2, ..., -1] / (d*n)   if n is even\n",
    "f = [0, 1, ..., (n-1)/2, -(n-1)/2, ..., -1] / (d*n)   if n is odd\n",
    "\n",
    "\n",
    "Parameters:\n",
    "n : int\n",
    "Window length.\n",
    "d : scalar, optional\n",
    "Sample spacing (inverse of the sampling rate). Defaults to 1.\n",
    "Returns:\n",
    "f : ndarray\n",
    "Array of length n containing the sample frequencies.\n",
    "\n",
    "\n",
    "\n",
    "PAY ATTENTION TO THE MAXIMUM FREQUENCEY (NYQUIST FREQUENCY): \n",
    "IT IS *NOT* 1/sample_rate, BUT (1/2)(1/sample_rate)!!\n",
    "\n",
    "\n",
    "'''\n",
    "\n",
    "\n",
    "import matplotlib.pyplot as plt\n",
    "import numpy as np\n",
    "\n",
    "sample_rate = 44100.\n",
    "\n",
    "duration = 2.\n",
    "\n",
    "\n",
    "f = 440.\n",
    "time_pts = np.linspace(0, duration, duration*sample_rate)\n",
    "\n",
    "amp = 2**15\n",
    "tone_data = np.int16(amp*np.sin(np.pi*2*f*time_pts))\n",
    "\n",
    "if len(tone_data)%2:\n",
    "    print \"WARNING: length of data is NOT even.\"\n",
    "    print'\\a'\n",
    "\n",
    "\n",
    "playsound(sample_rate, tone_data)\n",
    "\n",
    "tone_data = np.float64(tone_data)\n",
    "\n",
    "ft = np.fft.fft(tone_data)\n",
    "\n",
    "freq = np.fft.fftfreq(tone_data.shape[0], d = 1/sample_rate)\n",
    "\n",
    "#This shows the zero-freq term is the average, and is therefore always real for real data\n",
    "print 'Zero freqeuncy and zero frequence term', freq[0], ft[0]\n",
    "print 'Mean of signal', tone_data.mean()\n",
    "\n",
    "# Nyquist Frequency\n",
    "print 'Maximum frequency', np.abs(freq).max()\n",
    "print 'Nyquist frequency', ft[len(tone_data)/2]\n",
    "print 'Nyquist term (note its reality)', freq[len(tone_data)/2]\n",
    "print 'Freq before and after the Nyquist frequency', freq[len(tone_data)/2-1], freq[len(tone_data)/2+1]\n",
    "print \"Terms before and after the Nyquist term (note they're cc of each other, but not perfectly so)\", \\\n",
    "      ft[len(tone_data)/2-1], ft[len(tone_data)/2+1]\n",
    "\n",
    "\n",
    "# numpy documentation is wrong:\n",
    "print \"N:\", len(tone_data)\n",
    "print \"Number of postive frequency terms (expect N/2):\", np.sum(freq > 0)\n",
    "print \"Number of negative frequency terms (expect N/2 - 1):\", np.sum(freq < 0)\n"
   ]
  },
  {
   "cell_type": "markdown",
   "metadata": {},
   "source": [
    "## A[0] contains the zero-frequency term (the mean of the signal), which is always purely real for real inputs. Then A[1:n/2-1] contains the positive-frequency terms, and A[n/2:] contains the negative-frequency terms,  in order of decreasingly negative frequency. For an even number of input points, A[n/2] represents both positive and negative Nyquist frequency, and is also purely real for real input.\n",
    "\n",
    "Modified from: http://docs.scipy.org/doc/numpy/reference/routines.fft.html\n"
   ]
  },
  {
   "cell_type": "code",
   "execution_count": 4,
   "metadata": {
    "collapsed": false
   },
   "outputs": [
    {
     "data": {
      "image/png": "[encoded data removed]",
      "text/plain": [
       "<matplotlib.figure.Figure at 0x92592e8>"
      ]
     },
     "metadata": {},
     "output_type": "display_data"
    },
    {
     "data": {
      "image/png": "[encoded data removed]",
      "text/plain": [
       "<matplotlib.figure.Figure at 0x92fac88>"
      ]
     },
     "metadata": {},
     "output_type": "display_data"
    }
   ],
   "source": [
    "'''\n",
    "Real part is not exactly zero due to numerical inaccuracy \n",
    "-- it can be reduced by increasing sampling rate; try sample_rate = 1048576. in the above cell.\n",
    "\n",
    "''' \n",
    "\n",
    "# illustrate how freq is arranged before argsort, and explain the purpose of np.argsort()\n",
    "# idx = np.argsort(freq)\n",
    "# sp = sp[idx]\n",
    "# freq = freq[idx]\n",
    "\n",
    "\n",
    "plt.figure()\n",
    "plt.plot(freq, ft.real, 'b-')\n",
    "#plt.xlim([420, 460])\n",
    "plt.xlim([-1000, 1000])\n",
    "plt.figure()\n",
    "plt.plot(freq, ft.imag, 'g-')\n",
    "#plt.xlim([420, 460])\n",
    "plt.xlim([-1000, 1000])\n",
    "plt.show()\n"
   ]
  },
  {
   "cell_type": "markdown",
   "metadata": {},
   "source": [
    "## Why are there a negative frequency and a positive frequency?\n",
    "\n",
    "## It's simply Euler's Forumla:\n",
    "## sin(2πft) = [exp(2iπft) - exp(-2iπft)]/2i"
   ]
  },
  {
   "cell_type": "code",
   "execution_count": 5,
   "metadata": {
    "collapsed": false
   },
   "outputs": [
    {
     "data": {
      "image/png": "[encoded data removed]",
      "text/plain": [
       "<matplotlib.figure.Figure at 0x910ca90>"
      ]
     },
     "metadata": {},
     "output_type": "display_data"
    },
    {
     "data": {
      "image/png": "[encoded data removed]",
      "text/plain": [
       "<matplotlib.figure.Figure at 0x9274e10>"
      ]
     },
     "metadata": {},
     "output_type": "display_data"
    }
   ],
   "source": [
    "%matplotlib inline\n",
    "'''\n",
    "\n",
    "Before you run this -- what do you expect to get?\n",
    "\n",
    "Here the imaginary part is not exactly zero due to numerical inaccuracy \n",
    "-- it can be reduced by increasing sampling rate; try sample_rate = 1048576.  (2^20)\n",
    "\n",
    "'''\n",
    "\n",
    "import matplotlib.pyplot as plt\n",
    "\n",
    "sample_rate = 44100.\n",
    "\n",
    "duration = 2.\n",
    "\n",
    "\n",
    "f = 440.\n",
    "time_pts = np.linspace(0, duration, duration*sample_rate)\n",
    "\n",
    "amp = 2**15\n",
    "tone_data = np.int16(amp*np.cos(np.pi*2*f*time_pts))\n",
    "\n",
    "playsound(sample_rate, tone_data)\n",
    "\n",
    "\n",
    "ft = np.fft.fft(tone_data)\n",
    "\n",
    "freq = np.fft.fftfreq(tone_data.shape[0], d = 1/sample_rate)\n",
    "\n",
    "plt.figure()\n",
    "plt.plot(freq, ft.real, 'b-')\n",
    "plt.xlim([-1000, 1000])\n",
    "plt.figure()\n",
    "plt.plot(freq, ft.imag, 'g-')\n",
    "plt.xlim([-1000, 1000])\n",
    "plt.show()\n",
    "\n"
   ]
  },
  {
   "cell_type": "code",
   "execution_count": 6,
   "metadata": {
    "collapsed": false
   },
   "outputs": [
    {
     "name": "stdout",
     "output_type": "stream",
     "text": [
      "N = 88200\n",
      "Power spectrum summed (536843840.154+0j)\n",
      "Sum of data squared divided by N: 153\n",
      "Sum of data squared divided by N: 5.36844e+08\n"
     ]
    },
    {
     "data": {
      "image/png": "[encoded data removed]",
      "text/plain": [
       "<matplotlib.figure.Figure at 0x9302c88>"
      ]
     },
     "metadata": {},
     "output_type": "display_data"
    }
   ],
   "source": [
    "%matplotlib inline\n",
    "'''\n",
    "\n",
    "Parseval's Theorem and Conservation of Energy.\n",
    "\n",
    "'''\n",
    "\n",
    "import matplotlib.pyplot as plt\n",
    "\n",
    "sample_rate = 44100.\n",
    "\n",
    "duration = 2.\n",
    "\n",
    "\n",
    "f = 440.\n",
    "time_pts = np.linspace(0, duration, duration*sample_rate)\n",
    "\n",
    "amp = 2**15\n",
    "tone_data = np.int16(amp*np.sin(np.pi*2*f*time_pts))\n",
    "\n",
    "playsound(sample_rate, tone_data)\n",
    "\n",
    "\n",
    "ft = np.fft.fft(tone_data)\n",
    "freq = np.fft.fftfreq(tone_data.shape[0], d = 1/sample_rate)\n",
    "\n",
    "\n",
    "# Power spectrum\n",
    "# checking Persarvel's Theorem\n",
    "# B/c of the way np.fft is defined, the power spectrum is (|ft|/N)^2\n",
    "N = len(tone_data)\n",
    "print 'N =', N\n",
    "pwr = (ft * ft.conj())/N**2\n",
    "\n",
    "if pwr.imag.max() > 1e-15:\n",
    "    raise KeyboardInterrupt('Power is not real...something is wrong!!')\n",
    "\n",
    "plt.figure()\n",
    "plt.plot(freq, pwr.real, 'k-')\n",
    "plt.xlim([-1000, 1000])\n",
    "\n",
    "\n",
    "print \"Power spectrum summed\", pwr.sum()\n",
    "print 'Sum of data squared divided by N: {:g}'.format((tone_data**2).sum()/N)\n",
    "print 'Sum of data squared divided by N: {:g}'.format((tone_data.astype(np.float)**2).sum()/N)\n",
    "\n"
   ]
  },
  {
   "cell_type": "code",
   "execution_count": 7,
   "metadata": {
    "collapsed": false
   },
   "outputs": [
    {
     "name": "stdout",
     "output_type": "stream",
     "text": [
      "largest int16: -1\n",
      "(largest int16) + 1: 1\n"
     ]
    }
   ],
   "source": [
    "'''\n",
    "Largest int16\n",
    "\n",
    "'''\n",
    "\n",
    "import numpy as np\n",
    "\n",
    "#2^16 - 1\n",
    "a = np.int16(65535)\n",
    "b = np.int16(a + 2)\n",
    "print 'largest int16:', a\n",
    "print '(largest int16) + 1:', b"
   ]
  },
  {
   "cell_type": "code",
   "execution_count": 8,
   "metadata": {
    "collapsed": false
   },
   "outputs": [
    {
     "data": {
      "image/png": "[encoded data removed]",
      "text/plain": [
       "<matplotlib.figure.Figure at 0x9280400>"
      ]
     },
     "metadata": {},
     "output_type": "display_data"
    },
    {
     "name": "stdout",
     "output_type": "stream",
     "text": [
      "len(Pxx_den) 44101\n",
      "Power spectral density integrated: 0\n"
     ]
    }
   ],
   "source": [
    "'''\n",
    "\n",
    "Scipy's ready-made way of computing the (one-sided) power spectral density.\n",
    "\n",
    "'''\n",
    "\n",
    "\n",
    "from scipy import signal\n",
    "f, Pxx_den = signal.periodogram(tone_data, sample_rate)\n",
    "df = 1./duration\n",
    "plt.figure()\n",
    "plt.plot(f, Pxx_den)\n",
    "plt.xlim([0, 1000])\n",
    "plt.show()\n",
    "# This should be N/2 + 1 (b/c of the zero-frequency term)\n",
    "print 'len(Pxx_den)', len(Pxx_den)\n",
    "# sum of Pxx_den * df\n",
    "print 'Power spectral density integrated: {:g}'.format((Pxx_den*df).sum())\n",
    "\n",
    "plt.show()"
   ]
  },
  {
   "cell_type": "code",
   "execution_count": 9,
   "metadata": {
    "collapsed": false
   },
   "outputs": [
    {
     "data": {
      "image/png": "[encoded data removed]",
      "text/plain": [
       "<matplotlib.figure.Figure at 0x91e7c88>"
      ]
     },
     "metadata": {},
     "output_type": "display_data"
    },
    {
     "data": {
      "image/png": "[encoded data removed]",
      "text/plain": [
       "<matplotlib.figure.Figure at 0xa4bb630>"
      ]
     },
     "metadata": {},
     "output_type": "display_data"
    },
    {
     "data": {
      "image/png": "[encoded data removed]",
      "text/plain": [
       "<matplotlib.figure.Figure at 0xae1e390>"
      ]
     },
     "metadata": {},
     "output_type": "display_data"
    },
    {
     "name": "stdout",
     "output_type": "stream",
     "text": [
      "N = 88200\n",
      "Power spectrum summed:1.34196e+08\n",
      "Sum of data squared divided by N:1.34196e+08\n"
     ]
    },
    {
     "data": {
      "image/png": "[encoded data removed]",
      "text/plain": [
       "<matplotlib.figure.Figure at 0xafcfb70>"
      ]
     },
     "metadata": {},
     "output_type": "display_data"
    },
    {
     "name": "stdout",
     "output_type": "stream",
     "text": [
      "len(Pxx_den) 44101\n",
      "Power spectral density integrated: 0\n"
     ]
    }
   ],
   "source": [
    "%matplotlib inline\n",
    "'''\n",
    "\n",
    "Two-frequency signal\n",
    "\n",
    "'''\n",
    "\n",
    "import matplotlib.pyplot as plt\n",
    "import numpy as np\n",
    "from scipy import signal\n",
    "\n",
    "sample_rate = 44100.\n",
    "#The following sample_rate is much better in showing the fft should be purely imaginary.\n",
    "#sample_rate = 1048576.\n",
    "\n",
    "duration = 2.\n",
    "amp = 2**14\n",
    "\n",
    "f = 440.\n",
    "time_pts = np.linspace(0, duration, duration*sample_rate)\n",
    "\n",
    "\n",
    "tone_data1 = np.int16(amp*np.sin(np.pi*2*f*time_pts))\n",
    "\n",
    "\n",
    "\n",
    "f = 440.*2\n",
    "time_pts = np.linspace(0, duration, duration*sample_rate)\n",
    "tone_data2 = np.int16(amp*np.sin(np.pi*2*f*time_pts))\n",
    "\n",
    "#tone_data =  np.int16( tone_data1*(1/np.sqrt(2)) + tone_data2*(1/np.sqrt(2)) )\n",
    "tone_data =  np.int16( tone_data1*(2/np.sqrt(5)) + tone_data2*(1/np.sqrt(5)) )\n",
    "\n",
    "\n",
    "playsound(sample_rate, tone_data)\n",
    "\n",
    "\n",
    "ft = np.fft.fft(tone_data)\n",
    "freq = np.fft.fftfreq(tone_data.shape[0], d = 1/sample_rate)\n",
    "\n",
    "\n",
    "plt.figure()\n",
    "plt.plot(freq, ft.real, 'b-')\n",
    "plt.xlim([-1000, 1000])\n",
    "plt.figure()\n",
    "plt.plot(freq, ft.imag, 'g-')\n",
    "plt.xlim([-1000, 1000])\n",
    "plt.show()\n",
    "\n",
    "\n",
    "ft_sq = ft * ft.conj()\n",
    "if ft_sq.imag.max() > 1e-15:\n",
    "    raise KeyboardInterrupt('Power is not real...something is wrong!!')\n",
    "\n",
    "plt.figure()\n",
    "plt.plot(freq, ft_sq.real, 'k-')\n",
    "plt.xlim([-1000, 1000])\n",
    "plt.show()\n",
    "\n",
    "# checking Persarvel's Theorem\n",
    "# B/c of the way np.fft is defined, the power spectrum is |ft|^2/N^2\n",
    "N = len(tone_data)\n",
    "print 'N =', N\n",
    "pwr = ft_sq.real.sum()/N**2\n",
    "print \"Power spectrum summed:{:g}\".format(pwr.real)\n",
    "print 'Sum of data squared divided by N:{:g}'.format((tone_data.astype(np.float)**2).sum()/N)\n",
    "\n",
    "\n",
    "\n",
    "f, Pxx_den = signal.periodogram(tone_data, sample_rate)\n",
    "df = 1./duration\n",
    "plt.figure()\n",
    "plt.plot(f, Pxx_den)\n",
    "plt.xlim([0, 1000])\n",
    "plt.show()\n",
    "# This should be N/2 + 1 (b/c of the zero-frequency term)\n",
    "print 'len(Pxx_den)', len(Pxx_den)\n",
    "# sum of Pxx_den * df\n",
    "print 'Power spectral density integrated: {:g}'.format((Pxx_den*df).sum())\n",
    "\n",
    "plt.show()\n"
   ]
  },
  {
   "cell_type": "markdown",
   "metadata": {},
   "source": [
    "## Breakout: write functions get_tone() and plot_fourier().\n",
    "\n",
    "## gen_tone(f, duration, sample_rate = 44100, amp = 2**13, play_sound = False) returns the numpy array for a tone.\n",
    "\n",
    "## plot_fourier(sample_rate, signal, freq_lim = 1000.) plots the real and imaginary parts of the signal, and returns ft and freq."
   ]
  },
  {
   "cell_type": "code",
   "execution_count": 10,
   "metadata": {
    "collapsed": false
   },
   "outputs": [
    {
     "ename": "NameError",
     "evalue": "name 'gen_tone' is not defined",
     "output_type": "error",
     "traceback": [
      "\u001b[1;31m---------------------------------------------------------------------------\u001b[0m",
      "\u001b[1;31mNameError\u001b[0m                                 Traceback (most recent call last)",
      "\u001b[1;32m<ipython-input-10-0e23a3b122ae>\u001b[0m in \u001b[0;36m<module>\u001b[1;34m()\u001b[0m\n\u001b[0;32m      1\u001b[0m \u001b[0mf\u001b[0m \u001b[1;33m=\u001b[0m \u001b[1;36m440.\u001b[0m\u001b[1;33m\u001b[0m\u001b[0m\n\u001b[0;32m      2\u001b[0m \u001b[0msample_rate\u001b[0m \u001b[1;33m=\u001b[0m \u001b[1;36m44100\u001b[0m\u001b[1;33m\u001b[0m\u001b[0m\n\u001b[1;32m----> 3\u001b[1;33m \u001b[0mtone1\u001b[0m \u001b[1;33m=\u001b[0m \u001b[0mgen_tone\u001b[0m\u001b[1;33m(\u001b[0m\u001b[0mf\u001b[0m\u001b[1;33m,\u001b[0m \u001b[1;36m2.\u001b[0m\u001b[1;33m)\u001b[0m\u001b[1;33m\u001b[0m\u001b[0m\n\u001b[0m\u001b[0;32m      4\u001b[0m \u001b[0mtone2\u001b[0m \u001b[1;33m=\u001b[0m \u001b[0mgen_tone\u001b[0m\u001b[1;33m(\u001b[0m\u001b[0mf\u001b[0m\u001b[1;33m*\u001b[0m\u001b[1;36m2\u001b[0m\u001b[1;33m,\u001b[0m \u001b[1;36m2.\u001b[0m\u001b[1;33m)\u001b[0m\u001b[1;33m\u001b[0m\u001b[0m\n\u001b[0;32m      5\u001b[0m \u001b[0mtone\u001b[0m \u001b[1;33m=\u001b[0m \u001b[0mtone1\u001b[0m\u001b[1;33m/\u001b[0m\u001b[0mnp\u001b[0m\u001b[1;33m.\u001b[0m\u001b[0msqrt\u001b[0m\u001b[1;33m(\u001b[0m\u001b[1;36m2.\u001b[0m\u001b[1;33m)\u001b[0m \u001b[1;33m+\u001b[0m \u001b[0mtone2\u001b[0m\u001b[1;33m/\u001b[0m\u001b[0mnp\u001b[0m\u001b[1;33m.\u001b[0m\u001b[0msqrt\u001b[0m\u001b[1;33m(\u001b[0m\u001b[1;36m2.\u001b[0m\u001b[1;33m)\u001b[0m\u001b[1;33m\u001b[0m\u001b[0m\n",
      "\u001b[1;31mNameError\u001b[0m: name 'gen_tone' is not defined"
     ]
    }
   ],
   "source": [
    "f = 440.\n",
    "sample_rate = 44100\n",
    "tone1 = gen_tone(f, 2.)\n",
    "tone2 = gen_tone(f*2, 2.)\n",
    "tone = tone1/np.sqrt(2.) + tone2/np.sqrt(2.)\n",
    "playsound(sample_rate, tone)\n",
    "ft, freq = plot_fourier(sample_rate, tone)\n",
    "\n"
   ]
  },
  {
   "cell_type": "markdown",
   "metadata": {},
   "source": [
    "## End of week 9-2"
   ]
  }
 ],
 "metadata": {
  "kernelspec": {
   "display_name": "Python 2",
   "language": "python",
   "name": "python2"
  },
  "language_info": {
   "codemirror_mode": {
    "name": "ipython",
    "version": 2
   },
   "file_extension": ".py",
   "mimetype": "text/x-python",
   "name": "python",
   "nbconvert_exporter": "python",
   "pygments_lexer": "ipython2",
   "version": "2.7.6"
  }
 },
 "nbformat": 4,
 "nbformat_minor": 0
}
